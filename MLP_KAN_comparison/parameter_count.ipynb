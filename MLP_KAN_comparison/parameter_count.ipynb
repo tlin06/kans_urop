{
 "cells": [
  {
   "cell_type": "code",
   "execution_count": 2,
   "id": "4604d437",
   "metadata": {},
   "outputs": [],
   "source": [
    "from libraries import lib\n",
    "from libraries.NeuralStates import *\n",
    "import torch\n",
    "import torch.nn as nn\n",
    "from kan import *\n",
    "import matplotlib.pyplot as plt"
   ]
  },
  {
   "cell_type": "code",
   "execution_count": 3,
   "id": "23978177",
   "metadata": {},
   "outputs": [],
   "source": [
    "N=6"
   ]
  },
  {
   "cell_type": "code",
   "execution_count": 4,
   "id": "a5825dee",
   "metadata": {},
   "outputs": [],
   "source": [
    "layers = []\n",
    "layers.append(nn.Linear(N, 32))\n",
    "for _ in range(2):\n",
    "    layers.append(nn.Linear(32, 32))\n",
    "    layers.append(nn.SELU())\n",
    "layers.append(nn.Linear(32, 2))\n",
    "mlp_model = nn.Sequential(*layers)"
   ]
  },
  {
   "cell_type": "code",
   "execution_count": 5,
   "id": "588cbc09",
   "metadata": {},
   "outputs": [],
   "source": [
    "param_list = [n for n in mlp_model.parameters()]"
   ]
  },
  {
   "cell_type": "code",
   "execution_count": 6,
   "id": "9fc6f5db",
   "metadata": {},
   "outputs": [
    {
     "data": {
      "text/plain": [
       "8"
      ]
     },
     "execution_count": 6,
     "metadata": {},
     "output_type": "execute_result"
    }
   ],
   "source": [
    "len(param_list) # 4 layers of weights and biases"
   ]
  },
  {
   "cell_type": "code",
   "execution_count": 7,
   "id": "3972b1ff",
   "metadata": {},
   "outputs": [],
   "source": [
    "def total_params(model):\n",
    "    params = [n for n in model.parameters()]\n",
    "    total = 0\n",
    "    for vec in params:\n",
    "        shape = vec.shape\n",
    "        p = 1\n",
    "        for i in range(len(shape)):\n",
    "            p *= shape[i]\n",
    "        total += p\n",
    "    return total"
   ]
  },
  {
   "cell_type": "code",
   "execution_count": 8,
   "id": "16197075",
   "metadata": {},
   "outputs": [
    {
     "name": "stdout",
     "output_type": "stream",
     "text": [
      "torch.Size([32, 6])\n",
      "torch.Size([32])\n",
      "torch.Size([32, 32])\n",
      "torch.Size([32])\n",
      "torch.Size([32, 32])\n",
      "torch.Size([32])\n",
      "torch.Size([2, 32])\n",
      "torch.Size([2])\n"
     ]
    }
   ],
   "source": [
    "for i in range(len(param_list)):\n",
    "    print(param_list[i].shape)"
   ]
  },
  {
   "cell_type": "code",
   "execution_count": 9,
   "id": "45b13f6a",
   "metadata": {},
   "outputs": [
    {
     "name": "stdout",
     "output_type": "stream",
     "text": [
      "2402\n"
     ]
    }
   ],
   "source": [
    "print(total_params(mlp_model))"
   ]
  },
  {
   "cell_type": "code",
   "execution_count": 10,
   "id": "277d3312",
   "metadata": {},
   "outputs": [
    {
     "name": "stdout",
     "output_type": "stream",
     "text": [
      "checkpoint directory created: ./model\n",
      "saving model version 0.0\n"
     ]
    }
   ],
   "source": [
    "kan_model = KAN(width=[N, N, 2])"
   ]
  },
  {
   "cell_type": "code",
   "execution_count": 11,
   "id": "fa8b0a76",
   "metadata": {},
   "outputs": [
    {
     "name": "stdout",
     "output_type": "stream",
     "text": [
      "824\n"
     ]
    }
   ],
   "source": [
    "print(total_params(kan_model))"
   ]
  },
  {
   "cell_type": "code",
   "execution_count": 12,
   "id": "4a311e71",
   "metadata": {},
   "outputs": [],
   "source": [
    "kan_params = [n for n in kan_model.parameters()]"
   ]
  },
  {
   "cell_type": "code",
   "execution_count": 13,
   "id": "b3146ab2",
   "metadata": {},
   "outputs": [
    {
     "name": "stdout",
     "output_type": "stream",
     "text": [
      "torch.Size([6, 10])\n"
     ]
    }
   ],
   "source": [
    "print(kan_params[8].shape)"
   ]
  },
  {
   "cell_type": "code",
   "execution_count": 14,
   "id": "7b7b8dbf",
   "metadata": {},
   "outputs": [
    {
     "name": "stdout",
     "output_type": "stream",
     "text": [
      "22\n"
     ]
    }
   ],
   "source": [
    "print(len(kan_params))"
   ]
  },
  {
   "cell_type": "code",
   "execution_count": 15,
   "id": "7a2e451d",
   "metadata": {},
   "outputs": [
    {
     "name": "stdout",
     "output_type": "stream",
     "text": [
      "checkpoint directory created: ./model\n",
      "saving model version 0.0\n",
      "checkpoint directory created: ./model\n",
      "saving model version 0.0\n",
      "checkpoint directory created: ./model\n",
      "saving model version 0.0\n",
      "checkpoint directory created: ./model\n",
      "saving model version 0.0\n",
      "checkpoint directory created: ./model\n",
      "saving model version 0.0\n",
      "checkpoint directory created: ./model\n",
      "saving model version 0.0\n",
      "checkpoint directory created: ./model\n",
      "saving model version 0.0\n",
      "checkpoint directory created: ./model\n",
      "saving model version 0.0\n",
      "checkpoint directory created: ./model\n",
      "saving model version 0.0\n",
      "checkpoint directory created: ./model\n",
      "saving model version 0.0\n",
      "checkpoint directory created: ./model\n",
      "saving model version 0.0\n",
      "checkpoint directory created: ./model\n",
      "saving model version 0.0\n",
      "checkpoint directory created: ./model\n",
      "saving model version 0.0\n",
      "checkpoint directory created: ./model\n",
      "saving model version 0.0\n",
      "[2402, 2434, 2466, 2498, 2530, 2562, 2594, 2626, 2658, 2690, 2722, 2754, 2786, 2818]\n",
      "[824, 1058, 1320, 1610, 1928, 2274, 2648, 3050, 3480, 3938, 4424, 4938, 5480, 6050]\n"
     ]
    }
   ],
   "source": [
    "mlp_counts = []\n",
    "kan_counts = []\n",
    "ns = [n for n in range(6, 20)]\n",
    "for N in ns:\n",
    "    layers = []\n",
    "    # layers.append(nn.Linear(N, N))\n",
    "    # for _ in range(2):\n",
    "    #     layers.append(nn.Linear(N, N))\n",
    "    #     layers.append(nn.SELU())\n",
    "    # layers.append(nn.Linear(N, 2))\n",
    "    layers.append(nn.Linear(N, 32))\n",
    "    for _ in range(2):\n",
    "        layers.append(nn.Linear(32, 32))\n",
    "        layers.append(nn.SELU())\n",
    "    layers.append(nn.Linear(32, 2))\n",
    "    mlp_model = nn.Sequential(*layers)\n",
    "\n",
    "    kan_model = KAN(width=[N, N, 2]);\n",
    "    mlp_counts.append(total_params(mlp_model))\n",
    "    kan_counts.append(total_params(kan_model))\n",
    "print(mlp_counts)\n",
    "print(kan_counts)"
   ]
  },
  {
   "cell_type": "code",
   "execution_count": 16,
   "id": "b252b1ad",
   "metadata": {},
   "outputs": [
    {
     "data": {
      "image/png": "[encoded data removed]",
      "text/plain": [
       "<Figure size 640x480 with 1 Axes>"
      ]
     },
     "metadata": {},
     "output_type": "display_data"
    }
   ],
   "source": [
    "plt.plot(ns, mlp_counts, label = 'mlp')\n",
    "plt.plot(ns, kan_counts, label = 'kan')\n",
    "plt.legend(loc = 'best')\n",
    "plt.show()"
   ]
  },
  {
   "cell_type": "code",
   "execution_count": 17,
   "id": "34decad1",
   "metadata": {},
   "outputs": [
    {
     "name": "stdout",
     "output_type": "stream",
     "text": [
      "checkpoint directory created: ./model\n",
      "saving model version 0.0\n"
     ]
    }
   ],
   "source": [
    "N=12\n",
    "layers = []\n",
    "layers.append(nn.Linear(N, 32))\n",
    "for _ in range(2):\n",
    "    layers.append(nn.Linear(32, 32))\n",
    "    layers.append(nn.SELU())\n",
    "layers.append(nn.Linear(32, 2))\n",
    "mlp_12 = nn.Sequential(*layers)\n",
    "kan_12 = KAN(width=[N, N, 2])"
   ]
  },
  {
   "cell_type": "code",
   "execution_count": 18,
   "id": "4ba0f872",
   "metadata": {},
   "outputs": [],
   "source": [
    "input_12 = lib.generate_input_torch(N)"
   ]
  },
  {
   "cell_type": "code",
   "execution_count": 19,
   "id": "1867414a",
   "metadata": {},
   "outputs": [
    {
     "name": "stdout",
     "output_type": "stream",
     "text": [
      "5.82 ms ± 72.2 μs per loop (mean ± std. dev. of 7 runs, 100 loops each)\n"
     ]
    }
   ],
   "source": [
    "%%timeit\n",
    "input_12 = lib.generate_input_torch(N)"
   ]
  },
  {
   "cell_type": "code",
   "execution_count": 20,
   "id": "5e96a69a",
   "metadata": {},
   "outputs": [
    {
     "name": "stdout",
     "output_type": "stream",
     "text": [
      "658 μs ± 4.86 μs per loop (mean ± std. dev. of 7 runs, 1,000 loops each)\n"
     ]
    }
   ],
   "source": [
    "%%timeit\n",
    "mlp_12(input_12)"
   ]
  },
  {
   "cell_type": "code",
   "execution_count": 21,
   "id": "7ed1b3f9",
   "metadata": {},
   "outputs": [
    {
     "name": "stdout",
     "output_type": "stream",
     "text": [
      "43.6 ms ± 1.2 ms per loop (mean ± std. dev. of 7 runs, 10 loops each)\n"
     ]
    }
   ],
   "source": [
    "%%timeit \n",
    "kan_12(input_12)"
   ]
  },
  {
   "cell_type": "code",
   "execution_count": 23,
   "id": "5485c656",
   "metadata": {},
   "outputs": [
    {
     "name": "stdout",
     "output_type": "stream",
     "text": [
      "checkpoint directory created: ./model\n",
      "saving model version 0.0\n"
     ]
    }
   ],
   "source": [
    "N=6\n",
    "layers = []\n",
    "layers.append(nn.Linear(N, 32))\n",
    "for _ in range(2):\n",
    "    layers.append(nn.Linear(32, 32))\n",
    "    layers.append(nn.SELU())\n",
    "layers.append(nn.Linear(32, 2))\n",
    "mlp_6 = nn.Sequential(*layers)\n",
    "kan_6 = KAN(width=[N, N, 2])"
   ]
  },
  {
   "cell_type": "code",
   "execution_count": 24,
   "id": "87e8a053",
   "metadata": {},
   "outputs": [],
   "source": [
    "input_6 = lib.generate_input_torch(N)"
   ]
  },
  {
   "cell_type": "code",
   "execution_count": 25,
   "id": "efa71a25",
   "metadata": {},
   "outputs": [
    {
     "name": "stdout",
     "output_type": "stream",
     "text": [
      "63.3 μs ± 437 ns per loop (mean ± std. dev. of 7 runs, 10,000 loops each)\n"
     ]
    }
   ],
   "source": [
    "%%timeit\n",
    "input_6 = lib.generate_input_torch(N)"
   ]
  },
  {
   "cell_type": "code",
   "execution_count": 26,
   "id": "5d36ef81",
   "metadata": {},
   "outputs": [
    {
     "name": "stdout",
     "output_type": "stream",
     "text": [
      "45.4 μs ± 1.02 μs per loop (mean ± std. dev. of 7 runs, 10,000 loops each)\n"
     ]
    }
   ],
   "source": [
    "%%timeit\n",
    "mlp_6(input_6)"
   ]
  },
  {
   "cell_type": "code",
   "execution_count": null,
   "id": "1c82fe55",
   "metadata": {},
   "outputs": [
    {
     "name": "stdout",
     "output_type": "stream",
     "text": [
      "4.5 ms ± 191 μs per loop (mean ± std. dev. of 7 runs, 100 loops each)\n"
     ]
    },
    {
     "ename": "",
     "evalue": "",
     "output_type": "error",
     "traceback": [
      "\u001b[1;31mThe Kernel crashed while executing code in the current cell or a previous cell. \n",
      "\u001b[1;31mPlease review the code in the cell(s) to identify a possible cause of the failure. \n",
      "\u001b[1;31mClick <a href='https://aka.ms/vscodeJupyterKernelCrash'>here</a> for more info. \n",
      "\u001b[1;31mView Jupyter <a href='command:jupyter.viewOutput'>log</a> for further details."
     ]
    }
   ],
   "source": [
    "%%timeit \n",
    "kan_6(input_6)"
   ]
  },
  {
   "cell_type": "code",
   "execution_count": null,
   "id": "6bd5b8b5",
   "metadata": {},
   "outputs": [],
   "source": []
  }
 ],
 "metadata": {
  "kernelspec": {
   "display_name": "kans",
   "language": "python",
   "name": "python3"
  },
  "language_info": {
   "codemirror_mode": {
    "name": "ipython",
    "version": 3
   },
   "file_extension": ".py",
   "mimetype": "text/x-python",
   "name": "python",
   "nbconvert_exporter": "python",
   "pygments_lexer": "ipython3",
   "version": "3.12.5"
  }
 },
 "nbformat": 4,
 "nbformat_minor": 5
}
