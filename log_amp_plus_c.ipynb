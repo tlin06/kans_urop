{
 "cells": [
  {
   "cell_type": "code",
   "execution_count": 208,
   "metadata": {},
   "outputs": [],
   "source": [
    "import lib\n",
    "import qutip as qt\n",
    "import torch\n",
    "import torch.nn as nn\n",
    "import matplotlib.pyplot as plt\n",
    "import numpy as np\n",
    "import time"
   ]
  },
  {
   "cell_type": "code",
   "execution_count": 195,
   "metadata": {},
   "outputs": [
    {
     "data": {
      "text/plain": [
       "'11264'"
      ]
     },
     "execution_count": 195,
     "metadata": {},
     "output_type": "execute_result"
    }
   ],
   "source": [
    "repr(h.data).split('nnz')[-1][1:-1]"
   ]
  },
  {
   "cell_type": "code",
   "execution_count": 200,
   "metadata": {},
   "outputs": [],
   "source": [
    "ns = [i for i in range(2, 20)]\n",
    "nnzs = []\n",
    "for n in ns:\n",
    "    h = lib.TFIM_hamiltonian(n, 1, 1)\n",
    "    nnzs.append(int(repr(h.data).split('nnz')[-1][1:-1]))"
   ]
  },
  {
   "cell_type": "code",
   "execution_count": 203,
   "metadata": {},
   "outputs": [
    {
     "data": {
      "image/png": "[encoded data removed]",
      "text/plain": [
       "<Figure size 640x480 with 1 Axes>"
      ]
     },
     "metadata": {},
     "output_type": "display_data"
    }
   ],
   "source": [
    "plt.plot(ns, nnzs)\n",
    "plt.yscale('log')\n",
    "plt.show()"
   ]
  },
  {
   "cell_type": "code",
   "execution_count": 473,
   "metadata": {},
   "outputs": [],
   "source": [
    "N = 3\n",
    "J = 1\n",
    "Gamma = 0.1"
   ]
  },
  {
   "cell_type": "code",
   "execution_count": 474,
   "metadata": {},
   "outputs": [],
   "source": [
    "h = lib.TFIM_hamiltonian(N, J, Gamma)"
   ]
  },
  {
   "cell_type": "code",
   "execution_count": 475,
   "metadata": {},
   "outputs": [
    {
     "data": {
      "text/plain": [
       "(array([-3.0078784 , -3.00713075,  0.8078784 ,  0.9       ,  0.9       ,\n",
       "         1.1       ,  1.1       ,  1.20713075]),\n",
       " array([Quantum object: dims=[[2, 2, 2], [1, 1, 1]], shape=(8, 1), type='ket', dtype=Dense\n",
       "        Qobj data =\n",
       "        [[-0.70637642]\n",
       "         [-0.01855039]\n",
       "         [-0.01855039]\n",
       "         [-0.01855039]\n",
       "         [-0.01855039]\n",
       "         [-0.01855039]\n",
       "         [-0.01855039]\n",
       "         [-0.70637642]]                                                                   ,\n",
       "        Quantum object: dims=[[2, 2, 2], [1, 1, 1]], shape=(8, 1), type='ket', dtype=Dense\n",
       "        Qobj data =\n",
       "        [[ 0.7065083 ]\n",
       "         [ 0.01679311]\n",
       "         [ 0.01679311]\n",
       "         [-0.01679311]\n",
       "         [ 0.01679311]\n",
       "         [-0.01679311]\n",
       "         [-0.01679311]\n",
       "         [-0.7065083 ]]                                                                   ,\n",
       "        Quantum object: dims=[[2, 2, 2], [1, 1, 1]], shape=(8, 1), type='ket', dtype=Dense\n",
       "        Qobj data =\n",
       "        [[ 0.03213022]\n",
       "         [-0.40782662]\n",
       "         [-0.40782662]\n",
       "         [-0.40782662]\n",
       "         [-0.40782662]\n",
       "         [-0.40782662]\n",
       "         [-0.40782662]\n",
       "         [ 0.03213022]]                                                                   ,\n",
       "        Quantum object: dims=[[2, 2, 2], [1, 1, 1]], shape=(8, 1), type='ket', dtype=Dense\n",
       "        Qobj data =\n",
       "        [[ 2.44351858e-18]\n",
       "         [-8.57457425e-02]\n",
       "         [-4.51582133e-01]\n",
       "         [-5.37327875e-01]\n",
       "         [ 5.37327875e-01]\n",
       "         [ 4.51582133e-01]\n",
       "         [ 8.57457425e-02]\n",
       "         [-1.11022302e-16]]                                                               ,\n",
       "        Quantum object: dims=[[2, 2, 2], [1, 1, 1]], shape=(8, 1), type='ket', dtype=Dense\n",
       "        Qobj data =\n",
       "        [[ 3.02391597e-17]\n",
       "         [ 5.70947459e-01]\n",
       "         [-3.59731721e-01]\n",
       "         [ 2.11215738e-01]\n",
       "         [-2.11215738e-01]\n",
       "         [ 3.59731721e-01]\n",
       "         [-5.70947459e-01]\n",
       "         [ 9.71445147e-17]]                                                               ,\n",
       "        Quantum object: dims=[[2, 2, 2], [1, 1, 1]], shape=(8, 1), type='ket', dtype=Dense\n",
       "        Qobj data =\n",
       "        [[-3.37527019e-17]\n",
       "         [ 5.57052781e-01]\n",
       "         [-1.47114256e-01]\n",
       "         [-4.09938525e-01]\n",
       "         [-4.09938525e-01]\n",
       "         [-1.47114256e-01]\n",
       "         [ 5.57052781e-01]\n",
       "         [ 2.22044605e-16]]                                                               ,\n",
       "        Quantum object: dims=[[2, 2, 2], [1, 1, 1]], shape=(8, 1), type='ket', dtype=Dense\n",
       "        Qobj data =\n",
       "        [[ 2.07095909e-17]\n",
       "         [-1.51741662e-01]\n",
       "         [ 5.58292691e-01]\n",
       "         [-4.06551029e-01]\n",
       "         [-4.06551029e-01]\n",
       "         [ 5.58292691e-01]\n",
       "         [-1.51741662e-01]\n",
       "         [-1.38777878e-17]]                                                               ,\n",
       "        Quantum object: dims=[[2, 2, 2], [1, 1, 1]], shape=(8, 1), type='ket', dtype=Dense\n",
       "        Qobj data =\n",
       "        [[ 0.02908653]\n",
       "         [-0.40790276]\n",
       "         [-0.40790276]\n",
       "         [ 0.40790276]\n",
       "         [-0.40790276]\n",
       "         [ 0.40790276]\n",
       "         [ 0.40790276]\n",
       "         [-0.02908653]]                                                                   ],\n",
       "       dtype=object))"
      ]
     },
     "execution_count": 475,
     "metadata": {},
     "output_type": "execute_result"
    }
   ],
   "source": [
    "h.eigenstates()"
   ]
  },
  {
   "cell_type": "code",
   "execution_count": 476,
   "metadata": {},
   "outputs": [
    {
     "data": {
      "text/plain": [
       "np.float64(-3.007878402833895)"
      ]
     },
     "execution_count": 476,
     "metadata": {},
     "output_type": "execute_result"
    }
   ],
   "source": [
    "h.eigenstates()[0][0]"
   ]
  },
  {
   "cell_type": "code",
   "execution_count": 477,
   "metadata": {},
   "outputs": [
    {
     "data": {
      "text/latex": [
       "Quantum object: dims=[[2, 2, 2], [1, 1, 1]], shape=(8, 1), type='ket', dtype=Dense$$\\left(\\begin{array}{cc}-0.706\\\\-0.019\\\\-0.019\\\\-0.019\\\\-0.019\\\\-0.019\\\\-0.019\\\\-0.706\\end{array}\\right)$$"
      ],
      "text/plain": [
       "Quantum object: dims=[[2, 2, 2], [1, 1, 1]], shape=(8, 1), type='ket', dtype=Dense\n",
       "Qobj data =\n",
       "[[-0.70637642]\n",
       " [-0.01855039]\n",
       " [-0.01855039]\n",
       " [-0.01855039]\n",
       " [-0.01855039]\n",
       " [-0.01855039]\n",
       " [-0.01855039]\n",
       " [-0.70637642]]"
      ]
     },
     "execution_count": 477,
     "metadata": {},
     "output_type": "execute_result"
    }
   ],
   "source": [
    "h.eigenstates()[1][0]"
   ]
  },
  {
   "cell_type": "code",
   "execution_count": 478,
   "metadata": {},
   "outputs": [],
   "source": [
    "c = 1e-12\n",
    "def reim(nn_output):\n",
    "    return nn_output[:, 0] + 1.j * nn_output[:, 1] # Re, Im\n",
    "def logamp_phase_c(nn_output):\n",
    "    return (torch.exp(-nn_output[:, 0]) - c) * torch.exp(1.j * nn_output[:, 1]) \n",
    "def amp_phase(nn_output):\n",
    "    return nn_output[:, 0] * torch.exp(1.j * 2 * np.pi * nn_output[:, 1])"
   ]
  },
  {
   "cell_type": "code",
   "execution_count": 479,
   "metadata": {},
   "outputs": [],
   "source": [
    "input = lib.generate_input_torch(N)"
   ]
  },
  {
   "cell_type": "code",
   "execution_count": 550,
   "metadata": {},
   "outputs": [],
   "source": [
    "model = nn.Sequential(\n",
    "    nn.Linear(N, 5 * N),\n",
    "    nn.Sigmoid(),\n",
    "    nn.Linear(5 * N, 2),\n",
    "    nn.Sigmoid()\n",
    ")"
   ]
  },
  {
   "cell_type": "code",
   "execution_count": 553,
   "metadata": {},
   "outputs": [],
   "source": [
    "vars = (N, J, Gamma)\n",
    "loss_fn = lib.TFIM_expectation_from_torch\n",
    "epochs = []\n",
    "loss_data = []\n",
    "optimizer = torch.optim.SGD(model.parameters(), lr = 10)\n",
    "for epoch in range(1000):\n",
    "    y_pred = model(input)\n",
    "    loss = loss_fn(y_pred, vars, amp_phase)\n",
    "    optimizer.zero_grad()\n",
    "    loss.backward()\n",
    "    optimizer.step()\n",
    "    if epoch % 100 == 0:\n",
    "        loss_data.append(loss.item())\n",
    "        epochs.append(epoch)\n",
    "\n",
    "# find groud state\n",
    "gs = lib.model_to_ground_state(model, input, amp_phase)"
   ]
  },
  {
   "cell_type": "code",
   "execution_count": 554,
   "metadata": {},
   "outputs": [
    {
     "data": {
      "text/plain": [
       "-3.007498264312744"
      ]
     },
     "execution_count": 554,
     "metadata": {},
     "output_type": "execute_result"
    }
   ],
   "source": [
    "loss_data[-1]"
   ]
  },
  {
   "cell_type": "code",
   "execution_count": 555,
   "metadata": {},
   "outputs": [
    {
     "data": {
      "text/latex": [
       "Quantum object: dims=[[8], [1]], shape=(8, 1), type='ket', dtype=Dense$$\\left(\\begin{array}{cc}(-0.888+0.458j)\\\\(-0.022+0.011j)\\\\(-0.022+0.011j)\\\\-0.002\\\\(-0.022+0.011j)\\\\-0.002\\\\-0.002\\\\-4.708\\times10^{ -4 }\\end{array}\\right)$$"
      ],
      "text/plain": [
       "Quantum object: dims=[[8], [1]], shape=(8, 1), type='ket', dtype=Dense\n",
       "Qobj data =\n",
       "[[-8.87651086e-01+4.58471477e-01j]\n",
       " [-2.21675895e-02+1.14489170e-02j]\n",
       " [-2.21680272e-02+1.14490557e-02j]\n",
       " [-1.77654682e-03+9.45373497e-04j]\n",
       " [-2.21738890e-02+1.14534153e-02j]\n",
       " [-1.69877312e-03+9.01570078e-04j]\n",
       " [-1.71257497e-03+8.86173337e-04j]\n",
       " [-4.70830710e-04+2.59304157e-04j]]"
      ]
     },
     "execution_count": 555,
     "metadata": {},
     "output_type": "execute_result"
    }
   ],
   "source": [
    "gs"
   ]
  },
  {
   "cell_type": "code",
   "execution_count": 469,
   "metadata": {},
   "outputs": [],
   "source": [
    "h.dims = [2 ** N, 2 ** N]"
   ]
  },
  {
   "cell_type": "code",
   "execution_count": 470,
   "metadata": {},
   "outputs": [
    {
     "data": {
      "text/plain": [
       "array([[-2. +0.j, -0.1+0.j, -0.1+0.j,  0. +0.j],\n",
       "       [-0.1+0.j,  2. +0.j,  0. +0.j, -0.1+0.j],\n",
       "       [-0.1+0.j,  0. +0.j,  2. +0.j, -0.1+0.j],\n",
       "       [ 0. +0.j, -0.1+0.j, -0.1+0.j, -2. +0.j]])"
      ]
     },
     "execution_count": 470,
     "metadata": {},
     "output_type": "execute_result"
    }
   ],
   "source": [
    "np.array(h.full())"
   ]
  },
  {
   "cell_type": "code",
   "execution_count": 471,
   "metadata": {},
   "outputs": [
    {
     "data": {
      "text/plain": [
       "array([[-2.0099752+0.j]])"
      ]
     },
     "execution_count": 471,
     "metadata": {},
     "output_type": "execute_result"
    }
   ],
   "source": [
    "gs.dag().full() @ h.full() @ gs.full()"
   ]
  },
  {
   "cell_type": "code",
   "execution_count": 472,
   "metadata": {},
   "outputs": [
    {
     "data": {
      "text/plain": [
       "array([[-2.00997514-3.35738121e-09j],\n",
       "       [-2.00996876+2.58283282e-06j],\n",
       "       [-2.00996532+2.52999956e-06j],\n",
       "       [-2.00997515-9.36124030e-09j]])"
      ]
     },
     "execution_count": 472,
     "metadata": {},
     "output_type": "execute_result"
    }
   ],
   "source": [
    "(h.full() @ gs.full()) / gs.full()"
   ]
  },
  {
   "cell_type": "code",
   "execution_count": null,
   "metadata": {},
   "outputs": [],
   "source": []
  },
  {
   "cell_type": "code",
   "execution_count": null,
   "metadata": {},
   "outputs": [],
   "source": []
  }
 ],
 "metadata": {
  "kernelspec": {
   "display_name": "kans",
   "language": "python",
   "name": "python3"
  },
  "language_info": {
   "codemirror_mode": {
    "name": "ipython",
    "version": 3
   },
   "file_extension": ".py",
   "mimetype": "text/x-python",
   "name": "python",
   "nbconvert_exporter": "python",
   "pygments_lexer": "ipython3",
   "version": "3.12.5"
  }
 },
 "nbformat": 4,
 "nbformat_minor": 2
}
