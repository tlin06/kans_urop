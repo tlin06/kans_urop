{
 "cells": [
  {
   "cell_type": "code",
   "execution_count": 1,
   "id": "16f47682",
   "metadata": {},
   "outputs": [],
   "source": [
    "from libraries import lib\n",
    "from libraries.NeuralStates import *\n",
    "import torch\n",
    "import torch.nn as nn\n",
    "import time\n",
    "from kan import *"
   ]
  },
  {
   "cell_type": "code",
   "execution_count": 2,
   "id": "d355e2d3",
   "metadata": {},
   "outputs": [],
   "source": [
    "def generate_eloc_distr(sampled_vector, N, J, Gamma, model):\n",
    "    f_start = time.time()\n",
    "\n",
    "    times = {'dict':0, 'gen state':0, 'forward':0, 'model to output':0, 'gen adj':0, 'calc h elem':0, 'calc exp':0, 'multiply':0}\n",
    "\n",
    "    nn_output_calcs = {}\n",
    "    def model_to_output(x):\n",
    "        start = time.time()\n",
    "        if x in sampled_vector.nn_output:\n",
    "            times['dict'] += time.time() - start\n",
    "            return sampled_vector.nn_output[x]\n",
    "        if x in nn_output_calcs:\n",
    "            times['dict'] += time.time() - start\n",
    "            return nn_output_calcs[x]\n",
    "        start = time.time()\n",
    "        tens = torch.tensor([lib.generate_state_array(x, N)], dtype = torch.float32)\n",
    "        times['gen state'] += time.time() - start\n",
    "\n",
    "        start = time.time()\n",
    "        output = model(tens)[0]\n",
    "        times['forward'] += time.time() - start\n",
    "        nn_output_calcs[x] = output\n",
    "        return output\n",
    "    \n",
    "    eloc_values = {}\n",
    "    for basis_state in sampled_vector.distribution:\n",
    "        eloc = 0\n",
    "        start = time.time() \n",
    "        output = model_to_output(basis_state).detach()\n",
    "        # print(output)\n",
    "        times['model to output'] += time.time() - start\n",
    "        start = time.time()\n",
    "        adj = lib.generate_adjacencies(basis_state, N)\n",
    "        times['gen adj'] += time.time() - start\n",
    "        for adjacency in adj:\n",
    "            start = time.time()\n",
    "            output_prime = model_to_output(adjacency).detach()\n",
    "            times['model to output'] += time.time() - start\n",
    "            start = time.time()\n",
    "            h_elem = lib.calc_H_elem(N, J, Gamma, basis_state, adjacency)\n",
    "            times['calc h elem'] += time.time() - start\n",
    "            start = time.time()\n",
    "            exp = torch.exp(output_prime[0] - output[0] + 1.j * (output_prime[1] - output[1]))\n",
    "            times['calc exp'] += time.time() - start\n",
    "            start = time.time()\n",
    "            eloc += h_elem * exp\n",
    "            times['multiply'] += time.time() - start\n",
    "        eloc_values[basis_state] = eloc\n",
    "    for k in times:\n",
    "        print(f\"{k}: {times[k]}\")\n",
    "    print('total', time.time() - f_start)\n",
    "    return eloc_values"
   ]
  },
  {
   "cell_type": "code",
   "execution_count": 3,
   "id": "ecba6a18",
   "metadata": {},
   "outputs": [],
   "source": [
    "def log_amp_phase(nn_output):\n",
    "    return torch.exp(nn_output[:, 0] + 1.j * nn_output[:, 1])\n",
    "\n",
    "def bitflip_x(x, N, flips):\n",
    "    new_x = x\n",
    "    for _ in range(flips):\n",
    "        new_x = x ^ (1 << npr.randint(0, N))\n",
    "    return new_x"
   ]
  },
  {
   "cell_type": "code",
   "execution_count": 4,
   "id": "ec508401",
   "metadata": {},
   "outputs": [],
   "source": [
    "N = 30; J = 1; h=10"
   ]
  },
  {
   "cell_type": "code",
   "execution_count": 5,
   "id": "1caaf8f7",
   "metadata": {},
   "outputs": [],
   "source": [
    "layers = []\n",
    "layers.append(nn.Linear(N, 32))\n",
    "for _ in range(2):\n",
    "    layers.append(nn.Linear(32, 32))\n",
    "    layers.append(nn.SELU())\n",
    "layers.append(nn.Linear(32, 2))\n",
    "mlp_model = nn.Sequential(*layers)"
   ]
  },
  {
   "cell_type": "code",
   "execution_count": 6,
   "id": "bb6808ca",
   "metadata": {},
   "outputs": [],
   "source": [
    "# %%timeit\n",
    "num_samples = 512\n",
    "mh_state = MHNeuralState(N, mlp_model, log_amp_phase, lambda x : bitflip_x(x, N, 1), 0, num_samples)"
   ]
  },
  {
   "cell_type": "code",
   "execution_count": 7,
   "id": "a7caabf2",
   "metadata": {},
   "outputs": [
    {
     "name": "stdout",
     "output_type": "stream",
     "text": [
      "dict: 0.0010027885437011719\n",
      "gen state: 0.09887480735778809\n",
      "forward: 0.6763584613800049\n",
      "model to output: 0.814948558807373\n",
      "gen adj: 0.0034945011138916016\n",
      "calc h elem: 0.05569767951965332\n",
      "calc exp: 0.3032097816467285\n",
      "multiply: 0.06017804145812988\n",
      "total 1.2427425384521484\n"
     ]
    }
   ],
   "source": [
    "# %%timeit\n",
    "eloc_list = generate_eloc_distr(mh_state, N, J, h, mlp_model)\n",
    "# for small n values, the calc exp step is most significant, for larger n values the forward passes are most significant"
   ]
  },
  {
   "cell_type": "code",
   "execution_count": 8,
   "id": "f8d69263",
   "metadata": {},
   "outputs": [],
   "source": [
    "N=10\n",
    "kan_model = KAN(width=[N, N, 2], device='cpu', seed=0, auto_save=False);"
   ]
  },
  {
   "cell_type": "code",
   "execution_count": 9,
   "id": "20360cc1",
   "metadata": {},
   "outputs": [
    {
     "name": "stderr",
     "output_type": "stream",
     "text": [
      "c:\\Users\\taoha\\anaconda3\\envs\\kans\\Lib\\site-packages\\kan\\MultKAN.py:813: UserWarning: std(): degrees of freedom is <= 0. Correction should be strictly less than the reduction factor (input numel divided by output numel). (Triggered internally at C:\\actions-runner\\_work\\pytorch\\pytorch\\builder\\windows\\pytorch\\aten\\src\\ATen\\native\\ReduceOps.cpp:1808.)\n",
      "  self.subnode_actscale.append(torch.std(x, dim=0).detach())\n",
      "c:\\Users\\taoha\\anaconda3\\envs\\kans\\Lib\\site-packages\\kan\\MultKAN.py:823: UserWarning: std(): degrees of freedom is <= 0. Correction should be strictly less than the reduction factor (input numel divided by output numel). (Triggered internally at C:\\actions-runner\\_work\\pytorch\\pytorch\\builder\\windows\\pytorch\\aten\\src\\ATen\\native\\ReduceOps.cpp:1808.)\n",
      "  input_range = torch.std(preacts, dim=0) + 0.1\n",
      "c:\\Users\\taoha\\anaconda3\\envs\\kans\\Lib\\site-packages\\kan\\MultKAN.py:824: UserWarning: std(): degrees of freedom is <= 0. Correction should be strictly less than the reduction factor (input numel divided by output numel). (Triggered internally at C:\\actions-runner\\_work\\pytorch\\pytorch\\builder\\windows\\pytorch\\aten\\src\\ATen\\native\\ReduceOps.cpp:1808.)\n",
      "  output_range_spline = torch.std(postacts_numerical, dim=0) # for training, only penalize the spline part\n",
      "c:\\Users\\taoha\\anaconda3\\envs\\kans\\Lib\\site-packages\\kan\\MultKAN.py:825: UserWarning: std(): degrees of freedom is <= 0. Correction should be strictly less than the reduction factor (input numel divided by output numel). (Triggered internally at C:\\actions-runner\\_work\\pytorch\\pytorch\\builder\\windows\\pytorch\\aten\\src\\ATen\\native\\ReduceOps.cpp:1808.)\n",
      "  output_range = torch.std(postacts, dim=0) # for visualization, include the contribution from both spline + symbolic\n"
     ]
    }
   ],
   "source": [
    "num_samples = 512\n",
    "kan_mh_state = MHNeuralState(N, kan_model, log_amp_phase, lambda x : bitflip_x(x, N, 1), 0, num_samples)"
   ]
  },
  {
   "cell_type": "code",
   "execution_count": 10,
   "id": "24e194a4",
   "metadata": {},
   "outputs": [
    {
     "name": "stdout",
     "output_type": "stream",
     "text": [
      "dict: 0.0009980201721191406\n",
      "gen state: 0.014627218246459961\n",
      "forward: 5.3628990650177\n",
      "model to output: 5.38679313659668\n",
      "gen adj: 0.0\n",
      "calc h elem: 0.01102304458618164\n",
      "calc exp: 0.08408975601196289\n",
      "multiply: 0.018344402313232422\n",
      "total 5.502248764038086\n"
     ]
    }
   ],
   "source": [
    "eloc_list = generate_eloc_distr(kan_mh_state, N, J, h, kan_model)\n",
    "# for small n values, the calc exp step is most significant, for larger n values the forward passes are most significant (same as MLP)\n",
    "# however it seems that forward time increases much faster as N increases compared to MLP (may be parameter scaling)\n",
    "# N=10 for KAN has forward super dominant while N=30 for MLP has 2:1 forward to exp ratio"
   ]
  },
  {
   "cell_type": "code",
   "execution_count": 11,
   "id": "e0dcdc34",
   "metadata": {},
   "outputs": [],
   "source": [
    "def generate_input_samples(N, samples):\n",
    "    return torch.tensor([lib.generate_state_array(x, N) for x in samples]).to(torch.float32)\n",
    "nn_output_calcs = {}\n",
    "def model_to_output(x, sampled_vector, model):\n",
    "    if x in sampled_vector.nn_output:\n",
    "        return sampled_vector.nn_output[x]\n",
    "    if x in nn_output_calcs:\n",
    "        return nn_output_calcs[x]\n",
    "    tens = torch.tensor([lib.generate_state_array(x, N)], dtype = torch.float32)\n",
    "    output = model(tens)[0]\n",
    "    nn_output_calcs[x] = output\n",
    "    return output\n",
    "def generate_eloc_distr_no_time(sampled_vector, N, J, Gamma, model):\n",
    "    eloc_values = {}\n",
    "    for basis_state in sampled_vector.distribution:\n",
    "        eloc = 0\n",
    "        output = model_to_output(basis_state, sampled_vector, model)\n",
    "        for adjacency in lib.generate_adjacencies(basis_state, N):\n",
    "            output_prime = model_to_output(adjacency)\n",
    "            eloc += lib.calc_H_elem(N, J, Gamma, basis_state, adjacency) * torch.exp(output_prime[0] - output[0] + 1.j * (output_prime[1] - output[1]))\n",
    "        eloc_values[basis_state] = eloc\n",
    "    return eloc_values"
   ]
  },
  {
   "cell_type": "code",
   "execution_count": 12,
   "id": "a87becaf",
   "metadata": {},
   "outputs": [
    {
     "name": "stdout",
     "output_type": "stream",
     "text": [
      "checkpoint directory created: ./model\n",
      "saving model version 0.0\n"
     ]
    }
   ],
   "source": [
    "N = 10\n",
    "states = [n for n in range(2 ** N)]\n",
    "kan_model = KAN([N, N, 2])\n",
    "kan_mh_state = MHNeuralState(N, kan_model, log_amp_phase, lambda x : bitflip_x(x, N, 1), 0, 0)"
   ]
  },
  {
   "cell_type": "code",
   "execution_count": 13,
   "id": "4434c4c4",
   "metadata": {},
   "outputs": [
    {
     "name": "stdout",
     "output_type": "stream",
     "text": [
      "KAN unbacthced time: 8.943184614181519\n",
      "KAN batched time 0.026005268096923828\n"
     ]
    }
   ],
   "source": [
    "start = time.time()\n",
    "nn_output_calcs = {}\n",
    "for s in states:\n",
    "    model_to_output(s, kan_mh_state, kan_model)\n",
    "print(f'KAN unbacthced time: {time.time() - start}')\n",
    "start = time.time()\n",
    "batch = generate_input_samples(N, states)\n",
    "kan_model(batch)\n",
    "print(f'KAN batched time {time.time() - start}')"
   ]
  },
  {
   "cell_type": "code",
   "execution_count": 14,
   "id": "c09ca08a",
   "metadata": {},
   "outputs": [],
   "source": [
    "layers = []\n",
    "layers.append(nn.Linear(N, 32))\n",
    "for _ in range(2):\n",
    "    layers.append(nn.Linear(32, 32))\n",
    "    layers.append(nn.SELU())\n",
    "layers.append(nn.Linear(32, 2))\n",
    "mlp_model = nn.Sequential(*layers)\n",
    "mlp_mh_state = MHNeuralState(N, mlp_model, log_amp_phase, lambda x : bitflip_x(x, N, 1), 0, 0)"
   ]
  },
  {
   "cell_type": "code",
   "execution_count": 15,
   "id": "d079332c",
   "metadata": {},
   "outputs": [
    {
     "name": "stdout",
     "output_type": "stream",
     "text": [
      "MLP unbacthced time: 1.6340570449829102\n",
      "MLP batched time 0.003298044204711914\n"
     ]
    }
   ],
   "source": [
    "start = time.time()\n",
    "nn_output_calcs = {}\n",
    "for s in states:\n",
    "    model_to_output(s, mlp_mh_state, mlp_model)\n",
    "print(f'MLP unbacthced time: {time.time() - start}')\n",
    "start = time.time()\n",
    "batch = generate_input_samples(N, states)\n",
    "mlp_model(batch)\n",
    "print(f'MLP batched time {time.time() - start}')"
   ]
  },
  {
   "cell_type": "code",
   "execution_count": 16,
   "id": "e064e7a8",
   "metadata": {},
   "outputs": [],
   "source": [
    "batch1 = generate_input_samples(N, [1])\n",
    "batch2 = generate_input_samples(N, [1, 2, 3])"
   ]
  },
  {
   "cell_type": "code",
   "execution_count": 17,
   "id": "0c71066a",
   "metadata": {},
   "outputs": [
    {
     "name": "stdout",
     "output_type": "stream",
     "text": [
      "34.6 μs ± 1.35 μs per loop (mean ± std. dev. of 7 runs, 10,000 loops each)\n"
     ]
    }
   ],
   "source": [
    "%%timeit\n",
    "mlp_model(batch1)"
   ]
  },
  {
   "cell_type": "code",
   "execution_count": 18,
   "id": "f407cc34",
   "metadata": {},
   "outputs": [
    {
     "name": "stdout",
     "output_type": "stream",
     "text": [
      "36.2 μs ± 1.55 μs per loop (mean ± std. dev. of 7 runs, 10,000 loops each)\n"
     ]
    }
   ],
   "source": [
    "%%timeit\n",
    "mlp_model(batch2)"
   ]
  },
  {
   "cell_type": "code",
   "execution_count": 19,
   "id": "5560cab2",
   "metadata": {},
   "outputs": [
    {
     "name": "stderr",
     "output_type": "stream",
     "text": [
      "c:\\Users\\taoha\\anaconda3\\envs\\kans\\Lib\\site-packages\\kan\\MultKAN.py:813: UserWarning: std(): degrees of freedom is <= 0. Correction should be strictly less than the reduction factor (input numel divided by output numel). (Triggered internally at C:\\actions-runner\\_work\\pytorch\\pytorch\\builder\\windows\\pytorch\\aten\\src\\ATen\\native\\ReduceOps.cpp:1808.)\n",
      "  self.subnode_actscale.append(torch.std(x, dim=0).detach())\n",
      "c:\\Users\\taoha\\anaconda3\\envs\\kans\\Lib\\site-packages\\kan\\MultKAN.py:823: UserWarning: std(): degrees of freedom is <= 0. Correction should be strictly less than the reduction factor (input numel divided by output numel). (Triggered internally at C:\\actions-runner\\_work\\pytorch\\pytorch\\builder\\windows\\pytorch\\aten\\src\\ATen\\native\\ReduceOps.cpp:1808.)\n",
      "  input_range = torch.std(preacts, dim=0) + 0.1\n",
      "c:\\Users\\taoha\\anaconda3\\envs\\kans\\Lib\\site-packages\\kan\\MultKAN.py:824: UserWarning: std(): degrees of freedom is <= 0. Correction should be strictly less than the reduction factor (input numel divided by output numel). (Triggered internally at C:\\actions-runner\\_work\\pytorch\\pytorch\\builder\\windows\\pytorch\\aten\\src\\ATen\\native\\ReduceOps.cpp:1808.)\n",
      "  output_range_spline = torch.std(postacts_numerical, dim=0) # for training, only penalize the spline part\n",
      "c:\\Users\\taoha\\anaconda3\\envs\\kans\\Lib\\site-packages\\kan\\MultKAN.py:825: UserWarning: std(): degrees of freedom is <= 0. Correction should be strictly less than the reduction factor (input numel divided by output numel). (Triggered internally at C:\\actions-runner\\_work\\pytorch\\pytorch\\builder\\windows\\pytorch\\aten\\src\\ATen\\native\\ReduceOps.cpp:1808.)\n",
      "  output_range = torch.std(postacts, dim=0) # for visualization, include the contribution from both spline + symbolic\n"
     ]
    },
    {
     "name": "stdout",
     "output_type": "stream",
     "text": [
      "8.1 ms ± 191 μs per loop (mean ± std. dev. of 7 runs, 100 loops each)\n"
     ]
    }
   ],
   "source": [
    "%%timeit\n",
    "kan_model(batch1)"
   ]
  },
  {
   "cell_type": "code",
   "execution_count": null,
   "id": "b30d73be",
   "metadata": {},
   "outputs": [
    {
     "name": "stdout",
     "output_type": "stream",
     "text": [
      "7.3 ms ± 101 μs per loop (mean ± std. dev. of 7 runs, 100 loops each)\n"
     ]
    },
    {
     "ename": "",
     "evalue": "",
     "output_type": "error",
     "traceback": [
      "\u001b[1;31mThe Kernel crashed while executing code in the current cell or a previous cell. \n",
      "\u001b[1;31mPlease review the code in the cell(s) to identify a possible cause of the failure. \n",
      "\u001b[1;31mClick <a href='https://aka.ms/vscodeJupyterKernelCrash'>here</a> for more info. \n",
      "\u001b[1;31mView Jupyter <a href='command:jupyter.viewOutput'>log</a> for further details."
     ]
    }
   ],
   "source": [
    "%%timeit\n",
    "kan_model(batch2)"
   ]
  },
  {
   "cell_type": "code",
   "execution_count": null,
   "id": "6dc31408",
   "metadata": {},
   "outputs": [],
   "source": []
  }
 ],
 "metadata": {
  "kernelspec": {
   "display_name": "kans",
   "language": "python",
   "name": "python3"
  },
  "language_info": {
   "codemirror_mode": {
    "name": "ipython",
    "version": 3
   },
   "file_extension": ".py",
   "mimetype": "text/x-python",
   "name": "python",
   "nbconvert_exporter": "python",
   "pygments_lexer": "ipython3",
   "version": "3.12.5"
  }
 },
 "nbformat": 4,
 "nbformat_minor": 5
}
