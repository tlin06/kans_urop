{
 "cells": [
  {
   "cell_type": "code",
   "execution_count": 1,
   "metadata": {},
   "outputs": [],
   "source": [
    "from libraries import lib\n",
    "import qutip as qt\n",
    "import torch.nn as nn \n",
    "import torch\n",
    "import numpy as np\n",
    "import matplotlib.pyplot as plt\n",
    "from kan import *"
   ]
  },
  {
   "cell_type": "code",
   "execution_count": 2,
   "metadata": {},
   "outputs": [],
   "source": [
    "N, J, Gamma = 2, 1, 1"
   ]
  },
  {
   "cell_type": "code",
   "execution_count": 3,
   "metadata": {},
   "outputs": [
    {
     "data": {
      "text/plain": [
       "np.float64(-2.82842712474619)"
      ]
     },
     "execution_count": 3,
     "metadata": {},
     "output_type": "execute_result"
    }
   ],
   "source": [
    "lib.TFIM_hamiltonian(N, J, Gamma).eigenstates()[0][0]"
   ]
  },
  {
   "cell_type": "code",
   "execution_count": 4,
   "metadata": {},
   "outputs": [
    {
     "name": "stdout",
     "output_type": "stream",
     "text": [
      "cpu\n"
     ]
    }
   ],
   "source": [
    "device = torch.device('cuda' if torch.cuda.is_available() else 'cpu')\n",
    "print(device)\n",
    "input = lib.generate_input_torch(N)\n",
    "def amp_phase(nn_output):\n",
    "    return nn_output[:, 0] * torch.exp(1.j * 2 * np.pi * nn_output[:, 1])"
   ]
  },
  {
   "cell_type": "code",
   "execution_count": 5,
   "metadata": {},
   "outputs": [
    {
     "name": "stdout",
     "output_type": "stream",
     "text": [
      "checkpoint directory created: ./model\n",
      "saving model version 0.0\n"
     ]
    }
   ],
   "source": [
    "model = KAN(width=[2, 1, 2], device=device)"
   ]
  },
  {
   "cell_type": "code",
   "execution_count": 6,
   "metadata": {},
   "outputs": [],
   "source": [
    "vars = (N, J, Gamma)\n",
    "loss_fn = lib.TFIM_expectation_from_torch\n",
    "epochs = []\n",
    "loss_data = []\n",
    "optimizer = LBFGS(model.parameters(), lr=1, history_size=10, line_search_fn=\"strong_wolfe\", tolerance_grad=1e-32, tolerance_change=1e-32, tolerance_ys=1e-32)\n",
    "for epoch in range(5):\n",
    "    def closure():\n",
    "        optimizer.zero_grad()\n",
    "        loss = loss_fn(model(input), vars, amp_phase)\n",
    "        loss.backward()\n",
    "        return loss\n",
    "\n",
    "    optimizer.step(closure)\n",
    "    epochs.append(epoch)\n",
    "    loss_data.append(loss_fn(model(input), vars, amp_phase).item())\n",
    "\n",
    "# find groud state\n",
    "gs = lib.model_to_ground_state(model, input, amp_phase)"
   ]
  },
  {
   "cell_type": "code",
   "execution_count": 7,
   "metadata": {},
   "outputs": [
    {
     "data": {
      "text/plain": [
       "-2.828427314758301"
      ]
     },
     "execution_count": 7,
     "metadata": {},
     "output_type": "execute_result"
    }
   ],
   "source": [
    "loss_data[-1]"
   ]
  },
  {
   "cell_type": "code",
   "execution_count": 8,
   "metadata": {},
   "outputs": [
    {
     "data": {
      "image/png": "[encoded data removed]",
      "text/plain": [
       "<Figure size 640x480 with 1 Axes>"
      ]
     },
     "metadata": {},
     "output_type": "display_data"
    }
   ],
   "source": [
    "plt.plot(epochs, loss_data)\n",
    "plt.show()"
   ]
  },
  {
   "cell_type": "code",
   "execution_count": 9,
   "metadata": {},
   "outputs": [
    {
     "data": {
      "image/png": "[encoded data removed]",
      "text/plain": [
       "<Figure size 500x400 with 8 Axes>"
      ]
     },
     "metadata": {},
     "output_type": "display_data"
    }
   ],
   "source": [
    "model.plot()"
   ]
  },
  {
   "cell_type": "code",
   "execution_count": 10,
   "metadata": {},
   "outputs": [
    {
     "name": "stdout",
     "output_type": "stream",
     "text": [
      "  function  fitting r2   r2 loss  complexity  complexity loss  total loss\n",
      "0        x    0.999991 -15.69726           1                1   -2.339452\n",
      "1      x^2    1.000000 -16.66218           2                2   -1.732436\n",
      "2    1/x^2    1.000000 -16.66218           2                2   -1.732436\n",
      "3      1/x    1.000000 -16.66218           2                2   -1.732436\n",
      "4      exp    1.000000 -16.66218           2                2   -1.732436\n"
     ]
    }
   ],
   "source": [
    "model.suggest_symbolic(0, 0, 0);"
   ]
  },
  {
   "cell_type": "code",
   "execution_count": 11,
   "metadata": {},
   "outputs": [
    {
     "name": "stdout",
     "output_type": "stream",
     "text": [
      "  function  fitting r2    r2 loss  complexity  complexity loss  total loss\n",
      "0    1/x^2    1.000000 -16.626942           2                2   -1.725388\n",
      "1      1/x    0.999982 -15.139620           2                2   -1.427924\n",
      "2      x^2    0.999942 -13.848004           2                2   -1.169601\n",
      "3    1/x^3    1.000000 -16.626942           3                3   -0.925388\n",
      "4      x^4    1.000000 -16.558947           3                3   -0.911789\n"
     ]
    }
   ],
   "source": [
    "model.suggest_symbolic(1, 0, 0);"
   ]
  },
  {
   "cell_type": "code",
   "execution_count": 12,
   "metadata": {},
   "outputs": [
    {
     "name": "stdout",
     "output_type": "stream",
     "text": [
      "  function    fitting r2    r2 loss  complexity  complexity loss  total loss\n",
      "0        0  0.000000e+00   0.000014           0                0    0.000003\n",
      "1        x  3.582738e-07   0.000014           1                1    0.800003\n",
      "2    1/x^4  9.997222e-01 -11.762858           4                4    0.847428\n",
      "3      exp  9.158978e-01  -3.571541           2                2    0.885692\n",
      "4    1/x^2  6.707196e-01  -1.602568           2                2    1.279486\n"
     ]
    }
   ],
   "source": [
    "model.suggest_symbolic(1, 0, 1);"
   ]
  },
  {
   "cell_type": "code",
   "execution_count": 13,
   "metadata": {},
   "outputs": [
    {
     "name": "stdout",
     "output_type": "stream",
     "text": [
      "Best value at boundary.\n",
      "r2 is 0.9999911785125732\n",
      "saving model version 0.1\n",
      "Best value at boundary.\n",
      "r2 is 0.9999910593032837\n",
      "saving model version 0.2\n",
      "r2 is 0.9993871450424194\n",
      "saving model version 0.3\n",
      "Best value at boundary.\n",
      "r2 is 0.0\n",
      "r2 is not very high, please double check if you are choosing the correct symbolic function.\n",
      "saving model version 0.4\n"
     ]
    },
    {
     "data": {
      "text/plain": [
       "tensor(0.)"
      ]
     },
     "execution_count": 13,
     "metadata": {},
     "output_type": "execute_result"
    }
   ],
   "source": [
    "model.fix_symbolic(0, 0, 0, 'x')\n",
    "model.fix_symbolic(0, 1, 0, 'x')\n",
    "model.fix_symbolic(1, 0, 0, 'abs')\n",
    "model.fix_symbolic(1, 0, 1, '0')"
   ]
  },
  {
   "cell_type": "code",
   "execution_count": 14,
   "metadata": {},
   "outputs": [
    {
     "data": {
      "image/png": "[encoded data removed]",
      "text/plain": [
       "<Figure size 500x400 with 8 Axes>"
      ]
     },
     "metadata": {},
     "output_type": "display_data"
    }
   ],
   "source": [
    "model.plot()"
   ]
  },
  {
   "cell_type": "code",
   "execution_count": 15,
   "metadata": {},
   "outputs": [
    {
     "data": {
      "text/latex": [
       "$\\displaystyle \\frac{\\left|{\\frac{13 x_{1}}{4} + \\frac{13 x_{2}}{4} - \\frac{13}{4}}\\right|}{25} + \\frac{8}{89}$"
      ],
      "text/plain": [
       "Abs(13*x_1/4 + 13*x_2/4 - 13/4)/25 + 8/89"
      ]
     },
     "execution_count": 15,
     "metadata": {},
     "output_type": "execute_result"
    }
   ],
   "source": [
    "nsimplify(ex_round(model.symbolic_formula()[0][0], 2))"
   ]
  },
  {
   "cell_type": "code",
   "execution_count": 16,
   "metadata": {},
   "outputs": [
    {
     "data": {
      "text/latex": [
       "$\\displaystyle \\frac{3}{100}$"
      ],
      "text/plain": [
       "3/100"
      ]
     },
     "execution_count": 16,
     "metadata": {},
     "output_type": "execute_result"
    }
   ],
   "source": [
    "nsimplify(ex_round(model.symbolic_formula()[0][1], 2))"
   ]
  },
  {
   "cell_type": "code",
   "execution_count": 17,
   "metadata": {},
   "outputs": [
    {
     "data": {
      "text/plain": [
       "-2.828427314758301"
      ]
     },
     "execution_count": 17,
     "metadata": {},
     "output_type": "execute_result"
    }
   ],
   "source": [
    "loss_fn(model(input), vars, amp_phase).item()"
   ]
  },
  {
   "cell_type": "code",
   "execution_count": 18,
   "metadata": {},
   "outputs": [],
   "source": [
    "for epoch in range(5):\n",
    "    def closure():\n",
    "        optimizer.zero_grad()\n",
    "        loss = loss_fn(model(input), vars, amp_phase)\n",
    "        loss.backward()\n",
    "        return loss\n",
    "\n",
    "    optimizer.step(closure)"
   ]
  },
  {
   "cell_type": "code",
   "execution_count": 19,
   "metadata": {},
   "outputs": [
    {
     "data": {
      "text/plain": [
       "-2.828427314758301"
      ]
     },
     "execution_count": 19,
     "metadata": {},
     "output_type": "execute_result"
    }
   ],
   "source": [
    "loss_fn(model(input), vars, amp_phase).item()"
   ]
  },
  {
   "cell_type": "code",
   "execution_count": null,
   "metadata": {},
   "outputs": [],
   "source": []
  }
 ],
 "metadata": {
  "kernelspec": {
   "display_name": "kans",
   "language": "python",
   "name": "python3"
  },
  "language_info": {
   "codemirror_mode": {
    "name": "ipython",
    "version": 3
   },
   "file_extension": ".py",
   "mimetype": "text/x-python",
   "name": "python",
   "nbconvert_exporter": "python",
   "pygments_lexer": "ipython3",
   "version": "3.12.5"
  }
 },
 "nbformat": 4,
 "nbformat_minor": 2
}
