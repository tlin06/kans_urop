{
 "cells": [
  {
   "cell_type": "code",
   "execution_count": 1,
   "metadata": {},
   "outputs": [],
   "source": [
    "import qiskit as qk\n",
    "import qutip as qt\n",
    "import numpy as np\n",
    "import numpy.linalg as la\n",
    "import pandas as pd"
   ]
  },
  {
   "cell_type": "code",
   "execution_count": 2,
   "metadata": {},
   "outputs": [],
   "source": [
    "# define hamiltonian\n",
    "def TFIM_hamiltonian(n, J, gamma):\n",
    "    # uses ring shape\n",
    "    id = qt.qeye(2)\n",
    "    z = qt.sigmaz()\n",
    "    x = qt.sigmax()\n",
    "    sxi = []\n",
    "    szi = []\n",
    "    for i in range(n):\n",
    "        sxi.append(qt.tensor([id] * i + [x] + [id] * (n - i - 1)))\n",
    "        szi.append(qt.tensor([id] * i + [z] + [id] * (n - i - 1)))\n",
    "    return J * sum(szi[i] * szi[i + 1] for i in range(n - 1)) - szi[n - 1] * szi[0] - gamma * sum(sxi[i] for i in range(n))"
   ]
  },
  {
   "cell_type": "code",
   "execution_count": 3,
   "metadata": {},
   "outputs": [
    {
     "data": {
      "text/plain": [
       "array([ 3.46410162e+00+0.j,  2.00000000e+00+0.j,  2.98119290e-16+0.j,\n",
       "       -4.00000000e+00+0.j, -3.46410162e+00+0.j,  2.57072065e-16+0.j,\n",
       "        2.00000000e+00+0.j,  1.23804543e-16+0.j])"
      ]
     },
     "execution_count": 3,
     "metadata": {},
     "output_type": "execute_result"
    }
   ],
   "source": [
    "test = TFIM_hamiltonian(3, 1, 1)\n",
    "test.full()\n",
    "la.eig(test.full())[0]\n"
   ]
  },
  {
   "cell_type": "code",
   "execution_count": 4,
   "metadata": {},
   "outputs": [],
   "source": [
    "# classically\n",
    "def ground_state(h):\n",
    "    results = la.eig(h)\n",
    "    eigenvalues = results[0]\n",
    "    Phi = results[1]\n",
    "    min_index = 0\n",
    "    for i in range(len(eigenvalues)):\n",
    "        if np.real(eigenvalues[i]) < np.real(eigenvalues[min_index]):\n",
    "            min_index = i\n",
    "    return np.real(eigenvalues[min_index]), Phi[:, min_index]"
   ]
  },
  {
   "cell_type": "code",
   "execution_count": 5,
   "metadata": {},
   "outputs": [
    {
     "data": {
      "text/plain": [
       "(np.float64(-3.9999999999999947),\n",
       " array([0.20412415-0.j, 0.20412415-0.j, 0.61237244-0.j, 0.20412415-0.j,\n",
       "        0.20412415-0.j, 0.61237244+0.j, 0.20412415-0.j, 0.20412415-0.j]))"
      ]
     },
     "execution_count": 5,
     "metadata": {},
     "output_type": "execute_result"
    }
   ],
   "source": [
    "ground_state(test.full())"
   ]
  },
  {
   "cell_type": "code",
   "execution_count": 7,
   "metadata": {},
   "outputs": [],
   "source": [
    "# quantum method, using either QAOA or adiabatic\n",
    "from qiskit_algorithms import QAOA\n",
    "from qiskit_algorithms.optimizers import SPSA"
   ]
  },
  {
   "cell_type": "code",
   "execution_count": null,
   "metadata": {},
   "outputs": [],
   "source": []
  }
 ],
 "metadata": {
  "kernelspec": {
   "display_name": "kans",
   "language": "python",
   "name": "python3"
  },
  "language_info": {
   "codemirror_mode": {
    "name": "ipython",
    "version": 3
   },
   "file_extension": ".py",
   "mimetype": "text/x-python",
   "name": "python",
   "nbconvert_exporter": "python",
   "pygments_lexer": "ipython3",
   "version": "3.12.5"
  }
 },
 "nbformat": 4,
 "nbformat_minor": 2
}
