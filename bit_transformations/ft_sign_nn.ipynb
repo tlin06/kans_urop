{
 "cells": [
  {
   "cell_type": "code",
   "execution_count": 1,
   "id": "28bbf83e",
   "metadata": {},
   "outputs": [],
   "source": [
    "import kan\n",
    "import kan.utils as ku\n",
    "import numpy as np\n",
    "import torch.nn as nn\n",
    "import torch\n",
    "import qutip as qt\n",
    "from libraries import utils\n",
    "from libraries import magnetization\n",
    "from libraries import j1j2_functions"
   ]
  },
  {
   "cell_type": "code",
   "execution_count": 2,
   "id": "e018e529",
   "metadata": {},
   "outputs": [],
   "source": [
    "def rfft(x):\n",
    "    x = (-1) ** np.array(x)\n",
    "    return np.fft.rfft(x)[1:]"
   ]
  },
  {
   "cell_type": "code",
   "execution_count": 3,
   "id": "4c670f14",
   "metadata": {},
   "outputs": [
    {
     "data": {
      "text/latex": [
       "Quantum object: dims=[[2, 2, 2, 2, 2, 2, 2, 2, 2, 2], [1, 1, 1, 1, 1, 1, 1, 1, 1, 1]], shape=(1024, 1), type='ket', dtype=Dense$$\\left(\\begin{array}{cc}0\\\\1.269\\times10^{ -48 }\\\\-2.638\\times10^{ -18 }\\\\-1.218\\times10^{ -18 }\\\\-4.822\\times10^{ -18 }\\\\\\vdots\\\\-8.196\\times10^{ -49 }\\\\5.669\\times10^{ -49 }\\\\1.204\\times10^{ -48 }\\\\-2.122\\times10^{ -48 }\\\\0\\end{array}\\right)$$"
      ],
      "text/plain": [
       "Quantum object: dims=[[2, 2, 2, 2, 2, 2, 2, 2, 2, 2], [1, 1, 1, 1, 1, 1, 1, 1, 1, 1]], shape=(1024, 1), type='ket', dtype=Dense\n",
       "Qobj data =\n",
       "[[ 0.00000000e+00]\n",
       " [ 1.26928255e-48]\n",
       " [-2.63794454e-18]\n",
       " ...\n",
       " [ 1.20393997e-48]\n",
       " [-2.12190686e-48]\n",
       " [ 0.00000000e+00]]"
      ]
     },
     "execution_count": 3,
     "metadata": {},
     "output_type": "execute_result"
    }
   ],
   "source": [
    "N=10; J1=1; J2=0\n",
    "gs10 = qt.qload('../J1J2_info/N10/n10gs_J2_0.0')\n",
    "gs10"
   ]
  },
  {
   "cell_type": "code",
   "execution_count": 4,
   "id": "f4c20e57",
   "metadata": {},
   "outputs": [
    {
     "name": "stdout",
     "output_type": "stream",
     "text": [
      "torch.Size([252, 10])\n",
      "torch.Size([252, 10])\n",
      "torch.Size([252, 1]) torch.Size([252, 1])\n"
     ]
    },
    {
     "name": "stderr",
     "output_type": "stream",
     "text": [
      "C:\\Users\\taoha\\AppData\\Local\\Temp\\ipykernel_21760\\59886777.py:2: DeprecationWarning: __array__ implementation doesn't accept a copy keyword, so passing copy=False failed. __array__ must implement 'dtype' and 'copy' keyword arguments.\n",
      "  x = (-1) ** np.array(x)\n"
     ]
    }
   ],
   "source": [
    "states, signs = utils.get_nonzero_states(N, gs10, 1e-10)\n",
    "input = utils.generate_input_samples(N, states)\n",
    "print(input.shape)\n",
    "ft_input = []\n",
    "for x in input:\n",
    "    amp_phase = []\n",
    "    ft = rfft(x)\n",
    "    for c in ft:\n",
    "        amp_phase.append(np.abs(c))\n",
    "        amp_phase.append(np.angle(c) % (2 * np.pi))\n",
    "    ft_input.append(amp_phase)\n",
    "ft_input = torch.tensor(ft_input)\n",
    "print(ft_input.shape)\n",
    "msr_label = torch.tensor([magnetization.count_half_magnetization(s) for s in states]).reshape(-1, 1)\n",
    "sign_label = torch.tensor(signs).reshape(-1, 1)\n",
    "print(msr_label.shape, sign_label.shape)\n",
    "msr_dataset = {'train_input':ft_input, 'train_label':msr_label, 'test_input':ft_input, 'test_label':msr_label}\n",
    "sign_dataset = {'train_input':ft_input, 'train_label':sign_label, 'test_input':ft_input, 'test_label':sign_label}"
   ]
  },
  {
   "cell_type": "code",
   "execution_count": 5,
   "id": "ddea143b",
   "metadata": {},
   "outputs": [
    {
     "name": "stdout",
     "output_type": "stream",
     "text": [
      "checkpoint directory created: ./model\n",
      "saving model version 0.0\n"
     ]
    },
    {
     "name": "stderr",
     "output_type": "stream",
     "text": [
      "description:   0%|                                                           | 0/50 [00:00<?, ?it/s]"
     ]
    },
    {
     "name": "stderr",
     "output_type": "stream",
     "text": [
      "| train_loss: 3.50e-03 | test_loss: 3.50e-03 | reg: 6.35e+00 | : 100%|█| 50/50 [00:07<00:00,  6.92it"
     ]
    },
    {
     "name": "stdout",
     "output_type": "stream",
     "text": [
      "saving model version 0.1\n"
     ]
    },
    {
     "name": "stderr",
     "output_type": "stream",
     "text": [
      "\n"
     ]
    }
   ],
   "source": [
    "kan10 = kan.KAN(width=[10, 1, 1])\n",
    "kan10.fit(sign_dataset, steps=50, lamb=1e-3);"
   ]
  },
  {
   "cell_type": "code",
   "execution_count": 6,
   "id": "501d6bd7",
   "metadata": {},
   "outputs": [
    {
     "data": {
      "image/png": "[encoded data removed]",
      "text/plain": [
       "<Figure size 500x400 with 14 Axes>"
      ]
     },
     "metadata": {},
     "output_type": "display_data"
    }
   ],
   "source": [
    "kan10.plot()"
   ]
  },
  {
   "cell_type": "code",
   "execution_count": 7,
   "id": "f1e1bd90",
   "metadata": {},
   "outputs": [
    {
     "name": "stdout",
     "output_type": "stream",
     "text": [
      "saving model version 0.2\n"
     ]
    },
    {
     "name": "stderr",
     "output_type": "stream",
     "text": [
      "| train_loss: 6.03e-04 | test_loss: 6.03e-04 | reg: 5.53e+00 | : 100%|█| 20/20 [00:03<00:00,  6.02it"
     ]
    },
    {
     "name": "stdout",
     "output_type": "stream",
     "text": [
      "saving model version 0.3\n"
     ]
    },
    {
     "name": "stderr",
     "output_type": "stream",
     "text": [
      "\n"
     ]
    }
   ],
   "source": [
    "kan10 = kan10.prune()\n",
    "kan10.fit(sign_dataset, lamb=1e-3, steps=20);"
   ]
  },
  {
   "cell_type": "code",
   "execution_count": 8,
   "id": "cd81a4f6",
   "metadata": {},
   "outputs": [
    {
     "data": {
      "image/png": "[encoded data removed]",
      "text/plain": [
       "<Figure size 500x400 with 14 Axes>"
      ]
     },
     "metadata": {},
     "output_type": "display_data"
    }
   ],
   "source": [
    "kan10.plot()"
   ]
  },
  {
   "cell_type": "code",
   "execution_count": 9,
   "id": "c47a6cd9",
   "metadata": {},
   "outputs": [
    {
     "name": "stdout",
     "output_type": "stream",
     "text": [
      "r2 is 1.0000005960464478\n",
      "saving model version 0.4\n",
      "r2 is 1.000001072883606\n",
      "saving model version 0.5\n",
      "r2 is 1.0000005960464478\n",
      "saving model version 0.6\n"
     ]
    },
    {
     "name": "stderr",
     "output_type": "stream",
     "text": [
      "| train_loss: 8.38e-06 | test_loss: 8.38e-06 | reg: 0.00e+00 | : 100%|█| 20/20 [00:01<00:00, 17.80it"
     ]
    },
    {
     "name": "stdout",
     "output_type": "stream",
     "text": [
      "saving model version 0.7\n"
     ]
    },
    {
     "name": "stderr",
     "output_type": "stream",
     "text": [
      "\n"
     ]
    }
   ],
   "source": [
    "kan10.fix_symbolic(0, 8, 0, 'x');\n",
    "kan10.fix_symbolic(0, 9, 0, 'x');\n",
    "kan10.fix_symbolic(1, 0, 0, 'cos');\n",
    "kan10.fit(sign_dataset, steps=20);"
   ]
  },
  {
   "cell_type": "code",
   "execution_count": 10,
   "id": "2ae0f70b",
   "metadata": {},
   "outputs": [
    {
     "data": {
      "text/latex": [
       "$\\displaystyle 1.0 \\cos{\\left(1.004 x_{10} + 0.787 x_{9} + 7.841 \\right)}$"
      ],
      "text/plain": [
       "1.0*cos(1.004*x_10 + 0.787*x_9 + 7.841)"
      ]
     },
     "execution_count": 10,
     "metadata": {},
     "output_type": "execute_result"
    }
   ],
   "source": [
    "ku.ex_round(kan10.symbolic_formula()[0][0], 3)"
   ]
  },
  {
   "cell_type": "code",
   "execution_count": 11,
   "id": "4280001b",
   "metadata": {},
   "outputs": [
    {
     "name": "stdout",
     "output_type": "stream",
     "text": [
      "torch.Size([924, 12])\n",
      "torch.Size([924, 12])\n",
      "torch.Size([924, 1]) torch.Size([924, 1])\n"
     ]
    },
    {
     "name": "stderr",
     "output_type": "stream",
     "text": [
      "C:\\Users\\taoha\\AppData\\Local\\Temp\\ipykernel_21760\\59886777.py:2: DeprecationWarning: __array__ implementation doesn't accept a copy keyword, so passing copy=False failed. __array__ must implement 'dtype' and 'copy' keyword arguments.\n",
      "  x = (-1) ** np.array(x)\n"
     ]
    }
   ],
   "source": [
    "gs12 = qt.qload('../J1J2_info/N12/n12gs_J2_0.0')\n",
    "N=12\n",
    "states, signs = utils.get_nonzero_states(N, gs12, 1e-10)\n",
    "input = utils.generate_input_samples(N, states)\n",
    "print(input.shape)\n",
    "ft_input = []\n",
    "for x in input:\n",
    "    amp_phase = []\n",
    "    ft = rfft(x)\n",
    "    for c in ft:\n",
    "        amp_phase.append(np.abs(c))\n",
    "        amp_phase.append(np.angle(c) % (2 * np.pi))\n",
    "    ft_input.append(amp_phase)\n",
    "ft_input = torch.tensor(ft_input)\n",
    "print(ft_input.shape)\n",
    "msr_label = torch.tensor([magnetization.count_half_magnetization(s) for s in states]).reshape(-1, 1)\n",
    "sign_label = torch.tensor(signs).reshape(-1, 1)\n",
    "print(msr_label.shape, sign_label.shape)\n",
    "dataset12 = {'train_input':ft_input, 'train_label':sign_label, 'test_input':ft_input, 'test_label':sign_label}"
   ]
  },
  {
   "cell_type": "code",
   "execution_count": 23,
   "id": "f65a3d57",
   "metadata": {},
   "outputs": [
    {
     "name": "stdout",
     "output_type": "stream",
     "text": [
      "checkpoint directory created: ./model\n",
      "saving model version 0.0\n"
     ]
    },
    {
     "name": "stderr",
     "output_type": "stream",
     "text": [
      "| train_loss: 3.94e-03 | test_loss: 3.94e-03 | reg: 3.91e+00 | : 100%|█| 50/50 [00:23<00:00,  2.10it"
     ]
    },
    {
     "name": "stdout",
     "output_type": "stream",
     "text": [
      "saving model version 0.1\n"
     ]
    },
    {
     "name": "stderr",
     "output_type": "stream",
     "text": [
      "\n"
     ]
    }
   ],
   "source": [
    "kan12 = kan.KAN(width=[N, 2, 1])\n",
    "kan12.fit(dataset12, steps=50, lamb=1e-3);"
   ]
  },
  {
   "cell_type": "code",
   "execution_count": 24,
   "id": "efafdd1c",
   "metadata": {},
   "outputs": [
    {
     "data": {
      "image/png": "[encoded data removed]",
      "text/plain": [
       "<Figure size 500x400 with 30 Axes>"
      ]
     },
     "metadata": {},
     "output_type": "display_data"
    }
   ],
   "source": [
    "kan12.plot()"
   ]
  },
  {
   "cell_type": "code",
   "execution_count": 25,
   "id": "257aba6f",
   "metadata": {},
   "outputs": [
    {
     "name": "stdout",
     "output_type": "stream",
     "text": [
      "saving model version 0.2\n"
     ]
    },
    {
     "data": {
      "text/plain": [
       "[[12, 0], [1, 0], [1, 0]]"
      ]
     },
     "execution_count": 25,
     "metadata": {},
     "output_type": "execute_result"
    }
   ],
   "source": [
    "kan12.prune().width"
   ]
  },
  {
   "cell_type": "code",
   "execution_count": 26,
   "id": "93a8b4f4",
   "metadata": {},
   "outputs": [
    {
     "name": "stdout",
     "output_type": "stream",
     "text": [
      "saving model version 0.2\n"
     ]
    },
    {
     "name": "stderr",
     "output_type": "stream",
     "text": [
      "description:   0%|                                                           | 0/20 [00:00<?, ?it/s]"
     ]
    },
    {
     "name": "stderr",
     "output_type": "stream",
     "text": [
      "| train_loss: 5.36e-04 | test_loss: 5.36e-04 | reg: 4.48e+00 | : 100%|█| 20/20 [00:06<00:00,  3.30it"
     ]
    },
    {
     "name": "stdout",
     "output_type": "stream",
     "text": [
      "saving model version 0.3\n"
     ]
    },
    {
     "name": "stderr",
     "output_type": "stream",
     "text": [
      "\n"
     ]
    }
   ],
   "source": [
    "kan12 = kan12.prune()\n",
    "kan12.fit(dataset12, steps=20, lamb=1e-3);"
   ]
  },
  {
   "cell_type": "code",
   "execution_count": 27,
   "id": "f167eaad",
   "metadata": {},
   "outputs": [
    {
     "data": {
      "image/png": "[encoded data removed]",
      "text/plain": [
       "<Figure size 500x400 with 16 Axes>"
      ]
     },
     "metadata": {},
     "output_type": "display_data"
    }
   ],
   "source": [
    "kan12.plot()"
   ]
  },
  {
   "cell_type": "code",
   "execution_count": 28,
   "id": "c4e24b3b",
   "metadata": {},
   "outputs": [
    {
     "name": "stdout",
     "output_type": "stream",
     "text": [
      "  function  fitting r2    r2 loss  complexity  complexity loss  total loss\n",
      "0      sin    1.000001 -16.698301           2                2  -11.088811\n",
      "1      cos    1.000001 -16.698301           2                2  -11.088811\n",
      "2      abs    0.999991 -15.674595           3                3  -10.072216\n",
      "3     sqrt    0.999973 -14.731406           2                2   -9.711984\n",
      "4    x^0.5    0.999973 -14.731406           2                2   -9.711984\n",
      "5     tanh    0.999973 -14.740793           3                3   -9.418555\n",
      "6      tan    0.999972 -14.665119           3                3   -9.365583\n",
      "7   arctan    0.999975 -14.791102           4                4   -9.153771\n",
      "8  arctanh    0.999973 -14.726736           4                4   -9.108715\n",
      "9    x^1.5    0.999961 -14.313898           4                4   -8.819729\n",
      "   function  fitting r2    r2 loss  complexity  complexity loss  total loss\n",
      "0       cos    1.000001 -16.735349           2                2  -11.114745\n",
      "1       sin    1.000001 -16.716706           2                2  -11.101694\n",
      "2       tan    0.999957 -14.202708           3                3   -9.041895\n",
      "3       1/x    0.991459  -6.869774           2                2   -4.208842\n",
      "4     1/x^2    0.991355  -6.852271           2                2   -4.196589\n",
      "5     1/x^3    0.991483  -6.873812           3                3   -3.911668\n",
      "6  gaussian    0.991355  -6.852300           3                3   -3.896610\n",
      "7     1/x^4    0.991355  -6.852281           4                4   -3.596596\n",
      "8     1/x^5    0.991541  -6.883628           5                5   -3.318540\n",
      "9       abs    0.966908  -4.916924           3                3   -2.541847\n"
     ]
    }
   ],
   "source": [
    "kan12.suggest_symbolic(0, 10, 0, topk=10, weight_simple=0.3);\n",
    "kan12.suggest_symbolic(1, 0, 0, topk=10, weight_simple=0.3);"
   ]
  },
  {
   "cell_type": "code",
   "execution_count": 29,
   "id": "da913dcd",
   "metadata": {},
   "outputs": [
    {
     "name": "stdout",
     "output_type": "stream",
     "text": [
      "Best value at boundary.\n",
      "r2 is 0.9998775124549866\n",
      "saving model version 0.4\n",
      "r2 is 1.0000008344650269\n",
      "saving model version 0.5\n"
     ]
    },
    {
     "name": "stderr",
     "output_type": "stream",
     "text": [
      "| train_loss: 1.60e-07 | test_loss: 1.60e-07 | reg: 0.00e+00 | : 100%|█| 20/20 [00:03<00:00,  6.47it"
     ]
    },
    {
     "name": "stdout",
     "output_type": "stream",
     "text": [
      "saving model version 0.6\n"
     ]
    },
    {
     "name": "stderr",
     "output_type": "stream",
     "text": [
      "\n"
     ]
    }
   ],
   "source": [
    "kan12.fix_symbolic(0, 10, 0, 'x');\n",
    "kan12.fix_symbolic(1, 0, 0, 'cos');\n",
    "kan12.fit(dataset12, steps=20);"
   ]
  },
  {
   "cell_type": "code",
   "execution_count": null,
   "id": "64913305",
   "metadata": {},
   "outputs": [
    {
     "data": {
      "text/latex": [
       "$\\displaystyle - 1.022 \\cos{\\left(2.356 x_{11} - 3.352 \\right)}$"
      ],
      "text/plain": [
       "-1.022*cos(2.356*x_11 - 3.352)"
      ]
     },
     "execution_count": 30,
     "metadata": {},
     "output_type": "execute_result"
    }
   ],
   "source": [
    "ku.ex_round(kan12.symbolic_formula()[0][0], 3)\n",
    "# this is around -cos(x11 * 3pi/4 - pi) which makes sense as sign still flips when x11 changes by 4"
   ]
  },
  {
   "cell_type": "code",
   "execution_count": null,
   "id": "c3a91874",
   "metadata": {},
   "outputs": [
    {
     "name": "stdout",
     "output_type": "stream",
     "text": [
      "torch.Size([10, 1]) torch.Size([1]) True True\n"
     ]
    }
   ],
   "source": [
    "N=10\n",
    "vec = nn.Parameter(torch.randn([N, 1]))\n",
    "const = nn.Parameter(torch.randn(1))\n",
    "print(vec.shape, const.shape, vec.is_leaf, const.is_leaf)"
   ]
  },
  {
   "cell_type": "code",
   "execution_count": 124,
   "id": "8f5b7a88",
   "metadata": {},
   "outputs": [],
   "source": [
    "msr_vec = torch.tensor([0] * 8 + [torch.pi/4, 1], dtype=torch.float32).reshape(-1, 1)"
   ]
  },
  {
   "cell_type": "code",
   "execution_count": 121,
   "id": "4b0ee90c",
   "metadata": {},
   "outputs": [
    {
     "data": {
      "text/plain": [
       "{31: 10, 47: 10, 55: 10, 59: 10, 61: 10, 79: 10, 121: 10}"
      ]
     },
     "execution_count": 121,
     "metadata": {},
     "output_type": "execute_result"
    }
   ],
   "source": [
    "dev_gs = qt.qload('../J1J2_info/N10/n10gs_J2_0.32')\n",
    "states, signs = utils.get_nonzero_states(N, dev_gs, 1e-10)\n",
    "ft_input = sign_dataset['train_input']\n",
    "utils.find_uniques(utils.find_sign_deviations(states, signs, sign_dataset['train_label']), N)"
   ]
  },
  {
   "cell_type": "code",
   "execution_count": 125,
   "id": "19dc852e",
   "metadata": {},
   "outputs": [
    {
     "data": {
      "text/plain": [
       "tensor(0.)"
      ]
     },
     "execution_count": 125,
     "metadata": {},
     "output_type": "execute_result"
    }
   ],
   "source": [
    "torch.mean((torch.cos(ft_input @ msr_vec + torch.pi/2) - sign_dataset['train_label']) ** 2)"
   ]
  },
  {
   "cell_type": "code",
   "execution_count": 126,
   "id": "5eebd0b5",
   "metadata": {},
   "outputs": [
    {
     "name": "stdout",
     "output_type": "stream",
     "text": [
      "[31, 47, 55, 59, 61, 62, 79, 87, 91, 93]\n",
      "[-1, 1, -1, 1, -1, 1, -1, -1, 1, -1]\n",
      "tensor([[ 1],\n",
      "        [-1],\n",
      "        [ 1],\n",
      "        [-1],\n",
      "        [ 1],\n",
      "        [-1],\n",
      "        [ 1],\n",
      "        [-1],\n",
      "        [ 1],\n",
      "        [-1]])\n"
     ]
    }
   ],
   "source": [
    "print(states[:10])\n",
    "print(signs[:10])\n",
    "print(sign_dataset['train_label'][:10]) # this is fine"
   ]
  },
  {
   "cell_type": "code",
   "execution_count": 187,
   "id": "b4450256",
   "metadata": {},
   "outputs": [
    {
     "data": {
      "text/plain": [
       "tensor([[-2.1856],\n",
       "        [ 0.9538],\n",
       "        [ 4.3652],\n",
       "        [ 7.5998],\n",
       "        [10.7426],\n",
       "        [-3.8492],\n",
       "        [-6.0789],\n",
       "        [-4.6361],\n",
       "        [ 5.8603],\n",
       "        [ 5.7311]])"
      ]
     },
     "execution_count": 187,
     "metadata": {},
     "output_type": "execute_result"
    }
   ],
   "source": [
    "torch.empty([N, 1]).normal_(mean=0, std=5)"
   ]
  },
  {
   "cell_type": "code",
   "execution_count": 204,
   "id": "26cd8d4c",
   "metadata": {},
   "outputs": [
    {
     "name": "stdout",
     "output_type": "stream",
     "text": [
      "2.1115875244140625\n",
      "0.12406466901302338\n",
      "0.12406466901302338\n",
      "0.12406466901302338\n",
      "0.12406466901302338\n",
      "0.12406466901302338\n",
      "0.12406466901302338\n",
      "0.12406466901302338\n",
      "0.12406466901302338\n",
      "0.12406466901302338\n",
      "0.12406466901302338\n"
     ]
    }
   ],
   "source": [
    "# vec = nn.Parameter(torch.randn([N, 1]))\n",
    "vec = nn.Parameter(torch.empty([N, 1]).normal_(mean=0, std=0.2))\n",
    "const = nn.Parameter(torch.randn(1))\n",
    "labels = torch.tensor(signs).reshape(-1, 1)\n",
    "opt = torch.optim.LBFGS([vec,const], lr = 1)\n",
    "for i in range(50):\n",
    "    def closure():\n",
    "        opt.zero_grad()\n",
    "        pred = torch.cos(ft_input @ msr_vec + ft_input @ vec + torch.pi / 2 + const)\n",
    "        loss = torch.mean((pred - labels) ** 2)\n",
    "        loss.backward()\n",
    "        return loss\n",
    "    loss = opt.step(closure)\n",
    "    if i % 5 == 0:\n",
    "        print(loss.item())\n",
    "print(loss.item())\n"
   ]
  },
  {
   "cell_type": "code",
   "execution_count": null,
   "id": "54590856",
   "metadata": {},
   "outputs": [
    {
     "data": {
      "text/plain": [
       "tensor(1.1111)"
      ]
     },
     "execution_count": 207,
     "metadata": {},
     "output_type": "execute_result"
    }
   ],
   "source": [
    "torch.mean((torch.cos(ft_input @ msr_vec + torch.pi / 2) - labels)** 2) # = (70 * 4) / 252"
   ]
  },
  {
   "cell_type": "code",
   "execution_count": null,
   "id": "bd6f5280",
   "metadata": {},
   "outputs": [],
   "source": [
    "x"
   ]
  },
  {
   "cell_type": "code",
   "execution_count": null,
   "id": "89d3d84d",
   "metadata": {},
   "outputs": [
    {
     "data": {
      "text/plain": [
       "Parameter containing:\n",
       "tensor([[ 7.0556e-01],\n",
       "        [-8.8239e-03],\n",
       "        [ 9.1221e-02],\n",
       "        [-1.2233e-03],\n",
       "        [-1.0812e-01],\n",
       "        [-1.3412e-02],\n",
       "        [-6.9132e-02],\n",
       "        [ 2.9922e-03],\n",
       "        [-1.4615e-01],\n",
       "        [ 4.7090e-04]], requires_grad=True)"
      ]
     },
     "execution_count": 205,
     "metadata": {},
     "output_type": "execute_result"
    }
   ],
   "source": [
    "best_vec = #vec\n",
    "best_vec"
   ]
  },
  {
   "cell_type": "code",
   "execution_count": 223,
   "id": "63573e55",
   "metadata": {},
   "outputs": [
    {
     "data": {
      "text/plain": [
       "(Parameter containing:\n",
       " tensor([[ 7.0556e-01],\n",
       "         [-8.8239e-03],\n",
       "         [ 9.1221e-02],\n",
       "         [-1.2233e-03],\n",
       "         [-1.0812e-01],\n",
       "         [-1.3412e-02],\n",
       "         [-6.9132e-02],\n",
       "         [ 2.9922e-03],\n",
       "         [-1.4615e-01],\n",
       "         [ 4.7090e-04]], requires_grad=True),\n",
       " Parameter containing:\n",
       " tensor([-0.4385], requires_grad=True))"
      ]
     },
     "execution_count": 223,
     "metadata": {},
     "output_type": "execute_result"
    }
   ],
   "source": [
    "best_vec, const"
   ]
  },
  {
   "cell_type": "code",
   "execution_count": null,
   "id": "447bf815",
   "metadata": {},
   "outputs": [
    {
     "data": {
      "text/plain": [
       "tensor(0.0317, grad_fn=<MeanBackward0>)"
      ]
     },
     "execution_count": 219,
     "metadata": {},
     "output_type": "execute_result"
    }
   ],
   "source": [
    "pred = torch.cos(ft_input @ msr_vec + ft_input @ vec + torch.pi / 2 + const)\n",
    "torch.mean((torch.sgn(pred) - labels) ** 2) # this is 2 mistakes = (4 * 2) / 252"
   ]
  },
  {
   "cell_type": "code",
   "execution_count": null,
   "id": "66fda9c4",
   "metadata": {},
   "outputs": [],
   "source": []
  }
 ],
 "metadata": {
  "kernelspec": {
   "display_name": "kans",
   "language": "python",
   "name": "python3"
  },
  "language_info": {
   "codemirror_mode": {
    "name": "ipython",
    "version": 3
   },
   "file_extension": ".py",
   "mimetype": "text/x-python",
   "name": "python",
   "nbconvert_exporter": "python",
   "pygments_lexer": "ipython3",
   "version": "3.9.23"
  }
 },
 "nbformat": 4,
 "nbformat_minor": 5
}
