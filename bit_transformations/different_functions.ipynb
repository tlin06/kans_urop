{
 "cells": [
  {
   "cell_type": "code",
   "execution_count": 1,
   "id": "d7c38872",
   "metadata": {},
   "outputs": [],
   "source": [
    "import numpy as np"
   ]
  },
  {
   "cell_type": "code",
   "execution_count": 2,
   "id": "c463853b",
   "metadata": {},
   "outputs": [
    {
     "name": "stdout",
     "output_type": "stream",
     "text": [
      "[0 0 0 0 1 1 1 1] [1 0 0 0 0 1 1 1]\n",
      "[ 4.+0.j         -1.+2.41421356j  0.+0.j         -1.+0.41421356j\n",
      "  0.+0.j         -1.-0.41421356j  0.+0.j         -1.-2.41421356j] \n",
      " [4.+0.j         1.+2.41421356j 0.+0.j         1.+0.41421356j\n",
      " 0.+0.j         1.-0.41421356j 0.+0.j         1.-2.41421356j]\n",
      "[4.         2.61312593 0.         1.0823922  0.         1.0823922\n",
      " 0.         2.61312593] \n",
      " [4.         2.61312593 0.         1.0823922  0.         1.0823922\n",
      " 0.         2.61312593]\n",
      "True\n"
     ]
    }
   ],
   "source": [
    "x = np.array([0,0,0,0,1,1,1,1])      # original\n",
    "x_rot = np.roll(x, 1)               # rotated\n",
    "\n",
    "print(x, x_rot)\n",
    "\n",
    "X = np.fft.fft(x)\n",
    "X_rot = np.fft.fft(x_rot)\n",
    "\n",
    "print(X, '\\n', X_rot)\n",
    "print(np.abs(X), '\\n', np.abs(X_rot))\n",
    "print(np.allclose(np.abs(X), np.abs(X_rot)))  # True"
   ]
  },
  {
   "cell_type": "code",
   "execution_count": 3,
   "id": "ab7a2134",
   "metadata": {},
   "outputs": [
    {
     "data": {
      "text/plain": [
       "array([0.00000000e+00+0.j, 0.00000000e+00+0.j, 5.55111512e-17+0.j,\n",
       "       0.00000000e+00+0.j, 1.00000000e+00+0.j, 1.00000000e+00+0.j,\n",
       "       1.00000000e+00+0.j, 1.00000000e+00+0.j])"
      ]
     },
     "execution_count": 3,
     "metadata": {},
     "output_type": "execute_result"
    }
   ],
   "source": [
    "np.fft.ifftn(X)"
   ]
  },
  {
   "cell_type": "code",
   "execution_count": 4,
   "id": "844c80e1",
   "metadata": {},
   "outputs": [
    {
     "data": {
      "text/plain": [
       "array([ 1.42387953+0.j,  0.77059805+0.j,  0.5       +0.j,  0.22940195+0.j,\n",
       "       -0.42387953+0.j,  0.22940195+0.j,  0.5       +0.j,  0.77059805+0.j])"
      ]
     },
     "execution_count": 4,
     "metadata": {},
     "output_type": "execute_result"
    }
   ],
   "source": [
    "np.fft.ifftn(np.abs(X))"
   ]
  },
  {
   "cell_type": "code",
   "execution_count": 5,
   "id": "e0e87836",
   "metadata": {},
   "outputs": [
    {
     "name": "stdout",
     "output_type": "stream",
     "text": [
      "DFT mag a: [4.   2.61 0.   1.08 0.   1.08 0.   2.61]\n",
      "DFT mag b: [4.   0.77 1.41 1.85 2.   1.85 1.41 0.77]\n",
      "Equal? False\n"
     ]
    }
   ],
   "source": [
    "a = np.array([0,0,0,0,1,1,1,1])\n",
    "b = np.array([1,0,0,1,0,1,0,1])\n",
    "\n",
    "A = np.fft.fft(a)\n",
    "B = np.fft.fft(b)\n",
    "\n",
    "print(\"DFT mag a:\", np.round(np.abs(A), 2))\n",
    "print(\"DFT mag b:\", np.round(np.abs(B), 2))\n",
    "print(\"Equal?\", np.allclose(np.abs(A), np.abs(B)))"
   ]
  },
  {
   "cell_type": "code",
   "execution_count": 6,
   "id": "11f9bbf0",
   "metadata": {},
   "outputs": [
    {
     "name": "stdout",
     "output_type": "stream",
     "text": [
      "x: [0 0 1 0 0 1 1 1]\n",
      "y: [0 0 1 1 1 0 0 1]\n",
      "Magnitude FFT of x: [4.      1.41421 2.      1.41421 0.      1.41421 2.      1.41421]\n",
      "Magnitude FFT of y: [4.      1.41421 2.      1.41421 0.      1.41421 2.      1.41421]\n",
      "Are magnitudes equal? True\n"
     ]
    }
   ],
   "source": [
    "# Define binary vectors\n",
    "x = np.array([0, 0, 1, 0, 0, 1, 1, 1])\n",
    "y = np.array([0, 0, 1, 1, 1, 0, 0, 1])\n",
    "\n",
    "# Compute FFTs\n",
    "X = np.fft.fft(x)\n",
    "Y = np.fft.fft(y)\n",
    "\n",
    "# Compute magnitudes\n",
    "mag_X = np.round(np.abs(X), 5)\n",
    "mag_Y = np.round(np.abs(Y), 5)\n",
    "\n",
    "# Print results\n",
    "print(\"x:\", x)\n",
    "print(\"y:\", y)\n",
    "print(\"Magnitude FFT of x:\", mag_X)\n",
    "print(\"Magnitude FFT of y:\", mag_Y)\n",
    "print(\"Are magnitudes equal?\", np.allclose(mag_X, mag_Y)) # it seems this is good ??"
   ]
  },
  {
   "cell_type": "code",
   "execution_count": 7,
   "id": "6678ccd7",
   "metadata": {},
   "outputs": [
    {
     "data": {
      "text/plain": [
       "array([ True,  True,  True,  True,  True,  True,  True,  True])"
      ]
     },
     "execution_count": 7,
     "metadata": {},
     "output_type": "execute_result"
    }
   ],
   "source": [
    "np.roll(x[::-1], 2) == y"
   ]
  },
  {
   "cell_type": "code",
   "execution_count": 8,
   "id": "c2b03323",
   "metadata": {},
   "outputs": [
    {
     "name": "stdout",
     "output_type": "stream",
     "text": [
      "[ 4.        +0.j         -0.29289322-0.70710678j  1.        +1.j\n",
      " -1.70710678-0.70710678j -2.        +0.j         -1.70710678+0.70710678j\n",
      "  1.        -1.j         -0.29289322+0.70710678j]\n",
      "[ 4.        +0.j          0.29289322+0.70710678j -1.        -1.j\n",
      "  1.70710678+0.70710678j  2.        +0.j          1.70710678-0.70710678j\n",
      " -1.        +1.j          0.29289322-0.70710678j]\n",
      "Magnitude equal?  True\n"
     ]
    }
   ],
   "source": [
    "# Define bitstrings\n",
    "x = np.array([0, 1, 0, 1, 1, 0, 0, 1])\n",
    "y = np.array([1, 0, 1, 0, 0, 1, 1, 0])\n",
    "[0,1,1,0,0,1,0,1]\n",
    "\n",
    "# Compute DFTs\n",
    "X = np.fft.fft(x)\n",
    "Y = np.fft.fft(y)\n",
    "\n",
    "# Compare magnitude spectra\n",
    "print(X)\n",
    "print(Y)\n",
    "print(\"Magnitude equal? \", np.allclose(np.abs(X), np.abs(Y))) # reflect and rotate gives the same"
   ]
  },
  {
   "cell_type": "code",
   "execution_count": 9,
   "id": "920d09f8",
   "metadata": {},
   "outputs": [
    {
     "name": "stdout",
     "output_type": "stream",
     "text": [
      "[ 4.+0.j          0.+1.41421356j -2.+0.j          0.+1.41421356j\n",
      "  0.+0.j          0.-1.41421356j -2.+0.j          0.-1.41421356j]\n",
      "[ 4.+0.j -1.+1.j  0.+2.j -1.-1.j  0.+0.j -1.+1.j  0.-2.j -1.-1.j]\n",
      "Magnitude equal?  True\n"
     ]
    }
   ],
   "source": [
    "x = [0, 0, 1, 0, 0, 1, 1, 1]\n",
    "y = [0, 0, 0, 1, 1, 0, 1, 1]\n",
    "\n",
    "# Compute DFTs\n",
    "X = np.fft.fft(x)\n",
    "Y = np.fft.fft(y)\n",
    "\n",
    "# Compare magnitude spectra\n",
    "print(X)\n",
    "print(Y)\n",
    "print(\"Magnitude equal? \", np.allclose(np.abs(X), np.abs(Y))) "
   ]
  },
  {
   "cell_type": "code",
   "execution_count": 10,
   "id": "df335fef",
   "metadata": {},
   "outputs": [
    {
     "data": {
      "text/plain": [
       "array([0, 0, 0, 1, 1, 0, 1, 1])"
      ]
     },
     "execution_count": 10,
     "metadata": {},
     "output_type": "execute_result"
    }
   ],
   "source": [
    "np.array([1,1,0,1,1,0,0,0])[::-1]"
   ]
  },
  {
   "cell_type": "code",
   "execution_count": 11,
   "id": "6c86f61f",
   "metadata": {},
   "outputs": [
    {
     "data": {
      "text/plain": [
       "1"
      ]
     },
     "execution_count": 11,
     "metadata": {},
     "output_type": "execute_result"
    }
   ],
   "source": [
    "0b0001"
   ]
  },
  {
   "cell_type": "code",
   "execution_count": 12,
   "id": "45adaff5",
   "metadata": {},
   "outputs": [
    {
     "data": {
      "text/plain": [
       "8"
      ]
     },
     "execution_count": 12,
     "metadata": {},
     "output_type": "execute_result"
    }
   ],
   "source": [
    "0b1000"
   ]
  },
  {
   "cell_type": "code",
   "execution_count": 13,
   "id": "0fbcba9e",
   "metadata": {},
   "outputs": [],
   "source": [
    "def find_dft_magnitude_collisions(L):\n",
    "    \"\"\"Search all binary strings of length L for DFT-magnitude collisions not related by rotation/reflection.\"\"\"\n",
    "    from itertools import product\n",
    "    all_signals = list(product([0, 1], repeat=L))\n",
    "    seen = {}\n",
    "    collisions = []\n",
    "    \n",
    "    for x in all_signals:\n",
    "        x = np.array(x)\n",
    "        mag = tuple(np.round(np.abs(np.fft.fft(x)), 5))  # Use rounding to avoid tiny FP errors\n",
    "        \n",
    "        if mag not in seen:\n",
    "            seen[mag] = [x]\n",
    "        else:\n",
    "            for y in seen[mag]:\n",
    "                # Check dihedral equivalence\n",
    "                y_equiv = {\n",
    "                    tuple(np.roll(y, r)) for r in range(L)\n",
    "                }.union({\n",
    "                    tuple(np.roll(y[::-1], r)) for r in range(L)\n",
    "                }).union({\n",
    "                    tuple(np.roll(1-y, r)) for r in range(L)\n",
    "                }).union({\n",
    "                    tuple(np.roll((1-y)[::-1], r)) for r in range(L)\n",
    "                })\n",
    "                if tuple(x) not in y_equiv:\n",
    "                    collisions.append((x, y))\n",
    "                    return collisions  # Return first one found (can remove this to get all)\n",
    "            seen[mag].append(x)\n",
    "    \n",
    "    return collisions # this almost works, except there are two strings for N=12 --> N=20 or greater which don't match"
   ]
  },
  {
   "cell_type": "code",
   "execution_count": 14,
   "id": "39d8078e",
   "metadata": {},
   "outputs": [
    {
     "data": {
      "text/plain": [
       "[]"
      ]
     },
     "execution_count": 14,
     "metadata": {},
     "output_type": "execute_result"
    }
   ],
   "source": [
    "find_dft_magnitude_collisions(10)"
   ]
  },
  {
   "cell_type": "code",
   "execution_count": 15,
   "id": "f7c55e8e",
   "metadata": {},
   "outputs": [
    {
     "data": {
      "text/plain": [
       "array([0, 1, 1])"
      ]
     },
     "execution_count": 15,
     "metadata": {},
     "output_type": "execute_result"
    }
   ],
   "source": [
    "1- np.array([1, 0, 0])"
   ]
  },
  {
   "cell_type": "code",
   "execution_count": 16,
   "id": "7ab01736",
   "metadata": {},
   "outputs": [
    {
     "data": {
      "text/plain": [
       "array([0, 1, 1])"
      ]
     },
     "execution_count": 16,
     "metadata": {},
     "output_type": "execute_result"
    }
   ],
   "source": [
    "np.logical_not(np.array([1, 0, 0])).astype(int)"
   ]
  },
  {
   "cell_type": "code",
   "execution_count": 17,
   "id": "94a3d032",
   "metadata": {},
   "outputs": [
    {
     "name": "stdout",
     "output_type": "stream",
     "text": [
      "WHT of autocorrelation: [ 0  0  0  0 16 16  0 32]\n"
     ]
    }
   ],
   "source": [
    "def autocorrelation(x):\n",
    "    \"\"\"\n",
    "    Compute the circular autocorrelation of +/-1 sequence x.\n",
    "    x: 1D numpy array of length L with elements +1 or -1.\n",
    "    Returns: numpy array A of length L, A[k] = sum_j x[j]*x[(j+k)%L].\n",
    "    \"\"\"\n",
    "    L = len(x)\n",
    "    A = np.zeros(L, dtype=int)\n",
    "    for k in range(L):\n",
    "        s = 0\n",
    "        for j in range(L):\n",
    "            s += x[j] * x[(j + k) % L]\n",
    "        A[k] = s\n",
    "    return A\n",
    "\n",
    "def walsh_hadamard_transform(x):\n",
    "    \"\"\"\n",
    "    Compute the Walsh-Hadamard transform (WHT) of input vector x.\n",
    "    Length of x must be a power of two.\n",
    "    Returns: numpy array of same length as x.\n",
    "    \"\"\"\n",
    "    L = len(x)\n",
    "    if L == 1:\n",
    "        return x\n",
    "    else:\n",
    "        x = np.array(x)\n",
    "        if (L & (L - 1)) != 0:\n",
    "            raise ValueError(\"Length of input must be a power of two\")\n",
    "        half = L // 2\n",
    "        top = walsh_hadamard_transform(x[:half])\n",
    "        bottom = walsh_hadamard_transform(x[half:])\n",
    "        return np.concatenate([top + bottom, top - bottom])\n",
    "\n",
    "def auto_wht(bitstring):\n",
    "    \"\"\"\n",
    "    Given a bitstring (list or array of 0/1), compute autocorrelation + WHT.\n",
    "    Returns: numpy array of WHT of autocorrelation vector.\n",
    "    \"\"\"\n",
    "    # Convert bitstring to +1/-1 sequence\n",
    "    x = np.array([1 if b == 0 else -1 for b in bitstring])\n",
    "    A = autocorrelation(x)\n",
    "    T = walsh_hadamard_transform(A)\n",
    "    return T\n",
    "\n",
    "# Example usage\n",
    "if __name__ == \"__main__\":\n",
    "    bitstring = [1, 1, 0, 1, 0, 0, 1, 0]  # length 8 (power of two)\n",
    "    T = auto_wht(bitstring)\n",
    "    print(\"WHT of autocorrelation:\", T)"
   ]
  },
  {
   "cell_type": "code",
   "execution_count": 18,
   "id": "381de3e1",
   "metadata": {},
   "outputs": [
    {
     "data": {
      "text/plain": [
       "array([4, 1, 2, 3, 0, 3, 2, 1])"
      ]
     },
     "execution_count": 18,
     "metadata": {},
     "output_type": "execute_result"
    }
   ],
   "source": [
    "autocorrelation(bitstring)"
   ]
  },
  {
   "cell_type": "code",
   "execution_count": 19,
   "id": "bd633a63",
   "metadata": {},
   "outputs": [
    {
     "data": {
      "text/plain": [
       "array([4, 1, 2, 3, 0, 3, 2, 1])"
      ]
     },
     "execution_count": 19,
     "metadata": {},
     "output_type": "execute_result"
    }
   ],
   "source": [
    "autocorrelation(bitstring[::-1])"
   ]
  },
  {
   "cell_type": "code",
   "execution_count": 20,
   "id": "4716f20f",
   "metadata": {},
   "outputs": [
    {
     "data": {
      "text/plain": [
       "array([ 2, -2,  0,  0])"
      ]
     },
     "execution_count": 20,
     "metadata": {},
     "output_type": "execute_result"
    }
   ],
   "source": [
    "walsh_hadamard_transform([0, 1, 0, 1])"
   ]
  },
  {
   "cell_type": "code",
   "execution_count": 21,
   "id": "7aa3f13e",
   "metadata": {},
   "outputs": [
    {
     "data": {
      "text/plain": [
       "array([0, 4, 0, 0])"
      ]
     },
     "execution_count": 21,
     "metadata": {},
     "output_type": "execute_result"
    }
   ],
   "source": [
    "walsh_hadamard_transform([1, -1, 1, -1])"
   ]
  },
  {
   "cell_type": "code",
   "execution_count": 22,
   "id": "3ab5fcad",
   "metadata": {},
   "outputs": [],
   "source": [
    "def find_auto_wht_magnitude_collisions(L):\n",
    "    from itertools import product\n",
    "    all_signals = list(product([0, 1], repeat=L))\n",
    "    seen = {}\n",
    "    collisions = []\n",
    "    \n",
    "    for x in all_signals:\n",
    "        x = np.array(x)\n",
    "        mag = tuple(auto_wht(x))  # Use rounding to avoid tiny FP errors\n",
    "        \n",
    "        if mag not in seen:\n",
    "            seen[mag] = [x]\n",
    "        else:\n",
    "            for y in seen[mag]:\n",
    "                # Check dihedral equivalence\n",
    "                y_equiv = {\n",
    "                    tuple(np.roll(y, r)) for r in range(L)\n",
    "                }.union({\n",
    "                    tuple(np.roll(y[::-1], r)) for r in range(L)\n",
    "                }).union({\n",
    "                    tuple(np.roll(1-y, r)) for r in range(L)\n",
    "                }).union({\n",
    "                    tuple(np.roll((1-y)[::-1], r)) for r in range(L)\n",
    "                })\n",
    "                if tuple(x) not in y_equiv:\n",
    "                    collisions.append((x, y))\n",
    "                    return collisions  # Return first one found (can remove this to get all)\n",
    "            seen[mag].append(x)\n",
    "    \n",
    "    return collisions # this almost works, except there are two strings for N=16 or greater which don't match"
   ]
  },
  {
   "cell_type": "code",
   "execution_count": 23,
   "id": "d566830e",
   "metadata": {},
   "outputs": [
    {
     "data": {
      "text/plain": [
       "[(array([0, 0, 0, 0, 0, 0, 1, 0, 0, 0, 0, 1, 0, 0, 1, 1]),\n",
       "  array([0, 0, 0, 0, 0, 0, 0, 1, 0, 0, 1, 0, 0, 0, 1, 1]))]"
      ]
     },
     "execution_count": 23,
     "metadata": {},
     "output_type": "execute_result"
    }
   ],
   "source": [
    "find_auto_wht_magnitude_collisions(16)"
   ]
  },
  {
   "cell_type": "code",
   "execution_count": 24,
   "id": "9f48de18",
   "metadata": {},
   "outputs": [
    {
     "data": {
      "text/plain": [
       "array([64,  0, 32, 32, 16, 16, 16, 16,  8,  8,  8,  8,  8,  8,  8,  8])"
      ]
     },
     "execution_count": 24,
     "metadata": {},
     "output_type": "execute_result"
    }
   ],
   "source": [
    "auto_wht(np.array([0, 0, 0, 0, 0, 0, 1, 0, 0, 0, 0, 1, 0, 0, 1, 1]))"
   ]
  },
  {
   "cell_type": "code",
   "execution_count": 25,
   "id": "c9d3e220",
   "metadata": {},
   "outputs": [
    {
     "data": {
      "text/plain": [
       "array([64,  0, 32, 32, 16, 16, 16, 16,  8,  8,  8,  8,  8,  8,  8,  8])"
      ]
     },
     "execution_count": 25,
     "metadata": {},
     "output_type": "execute_result"
    }
   ],
   "source": [
    "auto_wht(np.array([0, 0, 0, 0, 0, 0, 0, 1, 0, 0, 1, 0, 0, 0, 1, 1]))"
   ]
  },
  {
   "cell_type": "code",
   "execution_count": 26,
   "id": "c3596557",
   "metadata": {},
   "outputs": [
    {
     "name": "stdout",
     "output_type": "stream",
     "text": [
      "[16  4  0  4  4  4  0  4  8  4  0  4  4  4  0  4]\n",
      "[16  4  0  4  4  4  0  4  8  4  0  4  4  4  0  4]\n"
     ]
    }
   ],
   "source": [
    "print(autocorrelation((-1)**np.array([0, 0, 0, 0, 0, 0, 1, 0, 0, 0, 0, 1, 0, 0, 1, 1])))\n",
    "print(autocorrelation((-1)**np.array([0, 0, 0, 0, 0, 0, 0, 1, 0, 0, 1, 0, 0, 0, 1, 1])))"
   ]
  },
  {
   "cell_type": "code",
   "execution_count": 3,
   "id": "25eb4445",
   "metadata": {},
   "outputs": [],
   "source": [
    "def find_collisions(L, f):\n",
    "    from itertools import product\n",
    "    all_signals = list(product([0, 1], repeat=L))\n",
    "    seen = {}\n",
    "    collisions = []\n",
    "    \n",
    "    for x in all_signals:\n",
    "        x = np.array(x)\n",
    "        mag = tuple(f(x))  # Use rounding to avoid tiny FP errors\n",
    "        \n",
    "        if mag not in seen:\n",
    "            seen[mag] = [x]\n",
    "        else:\n",
    "            for y in seen[mag]:\n",
    "                # Check dihedral equivalence\n",
    "                y_equiv = {\n",
    "                    tuple(np.roll(y, r)) for r in range(L)\n",
    "                }.union({\n",
    "                    tuple(np.roll(y[::-1], r)) for r in range(L)\n",
    "                }).union({\n",
    "                    tuple(np.roll(1-y, r)) for r in range(L)\n",
    "                }).union({\n",
    "                    tuple(np.roll((1-y)[::-1], r)) for r in range(L)\n",
    "                })\n",
    "                if tuple(x) not in y_equiv:\n",
    "                    collisions.append((x, y))\n",
    "                    return collisions  # Return first one found (can remove this to get all)\n",
    "            seen[mag].append(x)\n",
    "    \n",
    "    return collisions "
   ]
  },
  {
   "cell_type": "code",
   "execution_count": 28,
   "id": "40b33883",
   "metadata": {},
   "outputs": [
    {
     "data": {
      "text/plain": [
       "[]"
      ]
     },
     "execution_count": 28,
     "metadata": {},
     "output_type": "execute_result"
    }
   ],
   "source": [
    "find_collisions(16, walsh_hadamard_transform)"
   ]
  },
  {
   "cell_type": "code",
   "execution_count": 29,
   "id": "c7e278cb",
   "metadata": {},
   "outputs": [
    {
     "data": {
      "text/latex": [
       "Quantum object: dims=[[2, 2, 2, 2, 2, 2, 2, 2], [2, 2, 2, 2, 2, 2, 2, 2]], shape=(256, 256), type='oper', dtype=Dense, isherm=True$$\\left(\\begin{array}{cc}0.062 & 0.062 & 0.062 & 0.062 & 0.062 & \\cdots & 0.062 & 0.062 & 0.062 & 0.062 & 0.062\\\\0.062 & -0.062 & 0.062 & -0.062 & 0.062 & \\cdots & -0.062 & 0.062 & -0.062 & 0.062 & -0.062\\\\0.062 & 0.062 & -0.062 & -0.062 & 0.062 & \\cdots & -0.062 & 0.062 & 0.062 & -0.062 & -0.062\\\\0.062 & -0.062 & -0.062 & 0.062 & 0.062 & \\cdots & 0.062 & 0.062 & -0.062 & -0.062 & 0.062\\\\0.062 & 0.062 & 0.062 & 0.062 & -0.062 & \\cdots & 0.062 & -0.062 & -0.062 & -0.062 & -0.062\\\\\\vdots & \\vdots & \\vdots & \\vdots & \\vdots & \\ddots & \\vdots & \\vdots & \\vdots & \\vdots & \\vdots\\\\0.062 & -0.062 & -0.062 & 0.062 & 0.062 & \\cdots & -0.062 & -0.062 & 0.062 & 0.062 & -0.062\\\\0.062 & 0.062 & 0.062 & 0.062 & -0.062 & \\cdots & -0.062 & 0.062 & 0.062 & 0.062 & 0.062\\\\0.062 & -0.062 & 0.062 & -0.062 & -0.062 & \\cdots & 0.062 & 0.062 & -0.062 & 0.062 & -0.062\\\\0.062 & 0.062 & -0.062 & -0.062 & -0.062 & \\cdots & 0.062 & 0.062 & 0.062 & -0.062 & -0.062\\\\0.062 & -0.062 & -0.062 & 0.062 & -0.062 & \\cdots & -0.062 & 0.062 & -0.062 & -0.062 & 0.062\\end{array}\\right)$$"
      ],
      "text/plain": [
       "Quantum object: dims=[[2, 2, 2, 2, 2, 2, 2, 2], [2, 2, 2, 2, 2, 2, 2, 2]], shape=(256, 256), type='oper', dtype=Dense, isherm=True\n",
       "Qobj data =\n",
       "[[ 0.0625  0.0625  0.0625 ...  0.0625  0.0625  0.0625]\n",
       " [ 0.0625 -0.0625  0.0625 ... -0.0625  0.0625 -0.0625]\n",
       " [ 0.0625  0.0625 -0.0625 ...  0.0625 -0.0625 -0.0625]\n",
       " ...\n",
       " [ 0.0625 -0.0625  0.0625 ... -0.0625  0.0625 -0.0625]\n",
       " [ 0.0625  0.0625 -0.0625 ...  0.0625 -0.0625 -0.0625]\n",
       " [ 0.0625 -0.0625 -0.0625 ... -0.0625 -0.0625  0.0625]]"
      ]
     },
     "execution_count": 29,
     "metadata": {},
     "output_type": "execute_result"
    }
   ],
   "source": [
    "import qutip as qt\n",
    "qt.gates.hadamard_transform(8)"
   ]
  },
  {
   "cell_type": "code",
   "execution_count": 30,
   "id": "4c91d4b3",
   "metadata": {},
   "outputs": [
    {
     "data": {
      "text/plain": [
       "array([[ 1.41421356+0.j],\n",
       "       [ 0.70710678+0.j],\n",
       "       [ 0.        +0.j],\n",
       "       [ 0.70710678+0.j],\n",
       "       [ 0.        +0.j],\n",
       "       [ 0.70710678+0.j],\n",
       "       [ 0.        +0.j],\n",
       "       [-0.70710678+0.j]])"
      ]
     },
     "execution_count": 30,
     "metadata": {},
     "output_type": "execute_result"
    }
   ],
   "source": [
    "qt.gates.hadamard_transform(3).full() @ np.array([1, 0, 1, 0, 1, 0, 0, 1]).reshape((-1, 1))"
   ]
  },
  {
   "cell_type": "code",
   "execution_count": 31,
   "id": "6f54b5dd",
   "metadata": {},
   "outputs": [
    {
     "data": {
      "text/plain": [
       "array([ 4,  2,  0,  2,  0,  2,  0, -2])"
      ]
     },
     "execution_count": 31,
     "metadata": {},
     "output_type": "execute_result"
    }
   ],
   "source": [
    "walsh_hadamard_transform(np.array([1, 0, 1, 0, 1, 0, 0, 1]))"
   ]
  },
  {
   "cell_type": "code",
   "execution_count": 32,
   "id": "76ba1577",
   "metadata": {},
   "outputs": [],
   "source": [
    "def auto_fft(x):\n",
    "    return np.abs(np.fft.fft(autocorrelation(x)))"
   ]
  },
  {
   "cell_type": "code",
   "execution_count": 33,
   "id": "30d5fd25",
   "metadata": {},
   "outputs": [
    {
     "data": {
      "text/plain": [
       "array([16.        ,  0.58578644,  2.        ,  3.41421356,  4.        ,\n",
       "        3.41421356,  2.        ,  0.58578644])"
      ]
     },
     "execution_count": 33,
     "metadata": {},
     "output_type": "execute_result"
    }
   ],
   "source": [
    "np.abs(auto_fft(np.array([1, 0, 1, 0, 1, 0, 0, 1])))"
   ]
  },
  {
   "cell_type": "code",
   "execution_count": 34,
   "id": "d74339d1",
   "metadata": {},
   "outputs": [
    {
     "data": {
      "text/plain": [
       "[(array([0, 0, 0, 0, 0, 0, 1, 0, 0, 0, 0, 1, 0, 0, 1, 1]),\n",
       "  array([0, 0, 0, 0, 0, 0, 0, 1, 0, 0, 1, 0, 0, 0, 1, 1]))]"
      ]
     },
     "execution_count": 34,
     "metadata": {},
     "output_type": "execute_result"
    }
   ],
   "source": [
    "find_collisions(16, auto_fft)"
   ]
  },
  {
   "cell_type": "code",
   "execution_count": 35,
   "id": "b84e3552",
   "metadata": {},
   "outputs": [],
   "source": [
    "def generate_A_mask(x):\n",
    "    L = len(x)\n",
    "    A = []\n",
    "    for k in range(L):\n",
    "        A.append(sum(x[j] * x[(j + k) % L] for j in range(L)))\n",
    "    return A"
   ]
  },
  {
   "cell_type": "code",
   "execution_count": 20,
   "id": "a1986297",
   "metadata": {},
   "outputs": [],
   "source": [
    "import libraries.utils as utils\n",
    "N=8\n",
    "states = utils.generate_input_torch(N).numpy()\n",
    "signed_states = (-1) ** states"
   ]
  },
  {
   "cell_type": "code",
   "execution_count": 37,
   "id": "32c3aa17",
   "metadata": {},
   "outputs": [
    {
     "data": {
      "text/plain": [
       "array([[0., 0., 0., ..., 0., 0., 0.],\n",
       "       [1., 0., 0., ..., 0., 0., 0.],\n",
       "       [1., 0., 0., ..., 0., 0., 0.],\n",
       "       ...,\n",
       "       [7., 6., 6., ..., 6., 6., 6.],\n",
       "       [7., 6., 6., ..., 6., 6., 6.],\n",
       "       [8., 8., 8., ..., 8., 8., 8.]], dtype=float32)"
      ]
     },
     "execution_count": 37,
     "metadata": {},
     "output_type": "execute_result"
    }
   ],
   "source": [
    "A_mask = np.array([generate_A_mask(x) for x in states])\n",
    "A_mask"
   ]
  },
  {
   "cell_type": "code",
   "execution_count": 38,
   "id": "de5ac76e",
   "metadata": {},
   "outputs": [],
   "source": [
    "autocor = np.array([autocorrelation(x) for x in signed_states])"
   ]
  },
  {
   "cell_type": "code",
   "execution_count": 39,
   "id": "9ebb74fe",
   "metadata": {},
   "outputs": [
    {
     "data": {
      "text/plain": [
       "array([[ 0.,  0.,  0., ...,  0.,  0.,  0.],\n",
       "       [ 8.,  0.,  0., ...,  0.,  0.,  0.],\n",
       "       [ 8.,  0.,  0., ...,  0.,  0.,  0.],\n",
       "       ...,\n",
       "       [56., 24., 24., ..., 24., 24., 24.],\n",
       "       [56., 24., 24., ..., 24., 24., 24.],\n",
       "       [64., 64., 64., ..., 64., 64., 64.]])"
      ]
     },
     "execution_count": 39,
     "metadata": {},
     "output_type": "execute_result"
    }
   ],
   "source": [
    "autocor * A_mask"
   ]
  },
  {
   "cell_type": "code",
   "execution_count": 40,
   "id": "6f5672df",
   "metadata": {},
   "outputs": [
    {
     "data": {
      "text/plain": [
       "array([[  0.],\n",
       "       [  8.],\n",
       "       [  8.],\n",
       "       [ 24.],\n",
       "       [  8.],\n",
       "       [ 24.],\n",
       "       [ 24.],\n",
       "       [ 40.],\n",
       "       [  8.],\n",
       "       [ 24.],\n",
       "       [ 24.],\n",
       "       [ 24.],\n",
       "       [ 24.],\n",
       "       [ 24.],\n",
       "       [ 40.],\n",
       "       [ 48.],\n",
       "       [  8.],\n",
       "       [ 32.],\n",
       "       [ 24.],\n",
       "       [ 32.],\n",
       "       [ 24.],\n",
       "       [ 48.],\n",
       "       [ 24.],\n",
       "       [ 24.],\n",
       "       [ 24.],\n",
       "       [ 32.],\n",
       "       [ 24.],\n",
       "       [ 24.],\n",
       "       [ 40.],\n",
       "       [ 24.],\n",
       "       [ 48.],\n",
       "       [ 48.],\n",
       "       [  8.],\n",
       "       [ 24.],\n",
       "       [ 32.],\n",
       "       [ 32.],\n",
       "       [ 24.],\n",
       "       [ 40.],\n",
       "       [ 32.],\n",
       "       [ 24.],\n",
       "       [ 24.],\n",
       "       [ 40.],\n",
       "       [ 48.],\n",
       "       [ 24.],\n",
       "       [ 24.],\n",
       "       [ 48.],\n",
       "       [ 24.],\n",
       "       [ 32.],\n",
       "       [ 24.],\n",
       "       [ 32.],\n",
       "       [ 32.],\n",
       "       [ 64.],\n",
       "       [ 24.],\n",
       "       [ 24.],\n",
       "       [ 24.],\n",
       "       [ 40.],\n",
       "       [ 40.],\n",
       "       [ 24.],\n",
       "       [ 24.],\n",
       "       [ 40.],\n",
       "       [ 48.],\n",
       "       [ 32.],\n",
       "       [ 48.],\n",
       "       [ 88.],\n",
       "       [  8.],\n",
       "       [ 24.],\n",
       "       [ 24.],\n",
       "       [ 24.],\n",
       "       [ 32.],\n",
       "       [ 48.],\n",
       "       [ 32.],\n",
       "       [ 24.],\n",
       "       [ 24.],\n",
       "       [ 40.],\n",
       "       [ 40.],\n",
       "       [ 48.],\n",
       "       [ 32.],\n",
       "       [ 24.],\n",
       "       [ 24.],\n",
       "       [ 32.],\n",
       "       [ 24.],\n",
       "       [ 48.],\n",
       "       [ 40.],\n",
       "       [ 24.],\n",
       "       [ 48.],\n",
       "       [128.],\n",
       "       [ 24.],\n",
       "       [ 56.],\n",
       "       [ 24.],\n",
       "       [ 24.],\n",
       "       [ 48.],\n",
       "       [ 48.],\n",
       "       [ 24.],\n",
       "       [ 56.],\n",
       "       [ 32.],\n",
       "       [ 88.],\n",
       "       [ 24.],\n",
       "       [ 24.],\n",
       "       [ 32.],\n",
       "       [ 24.],\n",
       "       [ 32.],\n",
       "       [ 24.],\n",
       "       [ 64.],\n",
       "       [ 40.],\n",
       "       [ 24.],\n",
       "       [ 48.],\n",
       "       [ 24.],\n",
       "       [ 48.],\n",
       "       [ 24.],\n",
       "       [ 48.],\n",
       "       [ 40.],\n",
       "       [ 88.],\n",
       "       [ 40.],\n",
       "       [ 24.],\n",
       "       [ 24.],\n",
       "       [ 40.],\n",
       "       [ 24.],\n",
       "       [ 56.],\n",
       "       [ 40.],\n",
       "       [ 96.],\n",
       "       [ 48.],\n",
       "       [ 32.],\n",
       "       [ 32.],\n",
       "       [ 88.],\n",
       "       [ 48.],\n",
       "       [ 88.],\n",
       "       [ 88.],\n",
       "       [224.],\n",
       "       [  8.],\n",
       "       [ 24.],\n",
       "       [ 24.],\n",
       "       [ 40.],\n",
       "       [ 24.],\n",
       "       [ 24.],\n",
       "       [ 24.],\n",
       "       [ 48.],\n",
       "       [ 32.],\n",
       "       [ 32.],\n",
       "       [ 48.],\n",
       "       [ 24.],\n",
       "       [ 32.],\n",
       "       [ 24.],\n",
       "       [ 24.],\n",
       "       [ 48.],\n",
       "       [ 24.],\n",
       "       [ 32.],\n",
       "       [ 40.],\n",
       "       [ 24.],\n",
       "       [ 40.],\n",
       "       [ 24.],\n",
       "       [ 48.],\n",
       "       [ 32.],\n",
       "       [ 32.],\n",
       "       [ 64.],\n",
       "       [ 24.],\n",
       "       [ 40.],\n",
       "       [ 24.],\n",
       "       [ 40.],\n",
       "       [ 32.],\n",
       "       [ 88.],\n",
       "       [ 24.],\n",
       "       [ 24.],\n",
       "       [ 48.],\n",
       "       [ 24.],\n",
       "       [ 40.],\n",
       "       [ 48.],\n",
       "       [ 24.],\n",
       "       [ 32.],\n",
       "       [ 48.],\n",
       "       [ 24.],\n",
       "       [128.],\n",
       "       [ 56.],\n",
       "       [ 24.],\n",
       "       [ 48.],\n",
       "       [ 56.],\n",
       "       [ 88.],\n",
       "       [ 24.],\n",
       "       [ 24.],\n",
       "       [ 24.],\n",
       "       [ 40.],\n",
       "       [ 48.],\n",
       "       [ 48.],\n",
       "       [ 48.],\n",
       "       [ 88.],\n",
       "       [ 24.],\n",
       "       [ 40.],\n",
       "       [ 56.],\n",
       "       [ 96.],\n",
       "       [ 32.],\n",
       "       [ 88.],\n",
       "       [ 88.],\n",
       "       [224.],\n",
       "       [ 24.],\n",
       "       [ 40.],\n",
       "       [ 24.],\n",
       "       [ 48.],\n",
       "       [ 32.],\n",
       "       [ 24.],\n",
       "       [ 24.],\n",
       "       [ 48.],\n",
       "       [ 32.],\n",
       "       [ 24.],\n",
       "       [ 24.],\n",
       "       [ 32.],\n",
       "       [ 64.],\n",
       "       [ 40.],\n",
       "       [ 40.],\n",
       "       [ 88.],\n",
       "       [ 24.],\n",
       "       [ 24.],\n",
       "       [ 48.],\n",
       "       [ 32.],\n",
       "       [ 24.],\n",
       "       [ 56.],\n",
       "       [ 48.],\n",
       "       [ 88.],\n",
       "       [ 24.],\n",
       "       [ 40.],\n",
       "       [ 48.],\n",
       "       [ 88.],\n",
       "       [ 40.],\n",
       "       [ 96.],\n",
       "       [ 88.],\n",
       "       [224.],\n",
       "       [ 40.],\n",
       "       [ 48.],\n",
       "       [ 24.],\n",
       "       [ 48.],\n",
       "       [ 24.],\n",
       "       [ 32.],\n",
       "       [ 40.],\n",
       "       [ 88.],\n",
       "       [ 24.],\n",
       "       [ 32.],\n",
       "       [ 56.],\n",
       "       [ 88.],\n",
       "       [ 40.],\n",
       "       [ 88.],\n",
       "       [ 96.],\n",
       "       [224.],\n",
       "       [ 48.],\n",
       "       [ 48.],\n",
       "       [ 32.],\n",
       "       [ 88.],\n",
       "       [ 32.],\n",
       "       [ 88.],\n",
       "       [ 88.],\n",
       "       [224.],\n",
       "       [ 48.],\n",
       "       [ 88.],\n",
       "       [ 88.],\n",
       "       [224.],\n",
       "       [ 88.],\n",
       "       [224.],\n",
       "       [224.],\n",
       "       [512.]])"
      ]
     },
     "execution_count": 40,
     "metadata": {},
     "output_type": "execute_result"
    }
   ],
   "source": [
    "(autocor * A_mask).sum(axis=1, keepdims=True)"
   ]
  },
  {
   "cell_type": "code",
   "execution_count": 41,
   "id": "aacb48bc",
   "metadata": {},
   "outputs": [],
   "source": [
    "from numpy.fft import fft\n",
    "\n",
    "def marshall_sign_from_dft(x):\n",
    "    \"\"\"\n",
    "    Compute the Marshall sign from the DFT of a ±1 spin configuration x.\n",
    "    Assumes L is even and x has zero magnetization.\n",
    "    \"\"\"\n",
    "    L = len(x)\n",
    "    k = np.arange(L)\n",
    "    j_even = np.arange(0, L, 2)\n",
    "\n",
    "    # Compute DFT of x\n",
    "    x_dft = fft(x)\n",
    "\n",
    "    # Compute weight vector for even-position projection\n",
    "    weight_k = np.sum(np.exp(2j * np.pi * np.outer(j_even, k) / L), axis=0)\n",
    "\n",
    "    # Sum weighted DFT components\n",
    "    s_even_complex = (1 / L) * np.dot(x_dft, weight_k)\n",
    "\n",
    "    # Take real part (imaginary part should be ~0)\n",
    "    s_even_real = np.real_if_close(s_even_complex, tol=1e3)\n",
    "    s_rounded = int(np.round(s_even_real))\n",
    "\n",
    "    # Compute Marshall sign\n",
    "    sign = (-1) ** ((-s_rounded // 2) % 2)\n",
    "    return sign, s_rounded"
   ]
  },
  {
   "cell_type": "code",
   "execution_count": 21,
   "id": "06130618",
   "metadata": {},
   "outputs": [],
   "source": [
    "import libraries.j1j2_functions as j1j2\n",
    "gs8 = j1j2.J1J2_hamiltonian(8, 1, 0).eigenstates()[1][0]\n",
    "states, signs = utils.get_nonzero_states(8, gs8, 1e-10)"
   ]
  },
  {
   "cell_type": "code",
   "execution_count": 43,
   "id": "fb6a8b12",
   "metadata": {},
   "outputs": [
    {
     "data": {
      "text/plain": [
       "[(15, 2, -1, -1, True),\n",
       " (23, 3, 1, 1, True),\n",
       " (27, 2, -1, -1, True),\n",
       " (29, 3, 1, 1, True),\n",
       " (30, 2, -1, -1, True),\n",
       " (39, 2, -1, -1, True),\n",
       " (43, 1, 1, -1, False),\n",
       " (45, 2, -1, -1, True),\n",
       " (46, 1, 1, -1, False),\n",
       " (51, 2, -1, -1, True),\n",
       " (53, 3, 1, 1, True),\n",
       " (54, 2, -1, -1, True),\n",
       " (57, 2, -1, -1, True),\n",
       " (58, 1, 1, -1, False),\n",
       " (60, 2, -1, -1, True),\n",
       " (71, 3, 1, 1, True),\n",
       " (75, 2, -1, -1, True),\n",
       " (77, 3, 1, 1, True),\n",
       " (78, 2, -1, -1, True),\n",
       " (83, 3, 1, 1, True),\n",
       " (85, 4, -1, 1, False),\n",
       " (86, 3, 1, 1, True),\n",
       " (89, 3, 1, 1, True),\n",
       " (90, 2, -1, -1, True),\n",
       " (92, 3, 1, 1, True),\n",
       " (99, 2, -1, -1, True),\n",
       " (101, 3, 1, 1, True),\n",
       " (102, 2, -1, -1, True),\n",
       " (105, 2, -1, -1, True),\n",
       " (106, 1, 1, -1, False),\n",
       " (108, 2, -1, -1, True),\n",
       " (113, 3, 1, 1, True),\n",
       " (114, 2, -1, -1, True),\n",
       " (116, 3, 1, 1, True),\n",
       " (120, 2, -1, -1, True),\n",
       " (135, 2, -1, -1, True),\n",
       " (139, 1, 1, -1, False),\n",
       " (141, 2, -1, -1, True),\n",
       " (142, 1, 1, -1, False),\n",
       " (147, 2, -1, -1, True),\n",
       " (149, 3, 1, 1, True),\n",
       " (150, 2, -1, -1, True),\n",
       " (153, 2, -1, -1, True),\n",
       " (154, 1, 1, -1, False),\n",
       " (156, 2, -1, -1, True),\n",
       " (163, 1, 1, -1, False),\n",
       " (165, 2, -1, -1, True),\n",
       " (166, 1, 1, -1, False),\n",
       " (169, 1, 1, -1, False),\n",
       " (170, 0, -1, 1, False),\n",
       " (172, 1, 1, -1, False),\n",
       " (177, 2, -1, -1, True),\n",
       " (178, 1, 1, -1, False),\n",
       " (180, 2, -1, -1, True),\n",
       " (184, 1, 1, -1, False),\n",
       " (195, 2, -1, -1, True),\n",
       " (197, 3, 1, 1, True),\n",
       " (198, 2, -1, -1, True),\n",
       " (201, 2, -1, -1, True),\n",
       " (202, 1, 1, -1, False),\n",
       " (204, 2, -1, -1, True),\n",
       " (209, 3, 1, 1, True),\n",
       " (210, 2, -1, -1, True),\n",
       " (212, 3, 1, 1, True),\n",
       " (216, 2, -1, -1, True),\n",
       " (225, 2, -1, -1, True),\n",
       " (226, 1, 1, -1, False),\n",
       " (228, 2, -1, -1, True),\n",
       " (232, 1, 1, -1, False),\n",
       " (240, 2, -1, -1, True)]"
      ]
     },
     "execution_count": 43,
     "metadata": {},
     "output_type": "execute_result"
    }
   ],
   "source": [
    "def test_dft_marshall_sign(L):\n",
    "    results = []\n",
    "    for bits, true_sign in zip(states, signs):\n",
    "        x = utils.generate_state_array(bits, N)\n",
    "        dft_sign, s_reconstructed = marshall_sign_from_dft(x)\n",
    "        correct = dft_sign == true_sign\n",
    "        results.append((bits, s_reconstructed, true_sign, dft_sign, correct))\n",
    "    return results\n",
    "\n",
    "# Run the test for L = 6\n",
    "test_dft_marshall_sign(6)"
   ]
  },
  {
   "cell_type": "code",
   "execution_count": 44,
   "id": "20c02e51",
   "metadata": {},
   "outputs": [
    {
     "data": {
      "text/plain": [
       "(1, 3)"
      ]
     },
     "execution_count": 44,
     "metadata": {},
     "output_type": "execute_result"
    }
   ],
   "source": [
    "marshall_sign_from_dft(np.array([1,0,1,0,1,0]))"
   ]
  },
  {
   "cell_type": "code",
   "execution_count": 4,
   "id": "0566fcf4",
   "metadata": {},
   "outputs": [],
   "source": [
    "def embed_fourier(bits, M=32):\n",
    "    s = np.asarray(bits, dtype=float)\n",
    "    x = s\n",
    "    x = 2*s - 1\n",
    "    # x = x - x.mean()\n",
    "    n = len(x)\n",
    "    f = np.arange(1, M+1) / (2*M+2)   # frequencies in (0, 0.5]\n",
    "    # DTFT magnitudes at chosen frequencies\n",
    "    i_idx = np.arange(n)\n",
    "    m = []\n",
    "    for fk in f:\n",
    "        w = np.exp(-2j*np.pi*fk*(i_idx))\n",
    "        m.append(np.abs((x * w).sum()) / n)\n",
    "    return np.array(m)\n",
    "def fourier(bits):\n",
    "    s = np.asarray(bits, dtype=float)\n",
    "    x = 2 * s - 1\n",
    "    n = len(x)\n",
    "    ks = np.arange(n)\n",
    "    A = []\n",
    "    for k in ks:\n",
    "        A.append((x * np.exp(-2j * np.pi * np.arange(n) * k / n) ).sum())\n",
    "    return np.array(A)"
   ]
  },
  {
   "cell_type": "code",
   "execution_count": 5,
   "id": "1ace63c3",
   "metadata": {},
   "outputs": [
    {
     "name": "stdout",
     "output_type": "stream",
     "text": [
      "[4.70086710e-02 9.05166694e-02 1.27253520e-01 1.54395460e-01\n",
      " 1.69755378e-01 1.71934808e-01 1.60428784e-01 1.35677093e-01\n",
      " 9.90585241e-02 5.28280304e-02 9.96455660e-17 5.58160225e-02\n",
      " 1.10618049e-01 1.60241418e-01 2.00602604e-01 2.27943183e-01\n",
      " 2.39059930e-01 2.31507746e-01 2.03763539e-01 1.55341315e-01\n",
      " 8.68514264e-02 2.40548322e-16 1.02472083e-01 2.16907912e-01\n",
      " 3.38904994e-01 4.63528531e-01 5.85556182e-01 6.99741199e-01\n",
      " 8.01079713e-01 8.85067671e-01 9.47933448e-01 9.86833450e-01]\n",
      "[4.70086710e-02 9.05166694e-02 1.27253520e-01 1.54395460e-01\n",
      " 1.69755378e-01 1.71934808e-01 1.60428784e-01 1.35677093e-01\n",
      " 9.90585241e-02 5.28280304e-02 9.96455660e-17 5.58160225e-02\n",
      " 1.10618049e-01 1.60241418e-01 2.00602604e-01 2.27943183e-01\n",
      " 2.39059930e-01 2.31507746e-01 2.03763539e-01 1.55341315e-01\n",
      " 8.68514264e-02 2.40548322e-16 1.02472083e-01 2.16907912e-01\n",
      " 3.38904994e-01 4.63528531e-01 5.85556182e-01 6.99741199e-01\n",
      " 8.01079713e-01 8.85067671e-01 9.47933448e-01 9.86833450e-01]\n"
     ]
    }
   ],
   "source": [
    "print(embed_fourier([0, 1, 0, 1, 0, 1]))\n",
    "print(embed_fourier([1, 0, 1, 0, 1, 0]))"
   ]
  },
  {
   "cell_type": "code",
   "execution_count": 6,
   "id": "ec708ee8",
   "metadata": {},
   "outputs": [
    {
     "name": "stdout",
     "output_type": "stream",
     "text": [
      "[0.16438996 0.31576551 0.44230361 0.53444427 0.58573541 0.59336761\n",
      " 0.55834788 0.48529922 0.38191158 0.25810567 0.125      0.0062091\n",
      " 0.12533749 0.22416139 0.2971288  0.34176609 0.35874583 0.35161833\n",
      " 0.32624622 0.29001207 0.25089273 0.21650635 0.19323891 0.18554598\n",
      " 0.19550387 0.22265467 0.26415596 0.31521066 0.36972106 0.42108617\n",
      " 0.46304564 0.49046951]\n",
      "[0.16438996 0.31576551 0.44230361 0.53444427 0.58573541 0.59336761\n",
      " 0.55834788 0.48529922 0.38191158 0.25810567 0.125      0.0062091\n",
      " 0.12533749 0.22416139 0.2971288  0.34176609 0.35874583 0.35161833\n",
      " 0.32624622 0.29001207 0.25089273 0.21650635 0.19323891 0.18554598\n",
      " 0.19550387 0.22265467 0.26415596 0.31521066 0.36972106 0.42108617\n",
      " 0.46304564 0.49046951]\n"
     ]
    }
   ],
   "source": [
    "print(embed_fourier([1, 1, 1, 0, 1, 0, 0, 0]))\n",
    "print(embed_fourier([0, 0, 0, 1, 0, 1, 1, 1]))"
   ]
  },
  {
   "cell_type": "code",
   "execution_count": 7,
   "id": "029bdb2b",
   "metadata": {},
   "outputs": [
    {
     "name": "stdout",
     "output_type": "stream",
     "text": [
      "[4.+0.j         1.-2.41421356j 0.+0.j         1.-0.41421356j\n",
      " 0.+0.j         1.+0.41421356j 0.+0.j         1.+2.41421356j]\n",
      "[ 4.+0.j         -1.-2.41421356j  0.+0.j         -1.-0.41421356j\n",
      "  0.+0.j         -1.+0.41421356j  0.+0.j         -1.+2.41421356j]\n"
     ]
    }
   ],
   "source": [
    "print(np.fft.fft([1, 1, 1, 1, 0, 0, 0, 0]))\n",
    "print(np.fft.fft([0, 1, 1, 1, 1, 0, 0, 0]))"
   ]
  },
  {
   "cell_type": "code",
   "execution_count": 8,
   "id": "57a43371",
   "metadata": {},
   "outputs": [
    {
     "name": "stdout",
     "output_type": "stream",
     "text": [
      "[0.+0.j         2.-4.82842712j 0.+0.j         2.-0.82842712j\n",
      " 0.+0.j         2.+0.82842712j 0.+0.j         2.+4.82842712j]\n",
      "[ 0.        +0.j  4.82842712-2.j  0.        +0.j -0.82842712+2.j\n",
      "  0.        +0.j -0.82842712-2.j  0.        +0.j  4.82842712+2.j]\n"
     ]
    }
   ],
   "source": [
    "print(np.fft.fft(2 * np.array([1, 1, 1, 1, 0, 0, 0, 0]) - 1))\n",
    "print(np.fft.fft(2 * np.array([1, 1, 1, 0, 0, 0, 0, 1]) - 1))"
   ]
  },
  {
   "cell_type": "code",
   "execution_count": 9,
   "id": "b74c8bf9",
   "metadata": {},
   "outputs": [
    {
     "name": "stdout",
     "output_type": "stream",
     "text": [
      "[0.+0.j         2.-4.82842712j 0.+0.j         2.-0.82842712j\n",
      " 0.+0.j         2.+0.82842712j 0.+0.j         2.+4.82842712j]\n",
      "[ 0.+0.j         -2.-4.82842712j  0.+0.j         -2.-0.82842712j\n",
      "  0.+0.j         -2.+0.82842712j  0.+0.j         -2.+4.82842712j]\n"
     ]
    }
   ],
   "source": [
    "print(np.fft.fft(2 * np.array([1, 1, 1, 1, 0, 0, 0, 0]) - 1))\n",
    "print(np.fft.fft(2 * np.array([0, 1, 1, 1, 1, 0, 0, 0]) - 1))"
   ]
  },
  {
   "cell_type": "code",
   "execution_count": 10,
   "id": "0a0a72bf",
   "metadata": {},
   "outputs": [
    {
     "name": "stdout",
     "output_type": "stream",
     "text": [
      "[ 4.+0.j         -1.-2.41421356j  0.+0.j         -1.-0.41421356j\n",
      "  0.+0.j         -1.+0.41421356j  0.+0.j         -1.+2.41421356j]\n",
      "[ 0.00000000e+00+0.00000000e+00j -2.00000000e+00-4.82842712e+00j\n",
      "  0.00000000e+00+4.89858720e-16j -2.00000000e+00-8.28427125e-01j\n",
      "  0.00000000e+00+9.79717439e-16j -2.00000000e+00+8.28427125e-01j\n",
      "  3.55271368e-15+1.46957616e-15j -2.00000000e+00+4.82842712e+00j]\n"
     ]
    }
   ],
   "source": [
    "print(np.fft.fft([0, 1, 1, 1, 1, 0, 0, 0]))\n",
    "print(fourier([0, 1, 1, 1, 1, 0, 0, 0]))"
   ]
  },
  {
   "cell_type": "code",
   "execution_count": 11,
   "id": "e4ab57b0",
   "metadata": {},
   "outputs": [
    {
     "name": "stdout",
     "output_type": "stream",
     "text": [
      "[0.18818091 0.36329353 0.51346103 0.6290699  0.70361488 0.73423389\n",
      " 0.72188186 0.67113045 0.58961909 0.48721893 0.375      0.26411131\n",
      " 0.16469097 0.0849181  0.03030157 0.00327341 0.00312119 0.02625646\n",
      " 0.06678033 0.11727591 0.16973403 0.21650635 0.25117882 0.26927002\n",
      " 0.2686801  0.24984574 0.21559052 0.17069512 0.12124328 0.07382455\n",
      " 0.03469033 0.00896416]\n",
      "[0.09547296 0.19225564 0.29017811 0.38676396 0.47728526 0.55550597\n",
      " 0.61476858 0.64912879 0.65434181 0.62858094 0.57282196 0.49086706\n",
      " 0.38901811 0.27544234 0.15930132 0.04973322 0.0452154  0.11962318\n",
      " 0.17063788 0.19931176 0.21125398 0.21650635 0.22671408 0.24841505\n",
      " 0.27838785 0.30703169 0.32423494 0.32243724 0.29752001 0.24888332\n",
      " 0.17917662 0.09377063]\n"
     ]
    }
   ],
   "source": [
    "print(embed_fourier([1, 1, 1, 1, 0, 0, 0, 0]))\n",
    "print(embed_fourier([0, 1, 1, 1, 1, 0, 0, 0]))"
   ]
  },
  {
   "cell_type": "code",
   "execution_count": 12,
   "id": "01705f41",
   "metadata": {},
   "outputs": [
    {
     "name": "stdout",
     "output_type": "stream",
     "text": [
      "1.1876822018265245e-05\n"
     ]
    }
   ],
   "source": [
    "mult = 10000 # the mean abs error seems to be linearly prop to the multiplier somewhat but changes from .121 to .118 every 0 added???\n",
    "print(np.mean(np.abs((embed_fourier([1, 1, 1, 1, 0, 0, 0, 0] * mult) - embed_fourier([0, 1, 1, 1, 1, 0, 0, 0] * mult)))))"
   ]
  },
  {
   "cell_type": "code",
   "execution_count": 13,
   "id": "1150422b",
   "metadata": {},
   "outputs": [
    {
     "name": "stdout",
     "output_type": "stream",
     "text": [
      "[1.36137881e-01 2.34153140e-01 2.64692654e-01 2.13865067e-01\n",
      " 8.62896422e-02 9.61717934e-02 2.99624090e-01 4.85971118e-01\n",
      " 6.21451236e-01 6.83839270e-01 6.66666667e-01 5.79596064e-01\n",
      " 4.45060078e-01 2.92185705e-01 1.49646232e-01 3.92632217e-02\n",
      " 2.81091577e-02 5.35550814e-02 4.79225798e-02 2.73242428e-02\n",
      " 7.70005824e-03 1.76756509e-16 7.28785200e-03 2.44688744e-02\n",
      " 4.05762531e-02 4.28298359e-02 2.12024004e-02 2.78806367e-02\n",
      " 9.98009746e-02 1.82474547e-01 2.59334460e-01 3.13708615e-01]\n",
      "[4.63319409e-02 8.44726216e-02 1.04084014e-01 9.32803214e-02\n",
      " 4.21379456e-02 5.28023963e-02 1.85232752e-01 3.38418616e-01\n",
      " 4.87630264e-01 6.05159354e-01 6.66666667e-01 6.57206731e-01\n",
      " 5.75314870e-01 4.34011802e-01 2.58360208e-01 8.00936678e-02\n",
      " 6.94015582e-02 1.66038024e-01 1.98206548e-01 1.68927688e-01\n",
      " 9.44920626e-02 2.23581264e-16 8.70087795e-02 1.43181164e-01\n",
      " 1.54550603e-01 1.19041861e-01 4.57535368e-02 4.86297816e-02\n",
      " 1.45147013e-01 2.27912199e-01 2.87687329e-01 3.22245727e-01]\n"
     ]
    }
   ],
   "source": [
    "print(embed_fourier([1, 1, 1, 0, 0, 0] * 2))\n",
    "print(embed_fourier([1, 0, 0, 0, 1, 1] * 2))"
   ]
  },
  {
   "cell_type": "code",
   "execution_count": 14,
   "id": "1914a5be",
   "metadata": {},
   "outputs": [
    {
     "name": "stdout",
     "output_type": "stream",
     "text": [
      "0.001667201208536901\n"
     ]
    }
   ],
   "source": [
    "mult = 100 # the mean abs error seems to be linearly prop to the multiplier (for using 1/0 format)\n",
    "print(np.mean(np.abs((embed_fourier([1, 1, 1, 0, 0, 0] * mult) - embed_fourier([1, 0, 0, 0, 1, 1] * mult)))))"
   ]
  },
  {
   "cell_type": "code",
   "execution_count": 15,
   "id": "6be2865c",
   "metadata": {},
   "outputs": [
    {
     "data": {
      "text/plain": [
       "[]"
      ]
     },
     "execution_count": 15,
     "metadata": {},
     "output_type": "execute_result"
    }
   ],
   "source": [
    "find_collisions(16, fourier) # seems like no collisions up to N=16 for either fourier or embed fourier"
   ]
  },
  {
   "cell_type": "code",
   "execution_count": 16,
   "id": "eecdf64f",
   "metadata": {},
   "outputs": [
    {
     "data": {
      "text/plain": [
       "[(array([0, 0, 0, 0, 0, 0, 1, 0, 0, 1, 0, 0, 0, 1, 1, 0]),\n",
       "  array([0, 0, 0, 0, 0, 0, 1, 0, 0, 0, 0, 1, 0, 0, 1, 1]))]"
      ]
     },
     "execution_count": 16,
     "metadata": {},
     "output_type": "execute_result"
    }
   ],
   "source": [
    "find_collisions(16, lambda x : np.abs(np.fft.fft(x))) # technically has issues but none have half 1s"
   ]
  },
  {
   "cell_type": "code",
   "execution_count": 22,
   "id": "2f692a17",
   "metadata": {},
   "outputs": [
    {
     "data": {
      "text/plain": [
       "1"
      ]
     },
     "execution_count": 22,
     "metadata": {},
     "output_type": "execute_result"
    }
   ],
   "source": [
    "import libraries.magnetization as mag\n",
    "mag.count_magnetization(4)\n"
   ]
  },
  {
   "cell_type": "code",
   "execution_count": 37,
   "id": "a38bdc00",
   "metadata": {},
   "outputs": [
    {
     "data": {
      "text/plain": [
       "np.int64(6)"
      ]
     },
     "execution_count": 37,
     "metadata": {},
     "output_type": "execute_result"
    }
   ],
   "source": [
    "tup_to_int([0, 1, 1, 0])"
   ]
  },
  {
   "cell_type": "code",
   "execution_count": 76,
   "id": "3e6fc0a0",
   "metadata": {},
   "outputs": [],
   "source": [
    "def tup_to_int(x):\n",
    "    x = np.array(x)\n",
    "    return int((x * (2 ** np.arange(len(x)))).sum())\n",
    "def check_symmetries(L, f):\n",
    "\n",
    "    visited = set()\n",
    "    collisions = set()\n",
    "    for state in range(2**L):\n",
    "        if state not in visited and mag.count_magnetization(state) == L//2:\n",
    "            y = utils.generate_state_1D(state, L)\n",
    "            y_equiv = {\n",
    "                tuple(np.roll(y, r)) for r in range(L)\n",
    "            }.union({\n",
    "                tuple(np.roll(y[::-1], r)) for r in range(L)\n",
    "            }).union({\n",
    "                tuple(np.roll(1-y, r)) for r in range(L)\n",
    "            }).union({\n",
    "                tuple(np.roll((1-y)[::-1], r)) for r in range(L)\n",
    "            })\n",
    "            visited.update(set(tup_to_int(x) for x in y_equiv))\n",
    "            y_equiv = list(y_equiv)\n",
    "            transform = [f(y) for y in y_equiv]\n",
    "            for i in range(len(transform)):\n",
    "                if not np.allclose(transform[0], transform[i]):\n",
    "                    collisions.add((y_equiv[i], y_equiv[0]))\n",
    "\n",
    "    return collisions\n",
    "\n",
    "def gen_equiv(N, x):\n",
    "    y = utils.generate_state_1D(N, x)\n",
    "    y_equiv = {\n",
    "        tuple(np.roll(y, r)) for r in range(L)\n",
    "    }.union({\n",
    "        tuple(np.roll(y[::-1], r)) for r in range(L)\n",
    "    }).union({\n",
    "        tuple(np.roll(1-y, r)) for r in range(L)\n",
    "    }).union({\n",
    "        tuple(np.roll((1-y)[::-1], r)) for r in range(L)\n",
    "    })\n",
    "    return y_equiv\n",
    "\n",
    "def check_states(L, gs, threshold = 1e-10):\n",
    "    visited = set()\n",
    "    collisions = set()\n",
    "    for state in range(2**L):\n",
    "        if state not in visited and mag.count_magnetization(state) == L//2:\n",
    "            y = utils.generate_state_1D(state, L)\n",
    "            y_equiv = {\n",
    "                tuple(np.roll(y, r)) for r in range(L)\n",
    "            }.union({\n",
    "                tuple(np.roll(y[::-1], r)) for r in range(L)\n",
    "            }).union({\n",
    "                tuple(np.roll(1-y, r)) for r in range(L)\n",
    "            }).union({\n",
    "                tuple(np.roll((1-y)[::-1], r)) for r in range(L)\n",
    "            })\n",
    "            visited.update(set(tup_to_int(x) for x in y_equiv))\n",
    "            y_equiv = list(y_equiv)\n",
    "            for i in range(len(y_equiv)):\n",
    "                #print(tup_to_int(y_equiv[i]), tup_to_int(y_equiv[0]))\n",
    "                if abs(abs(gs[tup_to_int(y_equiv[i])][0]) - abs(gs[tup_to_int(y_equiv[0])][0])) >= threshold:\n",
    "                    collisions.add((y_equiv[i], y_equiv[0]))\n",
    "    return collisions"
   ]
  },
  {
   "cell_type": "code",
   "execution_count": 23,
   "id": "6b12fad2",
   "metadata": {},
   "outputs": [
    {
     "data": {
      "text/plain": [
       "{((np.float64(0.0),\n",
       "   np.float64(0.0),\n",
       "   np.float64(0.0),\n",
       "   np.float64(1.0),\n",
       "   np.float64(0.0),\n",
       "   np.float64(1.0),\n",
       "   np.float64(1.0),\n",
       "   np.float64(1.0)),\n",
       "  (np.float64(0.0),\n",
       "   np.float64(0.0),\n",
       "   np.float64(1.0),\n",
       "   np.float64(0.0),\n",
       "   np.float64(1.0),\n",
       "   np.float64(1.0),\n",
       "   np.float64(1.0),\n",
       "   np.float64(0.0))),\n",
       " ((np.float64(0.0),\n",
       "   np.float64(0.0),\n",
       "   np.float64(0.0),\n",
       "   np.float64(1.0),\n",
       "   np.float64(1.0),\n",
       "   np.float64(0.0),\n",
       "   np.float64(1.0),\n",
       "   np.float64(1.0)),\n",
       "  (np.float64(1.0),\n",
       "   np.float64(0.0),\n",
       "   np.float64(0.0),\n",
       "   np.float64(1.0),\n",
       "   np.float64(1.0),\n",
       "   np.float64(1.0),\n",
       "   np.float64(0.0),\n",
       "   np.float64(0.0))),\n",
       " ((np.float64(0.0),\n",
       "   np.float64(0.0),\n",
       "   np.float64(0.0),\n",
       "   np.float64(1.0),\n",
       "   np.float64(1.0),\n",
       "   np.float64(1.0),\n",
       "   np.float64(0.0),\n",
       "   np.float64(1.0)),\n",
       "  (np.float64(0.0),\n",
       "   np.float64(0.0),\n",
       "   np.float64(1.0),\n",
       "   np.float64(0.0),\n",
       "   np.float64(1.0),\n",
       "   np.float64(1.0),\n",
       "   np.float64(1.0),\n",
       "   np.float64(0.0))),\n",
       " ((np.float64(0.0),\n",
       "   np.float64(0.0),\n",
       "   np.float64(0.0),\n",
       "   np.float64(1.0),\n",
       "   np.float64(1.0),\n",
       "   np.float64(1.0),\n",
       "   np.float64(1.0),\n",
       "   np.float64(0.0)),\n",
       "  (np.float64(1.0),\n",
       "   np.float64(1.0),\n",
       "   np.float64(1.0),\n",
       "   np.float64(1.0),\n",
       "   np.float64(0.0),\n",
       "   np.float64(0.0),\n",
       "   np.float64(0.0),\n",
       "   np.float64(0.0))),\n",
       " ((np.float64(0.0),\n",
       "   np.float64(0.0),\n",
       "   np.float64(1.0),\n",
       "   np.float64(0.0),\n",
       "   np.float64(0.0),\n",
       "   np.float64(1.0),\n",
       "   np.float64(1.0),\n",
       "   np.float64(1.0)),\n",
       "  (np.float64(1.0),\n",
       "   np.float64(0.0),\n",
       "   np.float64(0.0),\n",
       "   np.float64(1.0),\n",
       "   np.float64(1.0),\n",
       "   np.float64(1.0),\n",
       "   np.float64(0.0),\n",
       "   np.float64(0.0))),\n",
       " ((np.float64(0.0),\n",
       "   np.float64(0.0),\n",
       "   np.float64(1.0),\n",
       "   np.float64(0.0),\n",
       "   np.float64(1.0),\n",
       "   np.float64(0.0),\n",
       "   np.float64(1.0),\n",
       "   np.float64(1.0)),\n",
       "  (np.float64(0.0),\n",
       "   np.float64(1.0),\n",
       "   np.float64(0.0),\n",
       "   np.float64(1.0),\n",
       "   np.float64(1.0),\n",
       "   np.float64(0.0),\n",
       "   np.float64(0.0),\n",
       "   np.float64(1.0))),\n",
       " ((np.float64(0.0),\n",
       "   np.float64(0.0),\n",
       "   np.float64(1.0),\n",
       "   np.float64(1.0),\n",
       "   np.float64(0.0),\n",
       "   np.float64(0.0),\n",
       "   np.float64(1.0),\n",
       "   np.float64(1.0)),\n",
       "  (np.float64(0.0),\n",
       "   np.float64(1.0),\n",
       "   np.float64(1.0),\n",
       "   np.float64(0.0),\n",
       "   np.float64(0.0),\n",
       "   np.float64(1.0),\n",
       "   np.float64(1.0),\n",
       "   np.float64(0.0))),\n",
       " ((np.float64(0.0),\n",
       "   np.float64(0.0),\n",
       "   np.float64(1.0),\n",
       "   np.float64(1.0),\n",
       "   np.float64(0.0),\n",
       "   np.float64(1.0),\n",
       "   np.float64(0.0),\n",
       "   np.float64(1.0)),\n",
       "  (np.float64(0.0),\n",
       "   np.float64(1.0),\n",
       "   np.float64(0.0),\n",
       "   np.float64(1.0),\n",
       "   np.float64(1.0),\n",
       "   np.float64(0.0),\n",
       "   np.float64(0.0),\n",
       "   np.float64(1.0))),\n",
       " ((np.float64(0.0),\n",
       "   np.float64(0.0),\n",
       "   np.float64(1.0),\n",
       "   np.float64(1.0),\n",
       "   np.float64(0.0),\n",
       "   np.float64(1.0),\n",
       "   np.float64(1.0),\n",
       "   np.float64(0.0)),\n",
       "  (np.float64(1.0),\n",
       "   np.float64(0.0),\n",
       "   np.float64(0.0),\n",
       "   np.float64(1.0),\n",
       "   np.float64(1.0),\n",
       "   np.float64(1.0),\n",
       "   np.float64(0.0),\n",
       "   np.float64(0.0))),\n",
       " ((np.float64(0.0),\n",
       "   np.float64(0.0),\n",
       "   np.float64(1.0),\n",
       "   np.float64(1.0),\n",
       "   np.float64(1.0),\n",
       "   np.float64(0.0),\n",
       "   np.float64(1.0),\n",
       "   np.float64(0.0)),\n",
       "  (np.float64(0.0),\n",
       "   np.float64(0.0),\n",
       "   np.float64(1.0),\n",
       "   np.float64(0.0),\n",
       "   np.float64(1.0),\n",
       "   np.float64(1.0),\n",
       "   np.float64(1.0),\n",
       "   np.float64(0.0))),\n",
       " ((np.float64(0.0),\n",
       "   np.float64(0.0),\n",
       "   np.float64(1.0),\n",
       "   np.float64(1.0),\n",
       "   np.float64(1.0),\n",
       "   np.float64(1.0),\n",
       "   np.float64(0.0),\n",
       "   np.float64(0.0)),\n",
       "  (np.float64(1.0),\n",
       "   np.float64(1.0),\n",
       "   np.float64(1.0),\n",
       "   np.float64(1.0),\n",
       "   np.float64(0.0),\n",
       "   np.float64(0.0),\n",
       "   np.float64(0.0),\n",
       "   np.float64(0.0))),\n",
       " ((np.float64(0.0),\n",
       "   np.float64(1.0),\n",
       "   np.float64(0.0),\n",
       "   np.float64(0.0),\n",
       "   np.float64(0.0),\n",
       "   np.float64(1.0),\n",
       "   np.float64(1.0),\n",
       "   np.float64(1.0)),\n",
       "  (np.float64(0.0),\n",
       "   np.float64(0.0),\n",
       "   np.float64(1.0),\n",
       "   np.float64(0.0),\n",
       "   np.float64(1.0),\n",
       "   np.float64(1.0),\n",
       "   np.float64(1.0),\n",
       "   np.float64(0.0))),\n",
       " ((np.float64(0.0),\n",
       "   np.float64(1.0),\n",
       "   np.float64(0.0),\n",
       "   np.float64(0.0),\n",
       "   np.float64(1.0),\n",
       "   np.float64(1.0),\n",
       "   np.float64(0.0),\n",
       "   np.float64(1.0)),\n",
       "  (np.float64(0.0),\n",
       "   np.float64(1.0),\n",
       "   np.float64(0.0),\n",
       "   np.float64(1.0),\n",
       "   np.float64(1.0),\n",
       "   np.float64(0.0),\n",
       "   np.float64(0.0),\n",
       "   np.float64(1.0))),\n",
       " ((np.float64(0.0),\n",
       "   np.float64(1.0),\n",
       "   np.float64(0.0),\n",
       "   np.float64(0.0),\n",
       "   np.float64(1.0),\n",
       "   np.float64(1.0),\n",
       "   np.float64(1.0),\n",
       "   np.float64(0.0)),\n",
       "  (np.float64(1.0),\n",
       "   np.float64(0.0),\n",
       "   np.float64(0.0),\n",
       "   np.float64(1.0),\n",
       "   np.float64(1.0),\n",
       "   np.float64(1.0),\n",
       "   np.float64(0.0),\n",
       "   np.float64(0.0))),\n",
       " ((np.float64(0.0),\n",
       "   np.float64(1.0),\n",
       "   np.float64(0.0),\n",
       "   np.float64(1.0),\n",
       "   np.float64(0.0),\n",
       "   np.float64(0.0),\n",
       "   np.float64(1.0),\n",
       "   np.float64(1.0)),\n",
       "  (np.float64(0.0),\n",
       "   np.float64(1.0),\n",
       "   np.float64(0.0),\n",
       "   np.float64(1.0),\n",
       "   np.float64(1.0),\n",
       "   np.float64(0.0),\n",
       "   np.float64(0.0),\n",
       "   np.float64(1.0))),\n",
       " ((np.float64(0.0),\n",
       "   np.float64(1.0),\n",
       "   np.float64(0.0),\n",
       "   np.float64(1.0),\n",
       "   np.float64(0.0),\n",
       "   np.float64(1.0),\n",
       "   np.float64(1.0),\n",
       "   np.float64(0.0)),\n",
       "  (np.float64(0.0),\n",
       "   np.float64(1.0),\n",
       "   np.float64(0.0),\n",
       "   np.float64(1.0),\n",
       "   np.float64(1.0),\n",
       "   np.float64(0.0),\n",
       "   np.float64(0.0),\n",
       "   np.float64(1.0))),\n",
       " ((np.float64(0.0),\n",
       "   np.float64(1.0),\n",
       "   np.float64(0.0),\n",
       "   np.float64(1.0),\n",
       "   np.float64(1.0),\n",
       "   np.float64(0.0),\n",
       "   np.float64(1.0),\n",
       "   np.float64(0.0)),\n",
       "  (np.float64(0.0),\n",
       "   np.float64(1.0),\n",
       "   np.float64(0.0),\n",
       "   np.float64(0.0),\n",
       "   np.float64(1.0),\n",
       "   np.float64(0.0),\n",
       "   np.float64(1.0),\n",
       "   np.float64(1.0))),\n",
       " ((np.float64(0.0),\n",
       "   np.float64(1.0),\n",
       "   np.float64(0.0),\n",
       "   np.float64(1.0),\n",
       "   np.float64(1.0),\n",
       "   np.float64(1.0),\n",
       "   np.float64(0.0),\n",
       "   np.float64(0.0)),\n",
       "  (np.float64(0.0),\n",
       "   np.float64(0.0),\n",
       "   np.float64(1.0),\n",
       "   np.float64(0.0),\n",
       "   np.float64(1.0),\n",
       "   np.float64(1.0),\n",
       "   np.float64(1.0),\n",
       "   np.float64(0.0))),\n",
       " ((np.float64(0.0),\n",
       "   np.float64(1.0),\n",
       "   np.float64(1.0),\n",
       "   np.float64(0.0),\n",
       "   np.float64(1.0),\n",
       "   np.float64(0.0),\n",
       "   np.float64(0.0),\n",
       "   np.float64(1.0)),\n",
       "  (np.float64(0.0),\n",
       "   np.float64(1.0),\n",
       "   np.float64(0.0),\n",
       "   np.float64(0.0),\n",
       "   np.float64(1.0),\n",
       "   np.float64(0.0),\n",
       "   np.float64(1.0),\n",
       "   np.float64(1.0))),\n",
       " ((np.float64(0.0),\n",
       "   np.float64(1.0),\n",
       "   np.float64(1.0),\n",
       "   np.float64(0.0),\n",
       "   np.float64(1.0),\n",
       "   np.float64(0.0),\n",
       "   np.float64(1.0),\n",
       "   np.float64(0.0)),\n",
       "  (np.float64(0.0),\n",
       "   np.float64(1.0),\n",
       "   np.float64(0.0),\n",
       "   np.float64(1.0),\n",
       "   np.float64(1.0),\n",
       "   np.float64(0.0),\n",
       "   np.float64(0.0),\n",
       "   np.float64(1.0))),\n",
       " ((np.float64(0.0),\n",
       "   np.float64(1.0),\n",
       "   np.float64(1.0),\n",
       "   np.float64(0.0),\n",
       "   np.float64(1.0),\n",
       "   np.float64(1.0),\n",
       "   np.float64(0.0),\n",
       "   np.float64(0.0)),\n",
       "  (np.float64(1.0),\n",
       "   np.float64(0.0),\n",
       "   np.float64(0.0),\n",
       "   np.float64(1.0),\n",
       "   np.float64(1.0),\n",
       "   np.float64(1.0),\n",
       "   np.float64(0.0),\n",
       "   np.float64(0.0))),\n",
       " ((np.float64(0.0),\n",
       "   np.float64(1.0),\n",
       "   np.float64(1.0),\n",
       "   np.float64(1.0),\n",
       "   np.float64(0.0),\n",
       "   np.float64(0.0),\n",
       "   np.float64(0.0),\n",
       "   np.float64(1.0)),\n",
       "  (np.float64(0.0),\n",
       "   np.float64(0.0),\n",
       "   np.float64(1.0),\n",
       "   np.float64(0.0),\n",
       "   np.float64(1.0),\n",
       "   np.float64(1.0),\n",
       "   np.float64(1.0),\n",
       "   np.float64(0.0))),\n",
       " ((np.float64(0.0),\n",
       "   np.float64(1.0),\n",
       "   np.float64(1.0),\n",
       "   np.float64(1.0),\n",
       "   np.float64(0.0),\n",
       "   np.float64(0.0),\n",
       "   np.float64(1.0),\n",
       "   np.float64(0.0)),\n",
       "  (np.float64(1.0),\n",
       "   np.float64(0.0),\n",
       "   np.float64(0.0),\n",
       "   np.float64(1.0),\n",
       "   np.float64(1.0),\n",
       "   np.float64(1.0),\n",
       "   np.float64(0.0),\n",
       "   np.float64(0.0))),\n",
       " ((np.float64(0.0),\n",
       "   np.float64(1.0),\n",
       "   np.float64(1.0),\n",
       "   np.float64(1.0),\n",
       "   np.float64(1.0),\n",
       "   np.float64(0.0),\n",
       "   np.float64(0.0),\n",
       "   np.float64(0.0)),\n",
       "  (np.float64(1.0),\n",
       "   np.float64(1.0),\n",
       "   np.float64(1.0),\n",
       "   np.float64(1.0),\n",
       "   np.float64(0.0),\n",
       "   np.float64(0.0),\n",
       "   np.float64(0.0),\n",
       "   np.float64(0.0))),\n",
       " ((np.float64(1.0),\n",
       "   np.float64(0.0),\n",
       "   np.float64(0.0),\n",
       "   np.float64(0.0),\n",
       "   np.float64(0.0),\n",
       "   np.float64(1.0),\n",
       "   np.float64(1.0),\n",
       "   np.float64(1.0)),\n",
       "  (np.float64(1.0),\n",
       "   np.float64(1.0),\n",
       "   np.float64(1.0),\n",
       "   np.float64(1.0),\n",
       "   np.float64(0.0),\n",
       "   np.float64(0.0),\n",
       "   np.float64(0.0),\n",
       "   np.float64(0.0))),\n",
       " ((np.float64(1.0),\n",
       "   np.float64(0.0),\n",
       "   np.float64(0.0),\n",
       "   np.float64(0.0),\n",
       "   np.float64(1.0),\n",
       "   np.float64(1.0),\n",
       "   np.float64(0.0),\n",
       "   np.float64(1.0)),\n",
       "  (np.float64(1.0),\n",
       "   np.float64(0.0),\n",
       "   np.float64(0.0),\n",
       "   np.float64(1.0),\n",
       "   np.float64(1.0),\n",
       "   np.float64(1.0),\n",
       "   np.float64(0.0),\n",
       "   np.float64(0.0))),\n",
       " ((np.float64(1.0),\n",
       "   np.float64(0.0),\n",
       "   np.float64(0.0),\n",
       "   np.float64(0.0),\n",
       "   np.float64(1.0),\n",
       "   np.float64(1.0),\n",
       "   np.float64(1.0),\n",
       "   np.float64(0.0)),\n",
       "  (np.float64(0.0),\n",
       "   np.float64(0.0),\n",
       "   np.float64(1.0),\n",
       "   np.float64(0.0),\n",
       "   np.float64(1.0),\n",
       "   np.float64(1.0),\n",
       "   np.float64(1.0),\n",
       "   np.float64(0.0))),\n",
       " ((np.float64(1.0),\n",
       "   np.float64(0.0),\n",
       "   np.float64(0.0),\n",
       "   np.float64(1.0),\n",
       "   np.float64(0.0),\n",
       "   np.float64(0.0),\n",
       "   np.float64(1.0),\n",
       "   np.float64(1.0)),\n",
       "  (np.float64(1.0),\n",
       "   np.float64(0.0),\n",
       "   np.float64(0.0),\n",
       "   np.float64(1.0),\n",
       "   np.float64(1.0),\n",
       "   np.float64(1.0),\n",
       "   np.float64(0.0),\n",
       "   np.float64(0.0))),\n",
       " ((np.float64(1.0),\n",
       "   np.float64(0.0),\n",
       "   np.float64(0.0),\n",
       "   np.float64(1.0),\n",
       "   np.float64(0.0),\n",
       "   np.float64(1.0),\n",
       "   np.float64(0.0),\n",
       "   np.float64(1.0)),\n",
       "  (np.float64(0.0),\n",
       "   np.float64(1.0),\n",
       "   np.float64(0.0),\n",
       "   np.float64(1.0),\n",
       "   np.float64(1.0),\n",
       "   np.float64(0.0),\n",
       "   np.float64(0.0),\n",
       "   np.float64(1.0))),\n",
       " ((np.float64(1.0),\n",
       "   np.float64(0.0),\n",
       "   np.float64(0.0),\n",
       "   np.float64(1.0),\n",
       "   np.float64(0.0),\n",
       "   np.float64(1.0),\n",
       "   np.float64(1.0),\n",
       "   np.float64(0.0)),\n",
       "  (np.float64(0.0),\n",
       "   np.float64(1.0),\n",
       "   np.float64(0.0),\n",
       "   np.float64(0.0),\n",
       "   np.float64(1.0),\n",
       "   np.float64(0.0),\n",
       "   np.float64(1.0),\n",
       "   np.float64(1.0))),\n",
       " ((np.float64(1.0),\n",
       "   np.float64(0.0),\n",
       "   np.float64(1.0),\n",
       "   np.float64(0.0),\n",
       "   np.float64(0.0),\n",
       "   np.float64(0.0),\n",
       "   np.float64(1.0),\n",
       "   np.float64(1.0)),\n",
       "  (np.float64(0.0),\n",
       "   np.float64(0.0),\n",
       "   np.float64(1.0),\n",
       "   np.float64(0.0),\n",
       "   np.float64(1.0),\n",
       "   np.float64(1.0),\n",
       "   np.float64(1.0),\n",
       "   np.float64(0.0))),\n",
       " ((np.float64(1.0),\n",
       "   np.float64(0.0),\n",
       "   np.float64(1.0),\n",
       "   np.float64(0.0),\n",
       "   np.float64(0.0),\n",
       "   np.float64(1.0),\n",
       "   np.float64(0.0),\n",
       "   np.float64(1.0)),\n",
       "  (np.float64(0.0),\n",
       "   np.float64(1.0),\n",
       "   np.float64(0.0),\n",
       "   np.float64(0.0),\n",
       "   np.float64(1.0),\n",
       "   np.float64(0.0),\n",
       "   np.float64(1.0),\n",
       "   np.float64(1.0))),\n",
       " ((np.float64(1.0),\n",
       "   np.float64(0.0),\n",
       "   np.float64(1.0),\n",
       "   np.float64(0.0),\n",
       "   np.float64(1.0),\n",
       "   np.float64(0.0),\n",
       "   np.float64(0.0),\n",
       "   np.float64(1.0)),\n",
       "  (np.float64(0.0),\n",
       "   np.float64(1.0),\n",
       "   np.float64(0.0),\n",
       "   np.float64(1.0),\n",
       "   np.float64(1.0),\n",
       "   np.float64(0.0),\n",
       "   np.float64(0.0),\n",
       "   np.float64(1.0))),\n",
       " ((np.float64(1.0),\n",
       "   np.float64(0.0),\n",
       "   np.float64(1.0),\n",
       "   np.float64(0.0),\n",
       "   np.float64(1.0),\n",
       "   np.float64(1.0),\n",
       "   np.float64(0.0),\n",
       "   np.float64(0.0)),\n",
       "  (np.float64(0.0),\n",
       "   np.float64(1.0),\n",
       "   np.float64(0.0),\n",
       "   np.float64(1.0),\n",
       "   np.float64(1.0),\n",
       "   np.float64(0.0),\n",
       "   np.float64(0.0),\n",
       "   np.float64(1.0))),\n",
       " ((np.float64(1.0),\n",
       "   np.float64(0.0),\n",
       "   np.float64(1.0),\n",
       "   np.float64(1.0),\n",
       "   np.float64(0.0),\n",
       "   np.float64(0.0),\n",
       "   np.float64(0.0),\n",
       "   np.float64(1.0)),\n",
       "  (np.float64(1.0),\n",
       "   np.float64(0.0),\n",
       "   np.float64(0.0),\n",
       "   np.float64(1.0),\n",
       "   np.float64(1.0),\n",
       "   np.float64(1.0),\n",
       "   np.float64(0.0),\n",
       "   np.float64(0.0))),\n",
       " ((np.float64(1.0),\n",
       "   np.float64(0.0),\n",
       "   np.float64(1.0),\n",
       "   np.float64(1.0),\n",
       "   np.float64(0.0),\n",
       "   np.float64(0.0),\n",
       "   np.float64(1.0),\n",
       "   np.float64(0.0)),\n",
       "  (np.float64(0.0),\n",
       "   np.float64(1.0),\n",
       "   np.float64(0.0),\n",
       "   np.float64(1.0),\n",
       "   np.float64(1.0),\n",
       "   np.float64(0.0),\n",
       "   np.float64(0.0),\n",
       "   np.float64(1.0))),\n",
       " ((np.float64(1.0),\n",
       "   np.float64(0.0),\n",
       "   np.float64(1.0),\n",
       "   np.float64(1.0),\n",
       "   np.float64(1.0),\n",
       "   np.float64(0.0),\n",
       "   np.float64(0.0),\n",
       "   np.float64(0.0)),\n",
       "  (np.float64(0.0),\n",
       "   np.float64(0.0),\n",
       "   np.float64(1.0),\n",
       "   np.float64(0.0),\n",
       "   np.float64(1.0),\n",
       "   np.float64(1.0),\n",
       "   np.float64(1.0),\n",
       "   np.float64(0.0))),\n",
       " ((np.float64(1.0),\n",
       "   np.float64(1.0),\n",
       "   np.float64(0.0),\n",
       "   np.float64(0.0),\n",
       "   np.float64(0.0),\n",
       "   np.float64(0.0),\n",
       "   np.float64(1.0),\n",
       "   np.float64(1.0)),\n",
       "  (np.float64(1.0),\n",
       "   np.float64(1.0),\n",
       "   np.float64(1.0),\n",
       "   np.float64(1.0),\n",
       "   np.float64(0.0),\n",
       "   np.float64(0.0),\n",
       "   np.float64(0.0),\n",
       "   np.float64(0.0))),\n",
       " ((np.float64(1.0),\n",
       "   np.float64(1.0),\n",
       "   np.float64(0.0),\n",
       "   np.float64(0.0),\n",
       "   np.float64(0.0),\n",
       "   np.float64(1.0),\n",
       "   np.float64(0.0),\n",
       "   np.float64(1.0)),\n",
       "  (np.float64(0.0),\n",
       "   np.float64(0.0),\n",
       "   np.float64(1.0),\n",
       "   np.float64(0.0),\n",
       "   np.float64(1.0),\n",
       "   np.float64(1.0),\n",
       "   np.float64(1.0),\n",
       "   np.float64(0.0))),\n",
       " ((np.float64(1.0),\n",
       "   np.float64(1.0),\n",
       "   np.float64(0.0),\n",
       "   np.float64(0.0),\n",
       "   np.float64(1.0),\n",
       "   np.float64(0.0),\n",
       "   np.float64(0.0),\n",
       "   np.float64(1.0)),\n",
       "  (np.float64(1.0),\n",
       "   np.float64(0.0),\n",
       "   np.float64(0.0),\n",
       "   np.float64(1.0),\n",
       "   np.float64(1.0),\n",
       "   np.float64(1.0),\n",
       "   np.float64(0.0),\n",
       "   np.float64(0.0))),\n",
       " ((np.float64(1.0),\n",
       "   np.float64(1.0),\n",
       "   np.float64(0.0),\n",
       "   np.float64(0.0),\n",
       "   np.float64(1.0),\n",
       "   np.float64(0.0),\n",
       "   np.float64(1.0),\n",
       "   np.float64(0.0)),\n",
       "  (np.float64(0.0),\n",
       "   np.float64(1.0),\n",
       "   np.float64(0.0),\n",
       "   np.float64(1.0),\n",
       "   np.float64(1.0),\n",
       "   np.float64(0.0),\n",
       "   np.float64(0.0),\n",
       "   np.float64(1.0))),\n",
       " ((np.float64(1.0),\n",
       "   np.float64(1.0),\n",
       "   np.float64(0.0),\n",
       "   np.float64(0.0),\n",
       "   np.float64(1.0),\n",
       "   np.float64(1.0),\n",
       "   np.float64(0.0),\n",
       "   np.float64(0.0)),\n",
       "  (np.float64(0.0),\n",
       "   np.float64(1.0),\n",
       "   np.float64(1.0),\n",
       "   np.float64(0.0),\n",
       "   np.float64(0.0),\n",
       "   np.float64(1.0),\n",
       "   np.float64(1.0),\n",
       "   np.float64(0.0))),\n",
       " ((np.float64(1.0),\n",
       "   np.float64(1.0),\n",
       "   np.float64(0.0),\n",
       "   np.float64(1.0),\n",
       "   np.float64(0.0),\n",
       "   np.float64(1.0),\n",
       "   np.float64(0.0),\n",
       "   np.float64(0.0)),\n",
       "  (np.float64(0.0),\n",
       "   np.float64(1.0),\n",
       "   np.float64(0.0),\n",
       "   np.float64(1.0),\n",
       "   np.float64(1.0),\n",
       "   np.float64(0.0),\n",
       "   np.float64(0.0),\n",
       "   np.float64(1.0))),\n",
       " ((np.float64(1.0),\n",
       "   np.float64(1.0),\n",
       "   np.float64(0.0),\n",
       "   np.float64(1.0),\n",
       "   np.float64(1.0),\n",
       "   np.float64(0.0),\n",
       "   np.float64(0.0),\n",
       "   np.float64(0.0)),\n",
       "  (np.float64(1.0),\n",
       "   np.float64(0.0),\n",
       "   np.float64(0.0),\n",
       "   np.float64(1.0),\n",
       "   np.float64(1.0),\n",
       "   np.float64(1.0),\n",
       "   np.float64(0.0),\n",
       "   np.float64(0.0))),\n",
       " ((np.float64(1.0),\n",
       "   np.float64(1.0),\n",
       "   np.float64(1.0),\n",
       "   np.float64(0.0),\n",
       "   np.float64(0.0),\n",
       "   np.float64(0.0),\n",
       "   np.float64(0.0),\n",
       "   np.float64(1.0)),\n",
       "  (np.float64(1.0),\n",
       "   np.float64(1.0),\n",
       "   np.float64(1.0),\n",
       "   np.float64(1.0),\n",
       "   np.float64(0.0),\n",
       "   np.float64(0.0),\n",
       "   np.float64(0.0),\n",
       "   np.float64(0.0))),\n",
       " ((np.float64(1.0),\n",
       "   np.float64(1.0),\n",
       "   np.float64(1.0),\n",
       "   np.float64(0.0),\n",
       "   np.float64(0.0),\n",
       "   np.float64(0.0),\n",
       "   np.float64(1.0),\n",
       "   np.float64(0.0)),\n",
       "  (np.float64(0.0),\n",
       "   np.float64(0.0),\n",
       "   np.float64(1.0),\n",
       "   np.float64(0.0),\n",
       "   np.float64(1.0),\n",
       "   np.float64(1.0),\n",
       "   np.float64(1.0),\n",
       "   np.float64(0.0))),\n",
       " ((np.float64(1.0),\n",
       "   np.float64(1.0),\n",
       "   np.float64(1.0),\n",
       "   np.float64(0.0),\n",
       "   np.float64(0.0),\n",
       "   np.float64(1.0),\n",
       "   np.float64(0.0),\n",
       "   np.float64(0.0)),\n",
       "  (np.float64(1.0),\n",
       "   np.float64(0.0),\n",
       "   np.float64(0.0),\n",
       "   np.float64(1.0),\n",
       "   np.float64(1.0),\n",
       "   np.float64(1.0),\n",
       "   np.float64(0.0),\n",
       "   np.float64(0.0))),\n",
       " ((np.float64(1.0),\n",
       "   np.float64(1.0),\n",
       "   np.float64(1.0),\n",
       "   np.float64(0.0),\n",
       "   np.float64(1.0),\n",
       "   np.float64(0.0),\n",
       "   np.float64(0.0),\n",
       "   np.float64(0.0)),\n",
       "  (np.float64(0.0),\n",
       "   np.float64(0.0),\n",
       "   np.float64(1.0),\n",
       "   np.float64(0.0),\n",
       "   np.float64(1.0),\n",
       "   np.float64(1.0),\n",
       "   np.float64(1.0),\n",
       "   np.float64(0.0)))}"
      ]
     },
     "execution_count": 23,
     "metadata": {},
     "output_type": "execute_result"
    }
   ],
   "source": [
    "check_symmetries(8, embed_fourier)"
   ]
  },
  {
   "cell_type": "code",
   "execution_count": 24,
   "id": "5cc728c3",
   "metadata": {},
   "outputs": [
    {
     "data": {
      "text/plain": [
       "array([0., 4., 0., 2., 0., 4.])"
      ]
     },
     "execution_count": 24,
     "metadata": {},
     "output_type": "execute_result"
    }
   ],
   "source": [
    "np.abs(np.fft.fft(2 * np.array([1, 1, 1, 0, 0, 0]) - 1))"
   ]
  },
  {
   "cell_type": "code",
   "execution_count": 25,
   "id": "18e9a588",
   "metadata": {},
   "outputs": [
    {
     "data": {
      "text/plain": [
       "array([0., 4., 0., 2., 0., 4.])"
      ]
     },
     "execution_count": 25,
     "metadata": {},
     "output_type": "execute_result"
    }
   ],
   "source": [
    "np.abs(np.fft.fft(2*np.array([1, 1, 0, 0, 0, 1]) - 1))"
   ]
  },
  {
   "cell_type": "code",
   "execution_count": 77,
   "id": "a1cb4d74",
   "metadata": {},
   "outputs": [
    {
     "name": "stdout",
     "output_type": "stream",
     "text": [
      "0\n"
     ]
    },
    {
     "data": {
      "text/plain": [
       "set()"
      ]
     },
     "execution_count": 77,
     "metadata": {},
     "output_type": "execute_result"
    }
   ],
   "source": [
    "symms = check_symmetries(16, lambda x : np.abs(np.fft.rfft((-1) ** np.array(x)))) # seems no issues up to N=16\n",
    "print(len(symms))\n",
    "symms"
   ]
  },
  {
   "cell_type": "code",
   "execution_count": 50,
   "id": "d248c743",
   "metadata": {},
   "outputs": [
    {
     "data": {
      "text/plain": [
       "{15: 8, 23: 8, 27: 8, 29: 8, 39: 8, 43: 8, 45: 8, 51: 4, 53: 8, 85: 2}"
      ]
     },
     "execution_count": 50,
     "metadata": {},
     "output_type": "execute_result"
    }
   ],
   "source": [
    "utils.find_uniques([n for n in range(2**8) if mag.count_magnetization(n) == 4], 8)"
   ]
  },
  {
   "cell_type": "code",
   "execution_count": 51,
   "id": "c3f8f70f",
   "metadata": {},
   "outputs": [
    {
     "data": {
      "text/plain": [
       "'0b110011'"
      ]
     },
     "execution_count": 51,
     "metadata": {},
     "output_type": "execute_result"
    }
   ],
   "source": [
    "bin(51)"
   ]
  },
  {
   "cell_type": "code",
   "execution_count": 62,
   "id": "d547fac6",
   "metadata": {},
   "outputs": [
    {
     "data": {
      "text/plain": [
       "(31, 992)"
      ]
     },
     "execution_count": 62,
     "metadata": {},
     "output_type": "execute_result"
    }
   ],
   "source": [
    "0b0000011111, 0b1111100000"
   ]
  },
  {
   "cell_type": "code",
   "execution_count": null,
   "id": "ea0ee166",
   "metadata": {},
   "outputs": [
    {
     "name": "stdout",
     "output_type": "stream",
     "text": [
      "0\n"
     ]
    },
    {
     "data": {
      "text/plain": [
       "set()"
      ]
     },
     "execution_count": 82,
     "metadata": {},
     "output_type": "execute_result"
    },
    {
     "ename": "",
     "evalue": "",
     "output_type": "error",
     "traceback": [
      "\u001b[1;31mThe Kernel crashed while executing code in the current cell or a previous cell. \n",
      "\u001b[1;31mPlease review the code in the cell(s) to identify a possible cause of the failure. \n",
      "\u001b[1;31mClick <a href='https://aka.ms/vscodeJupyterKernelCrash'>here</a> for more info. \n",
      "\u001b[1;31mView Jupyter <a href='command:jupyter.viewOutput'>log</a> for further details."
     ]
    }
   ],
   "source": [
    "import qutip as qt\n",
    "L=14\n",
    "#gs = j1j2.J1J2_hamiltonian(L, 1, 0).eigenstates()[1][0]\n",
    "gs = qt.qload(f'../J1J2_info/N{L}/n{L}gs_J2_{0.0}')\n",
    "collisions = check_states(L, gs)\n",
    "print(len(collisions))\n",
    "collisions\n",
    "# NOTE SYMMETRY ONLY MEANS THAT |psi^2| IS THE SAME, THERE COULD BE PHASE DIFFERENT \n",
    "# there is no phase difference for N%4=0, but there is for N%4=2"
   ]
  },
  {
   "cell_type": "code",
   "execution_count": 64,
   "id": "96581cf8",
   "metadata": {},
   "outputs": [
    {
     "data": {
      "text/plain": [
       "(array([0.0004815+0.j]), array([-0.0004815-0.j]))"
      ]
     },
     "execution_count": 64,
     "metadata": {},
     "output_type": "execute_result"
    }
   ],
   "source": [
    "gs[31], gs[992]"
   ]
  },
  {
   "cell_type": "code",
   "execution_count": 112,
   "id": "1bc3e5f6",
   "metadata": {},
   "outputs": [
    {
     "name": "stdout",
     "output_type": "stream",
     "text": [
      "4.46 μs ± 53.6 ns per loop (mean ± std. dev. of 7 runs, 100,000 loops each)\n"
     ]
    }
   ],
   "source": [
    "%%timeit\n",
    "np.fft.fft([1, 0, 1, 0, 1, 1, 0, 0])"
   ]
  },
  {
   "cell_type": "code",
   "execution_count": 113,
   "id": "1586e967",
   "metadata": {},
   "outputs": [
    {
     "name": "stdout",
     "output_type": "stream",
     "text": [
      "37.7 μs ± 1.72 μs per loop (mean ± std. dev. of 7 runs, 10,000 loops each)\n"
     ]
    }
   ],
   "source": [
    "%%timeit\n",
    "fourier([1, 0, 1, 0, 1, 1, 0, 0])"
   ]
  },
  {
   "cell_type": "code",
   "execution_count": 267,
   "id": "118193ed",
   "metadata": {},
   "outputs": [
    {
     "data": {
      "text/plain": [
       "array([2.+0.j, 0.+0.j, 2.+0.j, 0.+0.j])"
      ]
     },
     "execution_count": 267,
     "metadata": {},
     "output_type": "execute_result"
    }
   ],
   "source": [
    "np.fft.fft([1, 0, 1, 0])"
   ]
  },
  {
   "cell_type": "code",
   "execution_count": 114,
   "id": "6a63fa89",
   "metadata": {},
   "outputs": [
    {
     "data": {
      "text/plain": [
       "(array([1, 0, 0, 0, 0, 2, 0, 0, 0, 1]),\n",
       " array([0.        , 0.34641016, 0.69282032, 1.03923048, 1.38564065,\n",
       "        1.73205081, 2.07846097, 2.42487113, 2.77128129, 3.11769145,\n",
       "        3.46410162]))"
      ]
     },
     "execution_count": 114,
     "metadata": {},
     "output_type": "execute_result"
    }
   ],
   "source": [
    "np.histogram(np.abs(np.fft.rfft((-1) ** np.array([1, 0, 0, 1, 1, 0]))))"
   ]
  },
  {
   "cell_type": "code",
   "execution_count": 115,
   "id": "9636230b",
   "metadata": {},
   "outputs": [
    {
     "data": {
      "text/plain": [
       "array([0.        , 2.        , 3.46410162, 2.        ])"
      ]
     },
     "execution_count": 115,
     "metadata": {},
     "output_type": "execute_result"
    }
   ],
   "source": [
    "np.abs(np.fft.rfft((-1) ** np.array([1, 0, 0, 1, 1, 0])))"
   ]
  },
  {
   "cell_type": "code",
   "execution_count": 126,
   "id": "e9cdc4aa",
   "metadata": {},
   "outputs": [
    {
     "data": {
      "text/plain": [
       "array([0.00000000e+00, 4.00000000e+00, 2.22044605e-16, 2.00000000e+00])"
      ]
     },
     "execution_count": 126,
     "metadata": {},
     "output_type": "execute_result"
    }
   ],
   "source": [
    "np.abs(np.fft.rfft((-1) ** np.array([0, 0, 1, 1, 1, 0])))"
   ]
  },
  {
   "cell_type": "code",
   "execution_count": 122,
   "id": "fe944381",
   "metadata": {},
   "outputs": [
    {
     "data": {
      "text/plain": [
       "array([4., 0., 0.])"
      ]
     },
     "execution_count": 122,
     "metadata": {},
     "output_type": "execute_result"
    }
   ],
   "source": [
    "np.abs(np.fft.rfft((-1) ** np.array([1, 1, 1, 1])))"
   ]
  },
  {
   "cell_type": "code",
   "execution_count": 125,
   "id": "c85cd219",
   "metadata": {},
   "outputs": [
    {
     "data": {
      "text/plain": [
       "array([0., 0., 0., 6.])"
      ]
     },
     "execution_count": 125,
     "metadata": {},
     "output_type": "execute_result"
    }
   ],
   "source": [
    "np.abs(np.fft.rfft((-1) ** np.array([1, 0, 1, 0, 1, 0])))"
   ]
  },
  {
   "cell_type": "code",
   "execution_count": 129,
   "id": "d29f4548",
   "metadata": {},
   "outputs": [
    {
     "data": {
      "text/plain": [
       "array([0.+0.j        , 2.+0.j        , 0.+3.46410162j, 2.+0.j        ])"
      ]
     },
     "execution_count": 129,
     "metadata": {},
     "output_type": "execute_result"
    }
   ],
   "source": [
    "np.fft.rfft([1, -1, 1, -1, -1, 1])"
   ]
  },
  {
   "cell_type": "code",
   "execution_count": null,
   "id": "d111a4f7",
   "metadata": {},
   "outputs": [],
   "source": []
  }
 ],
 "metadata": {
  "kernelspec": {
   "display_name": "kans",
   "language": "python",
   "name": "python3"
  },
  "language_info": {
   "codemirror_mode": {
    "name": "ipython",
    "version": 3
   },
   "file_extension": ".py",
   "mimetype": "text/x-python",
   "name": "python",
   "nbconvert_exporter": "python",
   "pygments_lexer": "ipython3",
   "version": "3.9.23"
  }
 },
 "nbformat": 4,
 "nbformat_minor": 5
}
