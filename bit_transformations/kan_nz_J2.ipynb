{
 "cells": [
  {
   "cell_type": "code",
   "execution_count": 1,
   "id": "ae49491f",
   "metadata": {},
   "outputs": [],
   "source": [
    "import kan\n",
    "import kan.utils as ku\n",
    "import numpy as np\n",
    "import torch.nn as nn\n",
    "import torch\n",
    "import qutip as qt\n",
    "from libraries import utils\n",
    "from libraries import magnetization\n",
    "from libraries import j1j2_functions"
   ]
  },
  {
   "cell_type": "code",
   "execution_count": 26,
   "id": "a9fa6fa0",
   "metadata": {},
   "outputs": [],
   "source": [
    "N=10; J1=1\n",
    "# there seem to be 5 distinct phases of deviating string amounts\n",
    "J2s = [0.0, 0.2, 0.29, 0.32, 0.4] # numbered phases 1-4 (J2=0 is phase 0)\n",
    "gss = [qt.qload(f'../J1J2_info/N10/n{N}gs_J2_{J2}') for J2 in J2s]\n",
    "states = utils.get_nonzero_states(N, gss[0], 1e-10)[0]\n",
    "signs = [utils.get_nonzero_states(N, gs, 1e-10)[1] for gs in gss]"
   ]
  },
  {
   "cell_type": "code",
   "execution_count": 27,
   "id": "bbdfc498",
   "metadata": {},
   "outputs": [
    {
     "name": "stdout",
     "output_type": "stream",
     "text": [
      "341\n"
     ]
    }
   ],
   "source": [
    "nd = 0b0101010101 # this never deviates, let this be of negative sign (note this fulfills cos(amp * pi/4 + phase + pi / 2))\n",
    "index = states.index(nd)\n",
    "print(nd)\n",
    "for i in range(len(signs)):\n",
    "    if signs[i][index] > 0:\n",
    "        signs[i] = -1 * np.array(signs[i])\n",
    "    else:\n",
    "        signs[i] = np.array(signs[i])"
   ]
  },
  {
   "cell_type": "code",
   "execution_count": 28,
   "id": "482b22a7",
   "metadata": {},
   "outputs": [
    {
     "name": "stdout",
     "output_type": "stream",
     "text": [
      "torch.Size([252, 10])\n"
     ]
    },
    {
     "name": "stderr",
     "output_type": "stream",
     "text": [
      "C:\\Users\\taoha\\AppData\\Local\\Temp\\ipykernel_5144\\2939947991.py:2: DeprecationWarning: __array__ implementation doesn't accept a copy keyword, so passing copy=False failed. __array__ must implement 'dtype' and 'copy' keyword arguments.\n",
      "  x = (-1) ** np.array(x)\n"
     ]
    }
   ],
   "source": [
    "def rfft(x):\n",
    "    x = (-1) ** np.array(x)\n",
    "    return np.fft.rfft(x)[1:]\n",
    "\n",
    "input = utils.generate_input_samples(N, states)\n",
    "print(input.shape)\n",
    "ft_input = []\n",
    "for x in input:\n",
    "    amp_phase = []\n",
    "    ft = rfft(x)\n",
    "    for c in ft:\n",
    "        amp_phase.append(np.abs(c))\n",
    "        amp_phase.append(np.angle(c) % (2 * np.pi))\n",
    "    ft_input.append(amp_phase)\n",
    "ft_input = torch.tensor(ft_input)"
   ]
  },
  {
   "cell_type": "code",
   "execution_count": 90,
   "id": "c88c5e99",
   "metadata": {},
   "outputs": [
    {
     "name": "stdout",
     "output_type": "stream",
     "text": [
      "checkpoint directory created: ./model\n",
      "saving model version 0.0\n",
      "2.436366558074951\n",
      "0.01157146506011486\n",
      "0.011722033843398094\n",
      "0.011560842394828796\n",
      "0.01172007154673338\n",
      "0.012038445100188255\n",
      "0.010709987953305244\n",
      "0.010531416162848473\n",
      "0.010346800088882446\n",
      "0.010172109119594097\n",
      "0.011552161537110806\n"
     ]
    }
   ],
   "source": [
    "phase = 1; lamb=1.5e-3\n",
    "\n",
    "reg_metric='edge_forward_spline_n'; lamb_l1=1.; lamb_entropy=2.; lamb_coef=0.; lamb_coefdiff=0.\n",
    "\n",
    "msr_vec = torch.tensor([0] * (N - 2) + [np.pi / 4, 1]).reshape(-1, 1)\n",
    "k1 = kan.KAN(width=[10, 1], seed=2)\n",
    "opt = kan.LBFGS(k1.parameters(), lr = 1)\n",
    "epochs = 50; datarate = 5\n",
    "for i in range(epochs):\n",
    "    def closure():\n",
    "        opt.zero_grad()\n",
    "        pred = torch.cos(ft_input @ msr_vec + torch.pi / 2 + k1(ft_input))\n",
    "        loss = torch.mean((pred - torch.tensor(signs[phase].reshape(-1, 1))) ** 2) + lamb * k1.get_reg(reg_metric, lamb_l1, lamb_entropy, lamb_coef, lamb_coefdiff)\n",
    "        loss.backward()\n",
    "        return loss\n",
    "    loss = opt.step(closure)\n",
    "    if i % datarate == 0:\n",
    "        print(loss.item())\n",
    "print(loss.item())"
   ]
  },
  {
   "cell_type": "code",
   "execution_count": 91,
   "id": "4d799e51",
   "metadata": {},
   "outputs": [
    {
     "data": {
      "image/png": "[encoded data removed]",
      "text/plain": [
       "<Figure size 500x200 with 12 Axes>"
      ]
     },
     "metadata": {},
     "output_type": "display_data"
    }
   ],
   "source": [
    "k1.plot()"
   ]
  },
  {
   "cell_type": "code",
   "execution_count": 92,
   "id": "0f24eda6",
   "metadata": {},
   "outputs": [
    {
     "name": "stdout",
     "output_type": "stream",
     "text": [
      "saving model version 0.1\n"
     ]
    }
   ],
   "source": [
    "k1 = k1.prune()"
   ]
  },
  {
   "cell_type": "code",
   "execution_count": 93,
   "id": "2c8bc36e",
   "metadata": {},
   "outputs": [
    {
     "name": "stdout",
     "output_type": "stream",
     "text": [
      "0.010915566235780716\n",
      "0.010915566235780716\n",
      "0.010915566235780716\n",
      "0.010915566235780716\n",
      "0.010915566235780716\n",
      "0.010915566235780716\n",
      "0.010915566235780716\n",
      "0.010915566235780716\n",
      "0.010915566235780716\n",
      "0.010915566235780716\n",
      "0.010915566235780716\n"
     ]
    }
   ],
   "source": [
    "epochs = 50; datarate = 5\n",
    "for i in range(epochs):\n",
    "    def closure():\n",
    "        opt.zero_grad()\n",
    "        pred = torch.cos(ft_input @ msr_vec + torch.pi / 2 + k1(ft_input))\n",
    "        loss = torch.mean((pred - torch.tensor(signs[phase].reshape(-1, 1))) ** 2) + lamb * k1.get_reg(reg_metric, lamb_l1, lamb_entropy, lamb_coef, lamb_coefdiff)\n",
    "        loss.backward()\n",
    "        return loss\n",
    "    loss = opt.step(closure)\n",
    "    if i % datarate == 0:\n",
    "        print(loss.item())\n",
    "print(loss.item())"
   ]
  },
  {
   "cell_type": "code",
   "execution_count": 94,
   "id": "490a8b59",
   "metadata": {},
   "outputs": [
    {
     "data": {
      "image/png": "[encoded data removed]",
      "text/plain": [
       "<Figure size 500x200 with 12 Axes>"
      ]
     },
     "metadata": {},
     "output_type": "display_data"
    }
   ],
   "source": [
    "k1.plot()"
   ]
  },
  {
   "cell_type": "code",
   "execution_count": 95,
   "id": "07feed39",
   "metadata": {},
   "outputs": [
    {
     "name": "stdout",
     "output_type": "stream",
     "text": [
      "Best value at boundary.\n",
      "r2 is 0.0\n",
      "r2 is not very high, please double check if you are choosing the correct symbolic function.\n",
      "saving model version 0.2\n",
      "Best value at boundary.\n",
      "r2 is 0.0\n",
      "r2 is not very high, please double check if you are choosing the correct symbolic function.\n",
      "saving model version 0.3\n",
      "Best value at boundary.\n",
      "r2 is 0.0\n",
      "r2 is not very high, please double check if you are choosing the correct symbolic function.\n",
      "saving model version 0.4\n",
      "Best value at boundary.\n",
      "r2 is 0.0\n",
      "r2 is not very high, please double check if you are choosing the correct symbolic function.\n",
      "saving model version 0.5\n",
      "Best value at boundary.\n",
      "r2 is 0.0\n",
      "r2 is not very high, please double check if you are choosing the correct symbolic function.\n",
      "saving model version 0.6\n"
     ]
    }
   ],
   "source": [
    "for i in range(1, N, 2):\n",
    "    k1.fix_symbolic(0, i, 0, '0');"
   ]
  },
  {
   "cell_type": "code",
   "execution_count": 96,
   "id": "f8f05c90",
   "metadata": {},
   "outputs": [
    {
     "name": "stdout",
     "output_type": "stream",
     "text": [
      "0.009979956783354282\n",
      "0.009979956783354282\n",
      "0.009979956783354282\n",
      "0.009979956783354282\n",
      "0.009979956783354282\n",
      "0.009979956783354282\n",
      "0.009979956783354282\n",
      "0.009979956783354282\n",
      "0.009979956783354282\n",
      "0.009979956783354282\n",
      "0.009979956783354282\n"
     ]
    }
   ],
   "source": [
    "epochs = 50; datarate = 5\n",
    "for i in range(epochs):\n",
    "    def closure():\n",
    "        opt.zero_grad()\n",
    "        pred = torch.cos(ft_input @ msr_vec + torch.pi / 2 + k1(ft_input))\n",
    "        loss = torch.mean((pred - torch.tensor(signs[phase].reshape(-1, 1))) ** 2) + lamb * k1.get_reg(reg_metric, lamb_l1, lamb_entropy, lamb_coef, lamb_coefdiff)\n",
    "        loss.backward()\n",
    "        return loss\n",
    "    loss = opt.step(closure)\n",
    "    if i % datarate == 0:\n",
    "        print(loss.item())\n",
    "print(loss.item())"
   ]
  },
  {
   "cell_type": "code",
   "execution_count": 97,
   "id": "67997fc5",
   "metadata": {},
   "outputs": [
    {
     "data": {
      "image/png": "[encoded data removed]",
      "text/plain": [
       "<Figure size 500x200 with 12 Axes>"
      ]
     },
     "metadata": {},
     "output_type": "display_data"
    }
   ],
   "source": [
    "k1.plot()"
   ]
  },
  {
   "cell_type": "code",
   "execution_count": 98,
   "id": "2e03842c",
   "metadata": {},
   "outputs": [
    {
     "name": "stdout",
     "output_type": "stream",
     "text": [
      "   function  fitting r2   r2 loss  complexity  complexity loss  total loss\n",
      "0       tan    0.891388 -3.202605           3                3   -1.341824\n",
      "1       1/x    0.823105 -2.498952           2                2   -1.149266\n",
      "2     1/x^2    0.635441 -1.455736           2                2   -0.419015\n",
      "3  gaussian    0.707466 -1.773274           3                3   -0.341292\n",
      "4       cos    0.579223 -1.248837           2                2   -0.274186\n",
      "5       sin    0.579212 -1.248799           2                2   -0.274159\n",
      "6     1/x^3    0.652273 -1.523933           3                3   -0.166753\n",
      "7         0    0.000000  0.000014           0                0    0.000010\n",
      "8       x^2    0.367191 -0.660136           2                2    0.137905\n",
      "9     1/x^4    0.622689 -1.406135           4                4    0.215705\n",
      "    function  fitting r2   r2 loss  complexity  complexity loss  total loss\n",
      "0          x    0.974270 -5.279840           1                1   -3.395888\n",
      "1      x^0.5    0.975616 -5.357307           2                2   -3.150115\n",
      "2       sqrt    0.975616 -5.357307           2                2   -3.150115\n",
      "3        log    0.975520 -5.351682           2                2   -3.146177\n",
      "4        exp    0.975434 -5.346606           2                2   -3.142624\n",
      "5  1/sqrt(x)    0.975373 -5.343042           2                2   -3.140129\n",
      "6    1/x^0.5    0.975373 -5.343042           2                2   -3.140129\n",
      "7        x^2    0.975352 -5.341814           2                2   -3.139270\n",
      "8        cos    0.975291 -5.338223           2                2   -3.136756\n",
      "9        sin    0.975289 -5.338111           2                2   -3.136678\n",
      "   function  fitting r2   r2 loss  complexity  complexity loss  total loss\n",
      "0  gaussian    0.903999 -3.380655           3                3   -1.466459\n",
      "1       abs    0.895746 -3.261683           3                3   -1.383178\n",
      "2       sin    0.812323 -2.413599           2                2   -1.089519\n",
      "3       cos    0.812323 -2.413597           2                2   -1.089518\n",
      "4     1/x^2    0.786400 -2.226947           2                2   -0.958863\n",
      "5       tan    0.800582 -2.326062           3                3   -0.728244\n",
      "6       x^2    0.660852 -1.559969           2                2   -0.491979\n",
      "7         x    0.531322 -1.093300           1                1   -0.465310\n",
      "8       exp    0.606179 -1.344351           2                2   -0.341046\n",
      "9       1/x    0.596023 -1.307620           2                2   -0.315334\n",
      "    function  fitting r2   r2 loss  complexity  complexity loss  total loss\n",
      "0          x    0.972551 -5.186598           1                1   -3.330619\n",
      "1      x^0.5    0.975310 -5.339354           2                2   -3.137548\n",
      "2       sqrt    0.975310 -5.339354           2                2   -3.137548\n",
      "3        log    0.975125 -5.328577           2                2   -3.130004\n",
      "4        exp    0.974945 -5.318176           2                2   -3.122723\n",
      "5  1/sqrt(x)    0.974942 -5.318035           2                2   -3.122624\n",
      "6    1/x^0.5    0.974942 -5.318035           2                2   -3.122624\n",
      "7        x^2    0.974772 -5.308240           2                2   -3.115768\n",
      "8        cos    0.974666 -5.302236           2                2   -3.111565\n",
      "9        sin    0.974664 -5.302124           2                2   -3.111487\n",
      "   function  fitting r2    r2 loss  complexity  complexity loss  total loss\n",
      "0         x    0.999999 -16.470396           1                1  -11.229277\n",
      "1       exp    1.000001 -16.716706           2                2  -11.101694\n",
      "2       sin    1.000000 -16.680128           2                2  -11.076089\n",
      "3       cos    1.000000 -16.680128           2                2  -11.076089\n",
      "4       x^5    1.000001 -16.716706           3                3  -10.801694\n",
      "5      tanh    1.000000 -16.680128           3                3  -10.776089\n",
      "6       tan    1.000000 -16.680128           3                3  -10.776089\n",
      "7       x^3    1.000000 -16.680128           3                3  -10.776089\n",
      "8  gaussian    1.000000 -16.662180           3                3  -10.763526\n",
      "9       abs    0.999999 -16.470396           3                3  -10.629277\n"
     ]
    }
   ],
   "source": [
    "for i in range(0, N, 2):\n",
    "    k1.suggest_symbolic(0, i, 0, topk=10, weight_simple=0.3)"
   ]
  },
  {
   "cell_type": "code",
   "execution_count": 99,
   "id": "33027ad0",
   "metadata": {},
   "outputs": [
    {
     "name": "stdout",
     "output_type": "stream",
     "text": [
      "r2 is 0.9742699265480042\n",
      "saving model version 0.7\n",
      "r2 is 0.9725514054298401\n",
      "saving model version 0.8\n",
      "r2 is 0.9999989867210388\n",
      "saving model version 0.9\n",
      "0.008550789207220078\n",
      "0.008550789207220078\n",
      "0.008550789207220078\n",
      "0.008550789207220078\n",
      "0.008550789207220078\n",
      "0.008550789207220078\n",
      "0.008550789207220078\n",
      "0.008550789207220078\n",
      "0.008550789207220078\n",
      "0.008550789207220078\n",
      "0.008550789207220078\n"
     ]
    }
   ],
   "source": [
    "k1.fix_symbolic(0, 2, 0, 'x');\n",
    "k1.fix_symbolic(0, 6, 0, 'x');\n",
    "k1.fix_symbolic(0, 8, 0, 'x');\n",
    "epochs = 50; datarate = 5\n",
    "for i in range(epochs):\n",
    "    def closure():\n",
    "        opt.zero_grad()\n",
    "        pred = torch.cos(ft_input @ msr_vec + torch.pi / 2 + k1(ft_input))\n",
    "        loss = torch.mean((pred - torch.tensor(signs[phase].reshape(-1, 1))) ** 2) + lamb * k1.get_reg(reg_metric, lamb_l1, lamb_entropy, lamb_coef, lamb_coefdiff)\n",
    "        loss.backward()\n",
    "        return loss\n",
    "    loss = opt.step(closure)\n",
    "    if i % datarate == 0:\n",
    "        print(loss.item())\n",
    "print(loss.item())"
   ]
  },
  {
   "cell_type": "code",
   "execution_count": 100,
   "id": "68456d59",
   "metadata": {},
   "outputs": [
    {
     "data": {
      "image/png": "[encoded data removed]",
      "text/plain": [
       "<Figure size 500x200 with 12 Axes>"
      ]
     },
     "metadata": {},
     "output_type": "display_data"
    }
   ],
   "source": [
    "k1.plot()"
   ]
  },
  {
   "cell_type": "code",
   "execution_count": 101,
   "id": "9d18b164",
   "metadata": {},
   "outputs": [
    {
     "data": {
      "text/latex": [
       "$\\displaystyle 0.31 x_{3} + 0.182 x_{7} + 0.253 x_{9} + 1.38 - 1.873 e^{- 2.435 \\left(1 - 0.502 x_{5}\\right)^{2}} + 1.111 e^{- 9.0 \\left(1 - 0.425 x_{1}\\right)^{2}}$"
      ],
      "text/plain": [
       "0.31*x_3 + 0.182*x_7 + 0.253*x_9 + 1.38 - 1.873*exp(-2.435*(1 - 0.502*x_5)**2) + 1.111*exp(-9.0*(1 - 0.425*x_1)**2)"
      ]
     },
     "execution_count": 101,
     "metadata": {},
     "output_type": "execute_result"
    }
   ],
   "source": [
    "ku.ex_round(k1.symbolic_formula()[0][0], 3)"
   ]
  },
  {
   "cell_type": "code",
   "execution_count": 102,
   "id": "9279cced",
   "metadata": {},
   "outputs": [
    {
     "name": "stdout",
     "output_type": "stream",
     "text": [
      "tensor(0., grad_fn=<MeanBackward0>)\n",
      "tensor(0.0902, grad_fn=<MeanBackward0>)\n",
      "tensor(0.1587)\n"
     ]
    }
   ],
   "source": [
    "pred = torch.cos(ft_input @ msr_vec + torch.pi / 2 + k1(ft_input))\n",
    "pred_manual = torch.cos(ft_input @ msr_vec + torch.pi / 2 + ft_input @ torch.tensor([0, 0, 0.31, 0, 0.368, 0, 0.182, 0, 0.253, 0]).reshape(-1, 1) + 0.17)\n",
    "loss = torch.mean((torch.sgn(pred) - torch.tensor(signs[phase].reshape(-1, 1))) ** 2)\n",
    "print(loss) # makes no mistakes\n",
    "print(torch.mean((pred - pred_manual) ** 2))\n",
    "loss_manual = torch.mean((torch.sgn(pred_manual) - torch.tensor(signs[phase].reshape(-1, 1))) ** 2)\n",
    "print(loss_manual)"
   ]
  },
  {
   "cell_type": "code",
   "execution_count": 110,
   "id": "2e524ffc",
   "metadata": {},
   "outputs": [],
   "source": [
    "def train(model, epochs, datarate, phase_num, lr=1, reg_metric='edge_forward_spline_n', lamb_l1=1., lamb_entropy=2., lamb_coef=0., lamb_coefdiff=0.):\n",
    "    opt = torch.optim.LBFGS(model.parameters(), lr = lr)\n",
    "    for i in range(epochs):\n",
    "        def closure():\n",
    "            opt.zero_grad()\n",
    "            pred = torch.cos(ft_input @ msr_vec + torch.pi / 2 + model(ft_input))\n",
    "            loss = torch.mean((pred - torch.tensor(signs[phase_num].reshape(-1, 1))) ** 2) + lamb * model.get_reg(reg_metric, lamb_l1, lamb_entropy, lamb_coef, lamb_coefdiff)\n",
    "            loss.backward()\n",
    "            return loss\n",
    "        loss = opt.step(closure)\n",
    "        if i % datarate == 0:\n",
    "            print(loss.item())\n",
    "    print(loss.item())"
   ]
  },
  {
   "cell_type": "code",
   "execution_count": 112,
   "id": "f45692d6",
   "metadata": {},
   "outputs": [
    {
     "name": "stdout",
     "output_type": "stream",
     "text": [
      "checkpoint directory created: ./model\n",
      "saving model version 0.0\n",
      "r2 is 0.9985844492912292\n",
      "saving model version 0.1\n",
      "r2 is 0.9988006353378296\n",
      "saving model version 0.2\n",
      "r2 is 0.9978940486907959\n",
      "saving model version 0.3\n",
      "r2 is 0.9979860782623291\n",
      "saving model version 0.4\n",
      "r2 is 0.9994969964027405\n",
      "saving model version 0.5\n",
      "r2 is 0.9973929524421692\n",
      "saving model version 0.6\n",
      "r2 is 0.9973814487457275\n",
      "saving model version 0.7\n",
      "r2 is 0.9974532127380371\n",
      "saving model version 0.8\n",
      "r2 is 0.9999073147773743\n",
      "saving model version 0.9\n",
      "r2 is 1.0000009536743164\n",
      "saving model version 0.10\n",
      "2.425177574157715\n",
      "0.03486599400639534\n",
      "0.03462624177336693\n",
      "0.03462624549865723\n",
      "0.03462624549865723\n",
      "0.03462624549865723\n",
      "0.03462624549865723\n",
      "0.03462624549865723\n",
      "0.03462624549865723\n",
      "0.03462624549865723\n",
      "0.03462624549865723\n"
     ]
    }
   ],
   "source": [
    "k1_lin = kan.KAN(width=[10, 1], seed=2)\n",
    "k1_lin(ft_input)\n",
    "for i in range(N):\n",
    "    k1_lin.fix_symbolic(0, i, 0, 'x');\n",
    "train(k1_lin, 50, 5, 1, lr=0.1)"
   ]
  },
  {
   "cell_type": "code",
   "execution_count": 114,
   "id": "b82ddb0f",
   "metadata": {},
   "outputs": [
    {
     "data": {
      "text/latex": [
       "$\\displaystyle - 0.078 x_{1} - 0.001 x_{10} + 0.002 x_{2} + 0.183 x_{3} + 0.018 x_{4} + 0.223 x_{5} - 0.006 x_{6} + 0.277 x_{7} - 0.001 x_{8} + 0.159 x_{9} + 0.762$"
      ],
      "text/plain": [
       "-0.078*x_1 - 0.001*x_10 + 0.002*x_2 + 0.183*x_3 + 0.018*x_4 + 0.223*x_5 - 0.006*x_6 + 0.277*x_7 - 0.e-3*x_8 + 0.159*x_9 + 0.762"
      ]
     },
     "execution_count": 114,
     "metadata": {},
     "output_type": "execute_result"
    }
   ],
   "source": [
    "ku.ex_round(k1_lin.symbolic_formula()[0][0], 3)"
   ]
  },
  {
   "cell_type": "code",
   "execution_count": 117,
   "id": "f049ef11",
   "metadata": {},
   "outputs": [
    {
     "name": "stdout",
     "output_type": "stream",
     "text": [
      "checkpoint directory created: ./model\n",
      "saving model version 0.0\n",
      "r2 is 0.9985844492912292\n",
      "saving model version 0.1\n",
      "r2 is 0.9988006353378296\n",
      "saving model version 0.2\n",
      "r2 is 0.9978940486907959\n",
      "saving model version 0.3\n",
      "r2 is 0.9979860782623291\n",
      "saving model version 0.4\n",
      "r2 is 0.9994969964027405\n",
      "saving model version 0.5\n",
      "r2 is 0.9973929524421692\n",
      "saving model version 0.6\n",
      "r2 is 0.9973814487457275\n",
      "saving model version 0.7\n",
      "r2 is 0.9974532127380371\n",
      "saving model version 0.8\n",
      "r2 is 0.9999073147773743\n",
      "saving model version 0.9\n",
      "r2 is 1.0000009536743164\n",
      "saving model version 0.10\n",
      "2.2003889083862305\n",
      "0.05638532713055611\n",
      "0.05557708814740181\n",
      "0.05557708442211151\n",
      "0.05557708442211151\n",
      "0.05557708442211151\n",
      "0.05557708442211151\n",
      "0.05557708442211151\n",
      "0.05557708442211151\n",
      "0.05557708442211151\n",
      "0.05557708442211151\n"
     ]
    }
   ],
   "source": [
    "k2_lin = kan.KAN(width=[10, 1], seed=2)\n",
    "k2_lin(ft_input)\n",
    "for i in range(N):\n",
    "    k2_lin.fix_symbolic(0, i, 0, 'x');\n",
    "train(k2_lin, 50, 5, 2, lr=0.1)"
   ]
  },
  {
   "cell_type": "code",
   "execution_count": 118,
   "id": "98626bb5",
   "metadata": {},
   "outputs": [
    {
     "data": {
      "text/latex": [
       "$\\displaystyle - 0.161 x_{1} + 0.266 x_{3} - 0.01 x_{4} + 0.469 x_{5} + 0.005 x_{6} + 0.174 x_{7} - 0.012 x_{8} + 0.253 x_{9} - 0.234$"
      ],
      "text/plain": [
       "-0.161*x_1 + 0.266*x_3 - 0.01*x_4 + 0.469*x_5 + 0.005*x_6 + 0.174*x_7 - 0.012*x_8 + 0.253*x_9 - 0.234"
      ]
     },
     "execution_count": 118,
     "metadata": {},
     "output_type": "execute_result"
    }
   ],
   "source": [
    "ku.ex_round(k2_lin.symbolic_formula()[0][0], 3)"
   ]
  },
  {
   "cell_type": "code",
   "execution_count": 122,
   "id": "bc0eb0ac",
   "metadata": {},
   "outputs": [
    {
     "name": "stdout",
     "output_type": "stream",
     "text": [
      "checkpoint directory created: ./model\n",
      "saving model version 0.0\n",
      "r2 is 0.9937489628791809\n",
      "saving model version 0.1\n",
      "r2 is 0.9982610940933228\n",
      "saving model version 0.2\n",
      "r2 is 0.9977597594261169\n",
      "saving model version 0.3\n",
      "r2 is 0.9989418983459473\n",
      "saving model version 0.4\n",
      "r2 is 0.9994174242019653\n",
      "saving model version 0.5\n",
      "r2 is 0.9989916086196899\n",
      "saving model version 0.6\n",
      "r2 is 0.9955157041549683\n",
      "saving model version 0.7\n",
      "r2 is 0.9992152452468872\n",
      "saving model version 0.8\n",
      "r2 is 0.9998950958251953\n",
      "saving model version 0.9\n",
      "r2 is 1.0000008344650269\n",
      "saving model version 0.10\n",
      "1.270880103111267\n",
      "0.1660107970237732\n",
      "0.12406478077173233\n",
      "0.12406466901302338\n",
      "0.12406466901302338\n",
      "0.12406466901302338\n",
      "0.12406466901302338\n",
      "0.12406466901302338\n",
      "0.12406466901302338\n",
      "0.12406466901302338\n",
      "0.12406466901302338\n"
     ]
    }
   ],
   "source": [
    "k3_lin = kan.KAN(width=[10, 1], seed=0)\n",
    "k3_lin(ft_input)\n",
    "for i in range(N):\n",
    "    k3_lin.fix_symbolic(0, i, 0, 'x');\n",
    "train(k3_lin, 50, 5, 3, lr=0.1)"
   ]
  },
  {
   "cell_type": "code",
   "execution_count": 123,
   "id": "141d84b7",
   "metadata": {},
   "outputs": [
    {
     "data": {
      "text/latex": [
       "$\\displaystyle 0.706 x_{1} - 0.009 x_{2} + 0.091 x_{3} - 0.001 x_{4} - 0.108 x_{5} - 0.013 x_{6} - 0.069 x_{7} + 0.003 x_{8} - 0.146 x_{9} - 3.58$"
      ],
      "text/plain": [
       "0.706*x_1 - 0.009*x_2 + 0.091*x_3 - 0.001*x_4 - 0.108*x_5 - 0.013*x_6 - 0.069*x_7 + 0.003*x_8 - 0.146*x_9 - 3.58"
      ]
     },
     "execution_count": 123,
     "metadata": {},
     "output_type": "execute_result"
    }
   ],
   "source": [
    "ku.ex_round(k3_lin.symbolic_formula()[0][0], 3)"
   ]
  },
  {
   "cell_type": "code",
   "execution_count": 127,
   "id": "65f17912",
   "metadata": {},
   "outputs": [
    {
     "name": "stdout",
     "output_type": "stream",
     "text": [
      "checkpoint directory created: ./model\n",
      "saving model version 0.0\n",
      "r2 is 0.9985844492912292\n",
      "saving model version 0.1\n",
      "r2 is 0.9988006353378296\n",
      "saving model version 0.2\n",
      "r2 is 0.9978940486907959\n",
      "saving model version 0.3\n",
      "r2 is 0.9979860782623291\n",
      "saving model version 0.4\n",
      "r2 is 0.9994969964027405\n",
      "saving model version 0.5\n",
      "r2 is 0.9973929524421692\n",
      "saving model version 0.6\n",
      "r2 is 0.9973814487457275\n",
      "saving model version 0.7\n",
      "r2 is 0.9974532127380371\n",
      "saving model version 0.8\n",
      "r2 is 0.9999073147773743\n",
      "saving model version 0.9\n",
      "r2 is 1.0000009536743164\n",
      "saving model version 0.10\n",
      "1.9024263620376587\n",
      "0.17230769991874695\n",
      "0.17229129374027252\n",
      "0.17229129374027252\n",
      "0.17229129374027252\n",
      "0.17229129374027252\n",
      "0.17229129374027252\n",
      "0.17229129374027252\n",
      "0.17229129374027252\n",
      "0.17229129374027252\n",
      "0.17229129374027252\n"
     ]
    },
    {
     "data": {
      "text/latex": [
       "$\\displaystyle - 0.221 x_{1} - 0.001 x_{10} + 0.002 x_{2} + 1.257 x_{3} + 0.015 x_{4} + 0.78 x_{5} + 0.002 x_{6} + 1.344 x_{7} + 0.013 x_{8} + 0.612 x_{9} - 3.548$"
      ],
      "text/plain": [
       "-0.221*x_1 - 0.001*x_10 + 0.002*x_2 + 1.257*x_3 + 0.015*x_4 + 0.78*x_5 + 0.002*x_6 + 1.344*x_7 + 0.013*x_8 + 0.612*x_9 - 3.548"
      ]
     },
     "execution_count": 127,
     "metadata": {},
     "output_type": "execute_result"
    }
   ],
   "source": [
    "k4_lin = kan.KAN(width=[10, 1], seed=2)\n",
    "k4_lin(ft_input)\n",
    "for i in range(N):\n",
    "    k4_lin.fix_symbolic(0, i, 0, 'x');\n",
    "train(k4_lin, 50, 5, 4, lr=0.2)\n",
    "ku.ex_round(k4_lin.symbolic_formula()[0][0], 3)"
   ]
  },
  {
   "cell_type": "code",
   "execution_count": 137,
   "id": "9058cf52",
   "metadata": {},
   "outputs": [
    {
     "data": {
      "text/plain": [
       "numpy.ndarray"
      ]
     },
     "execution_count": 137,
     "metadata": {},
     "output_type": "execute_result"
    }
   ],
   "source": [
    "type(signs[0])"
   ]
  },
  {
   "cell_type": "code",
   "execution_count": 139,
   "id": "15aae7ca",
   "metadata": {},
   "outputs": [
    {
     "name": "stdout",
     "output_type": "stream",
     "text": [
      "torch.Size([1260, 11]) torch.Size([1260, 1])\n"
     ]
    }
   ],
   "source": [
    "ft_input.shape\n",
    "ft_j2 = torch.vstack(tuple(torch.hstack((ft_input, torch.tensor([J2] * 252).reshape(-1, 1))) for J2 in J2s))\n",
    "labels_j2 = torch.vstack(tuple(torch.tensor(signs[i]).reshape(-1, 1) for i in range(len(signs))))\n",
    "print(ft_j2.shape, labels_j2.shape)"
   ]
  },
  {
   "cell_type": "code",
   "execution_count": 140,
   "id": "bd51347f",
   "metadata": {},
   "outputs": [
    {
     "data": {
      "text/plain": [
       "tensor([[6.4721, 1.8850, 0.0000,  ..., 1.5708, 2.0000, 3.1416],\n",
       "        [5.2361, 1.8850, 2.3511,  ..., 2.8274, 2.0000, 0.0000],\n",
       "        [4.2979, 1.7151, 3.8042,  ..., 4.0841, 2.0000, 3.1416],\n",
       "        ...,\n",
       "        [4.2979, 4.8567, 3.8042,  ..., 0.9425, 2.0000, 0.0000],\n",
       "        [5.2361, 5.0265, 2.3511,  ..., 5.9690, 2.0000, 3.1416],\n",
       "        [6.4721, 5.0265, 0.0000,  ..., 4.7124, 2.0000, 0.0000]])"
      ]
     },
     "execution_count": 140,
     "metadata": {},
     "output_type": "execute_result"
    }
   ],
   "source": [
    "ft_j2[:, 0:10]"
   ]
  },
  {
   "cell_type": "code",
   "execution_count": null,
   "id": "66bb6e3a",
   "metadata": {},
   "outputs": [],
   "source": [
    "def train_all(model, epochs, datarate, lamb=1e-2, lr=1, reg_metric='edge_forward_spline_n', lamb_l1=1., lamb_entropy=2., lamb_coef=0., lamb_coefdiff=0.):\n",
    "    opt = torch.optim.LBFGS(model.parameters(), lr = lr)\n",
    "    for i in range(epochs):\n",
    "        def closure():\n",
    "            opt.zero_grad()\n",
    "            pred = torch.cos(ft_j2[:, 0:N] @ msr_vec + torch.pi / 2 + ft_j2[:, -1] * model(ft_j2[:, 0:N]))\n",
    "            loss = torch.mean((pred - labels_j2) ** 2) + lamb * model.get_reg(reg_metric, lamb_l1, lamb_entropy, lamb_coef, lamb_coefdiff)\n",
    "            loss.backward()\n",
    "            return loss\n",
    "        loss = opt.step(closure)\n",
    "        if i % datarate == 0:\n",
    "            print(loss.item())\n",
    "    print(loss.item())"
   ]
  },
  {
   "cell_type": "code",
   "execution_count": 154,
   "id": "7b65e4b2",
   "metadata": {},
   "outputs": [
    {
     "name": "stdout",
     "output_type": "stream",
     "text": [
      "checkpoint directory created: ./model\n",
      "saving model version 0.0\n",
      "r2 is 0.9994818568229675\n",
      "saving model version 0.1\n",
      "r2 is 0.9967817664146423\n",
      "saving model version 0.2\n",
      "r2 is 0.9975941181182861\n",
      "saving model version 0.3\n",
      "r2 is 0.924655556678772\n",
      "saving model version 0.4\n",
      "r2 is 0.9993412494659424\n",
      "saving model version 0.5\n",
      "r2 is 0.9979274272918701\n",
      "saving model version 0.6\n",
      "r2 is 0.9973252415657043\n",
      "saving model version 0.7\n",
      "r2 is 0.9971182942390442\n",
      "saving model version 0.8\n",
      "r2 is 0.9998698830604553\n",
      "saving model version 0.9\n",
      "r2 is 1.0000011920928955\n",
      "saving model version 0.10\n",
      "3.3345754146575928\n",
      "1.589220643043518\n",
      "1.58907151222229\n",
      "1.5890703201293945\n",
      "1.5890709161758423\n",
      "1.5890709161758423\n",
      "1.5890709161758423\n",
      "1.5890709161758423\n",
      "1.5890709161758423\n",
      "1.5890709161758423\n",
      "1.5890709161758423\n"
     ]
    }
   ],
   "source": [
    "k_all = kan.KAN(width=[N, 1], seed=1)\n",
    "k_all(ft_j2)\n",
    "for i in range(N):\n",
    "    k_all.fix_symbolic(0, i, 0, 'x');\n",
    "train_all(k_all, 50, 5, lr=0.1);"
   ]
  },
  {
   "cell_type": "code",
   "execution_count": 155,
   "id": "8b38fb42",
   "metadata": {},
   "outputs": [
    {
     "data": {
      "text/plain": [
       "tensor([[222.4574],\n",
       "        [295.1902],\n",
       "        [278.5765],\n",
       "        ...,\n",
       "        [327.0168],\n",
       "        [294.2804],\n",
       "        [278.2500]], grad_fn=<AddBackward0>)"
      ]
     },
     "execution_count": 155,
     "metadata": {},
     "output_type": "execute_result"
    }
   ],
   "source": [
    "k_all(ft_j2)"
   ]
  },
  {
   "cell_type": "code",
   "execution_count": null,
   "id": "955f5a17",
   "metadata": {},
   "outputs": [],
   "source": []
  }
 ],
 "metadata": {
  "kernelspec": {
   "display_name": "kans",
   "language": "python",
   "name": "python3"
  },
  "language_info": {
   "codemirror_mode": {
    "name": "ipython",
    "version": 3
   },
   "file_extension": ".py",
   "mimetype": "text/x-python",
   "name": "python",
   "nbconvert_exporter": "python",
   "pygments_lexer": "ipython3",
   "version": "3.12.5"
  }
 },
 "nbformat": 4,
 "nbformat_minor": 5
}
