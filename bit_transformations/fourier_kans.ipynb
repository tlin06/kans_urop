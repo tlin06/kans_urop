{
 "cells": [
  {
   "cell_type": "code",
   "execution_count": 40,
   "id": "d12b6a37",
   "metadata": {},
   "outputs": [],
   "source": [
    "import kan\n",
    "import kan.utils as ku\n",
    "import numpy as np\n",
    "import torch.nn as nn\n",
    "import torch\n",
    "import qutip as qt\n",
    "import matplotlib.pyplot as plt\n",
    "import itertools\n",
    "from libraries import utils\n",
    "from libraries import magnetization\n",
    "from libraries import j1j2_functions"
   ]
  },
  {
   "cell_type": "code",
   "execution_count": 41,
   "id": "0528d5af",
   "metadata": {},
   "outputs": [
    {
     "name": "stdout",
     "output_type": "stream",
     "text": [
      "0.495\n",
      "1365\n",
      "torch.Size([924, 12])\n"
     ]
    },
    {
     "name": "stderr",
     "output_type": "stream",
     "text": [
      "C:\\Users\\taoha\\AppData\\Local\\Temp\\ipykernel_16688\\1270331291.py:21: DeprecationWarning: __array__ implementation doesn't accept a copy keyword, so passing copy=False failed. __array__ must implement 'dtype' and 'copy' keyword arguments.\n",
      "  x = (-1) ** np.array(x)\n"
     ]
    }
   ],
   "source": [
    "N=12; J1=1\n",
    "J2s = np.linspace(0, 0.5 - 0.5/100, 100)\n",
    "print(J2s[-1])\n",
    "gss = [qt.qload(f'../J1J2_info/N{N}/n{N}gs_J2_{round(J2, 3)}') for J2 in J2s]\n",
    "states = utils.get_nonzero_states(N, gss[0], 1e-10)[0]\n",
    "signs = [utils.get_nonzero_states(N, gs, 1e-10)[1] for gs in gss]\n",
    "\n",
    "nd = 0b010101010101 # this never deviates, let this be of negative sign cos(pi/4 * amplitude)\n",
    "# nd = 0b01010101\n",
    "index = states.index(nd)\n",
    "print(nd)\n",
    "for i in range(len(signs)):\n",
    "    if signs[i][index] > 0:\n",
    "        signs[i] = -1 * np.array(signs[i])\n",
    "    else:\n",
    "        signs[i] = np.array(signs[i])\n",
    "\n",
    "devs = [(signs[0] != signs[i]).astype(float) for i in range(len(signs))]\n",
    "\n",
    "def rfft(x):\n",
    "    x = (-1) ** np.array(x)\n",
    "    return np.fft.rfft(x)[1:]\n",
    "\n",
    "input = utils.generate_input_samples(N, states)\n",
    "print(input.shape)\n",
    "ft_input = []\n",
    "for x in input:\n",
    "    amp_phase = []\n",
    "    ft = rfft(x)\n",
    "    for c in ft:\n",
    "        amp_phase.append(np.abs(c))\n",
    "        amp_phase.append(np.angle(c) % (2 * np.pi))\n",
    "    ft_input.append(amp_phase)\n",
    "ft_input = torch.tensor(ft_input)"
   ]
  },
  {
   "cell_type": "code",
   "execution_count": 16,
   "id": "60619312",
   "metadata": {},
   "outputs": [
    {
     "name": "stdout",
     "output_type": "stream",
     "text": [
      "torch.Size([92400, 6]) torch.Size([92400, 1]) torch.Size([92400, 1])\n",
      "torch.float32 torch.float32 torch.float32\n"
     ]
    }
   ],
   "source": [
    "amp_input = ft_input[:, ::2]\n",
    "#cub_amp = torch.hstack((amp_input, amp_input ** 2, amp_input ** 3))\n",
    "\n",
    "# cub_amp_j2 = torch.vstack((cub_amp,) * len(J2s))\n",
    "amp_j2 = torch.vstack((amp_input,) * len(J2s))\n",
    "j2_data = torch.vstack(tuple(torch.tensor([j2] * amp_input.shape[0], dtype=torch.float32).reshape(-1, 1) for j2 in J2s))\n",
    "j2_devs = torch.vstack(tuple(torch.tensor(devs[i], dtype=torch.float32).reshape(-1, 1) for i in range(len(devs))))\n",
    "j2_signs = torch.vstack(tuple(torch.tensor(signs[i], dtype=torch.float32).reshape(-1, 1) for i in range(len(signs))))\n",
    "print(amp_j2.shape, j2_data.shape, j2_signs.shape)\n",
    "print(amp_j2.dtype, j2_data.dtype, j2_signs.dtype)"
   ]
  },
  {
   "cell_type": "code",
   "execution_count": 17,
   "id": "c5d4388d",
   "metadata": {},
   "outputs": [
    {
     "name": "stdout",
     "output_type": "stream",
     "text": [
      "torch.Size([92400, 7])\n"
     ]
    }
   ],
   "source": [
    "all_data = torch.hstack((amp_j2, j2_data))\n",
    "print(all_data.shape)\n",
    "dataset = {'train_input':all_data, 'train_label':j2_signs, 'test_input':all_data, 'test_label':j2_signs}"
   ]
  },
  {
   "cell_type": "code",
   "execution_count": 21,
   "id": "9fee80de",
   "metadata": {},
   "outputs": [
    {
     "name": "stdout",
     "output_type": "stream",
     "text": [
      "checkpoint directory created: ./model\n",
      "saving model version 0.0\n"
     ]
    },
    {
     "name": "stderr",
     "output_type": "stream",
     "text": [
      "| train_loss: 3.05e-01 | test_loss: 3.05e-01 | reg: 7.14e+01 | : 100%|█| 20/20 [05:23<00:00, 16.19s/"
     ]
    },
    {
     "name": "stdout",
     "output_type": "stream",
     "text": [
      "saving model version 0.1\n"
     ]
    },
    {
     "name": "stderr",
     "output_type": "stream",
     "text": [
      "\n"
     ]
    }
   ],
   "source": [
    "kan_j2 = kan.KAN(width=[7, 7, 7, 1])\n",
    "kan_j2.fit(dataset, lamb=0, steps=20);"
   ]
  },
  {
   "cell_type": "code",
   "execution_count": 22,
   "id": "74826ea4",
   "metadata": {},
   "outputs": [
    {
     "name": "stdout",
     "output_type": "stream",
     "text": [
      "saving model version 0.2\n"
     ]
    },
    {
     "data": {
      "text/plain": [
       "[[7, 0], [7, 0], [7, 0], [1, 0]]"
      ]
     },
     "execution_count": 22,
     "metadata": {},
     "output_type": "execute_result"
    }
   ],
   "source": [
    "kan_j2.prune().width"
   ]
  },
  {
   "cell_type": "code",
   "execution_count": 26,
   "id": "ae905236",
   "metadata": {},
   "outputs": [
    {
     "data": {
      "text/plain": [
       "tensor(0.3051, grad_fn=<SqrtBackward0>)"
      ]
     },
     "execution_count": 26,
     "metadata": {},
     "output_type": "execute_result"
    }
   ],
   "source": [
    "torch.sqrt(((kan_j2(all_data) - j2_signs) ** 2).mean())"
   ]
  },
  {
   "cell_type": "code",
   "execution_count": 27,
   "id": "9266b38c",
   "metadata": {},
   "outputs": [
    {
     "data": {
      "text/plain": [
       "tensor(0.3241, grad_fn=<SqrtBackward0>)"
      ]
     },
     "execution_count": 27,
     "metadata": {},
     "output_type": "execute_result"
    }
   ],
   "source": [
    "torch.sqrt(((kan_j2(all_data).round() - j2_signs) ** 2).mean())"
   ]
  },
  {
   "cell_type": "code",
   "execution_count": 23,
   "id": "73d65c12",
   "metadata": {},
   "outputs": [
    {
     "data": {
      "text/plain": [
       "tensor([[ 0.6384],\n",
       "        [-1.0808],\n",
       "        [ 0.7464],\n",
       "        ...,\n",
       "        [ 0.6586],\n",
       "        [-1.4204],\n",
       "        [ 0.3464]], grad_fn=<AddBackward0>)"
      ]
     },
     "execution_count": 23,
     "metadata": {},
     "output_type": "execute_result"
    }
   ],
   "source": [
    "kan_j2(all_data)"
   ]
  },
  {
   "cell_type": "code",
   "execution_count": 25,
   "id": "ae16fd10",
   "metadata": {},
   "outputs": [
    {
     "data": {
      "text/plain": [
       "tensor([[ 1.],\n",
       "        [-1.],\n",
       "        [ 1.],\n",
       "        ...,\n",
       "        [ 1.],\n",
       "        [-1.],\n",
       "        [ 0.]], grad_fn=<RoundBackward0>)"
      ]
     },
     "execution_count": 25,
     "metadata": {},
     "output_type": "execute_result"
    }
   ],
   "source": [
    "kan_j2(all_data).round()"
   ]
  },
  {
   "cell_type": "code",
   "execution_count": 28,
   "id": "bd4548b4",
   "metadata": {},
   "outputs": [],
   "source": [
    "dataset_dev = {'train_input':all_data, 'train_label':j2_devs, 'test_input':all_data, 'test_label':j2_devs}"
   ]
  },
  {
   "cell_type": "code",
   "execution_count": 29,
   "id": "69563ab8",
   "metadata": {},
   "outputs": [
    {
     "name": "stdout",
     "output_type": "stream",
     "text": [
      "checkpoint directory created: ./model\n",
      "saving model version 0.0\n"
     ]
    },
    {
     "name": "stderr",
     "output_type": "stream",
     "text": [
      "| train_loss: 1.17e-01 | test_loss: 1.17e-01 | reg: 5.24e+01 | : 100%|█| 20/20 [05:19<00:00, 15.97s/"
     ]
    },
    {
     "name": "stdout",
     "output_type": "stream",
     "text": [
      "saving model version 0.1\n"
     ]
    },
    {
     "name": "stderr",
     "output_type": "stream",
     "text": [
      "\n"
     ]
    }
   ],
   "source": [
    "kan_dev = kan.KAN(width=[7, 7, 7, 1])\n",
    "kan_dev.fit(dataset_dev, lamb=0, steps=20);"
   ]
  },
  {
   "cell_type": "code",
   "execution_count": 32,
   "id": "e50e71f7",
   "metadata": {},
   "outputs": [
    {
     "data": {
      "text/plain": [
       "tensor(0.0947, grad_fn=<SqrtBackward0>)"
      ]
     },
     "execution_count": 32,
     "metadata": {},
     "output_type": "execute_result"
    }
   ],
   "source": [
    "torch.sqrt(((kan_dev(all_data).round() - j2_devs) ** 2).mean())"
   ]
  },
  {
   "cell_type": "code",
   "execution_count": 33,
   "id": "1faed18a",
   "metadata": {},
   "outputs": [
    {
     "name": "stdout",
     "output_type": "stream",
     "text": [
      "saving model version 0.2\n"
     ]
    },
    {
     "data": {
      "text/plain": [
       "[[7, 0], [7, 0], [7, 0], [1, 0]]"
      ]
     },
     "execution_count": 33,
     "metadata": {},
     "output_type": "execute_result"
    }
   ],
   "source": [
    "kan_dev.prune().width"
   ]
  },
  {
   "cell_type": "code",
   "execution_count": 35,
   "id": "bebf7fe7",
   "metadata": {},
   "outputs": [
    {
     "data": {
      "text/plain": [
       "array([-11.21110255,  -8.47213595,  -8.47213595,  -8.47213595,\n",
       "        -6.        ])"
      ]
     },
     "execution_count": 35,
     "metadata": {},
     "output_type": "execute_result"
    }
   ],
   "source": [
    "j1j2_functions.J1J2_hamiltonian(6, 1, 0).eigenstates()[0][:5]"
   ]
  },
  {
   "cell_type": "code",
   "execution_count": 36,
   "id": "61cd6a4a",
   "metadata": {},
   "outputs": [
    {
     "data": {
      "text/plain": [
       "array([-14.60437364, -12.51367626, -12.51367626, -12.51367626,\n",
       "       -10.79851259])"
      ]
     },
     "execution_count": 36,
     "metadata": {},
     "output_type": "execute_result"
    }
   ],
   "source": [
    "j1j2_functions.J1J2_hamiltonian(8, 1, 0).eigenstates()[0][:5]"
   ]
  },
  {
   "cell_type": "code",
   "execution_count": 37,
   "id": "1c14e6ab",
   "metadata": {},
   "outputs": [
    {
     "data": {
      "text/plain": [
       "array([-18.06178542, -16.36882939, -16.36882939, -16.36882939,\n",
       "       -15.08238974])"
      ]
     },
     "execution_count": 37,
     "metadata": {},
     "output_type": "execute_result"
    }
   ],
   "source": [
    "j1j2_functions.J1J2_hamiltonian(10, 1, 0).eigenstates()[0][:5]"
   ]
  },
  {
   "cell_type": "code",
   "execution_count": 39,
   "id": "c27f8f8b",
   "metadata": {},
   "outputs": [
    {
     "data": {
      "image/png": "[encoded data removed]",
      "text/plain": [
       "<Figure size 640x480 with 1 Axes>"
      ]
     },
     "metadata": {},
     "output_type": "display_data"
    }
   ],
   "source": [
    "plt.plot([6, 8, 10], [11.211-8.472, 14.604-12.514, 18.06-16.369])\n",
    "plt.show()"
   ]
  },
  {
   "cell_type": "code",
   "execution_count": null,
   "id": "1b8bb69b",
   "metadata": {},
   "outputs": [],
   "source": []
  }
 ],
 "metadata": {
  "kernelspec": {
   "display_name": "kans",
   "language": "python",
   "name": "python3"
  },
  "language_info": {
   "codemirror_mode": {
    "name": "ipython",
    "version": 3
   },
   "file_extension": ".py",
   "mimetype": "text/x-python",
   "name": "python",
   "nbconvert_exporter": "python",
   "pygments_lexer": "ipython3",
   "version": "3.9.23"
  }
 },
 "nbformat": 4,
 "nbformat_minor": 5
}
