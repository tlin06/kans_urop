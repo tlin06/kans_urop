{
 "cells": [
  {
   "cell_type": "code",
   "execution_count": 1,
   "id": "b9b80d37",
   "metadata": {},
   "outputs": [],
   "source": [
    "import kan\n",
    "import kan.utils as ku\n",
    "import numpy as np\n",
    "import torch.nn as nn\n",
    "import torch\n",
    "import qutip as qt\n",
    "from libraries import utils\n",
    "from libraries import magnetization\n",
    "from libraries import j1j2_functions"
   ]
  },
  {
   "cell_type": "code",
   "execution_count": 2,
   "id": "5c389dc6",
   "metadata": {},
   "outputs": [],
   "source": [
    "def rfft(x):\n",
    "    x = (-1) ** np.array(x)\n",
    "    return np.fft.rfft(x)[1:]"
   ]
  },
  {
   "cell_type": "code",
   "execution_count": 3,
   "id": "a8278419",
   "metadata": {},
   "outputs": [
    {
     "data": {
      "text/latex": [
       "Quantum object: dims=[[2, 2, 2, 2, 2, 2, 2, 2, 2, 2], [1, 1, 1, 1, 1, 1, 1, 1, 1, 1]], shape=(1024, 1), type='ket', dtype=Dense$$\\left(\\begin{array}{cc}0\\\\1.269\\times10^{ -48 }\\\\-2.638\\times10^{ -18 }\\\\-1.218\\times10^{ -18 }\\\\-4.822\\times10^{ -18 }\\\\\\vdots\\\\-8.196\\times10^{ -49 }\\\\5.669\\times10^{ -49 }\\\\1.204\\times10^{ -48 }\\\\-2.122\\times10^{ -48 }\\\\0\\end{array}\\right)$$"
      ],
      "text/plain": [
       "Quantum object: dims=[[2, 2, 2, 2, 2, 2, 2, 2, 2, 2], [1, 1, 1, 1, 1, 1, 1, 1, 1, 1]], shape=(1024, 1), type='ket', dtype=Dense\n",
       "Qobj data =\n",
       "[[ 0.00000000e+00]\n",
       " [ 1.26928255e-48]\n",
       " [-2.63794454e-18]\n",
       " ...\n",
       " [ 1.20393997e-48]\n",
       " [-2.12190686e-48]\n",
       " [ 0.00000000e+00]]"
      ]
     },
     "execution_count": 3,
     "metadata": {},
     "output_type": "execute_result"
    }
   ],
   "source": [
    "N=10; J1=1; J2=0\n",
    "gs10 = qt.qload('../J1J2_info/N10/n10gs_J2_0.0')\n",
    "gs10"
   ]
  },
  {
   "cell_type": "code",
   "execution_count": 4,
   "id": "ef782513",
   "metadata": {},
   "outputs": [
    {
     "name": "stdout",
     "output_type": "stream",
     "text": [
      "torch.Size([252, 10])\n",
      "torch.Size([252, 10])\n",
      "torch.Size([252, 1]) torch.Size([252, 1])\n"
     ]
    }
   ],
   "source": [
    "states, signs = utils.get_nonzero_states(N, gs10, 1e-10)\n",
    "input = utils.generate_input_samples(N, states)\n",
    "print(input.shape)\n",
    "ft_input = []\n",
    "for x in input:\n",
    "    amp_phase = []\n",
    "    ft = rfft(x)\n",
    "    for c in ft:\n",
    "        amp_phase.append(np.abs(c))\n",
    "        amp_phase.append(np.angle(c) % (2 * np.pi))\n",
    "    ft_input.append(amp_phase)\n",
    "ft_input = torch.tensor(ft_input)\n",
    "print(ft_input.shape)\n",
    "msr_label = torch.tensor([magnetization.count_half_magnetization(s) for s in states]).reshape(-1, 1)\n",
    "sign_label = torch.tensor(signs).reshape(-1, 1)\n",
    "print(msr_label.shape, sign_label.shape)\n",
    "msr_dataset = {'train_input':ft_input, 'train_label':msr_label, 'test_input':ft_input, 'test_label':msr_label}\n",
    "sign_dataset = {'train_input':ft_input, 'train_label':sign_label, 'test_input':ft_input, 'test_label':sign_label}"
   ]
  },
  {
   "cell_type": "code",
   "execution_count": 14,
   "id": "9efb181d",
   "metadata": {},
   "outputs": [],
   "source": [
    "def generate_loss(gs, states):\n",
    "    def weighted_loss(x, y):\n",
    "        return torch.sum(abs(torch.tensor(gs.full()[states, :])) ** 2 * (x - y) ** 2)\n",
    "    return weighted_loss"
   ]
  },
  {
   "cell_type": "code",
   "execution_count": 52,
   "id": "3fb0f186",
   "metadata": {},
   "outputs": [
    {
     "data": {
      "text/plain": [
       "array([[ 0.0004815 +0.j],\n",
       "       [-0.00289646-0.j],\n",
       "       [ 0.0063674 +0.j],\n",
       "       [-0.0063674 -0.j],\n",
       "       [ 0.00289646+0.j],\n",
       "       [-0.0004815 -0.j],\n",
       "       [ 0.0063674 +0.j],\n",
       "       [-0.02425722-0.j],\n",
       "       [ 0.03034962+0.j],\n",
       "       [-0.01583777-0.j],\n",
       "       [ 0.00289646+0.j],\n",
       "       [ 0.01788982+0.j],\n",
       "       [-0.04534298-0.j],\n",
       "       [ 0.03034962+0.j],\n",
       "       [-0.0063674 -0.j],\n",
       "       [ 0.01788982+0.j],\n",
       "       [-0.02425722-0.j],\n",
       "       [ 0.0063674 +0.j],\n",
       "       [ 0.0063674 +0.j],\n",
       "       [-0.00289646-0.j],\n",
       "       [ 0.0004815 +0.j],\n",
       "       [-0.0063674 -0.j],\n",
       "       [ 0.03034962+0.j],\n",
       "       [-0.04844595-0.j],\n",
       "       [ 0.03034962+0.j],\n",
       "       [-0.0063674 -0.j],\n",
       "       [-0.04534298-0.j],\n",
       "       [ 0.13383286+0.j],\n",
       "       [-0.10348324-0.j],\n",
       "       [ 0.02425722+0.j],\n",
       "       [-0.06450766-0.j],\n",
       "       [ 0.10348324+0.j],\n",
       "       [-0.03034962-0.j],\n",
       "       [-0.03034962-0.j],\n",
       "       [ 0.01583777+0.j],\n",
       "       [-0.00289646-0.j],\n",
       "       [ 0.01788982+0.j],\n",
       "       [-0.06450766-0.j],\n",
       "       [ 0.06450766+0.j],\n",
       "       [-0.01788982-0.j],\n",
       "       [ 0.06450766+0.j],\n",
       "       [-0.13383286-0.j],\n",
       "       [ 0.04534298+0.j],\n",
       "       [ 0.04844595+0.j],\n",
       "       [-0.03034962-0.j],\n",
       "       [ 0.0063674 +0.j],\n",
       "       [-0.01788982-0.j],\n",
       "       [ 0.04534298+0.j],\n",
       "       [-0.01788982-0.j],\n",
       "       [-0.03034962-0.j],\n",
       "       [ 0.02425722+0.j],\n",
       "       [-0.0063674 -0.j],\n",
       "       [ 0.0063674 +0.j],\n",
       "       [-0.0063674 -0.j],\n",
       "       [ 0.00289646+0.j],\n",
       "       [-0.0004815 -0.j],\n",
       "       [ 0.00289646+0.j],\n",
       "       [-0.01583777-0.j],\n",
       "       [ 0.03034962+0.j],\n",
       "       [-0.02425722-0.j],\n",
       "       [ 0.0063674 +0.j],\n",
       "       [ 0.03034962+0.j],\n",
       "       [-0.10348324-0.j],\n",
       "       [ 0.10348324+0.j],\n",
       "       [-0.03034962-0.j],\n",
       "       [ 0.06450766+0.j],\n",
       "       [-0.13383286-0.j],\n",
       "       [ 0.04844595+0.j],\n",
       "       [ 0.04534298+0.j],\n",
       "       [-0.03034962-0.j],\n",
       "       [ 0.0063674 +0.j],\n",
       "       [-0.02425722-0.j],\n",
       "       [ 0.10348324+0.j],\n",
       "       [-0.13383286-0.j],\n",
       "       [ 0.04534298+0.j],\n",
       "       [-0.13383286-0.j],\n",
       "       [ 0.33201791+0.j],\n",
       "       [-0.13383286-0.j],\n",
       "       [-0.13383286-0.j],\n",
       "       [ 0.10348324+0.j],\n",
       "       [-0.02425722-0.j],\n",
       "       [ 0.04534298+0.j],\n",
       "       [-0.13383286-0.j],\n",
       "       [ 0.06450766+0.j],\n",
       "       [ 0.10348324+0.j],\n",
       "       [-0.10348324-0.j],\n",
       "       [ 0.03034962+0.j],\n",
       "       [-0.02425722-0.j],\n",
       "       [ 0.03034962+0.j],\n",
       "       [-0.01583777-0.j],\n",
       "       [ 0.00289646+0.j],\n",
       "       [ 0.0063674 +0.j],\n",
       "       [-0.03034962-0.j],\n",
       "       [ 0.04534298+0.j],\n",
       "       [-0.01788982-0.j],\n",
       "       [ 0.04844595+0.j],\n",
       "       [-0.13383286-0.j],\n",
       "       [ 0.06450766+0.j],\n",
       "       [ 0.06450766+0.j],\n",
       "       [-0.06450766-0.j],\n",
       "       [ 0.01788982+0.j],\n",
       "       [-0.03034962-0.j],\n",
       "       [ 0.10348324+0.j],\n",
       "       [-0.06450766-0.j],\n",
       "       [-0.10348324-0.j],\n",
       "       [ 0.13383286+0.j],\n",
       "       [-0.04534298-0.j],\n",
       "       [ 0.03034962+0.j],\n",
       "       [-0.04844595-0.j],\n",
       "       [ 0.03034962+0.j],\n",
       "       [-0.0063674 -0.j],\n",
       "       [ 0.0063674 +0.j],\n",
       "       [-0.02425722-0.j],\n",
       "       [ 0.01788982+0.j],\n",
       "       [ 0.03034962+0.j],\n",
       "       [-0.04534298-0.j],\n",
       "       [ 0.01788982+0.j],\n",
       "       [-0.01583777-0.j],\n",
       "       [ 0.03034962+0.j],\n",
       "       [-0.02425722-0.j],\n",
       "       [ 0.0063674 +0.j],\n",
       "       [ 0.00289646+0.j],\n",
       "       [-0.0063674 -0.j],\n",
       "       [ 0.0063674 +0.j],\n",
       "       [-0.00289646-0.j],\n",
       "       [ 0.0004815 +0.j],\n",
       "       [-0.0004815 -0.j],\n",
       "       [ 0.00289646+0.j],\n",
       "       [-0.0063674 -0.j],\n",
       "       [ 0.0063674 +0.j],\n",
       "       [-0.00289646-0.j],\n",
       "       [-0.0063674 -0.j],\n",
       "       [ 0.02425722+0.j],\n",
       "       [-0.03034962-0.j],\n",
       "       [ 0.01583777+0.j],\n",
       "       [-0.01788982-0.j],\n",
       "       [ 0.04534298+0.j],\n",
       "       [-0.03034962-0.j],\n",
       "       [-0.01788982-0.j],\n",
       "       [ 0.02425722+0.j],\n",
       "       [-0.0063674 -0.j],\n",
       "       [ 0.0063674 +0.j],\n",
       "       [-0.03034962-0.j],\n",
       "       [ 0.04844595+0.j],\n",
       "       [-0.03034962-0.j],\n",
       "       [ 0.04534298+0.j],\n",
       "       [-0.13383286-0.j],\n",
       "       [ 0.10348324+0.j],\n",
       "       [ 0.06450766+0.j],\n",
       "       [-0.10348324-0.j],\n",
       "       [ 0.03034962+0.j],\n",
       "       [-0.01788982-0.j],\n",
       "       [ 0.06450766+0.j],\n",
       "       [-0.06450766-0.j],\n",
       "       [-0.06450766-0.j],\n",
       "       [ 0.13383286+0.j],\n",
       "       [-0.04844595-0.j],\n",
       "       [ 0.01788982+0.j],\n",
       "       [-0.04534298-0.j],\n",
       "       [ 0.03034962+0.j],\n",
       "       [-0.0063674 -0.j],\n",
       "       [-0.00289646-0.j],\n",
       "       [ 0.01583777+0.j],\n",
       "       [-0.03034962-0.j],\n",
       "       [ 0.02425722+0.j],\n",
       "       [-0.03034962-0.j],\n",
       "       [ 0.10348324+0.j],\n",
       "       [-0.10348324-0.j],\n",
       "       [-0.06450766-0.j],\n",
       "       [ 0.13383286+0.j],\n",
       "       [-0.04534298-0.j],\n",
       "       [ 0.02425722+0.j],\n",
       "       [-0.10348324-0.j],\n",
       "       [ 0.13383286+0.j],\n",
       "       [ 0.13383286+0.j],\n",
       "       [-0.33201791-0.j],\n",
       "       [ 0.13383286+0.j],\n",
       "       [-0.04534298-0.j],\n",
       "       [ 0.13383286+0.j],\n",
       "       [-0.10348324-0.j],\n",
       "       [ 0.02425722+0.j],\n",
       "       [-0.0063674 -0.j],\n",
       "       [ 0.03034962+0.j],\n",
       "       [-0.04534298-0.j],\n",
       "       [-0.04844595-0.j],\n",
       "       [ 0.13383286+0.j],\n",
       "       [-0.06450766-0.j],\n",
       "       [ 0.03034962+0.j],\n",
       "       [-0.10348324-0.j],\n",
       "       [ 0.10348324+0.j],\n",
       "       [-0.03034962-0.j],\n",
       "       [-0.0063674 -0.j],\n",
       "       [ 0.02425722+0.j],\n",
       "       [-0.03034962-0.j],\n",
       "       [ 0.01583777+0.j],\n",
       "       [-0.00289646-0.j],\n",
       "       [ 0.0004815 +0.j],\n",
       "       [-0.00289646-0.j],\n",
       "       [ 0.0063674 +0.j],\n",
       "       [-0.0063674 -0.j],\n",
       "       [ 0.0063674 +0.j],\n",
       "       [-0.02425722-0.j],\n",
       "       [ 0.03034962+0.j],\n",
       "       [ 0.01788982+0.j],\n",
       "       [-0.04534298-0.j],\n",
       "       [ 0.01788982+0.j],\n",
       "       [-0.0063674 -0.j],\n",
       "       [ 0.03034962+0.j],\n",
       "       [-0.04844595-0.j],\n",
       "       [-0.04534298-0.j],\n",
       "       [ 0.13383286+0.j],\n",
       "       [-0.06450766-0.j],\n",
       "       [ 0.01788982+0.j],\n",
       "       [-0.06450766-0.j],\n",
       "       [ 0.06450766+0.j],\n",
       "       [-0.01788982-0.j],\n",
       "       [ 0.00289646+0.j],\n",
       "       [-0.01583777-0.j],\n",
       "       [ 0.03034962+0.j],\n",
       "       [ 0.03034962+0.j],\n",
       "       [-0.10348324-0.j],\n",
       "       [ 0.06450766+0.j],\n",
       "       [-0.02425722-0.j],\n",
       "       [ 0.10348324+0.j],\n",
       "       [-0.13383286-0.j],\n",
       "       [ 0.04534298+0.j],\n",
       "       [ 0.0063674 +0.j],\n",
       "       [-0.03034962-0.j],\n",
       "       [ 0.04844595+0.j],\n",
       "       [-0.03034962-0.j],\n",
       "       [ 0.0063674 +0.j],\n",
       "       [-0.0004815 -0.j],\n",
       "       [ 0.00289646+0.j],\n",
       "       [-0.0063674 -0.j],\n",
       "       [-0.0063674 -0.j],\n",
       "       [ 0.02425722+0.j],\n",
       "       [-0.01788982-0.j],\n",
       "       [ 0.0063674 +0.j],\n",
       "       [-0.03034962-0.j],\n",
       "       [ 0.04534298+0.j],\n",
       "       [-0.01788982-0.j],\n",
       "       [-0.00289646-0.j],\n",
       "       [ 0.01583777+0.j],\n",
       "       [-0.03034962-0.j],\n",
       "       [ 0.02425722+0.j],\n",
       "       [-0.0063674 -0.j],\n",
       "       [ 0.0004815 +0.j],\n",
       "       [-0.00289646-0.j],\n",
       "       [ 0.0063674 +0.j],\n",
       "       [-0.0063674 -0.j],\n",
       "       [ 0.00289646+0.j],\n",
       "       [-0.0004815 -0.j]])"
      ]
     },
     "execution_count": 52,
     "metadata": {},
     "output_type": "execute_result"
    }
   ],
   "source": [
    "gs10.full()[states, :]"
   ]
  },
  {
   "cell_type": "code",
   "execution_count": 16,
   "id": "cee3c322",
   "metadata": {},
   "outputs": [
    {
     "name": "stdout",
     "output_type": "stream",
     "text": [
      "checkpoint directory created: ./model\n",
      "saving model version 0.0\n"
     ]
    },
    {
     "name": "stderr",
     "output_type": "stream",
     "text": [
      "description:   0%|                                                           | 0/50 [00:00<?, ?it/s]"
     ]
    },
    {
     "name": "stderr",
     "output_type": "stream",
     "text": [
      "| train_loss: 4.71e-03 | test_loss: 3.79e-03 | reg: 6.11e+00 | : 100%|█| 50/50 [00:06<00:00,  7.74it"
     ]
    },
    {
     "name": "stdout",
     "output_type": "stream",
     "text": [
      "saving model version 0.1\n"
     ]
    },
    {
     "name": "stderr",
     "output_type": "stream",
     "text": [
      "\n"
     ]
    }
   ],
   "source": [
    "kan10 = kan.KAN(width=[10, 1, 1])\n",
    "kan10.fit(sign_dataset, steps=50, lamb=1e-3, loss_fn = generate_loss(gs10, states));"
   ]
  },
  {
   "cell_type": "code",
   "execution_count": 17,
   "id": "ea455d7b",
   "metadata": {},
   "outputs": [
    {
     "data": {
      "image/png": "[encoded data removed]",
      "text/plain": [
       "<Figure size 500x400 with 14 Axes>"
      ]
     },
     "metadata": {},
     "output_type": "display_data"
    }
   ],
   "source": [
    "kan10.plot()"
   ]
  },
  {
   "cell_type": "code",
   "execution_count": 18,
   "id": "6af1b5f4",
   "metadata": {},
   "outputs": [
    {
     "name": "stdout",
     "output_type": "stream",
     "text": [
      "r2 is 0.9999781847000122\n",
      "saving model version 0.2\n",
      "r2 is 1.0000008344650269\n",
      "saving model version 0.3\n",
      "r2 is 0.9999974966049194\n",
      "saving model version 0.4\n"
     ]
    },
    {
     "name": "stderr",
     "output_type": "stream",
     "text": [
      "| train_loss: 5.43e-05 | test_loss: 5.43e-05 | reg: 7.23e-02 | : 100%|█| 20/20 [00:01<00:00, 13.15it"
     ]
    },
    {
     "name": "stdout",
     "output_type": "stream",
     "text": [
      "saving model version 0.5\n"
     ]
    },
    {
     "name": "stderr",
     "output_type": "stream",
     "text": [
      "\n"
     ]
    }
   ],
   "source": [
    "kan10.fix_symbolic(0, 8, 0, 'x');\n",
    "kan10.fix_symbolic(0, 9, 0, 'x');\n",
    "kan10.fix_symbolic(1, 0, 0, 'cos');\n",
    "kan10.fit(sign_dataset, steps=20);"
   ]
  },
  {
   "cell_type": "code",
   "execution_count": 19,
   "id": "741da623",
   "metadata": {},
   "outputs": [
    {
     "name": "stderr",
     "output_type": "stream",
     "text": [
      "c:\\Users\\taoha\\anaconda3\\envs\\kans\\lib\\site-packages\\sympy\\core\\sympify.py:475: UserWarning: Converting a tensor with requires_grad=True to a scalar may lead to unexpected behavior.\n",
      "Consider using tensor.detach() first. (Triggered internally at C:\\actions-runner\\_work\\pytorch\\pytorch\\pytorch\\torch\\csrc\\autograd\\generated\\python_variable_methods.cpp:836.)\n",
      "  return sympify(float(a))\n"
     ]
    },
    {
     "data": {
      "text/latex": [
       "$\\displaystyle - 1.002 \\cos{\\left(0.958 x_{10} + 0.783 x_{9} + 4.806 \\right)}$"
      ],
      "text/plain": [
       "-1.002*cos(0.958*x_10 + 0.783*x_9 + 4.806)"
      ]
     },
     "execution_count": 19,
     "metadata": {},
     "output_type": "execute_result"
    }
   ],
   "source": [
    "ku.ex_round(kan10.symbolic_formula()[0][0], 3)"
   ]
  },
  {
   "cell_type": "code",
   "execution_count": 118,
   "id": "64496107",
   "metadata": {},
   "outputs": [],
   "source": [
    "J2 = 0.2\n",
    "gs = qt.qload(f'../J1J2_info/N{N}/n{N}gs_J2_0.2')\n",
    "states, signs = utils.get_nonzero_states(N, gs, 1e-10)\n",
    "sign_label = torch.tensor(signs).reshape(-1, 1)\n",
    "finite_signs = {'train_input':ft_input, 'train_label':sign_label, 'test_input':ft_input, 'test_label':sign_label}"
   ]
  },
  {
   "cell_type": "code",
   "execution_count": 119,
   "id": "e48b776d",
   "metadata": {},
   "outputs": [
    {
     "name": "stdout",
     "output_type": "stream",
     "text": [
      "checkpoint directory created: ./model\n",
      "saving model version 0.0\n"
     ]
    },
    {
     "name": "stderr",
     "output_type": "stream",
     "text": [
      "description:   0%|                                                           | 0/50 [00:00<?, ?it/s]"
     ]
    },
    {
     "name": "stderr",
     "output_type": "stream",
     "text": [
      "| train_loss: 7.74e-02 | test_loss: 1.30e-01 | reg: 9.50e+00 | : 100%|█| 50/50 [00:05<00:00,  9.95it"
     ]
    },
    {
     "name": "stdout",
     "output_type": "stream",
     "text": [
      "saving model version 0.1\n"
     ]
    },
    {
     "name": "stderr",
     "output_type": "stream",
     "text": [
      "\n"
     ]
    }
   ],
   "source": [
    "kanf = kan.KAN(width=[10, 1, 1])\n",
    "kanf.fit(finite_signs, lamb=0, steps=50, loss_fn=generate_loss(gs, states));"
   ]
  },
  {
   "cell_type": "code",
   "execution_count": 120,
   "id": "7f95fe5a",
   "metadata": {},
   "outputs": [
    {
     "data": {
      "image/png": "[encoded data removed]",
      "text/plain": [
       "<Figure size 500x400 with 14 Axes>"
      ]
     },
     "metadata": {},
     "output_type": "display_data"
    }
   ],
   "source": [
    "kanf.plot()"
   ]
  },
  {
   "cell_type": "code",
   "execution_count": 121,
   "id": "d2230f82",
   "metadata": {},
   "outputs": [
    {
     "name": "stdout",
     "output_type": "stream",
     "text": [
      "saving model version 0.2\n"
     ]
    },
    {
     "name": "stderr",
     "output_type": "stream",
     "text": [
      "description:   0%|                                                           | 0/50 [00:00<?, ?it/s]"
     ]
    },
    {
     "name": "stderr",
     "output_type": "stream",
     "text": [
      "| train_loss: 1.35e-04 | test_loss: 1.59e-04 | reg: 8.49e+00 | : 100%|█| 50/50 [00:04<00:00, 10.46it\n"
     ]
    },
    {
     "name": "stdout",
     "output_type": "stream",
     "text": [
      "saving model version 0.3\n"
     ]
    },
    {
     "data": {
      "image/png": "[encoded data removed]",
      "text/plain": [
       "<Figure size 500x400 with 14 Axes>"
      ]
     },
     "metadata": {},
     "output_type": "display_data"
    }
   ],
   "source": [
    "kanf = kanf.prune()\n",
    "kanf.fit(finite_signs, lamb=0, steps=50, loss_fn=generate_loss(gs, states));\n",
    "kanf.plot()"
   ]
  },
  {
   "cell_type": "code",
   "execution_count": 122,
   "id": "efa10137",
   "metadata": {},
   "outputs": [
    {
     "name": "stdout",
     "output_type": "stream",
     "text": [
      "   function  fitting r2    r2 loss  complexity  complexity loss  total loss\n",
      "0       sin    1.000000 -16.680128           2                2  -11.076089\n",
      "1       cos    1.000000 -16.680128           2                2  -11.076089\n",
      "2       tan    0.994246  -7.438790           3                3   -4.307153\n",
      "3  gaussian    0.984248  -5.987377           3                3   -3.291164\n",
      "4     1/x^2    0.963765  -4.786056           2                2   -2.750239\n",
      "5       1/x    0.950998  -4.350725           2                2   -2.445507\n",
      "6     1/x^3    0.960056  -4.645508           3                3   -2.351856\n",
      "7       abs    0.939109  -4.037382           3                3   -1.926168\n",
      "8     1/x^4    0.949284  -4.301140           4                4   -1.810798\n",
      "9     1/x^5    0.945277  -4.191448           5                5   -1.434013\n"
     ]
    }
   ],
   "source": [
    "kanf.suggest_symbolic(1, 0, 0, topk=10, weight_simple=0.3);"
   ]
  },
  {
   "cell_type": "code",
   "execution_count": 123,
   "id": "cae1c239",
   "metadata": {},
   "outputs": [
    {
     "name": "stdout",
     "output_type": "stream",
     "text": [
      "r2 is 1.0000004768371582\n",
      "saving model version 0.4\n",
      "Best value at boundary.\n",
      "r2 is 0.9999443888664246\n",
      "saving model version 0.5\n",
      "r2 is 1.000001311302185\n",
      "saving model version 0.6\n"
     ]
    },
    {
     "name": "stderr",
     "output_type": "stream",
     "text": [
      "| train_loss: 1.65e-05 | test_loss: 1.33e-04 | reg: 2.68e+00 | : 100%|█| 50/50 [00:08<00:00,  5.85it\n"
     ]
    },
    {
     "name": "stdout",
     "output_type": "stream",
     "text": [
      "saving model version 0.7\n"
     ]
    },
    {
     "data": {
      "image/png": "[encoded data removed]",
      "text/plain": [
       "<Figure size 500x400 with 14 Axes>"
      ]
     },
     "metadata": {},
     "output_type": "display_data"
    }
   ],
   "source": [
    "kanf.fix_symbolic(1, 0, 0, 'cos');\n",
    "kanf.fix_symbolic(0, 8, 0, 'x');\n",
    "kanf.fix_symbolic(0, 9, 0, 'x');\n",
    "kanf.fit(finite_signs, lamb=0, steps=50, loss_fn=generate_loss(gs, states));\n",
    "kanf.plot()"
   ]
  },
  {
   "cell_type": "code",
   "execution_count": 126,
   "id": "924386c7",
   "metadata": {},
   "outputs": [
    {
     "name": "stderr",
     "output_type": "stream",
     "text": [
      "| train_loss: 5.42e-03 | test_loss: 1.30e-02 | reg: 1.39e+00 | : 100%|█| 50/50 [00:15<00:00,  3.13it\n"
     ]
    },
    {
     "name": "stdout",
     "output_type": "stream",
     "text": [
      "saving model version 0.8\n"
     ]
    },
    {
     "data": {
      "image/png": "[encoded data removed]",
      "text/plain": [
       "<Figure size 500x400 with 14 Axes>"
      ]
     },
     "metadata": {},
     "output_type": "display_data"
    }
   ],
   "source": [
    "kanf.fit(finite_signs, lamb=1e-3, steps=50, loss_fn=generate_loss(gs, states));\n",
    "kanf.plot()"
   ]
  },
  {
   "cell_type": "code",
   "execution_count": 127,
   "id": "b3057cab",
   "metadata": {},
   "outputs": [
    {
     "name": "stdout",
     "output_type": "stream",
     "text": [
      "saving model version 0.9\n"
     ]
    },
    {
     "name": "stderr",
     "output_type": "stream",
     "text": [
      "| train_loss: 6.09e-02 | test_loss: 6.58e-02 | reg: 1.74e-01 | : 100%|█| 50/50 [00:14<00:00,  3.45it\n"
     ]
    },
    {
     "name": "stdout",
     "output_type": "stream",
     "text": [
      "saving model version 0.10\n"
     ]
    },
    {
     "data": {
      "image/png": "[encoded data removed]",
      "text/plain": [
       "<Figure size 500x400 with 14 Axes>"
      ]
     },
     "metadata": {},
     "output_type": "display_data"
    }
   ],
   "source": [
    "kanf = kanf.prune()\n",
    "kanf.fit(finite_signs, lamb=1e-2, steps=50, loss_fn=generate_loss(gs, states));\n",
    "kanf.plot()"
   ]
  },
  {
   "cell_type": "code",
   "execution_count": 128,
   "id": "5b3d5eb5",
   "metadata": {},
   "outputs": [
    {
     "data": {
      "text/latex": [
       "$\\displaystyle - 3.0631 \\cos{\\left(- 1.0033 x_{10} + 0.78 x_{9} + 5.1352 \\right)} - 0.03$"
      ],
      "text/plain": [
       "-3.0631*cos(-1.0033*x_10 + 0.78*x_9 + 5.1352) - 0.03"
      ]
     },
     "execution_count": 128,
     "metadata": {},
     "output_type": "execute_result"
    }
   ],
   "source": [
    "ku.ex_round(kanf.symbolic_formula()[0][0], 4)"
   ]
  },
  {
   "cell_type": "code",
   "execution_count": 133,
   "id": "058495ab",
   "metadata": {},
   "outputs": [
    {
     "name": "stdout",
     "output_type": "stream",
     "text": [
      "    function  fitting r2   r2 loss  complexity  complexity loss  total loss\n",
      "0        tan    0.981942 -5.790386           3                3   -3.153270\n",
      "1        exp    0.970582 -5.086650           2                2   -2.960655\n",
      "2      1/x^2    0.969287 -5.024528           2                2   -2.917169\n",
      "3        1/x    0.968650 -4.994949           2                2   -2.896464\n",
      "4    1/x^0.5    0.968562 -4.990866           2                2   -2.893606\n",
      "5  1/sqrt(x)    0.968562 -4.990866           2                2   -2.893606\n",
      "6   gaussian    0.971324 -5.123508           3                3   -2.686455\n",
      "7       tanh    0.970370 -5.076316           3                3   -2.653421\n",
      "8      1/x^3    0.969290 -5.024698           3                3   -2.617289\n",
      "9        sgn    0.968552 -4.990418           3                3   -2.593293\n"
     ]
    }
   ],
   "source": [
    "kanf.suggest_symbolic(0, 0, 0, topk=10, weight_simple=0.3);"
   ]
  },
  {
   "cell_type": "code",
   "execution_count": 124,
   "id": "560520a4",
   "metadata": {},
   "outputs": [
    {
     "data": {
      "text/latex": [
       "$\\displaystyle - 1.001 \\cos{\\left(- 1.0 x_{10} + 0.756 x_{9} + 4.2898 \\right)}$"
      ],
      "text/plain": [
       "-1.001*cos(-1.0*x_10 + 0.756*x_9 + 4.2898)"
      ]
     },
     "execution_count": 124,
     "metadata": {},
     "output_type": "execute_result"
    }
   ],
   "source": [
    "ku.ex_round(kanf.symbolic_formula()[0][0], 4)"
   ]
  },
  {
   "cell_type": "code",
   "execution_count": 134,
   "id": "30c21500",
   "metadata": {},
   "outputs": [
    {
     "name": "stdout",
     "output_type": "stream",
     "text": [
      "r2 is 0.9705816507339478\n",
      "saving model version 0.11\n"
     ]
    },
    {
     "name": "stderr",
     "output_type": "stream",
     "text": [
      "| train_loss: 1.91e-02 | test_loss: 1.32e-02 | reg: 0.00e+00 | : 100%|█| 50/50 [00:06<00:00,  7.28it\n"
     ]
    },
    {
     "name": "stdout",
     "output_type": "stream",
     "text": [
      "saving model version 0.12\n"
     ]
    },
    {
     "data": {
      "image/png": "[encoded data removed]",
      "text/plain": [
       "<Figure size 500x400 with 14 Axes>"
      ]
     },
     "metadata": {},
     "output_type": "display_data"
    }
   ],
   "source": [
    "kanf.fix_symbolic(0, 0, 0, 'exp');\n",
    "kanf.fit(finite_signs, lamb=0, steps=50, loss_fn=generate_loss(gs, states));\n",
    "kanf.plot()"
   ]
  },
  {
   "cell_type": "code",
   "execution_count": 135,
   "id": "c031fe02",
   "metadata": {},
   "outputs": [
    {
     "data": {
      "text/latex": [
       "$\\displaystyle 0.0027 - 3.0631 \\cos{\\left(- 1.0006 x_{10} + 0.7864 x_{9} + 5.9455 \\right)}$"
      ],
      "text/plain": [
       "0.0027 - 3.0631*cos(-1.0006*x_10 + 0.7864*x_9 + 5.9455)"
      ]
     },
     "execution_count": 135,
     "metadata": {},
     "output_type": "execute_result"
    }
   ],
   "source": [
    "ku.ex_round(kanf.symbolic_formula()[0][0], 4)"
   ]
  },
  {
   "cell_type": "code",
   "execution_count": 136,
   "id": "3f0d8807",
   "metadata": {},
   "outputs": [
    {
     "name": "stdout",
     "output_type": "stream",
     "text": [
      "1.0626982664433065e-07\n",
      "0.00010104475903865892\n"
     ]
    }
   ],
   "source": [
    "print(generate_loss(gs, states)(finite_signs['train_label'], torch.cos(ft_input[:, [9]] + ft_input[:, [8]] * np.pi / 4 + np.pi / 2)).item())\n",
    "print(generate_loss(gs, states)(finite_signs['train_label'], kanf(ft_input)).item())"
   ]
  },
  {
   "cell_type": "code",
   "execution_count": null,
   "id": "3101fc10",
   "metadata": {},
   "outputs": [],
   "source": [
    "kanf4 = "
   ]
  }
 ],
 "metadata": {
  "kernelspec": {
   "display_name": "kans",
   "language": "python",
   "name": "python3"
  },
  "language_info": {
   "codemirror_mode": {
    "name": "ipython",
    "version": 3
   },
   "file_extension": ".py",
   "mimetype": "text/x-python",
   "name": "python",
   "nbconvert_exporter": "python",
   "pygments_lexer": "ipython3",
   "version": "3.9.23"
  }
 },
 "nbformat": 4,
 "nbformat_minor": 5
}
