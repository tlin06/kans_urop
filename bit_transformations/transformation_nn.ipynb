{
 "cells": [
  {
   "cell_type": "code",
   "execution_count": 1,
   "id": "9cf71707",
   "metadata": {},
   "outputs": [],
   "source": [
    "import kan\n",
    "import kan.utils as ku\n",
    "import numpy as np\n",
    "import torch.nn as nn\n",
    "import torch\n",
    "import qutip as qt\n",
    "from libraries import utils\n",
    "from libraries import magnetization\n",
    "from libraries import j1j2_functions"
   ]
  },
  {
   "cell_type": "code",
   "execution_count": 2,
   "id": "9022215b",
   "metadata": {},
   "outputs": [],
   "source": [
    "N=8; J1=1; J2=0"
   ]
  },
  {
   "cell_type": "code",
   "execution_count": 3,
   "id": "3cf3d075",
   "metadata": {},
   "outputs": [],
   "source": [
    "def autocorrelation(x):\n",
    "    \"\"\"\n",
    "    Compute the circular autocorrelation of +/-1 sequence x.\n",
    "    x: 1D numpy array of length L with elements +1 or -1.\n",
    "    Returns: numpy array A of length L, A[k] = sum_j x[j]*x[(j+k)%L].\n",
    "    \"\"\"\n",
    "    L = len(x)\n",
    "    A = np.zeros(L, dtype=int)\n",
    "    for k in range(L):\n",
    "        s = 0\n",
    "        for j in range(L):\n",
    "            s += x[j] * x[(j + k) % L]\n",
    "        A[k] = s\n",
    "    return A\n",
    "\n",
    "def walsh_hadamard_transform(x):\n",
    "    \"\"\"\n",
    "    Compute the Walsh-Hadamard transform (WHT) of input vector x.\n",
    "    Length of x must be a power of two.\n",
    "    Returns: numpy array of same length as x.\n",
    "    \"\"\"\n",
    "    L = len(x)\n",
    "    if L == 1:\n",
    "        return x\n",
    "    else:\n",
    "        x = np.array(x)\n",
    "        if (L & (L - 1)) != 0:\n",
    "            raise ValueError(\"Length of input must be a power of two\")\n",
    "        half = L // 2\n",
    "        top = walsh_hadamard_transform(x[:half])\n",
    "        bottom = walsh_hadamard_transform(x[half:])\n",
    "        return np.concatenate([top + bottom, top - bottom])\n",
    "\n",
    "def auto_wht(bitstring):\n",
    "    \"\"\"\n",
    "    Given a bitstring (list or array of 0/1), compute autocorrelation + WHT.\n",
    "    Returns: numpy array of WHT of autocorrelation vector.\n",
    "    \"\"\"\n",
    "    # Convert bitstring to +1/-1 sequence\n",
    "    x = np.array([1 if b == 0 else -1 for b in bitstring])\n",
    "    A = autocorrelation(x)\n",
    "    T = walsh_hadamard_transform(A)\n",
    "    return T"
   ]
  },
  {
   "cell_type": "code",
   "execution_count": 4,
   "id": "56cad5e5",
   "metadata": {},
   "outputs": [],
   "source": [
    "states = utils.generate_input_torch(N)\n",
    "states = (-1) ** states.numpy()"
   ]
  },
  {
   "cell_type": "code",
   "execution_count": 5,
   "id": "125d21ec",
   "metadata": {},
   "outputs": [
    {
     "data": {
      "text/plain": [
       "array([[8, 8, 8, ..., 8, 8, 8],\n",
       "       [8, 4, 4, ..., 4, 4, 4],\n",
       "       [8, 4, 4, ..., 4, 4, 4],\n",
       "       ...,\n",
       "       [8, 4, 4, ..., 4, 4, 4],\n",
       "       [8, 4, 4, ..., 4, 4, 4],\n",
       "       [8, 8, 8, ..., 8, 8, 8]])"
      ]
     },
     "execution_count": 5,
     "metadata": {},
     "output_type": "execute_result"
    }
   ],
   "source": [
    "auto_states = []\n",
    "for i in range(len(states)):\n",
    "    auto_states.append(autocorrelation(states[i]))\n",
    "auto_states = np.array(auto_states)\n",
    "auto_states"
   ]
  },
  {
   "cell_type": "code",
   "execution_count": 6,
   "id": "a4657bde",
   "metadata": {},
   "outputs": [
    {
     "data": {
      "text/plain": [
       "(256, 8)"
      ]
     },
     "execution_count": 6,
     "metadata": {},
     "output_type": "execute_result"
    }
   ],
   "source": [
    "auto_states.shape"
   ]
  },
  {
   "cell_type": "code",
   "execution_count": 7,
   "id": "16b7f65b",
   "metadata": {},
   "outputs": [
    {
     "data": {
      "text/plain": [
       "array([[64,  0,  0, ...,  0,  0,  0],\n",
       "       [36,  4,  4, ...,  4,  4,  4],\n",
       "       [36,  4,  4, ...,  4,  4,  4],\n",
       "       ...,\n",
       "       [36,  4,  4, ...,  4,  4,  4],\n",
       "       [36,  4,  4, ...,  4,  4,  4],\n",
       "       [64,  0,  0, ...,  0,  0,  0]])"
      ]
     },
     "execution_count": 7,
     "metadata": {},
     "output_type": "execute_result"
    }
   ],
   "source": [
    "auto_wht_states = auto_states.copy()\n",
    "for i in range(len(auto_wht_states)):\n",
    "    auto_wht_states[i] = walsh_hadamard_transform(auto_wht_states[i])\n",
    "auto_wht_states"
   ]
  },
  {
   "cell_type": "code",
   "execution_count": 8,
   "id": "605dad96",
   "metadata": {},
   "outputs": [
    {
     "name": "stderr",
     "output_type": "stream",
     "text": [
      "C:\\Users\\taoha\\AppData\\Local\\Temp\\ipykernel_21360\\3630804694.py:1: UserWarning: Creating a tensor from a list of numpy.ndarrays is extremely slow. Please consider converting the list to a single numpy.ndarray with numpy.array() before converting to a tensor. (Triggered internally at C:\\actions-runner\\_work\\pytorch\\pytorch\\builder\\windows\\pytorch\\torch\\csrc\\utils\\tensor_new.cpp:281.)\n",
      "  torch.tensor([autocorrelation(x) for x in states])\n"
     ]
    },
    {
     "data": {
      "text/plain": [
       "tensor([[8, 8, 8,  ..., 8, 8, 8],\n",
       "        [8, 4, 4,  ..., 4, 4, 4],\n",
       "        [8, 4, 4,  ..., 4, 4, 4],\n",
       "        ...,\n",
       "        [8, 4, 4,  ..., 4, 4, 4],\n",
       "        [8, 4, 4,  ..., 4, 4, 4],\n",
       "        [8, 8, 8,  ..., 8, 8, 8]])"
      ]
     },
     "execution_count": 8,
     "metadata": {},
     "output_type": "execute_result"
    }
   ],
   "source": [
    "torch.tensor([autocorrelation(x) for x in states])"
   ]
  },
  {
   "cell_type": "code",
   "execution_count": null,
   "id": "b01259bd",
   "metadata": {},
   "outputs": [],
   "source": []
  },
  {
   "cell_type": "code",
   "execution_count": 9,
   "id": "537538a0",
   "metadata": {},
   "outputs": [
    {
     "data": {
      "text/plain": [
       "array([[8, 8, 8, ..., 8, 8, 8],\n",
       "       [8, 4, 4, ..., 4, 4, 4],\n",
       "       [8, 4, 4, ..., 4, 4, 4],\n",
       "       ...,\n",
       "       [8, 4, 4, ..., 4, 4, 4],\n",
       "       [8, 4, 4, ..., 4, 4, 4],\n",
       "       [8, 8, 8, ..., 8, 8, 8]])"
      ]
     },
     "execution_count": 9,
     "metadata": {},
     "output_type": "execute_result"
    }
   ],
   "source": [
    "auto_states"
   ]
  },
  {
   "cell_type": "code",
   "execution_count": 10,
   "id": "36023164",
   "metadata": {},
   "outputs": [
    {
     "data": {
      "text/plain": [
       "array([[8, 8, 8, 8, 8],\n",
       "       [8, 4, 4, 4, 4],\n",
       "       [8, 4, 4, 4, 4],\n",
       "       ...,\n",
       "       [8, 4, 4, 4, 4],\n",
       "       [8, 4, 4, 4, 4],\n",
       "       [8, 8, 8, 8, 8]])"
      ]
     },
     "execution_count": 10,
     "metadata": {},
     "output_type": "execute_result"
    }
   ],
   "source": [
    "auto_states[:, 0:5]"
   ]
  },
  {
   "cell_type": "code",
   "execution_count": 11,
   "id": "7be944c5",
   "metadata": {},
   "outputs": [
    {
     "name": "stdout",
     "output_type": "stream",
     "text": [
      "torch.Size([256, 8]) torch.Size([256, 1])\n"
     ]
    }
   ],
   "source": [
    "auto_input = torch.tensor(auto_states[:, 1:5], dtype=torch.float32)\n",
    "auto_wht_input = torch.tensor(auto_wht_states, dtype=torch.float32)\n",
    "labels = torch.tensor([-1 + 2 * (magnetization.count_half_magnetization(i) % 2) for i in range(2 ** N)]).reshape((-1, 1))\n",
    "print(auto_wht_input.shape, labels.shape)\n",
    "auto_dataset = {'train_input': auto_input, 'train_label': labels, 'test_input': auto_input, 'test_label': labels}\n",
    "auto_wht_dataset = {'train_input': auto_wht_input, 'train_label': labels, 'test_input': auto_wht_input, 'test_label': labels}"
   ]
  },
  {
   "cell_type": "code",
   "execution_count": 12,
   "id": "1d1e26f7",
   "metadata": {},
   "outputs": [
    {
     "name": "stdout",
     "output_type": "stream",
     "text": [
      "checkpoint directory created: ./model\n",
      "saving model version 0.0\n",
      "r2 is 0.9978808760643005\n",
      "saving model version 0.1\n"
     ]
    }
   ],
   "source": [
    "auto_model = kan.KAN(width = [4, N, 1, 1]) # this doesn't work\n",
    "auto_model(auto_dataset['train_input']);\n",
    "auto_model.fix_symbolic(2, 0, 0, 'tanh');\n",
    "auto_model.symbolic_fun[2].affine = nn.Parameter(torch.tensor([[[1, 0, 1, 0]]], dtype=torch.float32), requires_grad=False)"
   ]
  },
  {
   "cell_type": "code",
   "execution_count": 13,
   "id": "14fdf57d",
   "metadata": {},
   "outputs": [
    {
     "name": "stderr",
     "output_type": "stream",
     "text": [
      "| train_loss: 7.07e-01 | test_loss: 7.07e-01 | reg: 6.94e+00 | : 100%|█| 20/20 [00:11<00:00,  1.76it"
     ]
    },
    {
     "name": "stdout",
     "output_type": "stream",
     "text": [
      "saving model version 0.2\n"
     ]
    },
    {
     "name": "stderr",
     "output_type": "stream",
     "text": [
      "\n"
     ]
    }
   ],
   "source": [
    "auto_model.fit(auto_dataset, steps=20, lamb=1e-3);"
   ]
  },
  {
   "cell_type": "code",
   "execution_count": 14,
   "id": "4adfef32",
   "metadata": {},
   "outputs": [
    {
     "data": {
      "image/png": "[encoded data removed]",
      "text/plain": [
       "<Figure size 500x600 with 52 Axes>"
      ]
     },
     "metadata": {},
     "output_type": "display_data"
    }
   ],
   "source": [
    "auto_model.plot()"
   ]
  },
  {
   "cell_type": "code",
   "execution_count": 15,
   "id": "e480e675",
   "metadata": {},
   "outputs": [
    {
     "name": "stdout",
     "output_type": "stream",
     "text": [
      "checkpoint directory created: ./model\n",
      "saving model version 0.0\n",
      "r2 is 0.9979192614555359\n",
      "saving model version 0.1\n"
     ]
    }
   ],
   "source": [
    "auto_wht_model = kan.KAN(width = [N, N, 1, 1]) # this doesn't work\n",
    "auto_wht_model(auto_wht_dataset['train_input']);\n",
    "auto_wht_model.fix_symbolic(2, 0, 0, 'tanh');\n",
    "auto_wht_model.symbolic_fun[2].affine = nn.Parameter(torch.tensor([[[1, 0, 1, 0]]], dtype=torch.float32), requires_grad=False)"
   ]
  },
  {
   "cell_type": "code",
   "execution_count": 16,
   "id": "b2d37491",
   "metadata": {},
   "outputs": [
    {
     "name": "stderr",
     "output_type": "stream",
     "text": [
      "| train_loss: 7.07e-01 | test_loss: 7.07e-01 | reg: 1.49e+01 | : 100%|█| 20/20 [00:14<00:00,  1.39it"
     ]
    },
    {
     "name": "stdout",
     "output_type": "stream",
     "text": [
      "saving model version 0.2\n"
     ]
    },
    {
     "name": "stderr",
     "output_type": "stream",
     "text": [
      "\n"
     ]
    }
   ],
   "source": [
    "auto_wht_model.fit(auto_wht_dataset, steps=20, lamb=1e-3);"
   ]
  },
  {
   "cell_type": "code",
   "execution_count": 17,
   "id": "8851cf5f",
   "metadata": {},
   "outputs": [
    {
     "data": {
      "image/png": "[encoded data removed]",
      "text/plain": [
       "<Figure size 500x600 with 84 Axes>"
      ]
     },
     "metadata": {},
     "output_type": "display_data"
    }
   ],
   "source": [
    "auto_wht_model.plot()"
   ]
  },
  {
   "cell_type": "code",
   "execution_count": null,
   "id": "71d4d41f",
   "metadata": {},
   "outputs": [
    {
     "data": {
      "text/plain": [
       "tensor(1., grad_fn=<SqrtBackward0>)"
      ]
     },
     "execution_count": 65,
     "metadata": {},
     "output_type": "execute_result"
    }
   ],
   "source": [
    "torch.sqrt(torch.mean((auto_wht_model(auto_wht_dataset['train_input']) - auto_wht_dataset['train_label']) ** 2))"
   ]
  },
  {
   "cell_type": "code",
   "execution_count": 21,
   "id": "50ec16ab",
   "metadata": {},
   "outputs": [],
   "source": [
    "def rfft(x):\n",
    "    x = (-1) ** np.array(x)\n",
    "    return np.fft.rfft(x)[1:]\n",
    "def psd(x):\n",
    "    return np.abs(rfft(x)) ** 2\n",
    "def norm_psd(x):\n",
    "    vec = psd(x)\n",
    "    return vec / np.linalg.norm(vec)"
   ]
  },
  {
   "cell_type": "code",
   "execution_count": 18,
   "id": "14e23623",
   "metadata": {},
   "outputs": [
    {
     "data": {
      "text/plain": [
       "(np.float64(1.4142135623730951), np.float64(0.7853981633974483))"
      ]
     },
     "execution_count": 18,
     "metadata": {},
     "output_type": "execute_result"
    }
   ],
   "source": [
    "np.abs(1 + 1.j), np.angle(1 + 1.j)"
   ]
  },
  {
   "cell_type": "code",
   "execution_count": 23,
   "id": "1a191140",
   "metadata": {},
   "outputs": [
    {
     "data": {
      "text/plain": [
       "2.641592653589793"
      ]
     },
     "execution_count": 23,
     "metadata": {},
     "output_type": "execute_result"
    }
   ],
   "source": [
    "-0.5 % np.pi"
   ]
  },
  {
   "cell_type": "code",
   "execution_count": 22,
   "id": "b604b60d",
   "metadata": {},
   "outputs": [],
   "source": [
    "N=10; J1=1; J2=0 # try to learn MSR first"
   ]
  },
  {
   "cell_type": "code",
   "execution_count": 24,
   "id": "bdac81fd",
   "metadata": {},
   "outputs": [
    {
     "data": {
      "text/latex": [
       "Quantum object: dims=[[2, 2, 2, 2, 2, 2, 2, 2, 2, 2], [1, 1, 1, 1, 1, 1, 1, 1, 1, 1]], shape=(1024, 1), type='ket', dtype=Dense$$\\left(\\begin{array}{cc}0\\\\1.269\\times10^{ -48 }\\\\-2.638\\times10^{ -18 }\\\\-1.218\\times10^{ -18 }\\\\-4.822\\times10^{ -18 }\\\\\\vdots\\\\-8.196\\times10^{ -49 }\\\\5.669\\times10^{ -49 }\\\\1.204\\times10^{ -48 }\\\\-2.122\\times10^{ -48 }\\\\0\\end{array}\\right)$$"
      ],
      "text/plain": [
       "Quantum object: dims=[[2, 2, 2, 2, 2, 2, 2, 2, 2, 2], [1, 1, 1, 1, 1, 1, 1, 1, 1, 1]], shape=(1024, 1), type='ket', dtype=Dense\n",
       "Qobj data =\n",
       "[[ 0.00000000e+00]\n",
       " [ 1.26928255e-48]\n",
       " [-2.63794454e-18]\n",
       " ...\n",
       " [ 1.20393997e-48]\n",
       " [-2.12190686e-48]\n",
       " [ 0.00000000e+00]]"
      ]
     },
     "execution_count": 24,
     "metadata": {},
     "output_type": "execute_result"
    }
   ],
   "source": [
    "h10 = j1j2_functions.J1J2_hamiltonian(N, J1, J2)\n",
    "eigs10 = h10.eigenstates()\n",
    "gs10 = eigs10[1][0]\n",
    "gs10"
   ]
  },
  {
   "cell_type": "code",
   "execution_count": 38,
   "id": "aaa606af",
   "metadata": {},
   "outputs": [
    {
     "name": "stdout",
     "output_type": "stream",
     "text": [
      "torch.Size([252, 10])\n",
      "torch.Size([252, 10])\n",
      "torch.Size([252, 1]) torch.Size([252, 1])\n"
     ]
    },
    {
     "name": "stderr",
     "output_type": "stream",
     "text": [
      "C:\\Users\\taoha\\AppData\\Local\\Temp\\ipykernel_21360\\915706225.py:2: DeprecationWarning: __array__ implementation doesn't accept a copy keyword, so passing copy=False failed. __array__ must implement 'dtype' and 'copy' keyword arguments.\n",
      "  x = (-1) ** np.array(x)\n"
     ]
    }
   ],
   "source": [
    "states, signs = utils.get_nonzero_states(N, gs10, 1e-10)\n",
    "input = utils.generate_input_samples(N, states)\n",
    "print(input.shape)\n",
    "ft_input = []\n",
    "for x in input:\n",
    "    amp_phase = []\n",
    "    ft = rfft(x)\n",
    "    for c in ft:\n",
    "        amp_phase.append(np.abs(c))\n",
    "        amp_phase.append(np.angle(c) % (2 * np.pi))\n",
    "    ft_input.append(amp_phase)\n",
    "ft_input = torch.tensor(ft_input)\n",
    "print(ft_input.shape)\n",
    "msr_label = torch.tensor([magnetization.count_half_magnetization(s) for s in states]).reshape(-1, 1)\n",
    "sign_label = torch.tensor(signs).reshape(-1, 1)\n",
    "print(msr_label.shape, sign_label.shape)\n",
    "msr_dataset = {'train_input':ft_input, 'train_label':msr_label, 'test_input':ft_input, 'test_label':msr_label}\n",
    "sign_dataset = {'train_input':ft_input, 'train_label':sign_label, 'test_input':ft_input, 'test_label':sign_label}"
   ]
  },
  {
   "cell_type": "code",
   "execution_count": 45,
   "id": "f8c9cbeb",
   "metadata": {},
   "outputs": [
    {
     "name": "stdout",
     "output_type": "stream",
     "text": [
      "checkpoint directory created: ./model\n",
      "saving model version 0.0\n"
     ]
    },
    {
     "name": "stderr",
     "output_type": "stream",
     "text": [
      "description:   0%|                                                          | 0/100 [00:00<?, ?it/s]"
     ]
    },
    {
     "name": "stderr",
     "output_type": "stream",
     "text": [
      "| train_loss: 4.83e-02 | test_loss: 4.83e-02 | reg: 6.91e+00 | : 100%|█| 100/100 [00:24<00:00,  4.12"
     ]
    },
    {
     "name": "stdout",
     "output_type": "stream",
     "text": [
      "saving model version 0.1\n"
     ]
    },
    {
     "name": "stderr",
     "output_type": "stream",
     "text": [
      "\n"
     ]
    }
   ],
   "source": [
    "msr_model = kan.KAN([10, 5, 1])\n",
    "msr_model.fit(msr_dataset, lamb=1e-2);"
   ]
  },
  {
   "cell_type": "code",
   "execution_count": 46,
   "id": "d763862b",
   "metadata": {},
   "outputs": [
    {
     "name": "stdout",
     "output_type": "stream",
     "text": [
      "saving model version 0.2\n"
     ]
    },
    {
     "data": {
      "text/plain": [
       "[[10, 0], [2, 0], [1, 0]]"
      ]
     },
     "execution_count": 46,
     "metadata": {},
     "output_type": "execute_result"
    }
   ],
   "source": [
    "msr_model.prune().width"
   ]
  },
  {
   "cell_type": "code",
   "execution_count": 47,
   "id": "9363c501",
   "metadata": {},
   "outputs": [
    {
     "name": "stdout",
     "output_type": "stream",
     "text": [
      "saving model version 0.2\n"
     ]
    },
    {
     "name": "stderr",
     "output_type": "stream",
     "text": [
      "| train_loss: 9.52e-03 | test_loss: 9.52e-03 | reg: 4.16e+00 | : 100%|█| 50/50 [00:10<00:00,  4.55it"
     ]
    },
    {
     "name": "stdout",
     "output_type": "stream",
     "text": [
      "saving model version 0.3\n"
     ]
    },
    {
     "name": "stderr",
     "output_type": "stream",
     "text": [
      "\n"
     ]
    }
   ],
   "source": [
    "msr_model = msr_model.prune()\n",
    "msr_model.fit(msr_dataset, lamb=1e-3, steps=50);"
   ]
  },
  {
   "cell_type": "code",
   "execution_count": 48,
   "id": "734998d5",
   "metadata": {},
   "outputs": [
    {
     "name": "stdout",
     "output_type": "stream",
     "text": [
      "saving model version 0.4\n"
     ]
    },
    {
     "data": {
      "text/plain": [
       "[[10, 0], [1, 0], [1, 0]]"
      ]
     },
     "execution_count": 48,
     "metadata": {},
     "output_type": "execute_result"
    }
   ],
   "source": [
    "msr_model.prune().width"
   ]
  },
  {
   "cell_type": "code",
   "execution_count": 49,
   "id": "329f1cc1",
   "metadata": {},
   "outputs": [
    {
     "name": "stdout",
     "output_type": "stream",
     "text": [
      "saving model version 0.4\n"
     ]
    },
    {
     "name": "stderr",
     "output_type": "stream",
     "text": [
      "description:   0%|                                                           | 0/20 [00:00<?, ?it/s]"
     ]
    },
    {
     "name": "stderr",
     "output_type": "stream",
     "text": [
      "| train_loss: 1.01e-02 | test_loss: 1.01e-02 | reg: 4.93e+00 | : 100%|█| 20/20 [00:03<00:00,  6.27it"
     ]
    },
    {
     "name": "stdout",
     "output_type": "stream",
     "text": [
      "saving model version 0.5\n"
     ]
    },
    {
     "name": "stderr",
     "output_type": "stream",
     "text": [
      "\n"
     ]
    }
   ],
   "source": [
    "msr_model = msr_model.prune()\n",
    "msr_model.fit(msr_dataset, lamb=1e-3, steps=20);"
   ]
  },
  {
   "cell_type": "code",
   "execution_count": 50,
   "id": "913f4a93",
   "metadata": {},
   "outputs": [
    {
     "data": {
      "image/png": "[encoded data removed]",
      "text/plain": [
       "<Figure size 500x400 with 14 Axes>"
      ]
     },
     "metadata": {},
     "output_type": "display_data"
    }
   ],
   "source": [
    "msr_model.plot()"
   ]
  },
  {
   "cell_type": "code",
   "execution_count": 55,
   "id": "1b3de178",
   "metadata": {},
   "outputs": [
    {
     "data": {
      "text/plain": [
       "tensor(0., grad_fn=<SqrtBackward0>)"
      ]
     },
     "execution_count": 55,
     "metadata": {},
     "output_type": "execute_result"
    }
   ],
   "source": [
    "torch.sqrt(torch.mean((msr_model(ft_input).round() - msr_label) ** 2))"
   ]
  },
  {
   "cell_type": "code",
   "execution_count": 56,
   "id": "b9719f83",
   "metadata": {},
   "outputs": [
    {
     "name": "stdout",
     "output_type": "stream",
     "text": [
      "r2 is 1.0000011920928955\n",
      "saving model version 0.6\n",
      "r2 is 0.9995018243789673\n",
      "saving model version 0.7\n"
     ]
    }
   ],
   "source": [
    "msr_model.fix_symbolic(0, 9, 0, 'x');\n",
    "msr_model.fix_symbolic(0, 8, 0, 'x');"
   ]
  },
  {
   "cell_type": "code",
   "execution_count": 57,
   "id": "7a8d2c46",
   "metadata": {},
   "outputs": [
    {
     "name": "stderr",
     "output_type": "stream",
     "text": [
      "| train_loss: 9.00e-03 | test_loss: 9.00e-03 | reg: 3.08e+00 | : 100%|█| 20/20 [00:03<00:00,  5.57it"
     ]
    },
    {
     "name": "stdout",
     "output_type": "stream",
     "text": [
      "saving model version 0.8\n"
     ]
    },
    {
     "name": "stderr",
     "output_type": "stream",
     "text": [
      "\n"
     ]
    }
   ],
   "source": [
    "msr_model.fit(msr_dataset, steps=20);"
   ]
  },
  {
   "cell_type": "code",
   "execution_count": 58,
   "id": "acd84f44",
   "metadata": {},
   "outputs": [
    {
     "data": {
      "image/png": "[encoded data removed]",
      "text/plain": [
       "<Figure size 500x400 with 14 Axes>"
      ]
     },
     "metadata": {},
     "output_type": "display_data"
    }
   ],
   "source": [
    "msr_model.plot()"
   ]
  },
  {
   "cell_type": "code",
   "execution_count": 59,
   "id": "389db914",
   "metadata": {},
   "outputs": [
    {
     "name": "stdout",
     "output_type": "stream",
     "text": [
      "    function  fitting r2    r2 loss  complexity  complexity loss  total loss\n",
      "0        sin    0.999872 -12.820855           2                2   -8.374598\n",
      "1        abs    0.999884 -12.951668           3                3   -8.166168\n",
      "2        cos    0.999791 -12.159312           2                2   -7.911518\n",
      "3        x^2    0.996242  -8.051889           2                2   -5.036322\n",
      "4   gaussian    0.976024  -5.381676           3                3   -2.867173\n",
      "5      1/x^2    0.962355  -4.731009           2                2   -2.711706\n",
      "6        x^4    0.967658  -4.950014           3                3   -2.565010\n",
      "7        exp    0.862749  -2.865009           2                2   -1.405506\n",
      "8        1/x    0.852534  -2.761452           2                2   -1.333016\n",
      "9  1/sqrt(x)    0.842239  -2.664092           2                2   -1.264864\n"
     ]
    },
    {
     "data": {
      "image/png": "[encoded data removed]",
      "text/plain": [
       "<Figure size 300x300 with 1 Axes>"
      ]
     },
     "metadata": {},
     "output_type": "display_data"
    }
   ],
   "source": [
    "msr_model.get_fun(1, 0, 0);\n",
    "msr_model.suggest_symbolic(1, 0, 0, topk=10, weight_simple=0.3);"
   ]
  },
  {
   "cell_type": "code",
   "execution_count": 60,
   "id": "d817c93d",
   "metadata": {},
   "outputs": [
    {
     "name": "stdout",
     "output_type": "stream",
     "text": [
      "r2 is 0.9997913837432861\n",
      "saving model version 0.9\n"
     ]
    },
    {
     "name": "stderr",
     "output_type": "stream",
     "text": [
      "| train_loss: 1.12e-02 | test_loss: 1.12e-02 | reg: 0.00e+00 | : 100%|█| 20/20 [00:01<00:00, 19.62it"
     ]
    },
    {
     "name": "stdout",
     "output_type": "stream",
     "text": [
      "saving model version 0.10\n"
     ]
    },
    {
     "name": "stderr",
     "output_type": "stream",
     "text": [
      "\n"
     ]
    }
   ],
   "source": [
    "msr_model.fix_symbolic(1, 0, 0, 'cos');\n",
    "msr_model.fit(msr_dataset, steps=20);"
   ]
  },
  {
   "cell_type": "code",
   "execution_count": 61,
   "id": "a50bf54a",
   "metadata": {},
   "outputs": [
    {
     "data": {
      "image/png": "[encoded data removed]",
      "text/plain": [
       "<Figure size 500x400 with 14 Axes>"
      ]
     },
     "metadata": {},
     "output_type": "display_data"
    }
   ],
   "source": [
    "msr_model.plot()"
   ]
  },
  {
   "cell_type": "code",
   "execution_count": 62,
   "id": "ba62078f",
   "metadata": {},
   "outputs": [
    {
     "data": {
      "text/latex": [
       "$\\displaystyle 1.58 - 6.47 \\cos{\\left(0.908 x_{10} - 0.04 x_{9} + 7.999 \\right)}$"
      ],
      "text/plain": [
       "1.58 - 6.47*cos(0.908*x_10 - 0.04*x_9 + 7.999)"
      ]
     },
     "execution_count": 62,
     "metadata": {},
     "output_type": "execute_result"
    }
   ],
   "source": [
    "ku.ex_round(msr_model.symbolic_formula()[0][0], 3)"
   ]
  },
  {
   "cell_type": "code",
   "execution_count": 63,
   "id": "6ffeb6fe",
   "metadata": {},
   "outputs": [
    {
     "data": {
      "text/plain": [
       "tensor([[ 3.0046],\n",
       "        [ 2.0056],\n",
       "        [ 3.0046],\n",
       "        [ 2.0056],\n",
       "        [ 3.0046],\n",
       "        [ 2.0056],\n",
       "        [ 3.0046],\n",
       "        [ 3.9842],\n",
       "        [ 3.0046],\n",
       "        [ 3.9842],\n",
       "        [ 3.0046],\n",
       "        [ 3.0046],\n",
       "        [ 2.0056],\n",
       "        [ 3.0046],\n",
       "        [ 2.0056],\n",
       "        [ 3.0046],\n",
       "        [ 3.9842],\n",
       "        [ 3.0046],\n",
       "        [ 3.0046],\n",
       "        [ 2.0056],\n",
       "        [ 3.0046],\n",
       "        [ 2.0056],\n",
       "        [ 3.0046],\n",
       "        [ 2.0056],\n",
       "        [ 3.0046],\n",
       "        [ 2.0056],\n",
       "        [ 2.0056],\n",
       "        [ 0.9799],\n",
       "        [ 2.0056],\n",
       "        [ 0.9799],\n",
       "        [ 2.0056],\n",
       "        [ 3.0046],\n",
       "        [ 2.0056],\n",
       "        [ 2.0056],\n",
       "        [ 0.9799],\n",
       "        [ 2.0056],\n",
       "        [ 3.0046],\n",
       "        [ 2.0056],\n",
       "        [ 3.0046],\n",
       "        [ 2.0056],\n",
       "        [ 3.0046],\n",
       "        [ 3.9842],\n",
       "        [ 3.0046],\n",
       "        [ 3.0046],\n",
       "        [ 2.0056],\n",
       "        [ 3.0046],\n",
       "        [ 2.0056],\n",
       "        [ 3.0046],\n",
       "        [ 2.0056],\n",
       "        [ 2.0056],\n",
       "        [ 0.9799],\n",
       "        [ 2.0056],\n",
       "        [ 3.0046],\n",
       "        [ 2.0056],\n",
       "        [ 3.0046],\n",
       "        [ 2.0056],\n",
       "        [ 3.0046],\n",
       "        [ 3.9842],\n",
       "        [ 3.0046],\n",
       "        [ 3.9842],\n",
       "        [ 3.0046],\n",
       "        [ 3.0046],\n",
       "        [ 2.0056],\n",
       "        [ 3.0046],\n",
       "        [ 2.0056],\n",
       "        [ 3.0046],\n",
       "        [ 3.9842],\n",
       "        [ 3.0046],\n",
       "        [ 3.0046],\n",
       "        [ 2.0056],\n",
       "        [ 3.0046],\n",
       "        [ 3.9842],\n",
       "        [ 3.0046],\n",
       "        [ 3.9842],\n",
       "        [ 3.0046],\n",
       "        [ 3.9842],\n",
       "        [ 4.9034],\n",
       "        [ 3.9842],\n",
       "        [ 3.9842],\n",
       "        [ 3.0046],\n",
       "        [ 3.9842],\n",
       "        [ 3.0046],\n",
       "        [ 3.9842],\n",
       "        [ 3.0046],\n",
       "        [ 3.0046],\n",
       "        [ 2.0056],\n",
       "        [ 3.0046],\n",
       "        [ 3.9842],\n",
       "        [ 3.0046],\n",
       "        [ 3.9842],\n",
       "        [ 3.0046],\n",
       "        [ 3.0046],\n",
       "        [ 2.0056],\n",
       "        [ 3.0046],\n",
       "        [ 2.0056],\n",
       "        [ 3.0046],\n",
       "        [ 3.9842],\n",
       "        [ 3.0046],\n",
       "        [ 3.0046],\n",
       "        [ 2.0056],\n",
       "        [ 3.0046],\n",
       "        [ 2.0056],\n",
       "        [ 3.0046],\n",
       "        [ 2.0056],\n",
       "        [ 2.0056],\n",
       "        [ 0.9799],\n",
       "        [ 2.0056],\n",
       "        [ 3.0046],\n",
       "        [ 2.0056],\n",
       "        [ 3.0046],\n",
       "        [ 2.0056],\n",
       "        [ 3.0046],\n",
       "        [ 3.9842],\n",
       "        [ 3.0046],\n",
       "        [ 3.0046],\n",
       "        [ 2.0056],\n",
       "        [ 3.0046],\n",
       "        [ 3.9842],\n",
       "        [ 3.0046],\n",
       "        [ 3.9842],\n",
       "        [ 3.0046],\n",
       "        [ 3.0046],\n",
       "        [ 2.0056],\n",
       "        [ 3.0046],\n",
       "        [ 2.0056],\n",
       "        [ 3.0046],\n",
       "        [ 2.0056],\n",
       "        [ 3.0046],\n",
       "        [ 2.0056],\n",
       "        [ 3.0046],\n",
       "        [ 2.0056],\n",
       "        [ 2.0056],\n",
       "        [ 0.9799],\n",
       "        [ 2.0056],\n",
       "        [ 0.9799],\n",
       "        [ 2.0056],\n",
       "        [ 3.0046],\n",
       "        [ 2.0056],\n",
       "        [ 2.0056],\n",
       "        [ 0.9799],\n",
       "        [ 2.0056],\n",
       "        [ 3.0046],\n",
       "        [ 2.0056],\n",
       "        [ 3.0046],\n",
       "        [ 2.0056],\n",
       "        [ 3.0046],\n",
       "        [ 3.9842],\n",
       "        [ 3.0046],\n",
       "        [ 3.0046],\n",
       "        [ 2.0056],\n",
       "        [ 3.0046],\n",
       "        [ 2.0056],\n",
       "        [ 3.0046],\n",
       "        [ 2.0056],\n",
       "        [ 2.0056],\n",
       "        [ 0.9799],\n",
       "        [ 2.0056],\n",
       "        [ 3.0046],\n",
       "        [ 2.0056],\n",
       "        [ 3.0046],\n",
       "        [ 2.0056],\n",
       "        [ 2.0056],\n",
       "        [ 0.9799],\n",
       "        [ 2.0056],\n",
       "        [ 0.9799],\n",
       "        [ 2.0056],\n",
       "        [ 3.0046],\n",
       "        [ 2.0056],\n",
       "        [ 2.0056],\n",
       "        [ 0.9799],\n",
       "        [ 2.0056],\n",
       "        [ 0.9799],\n",
       "        [ 2.0056],\n",
       "        [ 0.9799],\n",
       "        [ 0.9799],\n",
       "        [-0.0308],\n",
       "        [ 0.9799],\n",
       "        [ 2.0056],\n",
       "        [ 0.9799],\n",
       "        [ 2.0056],\n",
       "        [ 0.9799],\n",
       "        [ 2.0056],\n",
       "        [ 3.0046],\n",
       "        [ 2.0056],\n",
       "        [ 2.0056],\n",
       "        [ 0.9799],\n",
       "        [ 2.0056],\n",
       "        [ 3.0046],\n",
       "        [ 2.0056],\n",
       "        [ 3.0046],\n",
       "        [ 2.0056],\n",
       "        [ 2.0056],\n",
       "        [ 0.9799],\n",
       "        [ 2.0056],\n",
       "        [ 0.9799],\n",
       "        [ 2.0056],\n",
       "        [ 3.0046],\n",
       "        [ 2.0056],\n",
       "        [ 3.0046],\n",
       "        [ 2.0056],\n",
       "        [ 3.0046],\n",
       "        [ 3.9842],\n",
       "        [ 3.0046],\n",
       "        [ 3.0046],\n",
       "        [ 2.0056],\n",
       "        [ 3.0046],\n",
       "        [ 2.0056],\n",
       "        [ 3.0046],\n",
       "        [ 2.0056],\n",
       "        [ 2.0056],\n",
       "        [ 0.9799],\n",
       "        [ 2.0056],\n",
       "        [ 3.0046],\n",
       "        [ 2.0056],\n",
       "        [ 3.0046],\n",
       "        [ 2.0056],\n",
       "        [ 3.0046],\n",
       "        [ 3.9842],\n",
       "        [ 3.0046],\n",
       "        [ 3.0046],\n",
       "        [ 2.0056],\n",
       "        [ 3.0046],\n",
       "        [ 3.9842],\n",
       "        [ 3.0046],\n",
       "        [ 3.9842],\n",
       "        [ 3.0046],\n",
       "        [ 3.0046],\n",
       "        [ 2.0056],\n",
       "        [ 3.0046],\n",
       "        [ 2.0056],\n",
       "        [ 3.0046],\n",
       "        [ 2.0056],\n",
       "        [ 3.0046],\n",
       "        [ 2.0056],\n",
       "        [ 2.0056],\n",
       "        [ 0.9799],\n",
       "        [ 2.0056],\n",
       "        [ 3.0046],\n",
       "        [ 2.0056],\n",
       "        [ 3.0046],\n",
       "        [ 2.0056],\n",
       "        [ 2.0056],\n",
       "        [ 0.9799],\n",
       "        [ 2.0056],\n",
       "        [ 0.9799],\n",
       "        [ 2.0056],\n",
       "        [ 3.0046],\n",
       "        [ 2.0056],\n",
       "        [ 3.0046],\n",
       "        [ 2.0056],\n",
       "        [ 3.0046],\n",
       "        [ 2.0056]], grad_fn=<AddBackward0>)"
      ]
     },
     "execution_count": 63,
     "metadata": {},
     "output_type": "execute_result"
    }
   ],
   "source": [
    "msr_model(ft_input)"
   ]
  },
  {
   "cell_type": "code",
   "execution_count": 90,
   "id": "a7d13c30",
   "metadata": {},
   "outputs": [
    {
     "name": "stdout",
     "output_type": "stream",
     "text": [
      "checkpoint directory created: ./model\n",
      "saving model version 0.0\n"
     ]
    },
    {
     "name": "stderr",
     "output_type": "stream",
     "text": [
      "| train_loss: 8.29e-03 | test_loss: 8.29e-03 | reg: 2.88e+00 | : 100%|█| 50/50 [00:04<00:00, 11.83it"
     ]
    },
    {
     "name": "stdout",
     "output_type": "stream",
     "text": [
      "saving model version 0.1\n"
     ]
    },
    {
     "name": "stderr",
     "output_type": "stream",
     "text": [
      "\n"
     ]
    }
   ],
   "source": [
    "mult_kan = kan.KAN(width=[10, [0, 1]])\n",
    "mult_kan.fit(msr_dataset, lamb=1e-3, steps=50);"
   ]
  },
  {
   "cell_type": "code",
   "execution_count": 91,
   "id": "7aab1162",
   "metadata": {},
   "outputs": [
    {
     "data": {
      "image/png": "[encoded data removed]",
      "text/plain": [
       "<Figure size 500x200 with 24 Axes>"
      ]
     },
     "metadata": {},
     "output_type": "display_data"
    }
   ],
   "source": [
    "mult_kan.plot()"
   ]
  },
  {
   "cell_type": "code",
   "execution_count": 92,
   "id": "d6ac7390",
   "metadata": {},
   "outputs": [
    {
     "data": {
      "image/png": "[encoded data removed]",
      "text/plain": [
       "<Figure size 300x300 with 1 Axes>"
      ]
     },
     "metadata": {},
     "output_type": "display_data"
    },
    {
     "data": {
      "image/png": "[encoded data removed]",
      "text/plain": [
       "<Figure size 300x300 with 1 Axes>"
      ]
     },
     "metadata": {},
     "output_type": "display_data"
    },
    {
     "data": {
      "image/png": "[encoded data removed]",
      "text/plain": [
       "<Figure size 300x300 with 1 Axes>"
      ]
     },
     "metadata": {},
     "output_type": "display_data"
    }
   ],
   "source": [
    "mult_kan.get_fun(0, 8, 0);\n",
    "mult_kan.get_fun(0, 8, 1);\n",
    "mult_kan.get_fun(0, 9, 0);"
   ]
  },
  {
   "cell_type": "code",
   "execution_count": 93,
   "id": "793a6fb9",
   "metadata": {},
   "outputs": [
    {
     "name": "stdout",
     "output_type": "stream",
     "text": [
      "r2 is 0.999954104423523\n",
      "saving model version 0.2\n",
      "r2 is 1.000001072883606\n",
      "saving model version 0.3\n"
     ]
    }
   ],
   "source": [
    "mult_kan.fix_symbolic(0, 8, 1, 'x');\n",
    "mult_kan.fix_symbolic(0, 9, 0, 'x');"
   ]
  },
  {
   "cell_type": "code",
   "execution_count": 94,
   "id": "9b701260",
   "metadata": {},
   "outputs": [
    {
     "name": "stderr",
     "output_type": "stream",
     "text": [
      "| train_loss: 7.02e-03 | test_loss: 7.02e-03 | reg: 7.76e-01 | : 100%|█| 20/20 [00:04<00:00,  4.52it"
     ]
    },
    {
     "name": "stdout",
     "output_type": "stream",
     "text": [
      "saving model version 0.4\n"
     ]
    },
    {
     "name": "stderr",
     "output_type": "stream",
     "text": [
      "\n"
     ]
    }
   ],
   "source": [
    "mult_kan.fit(msr_dataset, steps=20, lamb=1e-3);"
   ]
  },
  {
   "cell_type": "code",
   "execution_count": 95,
   "id": "0b3eb9e6",
   "metadata": {},
   "outputs": [
    {
     "data": {
      "image/png": "[encoded data removed]",
      "text/plain": [
       "<Figure size 500x200 with 24 Axes>"
      ]
     },
     "metadata": {},
     "output_type": "display_data"
    }
   ],
   "source": [
    "mult_kan.plot()"
   ]
  },
  {
   "cell_type": "code",
   "execution_count": 96,
   "id": "5f867f0f",
   "metadata": {},
   "outputs": [
    {
     "name": "stdout",
     "output_type": "stream",
     "text": [
      "     function  fitting r2    r2 loss  complexity  complexity loss  total loss\n",
      "0         x^2    1.000001 -16.698301           2                2  -11.088811\n",
      "1         1/x    1.000001 -16.698301           2                2  -11.088811\n",
      "2         exp    1.000001 -16.698301           2                2  -11.088811\n",
      "3         log    1.000001 -16.698301           2                2  -11.088811\n",
      "4     1/x^0.5    1.000000 -16.680128           2                2  -11.076089\n",
      "5   1/sqrt(x)    1.000000 -16.680128           2                2  -11.076089\n",
      "6         sin    1.000000 -16.662180           2                2  -11.063526\n",
      "7         cos    1.000000 -16.662180           2                2  -11.063526\n",
      "8         x^3    1.000001 -16.716706           3                3  -10.801694\n",
      "9         x^5    1.000001 -16.716706           3                3  -10.801694\n",
      "10        abs    1.000001 -16.698301           3                3  -10.788811\n",
      "11        tan    1.000001 -16.698301           3                3  -10.788811\n",
      "12        x^4    1.000001 -16.698301           3                3  -10.788811\n",
      "13      1/x^2    0.999997 -16.266834           2                2  -10.786784\n",
      "14       tanh    1.000000 -16.680128           3                3  -10.776089\n",
      "15   gaussian    1.000000 -16.662180           3                3  -10.763526\n",
      "16      1/x^3    1.000000 -16.609640           3                3  -10.726748\n",
      "17     arctan    1.000001 -16.698301           4                4  -10.488811\n",
      "18    arctanh    1.000000 -16.662180           4                4  -10.463526\n",
      "19      1/x^4    0.999995 -16.029767           4                4  -10.020837\n",
      "20      1/x^5    0.999969 -14.580520           5                5   -8.706364\n",
      "21      x^0.5    0.998025  -8.976645           2                2   -5.683652\n",
      "22       sqrt    0.998025  -8.976645           2                2   -5.683652\n",
      "23        sgn    0.998124  -9.050503           3                3   -5.435352\n",
      "24     arcsin    0.996708  -8.242538           4                4   -4.569776\n",
      "25     arccos    0.996708  -8.242434           4                4   -4.569704\n",
      "26      x^1.5    0.994855  -7.599825           4                4   -4.119877\n",
      "27          x    0.974104  -5.270586           1                1   -3.389410\n",
      "28          0    0.000000   0.000014           0                0    0.000010\n"
     ]
    }
   ],
   "source": [
    "mult_kan.suggest_symbolic(0, 8, 0, topk=30, weight_simple=0.3);"
   ]
  },
  {
   "cell_type": "code",
   "execution_count": 97,
   "id": "9536c38d",
   "metadata": {},
   "outputs": [
    {
     "name": "stdout",
     "output_type": "stream",
     "text": [
      "Best value at boundary.\n",
      "r2 is 0.9741042852401733\n",
      "saving model version 0.5\n"
     ]
    },
    {
     "name": "stderr",
     "output_type": "stream",
     "text": [
      "| train_loss: 5.60e-02 | test_loss: 5.60e-02 | reg: 3.16e+00 | : 100%|█| 20/20 [00:04<00:00,  4.47it"
     ]
    },
    {
     "name": "stdout",
     "output_type": "stream",
     "text": [
      "saving model version 0.6\n"
     ]
    },
    {
     "name": "stderr",
     "output_type": "stream",
     "text": [
      "\n"
     ]
    }
   ],
   "source": [
    "mult_kan.fix_symbolic(0, 8, 0, 'x');\n",
    "mult_kan.fit(msr_dataset, steps=20);"
   ]
  },
  {
   "cell_type": "code",
   "execution_count": 99,
   "id": "21097618",
   "metadata": {},
   "outputs": [
    {
     "data": {
      "text/latex": [
       "$\\displaystyle 1.0 \\left(0.238 - 1.125 x_{9}\\right) \\left(- 0.135 x_{10} + 0.138 x_{9} - 1.248\\right)$"
      ],
      "text/plain": [
       "1.0*(0.238 - 1.125*x_9)*(-0.135*x_10 + 0.138*x_9 - 1.248)"
      ]
     },
     "execution_count": 99,
     "metadata": {},
     "output_type": "execute_result"
    }
   ],
   "source": [
    "ku.ex_round(mult_kan.symbolic_formula()[0][0], 3)"
   ]
  },
  {
   "cell_type": "code",
   "execution_count": 105,
   "id": "06db7350",
   "metadata": {},
   "outputs": [
    {
     "data": {
      "text/latex": [
       "$\\displaystyle 0.152 x_{10} x_{9} - 0.032 x_{10} - 0.155 x_{9}^{2} + 1.437 x_{9} - 0.297$"
      ],
      "text/plain": [
       "0.152*x_10*x_9 - 0.032*x_10 - 0.155*x_9**2 + 1.437*x_9 - 0.297"
      ]
     },
     "execution_count": 105,
     "metadata": {},
     "output_type": "execute_result"
    }
   ],
   "source": [
    "ku.ex_round(mult_kan.symbolic_formula()[0][0].expand(), 3)"
   ]
  },
  {
   "cell_type": "code",
   "execution_count": null,
   "id": "8491a192",
   "metadata": {},
   "outputs": [],
   "source": [
    "# we should have 1/4 * (-A[N/2] + N)\n",
    "# translates to 1/4 * ((x9) * (x10 - pi/2) / (pi/2) + N)\n",
    "# = 0.159 x9x10 - 0.25 * x9 + 2.5"
   ]
  },
  {
   "cell_type": "code",
   "execution_count": 143,
   "id": "e6807f37",
   "metadata": {},
   "outputs": [
    {
     "name": "stdout",
     "output_type": "stream",
     "text": [
      "checkpoint directory created: ./model\n",
      "saving model version 0.0\n"
     ]
    },
    {
     "name": "stderr",
     "output_type": "stream",
     "text": [
      "description:   0%|                                                           | 0/50 [00:00<?, ?it/s]"
     ]
    },
    {
     "name": "stderr",
     "output_type": "stream",
     "text": [
      "| train_loss: 3.15e-03 | test_loss: 3.15e-03 | reg: 6.11e+00 | : 100%|█| 50/50 [00:05<00:00,  8.42it"
     ]
    },
    {
     "name": "stdout",
     "output_type": "stream",
     "text": [
      "saving model version 0.1\n"
     ]
    },
    {
     "name": "stderr",
     "output_type": "stream",
     "text": [
      "\n"
     ]
    }
   ],
   "source": [
    "sign_kan = kan.KAN(width=[10, 1, 1])\n",
    "sign_kan.fit(sign_dataset, steps=50, lamb=1e-3);"
   ]
  },
  {
   "cell_type": "code",
   "execution_count": 144,
   "id": "ccebc76a",
   "metadata": {},
   "outputs": [
    {
     "data": {
      "image/png": "[encoded data removed]",
      "text/plain": [
       "<Figure size 500x400 with 14 Axes>"
      ]
     },
     "metadata": {},
     "output_type": "display_data"
    }
   ],
   "source": [
    "sign_kan.plot()"
   ]
  },
  {
   "cell_type": "code",
   "execution_count": 145,
   "id": "f11a4eaa",
   "metadata": {},
   "outputs": [
    {
     "name": "stdout",
     "output_type": "stream",
     "text": [
      "  function  fitting r2    r2 loss  complexity  complexity loss  total loss\n",
      "0      sin    1.000001 -16.716706           2                2  -11.101694\n",
      "1      cos    1.000001 -16.716706           2                2  -11.101694\n",
      "2    1/x^2    1.000001 -16.698301           2                2  -11.088811\n",
      "3      exp    1.000001 -16.698301           2                2  -11.088811\n",
      "4    x^0.5    1.000000 -16.644454           2                2  -11.051118\n",
      "5     sqrt    1.000000 -16.644454           2                2  -11.051118\n",
      "6      log    0.999998 -16.294214           2                2  -10.805950\n",
      "7     tanh    1.000001 -16.716706           3                3  -10.801694\n",
      "8      x^5    1.000001 -16.698301           3                3  -10.788811\n",
      "9      abs    1.000001 -16.698301           3                3  -10.788811\n",
      "  function  fitting r2    r2 loss  complexity  complexity loss  total loss\n",
      "0        x    1.000001 -16.773374           1                1  -11.441362\n",
      "1      1/x    1.000001 -16.812429           2                2  -11.168700\n",
      "2    1/x^2    1.000001 -16.812429           2                2  -11.168700\n",
      "3      exp    1.000001 -16.812429           2                2  -11.168700\n",
      "4      sin    1.000001 -16.812429           2                2  -11.168700\n",
      "   function  fitting r2    r2 loss  complexity  complexity loss  total loss\n",
      "0       sin    1.000000 -16.626942           2                2  -11.038859\n",
      "1       cos    1.000000 -16.626942           2                2  -11.038859\n",
      "2       tan    0.999080 -10.070855           3                3   -6.149599\n",
      "3     1/x^2    0.982488  -5.834692           2                2   -3.484284\n",
      "4  gaussian    0.984286  -5.990867           3                3   -3.293607\n"
     ]
    }
   ],
   "source": [
    "sign_kan.suggest_symbolic(0, 8, 0, topk=10, weight_simple=0.3);\n",
    "sign_kan.suggest_symbolic(0, 9, 0, weight_simple=0.3);\n",
    "sign_kan.suggest_symbolic(1, 0, 0, weight_simple=0.3);"
   ]
  },
  {
   "cell_type": "code",
   "execution_count": 146,
   "id": "0cc5fa22",
   "metadata": {},
   "outputs": [
    {
     "name": "stdout",
     "output_type": "stream",
     "text": [
      "r2 is 1.0000001192092896\n",
      "saving model version 0.2\n",
      "r2 is 1.000001072883606\n",
      "saving model version 0.3\n",
      "r2 is 0.9998852610588074\n",
      "saving model version 0.4\n"
     ]
    }
   ],
   "source": [
    "sign_kan.fix_symbolic(1, 0, 0, 'cos');\n",
    "sign_kan.fix_symbolic(0, 9, 0, 'x');\n",
    "sign_kan.fix_symbolic(0, 8, 0, 'x');"
   ]
  },
  {
   "cell_type": "code",
   "execution_count": 147,
   "id": "8dc543cb",
   "metadata": {},
   "outputs": [
    {
     "name": "stderr",
     "output_type": "stream",
     "text": [
      "| train_loss: 2.45e-06 | test_loss: 2.45e-06 | reg: 4.71e-02 | : 100%|█| 20/20 [00:01<00:00, 13.50it"
     ]
    },
    {
     "name": "stdout",
     "output_type": "stream",
     "text": [
      "saving model version 0.5\n"
     ]
    },
    {
     "name": "stderr",
     "output_type": "stream",
     "text": [
      "\n"
     ]
    }
   ],
   "source": [
    "sign_kan.fit(sign_dataset, steps=20);"
   ]
  },
  {
   "cell_type": "code",
   "execution_count": 148,
   "id": "b8c11e38",
   "metadata": {},
   "outputs": [
    {
     "data": {
      "text/latex": [
       "$\\displaystyle 1.0 \\cos{\\left(1.0 x_{10} + 0.785 x_{9} + 1.579 \\right)}$"
      ],
      "text/plain": [
       "1.0*cos(1.0*x_10 + 0.785*x_9 + 1.579)"
      ]
     },
     "execution_count": 148,
     "metadata": {},
     "output_type": "execute_result"
    }
   ],
   "source": [
    "ku.ex_round(sign_kan.symbolic_formula()[0][0], 3)\n",
    "# this is pretty good, changing x10 from 0->pi flips sign, increasing x9 by 4 flips sign."
   ]
  },
  {
   "cell_type": "code",
   "execution_count": null,
   "id": "46fb3d12",
   "metadata": {},
   "outputs": [],
   "source": [
    "# same as -sin(x10 + x9 * pi/4)"
   ]
  },
  {
   "cell_type": "code",
   "execution_count": 152,
   "id": "4c253b7e",
   "metadata": {},
   "outputs": [
    {
     "data": {
      "text/latex": [
       "Quantum object: dims=[[2, 2, 2, 2, 2, 2, 2, 2, 2, 2, 2, 2], [1, 1, 1, 1, 1, 1, 1, 1, 1, 1, 1, 1]], shape=(4096, 1), type='ket', dtype=Dense$$\\left(\\begin{array}{cc}0\\\\3.478\\times10^{ -52 }\\\\-1.526\\times10^{ -17 }\\\\-1.833\\times10^{ -17 }\\\\-2.347\\times10^{ -17 }\\\\\\vdots\\\\-2.951\\times10^{ -52 }\\\\-5.532\\times10^{ -52 }\\\\7.243\\times10^{ -52 }\\\\1.941\\times10^{ -52 }\\\\0\\end{array}\\right)$$"
      ],
      "text/plain": [
       "Quantum object: dims=[[2, 2, 2, 2, 2, 2, 2, 2, 2, 2, 2, 2], [1, 1, 1, 1, 1, 1, 1, 1, 1, 1, 1, 1]], shape=(4096, 1), type='ket', dtype=Dense\n",
       "Qobj data =\n",
       "[[ 0.00000000e+00]\n",
       " [ 3.47816340e-52]\n",
       " [-1.52575097e-17]\n",
       " ...\n",
       " [ 7.24291764e-52]\n",
       " [ 1.94089486e-52]\n",
       " [ 0.00000000e+00]]"
      ]
     },
     "execution_count": 152,
     "metadata": {},
     "output_type": "execute_result"
    }
   ],
   "source": [
    "gs12 = qt.qload('../J1J2_info/N12/n12gs_J2_0.0')\n",
    "gs12"
   ]
  },
  {
   "cell_type": "code",
   "execution_count": null,
   "id": "42041714",
   "metadata": {},
   "outputs": [],
   "source": []
  }
 ],
 "metadata": {
  "kernelspec": {
   "display_name": "kans",
   "language": "python",
   "name": "python3"
  },
  "language_info": {
   "codemirror_mode": {
    "name": "ipython",
    "version": 3
   },
   "file_extension": ".py",
   "mimetype": "text/x-python",
   "name": "python",
   "nbconvert_exporter": "python",
   "pygments_lexer": "ipython3",
   "version": "3.12.5"
  }
 },
 "nbformat": 4,
 "nbformat_minor": 5
}
