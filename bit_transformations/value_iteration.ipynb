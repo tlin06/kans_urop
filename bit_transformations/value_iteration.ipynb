{
 "cells": [
  {
   "cell_type": "code",
   "execution_count": 1,
   "id": "e384ee03",
   "metadata": {},
   "outputs": [],
   "source": [
    "import kan\n",
    "import kan.utils as ku\n",
    "import numpy as np\n",
    "import torch.nn as nn\n",
    "import torch\n",
    "import qutip as qt\n",
    "import matplotlib.pyplot as plt\n",
    "from libraries import utils\n",
    "from libraries import magnetization\n",
    "from libraries import j1j2_functions"
   ]
  },
  {
   "cell_type": "code",
   "execution_count": 2,
   "id": "eb561063",
   "metadata": {},
   "outputs": [
    {
     "name": "stdout",
     "output_type": "stream",
     "text": [
      "0.495\n"
     ]
    }
   ],
   "source": [
    "N=12; J1=1\n",
    "J2s = np.linspace(0, 0.5 - 0.5/100, 100)\n",
    "print(J2s[-1])\n",
    "gss = [qt.qload(f'../J1J2_info/N{N}/n{N}gs_J2_{round(J2, 3)}') for J2 in J2s]\n",
    "states = utils.get_nonzero_states(N, gss[0], 1e-10)[0]\n",
    "signs = [utils.get_nonzero_states(N, gs, 1e-10)[1] for gs in gss]"
   ]
  },
  {
   "cell_type": "code",
   "execution_count": 3,
   "id": "ccd44df7",
   "metadata": {},
   "outputs": [
    {
     "name": "stdout",
     "output_type": "stream",
     "text": [
      "1365\n"
     ]
    }
   ],
   "source": [
    "nd = 0b010101010101 # this never deviates, let this be of negative sign cos(pi/4 * amplitude)\n",
    "index = states.index(nd)\n",
    "print(nd)\n",
    "for i in range(len(signs)):\n",
    "    if signs[i][index] > 0:\n",
    "        signs[i] = -1 * np.array(signs[i])\n",
    "    else:\n",
    "        signs[i] = np.array(signs[i])"
   ]
  },
  {
   "cell_type": "code",
   "execution_count": 4,
   "id": "6c848d64",
   "metadata": {},
   "outputs": [
    {
     "name": "stdout",
     "output_type": "stream",
     "text": [
      "torch.Size([924, 12])\n"
     ]
    },
    {
     "name": "stderr",
     "output_type": "stream",
     "text": [
      "C:\\Users\\taoha\\AppData\\Local\\Temp\\ipykernel_22520\\2939947991.py:2: DeprecationWarning: __array__ implementation doesn't accept a copy keyword, so passing copy=False failed. __array__ must implement 'dtype' and 'copy' keyword arguments.\n",
      "  x = (-1) ** np.array(x)\n"
     ]
    }
   ],
   "source": [
    "def rfft(x):\n",
    "    x = (-1) ** np.array(x)\n",
    "    return np.fft.rfft(x)[1:]\n",
    "\n",
    "input = utils.generate_input_samples(N, states)\n",
    "print(input.shape)\n",
    "ft_input = []\n",
    "for x in input:\n",
    "    amp_phase = []\n",
    "    ft = rfft(x)\n",
    "    for c in ft:\n",
    "        amp_phase.append(np.abs(c))\n",
    "        amp_phase.append(np.angle(c) % (2 * np.pi))\n",
    "    ft_input.append(amp_phase)\n",
    "ft_input = torch.tensor(ft_input)"
   ]
  },
  {
   "cell_type": "code",
   "execution_count": 5,
   "id": "38fd89f5",
   "metadata": {},
   "outputs": [],
   "source": [
    "msr_vec = torch.tensor([0] * (N - 2) + [np.pi / 4, 0]).reshape(-1, 1)"
   ]
  },
  {
   "cell_type": "code",
   "execution_count": 6,
   "id": "4ce93420",
   "metadata": {},
   "outputs": [],
   "source": [
    "def train(model, epochs, datarate, phase_num=0, lr=1, lamb=0, reg_metric='edge_forward_spline_n', lamb_l1=1., lamb_entropy=2., lamb_coef=0., lamb_coefdiff=0.):\n",
    "    opt = torch.optim.LBFGS(model.parameters(), lr = lr)\n",
    "    for i in range(epochs):\n",
    "        def closure():\n",
    "            opt.zero_grad()\n",
    "            pred = torch.cos(ft_input @ msr_vec + model(ft_input))\n",
    "            loss = torch.mean((pred - torch.tensor(signs[phase_num].reshape(-1, 1))) ** 2) + lamb * model.get_reg(reg_metric, lamb_l1, lamb_entropy, lamb_coef, lamb_coefdiff)\n",
    "            loss.backward()\n",
    "            return loss\n",
    "        loss = opt.step(closure)\n",
    "        if i % datarate == 0:\n",
    "            print(loss.item())\n",
    "    print(loss.item())"
   ]
  },
  {
   "cell_type": "code",
   "execution_count": 42,
   "id": "09e923de",
   "metadata": {},
   "outputs": [
    {
     "name": "stdout",
     "output_type": "stream",
     "text": [
      "checkpoint directory created: ./model\n",
      "saving model version 0.0\n"
     ]
    },
    {
     "data": {
      "image/png": "[encoded data removed]",
      "text/plain": [
       "<Figure size 500x200 with 14 Axes>"
      ]
     },
     "metadata": {},
     "output_type": "display_data"
    }
   ],
   "source": [
    "k0_lin = kan.KAN(width=[N, 1])\n",
    "k0_lin(ft_input)\n",
    "k0_lin.plot()"
   ]
  },
  {
   "cell_type": "code",
   "execution_count": null,
   "id": "31acdb2c",
   "metadata": {},
   "outputs": [
    {
     "name": "stdout",
     "output_type": "stream",
     "text": [
      "checkpoint directory created: ./model\n",
      "saving model version 0.0\n",
      "0.5602483153343201\n",
      "2.253390221085283e-06\n",
      "2.08201313967038e-08\n",
      "1.872878385711374e-08\n",
      "1.779035407878382e-08\n",
      "1.7567378662874944e-08\n",
      "1.7567378662874944e-08\n",
      "1.7567378662874944e-08\n",
      "1.7567378662874944e-08\n",
      "1.7567378662874944e-08\n",
      "1.7567378662874944e-08\n"
     ]
    }
   ],
   "source": [
    "k0_lin = kan.KAN(width=[N, 1])\n",
    "k0_lin(ft_input)\n",
    "for i in range(1, N, 2):\n",
    "    k0_lin.fix_symbolic(0, i, 0, '0', verbose=False, log_history=False)\n",
    "#for i in range(0, N, 1):\n",
    "#    k0_lin.fix_symbolic(0, i, 0, 'x', verbose=False, log_history=False);\n",
    "# train(k0_lin, 50, 5, phase_num=0, lamb=1e-3, lr=0.1)"
   ]
  },
  {
   "cell_type": "code",
   "execution_count": 39,
   "id": "0bb16d86",
   "metadata": {},
   "outputs": [
    {
     "data": {
      "image/png": "[encoded data removed]",
      "text/plain": [
       "<Figure size 500x200 with 14 Axes>"
      ]
     },
     "metadata": {},
     "output_type": "display_data"
    }
   ],
   "source": [
    "k0_lin.plot()"
   ]
  },
  {
   "cell_type": "code",
   "execution_count": 40,
   "id": "d17d9e6e",
   "metadata": {},
   "outputs": [
    {
     "data": {
      "text/latex": [
       "$\\displaystyle 0.006 x_{1} + 0.005 x_{11} - 0.001 x_{12} + 0.006 x_{3} + 0.007 x_{5} + 0.005 x_{7} + 0.005 x_{9} - 0.1$"
      ],
      "text/plain": [
       "0.006*x_1 + 0.005*x_11 - 0.e-3*x_12 + 0.006*x_3 + 0.007*x_5 + 0.005*x_7 + 0.005*x_9 - 0.1"
      ]
     },
     "execution_count": 40,
     "metadata": {},
     "output_type": "execute_result"
    }
   ],
   "source": [
    "ku.ex_round(k0_lin.symbolic_formula()[0][0], 3)"
   ]
  },
  {
   "cell_type": "code",
   "execution_count": 19,
   "id": "6be8ca41",
   "metadata": {},
   "outputs": [
    {
     "data": {
      "image/png": "[encoded data removed]",
      "text/plain": [
       "<Figure size 640x480 with 1 Axes>"
      ]
     },
     "metadata": {},
     "output_type": "display_data"
    }
   ],
   "source": [
    "pred = torch.cos(ft_input @ msr_vec + k0_lin(ft_input)) # this is just MSR rn\n",
    "errs = []\n",
    "for i in range(len(J2s)):\n",
    "    errs.append(torch.mean((pred - torch.tensor(signs[i].reshape(-1, 1))) ** 2).item())\n",
    "plt.plot(J2s, errs)\n",
    "plt.show() # okay so this is just the exact shape of number of deviating strings"
   ]
  },
  {
   "cell_type": "code",
   "execution_count": 20,
   "id": "67da7c17",
   "metadata": {},
   "outputs": [
    {
     "name": "stdout",
     "output_type": "stream",
     "text": [
      "0.05193044990301132\n",
      "0.026350300759077072\n",
      "0.020925117656588554\n",
      "0.020925089716911316\n",
      "0.020925089716911316\n",
      "0.020925089716911316\n",
      "0.020925089716911316\n",
      "0.020925089716911316\n",
      "0.020925089716911316\n",
      "0.020925089716911316\n",
      "0.020925089716911316\n"
     ]
    }
   ],
   "source": [
    "train(k0_lin, 50, 5, phase_num=30, lamb=0, lr=0.1)"
   ]
  },
  {
   "cell_type": "code",
   "execution_count": 21,
   "id": "6ec8b6d2",
   "metadata": {},
   "outputs": [
    {
     "data": {
      "text/plain": [
       "4.850307"
      ]
     },
     "execution_count": 21,
     "metadata": {},
     "output_type": "execute_result"
    }
   ],
   "source": [
    "0.020997 * 924 / 4 # 5 mistakes out of 12"
   ]
  },
  {
   "cell_type": "code",
   "execution_count": 26,
   "id": "b69dadf1",
   "metadata": {},
   "outputs": [
    {
     "data": {
      "text/plain": [
       "tensor(1., grad_fn=<DivBackward0>)"
      ]
     },
     "execution_count": 26,
     "metadata": {},
     "output_type": "execute_result"
    }
   ],
   "source": [
    "torch.mean((torch.sgn(torch.cos(ft_input @ msr_vec + k0_lin(ft_input))) - torch.tensor(signs[30].reshape(-1, 1))) ** 2) * 924/4"
   ]
  },
  {
   "cell_type": "code",
   "execution_count": 27,
   "id": "036be574",
   "metadata": {},
   "outputs": [
    {
     "data": {
      "text/plain": [
       "12"
      ]
     },
     "execution_count": 27,
     "metadata": {},
     "output_type": "execute_result"
    }
   ],
   "source": [
    "len(utils.find_sign_deviations(states, signs[30], signs[0]))"
   ]
  },
  {
   "cell_type": "code",
   "execution_count": 28,
   "id": "c058bbb1",
   "metadata": {},
   "outputs": [
    {
     "data": {
      "text/latex": [
       "$\\displaystyle - 0.06 x_{1} - 0.01 x_{10} + 0.08 x_{11} - 0.01 x_{2} + 0.15 x_{3} - 0.01 x_{4} + 0.12 x_{5} - 0.03 x_{6} + 0.14 x_{7} + 0.01 x_{8} + 0.18 x_{9} - 1.79$"
      ],
      "text/plain": [
       "-0.06*x_1 - 0.e-2*x_10 + 0.08*x_11 - 0.e-2*x_2 + 0.15*x_3 - 0.e-2*x_4 + 0.12*x_5 - 0.03*x_6 + 0.14*x_7 + 0.01*x_8 + 0.18*x_9 - 1.79"
      ]
     },
     "execution_count": 28,
     "metadata": {},
     "output_type": "execute_result"
    }
   ],
   "source": [
    "ku.ex_round(k0_lin.symbolic_formula()[0][0], 2)"
   ]
  },
  {
   "cell_type": "code",
   "execution_count": null,
   "id": "a8596c61",
   "metadata": {},
   "outputs": [
    {
     "data": {
      "text/plain": [
       "tensor(97., grad_fn=<DivBackward0>)"
      ]
     },
     "execution_count": 29,
     "metadata": {},
     "output_type": "execute_result"
    }
   ],
   "source": [
    "torch.mean((torch.sgn(torch.cos(ft_input @ msr_vec + k0_lin(ft_input))) - torch.tensor(signs[40].reshape(-1, 1))) ** 2) * 924/4\n",
    "# 97 mistakes when training on "
   ]
  },
  {
   "cell_type": "code",
   "execution_count": 14,
   "id": "27612a23",
   "metadata": {},
   "outputs": [
    {
     "name": "stdout",
     "output_type": "stream",
     "text": [
      "0.36763355135917664\n",
      "0.13672015070915222\n",
      "0.12445490807294846\n",
      "0.1244548112154007\n",
      "0.1244548112154007\n",
      "0.1244548112154007\n",
      "0.1244548112154007\n",
      "0.1244548112154007\n",
      "0.1244548112154007\n",
      "0.1244548112154007\n",
      "0.1244548112154007\n"
     ]
    }
   ],
   "source": [
    "train(k0_lin, 50, 5, phase_num=40, lamb=1e-3, lr=0.1)"
   ]
  },
  {
   "cell_type": "code",
   "execution_count": 15,
   "id": "fb0a7533",
   "metadata": {},
   "outputs": [
    {
     "data": {
      "text/latex": [
       "$\\displaystyle - 0.43 x_{1} + 0.03 x_{11} - 0.01 x_{3} + 0.05 x_{5} + 0.06 x_{7} + 0.18 x_{9} + 0.03$"
      ],
      "text/plain": [
       "-0.43*x_1 + 0.03*x_11 - 0.e-2*x_3 + 0.05*x_5 + 0.06*x_7 + 0.18*x_9 + 0.03"
      ]
     },
     "execution_count": 15,
     "metadata": {},
     "output_type": "execute_result"
    }
   ],
   "source": [
    "ku.ex_round(k0_lin.symbolic_formula()[0][0], 2)"
   ]
  },
  {
   "cell_type": "code",
   "execution_count": null,
   "id": "867b0028",
   "metadata": {},
   "outputs": [
    {
     "data": {
      "text/plain": [
       "28.7364"
      ]
     },
     "execution_count": 16,
     "metadata": {},
     "output_type": "execute_result"
    }
   ],
   "source": []
  },
  {
   "cell_type": "code",
   "execution_count": null,
   "id": "b6acac82",
   "metadata": {},
   "outputs": [],
   "source": []
  }
 ],
 "metadata": {
  "kernelspec": {
   "display_name": "kans",
   "language": "python",
   "name": "python3"
  },
  "language_info": {
   "codemirror_mode": {
    "name": "ipython",
    "version": 3
   },
   "file_extension": ".py",
   "mimetype": "text/x-python",
   "name": "python",
   "nbconvert_exporter": "python",
   "pygments_lexer": "ipython3",
   "version": "3.9.23"
  }
 },
 "nbformat": 4,
 "nbformat_minor": 5
}
