{
 "cells": [
  {
   "cell_type": "code",
   "execution_count": 1,
   "metadata": {},
   "outputs": [],
   "source": [
    "from libraries import lib\n",
    "import torch\n",
    "import torch.nn as nn\n",
    "import matplotlib.pyplot as plt\n",
    "import numpy as np\n",
    "from libraries.NeuralStates import *"
   ]
  },
  {
   "cell_type": "code",
   "execution_count": 2,
   "metadata": {},
   "outputs": [],
   "source": [
    "def log_amp_phase(nn_output):\n",
    "    return torch.exp(nn_output[:, 0] + 1.j * nn_output[:, 1])\n",
    "def bitflip_x(x, N, flips):\n",
    "    new_x = x\n",
    "    for _ in range(flips):\n",
    "        new_x = x ^ (1 << npr.randint(0, N))\n",
    "    return new_x"
   ]
  },
  {
   "cell_type": "code",
   "execution_count": 3,
   "metadata": {},
   "outputs": [],
   "source": [
    "def set_gradients(sampled_vector: MHNeuralState, N, J, Gamma, model: nn.Sequential): # also only for log(amp), phase\n",
    "    nn_output_calcs = {}\n",
    "    def model_to_output(x):\n",
    "        if x in sampled_vector.nn_output:\n",
    "            return sampled_vector.nn_output[x]\n",
    "        if x in nn_output_calcs:\n",
    "            return nn_output_calcs[x]\n",
    "        tens = torch.tensor([lib.generate_state_array(x, N)], dtype = torch.float32)\n",
    "        output = model(tens)[0]\n",
    "        nn_output_calcs[x] = output\n",
    "        return output\n",
    "    def output_to_log(x):\n",
    "        return x[0] + 1.j * x[1]\n",
    "\n",
    "    elocs = {}\n",
    "    re_grad_logs = {}\n",
    "    im_grad_logs = {}\n",
    "    params = [p for p in model.parameters()]\n",
    "    for basis_state in sampled_vector.distribution:\n",
    "        eloc = 0\n",
    "        nn_output = sampled_vector.nn_output[basis_state]\n",
    "        for adjacency in lib.generate_adjacencies(basis_state, N):\n",
    "            nn_output_prime = model_to_output(adjacency)\n",
    "            eloc += lib.calc_H_elem(N, J, Gamma, basis_state, adjacency) * torch.exp(output_to_log(nn_output_prime) - output_to_log(nn_output))\n",
    "        elocs[basis_state] = eloc.detach()\n",
    "        \n",
    "        nn_output[0].backward(retain_graph=True)\n",
    "        real_grads = [p.grad.clone() for p in params]\n",
    "        for p in params: p.grad = None\n",
    "        nn_output[1].backward(retain_graph=True)\n",
    "        imag_grads = [-p.grad.clone() for p in params]\n",
    "        re_grad_logs[basis_state] = real_grads\n",
    "        im_grad_logs[basis_state] = imag_grads\n",
    "\n",
    "    E_eloc = (sum(sampled_vector.distribution[x] * elocs[x] for x in sampled_vector.distribution) / sampled_vector.samples).real\n",
    "\n",
    "    for i in range(len(params)):\n",
    "        E_grad_times_loc = sum((re_grad_logs[x][i] * elocs[x].real - im_grad_logs[x][i] * elocs[x].imag) * \\\n",
    "                               sampled_vector.distribution[x] for x in sampled_vector.distribution) / sampled_vector.samples\n",
    "        E_grad = sum(re_grad_logs[x][i] * sampled_vector.distribution[x] for x in sampled_vector.distribution) / sampled_vector.samples\n",
    "        params[i].grad = E_grad_times_loc - E_grad * E_eloc\n",
    "\n",
    "    return E_eloc\n",
    "\n",
    "def set_gradients_exact(sampled_vector: MHNeuralState, N, J, Gamma, model: nn.Sequential): # also only for log(amp), phase\n",
    "    nn_output_calcs = {}\n",
    "    def model_to_output(x):\n",
    "        if x in sampled_vector.nn_output:\n",
    "            return sampled_vector.nn_output[x]\n",
    "        if x in nn_output_calcs:\n",
    "            return nn_output_calcs[x]\n",
    "        tens = torch.tensor([lib.generate_state_array(x, N)], dtype = torch.float32)\n",
    "        output = model(tens)[0]\n",
    "        nn_output_calcs[x] = output\n",
    "        return output\n",
    "    def output_to_log(x):\n",
    "        return x[0] + 1.j * x[1]\n",
    "\n",
    "    elocs = {}\n",
    "    re_grad_logs = {}\n",
    "    im_grad_logs = {}\n",
    "    amp = 0\n",
    "    params = [p for p in model.parameters()]\n",
    "    for basis_state in sampled_vector.values:\n",
    "        eloc = 0\n",
    "        nn_output = sampled_vector.nn_output[basis_state]\n",
    "        for adjacency in lib.generate_adjacencies(basis_state, N):\n",
    "            nn_output_prime = model_to_output(adjacency)\n",
    "            eloc += lib.calc_H_elem(N, J, Gamma, basis_state, adjacency) * torch.exp(output_to_log(nn_output_prime) - output_to_log(nn_output))\n",
    "        elocs[basis_state] = eloc.detach()\n",
    "        \n",
    "        nn_output[0].backward(retain_graph=True)\n",
    "        real_grads = [p.grad.clone() for p in params]\n",
    "        for p in params: p.grad = None\n",
    "        nn_output[1].backward(retain_graph=True)\n",
    "        imag_grads = [-p.grad.clone() for p in params]\n",
    "        re_grad_logs[basis_state] = real_grads\n",
    "        im_grad_logs[basis_state] = imag_grads\n",
    "\n",
    "        amp += abs(sampled_vector.values[basis_state]) ** 2\n",
    "\n",
    "    E_eloc = (sum(abs(sampled_vector.values[x])** 2 * elocs[x] for x in sampled_vector.values) / amp).real\n",
    "\n",
    "    for i in range(len(params)):\n",
    "        E_grad_times_loc = sum((re_grad_logs[x][i] * elocs[x].real - im_grad_logs[x][i] * elocs[x].imag) * \\\n",
    "                                abs(sampled_vector.values[x]) ** 2 for x in sampled_vector.values) / amp\n",
    "        E_grad = sum(re_grad_logs[x][i] * abs(sampled_vector.values[x]) ** 2 for x in sampled_vector.values) / amp\n",
    "        params[i].grad = E_grad_times_loc - E_grad * E_eloc\n",
    "\n",
    "    return E_eloc\n",
    "\n",
    "def update_gradients(model, lr):\n",
    "    with torch.no_grad():\n",
    "        for p in model.parameters():\n",
    "            p -= lr * p.grad \n"
   ]
  },
  {
   "cell_type": "code",
   "execution_count": 26,
   "metadata": {},
   "outputs": [
    {
     "name": "stdout",
     "output_type": "stream",
     "text": [
      "-50.94267411425691\n"
     ]
    }
   ],
   "source": [
    "N=40; J=1; Gamma=1\n",
    "true_gse = lib.ground_state_energy(Gamma, N)\n",
    "print(true_gse)"
   ]
  },
  {
   "cell_type": "code",
   "execution_count": 52,
   "metadata": {},
   "outputs": [],
   "source": [
    "num_epochs = 100\n",
    "data_rate = 1\n",
    "num_samples = 2048"
   ]
  },
  {
   "cell_type": "code",
   "execution_count": 53,
   "metadata": {},
   "outputs": [],
   "source": [
    "layers = []\n",
    "layers.append(nn.Linear(N, 32))\n",
    "for _ in range(2):\n",
    "    layers.append(nn.Linear(32, 32))\n",
    "    layers.append(nn.SELU())\n",
    "layers.append(nn.Linear(32, 2))\n",
    "model = nn.Sequential(*layers)"
   ]
  },
  {
   "cell_type": "code",
   "execution_count": 54,
   "metadata": {},
   "outputs": [
    {
     "name": "stdout",
     "output_type": "stream",
     "text": [
      "0 tensor(-41.0038, grad_fn=<SelectBackward0>)\n",
      "1 tensor(-41.3905, grad_fn=<SelectBackward0>)\n",
      "2 tensor(-41.0269, grad_fn=<SelectBackward0>)\n",
      "3 tensor(-38.5748, grad_fn=<SelectBackward0>)\n",
      "4 tensor(-40.0993, grad_fn=<SelectBackward0>)\n",
      "5 tensor(-40.1064, grad_fn=<SelectBackward0>)\n",
      "6 tensor(-43.6500, grad_fn=<SelectBackward0>)\n",
      "7 tensor(-28.7126, grad_fn=<SelectBackward0>)\n",
      "8 tensor(nan, grad_fn=<SelectBackward0>)\n",
      "9 tensor(nan, grad_fn=<SelectBackward0>)\n",
      "10 tensor(nan, grad_fn=<SelectBackward0>)\n",
      "11 tensor(nan, grad_fn=<SelectBackward0>)\n",
      "12 tensor(nan, grad_fn=<SelectBackward0>)\n",
      "13 tensor(nan, grad_fn=<SelectBackward0>)\n",
      "14 tensor(nan, grad_fn=<SelectBackward0>)\n",
      "15 tensor(nan, grad_fn=<SelectBackward0>)\n",
      "16 tensor(nan, grad_fn=<SelectBackward0>)\n",
      "17 tensor(nan, grad_fn=<SelectBackward0>)\n",
      "18 tensor(nan, grad_fn=<SelectBackward0>)\n",
      "19 tensor(nan, grad_fn=<SelectBackward0>)\n",
      "20 tensor(nan, grad_fn=<SelectBackward0>)\n",
      "21 tensor(nan, grad_fn=<SelectBackward0>)\n",
      "22 tensor(nan, grad_fn=<SelectBackward0>)\n",
      "23 tensor(nan, grad_fn=<SelectBackward0>)\n",
      "24 tensor(nan, grad_fn=<SelectBackward0>)\n",
      "25 tensor(nan, grad_fn=<SelectBackward0>)\n",
      "26 tensor(nan, grad_fn=<SelectBackward0>)\n",
      "27 tensor(nan, grad_fn=<SelectBackward0>)\n",
      "28 tensor(nan, grad_fn=<SelectBackward0>)\n",
      "29 tensor(nan, grad_fn=<SelectBackward0>)\n",
      "30 tensor(nan, grad_fn=<SelectBackward0>)\n"
     ]
    },
    {
     "ename": "KeyboardInterrupt",
     "evalue": "",
     "output_type": "error",
     "traceback": [
      "\u001b[1;31m---------------------------------------------------------------------------\u001b[0m",
      "\u001b[1;31mKeyboardInterrupt\u001b[0m                         Traceback (most recent call last)",
      "Cell \u001b[1;32mIn[54], line 8\u001b[0m\n\u001b[0;32m      6\u001b[0m optimizer\u001b[38;5;241m.\u001b[39mzero_grad()\n\u001b[0;32m      7\u001b[0m \u001b[38;5;66;03m# energy = set_gradients(mh_state, N, J, Gamma, model)\u001b[39;00m\n\u001b[1;32m----> 8\u001b[0m energy \u001b[38;5;241m=\u001b[39m \u001b[43mset_gradients_exact\u001b[49m\u001b[43m(\u001b[49m\u001b[43mmh_state\u001b[49m\u001b[43m,\u001b[49m\u001b[43m \u001b[49m\u001b[43mN\u001b[49m\u001b[43m,\u001b[49m\u001b[43m \u001b[49m\u001b[43mJ\u001b[49m\u001b[43m,\u001b[49m\u001b[43m \u001b[49m\u001b[43mGamma\u001b[49m\u001b[43m,\u001b[49m\u001b[43m \u001b[49m\u001b[43mmodel\u001b[49m\u001b[43m)\u001b[49m\n\u001b[0;32m      9\u001b[0m optimizer\u001b[38;5;241m.\u001b[39mstep()\n\u001b[0;32m     10\u001b[0m \u001b[38;5;28;01mif\u001b[39;00m epoch \u001b[38;5;241m%\u001b[39m data_rate \u001b[38;5;241m==\u001b[39m \u001b[38;5;241m0\u001b[39m:\n",
      "Cell \u001b[1;32mIn[3], line 67\u001b[0m, in \u001b[0;36mset_gradients_exact\u001b[1;34m(sampled_vector, N, J, Gamma, model)\u001b[0m\n\u001b[0;32m     65\u001b[0m eloc \u001b[38;5;241m=\u001b[39m \u001b[38;5;241m0\u001b[39m\n\u001b[0;32m     66\u001b[0m nn_output \u001b[38;5;241m=\u001b[39m sampled_vector\u001b[38;5;241m.\u001b[39mnn_output[basis_state]\n\u001b[1;32m---> 67\u001b[0m \u001b[38;5;28;01mfor\u001b[39;00m adjacency \u001b[38;5;129;01min\u001b[39;00m \u001b[43mlib\u001b[49m\u001b[38;5;241;43m.\u001b[39;49m\u001b[43mgenerate_adjacencies\u001b[49m\u001b[43m(\u001b[49m\u001b[43mbasis_state\u001b[49m\u001b[43m,\u001b[49m\u001b[43m \u001b[49m\u001b[43mN\u001b[49m\u001b[43m)\u001b[49m:\n\u001b[0;32m     68\u001b[0m     nn_output_prime \u001b[38;5;241m=\u001b[39m model_to_output(adjacency)\n\u001b[0;32m     69\u001b[0m     eloc \u001b[38;5;241m+\u001b[39m\u001b[38;5;241m=\u001b[39m lib\u001b[38;5;241m.\u001b[39mcalc_H_elem(N, J, Gamma, basis_state, adjacency) \u001b[38;5;241m*\u001b[39m torch\u001b[38;5;241m.\u001b[39mexp(output_to_log(nn_output_prime) \u001b[38;5;241m-\u001b[39m output_to_log(nn_output))\n",
      "File \u001b[1;32mc:\\Users\\taoha\\anaconda3\\envs\\kans\\Lib\\site-packages\\libraries\\lib.py:54\u001b[0m, in \u001b[0;36mgenerate_adjacencies\u001b[1;34m(state, N)\u001b[0m\n\u001b[0;32m     51\u001b[0m \u001b[38;5;28;01mdef\u001b[39;00m \u001b[38;5;21menergy_single_p_mode\u001b[39m(h_t, P):\n\u001b[0;32m     52\u001b[0m     \u001b[38;5;28;01mreturn\u001b[39;00m np\u001b[38;5;241m.\u001b[39msqrt(\u001b[38;5;241m1\u001b[39m \u001b[38;5;241m+\u001b[39m h_t\u001b[38;5;241m*\u001b[39m\u001b[38;5;241m*\u001b[39m\u001b[38;5;241m2\u001b[39m \u001b[38;5;241m-\u001b[39m \u001b[38;5;241m2\u001b[39m \u001b[38;5;241m*\u001b[39m h_t \u001b[38;5;241m*\u001b[39m np\u001b[38;5;241m.\u001b[39mcos(P))\n\u001b[1;32m---> 54\u001b[0m \u001b[38;5;28;01mdef\u001b[39;00m \u001b[38;5;21mgenerate_adjacencies\u001b[39m(state, N):\n\u001b[0;32m     55\u001b[0m     adjacents \u001b[38;5;241m=\u001b[39m []\n\u001b[0;32m     56\u001b[0m     \u001b[38;5;28;01mfor\u001b[39;00m i \u001b[38;5;129;01min\u001b[39;00m \u001b[38;5;28mrange\u001b[39m(\u001b[38;5;241m0\u001b[39m, N):\n",
      "\u001b[1;31mKeyboardInterrupt\u001b[0m: "
     ]
    }
   ],
   "source": [
    "epochs = []\n",
    "energy_data = []\n",
    "optimizer = torch.optim.SGD(model.parameters(), lr = 0.2)\n",
    "for epoch in range(num_epochs):\n",
    "    mh_state = MHNeuralState(N, model, log_amp_phase, lambda x: bitflip_x(x, N, 1), 2 ** (N - 1), num_samples)\n",
    "    optimizer.zero_grad()\n",
    "    # energy = set_gradients(mh_state, N, J, Gamma, model)\n",
    "    energy = set_gradients_exact(mh_state, N, J, Gamma, model)\n",
    "    optimizer.step()\n",
    "    if epoch % data_rate == 0:\n",
    "        energy_data.append(energy.item().real)\n",
    "        epochs.append(epoch)\n",
    "    if epoch % 1 == 0:\n",
    "        print(epoch, energy)\n",
    "print(energy_data[-1])\n",
    "print(min(energy_data))"
   ]
  },
  {
   "cell_type": "code",
   "execution_count": 48,
   "metadata": {},
   "outputs": [
    {
     "data": {
      "image/png": "[encoded data removed]",
      "text/plain": [
       "<Figure size 640x480 with 1 Axes>"
      ]
     },
     "metadata": {},
     "output_type": "display_data"
    }
   ],
   "source": [
    "plt.plot(epochs, energy_data)\n",
    "plt.plot([0, epochs[-1]], 2*[true_gse], label = 'true')\n",
    "plt.legend(loc='best')\n",
    "plt.title(f'training loss with N={N}, h={Gamma}, {num_samples} samples, SGD')\n",
    "plt.show()"
   ]
  },
  {
   "cell_type": "code",
   "execution_count": 49,
   "metadata": {},
   "outputs": [
    {
     "data": {
      "image/png": "[encoded data removed]",
      "text/plain": [
       "<Figure size 640x480 with 1 Axes>"
      ]
     },
     "metadata": {},
     "output_type": "display_data"
    }
   ],
   "source": [
    "err = (np.array(energy_data) - true_gse) ** 2\n",
    "plt.plot(epochs, err)\n",
    "plt.title(f'training error with N={N}, h={Gamma}, {num_samples} samples, SGD')\n",
    "plt.yscale('log')\n",
    "plt.show()"
   ]
  },
  {
   "cell_type": "code",
   "execution_count": null,
   "metadata": {},
   "outputs": [],
   "source": []
  }
 ],
 "metadata": {
  "kernelspec": {
   "display_name": "kans",
   "language": "python",
   "name": "python3"
  },
  "language_info": {
   "codemirror_mode": {
    "name": "ipython",
    "version": 3
   },
   "file_extension": ".py",
   "mimetype": "text/x-python",
   "name": "python",
   "nbconvert_exporter": "python",
   "pygments_lexer": "ipython3",
   "version": "3.12.5"
  }
 },
 "nbformat": 4,
 "nbformat_minor": 2
}
