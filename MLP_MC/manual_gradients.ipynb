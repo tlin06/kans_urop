{
 "cells": [
  {
   "cell_type": "code",
   "execution_count": 1,
   "metadata": {},
   "outputs": [],
   "source": [
    "from libraries import lib\n",
    "import torch\n",
    "import torch.nn as nn\n",
    "import matplotlib.pyplot as plt\n",
    "import numpy as np\n",
    "from libraries.NeuralStates import *"
   ]
  },
  {
   "cell_type": "code",
   "execution_count": null,
   "metadata": {},
   "outputs": [],
   "source": [
    "# import numpy.random as npr\n",
    "# import random\n",
    "\n",
    "# class SparseStateVector:\n",
    "#     \"\"\"\n",
    "#     Container class for dictionary (self.values) with keys of integer states\n",
    "#     and values being complex amplitude of psi\n",
    "#     \"\"\"\n",
    "#     def __init__(self):\n",
    "#         self.values = {}\n",
    "#         self.normalized = False\n",
    "\n",
    "#     def TFIM_multiply(psi, N, J, Gamma):\n",
    "#         \"\"\"\n",
    "#         Returns new sparse vector representing H|psi>\n",
    "#         \"\"\"\n",
    "#         prod = SparseStateVector()\n",
    "#         for state in psi.values:\n",
    "#             jtotal = 0\n",
    "#             for site in range(N - 1):\n",
    "#                 jtotal += J if ((state >> site) ^ (state >> site + 1)) & 1 else -J\n",
    "#             jtotal += J if ((state >> (N - 1)) ^ (state >> 0)) & 1 else -J \n",
    "#             prod.values[state] = jtotal * psi.values[state]\n",
    "        \n",
    "#         for state in psi.values:\n",
    "#             for site in range(N):\n",
    "#                 flipped_state = state ^ (1 << site)\n",
    "#                 prod.values[flipped_state] = prod.values.get(flipped_state, 0) - Gamma * psi.values[state]\n",
    "#         return prod\n",
    "\n",
    "#     def inner_product(v1, v2):\n",
    "#         \"\"\"\n",
    "#         Returns <v1|v2> for two SparseStateVectors\n",
    "#         \"\"\"\n",
    "#         prod = 0\n",
    "#         for s in v1.values:\n",
    "#             if s in v2.values:\n",
    "#                 prod += torch.conj(v1.values[s]) * v2.values[s]\n",
    "#         return prod\n",
    "\n",
    "#     def TFIM_expectation_from_sparse(psi, N, J, Gamma):\n",
    "#         \"\"\"\n",
    "#         Returns <psi|H|psi>/<psi|psi> for SparseStateVector psi\n",
    "#         \"\"\"\n",
    "#         # do H|psi> then <psi| (H|psi>)\n",
    "#         hpsi = SparseStateVector.TFIM_multiply(psi, N, J, Gamma)\n",
    "#         exp = SparseStateVector.inner_product(psi, hpsi)\n",
    "#         if not psi.normalized:\n",
    "#             mag2 = SparseStateVector.inner_product(psi, psi)\n",
    "#             return (exp / mag2).real\n",
    "#         return exp.real\n",
    "\n",
    "#     def normalize(self):\n",
    "#         \"\"\"\n",
    "#         Normalizes values\n",
    "#         \"\"\"\n",
    "#         mag = sum(abs(self.values[s]) ** 2 for s in self.values) ** 0.5\n",
    "#         for s in self.values:\n",
    "#             self.values[s] = self.values[s] / mag\n",
    "#         self.normalized = True\n",
    "\n",
    "#     def to_prob_distribution(self, N):\n",
    "#         \"\"\"\n",
    "#         Returns 1D list representing real probability distribution\n",
    "#         \"\"\"\n",
    "#         if not self.normalized:\n",
    "#             mag2 = sum(abs(self.values[s]) ** 2 for s in self.values)\n",
    "#             return [(abs(self.values.get(s, 0)) ** 2 / mag2).item() for s in range(0, 2 ** N)]\n",
    "#         return [abs(self.values.get(s, 0)) ** 2 for s in range(0, 2 ** N)]\n",
    "    \n",
    "#     def to_dense_vector(self, N):\n",
    "#         \"\"\"\n",
    "#         Returns 1D list of dense representation\n",
    "#         \"\"\"\n",
    "#         if not self.normalized:\n",
    "#             mag = sum(abs(self.values[s]) ** 2 for s in self.values) ** 0.5\n",
    "#             return [(self.values.get(s, 0) / mag).item() for s in range(0, 2 ** N)]\n",
    "#         return [self.values.get(s, 0).item() for s in range(0, 2 ** N)]\n",
    "\n",
    "# class UniformNeuralState(SparseStateVector):\n",
    "#     def __init__(self, N, model, output_to_psi, num_samples):\n",
    "#         \"\"\"\n",
    "#         Initializes sparse vector values\n",
    "\n",
    "#         Args:\n",
    "#             N (int): number of qubits\n",
    "#             model: torch model representing psi(x), which returns complex amplitude given integer state\n",
    "#             output_to_psi (function): takes in output of model to compute complex amplitude\n",
    "#             num_samples (int): number of unique integer samples to take\n",
    "#             informed (bool): whether to guarantee sample first and last states\n",
    "#         \"\"\"\n",
    "#         super().__init__()\n",
    "#         self.samples = num_samples\n",
    "#         self.distribution = {}\n",
    "#         self.list = []\n",
    "#         self.nn_output = {}\n",
    "#         def psi(x):\n",
    "#             tens = torch.tensor([lib.generate_state_array(x, N)], dtype = torch.float32)\n",
    "#             nn_output = model(tens)\n",
    "#             return output_to_psi(nn_output)[0], nn_output[0]\n",
    "#         if num_samples >= 2 ** N:\n",
    "#             for state in range(2 ** N):\n",
    "#                 self.distribution[state] = 1\n",
    "#                 self.list.append(state)\n",
    "#                 self.values[state], self.nn_output[state] = psi(state)\n",
    "#         else:\n",
    "#             sampled_states = set()\n",
    "#             for _ in range(num_samples):\n",
    "#                 x = random.getrandbits(N)\n",
    "#                 while x in sampled_states:\n",
    "#                     x = random.getrandbits(N)\n",
    "#                 sampled_states.add(x)\n",
    "#                 self.distribution[x] = self.distribution.get(x, 0) + 1\n",
    "#                 self.list.append(x)\n",
    "#             for state in sampled_states:\n",
    "#                 self.values[state], self.nn_output[state] = psi(state)\n",
    "\n",
    "# class MHNeuralState(SparseStateVector):\n",
    "#     def __init__(self, N, model, output_to_psi, x_func, x0, num_samples, burnin = 0, lag = 0):\n",
    "#         \"\"\"\n",
    "#         Initializes distribution of samples and vector values\n",
    "\n",
    "#         Args:\n",
    "#             N (int): number of qubits\n",
    "#             model: torch model representing psi(x), which returns complex amplitude given integer state\n",
    "#             output_to_psi (function): takes in output of model to compute complex amplitude\n",
    "#             x_func (function): takes in state x and generates proposal x*\n",
    "#             x0 (int): intger state to begin sampling\n",
    "#             num_samples (int): number of proposal x* generated\n",
    "#             burnin (int): number of samples to throw away before accepting first sample\n",
    "#             lag (int): number of samples to throw away in-between accepting samples\n",
    "#             informed (bool): whether to guarantee sample first and last states\n",
    "#         \"\"\"\n",
    "#         # uses arbitrary x_func for MH sampling\n",
    "#         super().__init__()\n",
    "#         self.distribution = {}\n",
    "#         self.list = []\n",
    "#         self.nn_output = {}\n",
    "#         self.samples = num_samples\n",
    "#         def psi(x):\n",
    "#             tens = torch.tensor([lib.generate_state_array(x, N)], dtype = torch.float32)\n",
    "#             nn_output = model(tens)\n",
    "#             return output_to_psi(nn_output)[0], nn_output[0]\n",
    "#         num_uniform = burnin + num_samples * (lag + 1)\n",
    "#         rand_uniform = npr.uniform(0, 1, num_uniform)\n",
    "#         index = 0\n",
    "\n",
    "#         x = x0\n",
    "#         psi_val, nn_val = psi(x)\n",
    "#         self.values[x] = psi_val\n",
    "#         self.nn_output[x] = nn_val\n",
    "#         for _ in range(burnin):\n",
    "#             new_x = x_func(x)\n",
    "#             new_psi_val = self.values[new_x] if new_x in self.values else psi(new_x)[0]\n",
    "#             ratio = abs(new_psi_val) ** 2 / abs(psi_val) ** 2\n",
    "#             if ratio > 1 or ratio > rand_uniform[index]:\n",
    "#                 x = new_x\n",
    "#                 psi_val = new_psi_val\n",
    "#             index += 1\n",
    "#         for _ in range(num_samples):\n",
    "#             for _ in range(lag):\n",
    "#                 new_x = x_func(x)\n",
    "#                 new_psi_val = self.values[new_x] if new_x in self.values else psi(new_x)[0]\n",
    "#                 ratio = abs(new_psi_val) ** 2 / abs(psi_val) ** 2\n",
    "#                 if ratio > 1 or ratio > rand_uniform[index]:\n",
    "#                     x = new_x\n",
    "#                     psi_val = new_psi_val\n",
    "#                 index += 1\n",
    "#             new_x = x_func(x)\n",
    "#             if new_x in self.values: new_psi_val, new_nn_val = self.values[new_x], self.nn_output[new_x]\n",
    "#             else: new_psi_val, new_nn_val = psi(new_x)\n",
    "#             ratio = abs(new_psi_val) ** 2 / abs(psi_val) ** 2\n",
    "#             if ratio > 1 or ratio > rand_uniform[index]:\n",
    "#                 self.distribution[new_x] = self.distribution.get(new_x, 0) + 1\n",
    "#                 self.list.append(new_x)\n",
    "#                 x = new_x \n",
    "#                 psi_val = new_psi_val \n",
    "#             else: \n",
    "#                 self.distribution[x] = self.distribution.get(x, 0) + 1\n",
    "#                 self.list.append(x)\n",
    "#             self.values[new_x] = new_psi_val\n",
    "#             self.nn_output[new_x] = new_nn_val\n",
    "#             index += 1"
   ]
  },
  {
   "cell_type": "code",
   "execution_count": 2,
   "metadata": {},
   "outputs": [],
   "source": [
    "def log_amp_phase(nn_output):\n",
    "    return torch.exp(nn_output[:, 0] + 1.j * nn_output[:, 1])\n",
    "def bitflip_x(x, N, flips):\n",
    "    new_x = x\n",
    "    for _ in range(flips):\n",
    "        new_x = x ^ (1 << npr.randint(0, N))\n",
    "    return new_x"
   ]
  },
  {
   "cell_type": "code",
   "execution_count": 3,
   "metadata": {},
   "outputs": [],
   "source": [
    "N = 2; J = 1; Gamma = 0.1"
   ]
  },
  {
   "cell_type": "code",
   "execution_count": 4,
   "metadata": {},
   "outputs": [],
   "source": [
    "model = nn.Sequential(nn.Linear(N, N), nn.SELU(), nn.Linear(N, 2))"
   ]
  },
  {
   "cell_type": "code",
   "execution_count": 5,
   "metadata": {},
   "outputs": [
    {
     "name": "stdout",
     "output_type": "stream",
     "text": [
      "[Parameter containing:\n",
      "tensor([[-0.1903, -0.4787],\n",
      "        [ 0.3572, -0.3497]], requires_grad=True), Parameter containing:\n",
      "tensor([-0.2808, -0.0781], requires_grad=True), Parameter containing:\n",
      "tensor([[-0.5544, -0.0693],\n",
      "        [ 0.1577, -0.3472]], requires_grad=True), Parameter containing:\n",
      "tensor([ 0.2125, -0.4703], requires_grad=True)]\n",
      "[tensor([[3., 3.],\n",
      "        [3., 3.]]), Parameter containing:\n",
      "tensor([-0.2808, -0.0781], requires_grad=True), Parameter containing:\n",
      "tensor([[-0.5544, -0.0693],\n",
      "        [ 0.1577, -0.3472]], requires_grad=True), Parameter containing:\n",
      "tensor([ 0.2125, -0.4703], requires_grad=True)]\n"
     ]
    }
   ],
   "source": [
    "params = [n for n in model.parameters()]\n",
    "print(params)\n",
    "params[0] = torch.zeros(params[0].shape) + 3 * torch.ones(params[0].shape)\n",
    "print(params)"
   ]
  },
  {
   "cell_type": "code",
   "execution_count": 6,
   "metadata": {},
   "outputs": [],
   "source": [
    "# params[0].grad = torch.ones(params[0].shape)\n",
    "# params[0].grad"
   ]
  },
  {
   "cell_type": "code",
   "execution_count": 7,
   "metadata": {},
   "outputs": [
    {
     "name": "stdout",
     "output_type": "stream",
     "text": [
      "None\n",
      "None\n",
      "None\n",
      "None\n"
     ]
    }
   ],
   "source": [
    "optimizer = torch.optim.SGD(model.parameters(), lr = 1)\n",
    "for p in optimizer.param_groups[0]['params']:\n",
    "    print(p.grad)"
   ]
  },
  {
   "cell_type": "code",
   "execution_count": 8,
   "metadata": {},
   "outputs": [
    {
     "data": {
      "text/plain": [
       "tensor(-0.1804, grad_fn=<DivBackward0>)"
      ]
     },
     "execution_count": 8,
     "metadata": {},
     "output_type": "execute_result"
    }
   ],
   "source": [
    "loss = lib.TFIM_expectation_from_torch(model(lib.generate_input_torch(N)), (N, J, Gamma), log_amp_phase)\n",
    "loss"
   ]
  },
  {
   "cell_type": "code",
   "execution_count": 9,
   "metadata": {},
   "outputs": [
    {
     "data": {
      "text/plain": [
       "[Parameter containing:\n",
       " tensor([[-0.1903, -0.4787],\n",
       "         [ 0.3572, -0.3497]], requires_grad=True),\n",
       " Parameter containing:\n",
       " tensor([-0.2808, -0.0781], requires_grad=True),\n",
       " Parameter containing:\n",
       " tensor([[-0.5544, -0.0693],\n",
       "         [ 0.1577, -0.3472]], requires_grad=True),\n",
       " Parameter containing:\n",
       " tensor([ 0.2125, -0.4703], requires_grad=True)]"
      ]
     },
     "execution_count": 9,
     "metadata": {},
     "output_type": "execute_result"
    }
   ],
   "source": [
    "optimizer.param_groups[0]['params']"
   ]
  },
  {
   "cell_type": "code",
   "execution_count": 10,
   "metadata": {},
   "outputs": [],
   "source": [
    "loss.backward(retain_graph=True)"
   ]
  },
  {
   "cell_type": "code",
   "execution_count": 11,
   "metadata": {},
   "outputs": [],
   "source": [
    "params[0].grad"
   ]
  },
  {
   "cell_type": "code",
   "execution_count": 12,
   "metadata": {},
   "outputs": [
    {
     "data": {
      "text/plain": [
       "tensor([[ 0.0245, -0.0558],\n",
       "        [ 0.1026,  0.0519]])"
      ]
     },
     "execution_count": 12,
     "metadata": {},
     "output_type": "execute_result"
    }
   ],
   "source": [
    "params = [n for n in model.parameters()]\n",
    "params[0].grad"
   ]
  },
  {
   "cell_type": "code",
   "execution_count": 13,
   "metadata": {},
   "outputs": [
    {
     "data": {
      "text/plain": [
       "tensor([[ 0.0245, -0.0558],\n",
       "        [ 0.1026,  0.0519]])"
      ]
     },
     "execution_count": 13,
     "metadata": {},
     "output_type": "execute_result"
    }
   ],
   "source": [
    "optimizer.param_groups[0]['params'][0].grad"
   ]
  },
  {
   "cell_type": "code",
   "execution_count": 14,
   "metadata": {},
   "outputs": [
    {
     "data": {
      "text/plain": [
       "[Parameter containing:\n",
       " tensor([[-0.1903, -0.4787],\n",
       "         [ 0.3572, -0.3497]], requires_grad=True),\n",
       " Parameter containing:\n",
       " tensor([-0.2808, -0.0781], requires_grad=True),\n",
       " Parameter containing:\n",
       " tensor([[-0.5544, -0.0693],\n",
       "         [ 0.1577, -0.3472]], requires_grad=True),\n",
       " Parameter containing:\n",
       " tensor([ 0.2125, -0.4703], requires_grad=True)]"
      ]
     },
     "execution_count": 14,
     "metadata": {},
     "output_type": "execute_result"
    }
   ],
   "source": [
    "optimizer.param_groups[0]['params']"
   ]
  },
  {
   "cell_type": "code",
   "execution_count": 15,
   "metadata": {},
   "outputs": [],
   "source": [
    "optimizer.step() # this subtracts param grad from the param."
   ]
  },
  {
   "cell_type": "code",
   "execution_count": 16,
   "metadata": {},
   "outputs": [
    {
     "data": {
      "text/plain": [
       "[Parameter containing:\n",
       " tensor([[-0.2148, -0.4230],\n",
       "         [ 0.2545, -0.4016]], requires_grad=True),\n",
       " Parameter containing:\n",
       " tensor([-0.2455, -0.1515], requires_grad=True),\n",
       " Parameter containing:\n",
       " tensor([[-0.6179,  0.2028],\n",
       "         [ 0.1581, -0.3348]], requires_grad=True),\n",
       " Parameter containing:\n",
       " tensor([ 0.2125, -0.4703], requires_grad=True)]"
      ]
     },
     "execution_count": 16,
     "metadata": {},
     "output_type": "execute_result"
    }
   ],
   "source": [
    "optimizer.param_groups[0]['params']"
   ]
  },
  {
   "cell_type": "code",
   "execution_count": 17,
   "metadata": {},
   "outputs": [
    {
     "data": {
      "text/plain": [
       "[Parameter containing:\n",
       " tensor([[-0.2148, -0.4230],\n",
       "         [ 0.2545, -0.4016]], requires_grad=True),\n",
       " Parameter containing:\n",
       " tensor([-0.2455, -0.1515], requires_grad=True),\n",
       " Parameter containing:\n",
       " tensor([[-0.6179,  0.2028],\n",
       "         [ 0.1581, -0.3348]], requires_grad=True),\n",
       " Parameter containing:\n",
       " tensor([ 0.2125, -0.4703], requires_grad=True)]"
      ]
     },
     "execution_count": 17,
     "metadata": {},
     "output_type": "execute_result"
    }
   ],
   "source": [
    "[n for n in model.parameters()]"
   ]
  },
  {
   "cell_type": "code",
   "execution_count": 18,
   "metadata": {},
   "outputs": [
    {
     "data": {
      "text/plain": [
       "tensor([[1., 1.],\n",
       "        [1., 1.]])"
      ]
     },
     "execution_count": 18,
     "metadata": {},
     "output_type": "execute_result"
    }
   ],
   "source": [
    "params = [n for n in model.parameters()]\n",
    "params[0].grad = torch.ones(params[0].shape)\n",
    "params[0].grad"
   ]
  },
  {
   "cell_type": "code",
   "execution_count": 19,
   "metadata": {},
   "outputs": [
    {
     "data": {
      "text/plain": [
       "tensor([[1., 1.],\n",
       "        [1., 1.]])"
      ]
     },
     "execution_count": 19,
     "metadata": {},
     "output_type": "execute_result"
    }
   ],
   "source": [
    "optimizer.param_groups[0]['params'][0].grad"
   ]
  },
  {
   "cell_type": "code",
   "execution_count": 20,
   "metadata": {},
   "outputs": [
    {
     "data": {
      "text/plain": [
       "[Parameter containing:\n",
       " tensor([[-0.2148, -0.4230],\n",
       "         [ 0.2545, -0.4016]], requires_grad=True),\n",
       " Parameter containing:\n",
       " tensor([-0.2455, -0.1515], requires_grad=True),\n",
       " Parameter containing:\n",
       " tensor([[-0.6179,  0.2028],\n",
       "         [ 0.1581, -0.3348]], requires_grad=True),\n",
       " Parameter containing:\n",
       " tensor([ 0.2125, -0.4703], requires_grad=True)]"
      ]
     },
     "execution_count": 20,
     "metadata": {},
     "output_type": "execute_result"
    }
   ],
   "source": [
    "optimizer.param_groups[0]['params']"
   ]
  },
  {
   "cell_type": "code",
   "execution_count": 21,
   "metadata": {},
   "outputs": [],
   "source": [
    "optimizer.step()"
   ]
  },
  {
   "cell_type": "code",
   "execution_count": 22,
   "metadata": {},
   "outputs": [
    {
     "data": {
      "text/plain": [
       "[Parameter containing:\n",
       " tensor([[-1.2148, -1.4230],\n",
       "         [-0.7455, -1.4016]], requires_grad=True),\n",
       " Parameter containing:\n",
       " tensor([-0.2103, -0.2249], requires_grad=True),\n",
       " Parameter containing:\n",
       " tensor([[-0.6813,  0.4749],\n",
       "         [ 0.1584, -0.3225]], requires_grad=True),\n",
       " Parameter containing:\n",
       " tensor([ 0.2125, -0.4703], requires_grad=True)]"
      ]
     },
     "execution_count": 22,
     "metadata": {},
     "output_type": "execute_result"
    }
   ],
   "source": [
    "[n for n in model.parameters()]"
   ]
  },
  {
   "cell_type": "code",
   "execution_count": 23,
   "metadata": {},
   "outputs": [
    {
     "data": {
      "text/plain": [
       "[Parameter containing:\n",
       " tensor([[-1.2148, -1.4230],\n",
       "         [-0.7455, -1.4016]], requires_grad=True),\n",
       " Parameter containing:\n",
       " tensor([-0.2103, -0.2249], requires_grad=True),\n",
       " Parameter containing:\n",
       " tensor([[-0.6813,  0.4749],\n",
       "         [ 0.1584, -0.3225]], requires_grad=True),\n",
       " Parameter containing:\n",
       " tensor([ 0.2125, -0.4703], requires_grad=True)]"
      ]
     },
     "execution_count": 23,
     "metadata": {},
     "output_type": "execute_result"
    }
   ],
   "source": [
    "optimizer.param_groups[0]['params']"
   ]
  },
  {
   "cell_type": "code",
   "execution_count": 24,
   "metadata": {},
   "outputs": [],
   "source": [
    "x0 = nn.Parameter(torch.tensor(2.0))\n",
    "c = nn.Parameter(torch.tensor(3.0))\n",
    "f = lambda x: c * x\n",
    "fx = f(x0)\n",
    "g = lambda x: c ** 2 * x ** 2\n",
    "gx = g(x0)"
   ]
  },
  {
   "cell_type": "code",
   "execution_count": 25,
   "metadata": {},
   "outputs": [
    {
     "name": "stdout",
     "output_type": "stream",
     "text": [
      "tensor(6., grad_fn=<MulBackward0>)\n"
     ]
    }
   ],
   "source": [
    "print(fx)\n",
    "fx.backward()"
   ]
  },
  {
   "cell_type": "code",
   "execution_count": 26,
   "metadata": {},
   "outputs": [
    {
     "name": "stdout",
     "output_type": "stream",
     "text": [
      "tensor(3.) tensor(2.)\n"
     ]
    }
   ],
   "source": [
    "print(x0.grad, c.grad)"
   ]
  },
  {
   "cell_type": "code",
   "execution_count": 27,
   "metadata": {},
   "outputs": [],
   "source": [
    "x0.grad = None; c.grad = None"
   ]
  },
  {
   "cell_type": "code",
   "execution_count": 28,
   "metadata": {},
   "outputs": [
    {
     "name": "stdout",
     "output_type": "stream",
     "text": [
      "tensor(36., grad_fn=<MulBackward0>)\n"
     ]
    }
   ],
   "source": [
    "print(gx)\n",
    "gx.backward()"
   ]
  },
  {
   "cell_type": "code",
   "execution_count": 29,
   "metadata": {},
   "outputs": [
    {
     "name": "stdout",
     "output_type": "stream",
     "text": [
      "tensor(36.) tensor(24.)\n"
     ]
    }
   ],
   "source": [
    "print(x0.grad, c.grad)"
   ]
  },
  {
   "cell_type": "code",
   "execution_count": 30,
   "metadata": {},
   "outputs": [],
   "source": [
    "# only for nn_output = (log(amp), phase)\n",
    "def generate_eloc_list(sampled_vector, N, J, Gamma, model):\n",
    "    nn_output_calcs = {}\n",
    "    def model_to_output(x):\n",
    "        if x in sampled_vector.nn_output:\n",
    "            return sampled_vector.nn_output[x]\n",
    "        if x in nn_output_calcs:\n",
    "            return nn_output_calcs[x]\n",
    "        tens = torch.tensor([lib.generate_state_array(x, N)], dtype = torch.float32)\n",
    "        output = model(tens)[0]\n",
    "        nn_output_calcs[x] = output\n",
    "        return output\n",
    "\n",
    "    eloc_values = []\n",
    "    for basis_state in sampled_vector.list:\n",
    "        eloc = 0\n",
    "        output = model_to_output(basis_state)\n",
    "        for adjacency in lib.generate_adjacencies(basis_state, N):\n",
    "            output_prime = model_to_output(adjacency)\n",
    "            eloc += lib.calc_H_elem(N, J, Gamma, basis_state, adjacency) * torch.exp(output_prime[0] - output[0] + 1.j * 2 * np.pi * (output_prime[1] - output[1]))\n",
    "        # eloc += lib.calc_H_elem(N, J, Gamma, basis_state, basis_state)\n",
    "        eloc_values.append(eloc)\n",
    "    return eloc_values"
   ]
  },
  {
   "cell_type": "code",
   "execution_count": 31,
   "metadata": {},
   "outputs": [],
   "source": [
    "def set_gradients(sampled_vector: MHNeuralState, N, J, Gamma, model: nn.Sequential): # also only for log(amp), phase\n",
    "    nn_output_calcs = {}\n",
    "    def model_to_output(x):\n",
    "        if x in sampled_vector.nn_output:\n",
    "            return sampled_vector.nn_output[x]\n",
    "        if x in nn_output_calcs:\n",
    "            return nn_output_calcs[x]\n",
    "        tens = torch.tensor([lib.generate_state_array(x, N)], dtype = torch.float32)\n",
    "        output = model(tens)[0]\n",
    "        nn_output_calcs[x] = output\n",
    "        return output\n",
    "    def output_to_log(x):\n",
    "        return x[0] + 1.j * x[1]\n",
    "\n",
    "    elocs = {}\n",
    "    re_grad_logs = {}\n",
    "    im_grad_logs = {}\n",
    "    params = [p for p in model.parameters()]\n",
    "    for basis_state in sampled_vector.distribution:\n",
    "        eloc = 0\n",
    "        nn_output = sampled_vector.nn_output[basis_state]\n",
    "        for adjacency in lib.generate_adjacencies(basis_state, N):\n",
    "            nn_output_prime = model_to_output(adjacency)\n",
    "            eloc += lib.calc_H_elem(N, J, Gamma, basis_state, adjacency) * torch.exp(output_to_log(nn_output_prime) - output_to_log(nn_output))\n",
    "        elocs[basis_state] = eloc.detach()\n",
    "        \n",
    "        nn_output[0].backward(retain_graph=True)\n",
    "        real_grads = [p.grad.clone() for p in params]\n",
    "        for p in params: p.grad = None\n",
    "        nn_output[1].backward(retain_graph=True)\n",
    "        imag_grads = [-p.grad.clone() for p in params]\n",
    "        re_grad_logs[basis_state] = real_grads\n",
    "        im_grad_logs[basis_state] = imag_grads\n",
    "\n",
    "\n",
    "    E_eloc = (sum(sampled_vector.distribution[x] * elocs[x] for x in sampled_vector.distribution) / sampled_vector.samples).real\n",
    "\n",
    "    for i in range(len(params)):\n",
    "        E_grad_times_loc = sum((re_grad_logs[x][i] * elocs[x].real - im_grad_logs[x][i] * elocs[x].imag) * \\\n",
    "                               sampled_vector.distribution[x] for x in sampled_vector.distribution) / sampled_vector.samples\n",
    "        E_grad = sum(re_grad_logs[x][i] * sampled_vector.distribution[x] for x in sampled_vector.distribution) / sampled_vector.samples\n",
    "        params[i].grad = E_grad_times_loc - E_grad * E_eloc\n",
    "\n",
    "    return E_eloc\n",
    "\n",
    "\n",
    "    params = [n for n in model.parameters()]\n",
    "    energy = lib.TFIM_expectation_using_locals(sampled_vector, N, J, Gamma, model, log_amp_phase)\n",
    "    for i in range(len(params)):\n",
    "        p = params[i]\n",
    "        grad = torch.zeros(p.shape)\n",
    "        tot = 0\n",
    "        for basis_state in sampled_vector.list:\n",
    "            for adjacency in lib.generate_adjacencies(basis_state, N):\n",
    "                log_psi = output_to_log(model_to_output(basis_state))\n",
    "                log_psi_p = output_to_log(model_to_output(adjacency))\n",
    "                tot += lib.calc_H_elem(N, J, Gamma, basis_state, adjacency) * torch.exp(log_psi_p - log_psi).detach()\n",
    "        avg = tot / len(sampled_vector.list)\n",
    "\n",
    "        for basis_state in sampled_vector.distribution:\n",
    "            for adjacency in lib.generate_adjacencies(basis_state, N):\n",
    "                log_psi = output_to_log(model_to_output(basis_state))\n",
    "                log_psi_p = output_to_log(model_to_output(adjacency))\n",
    "                \n",
    "                log_psi.conj().real.backward(retain_graph=True)\n",
    "                grad_re_log = p.grad.clone()\n",
    "                log_psi.conj().imag.backward(retain_graph=True)\n",
    "                grad_im_log = p.grad.clone()\n",
    "\n",
    "                mag_psi = abs(torch.exp(log_psi)).detach()\n",
    "                H_psi_over_psi = lib.calc_H_elem(N, J, Gamma, basis_state, adjacency) * torch.exp(log_psi_p - log_psi).detach() - avg\n",
    "                grad += mag_psi ** 2 * (grad_re_log * H_psi_over_psi.real - grad_im_log * H_psi_over_psi.imag)\n",
    "\n",
    "                print(grad_re_log, grad_im_log)\n",
    "                #print(log_psi, log_psi_p, grad_re_log, grad_im_log, mag_psi, H_psi_over_psi)\n",
    "        p.grad = grad\n",
    "        # psi_times_psi = SparseStateVector.inner_product(sampled_vector, sampled_vector).real\n",
    "        #sum(abs(torch.exp(output_to_log(model_to_output(basis_state)))) ** 2 for basis_state in sampled_vector.distribution)\n",
    "        # torch.log(psi_times_psi).backward(retain_graph=True)\n",
    "        # grad_log_psi_psi = p.grad.clone()\n",
    "\n",
    "        # p.grad = grad / psi_times_psi.detach() - grad_log_psi_psi * energy.detach()\n",
    "    return energy\n",
    "\n",
    "def update_gradients(model, lr):\n",
    "    with torch.no_grad():\n",
    "        for p in model.parameters():\n",
    "            p -= lr * p.grad \n"
   ]
  },
  {
   "cell_type": "code",
   "execution_count": 32,
   "metadata": {},
   "outputs": [],
   "source": [
    "num_epochs = 1000\n",
    "data_rate = 1\n",
    "num_samples = 256"
   ]
  },
  {
   "cell_type": "code",
   "execution_count": 35,
   "metadata": {},
   "outputs": [
    {
     "data": {
      "text/plain": [
       "np.float64(-100.25015664234306)"
      ]
     },
     "execution_count": 35,
     "metadata": {},
     "output_type": "execute_result"
    }
   ],
   "source": [
    "N=10; J=1; Gamma=10\n",
    "lib.ground_state_energy(Gamma, N)"
   ]
  },
  {
   "cell_type": "code",
   "execution_count": 36,
   "metadata": {},
   "outputs": [],
   "source": [
    "layers = []\n",
    "layers.append(nn.Linear(N, 32))\n",
    "for _ in range(2):\n",
    "    layers.append(nn.Linear(32, 32))\n",
    "    layers.append(nn.SELU())\n",
    "layers.append(nn.Linear(32, 2))\n",
    "model = nn.Sequential(*layers)"
   ]
  },
  {
   "cell_type": "code",
   "execution_count": 37,
   "metadata": {},
   "outputs": [
    {
     "name": "stdout",
     "output_type": "stream",
     "text": [
      "0 tensor(-99.6553)\n",
      "1 tensor(-100.3720)\n",
      "2 tensor(-100.3908)\n",
      "3 tensor(-99.5545)\n",
      "4 tensor(-100.5872)\n",
      "5 tensor(-100.1624)\n",
      "6 tensor(-99.2430)\n",
      "7 tensor(-99.6876)\n",
      "8 tensor(-99.7939)\n",
      "9 tensor(-100.2135)\n",
      "10 tensor(-100.3399)\n",
      "11 tensor(-99.8097)\n",
      "12 tensor(-100.2182)\n",
      "13 tensor(-100.3802)\n",
      "14 tensor(-100.2196)\n",
      "15 tensor(-100.4765)\n",
      "16 tensor(-100.5157)\n",
      "17 tensor(-99.6751)\n",
      "18 tensor(-99.7274)\n",
      "19 tensor(-100.1186)\n",
      "20 tensor(-99.7364)\n",
      "21 tensor(-100.2962)\n",
      "22 tensor(-99.8124)\n",
      "23 tensor(-100.2362)\n",
      "24 tensor(-100.2175)\n",
      "25 tensor(-100.3541)\n",
      "26 tensor(-100.1879)\n",
      "27 tensor(-99.9164)\n",
      "28 tensor(-99.4329)\n",
      "29 tensor(-99.7463)\n",
      "30 tensor(-100.1513)\n",
      "31 tensor(-100.2271)\n",
      "32 tensor(-99.6544)\n",
      "33 tensor(-99.9027)\n",
      "34 tensor(-100.0264)\n",
      "35 tensor(-99.7531)\n",
      "36 tensor(-100.1066)\n",
      "37 tensor(-100.3303)\n",
      "38 tensor(-101.0940)\n",
      "39 tensor(-100.3298)\n",
      "40 tensor(-100.2311)\n",
      "41 tensor(-100.6689)\n",
      "42 tensor(-99.9225)\n",
      "43 tensor(-100.0073)\n",
      "44 tensor(-99.7559)\n",
      "45 tensor(-99.6146)\n",
      "46 tensor(-100.0396)\n",
      "47 tensor(-99.5826)\n",
      "48 tensor(-100.0622)\n",
      "49 tensor(-100.1142)\n",
      "50 tensor(-100.2116)\n",
      "51 tensor(-99.3363)\n",
      "52 tensor(-99.6492)\n",
      "53 tensor(-99.5720)\n",
      "54 tensor(-100.0008)\n",
      "55 tensor(-100.4529)\n",
      "56 tensor(-100.4391)\n",
      "57 tensor(-99.3860)\n",
      "58 tensor(-100.4579)\n",
      "59 tensor(-100.2533)\n",
      "60 tensor(-99.6933)\n",
      "61 tensor(-100.5079)\n",
      "62 tensor(-100.3980)\n",
      "63 tensor(-100.2885)\n",
      "64 tensor(-100.3466)\n",
      "65 tensor(-99.6273)\n",
      "66 tensor(-99.5442)\n",
      "67 tensor(-99.0758)\n",
      "68 tensor(-100.2725)\n",
      "69 tensor(-100.5096)\n",
      "70 tensor(-99.5669)\n",
      "71 tensor(-99.5386)\n",
      "72 tensor(-100.1366)\n",
      "73 tensor(-100.2050)\n",
      "74 tensor(-99.9248)\n",
      "75 tensor(-100.7995)\n",
      "76 tensor(-100.0146)\n",
      "77 tensor(-100.0689)\n",
      "78 tensor(-100.2027)\n",
      "79 tensor(-100.5031)\n",
      "80 tensor(-100.1794)\n",
      "81 tensor(-99.5968)\n",
      "82 tensor(-99.9008)\n",
      "83 tensor(-99.6768)\n",
      "84 tensor(-100.0607)\n",
      "85 tensor(-99.7508)\n",
      "86 tensor(-100.5275)\n",
      "87 tensor(-100.4034)\n",
      "88 tensor(-100.4781)\n",
      "89 tensor(-99.8654)\n",
      "90 tensor(-100.1286)\n",
      "91 tensor(-99.4481)\n",
      "92 tensor(-100.3915)\n",
      "93 tensor(-100.3305)\n",
      "94 tensor(-100.3882)\n",
      "95 tensor(-99.5582)\n",
      "96 tensor(-99.7947)\n",
      "97 tensor(-99.7970)\n",
      "98 tensor(-99.9858)\n",
      "99 tensor(-99.8601)\n",
      "100 tensor(-99.8520)\n",
      "101 tensor(-100.3079)\n",
      "102 tensor(-100.7301)\n",
      "103 tensor(-100.4581)\n",
      "104 tensor(-100.0186)\n",
      "105 tensor(-99.7115)\n",
      "106 tensor(-99.9217)\n",
      "107 tensor(-100.6276)\n",
      "108 tensor(-100.6887)\n",
      "109 tensor(-100.2577)\n",
      "110 tensor(-99.7793)\n",
      "111 tensor(-100.7183)\n",
      "112 tensor(-100.2545)\n",
      "113 tensor(-100.2551)\n",
      "114 tensor(-100.2218)\n",
      "115 tensor(-100.2674)\n",
      "116 tensor(-99.7294)\n",
      "117 tensor(-100.3184)\n",
      "118 tensor(-100.4132)\n",
      "119 tensor(-100.5923)\n",
      "120 tensor(-99.9236)\n",
      "121 tensor(-100.3587)\n",
      "122 tensor(-100.2661)\n",
      "123 tensor(-99.4268)\n",
      "124 tensor(-100.0662)\n",
      "125 tensor(-100.1500)\n",
      "126 tensor(-99.8326)\n",
      "127 tensor(-100.1220)\n",
      "128 tensor(-99.7538)\n",
      "129 tensor(-99.7314)\n",
      "130 tensor(-100.0655)\n",
      "131 tensor(-100.3134)\n",
      "132 tensor(-99.8946)\n",
      "133 tensor(-100.5110)\n",
      "134 tensor(-100.0909)\n",
      "135 tensor(-100.2062)\n",
      "136 tensor(-99.9714)\n",
      "137 tensor(-100.5844)\n",
      "138 tensor(-99.9242)\n",
      "139 tensor(-100.2526)\n",
      "140 tensor(-100.0441)\n",
      "141 tensor(-99.7460)\n",
      "142 tensor(-100.4491)\n",
      "143 tensor(-100.3259)\n",
      "144 tensor(-100.1348)\n",
      "145 tensor(-100.4094)\n",
      "146 tensor(-99.6575)\n",
      "147 tensor(-100.1221)\n",
      "148 tensor(-99.4107)\n",
      "149 tensor(-100.0394)\n",
      "150 tensor(-100.3207)\n",
      "151 tensor(-99.4426)\n",
      "152 tensor(-99.9750)\n",
      "153 tensor(-100.0858)\n",
      "154 tensor(-100.5301)\n",
      "155 tensor(-100.2604)\n",
      "156 tensor(-100.1833)\n",
      "157 tensor(-100.7269)\n",
      "158 tensor(-99.8701)\n",
      "159 tensor(-100.3634)\n",
      "160 tensor(-100.6274)\n",
      "161 tensor(-100.1194)\n",
      "162 tensor(-100.2649)\n",
      "163 tensor(-99.6424)\n",
      "164 tensor(-99.9752)\n",
      "165 tensor(-100.1668)\n",
      "166 tensor(-100.2942)\n",
      "167 tensor(-99.7811)\n",
      "168 tensor(-100.2795)\n",
      "169 tensor(-100.4762)\n",
      "170 tensor(-100.1549)\n",
      "171 tensor(-100.5276)\n",
      "172 tensor(-99.8229)\n",
      "173 tensor(-100.6411)\n",
      "174 tensor(-100.2155)\n",
      "175 tensor(-99.7816)\n",
      "176 tensor(-100.1113)\n",
      "177 tensor(-100.3110)\n",
      "178 tensor(-100.1772)\n",
      "179 tensor(-100.3588)\n",
      "180 tensor(-100.3008)\n",
      "181 tensor(-100.1455)\n",
      "182 tensor(-100.0252)\n",
      "183 tensor(-99.9556)\n",
      "184 tensor(-100.1203)\n",
      "185 tensor(-99.8033)\n",
      "186 tensor(-100.1907)\n",
      "187 tensor(-100.2135)\n",
      "188 tensor(-100.0225)\n",
      "189 tensor(-100.1096)\n",
      "190 tensor(-100.2064)\n",
      "191 tensor(-100.4912)\n",
      "192 tensor(-99.8960)\n",
      "193 tensor(-99.9320)\n",
      "194 tensor(-100.1400)\n",
      "195 tensor(-100.3127)\n",
      "196 tensor(-100.4534)\n",
      "197 tensor(-100.3005)\n",
      "198 tensor(-100.0693)\n",
      "199 tensor(-100.1453)\n",
      "200 tensor(-100.8528)\n",
      "201 tensor(-99.3533)\n",
      "202 tensor(-100.0122)\n",
      "203 tensor(-99.8641)\n",
      "204 tensor(-100.1309)\n",
      "205 tensor(-99.9311)\n",
      "206 tensor(-100.4640)\n",
      "207 tensor(-100.2623)\n",
      "208 tensor(-100.2681)\n",
      "209 tensor(-99.4956)\n",
      "210 tensor(-99.7981)\n",
      "211 tensor(-100.1283)\n",
      "212 tensor(-100.4340)\n",
      "213 tensor(-100.1821)\n",
      "214 tensor(-100.0739)\n",
      "215 tensor(-100.2180)\n",
      "216 tensor(-100.1656)\n",
      "217 tensor(-100.1322)\n",
      "218 tensor(-100.1651)\n",
      "219 tensor(-100.0885)\n",
      "220 tensor(-100.3360)\n",
      "221 tensor(-100.3252)\n",
      "222 tensor(-100.0431)\n",
      "223 tensor(-99.9682)\n",
      "224 tensor(-100.0339)\n",
      "225 tensor(-99.7255)\n",
      "226 tensor(-99.9229)\n",
      "227 tensor(-99.9722)\n",
      "228 tensor(-100.2939)\n",
      "229 tensor(-99.9072)\n",
      "230 tensor(-100.3290)\n",
      "231 tensor(-100.2592)\n",
      "232 tensor(-100.0544)\n",
      "233 tensor(-100.2793)\n",
      "234 tensor(-100.2399)\n",
      "235 tensor(-100.3419)\n",
      "236 tensor(-100.4029)\n",
      "237 tensor(-100.4177)\n",
      "238 tensor(-100.1111)\n",
      "239 tensor(-99.9514)\n",
      "240 tensor(-100.2537)\n",
      "241 tensor(-100.1552)\n",
      "242 tensor(-100.2623)\n",
      "243 tensor(-100.3512)\n",
      "244 tensor(-100.1690)\n",
      "245 tensor(-100.1842)\n",
      "246 tensor(-100.6032)\n",
      "247 tensor(-100.3397)\n",
      "248 tensor(-99.9206)\n",
      "249 tensor(-100.2628)\n",
      "250 tensor(-100.3651)\n",
      "251 tensor(-99.8763)\n",
      "252 tensor(-100.1439)\n",
      "253 tensor(-100.3024)\n",
      "254 tensor(-100.3306)\n",
      "255 tensor(-100.2581)\n",
      "256 tensor(-100.0559)\n",
      "257 tensor(-99.8969)\n",
      "258 tensor(-100.0991)\n",
      "259 tensor(-100.4508)\n",
      "260 tensor(-99.9606)\n",
      "261 tensor(-100.4517)\n",
      "262 tensor(-100.0895)\n",
      "263 tensor(-100.3768)\n",
      "264 tensor(-100.2301)\n",
      "265 tensor(-100.0023)\n",
      "266 tensor(-100.0237)\n",
      "267 tensor(-100.0922)\n",
      "268 tensor(-99.9731)\n",
      "269 tensor(-100.2191)\n",
      "270 tensor(-99.8011)\n",
      "271 tensor(-99.7045)\n",
      "272 tensor(-99.7427)\n",
      "273 tensor(-99.9099)\n",
      "274 tensor(-100.2079)\n",
      "275 tensor(-100.2839)\n",
      "276 tensor(-100.1254)\n",
      "277 tensor(-100.3598)\n",
      "278 tensor(-100.5482)\n",
      "279 tensor(-100.0856)\n",
      "280 tensor(-100.2105)\n",
      "281 tensor(-100.0075)\n",
      "282 tensor(-100.0245)\n",
      "283 tensor(-99.8016)\n",
      "284 tensor(-100.2922)\n",
      "285 tensor(-100.1892)\n",
      "286 tensor(-100.3994)\n",
      "287 tensor(-100.3683)\n",
      "288 tensor(-100.1772)\n",
      "289 tensor(-100.0708)\n",
      "290 tensor(-99.9232)\n",
      "291 tensor(-100.4629)\n",
      "292 tensor(-100.1359)\n",
      "293 tensor(-100.3500)\n",
      "294 tensor(-100.5488)\n",
      "295 tensor(-100.1629)\n",
      "296 tensor(-100.3882)\n",
      "297 tensor(-100.2538)\n",
      "298 tensor(-100.0907)\n",
      "299 tensor(-100.0254)\n",
      "300 tensor(-100.2896)\n",
      "301 tensor(-100.1158)\n",
      "302 tensor(-100.3897)\n",
      "303 tensor(-100.4395)\n",
      "304 tensor(-100.1148)\n",
      "305 tensor(-100.2387)\n",
      "306 tensor(-100.0958)\n",
      "307 tensor(-100.2006)\n",
      "308 tensor(-100.0393)\n",
      "309 tensor(-100.2883)\n",
      "310 tensor(-100.2695)\n",
      "311 tensor(-99.9504)\n",
      "312 tensor(-100.2220)\n",
      "313 tensor(-100.2483)\n",
      "314 tensor(-100.0961)\n",
      "315 tensor(-100.1666)\n",
      "316 tensor(-99.9919)\n",
      "317 tensor(-99.9396)\n",
      "318 tensor(-99.9384)\n",
      "319 tensor(-99.9071)\n",
      "320 tensor(-100.1233)\n",
      "321 tensor(-100.1576)\n",
      "322 tensor(-100.2416)\n",
      "323 tensor(-100.1313)\n",
      "324 tensor(-99.3679)\n",
      "325 tensor(-100.3325)\n",
      "326 tensor(-100.1463)\n",
      "327 tensor(-100.1882)\n",
      "328 tensor(-100.1246)\n",
      "329 tensor(-100.2826)\n",
      "330 tensor(-100.0660)\n",
      "331 tensor(-100.1579)\n",
      "332 tensor(-100.4939)\n",
      "333 tensor(-99.9414)\n",
      "334 tensor(-100.0868)\n",
      "335 tensor(-100.0906)\n",
      "336 tensor(-100.4446)\n",
      "337 tensor(-100.2265)\n",
      "338 tensor(-100.1647)\n",
      "339 tensor(-100.2379)\n",
      "340 tensor(-100.1158)\n",
      "341 tensor(-100.1658)\n",
      "342 tensor(-99.9967)\n",
      "343 tensor(-100.5020)\n",
      "344 tensor(-100.5259)\n",
      "345 tensor(-100.4551)\n",
      "346 tensor(-100.6702)\n",
      "347 tensor(-100.3318)\n",
      "348 tensor(-99.8137)\n",
      "349 tensor(-100.0074)\n",
      "350 tensor(-100.3266)\n",
      "351 tensor(-100.6082)\n",
      "352 tensor(-100.2994)\n",
      "353 tensor(-100.3749)\n",
      "354 tensor(-100.2320)\n",
      "355 tensor(-100.2390)\n",
      "356 tensor(-100.2118)\n",
      "357 tensor(-100.3063)\n",
      "358 tensor(-100.2859)\n",
      "359 tensor(-100.3685)\n",
      "360 tensor(-100.5710)\n",
      "361 tensor(-100.4100)\n",
      "362 tensor(-99.8853)\n",
      "363 tensor(-100.2898)\n",
      "364 tensor(-99.9461)\n",
      "365 tensor(-100.2868)\n",
      "366 tensor(-100.4203)\n",
      "367 tensor(-100.5001)\n",
      "368 tensor(-100.0692)\n",
      "369 tensor(-100.2093)\n",
      "370 tensor(-100.2009)\n",
      "371 tensor(-100.4397)\n",
      "372 tensor(-100.1027)\n",
      "373 tensor(-100.1633)\n",
      "374 tensor(-100.0383)\n",
      "375 tensor(-100.1159)\n",
      "376 tensor(-100.1386)\n",
      "377 tensor(-100.4377)\n",
      "378 tensor(-100.1796)\n",
      "379 tensor(-100.1285)\n",
      "380 tensor(-100.0813)\n",
      "381 tensor(-100.2416)\n",
      "382 tensor(-100.3834)\n",
      "383 tensor(-100.3764)\n",
      "384 tensor(-100.3039)\n",
      "385 tensor(-100.2216)\n",
      "386 tensor(-100.1533)\n",
      "387 tensor(-99.9437)\n",
      "388 tensor(-100.2002)\n",
      "389 tensor(-100.2615)\n",
      "390 tensor(-100.0573)\n",
      "391 tensor(-100.0863)\n",
      "392 tensor(-100.0183)\n",
      "393 tensor(-100.2200)\n",
      "394 tensor(-100.1177)\n",
      "395 tensor(-100.3889)\n",
      "396 tensor(-100.0993)\n",
      "397 tensor(-100.4339)\n",
      "398 tensor(-100.3151)\n",
      "399 tensor(-100.0488)\n",
      "400 tensor(-100.2647)\n",
      "401 tensor(-100.3058)\n",
      "402 tensor(-100.3480)\n",
      "403 tensor(-100.4239)\n",
      "404 tensor(-100.2485)\n",
      "405 tensor(-100.2011)\n",
      "406 tensor(-100.3648)\n",
      "407 tensor(-100.3051)\n",
      "408 tensor(-99.9920)\n",
      "409 tensor(-100.0252)\n",
      "410 tensor(-100.1254)\n",
      "411 tensor(-100.2589)\n",
      "412 tensor(-100.1936)\n",
      "413 tensor(-100.1211)\n",
      "414 tensor(-100.0681)\n",
      "415 tensor(-100.2728)\n",
      "416 tensor(-100.0895)\n",
      "417 tensor(-100.3188)\n",
      "418 tensor(-100.2280)\n",
      "419 tensor(-100.4134)\n",
      "420 tensor(-100.0041)\n",
      "421 tensor(-100.1762)\n",
      "422 tensor(-100.2885)\n",
      "423 tensor(-100.2621)\n",
      "424 tensor(-100.2808)\n",
      "425 tensor(-100.3992)\n",
      "426 tensor(-100.3939)\n",
      "427 tensor(-100.5331)\n",
      "428 tensor(-100.0807)\n",
      "429 tensor(-100.1796)\n",
      "430 tensor(-100.0826)\n",
      "431 tensor(-99.7189)\n",
      "432 tensor(-99.9717)\n",
      "433 tensor(-100.2238)\n",
      "434 tensor(-100.0586)\n",
      "435 tensor(-100.2214)\n",
      "436 tensor(-99.4973)\n",
      "437 tensor(-100.1706)\n",
      "438 tensor(-100.2337)\n",
      "439 tensor(-100.2021)\n",
      "440 tensor(-100.2203)\n",
      "441 tensor(-100.3542)\n",
      "442 tensor(-100.1529)\n",
      "443 tensor(-100.5752)\n",
      "444 tensor(-100.2217)\n",
      "445 tensor(-100.0919)\n",
      "446 tensor(-100.1093)\n",
      "447 tensor(-100.3979)\n",
      "448 tensor(-100.1122)\n",
      "449 tensor(-100.3040)\n",
      "450 tensor(-100.1325)\n",
      "451 tensor(-100.3313)\n",
      "452 tensor(-100.1351)\n",
      "453 tensor(-100.3623)\n",
      "454 tensor(-99.9339)\n",
      "455 tensor(-100.5677)\n",
      "456 tensor(-99.7752)\n",
      "457 tensor(-100.4881)\n",
      "458 tensor(-100.3779)\n",
      "459 tensor(-100.5707)\n",
      "460 tensor(-100.3003)\n",
      "461 tensor(-99.7366)\n",
      "462 tensor(-100.1168)\n",
      "463 tensor(-100.2034)\n",
      "464 tensor(-100.2046)\n",
      "465 tensor(-100.1064)\n",
      "466 tensor(-100.0517)\n",
      "467 tensor(-100.0189)\n",
      "468 tensor(-99.8725)\n",
      "469 tensor(-100.3948)\n",
      "470 tensor(-100.1873)\n",
      "471 tensor(-100.5643)\n",
      "472 tensor(-100.2022)\n",
      "473 tensor(-100.2304)\n",
      "474 tensor(-100.2536)\n",
      "475 tensor(-100.1653)\n",
      "476 tensor(-100.1282)\n",
      "477 tensor(-100.1166)\n",
      "478 tensor(-100.2750)\n",
      "479 tensor(-100.0241)\n",
      "480 tensor(-100.2001)\n",
      "481 tensor(-100.0831)\n",
      "482 tensor(-99.9932)\n",
      "483 tensor(-100.2515)\n",
      "484 tensor(-100.3301)\n",
      "485 tensor(-100.4891)\n",
      "486 tensor(-100.1800)\n",
      "487 tensor(-100.2118)\n",
      "488 tensor(-100.2570)\n",
      "489 tensor(-100.1420)\n",
      "490 tensor(-100.2092)\n",
      "491 tensor(-100.0720)\n",
      "492 tensor(-100.1982)\n",
      "493 tensor(-100.1209)\n",
      "494 tensor(-100.0883)\n",
      "495 tensor(-100.4254)\n",
      "496 tensor(-100.2003)\n",
      "497 tensor(-100.2237)\n",
      "498 tensor(-100.2834)\n",
      "499 tensor(-100.2703)\n",
      "-100.27025604248047\n",
      "-101.09400177001953\n"
     ]
    }
   ],
   "source": [
    "epochs = []\n",
    "energy_data = []\n",
    "optimizer = torch.optim.SGD(model.parameters(), lr = 0.1)\n",
    "for epoch in range(500): # range(num_epochs):\n",
    "    mh_state = MHNeuralState(N, model, log_amp_phase, lambda x: bitflip_x(x, N, 1), 2 ** (N - 1), num_samples)\n",
    "    # mh_state = UniformNeuralState(N, model, log_amp_phase, 2 ** N)\n",
    "    optimizer.zero_grad()\n",
    "    energy = set_gradients(mh_state, N, J, Gamma, model)\n",
    "    # energy = lib.TFIM_expectation_using_locals(mh_state, N, J, Gamma, model, log_amp_phase)\n",
    "    optimizer.step()\n",
    "    # update_gradients(model, 1e-2)\n",
    "    if epoch % data_rate == 0:\n",
    "        energy_data.append(energy.item().real)\n",
    "        epochs.append(epoch)\n",
    "    if epoch % 1 == 0:\n",
    "        print(epoch, energy)\n",
    "print(energy_data[-1])\n",
    "print(min(energy_data))"
   ]
  },
  {
   "cell_type": "code",
   "execution_count": 38,
   "metadata": {},
   "outputs": [
    {
     "data": {
      "image/png": "[encoded data removed]",
      "text/plain": [
       "<Figure size 640x480 with 1 Axes>"
      ]
     },
     "metadata": {},
     "output_type": "display_data"
    }
   ],
   "source": [
    "plt.plot(epochs, energy_data)\n",
    "plt.show()"
   ]
  },
  {
   "cell_type": "code",
   "execution_count": 39,
   "metadata": {},
   "outputs": [
    {
     "data": {
      "text/plain": [
       "np.float64(-25.49098968636475)"
      ]
     },
     "execution_count": 39,
     "metadata": {},
     "output_type": "execute_result"
    }
   ],
   "source": [
    "20 * lib.ground_state_energy_per_site(1, 20)"
   ]
  },
  {
   "cell_type": "code",
   "execution_count": null,
   "metadata": {},
   "outputs": [],
   "source": []
  }
 ],
 "metadata": {
  "kernelspec": {
   "display_name": "kans",
   "language": "python",
   "name": "python3"
  },
  "language_info": {
   "codemirror_mode": {
    "name": "ipython",
    "version": 3
   },
   "file_extension": ".py",
   "mimetype": "text/x-python",
   "name": "python",
   "nbconvert_exporter": "python",
   "pygments_lexer": "ipython3",
   "version": "3.12.5"
  }
 },
 "nbformat": 4,
 "nbformat_minor": 2
}
