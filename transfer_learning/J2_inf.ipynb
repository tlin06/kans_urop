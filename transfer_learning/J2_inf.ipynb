{
 "cells": [
  {
   "cell_type": "code",
   "execution_count": 22,
   "id": "fbcd4344",
   "metadata": {},
   "outputs": [],
   "source": [
    "import kan\n",
    "import kan.utils as ku\n",
    "import torch\n",
    "import torch.nn as nn\n",
    "import numpy as np\n",
    "from libraries import utils\n",
    "from libraries import magnetization\n",
    "from libraries import j1j2_functions\n",
    "import numpy.random as npr\n",
    "import qutip as qt\n",
    "import matplotlib.pyplot as plt"
   ]
  },
  {
   "cell_type": "code",
   "execution_count": 80,
   "id": "7798e181",
   "metadata": {},
   "outputs": [],
   "source": [
    "def rfft(x):\n",
    "    x = (-1) ** np.array(x)\n",
    "    return np.fft.rfft(x)[1:]\n",
    "def manual_sr(x, N, shift=0):\n",
    "    return sum(x[:, (i + shift) % N] + x[:, (i + 1 + shift) % N] for i in range(0, N, 4))\n",
    "def generate_loss(gs, states=None, all=False):\n",
    "    if not all and states:\n",
    "        def weighted_loss(x, y):\n",
    "            return torch.sum(abs(torch.tensor(gs.full()[states, :])) ** 2 * (x - y) ** 2)\n",
    "        return weighted_loss\n",
    "    else:\n",
    "        def weighted_loss(x, y):\n",
    "            return torch.sum(abs(torch.tensor(gs.full())) ** 2 * (x - y) ** 2)\n",
    "        return weighted_loss"
   ]
  },
  {
   "cell_type": "code",
   "execution_count": 24,
   "id": "a5fcb56f",
   "metadata": {},
   "outputs": [
    {
     "data": {
      "text/latex": [
       "Quantum object: dims=[[2, 2, 2, 2, 2, 2, 2, 2], [1, 1, 1, 1, 1, 1, 1, 1]], shape=(256, 1), type='ket', dtype=Dense$$\\left(\\begin{array}{cc}0\\\\2.440\\times10^{ -46 }\\\\8.485\\times10^{ -19 }\\\\2.884\\times10^{ -18 }\\\\1.526\\times10^{ -18 }\\\\\\vdots\\\\-4.156\\times10^{ -129 }\\\\-1.747\\times10^{ -54 }\\\\1.419\\times10^{ -126 }\\\\2.315\\times10^{ -128 }\\\\0\\end{array}\\right)$$"
      ],
      "text/plain": [
       "Quantum object: dims=[[2, 2, 2, 2, 2, 2, 2, 2], [1, 1, 1, 1, 1, 1, 1, 1]], shape=(256, 1), type='ket', dtype=Dense\n",
       "Qobj data =\n",
       "[[ 0.00000000e+000]\n",
       " [ 2.44006350e-046]\n",
       " [ 8.48489602e-019]\n",
       " [ 2.88424350e-018]\n",
       " [ 1.52592559e-018]\n",
       " [-6.26698055e-018]\n",
       " [-4.10048990e-018]\n",
       " [ 8.11909596e-018]\n",
       " [-1.08525363e-018]\n",
       " [-9.92445457e-018]\n",
       " [ 3.18499012e-018]\n",
       " [-2.70150670e-017]\n",
       " [ 1.47480396e-018]\n",
       " [ 1.26316768e-017]\n",
       " [-3.15441665e-017]\n",
       " [ 8.29151556e-002]\n",
       " [-1.73472348e-018]\n",
       " [ 8.67361738e-018]\n",
       " [-8.67361738e-019]\n",
       " [ 1.56563557e-017]\n",
       " [ 1.04083409e-017]\n",
       " [ 1.39420713e-017]\n",
       " [-6.23371219e-018]\n",
       " [ 4.17357009e-004]\n",
       " [ 8.67361738e-019]\n",
       " [ 1.84329593e-018]\n",
       " [ 6.00323805e-017]\n",
       " [-1.66665025e-001]\n",
       " [ 2.11067373e-017]\n",
       " [ 4.17357009e-004]\n",
       " [ 8.29151556e-002]\n",
       " [-1.69406589e-021]\n",
       " [-6.50521303e-019]\n",
       " [-3.03576608e-018]\n",
       " [-2.08166817e-017]\n",
       " [ 7.84730530e-017]\n",
       " [ 2.60208521e-018]\n",
       " [ 7.51035212e-018]\n",
       " [ 8.30831948e-017]\n",
       " [-1.66665025e-001]\n",
       " [-6.93889390e-018]\n",
       " [-2.38257804e-017]\n",
       " [ 6.91885261e-018]\n",
       " [-4.20176972e-004]\n",
       " [-2.54556532e-017]\n",
       " [ 8.37526896e-002]\n",
       " [ 4.17357009e-004]\n",
       " [ 1.74131472e-025]\n",
       " [ 1.04083409e-017]\n",
       " [ 6.45496995e-018]\n",
       " [-6.56923563e-017]\n",
       " [ 3.33332870e-001]\n",
       " [ 1.03294799e-017]\n",
       " [-4.20176972e-004]\n",
       " [-1.66665025e-001]\n",
       " [ 2.17599014e-023]\n",
       " [ 4.58603248e-017]\n",
       " [-1.66665025e-001]\n",
       " [ 4.17357009e-004]\n",
       " [-6.42396767e-026]\n",
       " [ 8.29151556e-002]\n",
       " [-6.09234490e-024]\n",
       " [-3.21083035e-026]\n",
       " [ 2.67276471e-051]\n",
       " [-3.46944695e-018]\n",
       " [ 3.46944695e-018]\n",
       " [ 5.20417043e-018]\n",
       " [ 5.21583413e-018]\n",
       " [-6.93889390e-018]\n",
       " [ 2.02773586e-017]\n",
       " [ 1.48175599e-017]\n",
       " [ 4.17357009e-004]\n",
       " [ 2.16840434e-018]\n",
       " [ 1.02494683e-017]\n",
       " [ 4.32611563e-017]\n",
       " [ 8.37526896e-002]\n",
       " [ 4.93625322e-018]\n",
       " [-4.20176972e-004]\n",
       " [-1.66665025e-001]\n",
       " [ 1.43069467e-023]\n",
       " [-3.46944695e-018]\n",
       " [ 2.16381238e-017]\n",
       " [ 5.83603296e-018]\n",
       " [-4.20176972e-004]\n",
       " [ 2.13945584e-017]\n",
       " [ 5.63992766e-006]\n",
       " [-4.20176972e-004]\n",
       " [-3.78809826e-026]\n",
       " [ 9.84230287e-018]\n",
       " [-4.20176972e-004]\n",
       " [ 8.37526896e-002]\n",
       " [-4.74561681e-024]\n",
       " [ 4.17357009e-004]\n",
       " [-3.66441580e-026]\n",
       " [ 1.45255460e-023]\n",
       " [ 8.32696522e-056]\n",
       " [ 4.11996826e-018]\n",
       " [ 9.81031083e-018]\n",
       " [-5.50537730e-017]\n",
       " [-1.66665025e-001]\n",
       " [ 6.79375945e-018]\n",
       " [-4.20176972e-004]\n",
       " [ 3.33332870e-001]\n",
       " [-8.28584065e-024]\n",
       " [ 4.50512733e-017]\n",
       " [ 8.37526896e-002]\n",
       " [-4.20176972e-004]\n",
       " [ 2.81371788e-026]\n",
       " [-1.66665025e-001]\n",
       " [ 3.06414462e-024]\n",
       " [-5.81860243e-026]\n",
       " [ 6.61979829e-054]\n",
       " [ 9.34744463e-018]\n",
       " [ 4.17357009e-004]\n",
       " [-1.66665025e-001]\n",
       " [ 4.49898221e-024]\n",
       " [ 4.17357009e-004]\n",
       " [ 1.37761615e-026]\n",
       " [-8.32708358e-024]\n",
       " [-1.96210979e-056]\n",
       " [ 8.29151556e-002]\n",
       " [-1.88183992e-024]\n",
       " [ 3.10175329e-026]\n",
       " [-1.83996572e-054]\n",
       " [ 3.04363588e-024]\n",
       " [-1.43175786e-056]\n",
       " [ 6.66043471e-054]\n",
       " [-1.89091402e-124]\n",
       " [ 1.73472348e-018]\n",
       " [ 0.00000000e+000]\n",
       " [ 0.00000000e+000]\n",
       " [-2.22027549e-017]\n",
       " [ 5.20417043e-018]\n",
       " [ 9.07087212e-018]\n",
       " [-2.69070965e-017]\n",
       " [ 8.29151556e-002]\n",
       " [ 6.93889390e-018]\n",
       " [ 7.95740037e-017]\n",
       " [ 6.51387815e-018]\n",
       " [ 4.17357009e-004]\n",
       " [ 8.30516669e-017]\n",
       " [-1.66665025e-001]\n",
       " [ 4.17357009e-004]\n",
       " [-3.11783925e-026]\n",
       " [ 1.30104261e-018]\n",
       " [ 7.58124558e-018]\n",
       " [ 4.67753893e-017]\n",
       " [-1.66665025e-001]\n",
       " [ 1.21386439e-017]\n",
       " [-4.20176972e-004]\n",
       " [ 8.37526896e-002]\n",
       " [-6.09236598e-024]\n",
       " [-6.80307261e-017]\n",
       " [ 3.33332870e-001]\n",
       " [-4.20176972e-004]\n",
       " [-6.15166533e-026]\n",
       " [-1.66665025e-001]\n",
       " [ 2.08734797e-023]\n",
       " [ 1.78632420e-025]\n",
       " [ 6.60722179e-054]\n",
       " [ 1.04083409e-017]\n",
       " [-2.57978119e-017]\n",
       " [ 6.89813940e-018]\n",
       " [ 4.17357009e-004]\n",
       " [-2.95443925e-017]\n",
       " [ 8.37526896e-002]\n",
       " [-4.20176972e-004]\n",
       " [ 3.30235436e-026]\n",
       " [ 7.07345556e-018]\n",
       " [-4.20176972e-004]\n",
       " [ 5.63992766e-006]\n",
       " [ 3.58383877e-029]\n",
       " [-4.20176972e-004]\n",
       " [-5.65493590e-026]\n",
       " [-2.48529131e-028]\n",
       " [-1.59500265e-056]\n",
       " [ 4.67832149e-017]\n",
       " [-1.66665025e-001]\n",
       " [-4.20176972e-004]\n",
       " [ 2.72011388e-026]\n",
       " [ 8.37526896e-002]\n",
       " [-6.12381000e-024]\n",
       " [-5.90469913e-026]\n",
       " [-1.74913252e-054]\n",
       " [ 4.17357009e-004]\n",
       " [ 2.73414441e-026]\n",
       " [ 4.49703086e-029]\n",
       " [-1.60009083e-056]\n",
       " [ 3.32821719e-026]\n",
       " [ 5.96905678e-054]\n",
       " [ 6.93264952e-056]\n",
       " [ 2.31404916e-128]\n",
       " [-1.17093835e-017]\n",
       " [ 8.57080161e-018]\n",
       " [ 4.20610524e-017]\n",
       " [ 8.29151556e-002]\n",
       " [ 1.04628716e-017]\n",
       " [ 4.17357009e-004]\n",
       " [-1.66665025e-001]\n",
       " [ 3.03328489e-024]\n",
       " [-5.70262912e-017]\n",
       " [-1.66665025e-001]\n",
       " [-4.20176972e-004]\n",
       " [ 3.02921284e-026]\n",
       " [ 3.33332870e-001]\n",
       " [-8.12902063e-024]\n",
       " [-5.92536121e-026]\n",
       " [-1.82406008e-054]\n",
       " [ 7.35990507e-018]\n",
       " [ 4.17357009e-004]\n",
       " [ 8.37526896e-002]\n",
       " [-1.88185283e-024]\n",
       " [-4.20176972e-004]\n",
       " [ 1.35883673e-026]\n",
       " [ 3.07462109e-024]\n",
       " [ 8.03558285e-057]\n",
       " [-1.66665025e-001]\n",
       " [ 4.44684202e-024]\n",
       " [ 2.76857693e-026]\n",
       " [ 7.32392677e-055]\n",
       " [-8.17105404e-024]\n",
       " [-1.80454861e-056]\n",
       " [-1.83921552e-054]\n",
       " [ 1.41919234e-126]\n",
       " [ 4.22098087e-017]\n",
       " [ 8.29151556e-002]\n",
       " [ 4.17357009e-004]\n",
       " [-1.01549157e-026]\n",
       " [-1.66665025e-001]\n",
       " [ 3.05140896e-024]\n",
       " [ 2.32337690e-026]\n",
       " [ 7.06310777e-055]\n",
       " [ 4.17357009e-004]\n",
       " [-2.24719563e-026]\n",
       " [-1.20183159e-028]\n",
       " [ 4.69177913e-057]\n",
       " [ 2.19486073e-026]\n",
       " [-1.75032513e-054]\n",
       " [-1.75743079e-056]\n",
       " [-4.15481184e-129]\n",
       " [ 8.29151556e-002]\n",
       " [-1.87288874e-024]\n",
       " [-2.27221871e-026]\n",
       " [-3.55522791e-055]\n",
       " [ 3.06182164e-024]\n",
       " [ 5.13926585e-057]\n",
       " [ 7.11458717e-055]\n",
       " [-2.82685814e-127]\n",
       " [-1.00975566e-026]\n",
       " [ 7.08068267e-055]\n",
       " [ 7.69306617e-057]\n",
       " [-4.15603281e-129]\n",
       " [-1.74735932e-054]\n",
       " [ 1.41915839e-126]\n",
       " [ 2.31522082e-128]\n",
       " [ 0.00000000e+000]]"
      ]
     },
     "execution_count": 24,
     "metadata": {},
     "output_type": "execute_result"
    }
   ],
   "source": [
    "N=8; J1=1; J2=50.0\n",
    "gs = qt.qload(f'../J1J2_info/large_J2/N{N}/n{N}gs_J2_50.0')\n",
    "gs"
   ]
  },
  {
   "cell_type": "code",
   "execution_count": 25,
   "id": "69e476be",
   "metadata": {},
   "outputs": [
    {
     "name": "stdout",
     "output_type": "stream",
     "text": [
      "torch.Size([70, 8])\n",
      "torch.Size([70, 8])\n",
      "torch.Size([70, 1])\n"
     ]
    }
   ],
   "source": [
    "states, signs = utils.get_nonzero_states(N, gs, 1e-10)\n",
    "input = utils.generate_input_samples(N, states)\n",
    "print(input.shape)\n",
    "ft_input = []\n",
    "for x in input:\n",
    "    amp_phase = []\n",
    "    ft = rfft(x)\n",
    "    for c in ft:\n",
    "        amp_phase.append(np.abs(c))\n",
    "        amp_phase.append(np.angle(c) % (2 * np.pi))\n",
    "    ft_input.append(amp_phase)\n",
    "ft_input = torch.tensor(ft_input)\n",
    "print(ft_input.shape)\n",
    "sign_label = torch.tensor(signs).reshape(-1, 1)\n",
    "print(sign_label.shape)\n",
    "sign_dataset = {'train_input':ft_input, 'train_label':sign_label, 'test_input':ft_input, 'test_label':sign_label}"
   ]
  },
  {
   "cell_type": "code",
   "execution_count": 35,
   "id": "3b742be2",
   "metadata": {},
   "outputs": [
    {
     "name": "stdout",
     "output_type": "stream",
     "text": [
      "checkpoint directory created: ./model\n",
      "saving model version 0.0\n"
     ]
    },
    {
     "name": "stderr",
     "output_type": "stream",
     "text": [
      "| train_loss: 5.41e-03 | test_loss: 7.57e-03 | reg: 6.14e+00 | : 100%|█| 50/50 [00:05<00:00,  8.87it"
     ]
    },
    {
     "name": "stdout",
     "output_type": "stream",
     "text": [
      "saving model version 0.1\n"
     ]
    },
    {
     "name": "stderr",
     "output_type": "stream",
     "text": [
      "\n"
     ]
    }
   ],
   "source": [
    "kan_model = kan.KAN(width=[N, 1, 1])\n",
    "kan_model.fit(sign_dataset, steps=50, lamb=1e-3, loss_fn = generate_loss(gs, states));"
   ]
  },
  {
   "cell_type": "code",
   "execution_count": 36,
   "id": "b1156da3",
   "metadata": {},
   "outputs": [
    {
     "data": {
      "image/png": "[encoded data removed]",
      "text/plain": [
       "<Figure size 500x400 with 12 Axes>"
      ]
     },
     "metadata": {},
     "output_type": "display_data"
    }
   ],
   "source": [
    "kan_model.plot()"
   ]
  },
  {
   "cell_type": "code",
   "execution_count": 37,
   "id": "80dac2ab",
   "metadata": {},
   "outputs": [
    {
     "name": "stdout",
     "output_type": "stream",
     "text": [
      "   function  fitting r2    r2 loss  complexity  complexity loss  total loss\n",
      "0       sin    0.999845 -12.561846           2                2   -8.193292\n",
      "1       cos    0.999845 -12.561327           2                2   -8.192929\n",
      "2  gaussian    0.999855 -12.658608           3                3   -7.961025\n",
      "3     1/x^2    0.998708  -9.584801           2                2   -6.109361\n",
      "4     1/x^4    0.996353  -8.095206           4                4   -4.466644\n"
     ]
    }
   ],
   "source": [
    "kan_model.suggest_symbolic(1, 0, 0, weight_simple=0.3);"
   ]
  },
  {
   "cell_type": "code",
   "execution_count": 38,
   "id": "00bf7b0c",
   "metadata": {},
   "outputs": [
    {
     "name": "stdout",
     "output_type": "stream",
     "text": [
      "r2 is 0.995783269405365\n",
      "saving model version 0.2\n",
      "r2 is 0.9998445510864258\n",
      "saving model version 0.3\n"
     ]
    }
   ],
   "source": [
    "# kan_model.fix_symbolic(0, 0, 0, 'x');\n",
    "kan_model.fix_symbolic(0, 4, 0, 'x');\n",
    "kan_model.fix_symbolic(1, 0, 0, 'cos');"
   ]
  },
  {
   "cell_type": "code",
   "execution_count": null,
   "id": "c164431a",
   "metadata": {},
   "outputs": [
    {
     "name": "stderr",
     "output_type": "stream",
     "text": [
      "| train_loss: 3.13e-03 | test_loss: 6.55e-03 | reg: 1.49e+00 | : 100%|█| 50/50 [00:08<00:00,  5.83it\n"
     ]
    },
    {
     "name": "stdout",
     "output_type": "stream",
     "text": [
      "saving model version 0.4\n"
     ]
    }
   ],
   "source": [
    "kan_model.fit(sign_dataset, steps=50, lamb=1e-3, loss_fn = generate_loss(gs, states=states));"
   ]
  },
  {
   "cell_type": "code",
   "execution_count": 41,
   "id": "976a89e3",
   "metadata": {},
   "outputs": [
    {
     "data": {
      "image/png": "[encoded data removed]",
      "text/plain": [
       "<Figure size 500x400 with 12 Axes>"
      ]
     },
     "metadata": {},
     "output_type": "display_data"
    }
   ],
   "source": [
    "kan_model.plot()"
   ]
  },
  {
   "cell_type": "code",
   "execution_count": 42,
   "id": "9f724570",
   "metadata": {},
   "outputs": [
    {
     "name": "stdout",
     "output_type": "stream",
     "text": [
      "  function  fitting r2    r2 loss  complexity  complexity loss  total loss\n",
      "0    1/x^2    0.999402 -10.682902           2                2   -6.878032\n",
      "1    1/x^3    0.999427 -10.744267           3                3   -6.620987\n",
      "2      1/x    0.999200 -10.270403           2                2   -6.589282\n",
      "3   arctan    0.999533 -11.033536           4                4   -6.523475\n",
      "4      exp    0.999138 -10.163479           2                2   -6.514435\n"
     ]
    }
   ],
   "source": [
    "kan_model.suggest_symbolic(0, 0, 0, weight_simple=0.3);"
   ]
  },
  {
   "cell_type": "code",
   "execution_count": null,
   "id": "a2c1e525",
   "metadata": {},
   "outputs": [
    {
     "name": "stdout",
     "output_type": "stream",
     "text": [
      "r2 is 0.9994016885757446\n",
      "saving model version 0.5\n"
     ]
    },
    {
     "name": "stderr",
     "output_type": "stream",
     "text": [
      "| train_loss: 1.99e-04 | test_loss: 4.47e-04 | reg: 5.65e-01 | : 100%|█| 50/50 [00:06<00:00,  7.75it"
     ]
    },
    {
     "name": "stdout",
     "output_type": "stream",
     "text": [
      "saving model version 0.6\n"
     ]
    },
    {
     "name": "stderr",
     "output_type": "stream",
     "text": [
      "\n"
     ]
    },
    {
     "data": {
      "text/plain": [
       "{'train_loss': [array(0.00210992),\n",
       "  array(0.00126239),\n",
       "  array(0.00097448),\n",
       "  array(0.000959),\n",
       "  array(0.00099254),\n",
       "  array(0.00069359),\n",
       "  array(0.00049171),\n",
       "  array(0.00049382),\n",
       "  array(0.00042691),\n",
       "  array(0.00050947),\n",
       "  array(0.00028343),\n",
       "  array(0.00028388),\n",
       "  array(0.00036332),\n",
       "  array(0.00028039),\n",
       "  array(0.00031671),\n",
       "  array(0.00033354),\n",
       "  array(0.00040098),\n",
       "  array(0.000796),\n",
       "  array(0.00031615),\n",
       "  array(0.00028504),\n",
       "  array(0.00069213),\n",
       "  array(0.0003249),\n",
       "  array(0.00036408),\n",
       "  array(0.00024937),\n",
       "  array(0.0003102),\n",
       "  array(0.00040069),\n",
       "  array(0.00029275),\n",
       "  array(0.0003835),\n",
       "  array(0.0001538),\n",
       "  array(0.00050732),\n",
       "  array(0.00023722),\n",
       "  array(0.00025086),\n",
       "  array(0.00026386),\n",
       "  array(0.00034061),\n",
       "  array(0.00037456),\n",
       "  array(0.0003045),\n",
       "  array(0.0003709),\n",
       "  array(0.00036841),\n",
       "  array(0.00016332),\n",
       "  array(9.6693787e-05),\n",
       "  array(0.00029489),\n",
       "  array(0.00022618),\n",
       "  array(0.00021391),\n",
       "  array(0.0001044),\n",
       "  array(0.00019466),\n",
       "  array(0.00020222),\n",
       "  array(0.00025234),\n",
       "  array(0.00025849),\n",
       "  array(0.00012889),\n",
       "  array(0.00019918)],\n",
       " 'test_loss': [array(0.00289852),\n",
       "  array(0.00130562),\n",
       "  array(0.0021309),\n",
       "  array(0.00215908),\n",
       "  array(0.00151753),\n",
       "  array(0.00099275),\n",
       "  array(0.00073004),\n",
       "  array(0.00127516),\n",
       "  array(0.00085819),\n",
       "  array(0.00097664),\n",
       "  array(0.00083967),\n",
       "  array(0.0004848),\n",
       "  array(0.00051974),\n",
       "  array(0.00071433),\n",
       "  array(0.00042417),\n",
       "  array(0.0007445),\n",
       "  array(0.00056022),\n",
       "  array(0.00062592),\n",
       "  array(0.00116158),\n",
       "  array(0.00073088),\n",
       "  array(0.00058624),\n",
       "  array(0.000542),\n",
       "  array(0.00053613),\n",
       "  array(0.00057015),\n",
       "  array(0.00043807),\n",
       "  array(0.00073806),\n",
       "  array(0.0005101),\n",
       "  array(0.00070529),\n",
       "  array(0.00053769),\n",
       "  array(0.0009237),\n",
       "  array(0.00195965),\n",
       "  array(0.00069786),\n",
       "  array(0.00075745),\n",
       "  array(0.00051264),\n",
       "  array(0.00055152),\n",
       "  array(0.00057404),\n",
       "  array(0.00051171),\n",
       "  array(0.00032275),\n",
       "  array(0.00028475),\n",
       "  array(0.00026473),\n",
       "  array(0.00074845),\n",
       "  array(0.00040406),\n",
       "  array(0.00030521),\n",
       "  array(0.00096222),\n",
       "  array(0.00035516),\n",
       "  array(0.00031951),\n",
       "  array(0.00053065),\n",
       "  array(0.00033655),\n",
       "  array(0.0004718),\n",
       "  array(0.00044742)],\n",
       " 'reg': [array(0., dtype=float32),\n",
       "  array(0., dtype=float32),\n",
       "  array(0., dtype=float32),\n",
       "  array(0., dtype=float32),\n",
       "  array(0., dtype=float32),\n",
       "  array(0., dtype=float32),\n",
       "  array(0., dtype=float32),\n",
       "  array(0., dtype=float32),\n",
       "  array(0., dtype=float32),\n",
       "  array(0., dtype=float32),\n",
       "  array(0., dtype=float32),\n",
       "  array(0., dtype=float32),\n",
       "  array(0., dtype=float32),\n",
       "  array(0., dtype=float32),\n",
       "  array(0., dtype=float32),\n",
       "  array(0., dtype=float32),\n",
       "  array(0., dtype=float32),\n",
       "  array(0., dtype=float32),\n",
       "  array(0., dtype=float32),\n",
       "  array(0., dtype=float32),\n",
       "  array(0., dtype=float32),\n",
       "  array(0., dtype=float32),\n",
       "  array(0., dtype=float32),\n",
       "  array(0., dtype=float32),\n",
       "  array(0., dtype=float32),\n",
       "  array(0., dtype=float32),\n",
       "  array(0., dtype=float32),\n",
       "  array(0., dtype=float32),\n",
       "  array(0., dtype=float32),\n",
       "  array(0., dtype=float32),\n",
       "  array(0., dtype=float32),\n",
       "  array(0., dtype=float32),\n",
       "  array(0., dtype=float32),\n",
       "  array(0., dtype=float32),\n",
       "  array(0., dtype=float32),\n",
       "  array(0., dtype=float32),\n",
       "  array(0., dtype=float32),\n",
       "  array(0., dtype=float32),\n",
       "  array(0., dtype=float32),\n",
       "  array(0., dtype=float32),\n",
       "  array(0., dtype=float32),\n",
       "  array(0., dtype=float32),\n",
       "  array(0., dtype=float32),\n",
       "  array(0., dtype=float32),\n",
       "  array(0., dtype=float32),\n",
       "  array(0., dtype=float32),\n",
       "  array(0., dtype=float32),\n",
       "  array(0., dtype=float32),\n",
       "  array(0., dtype=float32),\n",
       "  array(0.5651514, dtype=float32)]}"
      ]
     },
     "execution_count": 43,
     "metadata": {},
     "output_type": "execute_result"
    }
   ],
   "source": [
    "kan_model.fix_symbolic(0, 0, 0, '1/x^2');\n",
    "kan_model.fit(sign_dataset, steps=50, loss_fn=generate_loss(gs, states=states))"
   ]
  },
  {
   "cell_type": "code",
   "execution_count": 44,
   "id": "bab23768",
   "metadata": {},
   "outputs": [
    {
     "data": {
      "image/png": "[encoded data removed]",
      "text/plain": [
       "<Figure size 500x400 with 12 Axes>"
      ]
     },
     "metadata": {},
     "output_type": "display_data"
    }
   ],
   "source": [
    "kan_model.plot()"
   ]
  },
  {
   "cell_type": "code",
   "execution_count": 45,
   "id": "ca28b235",
   "metadata": {},
   "outputs": [
    {
     "name": "stderr",
     "output_type": "stream",
     "text": [
      "c:\\Users\\taoha\\anaconda3\\envs\\kans\\lib\\site-packages\\sympy\\core\\sympify.py:475: UserWarning: Converting a tensor with requires_grad=True to a scalar may lead to unexpected behavior.\n",
      "Consider using tensor.detach() first. (Triggered internally at C:\\actions-runner\\_work\\pytorch\\pytorch\\pytorch\\torch\\csrc\\autograd\\generated\\python_variable_methods.cpp:836.)\n",
      "  return sympify(float(a))\n"
     ]
    },
    {
     "data": {
      "text/latex": [
       "$\\displaystyle 1.0 \\cos{\\left(6.169 x_{5} + 7.348 - \\frac{4.482}{\\left(1.613 - 0.175 x_{1}\\right)^{2}} \\right)}$"
      ],
      "text/plain": [
       "1.0*cos(6.169*x_5 + 7.348 - 4.482/(1.613 - 0.175*x_1)**2)"
      ]
     },
     "execution_count": 45,
     "metadata": {},
     "output_type": "execute_result"
    }
   ],
   "source": [
    "ku.ex_round(kan_model.symbolic_formula()[0][0], 3)"
   ]
  },
  {
   "cell_type": "code",
   "execution_count": 46,
   "id": "d365b68c",
   "metadata": {},
   "outputs": [
    {
     "name": "stdout",
     "output_type": "stream",
     "text": [
      "torch.Size([70, 8])\n",
      "torch.Size([70, 8])\n",
      "torch.Size([70, 1])\n"
     ]
    }
   ],
   "source": [
    "gs1 = qt.qload(f'../J1J2_info/large_J2/N{N}/n{N}gs_J2_1.0')\n",
    "\n",
    "states, signs = utils.get_nonzero_states(N, gs1, 1e-10)\n",
    "input = utils.generate_input_samples(N, states)\n",
    "print(input.shape)\n",
    "ft_input = []\n",
    "for x in input:\n",
    "    amp_phase = []\n",
    "    ft = rfft(x)\n",
    "    for c in ft:\n",
    "        amp_phase.append(np.abs(c))\n",
    "        amp_phase.append(np.angle(c) % (2 * np.pi))\n",
    "    ft_input.append(amp_phase)\n",
    "ft_input = torch.tensor(ft_input)\n",
    "print(ft_input.shape)\n",
    "sign_label1 = torch.tensor(signs).reshape(-1, 1)\n",
    "print(sign_label1.shape)\n",
    "sign_dataset1 = {'train_input':ft_input, 'train_label':sign_label, 'test_input':ft_input, 'test_label':sign_label}"
   ]
  },
  {
   "cell_type": "code",
   "execution_count": null,
   "id": "299cdb17",
   "metadata": {},
   "outputs": [
    {
     "name": "stdout",
     "output_type": "stream",
     "text": [
      "checkpoint directory created: ./model\n",
      "saving model version 0.0\n"
     ]
    },
    {
     "name": "stderr",
     "output_type": "stream",
     "text": [
      "| train_loss: 5.21e-03 | test_loss: 5.06e-03 | reg: 6.47e+00 | : 100%|█| 50/50 [00:05<00:00,  8.89it"
     ]
    },
    {
     "name": "stdout",
     "output_type": "stream",
     "text": [
      "saving model version 0.1\n"
     ]
    },
    {
     "name": "stderr",
     "output_type": "stream",
     "text": [
      "\n"
     ]
    }
   ],
   "source": [
    "kan1 = kan.KAN(width=[N, 1, 1])\n",
    "kan1.fit(sign_dataset1, steps=50, lamb=1e-3, loss_fn = generate_loss(gs1, states=states));"
   ]
  },
  {
   "cell_type": "code",
   "execution_count": 49,
   "id": "30eefcb5",
   "metadata": {},
   "outputs": [
    {
     "data": {
      "image/png": "[encoded data removed]",
      "text/plain": [
       "<Figure size 500x400 with 12 Axes>"
      ]
     },
     "metadata": {},
     "output_type": "display_data"
    }
   ],
   "source": [
    "kan1.plot()\n"
   ]
  },
  {
   "cell_type": "code",
   "execution_count": 51,
   "id": "9b454273",
   "metadata": {},
   "outputs": [
    {
     "name": "stdout",
     "output_type": "stream",
     "text": [
      "   function  fitting r2    r2 loss  complexity  complexity loss  total loss\n",
      "0  gaussian    0.999841 -12.534550           3                3   -4.767275\n",
      "1     1/x^2    0.999453 -10.809285           2                2   -4.404642\n",
      "2     1/x^4    0.999830 -12.443124           4                4   -4.221562\n",
      "3       cos    0.999065 -10.047734           2                2   -4.023867\n",
      "4       sin    0.999029  -9.992730           2                2   -3.996365\n",
      "5       x^2    0.964276  -4.806569           2                2   -1.403285\n",
      "6       abs    0.979668  -5.619367           3                3   -1.309683\n",
      "7       tan    0.956715  -4.529663           3                3   -0.764832\n",
      "8       x^4    0.897306  -3.283440           3                3   -0.141720\n",
      "9         0    0.000000   0.000014           0                0    0.000007\n",
      "    function  fitting r2    r2 loss  complexity  complexity loss  total loss\n",
      "0        cos    0.999921 -13.463003           2                2   -5.731501\n",
      "1        sin    0.999921 -13.462032           2                2   -5.731016\n",
      "2        abs    0.999954 -14.128446           3                3   -5.564223\n",
      "3       tanh    0.999869 -12.793735           3                3   -4.896868\n",
      "4   gaussian    0.999849 -12.603517           3                3   -4.801759\n",
      "5     arctan    0.999825 -12.403916           4                4   -4.201958\n",
      "6        x^2    0.998139  -9.062223           2                2   -3.531111\n",
      "7        exp    0.997907  -8.893160           2                2   -3.446580\n",
      "8        log    0.997687  -8.749747           2                2   -3.374874\n",
      "9  1/sqrt(x)    0.997620  -8.708730           2                2   -3.354365\n",
      "   function  fitting r2    r2 loss  complexity  complexity loss  total loss\n",
      "0       cos    0.999930 -13.602569           2                2   -5.801285\n",
      "1       sin    0.999928 -13.582388           2                2   -5.791194\n",
      "2      tanh    0.999906 -13.234488           3                3   -5.117244\n",
      "3  gaussian    0.999880 -12.906733           3                3   -4.953366\n",
      "4       abs    0.999833 -12.462892           3                3   -4.731446\n",
      "5    arctan    0.999886 -12.980568           4                4   -4.490284\n",
      "6         x    0.996450  -8.134103           1                1   -3.567052\n",
      "7       x^2    0.998170  -9.086326           2                2   -3.543163\n",
      "8       exp    0.998094  -9.027703           2                2   -3.513852\n",
      "9       log    0.998023  -8.975433           2                2   -3.487716\n"
     ]
    }
   ],
   "source": [
    "kan1.suggest_symbolic(1, 0, 0, weight_simple=0.5, topk=10);\n",
    "kan1.suggest_symbolic(0, 0, 0, weight_simple=0.5, topk=10);\n",
    "kan1.suggest_symbolic(0, 4, 0, weight_simple=0.5, topk=10);"
   ]
  },
  {
   "cell_type": "code",
   "execution_count": 52,
   "id": "47f74220",
   "metadata": {},
   "outputs": [
    {
     "name": "stdout",
     "output_type": "stream",
     "text": [
      "r2 is 0.9990652203559875\n",
      "saving model version 0.2\n",
      "r2 is 0.9930309057235718\n",
      "saving model version 0.3\n",
      "r2 is 0.9964504837989807\n",
      "saving model version 0.4\n"
     ]
    }
   ],
   "source": [
    "kan1.fix_symbolic(1, 0, 0, 'cos');\n",
    "kan1.fix_symbolic(0, 0, 0, 'x');\n",
    "kan1.fix_symbolic(0, 4, 0, 'x');"
   ]
  },
  {
   "cell_type": "code",
   "execution_count": null,
   "id": "8000a60f",
   "metadata": {},
   "outputs": [
    {
     "name": "stderr",
     "output_type": "stream",
     "text": [
      "| train_loss: 2.95e-03 | test_loss: 2.72e-03 | reg: 7.27e-02 | : 100%|█| 50/50 [00:08<00:00,  6.10it"
     ]
    },
    {
     "name": "stdout",
     "output_type": "stream",
     "text": [
      "saving model version 0.5\n"
     ]
    },
    {
     "name": "stderr",
     "output_type": "stream",
     "text": [
      "\n"
     ]
    }
   ],
   "source": [
    "kan1.fit(sign_dataset1, steps=50, lamb=1e-3, loss_fn = generate_loss(gs1, states=states));"
   ]
  },
  {
   "cell_type": "code",
   "execution_count": 54,
   "id": "2015e16b",
   "metadata": {},
   "outputs": [
    {
     "data": {
      "image/png": "[encoded data removed]",
      "text/plain": [
       "<Figure size 500x400 with 12 Axes>"
      ]
     },
     "metadata": {},
     "output_type": "display_data"
    }
   ],
   "source": [
    "kan1.plot()"
   ]
  },
  {
   "cell_type": "code",
   "execution_count": 58,
   "id": "b6111762",
   "metadata": {},
   "outputs": [
    {
     "data": {
      "text/plain": [
       "tensor(0., grad_fn=<MeanBackward0>)"
      ]
     },
     "execution_count": 58,
     "metadata": {},
     "output_type": "execute_result"
    }
   ],
   "source": [
    "torch.sqrt((kan1(sign_dataset1['train_input']).round() - sign_dataset1['train_label'])**2).mean()"
   ]
  },
  {
   "cell_type": "code",
   "execution_count": 59,
   "id": "c3a2de5b",
   "metadata": {},
   "outputs": [
    {
     "data": {
      "text/latex": [
       "$\\displaystyle 1.3409 \\cos{\\left(0.5998 x_{1} - 1.4461 x_{5} + 6.8284 \\right)} - 0.2899$"
      ],
      "text/plain": [
       "1.3409*cos(0.5998*x_1 - 1.4461*x_5 + 6.8284) - 0.2899"
      ]
     },
     "execution_count": 59,
     "metadata": {},
     "output_type": "execute_result"
    }
   ],
   "source": [
    "ku.ex_round(kan1.symbolic_formula()[0][0], 4)"
   ]
  },
  {
   "cell_type": "code",
   "execution_count": 61,
   "id": "08400606",
   "metadata": {},
   "outputs": [
    {
     "data": {
      "text/plain": [
       "(0.1906676218240906, 0.45836623610465854, 2.1708734237734526)"
      ]
     },
     "execution_count": 61,
     "metadata": {},
     "output_type": "execute_result"
    }
   ],
   "source": [
    "0.599/np.pi, 1.44/np.pi, 6.82/np.pi, "
   ]
  },
  {
   "cell_type": "code",
   "execution_count": 83,
   "id": "f7f30ddd",
   "metadata": {},
   "outputs": [],
   "source": [
    "def get_nonzero_states(N, gs, threshold):\n",
    "    states = []\n",
    "    signs = []\n",
    "    for i in range(0, 2**N):\n",
    "        val = gs[i][0].real\n",
    "        if abs(val) >= threshold:\n",
    "            states.append(i)\n",
    "            signs.append(-1 + 2 * int(val > 0))\n",
    "    return states, signs"
   ]
  },
  {
   "cell_type": "code",
   "execution_count": 182,
   "id": "00e046b4",
   "metadata": {},
   "outputs": [
    {
     "name": "stdout",
     "output_type": "stream",
     "text": [
      "torch.Size([256, 8])\n",
      "0.8843085805538319\n",
      "0.0012329768918191398\n",
      "0.0001538561577636679\n",
      "4.434257255561371e-05\n",
      "1.8035143307892906e-05\n"
     ]
    }
   ],
   "source": [
    "torch.manual_seed(0)\n",
    "gs_inf = j1j2_functions.J1J2_hamiltonian(N, 0, 1).eigenstates()[1][0]\n",
    "states_inf, signs_inf = get_nonzero_states(N, gs_inf, 0)\n",
    "\n",
    "#input = utils.generate_input_samples(N, states_inf)\n",
    "input = utils.generate_input_torch(N)\n",
    "print(input.shape)\n",
    "ft_input = []\n",
    "for x in input:\n",
    "    amp_phase = []\n",
    "    ft = rfft(x)\n",
    "    for c in ft:\n",
    "        amp_phase.append(np.abs(c))\n",
    "        amp_phase.append(np.angle(c) % (2 * np.pi))\n",
    "    ft_input.append(amp_phase)\n",
    "ft_input = torch.tensor(ft_input)\n",
    "signs_inf = torch.tensor(signs_inf).reshape(-1, 1)\n",
    "\n",
    "linear_layer = nn.Sequential(nn.Linear(N, 1))\n",
    "opt = torch.optim.Adam(linear_layer.parameters(), lr=0.01, weight_decay=0)\n",
    "floss = generate_loss(gs_inf, all=True)\n",
    "epochs = 1000; datarate = epochs // 5\n",
    "for i in range(epochs):\n",
    "    def closure():\n",
    "        opt.zero_grad()\n",
    "        pred = torch.cos(linear_layer(ft_input))\n",
    "        loss = torch.min(floss(pred, signs_inf), floss(pred, -1 * signs_inf))\n",
    "        loss.backward()\n",
    "        return loss\n",
    "    loss = opt.step(closure)\n",
    "    if i % datarate == 0:\n",
    "        print(loss.item())"
   ]
  },
  {
   "cell_type": "code",
   "execution_count": 183,
   "id": "d49d9545",
   "metadata": {},
   "outputs": [
    {
     "name": "stdout",
     "output_type": "stream",
     "text": [
      "0.8934400677680969\n",
      "8.859288523257702e-06\n"
     ]
    }
   ],
   "source": [
    "print(torch.sqrt((torch.cos(linear_layer(ft_input)) - signs_inf) ** 2).mean().item())\n",
    "print(generate_loss(gs_inf, all=True)(torch.cos(linear_layer(ft_input)), signs_inf).item())"
   ]
  },
  {
   "cell_type": "code",
   "execution_count": 184,
   "id": "2ad110db",
   "metadata": {},
   "outputs": [
    {
     "data": {
      "text/plain": [
       "[Parameter containing:\n",
       " tensor([[ 0.3659,  0.0226, -0.5949, -0.0148,  0.3585,  0.0244, -0.0070,  0.2803]],\n",
       "        requires_grad=True),\n",
       " Parameter containing:\n",
       " tensor([0.2472], requires_grad=True)]"
      ]
     },
     "execution_count": 184,
     "metadata": {},
     "output_type": "execute_result"
    }
   ],
   "source": [
    "[n for n in linear_layer.parameters()]"
   ]
  },
  {
   "cell_type": "code",
   "execution_count": 185,
   "id": "e989d4e1",
   "metadata": {},
   "outputs": [
    {
     "data": {
      "text/plain": [
       "array([50.        , 25.        , 16.66666667, 12.5       , 10.        ])"
      ]
     },
     "execution_count": 185,
     "metadata": {},
     "output_type": "execute_result"
    }
   ],
   "source": [
    "J2s = 1/ np.linspace(0 + 2 / 100, 2, 100)\n",
    "J2s[:5]"
   ]
  },
  {
   "cell_type": "code",
   "execution_count": 186,
   "id": "4f522263",
   "metadata": {},
   "outputs": [
    {
     "name": "stdout",
     "output_type": "stream",
     "text": [
      "J2 50.0\n",
      "J2 25.0\n",
      "J2 16.666666666666668\n",
      "J2 12.5\n",
      "J2 10.0\n",
      "J2 8.333333333333332\n",
      "J2 7.142857142857143\n",
      "J2 6.25\n",
      "J2 5.555555555555555\n",
      "J2 5.0\n",
      "J2 4.545454545454546\n",
      "J2 4.166666666666667\n",
      "J2 3.846153846153846\n",
      "J2 3.571428571428571\n",
      "J2 3.333333333333333\n",
      "J2 3.125\n",
      "J2 2.941176470588235\n",
      "J2 2.7777777777777772\n",
      "J2 2.6315789473684212\n",
      "J2 2.5\n",
      "J2 2.380952380952381\n",
      "J2 2.272727272727273\n",
      "J2 2.1739130434782608\n",
      "J2 2.083333333333333\n",
      "J2 2.0\n",
      "J2 1.923076923076923\n",
      "J2 1.8518518518518516\n",
      "J2 1.7857142857142856\n",
      "J2 1.7241379310344827\n",
      "J2 1.6666666666666667\n",
      "J2 1.6129032258064517\n",
      "J2 1.5625\n",
      "J2 1.5151515151515151\n",
      "J2 1.4705882352941175\n",
      "J2 1.4285714285714284\n",
      "J2 1.3888888888888886\n",
      "J2 1.3513513513513513\n",
      "J2 1.3157894736842106\n",
      "J2 1.282051282051282\n",
      "J2 1.25\n",
      "J2 1.2195121951219512\n",
      "J2 1.1904761904761905\n",
      "J2 1.1627906976744187\n",
      "J2 1.1363636363636365\n",
      "J2 1.1111111111111112\n",
      "J2 1.0869565217391304\n",
      "J2 1.0638297872340425\n",
      "J2 1.0416666666666665\n",
      "J2 1.0204081632653061\n",
      "J2 1.0\n",
      "J2 0.9803921568627451\n",
      "J2 0.9615384615384615\n",
      "J2 0.9433962264150942\n",
      "J2 0.9259259259259258\n",
      "J2 0.9090909090909091\n",
      "J2 0.8928571428571428\n",
      "J2 0.8771929824561403\n",
      "J2 0.8620689655172413\n",
      "J2 0.8474576271186441\n",
      "J2 0.8333333333333334\n",
      "J2 0.819672131147541\n",
      "J2 0.8064516129032259\n",
      "J2 0.7936507936507936\n",
      "J2 0.78125\n",
      "J2 0.7692307692307692\n",
      "J2 0.7575757575757576\n",
      "J2 0.7462686567164178\n",
      "J2 0.7352941176470588\n",
      "J2 0.7246376811594202\n",
      "J2 0.7142857142857142\n",
      "J2 0.704225352112676\n",
      "J2 0.6944444444444444\n",
      "J2 0.684931506849315\n",
      "J2 0.6756756756756757\n",
      "J2 0.6666666666666666\n",
      "J2 0.6578947368421053\n",
      "J2 0.6493506493506493\n",
      "J2 0.641025641025641\n",
      "J2 0.6329113924050632\n",
      "J2 0.625\n",
      "J2 0.6172839506172839\n",
      "J2 0.6097560975609756\n",
      "J2 0.6024096385542168\n",
      "J2 0.5952380952380952\n",
      "J2 0.5882352941176471\n",
      "J2 0.5813953488372093\n",
      "J2 0.5747126436781609\n",
      "J2 0.5681818181818182\n",
      "J2 0.5617977528089888\n",
      "J2 0.5555555555555556\n",
      "J2 0.5494505494505494\n",
      "J2 0.5434782608695652\n",
      "J2 0.5376344086021505\n",
      "J2 0.5319148936170213\n",
      "J2 0.5263157894736842\n",
      "J2 0.5208333333333333\n",
      "J2 0.5154639175257733\n",
      "J2 0.5102040816326531\n",
      "J2 0.5050505050505051\n",
      "J2 0.5\n"
     ]
    }
   ],
   "source": [
    "all_params = [[n.detach().clone() for n in linear_layer.parameters()]]\n",
    "losses = [generate_loss(gs_inf, all=True)(torch.cos(linear_layer(ft_input)), signs_inf).item()]\n",
    "for J2 in J2s:\n",
    "    print('J2', J2)\n",
    "    gs = qt.qload(f'../J1J2_info/large_J2/N{N}/n{N}gs_J2_{round(J2, 4)}')\n",
    "    states, signs = get_nonzero_states(N, gs, 0)\n",
    "    floss = generate_loss(gs, all=True)\n",
    "    epochs = 200; datarate = epochs // 5\n",
    "\n",
    "    for i in range(epochs):\n",
    "        def closure():\n",
    "            opt.zero_grad()\n",
    "            pred = torch.cos(linear_layer(ft_input))\n",
    "            loss = torch.min(floss(pred, signs_inf), floss(pred, -1 * signs_inf))\n",
    "            loss.backward()\n",
    "            return loss\n",
    "        loss = opt.step(closure)\n",
    "        #if i % datarate == 0:\n",
    "        #    print(loss.item())\n",
    "    \n",
    "    all_params.append([n.detach().clone() for n in linear_layer.parameters()])\n",
    "    pred = torch.cos(linear_layer(ft_input))\n",
    "    losses.append(torch.min(floss(pred, signs_inf), floss(pred, -1 * signs_inf)).item())\n",
    "    #print()"
   ]
  },
  {
   "cell_type": "code",
   "execution_count": 187,
   "id": "18c764e9",
   "metadata": {},
   "outputs": [
    {
     "data": {
      "image/png": "[encoded data removed]",
      "text/plain": [
       "<Figure size 640x480 with 1 Axes>"
      ]
     },
     "metadata": {},
     "output_type": "display_data"
    }
   ],
   "source": [
    "plt.plot(J2s, losses[1:])\n",
    "plt.yscale('log')\n",
    "plt.xscale('log')\n",
    "plt.title('loss as a function of J2 for linear approximator')\n",
    "plt.show()"
   ]
  },
  {
   "cell_type": "code",
   "execution_count": 188,
   "id": "6304dde6",
   "metadata": {},
   "outputs": [
    {
     "data": {
      "text/plain": [
       "tensor(0.3686)"
      ]
     },
     "execution_count": 188,
     "metadata": {},
     "output_type": "execute_result"
    }
   ],
   "source": [
    "all_params[1][0][0][0]"
   ]
  },
  {
   "cell_type": "code",
   "execution_count": 189,
   "id": "ee9be0ae",
   "metadata": {},
   "outputs": [
    {
     "data": {
      "image/png": "[encoded data removed]",
      "text/plain": [
       "<Figure size 1200x1000 with 9 Axes>"
      ]
     },
     "metadata": {},
     "output_type": "display_data"
    }
   ],
   "source": [
    "fig, axes = plt.subplots(3, 3, figsize=(12, 10))\n",
    "axes = axes.flatten()\n",
    "\n",
    "# Plot each weight\n",
    "for i in range(8):\n",
    "    param_vals = [all_params[1 + j][0][0][i].item() for j in range(len(J2s))]\n",
    "    axes[i].plot(J2s, param_vals)\n",
    "    axes[i].set_xscale('log')\n",
    "    axes[i].set_xlabel('J2')\n",
    "    axes[i].set_title(f'weight {i}')\n",
    "\n",
    "# Plot bias\n",
    "bias_vals = [all_params[1 + j][1][0].item() for j in range(len(J2s))]\n",
    "axes[8].plot(J2s, bias_vals)\n",
    "axes[8].set_xscale('log')\n",
    "axes[8].set_xlabel('J2')\n",
    "axes[8].set_title('bias val')\n",
    "\n",
    "# Hide any extra empty subplots (if the grid has more than 9)\n",
    "for k in range(9, len(axes)):\n",
    "    fig.delaxes(axes[k])\n",
    "\n",
    "plt.tight_layout()\n",
    "plt.show()"
   ]
  },
  {
   "cell_type": "code",
   "execution_count": 241,
   "id": "ab1b56d8",
   "metadata": {},
   "outputs": [],
   "source": [
    "crit_weights = [0, 2, 4, 6]"
   ]
  },
  {
   "cell_type": "code",
   "execution_count": 242,
   "id": "46db989b",
   "metadata": {},
   "outputs": [
    {
     "name": "stdout",
     "output_type": "stream",
     "text": [
      "torch.Size([256, 8])\n",
      "torch.Size([256, 4])\n"
     ]
    }
   ],
   "source": [
    "print(ft_input.shape)\n",
    "crit_input = ft_input[:, crit_weights]\n",
    "print(crit_input.shape)"
   ]
  },
  {
   "cell_type": "code",
   "execution_count": 243,
   "id": "5e908888",
   "metadata": {},
   "outputs": [
    {
     "name": "stdout",
     "output_type": "stream",
     "text": [
      "0.8100099437870089\n",
      "9.146438363435058e-06\n",
      "4.670287226973516e-06\n",
      "1.448504791470542e-06\n",
      "2.964258038041913e-07\n"
     ]
    }
   ],
   "source": [
    "torch.manual_seed(0)\n",
    "crit_linear = nn.Sequential(nn.Linear(len(crit_weights), 1))\n",
    "crit_opt = torch.optim.Adam(crit_linear.parameters(), lr=0.01, weight_decay=0)\n",
    "floss = generate_loss(gs_inf, all=True)\n",
    "epochs = 10000; datarate = epochs // 5\n",
    "for i in range(epochs):\n",
    "    def closure():\n",
    "        crit_opt.zero_grad()\n",
    "        pred = torch.cos(crit_linear(crit_input))\n",
    "        loss = torch.min(floss(pred, signs_inf), floss(pred, -1 * signs_inf))\n",
    "        loss.backward()\n",
    "        return loss\n",
    "    loss = crit_opt.step(closure)\n",
    "    if i % datarate == 0:\n",
    "        print(loss.item())"
   ]
  },
  {
   "cell_type": "code",
   "execution_count": 244,
   "id": "f4d2b7a0",
   "metadata": {},
   "outputs": [
    {
     "name": "stdout",
     "output_type": "stream",
     "text": [
      "4.774201222011875e-08\n"
     ]
    }
   ],
   "source": [
    "print(generate_loss(gs_inf, all=True)(torch.cos(crit_linear(crit_input)), signs_inf).item())"
   ]
  },
  {
   "cell_type": "code",
   "execution_count": 245,
   "id": "2475264a",
   "metadata": {},
   "outputs": [
    {
     "name": "stdout",
     "output_type": "stream",
     "text": [
      "J2 50.0\n",
      "J2 25.0\n",
      "J2 16.666666666666668\n",
      "J2 12.5\n",
      "J2 10.0\n",
      "J2 8.333333333333332\n",
      "J2 7.142857142857143\n",
      "J2 6.25\n",
      "J2 5.555555555555555\n",
      "J2 5.0\n",
      "J2 4.545454545454546\n",
      "J2 4.166666666666667\n",
      "J2 3.846153846153846\n",
      "J2 3.571428571428571\n",
      "J2 3.333333333333333\n",
      "J2 3.125\n",
      "J2 2.941176470588235\n",
      "J2 2.7777777777777772\n",
      "J2 2.6315789473684212\n",
      "J2 2.5\n",
      "J2 2.380952380952381\n",
      "J2 2.272727272727273\n",
      "J2 2.1739130434782608\n",
      "J2 2.083333333333333\n",
      "J2 2.0\n",
      "J2 1.923076923076923\n",
      "J2 1.8518518518518516\n",
      "J2 1.7857142857142856\n",
      "J2 1.7241379310344827\n",
      "J2 1.6666666666666667\n",
      "J2 1.6129032258064517\n",
      "J2 1.5625\n",
      "J2 1.5151515151515151\n",
      "J2 1.4705882352941175\n",
      "J2 1.4285714285714284\n",
      "J2 1.3888888888888886\n",
      "J2 1.3513513513513513\n",
      "J2 1.3157894736842106\n",
      "J2 1.282051282051282\n",
      "J2 1.25\n",
      "J2 1.2195121951219512\n",
      "J2 1.1904761904761905\n",
      "J2 1.1627906976744187\n",
      "J2 1.1363636363636365\n",
      "J2 1.1111111111111112\n",
      "J2 1.0869565217391304\n",
      "J2 1.0638297872340425\n",
      "J2 1.0416666666666665\n",
      "J2 1.0204081632653061\n",
      "J2 1.0\n",
      "J2 0.9803921568627451\n",
      "J2 0.9615384615384615\n",
      "J2 0.9433962264150942\n",
      "J2 0.9259259259259258\n",
      "J2 0.9090909090909091\n",
      "J2 0.8928571428571428\n",
      "J2 0.8771929824561403\n",
      "J2 0.8620689655172413\n",
      "J2 0.8474576271186441\n",
      "J2 0.8333333333333334\n",
      "J2 0.819672131147541\n",
      "J2 0.8064516129032259\n",
      "J2 0.7936507936507936\n",
      "J2 0.78125\n",
      "J2 0.7692307692307692\n",
      "J2 0.7575757575757576\n",
      "J2 0.7462686567164178\n",
      "J2 0.7352941176470588\n",
      "J2 0.7246376811594202\n",
      "J2 0.7142857142857142\n",
      "J2 0.704225352112676\n",
      "J2 0.6944444444444444\n",
      "J2 0.684931506849315\n",
      "J2 0.6756756756756757\n",
      "J2 0.6666666666666666\n",
      "J2 0.6578947368421053\n",
      "J2 0.6493506493506493\n",
      "J2 0.641025641025641\n",
      "J2 0.6329113924050632\n",
      "J2 0.625\n",
      "J2 0.6172839506172839\n",
      "J2 0.6097560975609756\n",
      "J2 0.6024096385542168\n",
      "J2 0.5952380952380952\n",
      "J2 0.5882352941176471\n",
      "J2 0.5813953488372093\n",
      "J2 0.5747126436781609\n",
      "J2 0.5681818181818182\n",
      "J2 0.5617977528089888\n",
      "J2 0.5555555555555556\n",
      "J2 0.5494505494505494\n",
      "J2 0.5434782608695652\n",
      "J2 0.5376344086021505\n",
      "J2 0.5319148936170213\n",
      "J2 0.5263157894736842\n",
      "J2 0.5208333333333333\n",
      "J2 0.5154639175257733\n",
      "J2 0.5102040816326531\n",
      "J2 0.5050505050505051\n",
      "J2 0.5\n"
     ]
    }
   ],
   "source": [
    "crit_params = [[n.detach().clone() for n in crit_linear.parameters()]]\n",
    "crit_losses = [generate_loss(gs_inf, all=True)(torch.cos(crit_linear(crit_input)), signs_inf).item()]\n",
    "for J2 in J2s:\n",
    "    print('J2', J2)\n",
    "    gs = qt.qload(f'../J1J2_info/large_J2/N{N}/n{N}gs_J2_{round(J2, 4)}')\n",
    "    states, signs = get_nonzero_states(N, gs, 0)\n",
    "    floss = generate_loss(gs, all=True)\n",
    "    epochs = 200; datarate = epochs // 5\n",
    "\n",
    "    for i in range(epochs):\n",
    "        def closure():\n",
    "            crit_opt.zero_grad()\n",
    "            pred = torch.cos(crit_linear(crit_input))\n",
    "            loss = torch.min(floss(pred, signs_inf), floss(pred, -1 * signs_inf))\n",
    "            loss.backward()\n",
    "            return loss\n",
    "        loss = crit_opt.step(closure)\n",
    "        #if i % datarate == 0:\n",
    "        #    print(loss.item())\n",
    "    \n",
    "    crit_params.append([n.detach().clone() for n in crit_linear.parameters()])\n",
    "    pred = torch.cos(crit_linear(crit_input))\n",
    "    crit_losses.append(torch.min(floss(pred, signs_inf), floss(pred, -1 * signs_inf)).item())\n",
    "    #print()"
   ]
  },
  {
   "cell_type": "code",
   "execution_count": 246,
   "id": "f7eef217",
   "metadata": {},
   "outputs": [
    {
     "data": {
      "image/png": "[encoded data removed]",
      "text/plain": [
       "<Figure size 640x480 with 1 Axes>"
      ]
     },
     "metadata": {},
     "output_type": "display_data"
    }
   ],
   "source": [
    "plt.plot(J2s, crit_losses[1:])\n",
    "plt.yscale('log')\n",
    "plt.xscale('log')\n",
    "plt.title('loss as a function of J2 for linear approximator')\n",
    "plt.show()"
   ]
  },
  {
   "cell_type": "code",
   "execution_count": 247,
   "id": "08b0e158",
   "metadata": {},
   "outputs": [
    {
     "data": {
      "image/png": "[encoded data removed]",
      "text/plain": [
       "<Figure size 1200x1000 with 5 Axes>"
      ]
     },
     "metadata": {},
     "output_type": "display_data"
    }
   ],
   "source": [
    "fig, axes = plt.subplots(3, 3, figsize=(12, 10))\n",
    "axes = axes.flatten()\n",
    "\n",
    "# Plot each weight\n",
    "for i in range(len(crit_weights)):\n",
    "    param_vals = [crit_params[1 + j][0][0][i].item() for j in range(len(J2s))]\n",
    "    axes[i].plot(J2s, param_vals)\n",
    "    axes[i].set_xscale('log')\n",
    "    axes[i].set_xlabel('J2')\n",
    "    axes[i].set_title(f'weight {crit_weights[i]}')\n",
    "\n",
    "# Plot bias\n",
    "bias_vals = [crit_params[1 + j][1][0].item() for j in range(len(J2s))]\n",
    "axes[len(crit_weights)].plot(J2s, bias_vals)\n",
    "axes[len(crit_weights)].set_xscale('log')\n",
    "axes[len(crit_weights)].set_xlabel('J2')\n",
    "axes[len(crit_weights)].set_title('bias val')\n",
    "\n",
    "# Hide any extra empty subplots (if the grid has more than 9)\n",
    "for k in range(len(crit_weights) + 1, len(axes)):\n",
    "    fig.delaxes(axes[k])\n",
    "\n",
    "plt.tight_layout()\n",
    "plt.show()"
   ]
  },
  {
   "cell_type": "code",
   "execution_count": 249,
   "id": "d4ed35f0",
   "metadata": {},
   "outputs": [
    {
     "data": {
      "text/plain": [
       "array([-1.60000000e+01, -1.20000000e+01, -1.20000000e+01, -1.20000000e+01,\n",
       "       -1.20000000e+01, -1.20000000e+01, -1.20000000e+01, -8.00000000e+00,\n",
       "       -8.00000000e+00, -8.00000000e+00, -8.00000000e+00, -8.00000000e+00,\n",
       "       -8.00000000e+00, -8.00000000e+00, -8.00000000e+00, -8.00000000e+00,\n",
       "       -8.00000000e+00, -8.00000000e+00, -8.00000000e+00, -8.00000000e+00,\n",
       "       -8.00000000e+00, -8.00000000e+00, -8.00000000e+00, -8.00000000e+00,\n",
       "       -8.00000000e+00, -8.00000000e+00, -8.00000000e+00, -8.00000000e+00,\n",
       "       -8.00000000e+00, -8.00000000e+00, -4.00000000e+00, -4.00000000e+00,\n",
       "       -4.00000000e+00, -4.00000000e+00, -4.00000000e+00, -4.00000000e+00,\n",
       "       -4.00000000e+00, -4.00000000e+00, -4.00000000e+00, -4.00000000e+00,\n",
       "       -4.00000000e+00, -4.00000000e+00, -4.00000000e+00, -4.00000000e+00,\n",
       "       -4.00000000e+00, -4.00000000e+00, -4.00000000e+00, -4.00000000e+00,\n",
       "       -4.00000000e+00, -4.00000000e+00, -4.00000000e+00, -4.00000000e+00,\n",
       "       -4.00000000e+00, -4.00000000e+00, -4.00000000e+00, -4.00000000e+00,\n",
       "       -4.00000000e+00, -4.00000000e+00, -4.00000000e+00, -4.00000000e+00,\n",
       "       -4.00000000e+00, -4.00000000e+00, -4.00000000e+00, -4.00000000e+00,\n",
       "       -4.00000000e+00, -4.00000000e+00, -4.00000000e+00, -4.00000000e+00,\n",
       "       -4.00000000e+00, -4.00000000e+00, -4.00000000e+00, -4.00000000e+00,\n",
       "       -4.00000000e+00, -4.00000000e+00, -4.00000000e+00, -4.00000000e+00,\n",
       "       -4.00000000e+00, -4.00000000e+00, -4.00000000e+00, -4.00000000e+00,\n",
       "       -4.00000000e+00, -4.00000000e+00, -3.11351827e-15, -3.11351827e-15,\n",
       "       -3.11351827e-15, -3.11351827e-15, -3.11351827e-15, -3.11351827e-15,\n",
       "       -3.11351827e-15, -3.11351827e-15, -3.11351827e-15, -3.11351827e-15,\n",
       "       -3.11351827e-15, -3.11351827e-15, -3.11351827e-15, -3.11351827e-15,\n",
       "       -3.11351827e-15, -3.11351827e-15, -3.11351827e-15, -3.11351827e-15,\n",
       "       -3.11351827e-15, -3.11351827e-15, -3.11351827e-15, -3.11351827e-15,\n",
       "       -3.11351827e-15,  1.73179720e-16,  3.26212142e-16,  3.26212142e-16,\n",
       "        3.26212142e-16,  3.26212142e-16,  3.26212142e-16,  3.26212142e-16,\n",
       "        3.26212142e-16,  3.26212142e-16,  3.26212142e-16,  3.26212142e-16,\n",
       "        3.26212142e-16,  3.26212142e-16,  3.26212142e-16,  3.26212142e-16,\n",
       "        3.26212142e-16,  3.26212142e-16,  3.26212142e-16,  3.26212142e-16,\n",
       "        3.26212142e-16,  3.26212142e-16,  3.26212142e-16,  3.26212142e-16,\n",
       "        3.26212142e-16,  3.26212142e-16,  3.26212142e-16,  3.26212142e-16,\n",
       "        3.26212142e-16,  3.26212142e-16,  3.26212142e-16,  3.26212142e-16,\n",
       "        3.26212142e-16,  3.26212142e-16,  3.26212142e-16,  3.26212142e-16,\n",
       "        3.26212142e-16,  3.26212142e-16,  3.26212142e-16,  3.76594256e-15,\n",
       "        3.76594256e-15,  3.76594256e-15,  3.76594256e-15,  3.76594256e-15,\n",
       "        3.76594256e-15,  3.76594256e-15,  3.76594256e-15,  3.76594256e-15,\n",
       "        3.76594256e-15,  3.76594256e-15,  3.76594256e-15,  3.76594256e-15,\n",
       "        3.76594256e-15,  3.76594256e-15,  3.76594256e-15,  3.76594256e-15,\n",
       "        3.76594256e-15,  4.00000000e+00,  4.00000000e+00,  4.00000000e+00,\n",
       "        4.00000000e+00,  4.00000000e+00,  4.00000000e+00,  4.00000000e+00,\n",
       "        4.00000000e+00,  4.00000000e+00,  4.00000000e+00,  4.00000000e+00,\n",
       "        4.00000000e+00,  4.00000000e+00,  4.00000000e+00,  4.00000000e+00,\n",
       "        4.00000000e+00,  4.00000000e+00,  4.00000000e+00,  4.00000000e+00,\n",
       "        4.00000000e+00,  4.00000000e+00,  4.00000000e+00,  4.00000000e+00,\n",
       "        4.00000000e+00,  4.00000000e+00,  4.00000000e+00,  4.00000000e+00,\n",
       "        4.00000000e+00,  4.00000000e+00,  4.00000000e+00,  4.00000000e+00,\n",
       "        4.00000000e+00,  4.00000000e+00,  4.00000000e+00,  4.00000000e+00,\n",
       "        4.00000000e+00,  4.00000000e+00,  4.00000000e+00,  4.00000000e+00,\n",
       "        4.00000000e+00,  4.00000000e+00,  4.00000000e+00,  4.00000000e+00,\n",
       "        4.00000000e+00,  4.00000000e+00,  4.00000000e+00,  4.00000000e+00,\n",
       "        4.00000000e+00,  4.00000000e+00,  4.00000000e+00,  4.00000000e+00,\n",
       "        4.00000000e+00,  4.00000000e+00,  4.00000000e+00,  4.00000000e+00,\n",
       "        4.00000000e+00,  4.00000000e+00,  4.00000000e+00,  4.00000000e+00,\n",
       "        4.00000000e+00,  4.00000000e+00,  4.00000000e+00,  4.00000000e+00,\n",
       "        4.00000000e+00,  4.00000000e+00,  4.00000000e+00,  4.00000000e+00,\n",
       "        4.00000000e+00,  4.00000000e+00,  4.00000000e+00,  8.00000000e+00,\n",
       "        8.00000000e+00,  8.00000000e+00,  8.00000000e+00,  8.00000000e+00,\n",
       "        8.00000000e+00,  8.00000000e+00,  8.00000000e+00,  8.00000000e+00,\n",
       "        8.00000000e+00,  8.00000000e+00,  8.00000000e+00,  8.00000000e+00,\n",
       "        8.00000000e+00,  8.00000000e+00,  8.00000000e+00,  8.00000000e+00,\n",
       "        8.00000000e+00,  8.00000000e+00,  8.00000000e+00,  8.00000000e+00,\n",
       "        8.00000000e+00,  8.00000000e+00,  8.00000000e+00,  8.00000000e+00])"
      ]
     },
     "execution_count": 249,
     "metadata": {},
     "output_type": "execute_result"
    }
   ],
   "source": [
    "j1j2_functions.J1J2_hamiltonian(8, 0, 1).eigenstates()[0]"
   ]
  },
  {
   "cell_type": "code",
   "execution_count": 251,
   "id": "3ff900f4",
   "metadata": {},
   "outputs": [
    {
     "data": {
      "text/plain": [
       "(-16.000000000000004+0j)"
      ]
     },
     "execution_count": 251,
     "metadata": {},
     "output_type": "execute_result"
    }
   ],
   "source": [
    "gs_inf.dag() @ j1j2_functions.J1J2_hamiltonian(8, 0, 1) @ gs_inf"
   ]
  },
  {
   "cell_type": "code",
   "execution_count": null,
   "id": "d0d43a35",
   "metadata": {},
   "outputs": [
    {
     "data": {
      "text/plain": [
       "array([[ 0.00000000e+00+0.j],\n",
       "       [ 0.00000000e+00+0.j],\n",
       "       [-9.22768213e-19+0.j],\n",
       "       [ 2.32865531e-18+0.j],\n",
       "       [ 8.85508948e-18+0.j],\n",
       "       [-2.25389373e-17+0.j],\n",
       "       [-1.02627912e-17+0.j],\n",
       "       [-9.45584162e-17+0.j],\n",
       "       [-3.18031524e-17+0.j],\n",
       "       [ 7.31122256e-17+0.j],\n",
       "       [-5.32528117e-17+0.j],\n",
       "       [ 1.05640368e-16+0.j],\n",
       "       [ 2.33423335e-18+0.j],\n",
       "       [ 1.25127254e-16+0.j],\n",
       "       [-2.31998222e-16+0.j],\n",
       "       [-8.33333333e-02+0.j],\n",
       "       [ 0.00000000e+00+0.j],\n",
       "       [ 3.46944695e-17+0.j],\n",
       "       [ 8.67361738e-18+0.j],\n",
       "       [-9.36750677e-17+0.j],\n",
       "       [ 1.73472348e-17+0.j],\n",
       "       [ 0.00000000e+00+0.j],\n",
       "       [ 6.63531730e-17+0.j],\n",
       "       [-3.33066907e-16+0.j],\n",
       "       [ 4.40186082e-17+0.j],\n",
       "       [ 1.82145965e-17+0.j],\n",
       "       [ 1.78025997e-16+0.j],\n",
       "       [ 1.66666667e-01+0.j],\n",
       "       [-4.74880552e-17+0.j],\n",
       "       [ 4.50130041e-17+0.j],\n",
       "       [-8.33333333e-02+0.j],\n",
       "       [-2.73691106e-47+0.j],\n",
       "       [ 1.30104261e-18+0.j],\n",
       "       [ 7.80625564e-18+0.j],\n",
       "       [ 8.58688121e-17+0.j],\n",
       "       [ 1.77538106e-17+0.j],\n",
       "       [-2.60208521e-18+0.j],\n",
       "       [-7.02563008e-17+0.j],\n",
       "       [ 5.19874942e-17+0.j],\n",
       "       [ 1.66666667e-01+0.j],\n",
       "       [-4.16333634e-17+0.j],\n",
       "       [-4.96700120e-17+0.j],\n",
       "       [-4.50659538e-49+0.j],\n",
       "       [ 7.65506404e-48+0.j],\n",
       "       [ 2.49230974e-17+0.j],\n",
       "       [-8.33333333e-02+0.j],\n",
       "       [-8.57895489e-48+0.j],\n",
       "       [ 2.65239565e-47+0.j],\n",
       "       [-1.38777878e-17+0.j],\n",
       "       [-8.15320034e-17+0.j],\n",
       "       [-7.49861328e-17+0.j],\n",
       "       [-3.33333333e-01+0.j],\n",
       "       [ 7.80625564e-17+0.j],\n",
       "       [-1.25036123e-17+0.j],\n",
       "       [ 1.66666667e-01+0.j],\n",
       "       [ 5.22227683e-47+0.j],\n",
       "       [-5.37349518e-19+0.j],\n",
       "       [ 1.66666667e-01+0.j],\n",
       "       [ 4.30116933e-48+0.j],\n",
       "       [-5.21900080e-47+0.j],\n",
       "       [-8.33333333e-02+0.j],\n",
       "       [-2.90561805e-47+0.j],\n",
       "       [ 2.74505951e-47+0.j],\n",
       "       [-7.16999932e-48-0.j],\n",
       "       [ 0.00000000e+00+0.j],\n",
       "       [ 0.00000000e+00+0.j],\n",
       "       [-3.46944695e-18+0.j],\n",
       "       [ 2.90566182e-17+0.j],\n",
       "       [ 8.23993651e-18+0.j],\n",
       "       [ 2.61102160e-18+0.j],\n",
       "       [-1.04083409e-17+0.j],\n",
       "       [ 4.50130041e-17+0.j],\n",
       "       [-3.59955121e-17+0.j],\n",
       "       [-5.09575021e-17+0.j],\n",
       "       [-1.65645763e-16+0.j],\n",
       "       [-8.33333333e-02+0.j],\n",
       "       [ 2.16840434e-17+0.j],\n",
       "       [-1.25036123e-17+0.j],\n",
       "       [ 1.66666667e-01+0.j],\n",
       "       [ 2.09100252e-47+0.j],\n",
       "       [-3.46944695e-18+0.j],\n",
       "       [-5.22204321e-19+0.j],\n",
       "       [ 2.81892565e-17+0.j],\n",
       "       [-1.25036123e-17+0.j],\n",
       "       [ 2.61102160e-18+0.j],\n",
       "       [-9.98423841e-49-0.j],\n",
       "       [ 4.50130041e-17+0.j],\n",
       "       [ 1.81620143e-48+0.j],\n",
       "       [-2.08166817e-17+0.j],\n",
       "       [ 5.00144490e-18+0.j],\n",
       "       [-8.33333333e-02+0.j],\n",
       "       [-1.39643472e-47-0.j],\n",
       "       [-1.25036123e-17+0.j],\n",
       "       [-5.03810883e-49-0.j],\n",
       "       [ 1.46379831e-47+0.j],\n",
       "       [ 2.67526808e-48+0.j],\n",
       "       [ 2.60208521e-17+0.j],\n",
       "       [ 7.28583860e-17+0.j],\n",
       "       [ 2.02745806e-17+0.j],\n",
       "       [ 1.66666667e-01+0.j],\n",
       "       [ 0.00000000e+00+0.j],\n",
       "       [ 5.00144490e-18+0.j],\n",
       "       [-3.33333333e-01-0.j],\n",
       "       [-4.49039916e-47+0.j],\n",
       "       [ 5.37764278e-17+0.j],\n",
       "       [-8.33333333e-02+0.j],\n",
       "       [-5.34773772e-48-0.j],\n",
       "       [ 2.75350239e-47+0.j],\n",
       "       [ 1.66666667e-01+0.j],\n",
       "       [ 2.41221074e-47+0.j],\n",
       "       [-5.95798304e-47-0.j],\n",
       "       [ 5.53610254e-48+0.j],\n",
       "       [ 5.20417043e-17+0.j],\n",
       "       [-2.50072245e-18+0.j],\n",
       "       [ 1.66666667e-01+0.j],\n",
       "       [ 2.85692438e-47+0.j],\n",
       "       [ 5.00144490e-18+0.j],\n",
       "       [ 1.29835728e-48+0.j],\n",
       "       [-2.56719041e-47+0.j],\n",
       "       [-4.09776632e-48-0.j],\n",
       "       [-8.33333333e-02+0.j],\n",
       "       [-1.60654086e-47-0.j],\n",
       "       [ 2.81145012e-47+0.j],\n",
       "       [-8.06236219e-48-0.j],\n",
       "       [ 1.55123280e-47+0.j],\n",
       "       [-1.16644892e-49-0.j],\n",
       "       [ 7.17195398e-48+0.j],\n",
       "       [ 7.69242038e-49+0.j],\n",
       "       [ 2.94902991e-17+0.j],\n",
       "       [-4.29344060e-17+0.j],\n",
       "       [-4.16333634e-17+0.j],\n",
       "       [-5.26651205e-17+0.j],\n",
       "       [ 3.55618313e-17+0.j],\n",
       "       [ 1.62196645e-16+0.j],\n",
       "       [ 2.12639151e-17+0.j],\n",
       "       [-8.33333333e-02-0.j],\n",
       "       [ 6.41847686e-17+0.j],\n",
       "       [ 4.55093862e-17+0.j],\n",
       "       [ 3.97426832e-49+0.j],\n",
       "       [-6.90624839e-48-0.j],\n",
       "       [ 3.36644775e-17+0.j],\n",
       "       [ 1.66666667e-01+0.j],\n",
       "       [ 4.74974348e-48+0.j],\n",
       "       [-2.67971564e-47-0.j],\n",
       "       [-7.05273513e-17+0.j],\n",
       "       [-4.33680869e-17+0.j],\n",
       "       [-8.37219651e-18+0.j],\n",
       "       [ 1.66666667e-01+0.j],\n",
       "       [ 2.05998413e-17+0.j],\n",
       "       [ 4.50130041e-17+0.j],\n",
       "       [-8.33333333e-02+0.j],\n",
       "       [-2.99968919e-47-0.j],\n",
       "       [-9.01785157e-17+0.j],\n",
       "       [-3.33333333e-01+0.j],\n",
       "       [-1.59066233e-48-0.j],\n",
       "       [ 5.23812369e-47+0.j],\n",
       "       [ 1.66666667e-01+0.j],\n",
       "       [ 5.80643324e-47+0.j],\n",
       "       [-2.94990228e-47-0.j],\n",
       "       [ 4.40120583e-48+0.j],\n",
       "       [-4.16333634e-17+0.j],\n",
       "       [-5.15131557e-17+0.j],\n",
       "       [-2.14297146e-48+0.j],\n",
       "       [ 5.17385035e-48+0.j],\n",
       "       [ 2.40286306e-17+0.j],\n",
       "       [-8.33333333e-02-0.j],\n",
       "       [-6.00700954e-48-0.j],\n",
       "       [ 3.46034402e-47+0.j],\n",
       "       [ 1.18791180e-48+0.j],\n",
       "       [-4.25224940e-48-0.j],\n",
       "       [ 5.27670377e-49+0.j],\n",
       "       [ 1.66864018e-48+0.j],\n",
       "       [ 8.62939040e-48+0.j],\n",
       "       [-3.09723516e-47-0.j],\n",
       "       [ 9.24584774e-50+0.j],\n",
       "       [ 2.24136209e-48+0.j],\n",
       "       [-2.12156574e-18-0.j],\n",
       "       [ 1.66666667e-01+0.j],\n",
       "       [ 1.91671639e-48+0.j],\n",
       "       [-6.63476514e-47-0.j],\n",
       "       [-8.33333333e-02+0.j],\n",
       "       [-2.73837821e-47+0.j],\n",
       "       [ 3.39639109e-47+0.j],\n",
       "       [-3.74881576e-48-0.j],\n",
       "       [-2.81284049e-48-0.j],\n",
       "       [ 5.28037698e-47+0.j],\n",
       "       [ 5.02877802e-49+0.j],\n",
       "       [-3.78668147e-48-0.j],\n",
       "       [-2.86450772e-47-0.j],\n",
       "       [ 6.16975075e-48+0.j],\n",
       "       [ 2.48281855e-48+0.j],\n",
       "       [ 1.34204939e-50+0.j],\n",
       "       [-1.38777878e-17+0.j],\n",
       "       [ 6.28837260e-18+0.j],\n",
       "       [ 6.74373751e-17+0.j],\n",
       "       [-8.33333333e-02+0.j],\n",
       "       [-1.45716772e-16+0.j],\n",
       "       [-1.25036123e-17+0.j],\n",
       "       [ 1.66666667e-01+0.j],\n",
       "       [ 2.56739904e-47+0.j],\n",
       "       [ 9.35124374e-18+0.j],\n",
       "       [ 1.66666667e-01+0.j],\n",
       "       [ 7.20614458e-48+0.j],\n",
       "       [-2.34881845e-47+0.j],\n",
       "       [-3.33333333e-01-0.j],\n",
       "       [-4.90777106e-47-0.j],\n",
       "       [ 6.36899216e-47+0.j],\n",
       "       [-8.02618615e-48-0.j],\n",
       "       [ 3.18755439e-17+0.j],\n",
       "       [ 5.00144490e-18+0.j],\n",
       "       [-8.33333333e-02+0.j],\n",
       "       [-1.79491030e-47-0.j],\n",
       "       [-1.25036123e-17+0.j],\n",
       "       [-9.36166765e-49-0.j],\n",
       "       [ 1.90155368e-47+0.j],\n",
       "       [ 2.56387195e-48+0.j],\n",
       "       [ 1.66666667e-01+0.j],\n",
       "       [ 3.70828719e-47+0.j],\n",
       "       [-2.90421552e-47-0.j],\n",
       "       [ 7.50735036e-48+0.j],\n",
       "       [-4.35441075e-47-0.j],\n",
       "       [ 1.13920055e-49+0.j],\n",
       "       [-2.93865199e-48-0.j],\n",
       "       [-6.29732481e-49-0.j],\n",
       "       [ 6.66242235e-17+0.j],\n",
       "       [-8.33333333e-02+0.j],\n",
       "       [-5.45019843e-48-0.j],\n",
       "       [ 2.98437524e-47+0.j],\n",
       "       [ 1.66666667e-01+0.j],\n",
       "       [ 2.12848829e-47+0.j],\n",
       "       [-7.13813862e-47-0.j],\n",
       "       [ 3.01801311e-48+0.j],\n",
       "       [ 1.85372345e-48+0.j],\n",
       "       [-2.80666636e-47-0.j],\n",
       "       [-3.07052292e-48-0.j],\n",
       "       [ 2.29258507e-48+0.j],\n",
       "       [ 6.89421329e-47+0.j],\n",
       "       [-3.09454565e-48-0.j],\n",
       "       [-3.94162111e-48-0.j],\n",
       "       [-1.08480499e-48-0.j],\n",
       "       [-8.33333333e-02+0.j],\n",
       "       [-1.69516212e-47-0.j],\n",
       "       [ 3.38735664e-47+0.j],\n",
       "       [-3.02130240e-48-0.j],\n",
       "       [ 1.87055360e-47+0.j],\n",
       "       [ 8.45870817e-49+0.j],\n",
       "       [ 3.45957780e-49+0.j],\n",
       "       [ 9.67784590e-49+0.j],\n",
       "       [-3.19922449e-47-0.j],\n",
       "       [ 4.99870948e-48+0.j],\n",
       "       [ 9.10082811e-49+0.j],\n",
       "       [-1.23610483e-48-0.j],\n",
       "       [-7.17088524e-48-0.j],\n",
       "       [-3.56638407e-48-0.j],\n",
       "       [ 6.75645544e-49+0.j],\n",
       "       [ 0.00000000e+00+0.j]])"
      ]
     },
     "execution_count": 256,
     "metadata": {},
     "output_type": "execute_result"
    }
   ],
   "source": [
    "gs_inf.full() * np.array([[1] if n % 2 == 0 else [-1] for n in range(2 ** 8)])"
   ]
  },
  {
   "cell_type": "code",
   "execution_count": null,
   "id": "f75ca907",
   "metadata": {},
   "outputs": [],
   "source": []
  }
 ],
 "metadata": {
  "kernelspec": {
   "display_name": "kans",
   "language": "python",
   "name": "python3"
  },
  "language_info": {
   "codemirror_mode": {
    "name": "ipython",
    "version": 3
   },
   "file_extension": ".py",
   "mimetype": "text/x-python",
   "name": "python",
   "nbconvert_exporter": "python",
   "pygments_lexer": "ipython3",
   "version": "3.9.23"
  }
 },
 "nbformat": 4,
 "nbformat_minor": 5
}
