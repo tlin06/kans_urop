{
 "cells": [
  {
   "cell_type": "code",
   "execution_count": 1,
   "metadata": {},
   "outputs": [],
   "source": [
    "import lib\n",
    "from MHNeuralState import MHNeuralState\n",
    "import qutip as qt\n",
    "import numpy as np\n",
    "import numpy.random as npr\n",
    "import matplotlib.pyplot as plt\n",
    "import torch \n",
    "import torch.nn as nn"
   ]
  },
  {
   "cell_type": "code",
   "execution_count": 2,
   "metadata": {},
   "outputs": [],
   "source": [
    "h = lib.TFIM_hamiltonian(10, 1, 1)"
   ]
  },
  {
   "cell_type": "code",
   "execution_count": 3,
   "metadata": {},
   "outputs": [
    {
     "data": {
      "text/latex": [
       "Quantum object: dims=[[2, 2, 2, 2, 2, 2, 2, 2, 2, 2], [2, 2, 2, 2, 2, 2, 2, 2, 2, 2]], shape=(1024, 1024), type='oper', dtype=CSR, isherm=True$$\\left(\\begin{array}{cc}-10 & -1 & -1 & 0 & -1 & \\cdots & 0 & 0 & 0 & 0 & 0\\\\-1 & -6 & 0 & -1 & 0 & \\cdots & 0 & 0 & 0 & 0 & 0\\\\-1 & 0 & -6 & -1 & 0 & \\cdots & 0 & 0 & 0 & 0 & 0\\\\0 & -1 & -1 & -6 & 0 & \\cdots & 0 & 0 & 0 & 0 & 0\\\\-1 & 0 & 0 & 0 & -6 & \\cdots & 0 & 0 & 0 & 0 & 0\\\\\\vdots & \\vdots & \\vdots & \\vdots & \\vdots & \\ddots & \\vdots & \\vdots & \\vdots & \\vdots & \\vdots\\\\0 & 0 & 0 & 0 & 0 & \\cdots & -6 & 0 & 0 & 0 & -1\\\\0 & 0 & 0 & 0 & 0 & \\cdots & 0 & -6 & -1 & -1 & 0\\\\0 & 0 & 0 & 0 & 0 & \\cdots & 0 & -1 & -6 & 0 & -1\\\\0 & 0 & 0 & 0 & 0 & \\cdots & 0 & -1 & 0 & -6 & -1\\\\0 & 0 & 0 & 0 & 0 & \\cdots & -1 & 0 & -1 & -1 & -10\\end{array}\\right)$$"
      ],
      "text/plain": [
       "Quantum object: dims=[[2, 2, 2, 2, 2, 2, 2, 2, 2, 2], [2, 2, 2, 2, 2, 2, 2, 2, 2, 2]], shape=(1024, 1024), type='oper', dtype=CSR, isherm=True\n",
       "Qobj data =\n",
       "[[-10.  -1.  -1. ...   0.   0.   0.]\n",
       " [ -1.  -6.   0. ...   0.   0.   0.]\n",
       " [ -1.   0.  -6. ...   0.   0.   0.]\n",
       " ...\n",
       " [  0.   0.   0. ...  -6.   0.  -1.]\n",
       " [  0.   0.   0. ...   0.  -6.  -1.]\n",
       " [  0.   0.   0. ...  -1.  -1. -10.]]"
      ]
     },
     "execution_count": 3,
     "metadata": {},
     "output_type": "execute_result"
    }
   ],
   "source": [
    "h"
   ]
  },
  {
   "cell_type": "code",
   "execution_count": 4,
   "metadata": {},
   "outputs": [
    {
     "data": {
      "text/plain": [
       "(<function copyreg._reconstructor(cls, base, state)>,\n",
       " (qutip.core.qobj.Qobj, object, None),\n",
       " {'_isherm': True,\n",
       "  '_isunitary': None,\n",
       "  '_data': CSR(shape=(1024, 1024), nnz=11264),\n",
       "  '_dims': Dimensions(Compound(Space(2), Space(2), Space(2), Space(2), Space(2), Space(2), Space(2), Space(2), Space(2), Space(2)), Compound(Space(2), Space(2), Space(2), Space(2), Space(2), Space(2), Space(2), Space(2), Space(2), Space(2))),\n",
       "  'qutip_version': '5.0.4'})"
      ]
     },
     "execution_count": 4,
     "metadata": {},
     "output_type": "execute_result"
    }
   ],
   "source": [
    "h.__reduce__()"
   ]
  },
  {
   "cell_type": "code",
   "execution_count": 5,
   "metadata": {},
   "outputs": [
    {
     "data": {
      "text/plain": [
       "(<function copyreg._reconstructor(cls, base, state)>,\n",
       " (qutip.core.qobj.Qobj, object, None),\n",
       " {'_isherm': None,\n",
       "  '_isunitary': None,\n",
       "  '_data': Dense(shape=(1024, 1), fortran=True),\n",
       "  '_dims': Dimensions(Compound(Field(), Field(), Field(), Field(), Field(), Field(), Field(), Field(), Field(), Field()), Compound(Space(2), Space(2), Space(2), Space(2), Space(2), Space(2), Space(2), Space(2), Space(2), Space(2))),\n",
       "  'qutip_version': '5.0.4'})"
      ]
     },
     "execution_count": 5,
     "metadata": {},
     "output_type": "execute_result"
    }
   ],
   "source": [
    "vec = qt.tensor([qt.basis(2, 0)] * 10)\n",
    "vec.__reduce__()"
   ]
  },
  {
   "cell_type": "code",
   "execution_count": 6,
   "metadata": {},
   "outputs": [],
   "source": [
    "# vec.dtype = qt.data.CSR"
   ]
  },
  {
   "cell_type": "code",
   "execution_count": 7,
   "metadata": {},
   "outputs": [],
   "source": [
    "def f(x):\n",
    "    return np.exp(-x ** 2) * (2 + np.sin(5*x)+np.sin(2*x))"
   ]
  },
  {
   "cell_type": "code",
   "execution_count": 8,
   "metadata": {},
   "outputs": [],
   "source": [
    "def MH_continuous(p, x_func, x0, num_samples, burnin = 0, lag = 0):\n",
    "    x = x0\n",
    "    data = [x] \n",
    "    for _ in range(burnin):\n",
    "        new_x = x_func(x)\n",
    "        ratio = p(new_x) / p(x)\n",
    "        if ratio > 1 or ratio > npr.uniform(0, 1):\n",
    "            x = new_x\n",
    "    for _ in range(num_samples):\n",
    "        for _ in range(lag):\n",
    "            new_x = x_func(x)\n",
    "            ratio = p(new_x) / p(x)\n",
    "            if ratio > 1 or ratio > npr.uniform(0, 1):\n",
    "                x = new_x\n",
    "        new_x = x_func(x)\n",
    "        ratio = p(new_x) / p(x)\n",
    "        if ratio > 1 or ratio > npr.uniform(0, 1):\n",
    "            data.append(new_x)\n",
    "            x = new_x \n",
    "        else: \n",
    "            data.append(x)\n",
    "    return data"
   ]
  },
  {
   "cell_type": "code",
   "execution_count": 9,
   "metadata": {},
   "outputs": [],
   "source": [
    "samples = 10000\n",
    "data = MH_continuous(f, lambda x : npr.normal(x, 1), 0, samples, burnin = 50, lag = 0)"
   ]
  },
  {
   "cell_type": "code",
   "execution_count": 10,
   "metadata": {},
   "outputs": [
    {
     "data": {
      "image/png": "[encoded data removed]",
      "text/plain": [
       "<Figure size 640x480 with 1 Axes>"
      ]
     },
     "metadata": {},
     "output_type": "display_data"
    }
   ],
   "source": [
    "hist = plt.hist(data, density = True, bins = 100)\n",
    "# for i in range(len(hist[0])):\n",
    "#     hist[0][i] = hist[0][i] / samples\n",
    "# # plt.clf()\n",
    "# hist\n",
    "x = np.linspace(-3, 3, 100)\n",
    "norm = np.trapezoid(x, f(x))\n",
    "plt.plot(x, - f(x) / norm)\n",
    "plt.show()"
   ]
  },
  {
   "cell_type": "code",
   "execution_count": 11,
   "metadata": {},
   "outputs": [],
   "source": [
    "from scipy.special import factorial\n",
    "def poisson(k, lmd):\n",
    "    return np.exp(-lmd) * lmd ** k / factorial(k)"
   ]
  },
  {
   "cell_type": "code",
   "execution_count": 12,
   "metadata": {},
   "outputs": [],
   "source": [
    "def sample_x(x, sigma, bounds = (float('-inf'), float('inf'))):\n",
    "    new_x = round(npr.normal(x, sigma)) % (bounds[1] + 1)\n",
    "    # new_x = (x + [-1, 1][npr.randint(0, 2)]) % (bounds[1] + 1)\n",
    "    # print(new_x)\n",
    "    return new_x"
   ]
  },
  {
   "cell_type": "code",
   "execution_count": 13,
   "metadata": {},
   "outputs": [
    {
     "name": "stderr",
     "output_type": "stream",
     "text": [
      "C:\\Users\\taoha\\AppData\\Local\\Temp\\ipykernel_33140\\1483049671.py:3: RuntimeWarning: invalid value encountered in scalar divide\n",
      "  return np.exp(-lmd) * lmd ** k / factorial(k)\n"
     ]
    }
   ],
   "source": [
    "samples = 10000\n",
    "lmd = 5\n",
    "data = MH_continuous(lambda x : poisson(x, lmd), \n",
    "                     lambda x : sample_x(x, 2, (0, float('inf'))), \n",
    "                     5, samples)"
   ]
  },
  {
   "cell_type": "code",
   "execution_count": 14,
   "metadata": {},
   "outputs": [
    {
     "data": {
      "image/png": "[encoded data removed]",
      "text/plain": [
       "<Figure size 640x480 with 1 Axes>"
      ]
     },
     "metadata": {},
     "output_type": "display_data"
    }
   ],
   "source": [
    "hist = plt.hist(data, density = True, bins = [-0.5 + n for n in range(0, 20)])\n",
    "x = np.array([n for n in range(0, 25)])\n",
    "y = poisson(x, lmd)\n",
    "norm = np.trapezoid(x, y)\n",
    "plt.plot(x, y)\n",
    "plt.show()"
   ]
  },
  {
   "cell_type": "code",
   "execution_count": 15,
   "metadata": {},
   "outputs": [],
   "source": [
    "N = 3"
   ]
  },
  {
   "cell_type": "code",
   "execution_count": 16,
   "metadata": {},
   "outputs": [],
   "source": [
    "model = nn.Sequential(\n",
    "    nn.Linear(N, 5 * N),\n",
    "    nn.Sigmoid(),\n",
    "    nn.Linear(5 * N, 2),\n",
    "    nn.Sigmoid()\n",
    ")"
   ]
  },
  {
   "cell_type": "code",
   "execution_count": 17,
   "metadata": {},
   "outputs": [],
   "source": [
    "def amp_phase(nn_output):\n",
    "    return nn_output[:, 0] * torch.exp(1.j * 2 * np.pi * nn_output[:, 1])"
   ]
  },
  {
   "cell_type": "code",
   "execution_count": 18,
   "metadata": {},
   "outputs": [],
   "source": [
    "input = lib.generate_input_torch(N)\n",
    "model_state = lib.model_to_ground_state(model, input, amp_phase)"
   ]
  },
  {
   "cell_type": "code",
   "execution_count": 19,
   "metadata": {},
   "outputs": [
    {
     "data": {
      "text/latex": [
       "Quantum object: dims=[[8], [1]], shape=(8, 1), type='ket', dtype=Dense$$\\left(\\begin{array}{cc}(-0.352-0.009j)\\\\(-0.350+0.010j)\\\\(-0.350-0.012j)\\\\(-0.348+0.005j)\\\\(-0.358-0.025j)\\\\(-0.357-0.007j)\\\\(-0.356-0.027j)\\\\(-0.355-0.010j)\\end{array}\\right)$$"
      ],
      "text/plain": [
       "Quantum object: dims=[[8], [1]], shape=(8, 1), type='ket', dtype=Dense\n",
       "Qobj data =\n",
       "[[-0.35194483-0.00858188j]\n",
       " [-0.34995145+0.00958011j]\n",
       " [-0.3497386 -0.01166087j]\n",
       " [-0.34829739+0.00543425j]\n",
       " [-0.35802883-0.02541118j]\n",
       " [-0.3566682 -0.00657493j]\n",
       " [-0.35589117-0.0274364j ]\n",
       " [-0.35513374-0.00962866j]]"
      ]
     },
     "execution_count": 19,
     "metadata": {},
     "output_type": "execute_result"
    }
   ],
   "source": [
    "model_state"
   ]
  },
  {
   "cell_type": "code",
   "execution_count": 20,
   "metadata": {},
   "outputs": [
    {
     "data": {
      "text/plain": [
       "array([0.12393881, 0.12255779, 0.12245306, 0.1213406 , 0.12883037,\n",
       "       0.12725544, 0.12741128, 0.12621269])"
      ]
     },
     "execution_count": 20,
     "metadata": {},
     "output_type": "execute_result"
    }
   ],
   "source": [
    "np.abs(np.squeeze(model_state.full())) ** 2"
   ]
  },
  {
   "cell_type": "code",
   "execution_count": 21,
   "metadata": {},
   "outputs": [
    {
     "data": {
      "text/plain": [
       "(1.0000000454876254+0j)"
      ]
     },
     "execution_count": 21,
     "metadata": {},
     "output_type": "execute_result"
    }
   ],
   "source": [
    "model_state.dag() @ model_state"
   ]
  },
  {
   "cell_type": "code",
   "execution_count": 22,
   "metadata": {},
   "outputs": [
    {
     "data": {
      "image/png": "[encoded data removed]",
      "text/plain": [
       "<Figure size 640x480 with 1 Axes>"
      ]
     },
     "metadata": {},
     "output_type": "display_data"
    }
   ],
   "source": [
    "plt.plot([n for n in range(0, 2 ** N)], np.abs(np.squeeze(model_state.full())) ** 2)\n",
    "plt.show()"
   ]
  },
  {
   "cell_type": "code",
   "execution_count": 23,
   "metadata": {},
   "outputs": [
    {
     "name": "stderr",
     "output_type": "stream",
     "text": [
      "c:\\Users\\taoha\\OneDrive\\Documents\\GitHub\\kans-urop\\MHNeuralState.py:49: UserWarning: Creating a tensor from a list of numpy.ndarrays is extremely slow. Please consider converting the list to a single numpy.ndarray with numpy.array() before converting to a tensor. (Triggered internally at C:\\actions-runner\\_work\\pytorch\\pytorch\\builder\\windows\\pytorch\\torch\\csrc\\utils\\tensor_new.cpp:281.)\n",
      "  tens = torch.tensor([lib.generate_state_1D(x, N)], dtype = torch.float32)\n"
     ]
    }
   ],
   "source": [
    "model_MH = MHNeuralState(N, model, amp_phase, \n",
    "                         lambda x : sample_x(x, 20, (0, 2 ** N - 1)), 5, 10000, lag = 0)"
   ]
  },
  {
   "cell_type": "code",
   "execution_count": 24,
   "metadata": {},
   "outputs": [
    {
     "data": {
      "image/png": "[encoded data removed]",
      "text/plain": [
       "<Figure size 640x480 with 1 Axes>"
      ]
     },
     "metadata": {},
     "output_type": "display_data"
    }
   ],
   "source": [
    "hist = plt.hist(model_MH.distribution_to_list(), density = True, bins = [-0.5 + n for n in range(0, 2 ** N + 1)])\n",
    "plt.plot([n for n in range(0, 2 ** N)], np.abs(np.squeeze(model_state.full())) ** 2)\n",
    "plt.show()"
   ]
  },
  {
   "cell_type": "code",
   "execution_count": 25,
   "metadata": {},
   "outputs": [],
   "source": [
    "from MHNeuralState import SparseStateVector"
   ]
  },
  {
   "cell_type": "code",
   "execution_count": 26,
   "metadata": {},
   "outputs": [
    {
     "data": {
      "text/plain": [
       "tensor(3.0032+0.j, grad_fn=<AddBackward0>)"
      ]
     },
     "execution_count": 26,
     "metadata": {},
     "output_type": "execute_result"
    }
   ],
   "source": [
    "SparseStateVector.inner_product(model_MH, model_MH)"
   ]
  },
  {
   "cell_type": "code",
   "execution_count": 27,
   "metadata": {},
   "outputs": [],
   "source": [
    "J = 1\n",
    "Gamma = 1"
   ]
  },
  {
   "cell_type": "code",
   "execution_count": 28,
   "metadata": {},
   "outputs": [
    {
     "data": {
      "text/plain": [
       "tensor(-5.1956, grad_fn=<DivBackward0>)"
      ]
     },
     "execution_count": 28,
     "metadata": {},
     "output_type": "execute_result"
    }
   ],
   "source": [
    "lib.TFIM_expectation_from_torch(model(input), (N, J, Gamma), amp_phase)"
   ]
  },
  {
   "cell_type": "code",
   "execution_count": 30,
   "metadata": {},
   "outputs": [
    {
     "data": {
      "text/plain": [
       "tensor(-5.1956+0.j, grad_fn=<DivBackward0>)"
      ]
     },
     "execution_count": 30,
     "metadata": {},
     "output_type": "execute_result"
    }
   ],
   "source": [
    "SparseStateVector.TFIM_expectation_from_sparse(model_MH, N, J, Gamma) / (SparseStateVector.inner_product(model_MH, model_MH)) ** 0.5"
   ]
  },
  {
   "cell_type": "code",
   "execution_count": null,
   "metadata": {},
   "outputs": [],
   "source": []
  }
 ],
 "metadata": {
  "kernelspec": {
   "display_name": "kans",
   "language": "python",
   "name": "python3"
  },
  "language_info": {
   "codemirror_mode": {
    "name": "ipython",
    "version": 3
   },
   "file_extension": ".py",
   "mimetype": "text/x-python",
   "name": "python",
   "nbconvert_exporter": "python",
   "pygments_lexer": "ipython3",
   "version": "3.12.5"
  }
 },
 "nbformat": 4,
 "nbformat_minor": 2
}
