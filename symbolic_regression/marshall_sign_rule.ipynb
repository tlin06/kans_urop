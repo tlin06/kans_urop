{
 "cells": [
  {
   "cell_type": "code",
   "execution_count": 1,
   "id": "42c10179",
   "metadata": {},
   "outputs": [],
   "source": [
    "import kan\n",
    "import torch\n",
    "import torch.nn as nn\n",
    "import numpy as np\n",
    "from libraries import utils\n",
    "from libraries import magnetization\n",
    "import numpy.random as npr\n",
    "import qutip as qt"
   ]
  },
  {
   "cell_type": "code",
   "execution_count": 2,
   "id": "78c95923",
   "metadata": {},
   "outputs": [],
   "source": [
    "N = 6"
   ]
  },
  {
   "cell_type": "code",
   "execution_count": 3,
   "id": "c1e002c9",
   "metadata": {},
   "outputs": [],
   "source": [
    "def J1J2_hamiltonian(N, j1, j2):\n",
    "    id = qt.qeye(2)\n",
    "    x = qt.sigmax()\n",
    "    y = qt.sigmay()\n",
    "    z = qt.sigmaz()\n",
    "    sxi = []; syi = []; szi = []\n",
    "    for i in range(N):\n",
    "        sxi.append(qt.tensor([id] * i + [x] + [id] * (N - i - 1)))\n",
    "        syi.append(qt.tensor([id] * i + [y] + [id] * (N - i - 1)))\n",
    "        szi.append(qt.tensor([id] * i + [z] + [id] * (N - i - 1)))\n",
    "    sis = [sxi, syi, szi]\n",
    "    J1_term = j1 * (sum(sis[coord][i] * sis[coord][i + 1] for coord in range(len(sis)) for i in range(N - 1)) + sum(sis[coord][N - 1] * sis[coord][0] for coord in range(len(sis))))\n",
    "    J2_term = j2 * (sum(sis[coord][i] * sis[coord][i + 2] for coord in range(len(sis)) for i in range(N - 2)) + sum(sis[coord][N - 2] * sis[coord][0] for coord in range(len(sis))) + sum(sis[coord][N - 1] * sis[coord][1] for coord in range(len(sis))))\n",
    "    return J1_term + J2_term"
   ]
  },
  {
   "cell_type": "code",
   "execution_count": 4,
   "id": "446c2e63",
   "metadata": {},
   "outputs": [],
   "source": [
    "def count_half_magnetization(state): \n",
    "    \"\"\"\n",
    "    Counts number of 1s in binary representation of some integer\n",
    "    With integer encoding of state such that 1 in binary representation \n",
    "    is spin down and 0 is spin up. Returns number of spin downs.\n",
    "    \"\"\"\n",
    "    if state == 0: return 0\n",
    "    return sum((state >> n) & 1 for n in range(0, int(np.log2(state)) + 1, 2))"
   ]
  },
  {
   "cell_type": "code",
   "execution_count": 5,
   "id": "7d8dbc68",
   "metadata": {},
   "outputs": [
    {
     "data": {
      "text/plain": [
       "3"
      ]
     },
     "execution_count": 5,
     "metadata": {},
     "output_type": "execute_result"
    }
   ],
   "source": [
    "count_half_magnetization(0b00010111)"
   ]
  },
  {
   "cell_type": "code",
   "execution_count": 6,
   "id": "8ee29017",
   "metadata": {},
   "outputs": [],
   "source": [
    "input = utils.generate_input_torch(N)\n",
    "labels = torch.tensor([1 - 2 * (count_half_magnetization(i) % 2) for i in range(2 ** N)]).reshape((-1, 1))"
   ]
  },
  {
   "cell_type": "code",
   "execution_count": 7,
   "id": "8911b407",
   "metadata": {},
   "outputs": [
    {
     "data": {
      "text/plain": [
       "tensor([[0., 0., 0., 0., 0., 0.],\n",
       "        [1., 0., 0., 0., 0., 0.],\n",
       "        [0., 1., 0., 0., 0., 0.],\n",
       "        [1., 1., 0., 0., 0., 0.],\n",
       "        [0., 0., 1., 0., 0., 0.],\n",
       "        [1., 0., 1., 0., 0., 0.],\n",
       "        [0., 1., 1., 0., 0., 0.],\n",
       "        [1., 1., 1., 0., 0., 0.],\n",
       "        [0., 0., 0., 1., 0., 0.],\n",
       "        [1., 0., 0., 1., 0., 0.],\n",
       "        [0., 1., 0., 1., 0., 0.],\n",
       "        [1., 1., 0., 1., 0., 0.],\n",
       "        [0., 0., 1., 1., 0., 0.],\n",
       "        [1., 0., 1., 1., 0., 0.],\n",
       "        [0., 1., 1., 1., 0., 0.],\n",
       "        [1., 1., 1., 1., 0., 0.],\n",
       "        [0., 0., 0., 0., 1., 0.],\n",
       "        [1., 0., 0., 0., 1., 0.],\n",
       "        [0., 1., 0., 0., 1., 0.],\n",
       "        [1., 1., 0., 0., 1., 0.],\n",
       "        [0., 0., 1., 0., 1., 0.],\n",
       "        [1., 0., 1., 0., 1., 0.],\n",
       "        [0., 1., 1., 0., 1., 0.],\n",
       "        [1., 1., 1., 0., 1., 0.],\n",
       "        [0., 0., 0., 1., 1., 0.],\n",
       "        [1., 0., 0., 1., 1., 0.],\n",
       "        [0., 1., 0., 1., 1., 0.],\n",
       "        [1., 1., 0., 1., 1., 0.],\n",
       "        [0., 0., 1., 1., 1., 0.],\n",
       "        [1., 0., 1., 1., 1., 0.],\n",
       "        [0., 1., 1., 1., 1., 0.],\n",
       "        [1., 1., 1., 1., 1., 0.],\n",
       "        [0., 0., 0., 0., 0., 1.],\n",
       "        [1., 0., 0., 0., 0., 1.],\n",
       "        [0., 1., 0., 0., 0., 1.],\n",
       "        [1., 1., 0., 0., 0., 1.],\n",
       "        [0., 0., 1., 0., 0., 1.],\n",
       "        [1., 0., 1., 0., 0., 1.],\n",
       "        [0., 1., 1., 0., 0., 1.],\n",
       "        [1., 1., 1., 0., 0., 1.],\n",
       "        [0., 0., 0., 1., 0., 1.],\n",
       "        [1., 0., 0., 1., 0., 1.],\n",
       "        [0., 1., 0., 1., 0., 1.],\n",
       "        [1., 1., 0., 1., 0., 1.],\n",
       "        [0., 0., 1., 1., 0., 1.],\n",
       "        [1., 0., 1., 1., 0., 1.],\n",
       "        [0., 1., 1., 1., 0., 1.],\n",
       "        [1., 1., 1., 1., 0., 1.],\n",
       "        [0., 0., 0., 0., 1., 1.],\n",
       "        [1., 0., 0., 0., 1., 1.],\n",
       "        [0., 1., 0., 0., 1., 1.],\n",
       "        [1., 1., 0., 0., 1., 1.],\n",
       "        [0., 0., 1., 0., 1., 1.],\n",
       "        [1., 0., 1., 0., 1., 1.],\n",
       "        [0., 1., 1., 0., 1., 1.],\n",
       "        [1., 1., 1., 0., 1., 1.],\n",
       "        [0., 0., 0., 1., 1., 1.],\n",
       "        [1., 0., 0., 1., 1., 1.],\n",
       "        [0., 1., 0., 1., 1., 1.],\n",
       "        [1., 1., 0., 1., 1., 1.],\n",
       "        [0., 0., 1., 1., 1., 1.],\n",
       "        [1., 0., 1., 1., 1., 1.],\n",
       "        [0., 1., 1., 1., 1., 1.],\n",
       "        [1., 1., 1., 1., 1., 1.]])"
      ]
     },
     "execution_count": 7,
     "metadata": {},
     "output_type": "execute_result"
    }
   ],
   "source": [
    "input"
   ]
  },
  {
   "cell_type": "code",
   "execution_count": 8,
   "id": "7f69b070",
   "metadata": {},
   "outputs": [
    {
     "data": {
      "text/plain": [
       "tensor([[ 1],\n",
       "        [-1],\n",
       "        [ 1],\n",
       "        [-1],\n",
       "        [-1],\n",
       "        [ 1],\n",
       "        [-1],\n",
       "        [ 1],\n",
       "        [ 1],\n",
       "        [-1],\n",
       "        [ 1],\n",
       "        [-1],\n",
       "        [-1],\n",
       "        [ 1],\n",
       "        [-1],\n",
       "        [ 1],\n",
       "        [-1],\n",
       "        [ 1],\n",
       "        [-1],\n",
       "        [ 1],\n",
       "        [ 1],\n",
       "        [-1],\n",
       "        [ 1],\n",
       "        [-1],\n",
       "        [-1],\n",
       "        [ 1],\n",
       "        [-1],\n",
       "        [ 1],\n",
       "        [ 1],\n",
       "        [-1],\n",
       "        [ 1],\n",
       "        [-1],\n",
       "        [ 1],\n",
       "        [-1],\n",
       "        [ 1],\n",
       "        [-1],\n",
       "        [-1],\n",
       "        [ 1],\n",
       "        [-1],\n",
       "        [ 1],\n",
       "        [ 1],\n",
       "        [-1],\n",
       "        [ 1],\n",
       "        [-1],\n",
       "        [-1],\n",
       "        [ 1],\n",
       "        [-1],\n",
       "        [ 1],\n",
       "        [-1],\n",
       "        [ 1],\n",
       "        [-1],\n",
       "        [ 1],\n",
       "        [ 1],\n",
       "        [-1],\n",
       "        [ 1],\n",
       "        [-1],\n",
       "        [-1],\n",
       "        [ 1],\n",
       "        [-1],\n",
       "        [ 1],\n",
       "        [ 1],\n",
       "        [-1],\n",
       "        [ 1],\n",
       "        [-1]])"
      ]
     },
     "execution_count": 8,
     "metadata": {},
     "output_type": "execute_result"
    }
   ],
   "source": [
    "labels"
   ]
  },
  {
   "cell_type": "code",
   "execution_count": 9,
   "id": "726184a4",
   "metadata": {},
   "outputs": [],
   "source": [
    "dataset = {'train_input': input, 'train_label': labels, 'test_input': input, 'test_label': labels}"
   ]
  },
  {
   "cell_type": "code",
   "execution_count": 10,
   "id": "7e2ef1f1",
   "metadata": {},
   "outputs": [
    {
     "name": "stdout",
     "output_type": "stream",
     "text": [
      "checkpoint directory created: ./model\n",
      "saving model version 0.0\n"
     ]
    },
    {
     "data": {
      "image/png": "[encoded data removed]",
      "text/plain": [
       "<Figure size 500x400 with 50 Axes>"
      ]
     },
     "metadata": {},
     "output_type": "display_data"
    }
   ],
   "source": [
    "kan_model = kan.KAN(width = [N, N, 1])\n",
    "kan_model(dataset['train_input']);\n",
    "kan_model.plot()"
   ]
  },
  {
   "cell_type": "code",
   "execution_count": 11,
   "id": "46af0121",
   "metadata": {},
   "outputs": [
    {
     "name": "stderr",
     "output_type": "stream",
     "text": [
      "| train_loss: 4.22e-03 | test_loss: 4.22e-03 | reg: 6.73e+00 | : 100%|█| 50/50 [00:05<00:00,  9.12it"
     ]
    },
    {
     "name": "stdout",
     "output_type": "stream",
     "text": [
      "saving model version 0.1\n"
     ]
    },
    {
     "name": "stderr",
     "output_type": "stream",
     "text": [
      "\n"
     ]
    }
   ],
   "source": [
    "kan_model.fit(dataset, opt=\"LBFGS\", steps=50, lamb=0.001);"
   ]
  },
  {
   "cell_type": "code",
   "execution_count": 12,
   "id": "66f9acbc",
   "metadata": {},
   "outputs": [
    {
     "data": {
      "image/png": "[encoded data removed]",
      "text/plain": [
       "<Figure size 500x400 with 50 Axes>"
      ]
     },
     "metadata": {},
     "output_type": "display_data"
    }
   ],
   "source": [
    "kan_model.plot()"
   ]
  },
  {
   "cell_type": "code",
   "execution_count": 13,
   "id": "2a33ac13",
   "metadata": {},
   "outputs": [
    {
     "data": {
      "text/plain": [
       "(array([-0.23148023, -0.23134577, -0.23125145, -0.23121628, -0.231117  ,\n",
       "        -0.23108183, -0.2309875 , -0.23085305, -0.02210359, -0.02196913,\n",
       "        -0.02187482, -0.02183964, -0.02174037, -0.02170519, -0.02161088,\n",
       "        -0.02147643, -0.02116907, -0.02103462, -0.02094031, -0.02090513,\n",
       "        -0.02080585, -0.02077067, -0.02067636, -0.02054191, -0.01344256,\n",
       "        -0.01330811, -0.01321379, -0.01317861, -0.01307934, -0.01304416,\n",
       "        -0.01294985, -0.0128154 ,  0.18820755,  0.188342  ,  0.18843633,\n",
       "         0.1884715 ,  0.18857078,  0.18860595,  0.18870027,  0.18883473,\n",
       "         0.19593407,  0.19606853,  0.19616285,  0.19619802,  0.1962973 ,\n",
       "         0.19633247,  0.1964268 ,  0.19656125,  0.19686858,  0.19700304,\n",
       "         0.19709736,  0.19713253,  0.19723181,  0.19726698,  0.1973613 ,\n",
       "         0.19749576,  0.40624523,  0.4063797 ,  0.406474  ,  0.40650916,\n",
       "         0.40660846,  0.40664363,  0.40673792,  0.4068724 ], dtype=float32),\n",
       " array([-0.99520445, -0.9970565 , -0.99834985, -0.9988311 , -1.0001863 ,\n",
       "        -1.0006652 , -1.0019461 , -1.0037643 ,  0.98754925,  0.9878805 ,\n",
       "         0.98810905,  0.9881937 ,  0.9884303 ,  0.9885132 ,  0.9887337 ,\n",
       "         0.989043  ,  0.98972744,  0.99001753,  0.99021703,  0.99029076,\n",
       "         0.9904968 ,  0.99056894,  0.9907608 ,  0.9910285 ,  0.9969675 ,\n",
       "         0.99692845,  0.99689716,  0.9968849 ,  0.99684876,  0.99683475,\n",
       "         0.99679625,  0.99673724, -1.0300382 , -1.0298811 , -1.0297678 ,\n",
       "        -1.0297248 , -1.0296007 , -1.0295563 , -1.0294352 , -1.029257  ,\n",
       "        -1.0114264 , -1.0109252 , -1.0105696 , -1.0104369 , -1.0100585 ,\n",
       "        -1.0099235 , -1.0095596 , -1.009036  , -1.0078152 , -1.0072709 ,\n",
       "        -1.0068853 , -1.006741  , -1.0063304 , -1.0061837 , -1.0057898 ,\n",
       "        -1.0052228 ,  0.9774289 ,  0.97504324,  0.97336423,  0.97273684,\n",
       "         0.97096103,  0.9703312 ,  0.9686379 ,  0.96621454], dtype=float32))"
      ]
     },
     "execution_count": 13,
     "metadata": {},
     "output_type": "execute_result"
    },
    {
     "data": {
      "image/png": "[encoded data removed]",
      "text/plain": [
       "<Figure size 300x300 with 1 Axes>"
      ]
     },
     "metadata": {},
     "output_type": "display_data"
    }
   ],
   "source": [
    "kan_model.get_fun(1, 3, 0)"
   ]
  },
  {
   "cell_type": "code",
   "execution_count": 14,
   "id": "7c151ea7",
   "metadata": {},
   "outputs": [
    {
     "name": "stdout",
     "output_type": "stream",
     "text": [
      "  function  fitting r2   r2 loss  complexity  complexity loss  total loss\n",
      "0        0    0.000000  0.000014           0                0    0.000003\n",
      "1      tan    0.997982 -8.945999           3                3    0.610800\n",
      "2        x    0.000059 -0.000071           1                1    0.799986\n",
      "3      sin    0.782208 -2.198911           2                2    1.160218\n",
      "4      cos    0.782171 -2.198664           2                2    1.160267\n"
     ]
    },
    {
     "data": {
      "text/plain": [
       "('0',\n",
       " (<function kan.utils.<lambda>(x)>,\n",
       "  <function kan.utils.<lambda>(x)>,\n",
       "  0,\n",
       "  <function kan.utils.<lambda>(x, y_th)>),\n",
       " np.float64(0.0),\n",
       " np.int64(0))"
      ]
     },
     "execution_count": 14,
     "metadata": {},
     "output_type": "execute_result"
    }
   ],
   "source": [
    "kan_model.suggest_symbolic(1, 3, 0)"
   ]
  },
  {
   "cell_type": "code",
   "execution_count": 15,
   "id": "a3b0d9d4",
   "metadata": {},
   "outputs": [
    {
     "name": "stdout",
     "output_type": "stream",
     "text": [
      "saving model version 0.2\n"
     ]
    },
    {
     "data": {
      "image/png": "[encoded data removed]",
      "text/plain": [
       "<Figure size 500x400 with 10 Axes>"
      ]
     },
     "metadata": {},
     "output_type": "display_data"
    }
   ],
   "source": [
    "kan_model = kan_model.prune()\n",
    "kan_model.plot()"
   ]
  },
  {
   "cell_type": "code",
   "execution_count": 16,
   "id": "f9a1af23",
   "metadata": {},
   "outputs": [
    {
     "name": "stdout",
     "output_type": "stream",
     "text": [
      "Best value at boundary.\n",
      "r2 is 0.7822082042694092\n",
      "r2 is not very high, please double check if you are choosing the correct symbolic function.\n",
      "saving model version 0.3\n",
      "Best value at boundary.\n",
      "r2 is 1.0000005960464478\n",
      "saving model version 0.4\n",
      "r2 is 1.0000005960464478\n",
      "saving model version 0.5\n",
      "r2 is 1.0000005960464478\n",
      "saving model version 0.6\n"
     ]
    }
   ],
   "source": [
    "kan_model.fix_symbolic(1, 0, 0, 'sin')\n",
    "kan_model.fix_symbolic(0, 0, 0, 'x');\n",
    "kan_model.fix_symbolic(0, 2, 0, 'x');\n",
    "kan_model.fix_symbolic(0, 4, 0, 'x');"
   ]
  },
  {
   "cell_type": "code",
   "execution_count": 17,
   "id": "144790ce",
   "metadata": {},
   "outputs": [
    {
     "name": "stderr",
     "output_type": "stream",
     "text": [
      "| train_loss: 1.88e-06 | test_loss: 1.88e-06 | reg: 0.00e+00 | : 100%|█| 50/50 [00:01<00:00, 32.45it"
     ]
    },
    {
     "name": "stdout",
     "output_type": "stream",
     "text": [
      "saving model version 0.7\n"
     ]
    },
    {
     "name": "stderr",
     "output_type": "stream",
     "text": [
      "\n"
     ]
    },
    {
     "data": {
      "text/plain": [
       "{'train_loss': [array(0.02641083, dtype=float32),\n",
       "  array(1.8834502e-06, dtype=float32),\n",
       "  array(1.8834502e-06, dtype=float32),\n",
       "  array(1.8834502e-06, dtype=float32),\n",
       "  array(1.8834502e-06, dtype=float32),\n",
       "  array(1.8834502e-06, dtype=float32),\n",
       "  array(1.8834502e-06, dtype=float32),\n",
       "  array(1.8834502e-06, dtype=float32),\n",
       "  array(1.8834502e-06, dtype=float32),\n",
       "  array(1.8834502e-06, dtype=float32),\n",
       "  array(1.8834502e-06, dtype=float32),\n",
       "  array(1.8834502e-06, dtype=float32),\n",
       "  array(1.8834502e-06, dtype=float32),\n",
       "  array(1.8834502e-06, dtype=float32),\n",
       "  array(1.8834502e-06, dtype=float32),\n",
       "  array(1.8834502e-06, dtype=float32),\n",
       "  array(1.8834502e-06, dtype=float32),\n",
       "  array(1.8834502e-06, dtype=float32),\n",
       "  array(1.8834502e-06, dtype=float32),\n",
       "  array(1.8834502e-06, dtype=float32),\n",
       "  array(1.8834502e-06, dtype=float32),\n",
       "  array(1.8834502e-06, dtype=float32),\n",
       "  array(1.8834502e-06, dtype=float32),\n",
       "  array(1.8834502e-06, dtype=float32),\n",
       "  array(1.8834502e-06, dtype=float32),\n",
       "  array(1.8834502e-06, dtype=float32),\n",
       "  array(1.8834502e-06, dtype=float32),\n",
       "  array(1.8834502e-06, dtype=float32),\n",
       "  array(1.8834502e-06, dtype=float32),\n",
       "  array(1.8834502e-06, dtype=float32),\n",
       "  array(1.8834502e-06, dtype=float32),\n",
       "  array(1.8834502e-06, dtype=float32),\n",
       "  array(1.8834502e-06, dtype=float32),\n",
       "  array(1.8834502e-06, dtype=float32),\n",
       "  array(1.8834502e-06, dtype=float32),\n",
       "  array(1.8834502e-06, dtype=float32),\n",
       "  array(1.8834502e-06, dtype=float32),\n",
       "  array(1.8834502e-06, dtype=float32),\n",
       "  array(1.8834502e-06, dtype=float32),\n",
       "  array(1.8834502e-06, dtype=float32),\n",
       "  array(1.8834502e-06, dtype=float32),\n",
       "  array(1.8834502e-06, dtype=float32),\n",
       "  array(1.8834502e-06, dtype=float32),\n",
       "  array(1.8834502e-06, dtype=float32),\n",
       "  array(1.8834502e-06, dtype=float32),\n",
       "  array(1.8834502e-06, dtype=float32),\n",
       "  array(1.8834502e-06, dtype=float32),\n",
       "  array(1.8834502e-06, dtype=float32),\n",
       "  array(1.8834502e-06, dtype=float32),\n",
       "  array(1.8834502e-06, dtype=float32)],\n",
       " 'test_loss': [array(0.02641083, dtype=float32),\n",
       "  array(1.8834502e-06, dtype=float32),\n",
       "  array(1.8834502e-06, dtype=float32),\n",
       "  array(1.8834502e-06, dtype=float32),\n",
       "  array(1.8834502e-06, dtype=float32),\n",
       "  array(1.8834502e-06, dtype=float32),\n",
       "  array(1.8834502e-06, dtype=float32),\n",
       "  array(1.8834502e-06, dtype=float32),\n",
       "  array(1.8834502e-06, dtype=float32),\n",
       "  array(1.8834502e-06, dtype=float32),\n",
       "  array(1.8834502e-06, dtype=float32),\n",
       "  array(1.8834502e-06, dtype=float32),\n",
       "  array(1.8834502e-06, dtype=float32),\n",
       "  array(1.8834502e-06, dtype=float32),\n",
       "  array(1.8834502e-06, dtype=float32),\n",
       "  array(1.8834502e-06, dtype=float32),\n",
       "  array(1.8834502e-06, dtype=float32),\n",
       "  array(1.8834502e-06, dtype=float32),\n",
       "  array(1.8834502e-06, dtype=float32),\n",
       "  array(1.8834502e-06, dtype=float32),\n",
       "  array(1.8834502e-06, dtype=float32),\n",
       "  array(1.8834502e-06, dtype=float32),\n",
       "  array(1.8834502e-06, dtype=float32),\n",
       "  array(1.8834502e-06, dtype=float32),\n",
       "  array(1.8834502e-06, dtype=float32),\n",
       "  array(1.8834502e-06, dtype=float32),\n",
       "  array(1.8834502e-06, dtype=float32),\n",
       "  array(1.8834502e-06, dtype=float32),\n",
       "  array(1.8834502e-06, dtype=float32),\n",
       "  array(1.8834502e-06, dtype=float32),\n",
       "  array(1.8834502e-06, dtype=float32),\n",
       "  array(1.8834502e-06, dtype=float32),\n",
       "  array(1.8834502e-06, dtype=float32),\n",
       "  array(1.8834502e-06, dtype=float32),\n",
       "  array(1.8834502e-06, dtype=float32),\n",
       "  array(1.8834502e-06, dtype=float32),\n",
       "  array(1.8834502e-06, dtype=float32),\n",
       "  array(1.8834502e-06, dtype=float32),\n",
       "  array(1.8834502e-06, dtype=float32),\n",
       "  array(1.8834502e-06, dtype=float32),\n",
       "  array(1.8834502e-06, dtype=float32),\n",
       "  array(1.8834502e-06, dtype=float32),\n",
       "  array(1.8834502e-06, dtype=float32),\n",
       "  array(1.8834502e-06, dtype=float32),\n",
       "  array(1.8834502e-06, dtype=float32),\n",
       "  array(1.8834502e-06, dtype=float32),\n",
       "  array(1.8834502e-06, dtype=float32),\n",
       "  array(1.8834502e-06, dtype=float32),\n",
       "  array(1.8834502e-06, dtype=float32),\n",
       "  array(1.8834502e-06, dtype=float32)],\n",
       " 'reg': [array(0., dtype=float32),\n",
       "  array(0., dtype=float32),\n",
       "  array(0., dtype=float32),\n",
       "  array(0., dtype=float32),\n",
       "  array(0., dtype=float32),\n",
       "  array(0., dtype=float32),\n",
       "  array(0., dtype=float32),\n",
       "  array(0., dtype=float32),\n",
       "  array(0., dtype=float32),\n",
       "  array(0., dtype=float32),\n",
       "  array(0., dtype=float32),\n",
       "  array(0., dtype=float32),\n",
       "  array(0., dtype=float32),\n",
       "  array(0., dtype=float32),\n",
       "  array(0., dtype=float32),\n",
       "  array(0., dtype=float32),\n",
       "  array(0., dtype=float32),\n",
       "  array(0., dtype=float32),\n",
       "  array(0., dtype=float32),\n",
       "  array(0., dtype=float32),\n",
       "  array(0., dtype=float32),\n",
       "  array(0., dtype=float32),\n",
       "  array(0., dtype=float32),\n",
       "  array(0., dtype=float32),\n",
       "  array(0., dtype=float32),\n",
       "  array(0., dtype=float32),\n",
       "  array(0., dtype=float32),\n",
       "  array(0., dtype=float32),\n",
       "  array(0., dtype=float32),\n",
       "  array(0., dtype=float32),\n",
       "  array(0., dtype=float32),\n",
       "  array(0., dtype=float32),\n",
       "  array(0., dtype=float32),\n",
       "  array(0., dtype=float32),\n",
       "  array(0., dtype=float32),\n",
       "  array(0., dtype=float32),\n",
       "  array(0., dtype=float32),\n",
       "  array(0., dtype=float32),\n",
       "  array(0., dtype=float32),\n",
       "  array(0., dtype=float32),\n",
       "  array(0., dtype=float32),\n",
       "  array(0., dtype=float32),\n",
       "  array(0., dtype=float32),\n",
       "  array(0., dtype=float32),\n",
       "  array(0., dtype=float32),\n",
       "  array(0., dtype=float32),\n",
       "  array(0., dtype=float32),\n",
       "  array(0., dtype=float32),\n",
       "  array(0., dtype=float32),\n",
       "  array(0., dtype=float32)]}"
      ]
     },
     "execution_count": 17,
     "metadata": {},
     "output_type": "execute_result"
    }
   ],
   "source": [
    "kan_model.fit(dataset, opt=\"LBFGS\", steps=50)"
   ]
  },
  {
   "cell_type": "code",
   "execution_count": 18,
   "id": "f9a6a5d4",
   "metadata": {},
   "outputs": [
    {
     "data": {
      "text/latex": [
       "$\\displaystyle - 1.1733 \\sin{\\left(28.2743 x_{1} - 48.2247 x_{3} + 21.9911 x_{5} - 26.1531 \\right)}$"
      ],
      "text/plain": [
       "-1.1733*sin(28.2743*x_1 - 48.2247*x_3 + 21.9911*x_5 - 26.1531)"
      ]
     },
     "execution_count": 18,
     "metadata": {},
     "output_type": "execute_result"
    }
   ],
   "source": [
    "from kan.utils import ex_round\n",
    "\n",
    "ex_round(kan_model.symbolic_formula()[0][0],4)"
   ]
  },
  {
   "cell_type": "code",
   "execution_count": 19,
   "id": "79bdba06",
   "metadata": {},
   "outputs": [],
   "source": [
    "N = 10\n",
    "import random"
   ]
  },
  {
   "cell_type": "code",
   "execution_count": 20,
   "id": "717b3fbd",
   "metadata": {},
   "outputs": [],
   "source": [
    "num_samples = 256\n",
    "samples = [random.getrandbits(N) for _ in range(num_samples)]"
   ]
  },
  {
   "cell_type": "code",
   "execution_count": 21,
   "id": "f7cd66dc",
   "metadata": {},
   "outputs": [
    {
     "name": "stdout",
     "output_type": "stream",
     "text": [
      "torch.Size([256, 10]) torch.Size([256, 1])\n"
     ]
    }
   ],
   "source": [
    "sampled_input = utils.generate_input_samples(N, samples)\n",
    "sampled_labels = torch.tensor([1 - 2 * (count_half_magnetization(i) % 2) for i in samples]).reshape((-1, 1))\n",
    "print(sampled_input.shape, sampled_labels.shape)"
   ]
  },
  {
   "cell_type": "code",
   "execution_count": 22,
   "id": "5e9ceaff",
   "metadata": {},
   "outputs": [
    {
     "name": "stdout",
     "output_type": "stream",
     "text": [
      "checkpoint directory created: ./model\n",
      "saving model version 0.0\n"
     ]
    }
   ],
   "source": [
    "sampled_dataset = {'train_input': sampled_input, 'train_label': sampled_labels, 'test_input': sampled_input, 'test_label': sampled_labels}\n",
    "sampling_kan = kan.KAN(width = [N, N, 1])\n",
    "sampling_kan(sampled_dataset['train_input']);"
   ]
  },
  {
   "cell_type": "code",
   "execution_count": 23,
   "id": "afcb95fd",
   "metadata": {},
   "outputs": [
    {
     "name": "stderr",
     "output_type": "stream",
     "text": [
      "| train_loss: 5.01e-03 | test_loss: 5.01e-03 | reg: 1.03e+01 | : 100%|█| 50/50 [00:11<00:00,  4.27it"
     ]
    },
    {
     "name": "stdout",
     "output_type": "stream",
     "text": [
      "saving model version 0.1\n"
     ]
    },
    {
     "name": "stderr",
     "output_type": "stream",
     "text": [
      "\n"
     ]
    }
   ],
   "source": [
    "sampling_kan.fit(sampled_dataset, opt = 'LBFGS', steps = 50, lamb=0.001);"
   ]
  },
  {
   "cell_type": "code",
   "execution_count": 24,
   "id": "3453d8a1",
   "metadata": {},
   "outputs": [
    {
     "data": {
      "image/png": "[encoded data removed]",
      "text/plain": [
       "<Figure size 500x400 with 122 Axes>"
      ]
     },
     "metadata": {},
     "output_type": "display_data"
    }
   ],
   "source": [
    "sampling_kan.plot()"
   ]
  },
  {
   "cell_type": "code",
   "execution_count": 25,
   "id": "32bed095",
   "metadata": {},
   "outputs": [
    {
     "name": "stdout",
     "output_type": "stream",
     "text": [
      "saving model version 0.2\n"
     ]
    },
    {
     "data": {
      "image/png": "[encoded data removed]",
      "text/plain": [
       "<Figure size 500x400 with 14 Axes>"
      ]
     },
     "metadata": {},
     "output_type": "display_data"
    }
   ],
   "source": [
    "sampling_kan = sampling_kan.prune()\n",
    "sampling_kan.plot()"
   ]
  },
  {
   "cell_type": "code",
   "execution_count": 26,
   "id": "00eeb8d7",
   "metadata": {},
   "outputs": [
    {
     "name": "stdout",
     "output_type": "stream",
     "text": [
      "  function  fitting r2    r2 loss  complexity  complexity loss  total loss\n",
      "0      sin    0.999989 -15.549728           2                2   -1.509946\n",
      "1      cos    0.999989 -15.549728           2                2   -1.509946\n",
      "2      tan    0.999830 -12.441210           3                3   -0.088242\n",
      "3        0    0.000000   0.000014           0                0    0.000003\n",
      "4        x    0.014147  -0.020541           1                1    0.795892\n"
     ]
    },
    {
     "data": {
      "text/plain": [
       "('sin',\n",
       " (<function kan.utils.<lambda>(x)>,\n",
       "  <function kan.utils.<lambda>(x)>,\n",
       "  2,\n",
       "  <function kan.utils.<lambda>(x, y_th)>),\n",
       " np.float64(0.9999891519546509),\n",
       " np.int64(2))"
      ]
     },
     "execution_count": 26,
     "metadata": {},
     "output_type": "execute_result"
    }
   ],
   "source": [
    "sampling_kan.suggest_symbolic(1, 0, 0)"
   ]
  },
  {
   "cell_type": "code",
   "execution_count": 27,
   "id": "a9dfaf3e",
   "metadata": {},
   "outputs": [
    {
     "name": "stdout",
     "output_type": "stream",
     "text": [
      "r2 is 0.9999891519546509\n",
      "saving model version 0.3\n",
      "r2 is 1.0000005960464478\n",
      "saving model version 0.4\n",
      "r2 is 1.0000008344650269\n",
      "saving model version 0.5\n",
      "r2 is 1.0000007152557373\n",
      "saving model version 0.6\n",
      "r2 is 1.0000007152557373\n",
      "saving model version 0.7\n",
      "r2 is 1.000001072883606\n",
      "saving model version 0.8\n"
     ]
    }
   ],
   "source": [
    "sampling_kan.fix_symbolic(1, 0, 0, 'sin')\n",
    "for i in range(0, N, 2):\n",
    "    sampling_kan.fix_symbolic(0, i, 0, 'x')"
   ]
  },
  {
   "cell_type": "code",
   "execution_count": 28,
   "id": "7572bb52",
   "metadata": {},
   "outputs": [
    {
     "name": "stderr",
     "output_type": "stream",
     "text": [
      "| train_loss: 3.50e-07 | test_loss: 3.50e-07 | reg: 0.00e+00 | : 100%|█| 50/50 [00:02<00:00, 21.07it"
     ]
    },
    {
     "name": "stdout",
     "output_type": "stream",
     "text": [
      "saving model version 0.9\n"
     ]
    },
    {
     "name": "stderr",
     "output_type": "stream",
     "text": [
      "\n"
     ]
    }
   ],
   "source": [
    "sampling_kan.fit(sampled_dataset, opt = 'LBFGS', steps = 50);"
   ]
  },
  {
   "cell_type": "code",
   "execution_count": 29,
   "id": "b106c73e",
   "metadata": {},
   "outputs": [
    {
     "data": {
      "text/latex": [
       "$\\displaystyle - 1.1092 \\sin{\\left(3.1416 x_{1} - 2.2468 x_{3} - 3.1416 x_{5} - 3.1416 x_{7} + 3.1416 x_{9} + 10.5482 \\right)}$"
      ],
      "text/plain": [
       "-1.1092*sin(3.1416*x_1 - 2.2468*x_3 - 3.1416*x_5 - 3.1416*x_7 + 3.1416*x_9 + 10.5482)"
      ]
     },
     "execution_count": 29,
     "metadata": {},
     "output_type": "execute_result"
    }
   ],
   "source": [
    "ex_round(sampling_kan.symbolic_formula()[0][0], 4)"
   ]
  },
  {
   "cell_type": "code",
   "execution_count": null,
   "id": "ace6c7c2",
   "metadata": {},
   "outputs": [],
   "source": []
  }
 ],
 "metadata": {
  "kernelspec": {
   "display_name": "kans",
   "language": "python",
   "name": "python3"
  },
  "language_info": {
   "codemirror_mode": {
    "name": "ipython",
    "version": 3
   },
   "file_extension": ".py",
   "mimetype": "text/x-python",
   "name": "python",
   "nbconvert_exporter": "python",
   "pygments_lexer": "ipython3",
   "version": "3.12.5"
  }
 },
 "nbformat": 4,
 "nbformat_minor": 5
}
