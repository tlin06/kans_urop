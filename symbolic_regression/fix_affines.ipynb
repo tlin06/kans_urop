{
 "cells": [
  {
   "cell_type": "code",
   "execution_count": 1,
   "id": "8aa0b0b5",
   "metadata": {},
   "outputs": [],
   "source": [
    "import kan\n",
    "import kan.utils as ku\n",
    "import torch\n",
    "import torch.nn as nn\n",
    "import numpy as np\n",
    "import sympy"
   ]
  },
  {
   "cell_type": "code",
   "execution_count": 2,
   "id": "ea3109f2",
   "metadata": {},
   "outputs": [
    {
     "data": {
      "text/plain": [
       "{'train_input': tensor([[-0.0225,  1.1773],\n",
       "         [ 1.6093,  0.1797],\n",
       "         [-2.4691, -1.4638],\n",
       "         [-2.2078,  1.4196],\n",
       "         [-1.1555, -2.8777],\n",
       "         [ 0.8045, -1.7781],\n",
       "         [-0.0594, -0.7510],\n",
       "         [ 2.3787, -1.4613],\n",
       "         [-0.2662, -1.0495],\n",
       "         [ 0.7938, -2.4589],\n",
       "         [-0.9066, -0.6381],\n",
       "         [-0.5897,  0.6413],\n",
       "         [-2.8660, -1.9544],\n",
       "         [-1.9868, -0.1540],\n",
       "         [-1.2367,  2.1476],\n",
       "         [ 0.1111, -0.3084],\n",
       "         [ 1.1860,  0.0834],\n",
       "         [ 1.8001, -0.2588],\n",
       "         [-2.0338,  0.6071],\n",
       "         [-1.3064,  1.9075],\n",
       "         [ 1.0897,  2.8417],\n",
       "         [ 2.4912,  1.9052],\n",
       "         [-0.6174,  2.8482],\n",
       "         [ 2.2449, -0.2170],\n",
       "         [-0.4836, -2.6950],\n",
       "         [ 0.3174, -1.4222],\n",
       "         [ 2.7164,  2.0427],\n",
       "         [-2.7830, -0.0194],\n",
       "         [-1.8886, -1.4911],\n",
       "         [-0.7595, -2.2989],\n",
       "         [-1.1694, -2.8076],\n",
       "         [ 2.5920, -2.5320],\n",
       "         [-1.9445, -0.6085],\n",
       "         [-1.3810,  1.6452],\n",
       "         [-2.0959,  1.6219],\n",
       "         [-2.8097, -2.8933],\n",
       "         [-1.7512,  1.8713],\n",
       "         [ 2.5788, -2.3475],\n",
       "         [ 1.3387, -0.6342],\n",
       "         [ 1.4540, -1.2164],\n",
       "         [ 0.1578, -0.5778],\n",
       "         [-1.5381, -0.5890],\n",
       "         [ 0.5076, -2.6920],\n",
       "         [-2.8011, -2.5903],\n",
       "         [-2.1677, -0.4694],\n",
       "         [-1.5466,  0.0388],\n",
       "         [ 1.8928, -1.3628],\n",
       "         [ 1.7590,  1.1301],\n",
       "         [-1.3305, -2.7002],\n",
       "         [-0.1082, -0.2025],\n",
       "         [ 1.9187,  2.6383],\n",
       "         [ 2.9824, -1.2237],\n",
       "         [ 1.1906,  2.7090],\n",
       "         [ 0.4053,  1.0865],\n",
       "         [ 2.0115, -2.7074],\n",
       "         [-1.7664,  1.8981],\n",
       "         [ 0.5590, -0.3462],\n",
       "         [-2.3259, -1.3392],\n",
       "         [-2.0793,  2.3990],\n",
       "         [-1.5498, -2.4243],\n",
       "         [ 1.3574,  0.3219],\n",
       "         [ 1.2065, -0.6281],\n",
       "         [-1.7771,  2.1423],\n",
       "         [ 0.9063,  0.8374],\n",
       "         [ 1.6469,  1.4415],\n",
       "         [-0.3787,  1.0595],\n",
       "         [ 0.1145, -0.7214],\n",
       "         [ 0.6951, -0.6309],\n",
       "         [ 1.8611, -2.4722],\n",
       "         [ 2.8806,  1.6255],\n",
       "         [-2.3119,  2.3819],\n",
       "         [-1.0994,  2.0527],\n",
       "         [ 1.1790, -2.1161],\n",
       "         [ 2.4856,  0.1338],\n",
       "         [ 2.6106, -2.1148],\n",
       "         [ 2.6471, -1.6515],\n",
       "         [ 0.5970, -1.7481],\n",
       "         [-2.6087,  1.0252],\n",
       "         [ 0.2760, -1.7877],\n",
       "         [-1.8768, -0.0655],\n",
       "         [-2.7959,  0.1262],\n",
       "         [ 2.6655,  1.9339],\n",
       "         [ 2.2811, -2.2678],\n",
       "         [-2.9926, -2.0595],\n",
       "         [ 0.5615, -1.7420],\n",
       "         [-0.5054,  2.0998],\n",
       "         [-0.4937, -1.0784],\n",
       "         [-1.3733,  2.5305],\n",
       "         [ 1.1537,  1.0848],\n",
       "         [-1.7769,  0.3799],\n",
       "         [ 1.0998, -0.0223],\n",
       "         [ 1.5171, -0.5930],\n",
       "         [ 2.1476,  0.3764],\n",
       "         [ 1.1217, -0.6850],\n",
       "         [-2.9692, -0.0211],\n",
       "         [-1.9461,  0.3828],\n",
       "         [ 1.4979, -2.3466],\n",
       "         [ 0.6279, -1.5724],\n",
       "         [-2.3403,  2.4225],\n",
       "         [-1.7275, -2.4346]]),\n",
       " 'test_input': tensor([[ 2.8222, -0.2154],\n",
       "         [ 2.0215,  2.9677],\n",
       "         [-1.3081,  1.0837],\n",
       "         [-0.7551,  0.0849],\n",
       "         [-2.8578, -2.5998],\n",
       "         [-0.0539,  1.4861],\n",
       "         [-2.2592, -2.1368],\n",
       "         [-2.3141, -0.8516],\n",
       "         [-0.1653, -1.0065],\n",
       "         [ 0.4504, -0.4443],\n",
       "         [-1.2286,  0.0328],\n",
       "         [ 1.7801,  2.4744],\n",
       "         [-1.8256,  0.3745],\n",
       "         [ 2.7221,  2.6871],\n",
       "         [ 2.0559,  1.8351],\n",
       "         [-2.5298, -1.8966],\n",
       "         [-0.7467,  1.3455],\n",
       "         [ 0.1354, -2.1207],\n",
       "         [ 0.4377, -1.2715],\n",
       "         [ 0.7115,  0.8824]]),\n",
       " 'train_label': tensor([[ 0.7234],\n",
       "         [ 0.7515],\n",
       "         [ 0.6115],\n",
       "         [-0.6101],\n",
       "         [ 0.6516],\n",
       "         [-0.6788],\n",
       "         [-0.6197],\n",
       "         [ 0.6607],\n",
       "         [-0.7477],\n",
       "         [-0.7597],\n",
       "         [-0.7615],\n",
       "         [ 0.0515],\n",
       "         [ 0.7591],\n",
       "         [-0.6868],\n",
       "         [ 0.6584],\n",
       "         [-0.1935],\n",
       "         [ 0.7420],\n",
       "         [ 0.7614],\n",
       "         [-0.7572],\n",
       "         [ 0.5121],\n",
       "         [-0.6108],\n",
       "         [-0.7400],\n",
       "         [ 0.6584],\n",
       "         [ 0.7150],\n",
       "         [ 0.0369],\n",
       "         [-0.7131],\n",
       "         [-0.7611],\n",
       "         [-0.3209],\n",
       "         [ 0.2316],\n",
       "         [-0.0829],\n",
       "         [ 0.6301],\n",
       "         [ 0.0599],\n",
       "         [-0.5044],\n",
       "         [ 0.2554],\n",
       "         [-0.4272],\n",
       "         [ 0.4992],\n",
       "         [ 0.1193],\n",
       "         [ 0.2253],\n",
       "         [ 0.5700],\n",
       "         [ 0.2311],\n",
       "         [-0.3866],\n",
       "         [-0.6907],\n",
       "         [-0.6737],\n",
       "         [ 0.6517],\n",
       "         [-0.4489],\n",
       "         [-0.7608],\n",
       "         [ 0.4665],\n",
       "         [ 0.2448],\n",
       "         [ 0.6507],\n",
       "         [-0.2966],\n",
       "         [-0.7565],\n",
       "         [ 0.7541],\n",
       "         [-0.5964],\n",
       "         [ 0.7603],\n",
       "         [-0.5656],\n",
       "         [ 0.1306],\n",
       "         [ 0.2082],\n",
       "         [ 0.4621],\n",
       "         [ 0.3043],\n",
       "         [ 0.6289],\n",
       "         [ 0.7591],\n",
       "         [ 0.4980],\n",
       "         [ 0.3428],\n",
       "         [ 0.7553],\n",
       "         [ 0.0531],\n",
       "         [ 0.5577],\n",
       "         [-0.5156],\n",
       "         [ 0.0641],\n",
       "         [-0.5181],\n",
       "         [-0.7525],\n",
       "         [ 0.0699],\n",
       "         [ 0.6725],\n",
       "         [-0.6673],\n",
       "         [ 0.4611],\n",
       "         [ 0.4428],\n",
       "         [ 0.6853],\n",
       "         [-0.7227],\n",
       "         [-0.7616],\n",
       "         [-0.7609],\n",
       "         [-0.7314],\n",
       "         [-0.4257],\n",
       "         [-0.7589],\n",
       "         [ 0.0133],\n",
       "         [ 0.7365],\n",
       "         [-0.7282],\n",
       "         [ 0.7615],\n",
       "         [-0.7616],\n",
       "         [ 0.7238],\n",
       "         [ 0.6557],\n",
       "         [-0.7552],\n",
       "         [ 0.7068],\n",
       "         [ 0.6630],\n",
       "         [ 0.5220],\n",
       "         [ 0.3994],\n",
       "         [-0.1496],\n",
       "         [-0.7616],\n",
       "         [-0.6354],\n",
       "         [-0.6697],\n",
       "         [ 0.0819],\n",
       "         [ 0.6923]]),\n",
       " 'test_label': tensor([[ 0.4697],\n",
       "         [-0.7451],\n",
       "         [-0.2189],\n",
       "         [-0.5519],\n",
       "         [ 0.6261],\n",
       "         [ 0.7575],\n",
       "         [ 0.7400],\n",
       "         [ 0.0241],\n",
       "         [-0.7266],\n",
       "         [ 0.0062],\n",
       "         [-0.7308],\n",
       "         [-0.7148],\n",
       "         [-0.7586],\n",
       "         [-0.6451],\n",
       "         [-0.5923],\n",
       "         [ 0.7440],\n",
       "         [ 0.5107],\n",
       "         [-0.7237],\n",
       "         [-0.6294],\n",
       "         [ 0.7615]])}"
      ]
     },
     "execution_count": 2,
     "metadata": {},
     "output_type": "execute_result"
    }
   ],
   "source": [
    "def f(x):\n",
    "    return torch.tanh(torch.sin(x[:, 0] + x[:, 1]))\n",
    "dataset = ku.create_dataset(f, n_var = 2, train_num = 100, test_num=20, ranges=[-3, 3])\n",
    "dataset"
   ]
  },
  {
   "cell_type": "code",
   "execution_count": 3,
   "id": "46a289b2",
   "metadata": {},
   "outputs": [
    {
     "data": {
      "text/plain": [
       "(torch.Size([100, 2]),\n",
       " torch.Size([100, 1]),\n",
       " torch.Size([20, 2]),\n",
       " torch.Size([20, 1]))"
      ]
     },
     "execution_count": 3,
     "metadata": {},
     "output_type": "execute_result"
    }
   ],
   "source": [
    "dataset['train_input'].shape, dataset['train_label'].shape, dataset['test_input'].shape, dataset['test_label'].shape, "
   ]
  },
  {
   "cell_type": "code",
   "execution_count": 4,
   "id": "73a334e3",
   "metadata": {},
   "outputs": [
    {
     "name": "stdout",
     "output_type": "stream",
     "text": [
      "checkpoint directory created: ./model\n",
      "saving model version 0.0\n"
     ]
    },
    {
     "data": {
      "image/png": "[encoded data removed]",
      "text/plain": [
       "<Figure size 500x600 with 24 Axes>"
      ]
     },
     "metadata": {},
     "output_type": "display_data"
    }
   ],
   "source": [
    "# model = kan.KAN(width = [2, 5, 1, 1])\n",
    "# it appears sp_trainable and sb_trainable don't do anything\n",
    "model = kan.KAN(width = [2, 5, 1, 1], affine_trainable=False);\n",
    "model(dataset['train_input']);\n",
    "model.plot()"
   ]
  },
  {
   "cell_type": "code",
   "execution_count": 5,
   "id": "31066020",
   "metadata": {},
   "outputs": [
    {
     "data": {
      "text/plain": [
       "Parameter containing:\n",
       "tensor([[[0., 0., 0., 0.]]], requires_grad=True)"
      ]
     },
     "execution_count": 5,
     "metadata": {},
     "output_type": "execute_result"
    }
   ],
   "source": [
    "model.symbolic_fun[2].affine"
   ]
  },
  {
   "cell_type": "code",
   "execution_count": 6,
   "id": "404a14c8",
   "metadata": {},
   "outputs": [
    {
     "name": "stdout",
     "output_type": "stream",
     "text": [
      "saving model version 0.1\n"
     ]
    }
   ],
   "source": [
    "model.fix_symbolic(2, 0, 0, lambda x : torch.tanh(x));"
   ]
  },
  {
   "cell_type": "code",
   "execution_count": 7,
   "id": "b66f4587",
   "metadata": {},
   "outputs": [
    {
     "data": {
      "text/plain": [
       "Parameter containing:\n",
       "tensor([[[1., 0., 1., 0.]]], requires_grad=True)"
      ]
     },
     "execution_count": 7,
     "metadata": {},
     "output_type": "execute_result"
    }
   ],
   "source": [
    "model.symbolic_fun[2].affine"
   ]
  },
  {
   "cell_type": "code",
   "execution_count": 8,
   "id": "798c7836",
   "metadata": {},
   "outputs": [
    {
     "data": {
      "text/plain": [
       "{'training': True,\n",
       " '_parameters': OrderedDict([('mask', Parameter containing:\n",
       "               tensor([[1.]])),\n",
       "              ('affine', Parameter containing:\n",
       "               tensor([[[1., 0., 1., 0.]]], requires_grad=True))]),\n",
       " '_buffers': OrderedDict(),\n",
       " '_non_persistent_buffers_set': set(),\n",
       " '_backward_pre_hooks': OrderedDict(),\n",
       " '_backward_hooks': OrderedDict(),\n",
       " '_is_full_backward_hook': None,\n",
       " '_forward_hooks': OrderedDict(),\n",
       " '_forward_hooks_with_kwargs': OrderedDict(),\n",
       " '_forward_hooks_always_called': OrderedDict(),\n",
       " '_forward_pre_hooks': OrderedDict(),\n",
       " '_forward_pre_hooks_with_kwargs': OrderedDict(),\n",
       " '_state_dict_hooks': OrderedDict(),\n",
       " '_state_dict_pre_hooks': OrderedDict(),\n",
       " '_load_state_dict_pre_hooks': OrderedDict(),\n",
       " '_load_state_dict_post_hooks': OrderedDict(),\n",
       " '_modules': OrderedDict(),\n",
       " 'out_dim': 1,\n",
       " 'in_dim': 1,\n",
       " 'funs': [[<function __main__.<lambda>(x)>]],\n",
       " 'funs_avoid_singularity': [[<function __main__.<lambda>(x)>]],\n",
       " 'funs_name': [['anonymous']],\n",
       " 'funs_sympy': [[<function __main__.<lambda>(x)>]],\n",
       " 'device': 'cpu'}"
      ]
     },
     "execution_count": 8,
     "metadata": {},
     "output_type": "execute_result"
    }
   ],
   "source": [
    "vars(model.symbolic_fun[2])"
   ]
  },
  {
   "cell_type": "code",
   "execution_count": 9,
   "id": "d73be932",
   "metadata": {},
   "outputs": [],
   "source": [
    "model.symbolic_fun[2].affine = torch.nn.Parameter(torch.tensor([[[1, 0, 1, 0]]], dtype = torch.float64, requires_grad=False), requires_grad=False)"
   ]
  },
  {
   "cell_type": "code",
   "execution_count": 10,
   "id": "e9af0598",
   "metadata": {},
   "outputs": [
    {
     "name": "stderr",
     "output_type": "stream",
     "text": [
      "| train_loss: 4.87e-02 | test_loss: 8.16e-02 | reg: 4.06e+00 | : 100%|█| 50/50 [00:08<00:00,  5.79it"
     ]
    },
    {
     "name": "stdout",
     "output_type": "stream",
     "text": [
      "saving model version 0.2\n"
     ]
    },
    {
     "name": "stderr",
     "output_type": "stream",
     "text": [
      "\n"
     ]
    }
   ],
   "source": [
    "model.fit(dataset, opt='LBFGS', steps=50, lamb=0.01);"
   ]
  },
  {
   "cell_type": "code",
   "execution_count": 11,
   "id": "313ffabb",
   "metadata": {},
   "outputs": [
    {
     "data": {
      "text/plain": [
       "Parameter containing:\n",
       "tensor([[[1., 0., 1., 0.]]], dtype=torch.float64)"
      ]
     },
     "execution_count": 11,
     "metadata": {},
     "output_type": "execute_result"
    }
   ],
   "source": [
    "model.symbolic_fun[2].affine"
   ]
  },
  {
   "cell_type": "code",
   "execution_count": 12,
   "id": "3e014cf2",
   "metadata": {},
   "outputs": [
    {
     "data": {
      "image/png": "[encoded data removed]",
      "text/plain": [
       "<Figure size 500x600 with 24 Axes>"
      ]
     },
     "metadata": {},
     "output_type": "display_data"
    }
   ],
   "source": [
    "model.plot()"
   ]
  },
  {
   "cell_type": "code",
   "execution_count": 13,
   "id": "95e6d4ed",
   "metadata": {},
   "outputs": [
    {
     "name": "stdout",
     "output_type": "stream",
     "text": [
      "saving model version 0.3\n"
     ]
    },
    {
     "data": {
      "image/png": "[encoded data removed]",
      "text/plain": [
       "<Figure size 500x600 with 8 Axes>"
      ]
     },
     "metadata": {},
     "output_type": "display_data"
    }
   ],
   "source": [
    "model = model.prune()\n",
    "model.plot()"
   ]
  },
  {
   "cell_type": "code",
   "execution_count": 14,
   "id": "8f51e13d",
   "metadata": {},
   "outputs": [
    {
     "data": {
      "text/plain": [
       "Parameter containing:\n",
       "tensor([[[1., 0., 1., 0.]]], dtype=torch.float64, requires_grad=True)"
      ]
     },
     "execution_count": 14,
     "metadata": {},
     "output_type": "execute_result"
    }
   ],
   "source": [
    "model.symbolic_fun[2].affine"
   ]
  },
  {
   "cell_type": "code",
   "execution_count": 15,
   "id": "dd341487",
   "metadata": {},
   "outputs": [
    {
     "data": {
      "text/plain": [
       "Parameter containing:\n",
       "tensor([[[1., 0., 1., 0.]]], dtype=torch.float64)"
      ]
     },
     "execution_count": 15,
     "metadata": {},
     "output_type": "execute_result"
    }
   ],
   "source": [
    "model.symbolic_fun[2].affine = nn.Parameter(model.symbolic_fun[2].affine.data, requires_grad=False)\n",
    "model.symbolic_fun[2].affine"
   ]
  },
  {
   "cell_type": "code",
   "execution_count": 16,
   "id": "7559e4dc",
   "metadata": {},
   "outputs": [
    {
     "name": "stdout",
     "output_type": "stream",
     "text": [
      "  function  fitting r2   r2 loss  complexity  complexity loss  total loss\n",
      "0        0    0.000000  0.000014           0                0    0.000003\n",
      "1      sin    0.951465 -4.364546           2                2    0.727091\n",
      "2      cos    0.951465 -4.364543           2                2    0.727091\n",
      "3        x    0.203089 -0.327491           1                1    0.734502\n",
      "4    1/x^2    0.306816 -0.528669           2                2    1.494266\n"
     ]
    }
   ],
   "source": [
    "model.suggest_symbolic(1, 0, 0);"
   ]
  },
  {
   "cell_type": "code",
   "execution_count": 17,
   "id": "cebdb7e5",
   "metadata": {},
   "outputs": [
    {
     "name": "stdout",
     "output_type": "stream",
     "text": [
      "r2 is 0.9992256760597229\n",
      "saving model version 0.4\n",
      "r2 is 0.9988035559654236\n",
      "saving model version 0.5\n",
      "r2 is 0.9514654278755188\n",
      "saving model version 0.6\n"
     ]
    }
   ],
   "source": [
    "model.fix_symbolic(0, 0, 0, 'x');\n",
    "model.fix_symbolic(0, 1, 0, 'x');\n",
    "model.fix_symbolic(1, 0, 0, 'sin');"
   ]
  },
  {
   "cell_type": "code",
   "execution_count": 18,
   "id": "00b6d1fd",
   "metadata": {},
   "outputs": [
    {
     "name": "stderr",
     "output_type": "stream",
     "text": [
      "| train_loss: 1.08e-07 | test_loss: 1.23e-07 | reg: 0.00e+00 | : 100%|█| 50/50 [00:01<00:00, 25.31it"
     ]
    },
    {
     "name": "stdout",
     "output_type": "stream",
     "text": [
      "saving model version 0.7\n"
     ]
    },
    {
     "name": "stderr",
     "output_type": "stream",
     "text": [
      "\n"
     ]
    }
   ],
   "source": [
    "model.fit(dataset, opt = 'LBFGS', steps=50);"
   ]
  },
  {
   "cell_type": "code",
   "execution_count": 19,
   "id": "f29094e7",
   "metadata": {},
   "outputs": [
    {
     "data": {
      "image/png": "[encoded data removed]",
      "text/plain": [
       "<Figure size 500x600 with 8 Axes>"
      ]
     },
     "metadata": {},
     "output_type": "display_data"
    }
   ],
   "source": [
    "model.plot()"
   ]
  },
  {
   "cell_type": "code",
   "execution_count": 20,
   "id": "263e784e",
   "metadata": {},
   "outputs": [
    {
     "data": {
      "text/plain": [
       "3"
      ]
     },
     "execution_count": 20,
     "metadata": {},
     "output_type": "execute_result"
    }
   ],
   "source": [
    "len(model.symbolic_fun)"
   ]
  },
  {
   "cell_type": "code",
   "execution_count": 21,
   "id": "a13c1f29",
   "metadata": {},
   "outputs": [
    {
     "data": {
      "text/plain": [
       "tensor([1., 0., 1., 0.], dtype=torch.float64)"
      ]
     },
     "execution_count": 21,
     "metadata": {},
     "output_type": "execute_result"
    }
   ],
   "source": [
    "model.symbolic_fun[2].affine[0, 0]"
   ]
  },
  {
   "cell_type": "code",
   "execution_count": 22,
   "id": "dd259b48",
   "metadata": {},
   "outputs": [
    {
     "data": {
      "text/plain": [
       "[Parameter containing:\n",
       " tensor([1.]),\n",
       " Parameter containing:\n",
       " tensor([1.]),\n",
       " Parameter containing:\n",
       " tensor([1.])]"
      ]
     },
     "execution_count": 22,
     "metadata": {},
     "output_type": "execute_result"
    }
   ],
   "source": [
    "model.subnode_scale"
   ]
  },
  {
   "cell_type": "code",
   "execution_count": 23,
   "id": "ad0dcfe8",
   "metadata": {},
   "outputs": [
    {
     "data": {
      "text/plain": [
       "[Parameter containing:\n",
       " tensor([0.]),\n",
       " Parameter containing:\n",
       " tensor([0.]),\n",
       " Parameter containing:\n",
       " tensor([0.])]"
      ]
     },
     "execution_count": 23,
     "metadata": {},
     "output_type": "execute_result"
    }
   ],
   "source": [
    "model.subnode_bias"
   ]
  },
  {
   "cell_type": "code",
   "execution_count": 24,
   "id": "901079e6",
   "metadata": {},
   "outputs": [
    {
     "data": {
      "text/plain": [
       "Parameter containing:\n",
       "tensor([[[-4.9245, -5.9911,  0.0497,  0.1454],\n",
       "         [-5.3607, -9.9997,  0.0456,  0.3037]]], requires_grad=True)"
      ]
     },
     "execution_count": 24,
     "metadata": {},
     "output_type": "execute_result"
    }
   ],
   "source": [
    "model.symbolic_fun[0].affine"
   ]
  },
  {
   "cell_type": "code",
   "execution_count": 25,
   "id": "f2e5f635",
   "metadata": {},
   "outputs": [],
   "source": [
    "def symbolic_formula(self, var=None, normalizer=None, output_normalizer = None):\n",
    "    '''\n",
    "    get symbolic formula\n",
    "\n",
    "    Args:\n",
    "    -----\n",
    "        var : None or a list of sympy expression\n",
    "            input variables\n",
    "        normalizer : [mean, std]\n",
    "        output_normalizer : [mean, std]\n",
    "        \n",
    "    Returns:\n",
    "    --------\n",
    "        None\n",
    "\n",
    "    Example\n",
    "    -------\n",
    "    >>> from kan import *\n",
    "    >>> model = KAN(width=[2,1,1], grid=5, k=3, noise_scale=0.0, seed=0)\n",
    "    >>> f = lambda x: torch.exp(torch.sin(torch.pi*x[:,[0]])+x[:,[1]]**2)\n",
    "    >>> dataset = create_dataset(f, n_var=3)\n",
    "    >>> model.fit(dataset, opt='LBFGS', steps=20, lamb=0.001);\n",
    "    >>> model.auto_symbolic()\n",
    "    >>> model.symbolic_formula()[0][0]\n",
    "    '''\n",
    "    \n",
    "    symbolic_acts = []\n",
    "    symbolic_acts_premult = []\n",
    "    x = []\n",
    "\n",
    "    def ex_round(ex1, n_digit):\n",
    "        ex2 = ex1\n",
    "        for a in sympy.preorder_traversal(ex1):\n",
    "            if isinstance(a, sympy.Float):\n",
    "                ex2 = ex2.subs(a, round(a, n_digit))\n",
    "        return ex2\n",
    "\n",
    "    # define variables\n",
    "    if var == None:\n",
    "        for ii in range(1, self.width[0][0] + 1):\n",
    "            exec(f\"x{ii} = sympy.Symbol('x_{ii}')\")\n",
    "            exec(f\"x.append(x{ii})\")\n",
    "    elif isinstance(var[0], sympy.Expr):\n",
    "        x = var\n",
    "    else:\n",
    "        x = [sympy.symbols(var_) for var_ in var]\n",
    "\n",
    "    x0 = x\n",
    "\n",
    "    if normalizer != None:\n",
    "        mean = normalizer[0]\n",
    "        std = normalizer[1]\n",
    "        x = [(x[i] - mean[i]) / std[i] for i in range(len(x))]\n",
    "\n",
    "    symbolic_acts.append(x)\n",
    "\n",
    "    for l in range(len(self.width_in) - 1):\n",
    "        num_sum = self.width[l + 1][0]\n",
    "        num_mult = self.width[l + 1][1]\n",
    "        y = []\n",
    "        for j in range(self.width_out[l + 1]):\n",
    "            yj = 0.\n",
    "            for i in range(self.width_in[l]):\n",
    "                a, b, c, d = self.symbolic_fun[l].affine[j, i]\n",
    "                sympy_fun = self.symbolic_fun[l].funs_sympy[j][i]\n",
    "                try:\n",
    "                    yj += c * sympy_fun(a * x[i] + b) + d\n",
    "                except:\n",
    "                    print('vars', a, b, c, d)\n",
    "                    yj += c * sympy.tanh(a * x[i] + b) + d\n",
    "                    print('make sure all activations need to be converted to symbolic formulas first!')\n",
    "                    # return\n",
    "            yj = self.subnode_scale[l][j] * yj + self.subnode_bias[l][j]\n",
    "            y.append(yj)\n",
    "                \n",
    "        symbolic_acts_premult.append(y)\n",
    "        \n",
    "        print(l, y)\n",
    "\n",
    "        mult = []\n",
    "        for k in range(num_mult):\n",
    "            if isinstance(self.mult_arity, int):\n",
    "                mult_arity = self.mult_arity\n",
    "            else:\n",
    "                mult_arity = self.mult_arity[l+1][k]\n",
    "            for i in range(mult_arity-1):\n",
    "                if i == 0:\n",
    "                    mult_k = y[num_sum+2*k] * y[num_sum+2*k+1]\n",
    "                else:\n",
    "                    mult_k = mult_k * y[num_sum+2*k+i+1]\n",
    "            mult.append(mult_k)\n",
    "            \n",
    "        y = y[:num_sum] + mult\n",
    "        \n",
    "        for j in range(self.width_in[l+1]):\n",
    "            y[j] = self.node_scale[l][j] * y[j] + self.node_bias[l][j]\n",
    "        \n",
    "        x = y\n",
    "        symbolic_acts.append(x)\n",
    "\n",
    "    print(symbolic_acts)\n",
    "    if output_normalizer != None:\n",
    "        print('here')\n",
    "        output_layer = symbolic_acts[-1]\n",
    "        means = output_normalizer[0]\n",
    "        stds = output_normalizer[1]\n",
    "\n",
    "        assert len(output_layer) == len(means), 'output_normalizer does not match the output layer'\n",
    "        assert len(output_layer) == len(stds), 'output_normalizer does not match the output layer'\n",
    "        \n",
    "        output_layer = [(output_layer[i] * stds[i] + means[i]) for i in range(len(output_layer))]\n",
    "        symbolic_acts[-1] = output_layer\n",
    "\n",
    "\n",
    "    self.symbolic_acts = [[symbolic_acts[l][i] for i in range(len(symbolic_acts[l]))] for l in range(len(symbolic_acts))]\n",
    "    self.symbolic_acts_premult = [[symbolic_acts_premult[l][i] for i in range(len(symbolic_acts_premult[l]))] for l in range(len(symbolic_acts_premult))]\n",
    "\n",
    "    out_dim = len(symbolic_acts[-1])\n",
    "    #return [symbolic_acts[-1][i] for i in range(len(symbolic_acts[-1]))], x0\n",
    "    return [symbolic_acts[-1][i] for i in range(len(symbolic_acts[-1]))], x0"
   ]
  },
  {
   "cell_type": "code",
   "execution_count": 26,
   "id": "7c480186",
   "metadata": {},
   "outputs": [
    {
     "name": "stdout",
     "output_type": "stream",
     "text": [
      "0 [-0.244594923277367*x_1 - 0.244594917417327*x_2 - 0.304801958620171]\n",
      "1 [1.00000011920929*sin(0.999999990597571*x_1 + 0.999999966639431*x_2 - 4.90330815949847e-8) - 3.31378622320244e-8]\n",
      "vars tensor(1., dtype=torch.float64) tensor(0., dtype=torch.float64) tensor(1., dtype=torch.float64) tensor(0., dtype=torch.float64)\n",
      "make sure all activations need to be converted to symbolic formulas first!\n",
      "2 [1.0*tanh(1.00000011920929*sin(0.999999990597571*x_1 + 0.999999966639431*x_2 - 4.90330815949847e-8) - 3.31378622320244e-8)]\n",
      "[[x_1, x_2], [-0.244594923277367*x_1 - 0.244594917417327*x_2 - 0.304801958620171], [1.00000011920929*sin(0.999999990597571*x_1 + 0.999999966639431*x_2 - 4.90330815949847e-8) - 3.31378622320244e-8], [1.0*tanh(1.00000011920929*sin(0.999999990597571*x_1 + 0.999999966639431*x_2 - 4.90330815949847e-8) - 3.31378622320244e-8)]]\n"
     ]
    },
    {
     "data": {
      "text/latex": [
       "$\\displaystyle 1.0 \\tanh{\\left(1.0 \\sin{\\left(1.0 x_{1} + 1.0 x_{2} \\right)} \\right)}$"
      ],
      "text/plain": [
       "1.0*tanh(1.0*sin(1.0*x_1 + 1.0*x_2))"
      ]
     },
     "execution_count": 26,
     "metadata": {},
     "output_type": "execute_result"
    }
   ],
   "source": [
    "ku.ex_round(symbolic_formula(model)[0][0], 4)"
   ]
  },
  {
   "cell_type": "code",
   "execution_count": 27,
   "id": "ecaed613",
   "metadata": {},
   "outputs": [
    {
     "data": {
      "text/plain": [
       "Parameter containing:\n",
       "tensor([[[1., 0., 1., 0.]]], dtype=torch.float64)"
      ]
     },
     "execution_count": 27,
     "metadata": {},
     "output_type": "execute_result"
    }
   ],
   "source": [
    "model.symbolic_fun[2].affine"
   ]
  },
  {
   "cell_type": "code",
   "execution_count": 28,
   "id": "8f15b3f3",
   "metadata": {},
   "outputs": [
    {
     "data": {
      "text/plain": [
       "Parameter containing:\n",
       "tensor([[[1., 0., 1., 0.]]], dtype=torch.float64)"
      ]
     },
     "execution_count": 28,
     "metadata": {},
     "output_type": "execute_result"
    }
   ],
   "source": [
    "model.symbolic_fun[2].affine = torch.nn.Parameter(torch.tensor([[[1, 0, 1, 0]]], dtype = torch.float64, requires_grad=False), requires_grad=False)\n",
    "model.symbolic_fun[2].affine"
   ]
  },
  {
   "cell_type": "code",
   "execution_count": 29,
   "id": "28ba93eb",
   "metadata": {},
   "outputs": [
    {
     "name": "stdout",
     "output_type": "stream",
     "text": [
      "0 [-0.244594923277367*x_1 - 0.244594917417327*x_2 - 0.304801958620171]\n",
      "1 [1.00000011920929*sin(0.999999990597571*x_1 + 0.999999966639431*x_2 - 4.90330815949847e-8) - 3.31378622320244e-8]\n",
      "vars tensor(1., dtype=torch.float64) tensor(0., dtype=torch.float64) tensor(1., dtype=torch.float64) tensor(0., dtype=torch.float64)\n",
      "make sure all activations need to be converted to symbolic formulas first!\n",
      "2 [1.0*tanh(1.00000011920929*sin(0.999999990597571*x_1 + 0.999999966639431*x_2 - 4.90330815949847e-8) - 3.31378622320244e-8)]\n",
      "[[x_1, x_2], [-0.244594923277367*x_1 - 0.244594917417327*x_2 - 0.304801958620171], [1.00000011920929*sin(0.999999990597571*x_1 + 0.999999966639431*x_2 - 4.90330815949847e-8) - 3.31378622320244e-8], [1.0*tanh(1.00000011920929*sin(0.999999990597571*x_1 + 0.999999966639431*x_2 - 4.90330815949847e-8) - 3.31378622320244e-8)]]\n"
     ]
    },
    {
     "data": {
      "text/latex": [
       "$\\displaystyle 1.0 \\tanh{\\left(1.0 \\sin{\\left(1.0 x_{1} + 1.0 x_{2} \\right)} \\right)}$"
      ],
      "text/plain": [
       "1.0*tanh(1.0*sin(1.0*x_1 + 1.0*x_2))"
      ]
     },
     "execution_count": 29,
     "metadata": {},
     "output_type": "execute_result"
    }
   ],
   "source": [
    "ku.ex_round(symbolic_formula(model)[0][0], 4)"
   ]
  },
  {
   "cell_type": "code",
   "execution_count": null,
   "id": "bbd4047e",
   "metadata": {},
   "outputs": [],
   "source": []
  }
 ],
 "metadata": {
  "kernelspec": {
   "display_name": "kans",
   "language": "python",
   "name": "python3"
  },
  "language_info": {
   "codemirror_mode": {
    "name": "ipython",
    "version": 3
   },
   "file_extension": ".py",
   "mimetype": "text/x-python",
   "name": "python",
   "nbconvert_exporter": "python",
   "pygments_lexer": "ipython3",
   "version": "3.12.5"
  }
 },
 "nbformat": 4,
 "nbformat_minor": 5
}
