{
 "cells": [
  {
   "cell_type": "code",
   "execution_count": 1,
   "metadata": {},
   "outputs": [],
   "source": [
    "from libraries import lib\n",
    "import torch\n",
    "import torch.nn as nn\n",
    "import matplotlib.pyplot as plt\n",
    "import numpy as np"
   ]
  },
  {
   "cell_type": "code",
   "execution_count": 16,
   "metadata": {},
   "outputs": [],
   "source": [
    "N = 2\n",
    "J = 10\n",
    "Gamma = 1"
   ]
  },
  {
   "cell_type": "code",
   "execution_count": 17,
   "metadata": {},
   "outputs": [
    {
     "name": "stdout",
     "output_type": "stream",
     "text": [
      "-20.09975124224179\n",
      "Quantum object: dims=[[2, 2], [1, 1]], shape=(4, 1), type='ket', dtype=Dense\n",
      "Qobj data =\n",
      "[[0.70622893]\n",
      " [0.03522361]\n",
      " [0.03522361]\n",
      " [0.70622893]]\n"
     ]
    }
   ],
   "source": [
    "h = lib.TFIM_hamiltonian(N, J, Gamma)\n",
    "eig = h.eigenstates()\n",
    "print(eig[0][0])\n",
    "print(eig[1][0])"
   ]
  },
  {
   "cell_type": "code",
   "execution_count": 39,
   "metadata": {},
   "outputs": [],
   "source": [
    "def amp_phase(nn_output):\n",
    "    return nn_output[:, 0] * torch.exp(1.j * 2 * np.pi * nn_output[:, 1])\n",
    "input = lib.generate_input_torch(N)\n",
    "model = nn.Sequential(\n",
    "    nn.Linear(N, 5 * N),\n",
    "    nn.Sigmoid(),\n",
    "    nn.Linear(5 * N, 2),\n",
    "    nn.Sigmoid()\n",
    ")"
   ]
  },
  {
   "cell_type": "code",
   "execution_count": 44,
   "metadata": {},
   "outputs": [],
   "source": [
    "vars = (N, J, Gamma)\n",
    "loss_fn = lib.TFIM_expectation_from_torch\n",
    "epochs = []\n",
    "loss_data = []\n",
    "optimizer = torch.optim.SGD(model.parameters(), lr = 5)\n",
    "for epoch in range(1000):\n",
    "    y_pred = model(input)\n",
    "    loss = loss_fn(y_pred, vars, amp_phase)\n",
    "    optimizer.zero_grad()\n",
    "    loss.backward()\n",
    "    optimizer.step()\n",
    "    if epoch % 100 == 0:\n",
    "        loss_data.append(loss.item())\n",
    "        epochs.append(epoch)\n",
    "\n",
    "# find groud state\n",
    "gs = lib.model_to_ground_state(model, input, amp_phase)"
   ]
  },
  {
   "cell_type": "code",
   "execution_count": 45,
   "metadata": {},
   "outputs": [
    {
     "name": "stdout",
     "output_type": "stream",
     "text": [
      "-20.09975242614746\n"
     ]
    },
    {
     "data": {
      "text/latex": [
       "Quantum object: dims=[[4], [1]], shape=(4, 1), type='ket', dtype=Dense$$\\left(\\begin{array}{cc}(-0.685+0.173j)\\\\(-0.034+0.009j)\\\\(-0.034+0.009j)\\\\(-0.685+0.173j)\\end{array}\\right)$$"
      ],
      "text/plain": [
       "Quantum object: dims=[[4], [1]], shape=(4, 1), type='ket', dtype=Dense\n",
       "Qobj data =\n",
       "[[-0.68480456+0.17270432j]\n",
       " [-0.03415452+0.00861351j]\n",
       " [-0.03415445+0.0086135j ]\n",
       " [-0.684771  +0.17269412j]]"
      ]
     },
     "execution_count": 45,
     "metadata": {},
     "output_type": "execute_result"
    }
   ],
   "source": [
    "print(loss_data[-1])\n",
    "gs"
   ]
  },
  {
   "cell_type": "code",
   "execution_count": null,
   "metadata": {},
   "outputs": [],
   "source": []
  }
 ],
 "metadata": {
  "kernelspec": {
   "display_name": "kans",
   "language": "python",
   "name": "python3"
  },
  "language_info": {
   "codemirror_mode": {
    "name": "ipython",
    "version": 3
   },
   "file_extension": ".py",
   "mimetype": "text/x-python",
   "name": "python",
   "nbconvert_exporter": "python",
   "pygments_lexer": "ipython3",
   "version": "3.12.5"
  }
 },
 "nbformat": 4,
 "nbformat_minor": 2
}
