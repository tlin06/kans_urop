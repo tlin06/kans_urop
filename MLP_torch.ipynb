{
 "cells": [
  {
   "cell_type": "code",
   "execution_count": 1,
   "metadata": {},
   "outputs": [],
   "source": [
    "import qutip as qt\n",
    "import numpy as np\n",
    "import matplotlib.pyplot as plt\n",
    "import scipy.optimize as so\n",
    "import math\n",
    "import torch\n",
    "import torch.nn as nn"
   ]
  },
  {
   "cell_type": "code",
   "execution_count": 2,
   "metadata": {},
   "outputs": [],
   "source": [
    "N = 5\n",
    "J = 1\n",
    "Gamma = 1"
   ]
  },
  {
   "cell_type": "code",
   "execution_count": 3,
   "metadata": {},
   "outputs": [
    {
     "data": {
      "text/plain": [
       "torch.float32"
      ]
     },
     "execution_count": 3,
     "metadata": {},
     "output_type": "execute_result"
    }
   ],
   "source": [
    "nn.Linear(N, 2 * N).weight.dtype"
   ]
  },
  {
   "cell_type": "code",
   "execution_count": 4,
   "metadata": {},
   "outputs": [],
   "source": [
    "model = nn.Sequential(\n",
    "    nn.Linear(N, 2 * N),\n",
    "    nn.Sigmoid(),\n",
    "    nn.Linear(2 * N, 2),\n",
    "    nn.Sigmoid()\n",
    ")"
   ]
  },
  {
   "cell_type": "code",
   "execution_count": 5,
   "metadata": {},
   "outputs": [
    {
     "name": "stdout",
     "output_type": "stream",
     "text": [
      "Sequential(\n",
      "  (0): Linear(in_features=5, out_features=10, bias=True)\n",
      "  (1): Sigmoid()\n",
      "  (2): Linear(in_features=10, out_features=2, bias=True)\n",
      "  (3): Sigmoid()\n",
      ")\n"
     ]
    }
   ],
   "source": [
    "print(model)"
   ]
  },
  {
   "cell_type": "code",
   "execution_count": 6,
   "metadata": {},
   "outputs": [],
   "source": [
    "def expectation(psi, H):\n",
    "    x = 1"
   ]
  },
  {
   "cell_type": "code",
   "execution_count": 7,
   "metadata": {},
   "outputs": [
    {
     "name": "stdout",
     "output_type": "stream",
     "text": [
      "tensor([[-0.1763, -0.4532,  0.1567,  0.0083, -0.6841],\n",
      "        [ 0.7141,  2.2895,  0.1022, -2.2632,  0.0128]])\n",
      "tensor([[ 0.8237,  0.5468,  1.1567,  1.0083,  0.3159],\n",
      "        [ 1.7141,  3.2895,  1.1022, -1.2632,  1.0128]])\n",
      "tensor([[3.1072e-02, 2.0536e-01, 2.4550e-02, 6.9328e-05, 4.6806e-01],\n",
      "        [5.0995e-01, 5.2419e+00, 1.0442e-02, 5.1220e+00, 1.6477e-04]])\n",
      "tensor(-0.2931)\n"
     ]
    }
   ],
   "source": [
    "x = torch.randn((2, 5)) \n",
    "print(x)\n",
    "print(x + 1)\n",
    "print(x ** 2)\n",
    "print(sum(sum(x)))"
   ]
  },
  {
   "cell_type": "code",
   "execution_count": 8,
   "metadata": {},
   "outputs": [],
   "source": [
    "# X = torch.tensor([0.1, 0.2, 0.3, 0.4, 0.5])\n",
    "X = torch.randn((32, 5))\n",
    "# y = torch.tensor([.6, .7])\n",
    "y = torch.rand((32, 2))"
   ]
  },
  {
   "cell_type": "code",
   "execution_count": 9,
   "metadata": {},
   "outputs": [
    {
     "name": "stdout",
     "output_type": "stream",
     "text": [
      "tensor([[ 3.3823e-01,  5.8423e-02, -7.8744e-01,  1.8933e-01,  7.6320e-01],\n",
      "        [-1.0917e-02, -7.2966e-01, -4.3117e-01,  6.4404e-01, -1.2215e+00],\n",
      "        [-1.2172e+00, -4.7681e-01, -1.5216e+00, -3.0882e-01, -8.3840e-01],\n",
      "        [ 9.5612e-01,  5.4636e-02, -8.8334e-01,  1.0193e-01,  1.3377e+00],\n",
      "        [-1.2013e+00,  1.9623e-01,  9.5308e-01,  7.5492e-01, -7.9918e-01],\n",
      "        [-1.2067e-01, -2.4191e-01,  2.6517e+00, -9.7426e-02,  2.1286e-01],\n",
      "        [ 1.1372e+00,  7.3514e-01, -2.2788e-01,  1.1136e+00, -1.0488e+00],\n",
      "        [ 1.2867e-01, -5.7566e-02, -6.6958e-01,  9.6292e-01,  3.8521e-01],\n",
      "        [-3.0902e-02, -1.0811e+00,  6.8977e-01,  1.3283e+00,  1.7496e-01],\n",
      "        [-6.1554e-01,  3.4714e-01,  7.3296e-02,  9.7436e-02, -1.2176e+00],\n",
      "        [ 1.1169e+00,  5.4009e-01,  8.8190e-01, -2.4136e-01, -7.4446e-03],\n",
      "        [-1.9776e-02, -2.5478e-01, -4.6064e-01,  4.7199e-01, -2.9869e-01],\n",
      "        [-4.1002e-01,  5.4023e-01, -1.9949e+00, -3.5520e-01, -3.1528e-01],\n",
      "        [-1.4138e+00,  7.4103e-01,  8.7355e-02, -8.9262e-01, -1.3234e+00],\n",
      "        [ 5.3051e-01,  5.1286e-02, -5.6793e-02,  2.0941e-01, -7.4565e-01],\n",
      "        [-7.0103e-01,  9.8756e-01,  9.6905e-01,  2.1331e+00,  1.4793e+00],\n",
      "        [ 3.3165e-01, -1.1060e+00,  2.8545e-01,  7.1084e-01, -2.9525e-01],\n",
      "        [-2.5236e+00, -4.5098e-01, -1.1471e-01, -8.9213e-01,  5.7627e-02],\n",
      "        [ 7.2174e-01, -1.0563e+00, -1.3943e+00,  7.8190e-01,  2.3071e-02],\n",
      "        [ 5.1703e-02, -2.5779e+00, -5.0792e-01, -3.3957e-01, -4.3894e-01],\n",
      "        [ 4.6040e-02,  7.2997e-01, -1.5925e+00, -1.1231e+00,  1.4677e+00],\n",
      "        [-2.9808e-01, -1.3755e+00, -1.7667e-01,  6.1917e-01, -2.5121e+00],\n",
      "        [ 1.9447e+00,  1.8793e-01, -1.6742e-03, -3.0263e-01,  2.3136e-02],\n",
      "        [-2.6105e-01, -9.6543e-01, -1.6966e+00, -2.1631e+00,  8.8388e-01],\n",
      "        [ 1.2005e-01,  1.4279e+00, -7.1068e-01,  1.3495e+00, -1.4475e+00],\n",
      "        [-8.8676e-01, -2.3882e+00,  1.2850e+00, -1.7094e+00,  3.5507e-01],\n",
      "        [ 1.1245e+00,  2.1971e-01, -1.1828e+00, -4.6852e-02,  1.2471e+00],\n",
      "        [-2.2209e+00, -1.7690e+00,  1.0194e+00, -1.1807e+00, -6.2004e-01],\n",
      "        [ 1.3816e+00, -7.4467e-01, -9.8487e-01,  4.2152e-01,  1.3621e+00],\n",
      "        [-1.0143e+00, -7.2436e-01,  3.8535e-01,  1.1716e+00,  1.7813e+00],\n",
      "        [ 1.4403e+00,  1.0335e+00,  3.9093e-01, -4.3461e-02,  9.2489e-01],\n",
      "        [-3.0372e-01,  6.2951e-01, -2.6519e-01, -2.0371e-01, -1.5973e+00]])\n",
      "tensor([[0.1073, 0.1093],\n",
      "        [0.0628, 0.8056],\n",
      "        [0.3112, 0.6906],\n",
      "        [0.8131, 0.4033],\n",
      "        [0.8628, 0.4902],\n",
      "        [0.1101, 0.9956],\n",
      "        [0.5755, 0.5162],\n",
      "        [0.2393, 0.5162],\n",
      "        [0.9655, 0.6773],\n",
      "        [0.5397, 0.3832],\n",
      "        [0.7652, 0.5618],\n",
      "        [0.6735, 0.3192],\n",
      "        [0.0311, 0.4304],\n",
      "        [0.2741, 0.1852],\n",
      "        [0.6547, 0.9155],\n",
      "        [0.7490, 0.0294],\n",
      "        [0.9427, 0.5711],\n",
      "        [0.5142, 0.8775],\n",
      "        [0.3138, 0.4889],\n",
      "        [0.0366, 0.0479],\n",
      "        [0.7723, 0.5934],\n",
      "        [0.2419, 0.6888],\n",
      "        [0.7279, 0.8463],\n",
      "        [0.3393, 0.2802],\n",
      "        [0.4750, 0.4031],\n",
      "        [0.3257, 0.2503],\n",
      "        [0.1053, 0.5706],\n",
      "        [0.4856, 0.6139],\n",
      "        [0.3587, 0.4604],\n",
      "        [0.5479, 0.5538],\n",
      "        [0.2354, 0.4070],\n",
      "        [0.7238, 0.8464]])\n"
     ]
    }
   ],
   "source": [
    "print(X)\n",
    "print(y)"
   ]
  },
  {
   "cell_type": "code",
   "execution_count": 10,
   "metadata": {},
   "outputs": [
    {
     "data": {
      "text/plain": [
       "torch.float32"
      ]
     },
     "execution_count": 10,
     "metadata": {},
     "output_type": "execute_result"
    }
   ],
   "source": [
    "X.dtype"
   ]
  },
  {
   "cell_type": "code",
   "execution_count": 11,
   "metadata": {},
   "outputs": [],
   "source": [
    "loss_fn = nn.MSELoss()\n",
    "epochs = []\n",
    "loss_data = []\n",
    "optimizer = torch.optim.SGD(model.parameters(), lr = 1)\n",
    "for epoch in range(10000):\n",
    "    y_pred = model(X)\n",
    "    loss = loss_fn(y_pred, y)\n",
    "    optimizer.zero_grad()\n",
    "    loss.backward()\n",
    "    optimizer.step()\n",
    "    if epoch % 100 == 0:\n",
    "        loss_data.append(loss.item())\n",
    "        epochs.append(epoch)"
   ]
  },
  {
   "cell_type": "code",
   "execution_count": 12,
   "metadata": {},
   "outputs": [
    {
     "data": {
      "text/plain": [
       "Linear(in_features=10, out_features=2, bias=True)"
      ]
     },
     "execution_count": 12,
     "metadata": {},
     "output_type": "execute_result"
    }
   ],
   "source": [
    "model[2]"
   ]
  },
  {
   "cell_type": "code",
   "execution_count": 13,
   "metadata": {},
   "outputs": [
    {
     "data": {
      "text/plain": [
       "tensor([[0.2629, 0.2415],\n",
       "        [0.2089, 0.6722],\n",
       "        [0.2973, 0.6634],\n",
       "        [0.5743, 0.3812],\n",
       "        [0.8706, 0.4368],\n",
       "        [0.1500, 0.9144],\n",
       "        [0.5944, 0.4972],\n",
       "        [0.2671, 0.5458],\n",
       "        [0.9742, 0.6250],\n",
       "        [0.6146, 0.4377],\n",
       "        [0.7279, 0.7082],\n",
       "        [0.5746, 0.3641],\n",
       "        [0.0402, 0.4007],\n",
       "        [0.2821, 0.1953],\n",
       "        [0.7725, 0.8444],\n",
       "        [0.7494, 0.0726],\n",
       "        [0.8049, 0.6471],\n",
       "        [0.5157, 0.9203],\n",
       "        [0.2933, 0.4492],\n",
       "        [0.0238, 0.0869],\n",
       "        [0.7075, 0.6171],\n",
       "        [0.1013, 0.7701],\n",
       "        [0.7421, 0.7471],\n",
       "        [0.3452, 0.2547],\n",
       "        [0.4730, 0.4278],\n",
       "        [0.3491, 0.2481],\n",
       "        [0.3073, 0.4735],\n",
       "        [0.4955, 0.6255],\n",
       "        [0.4088, 0.5710],\n",
       "        [0.5503, 0.5180],\n",
       "        [0.2030, 0.3665],\n",
       "        [0.6135, 0.8364]], grad_fn=<SigmoidBackward0>)"
      ]
     },
     "execution_count": 13,
     "metadata": {},
     "output_type": "execute_result"
    }
   ],
   "source": [
    "model[3](model[2](model[1](model[0](X))))"
   ]
  },
  {
   "cell_type": "code",
   "execution_count": 14,
   "metadata": {},
   "outputs": [
    {
     "data": {
      "text/plain": [
       "tensor([[0.2629, 0.2415],\n",
       "        [0.2089, 0.6722],\n",
       "        [0.2973, 0.6634],\n",
       "        [0.5743, 0.3812],\n",
       "        [0.8706, 0.4368],\n",
       "        [0.1500, 0.9144],\n",
       "        [0.5944, 0.4972],\n",
       "        [0.2671, 0.5458],\n",
       "        [0.9742, 0.6250],\n",
       "        [0.6146, 0.4377],\n",
       "        [0.7279, 0.7082],\n",
       "        [0.5746, 0.3641],\n",
       "        [0.0402, 0.4007],\n",
       "        [0.2821, 0.1953],\n",
       "        [0.7725, 0.8444],\n",
       "        [0.7494, 0.0726],\n",
       "        [0.8049, 0.6471],\n",
       "        [0.5157, 0.9203],\n",
       "        [0.2933, 0.4492],\n",
       "        [0.0238, 0.0869],\n",
       "        [0.7075, 0.6171],\n",
       "        [0.1013, 0.7701],\n",
       "        [0.7421, 0.7471],\n",
       "        [0.3452, 0.2547],\n",
       "        [0.4730, 0.4278],\n",
       "        [0.3491, 0.2481],\n",
       "        [0.3073, 0.4735],\n",
       "        [0.4955, 0.6255],\n",
       "        [0.4088, 0.5710],\n",
       "        [0.5503, 0.5180],\n",
       "        [0.2030, 0.3665],\n",
       "        [0.6135, 0.8364]], grad_fn=<SigmoidBackward0>)"
      ]
     },
     "execution_count": 14,
     "metadata": {},
     "output_type": "execute_result"
    }
   ],
   "source": [
    "model(X)"
   ]
  },
  {
   "cell_type": "code",
   "execution_count": 15,
   "metadata": {},
   "outputs": [
    {
     "data": {
      "text/plain": [
       "tensor([[0.1073, 0.1093],\n",
       "        [0.0628, 0.8056],\n",
       "        [0.3112, 0.6906],\n",
       "        [0.8131, 0.4033],\n",
       "        [0.8628, 0.4902],\n",
       "        [0.1101, 0.9956],\n",
       "        [0.5755, 0.5162],\n",
       "        [0.2393, 0.5162],\n",
       "        [0.9655, 0.6773],\n",
       "        [0.5397, 0.3832],\n",
       "        [0.7652, 0.5618],\n",
       "        [0.6735, 0.3192],\n",
       "        [0.0311, 0.4304],\n",
       "        [0.2741, 0.1852],\n",
       "        [0.6547, 0.9155],\n",
       "        [0.7490, 0.0294],\n",
       "        [0.9427, 0.5711],\n",
       "        [0.5142, 0.8775],\n",
       "        [0.3138, 0.4889],\n",
       "        [0.0366, 0.0479],\n",
       "        [0.7723, 0.5934],\n",
       "        [0.2419, 0.6888],\n",
       "        [0.7279, 0.8463],\n",
       "        [0.3393, 0.2802],\n",
       "        [0.4750, 0.4031],\n",
       "        [0.3257, 0.2503],\n",
       "        [0.1053, 0.5706],\n",
       "        [0.4856, 0.6139],\n",
       "        [0.3587, 0.4604],\n",
       "        [0.5479, 0.5538],\n",
       "        [0.2354, 0.4070],\n",
       "        [0.7238, 0.8464]])"
      ]
     },
     "execution_count": 15,
     "metadata": {},
     "output_type": "execute_result"
    }
   ],
   "source": [
    "y"
   ]
  },
  {
   "cell_type": "code",
   "execution_count": 16,
   "metadata": {},
   "outputs": [
    {
     "data": {
      "text/plain": [
       "tensor(0.0059, grad_fn=<MseLossBackward0>)"
      ]
     },
     "execution_count": 16,
     "metadata": {},
     "output_type": "execute_result"
    }
   ],
   "source": [
    "loss_fn(model(X), y)"
   ]
  },
  {
   "cell_type": "code",
   "execution_count": 17,
   "metadata": {},
   "outputs": [
    {
     "data": {
      "image/png": "[encoded data removed]",
      "text/plain": [
       "<Figure size 640x480 with 1 Axes>"
      ]
     },
     "metadata": {},
     "output_type": "display_data"
    }
   ],
   "source": [
    "plt.plot(epochs, loss_data)\n",
    "plt.show()"
   ]
  },
  {
   "cell_type": "code",
   "execution_count": 18,
   "metadata": {},
   "outputs": [
    {
     "name": "stdout",
     "output_type": "stream",
     "text": [
      "tensor([[2.3489e-01, 4.0237e-01, 8.2300e-01],\n",
      "        [6.3149e-01, 5.9579e-02, 7.4761e-01],\n",
      "        [6.2474e-01, 2.9385e-04, 7.3560e-02],\n",
      "        [6.4885e-01, 1.6234e-01, 9.2347e-01],\n",
      "        [7.3874e-01, 1.0221e-01, 3.8913e-01]])\n",
      "tensor([2.8787, 0.7268, 2.9568])\n",
      "tensor([1.4603, 1.4387, 0.6986, 1.7347, 1.2301])\n"
     ]
    }
   ],
   "source": [
    "x = torch.rand(((5, 3)))\n",
    "print(x)\n",
    "print(sum(x))\n",
    "print(torch.sum(x, axis = 1))"
   ]
  },
  {
   "cell_type": "code",
   "execution_count": 19,
   "metadata": {},
   "outputs": [
    {
     "data": {
      "text/plain": [
       "tensor([0.-1.j, 0.-1.j, 0.-1.j, 0.-1.j, 0.-1.j], dtype=torch.complex128)"
      ]
     },
     "execution_count": 19,
     "metadata": {},
     "output_type": "execute_result"
    }
   ],
   "source": [
    "(torch.zeros(5, dtype=torch.complex128) + 1.j).conj()"
   ]
  },
  {
   "cell_type": "code",
   "execution_count": 20,
   "metadata": {},
   "outputs": [
    {
     "data": {
      "text/plain": [
       "tensor([[2., 2., 2.],\n",
       "        [2., 2., 2.],\n",
       "        [2., 2., 2.],\n",
       "        [2., 2., 2.],\n",
       "        [2., 2., 2.]])"
      ]
     },
     "execution_count": 20,
     "metadata": {},
     "output_type": "execute_result"
    }
   ],
   "source": [
    "(torch.ones((3, 2)) @ torch.ones((2, 5))).reshape((5, 3))"
   ]
  },
  {
   "cell_type": "code",
   "execution_count": 21,
   "metadata": {},
   "outputs": [
    {
     "name": "stdout",
     "output_type": "stream",
     "text": [
      "tensor([[0.5587, 0.7627],\n",
      "        [0.3342, 0.9316],\n",
      "        [0.5064, 0.5878]])\n",
      "tensor([0.5587+0.7627j, 0.3342+0.9316j, 0.5064+0.5878j])\n"
     ]
    }
   ],
   "source": [
    "x = torch.rand((3, 2))\n",
    "print(x)\n",
    "y = x[:, 0] + 1.j * x[:, 1]\n",
    "print(y)"
   ]
  },
  {
   "cell_type": "code",
   "execution_count": 90,
   "metadata": {},
   "outputs": [],
   "source": [
    "def TFIM_multiply(psi, phi, N, J, Gamma):\n",
    "    dim = 2 ** N\n",
    "    for state in range(dim):\n",
    "        jtotal = 0\n",
    "        for site in range(N - 1):\n",
    "            jtotal += J if ((state >> site) ^ (state >> (site + 1))) & 1 else -J \n",
    "        jtotal += J if ((state >> (N - 1)) ^ (state >> 0)) & 1 else -J\n",
    "        phi[state] = jtotal * psi[state]\n",
    "    \n",
    "    for state in range(dim):\n",
    "        for site in range(N):\n",
    "            flipped_state = state ^ (1 << site)\n",
    "            phi[flipped_state] -= Gamma*psi[state]\n",
    "\n",
    "def expectation(nn_output, vars):\n",
    "    N, J, Gamma = vars\n",
    "    dim = 2 ** N\n",
    "    psi = nn_output[:, 0] + 1.j * nn_output[:, 1]\n",
    "    mag = sum(abs(n) ** 2 for n in psi)\n",
    "    phi = torch.zeros(dim, dtype = torch.complex64)\n",
    "    bra_psi = psi.reshape((1, -1)).conj()\n",
    "    TFIM_multiply(psi, phi, N, J, Gamma)\n",
    "\n",
    "    res = (bra_psi @ phi.reshape((-1, 1)))[0][0].real\n",
    "\n",
    "    return res / mag"
   ]
  },
  {
   "cell_type": "code",
   "execution_count": 91,
   "metadata": {},
   "outputs": [],
   "source": [
    "def generate_state(state_num, N):\n",
    "    x = np.zeros(N)\n",
    "    for n in range(N):\n",
    "        x[n] = (state_num >> n) & 1\n",
    "    return x"
   ]
  },
  {
   "cell_type": "code",
   "execution_count": 92,
   "metadata": {},
   "outputs": [
    {
     "data": {
      "text/plain": [
       "array([0., 0., 0., 0., 0.])"
      ]
     },
     "execution_count": 92,
     "metadata": {},
     "output_type": "execute_result"
    }
   ],
   "source": [
    "generate_state(0, N)"
   ]
  },
  {
   "cell_type": "code",
   "execution_count": 93,
   "metadata": {},
   "outputs": [
    {
     "data": {
      "text/plain": [
       "tensor([[0., 0., 0., 0., 0.],\n",
       "        [1., 0., 0., 0., 0.],\n",
       "        [0., 1., 0., 0., 0.],\n",
       "        [1., 1., 0., 0., 0.],\n",
       "        [0., 0., 1., 0., 0.],\n",
       "        [1., 0., 1., 0., 0.],\n",
       "        [0., 1., 1., 0., 0.],\n",
       "        [1., 1., 1., 0., 0.],\n",
       "        [0., 0., 0., 1., 0.],\n",
       "        [1., 0., 0., 1., 0.],\n",
       "        [0., 1., 0., 1., 0.],\n",
       "        [1., 1., 0., 1., 0.],\n",
       "        [0., 0., 1., 1., 0.],\n",
       "        [1., 0., 1., 1., 0.],\n",
       "        [0., 1., 1., 1., 0.],\n",
       "        [1., 1., 1., 1., 0.],\n",
       "        [0., 0., 0., 0., 1.],\n",
       "        [1., 0., 0., 0., 1.],\n",
       "        [0., 1., 0., 0., 1.],\n",
       "        [1., 1., 0., 0., 1.],\n",
       "        [0., 0., 1., 0., 1.],\n",
       "        [1., 0., 1., 0., 1.],\n",
       "        [0., 1., 1., 0., 1.],\n",
       "        [1., 1., 1., 0., 1.],\n",
       "        [0., 0., 0., 1., 1.],\n",
       "        [1., 0., 0., 1., 1.],\n",
       "        [0., 1., 0., 1., 1.],\n",
       "        [1., 1., 0., 1., 1.],\n",
       "        [0., 0., 1., 1., 1.],\n",
       "        [1., 0., 1., 1., 1.],\n",
       "        [0., 1., 1., 1., 1.],\n",
       "        [1., 1., 1., 1., 1.]])"
      ]
     },
     "execution_count": 93,
     "metadata": {},
     "output_type": "execute_result"
    }
   ],
   "source": [
    "dim = 2 ** N\n",
    "input = np.array([generate_state(state, N) for state in range(dim)])\n",
    "input = torch.tensor(input, dtype = torch.float32)\n",
    "input"
   ]
  },
  {
   "cell_type": "code",
   "execution_count": 94,
   "metadata": {},
   "outputs": [
    {
     "data": {
      "text/plain": [
       "torch.float32"
      ]
     },
     "execution_count": 94,
     "metadata": {},
     "output_type": "execute_result"
    }
   ],
   "source": [
    "model[0].weight.dtype"
   ]
  },
  {
   "cell_type": "code",
   "execution_count": 95,
   "metadata": {},
   "outputs": [
    {
     "data": {
      "text/plain": [
       "torch.float32"
      ]
     },
     "execution_count": 95,
     "metadata": {},
     "output_type": "execute_result"
    }
   ],
   "source": [
    "input.dtype"
   ]
  },
  {
   "cell_type": "code",
   "execution_count": 96,
   "metadata": {},
   "outputs": [
    {
     "data": {
      "text/plain": [
       "tensor([0.6550+0.4415j, 0.6595+0.4349j, 0.6685+0.4381j, 0.6730+0.4317j,\n",
       "        0.6476+0.4412j, 0.6519+0.4346j, 0.6614+0.4380j, 0.6658+0.4316j,\n",
       "        0.6482+0.4285j, 0.6523+0.4220j, 0.6623+0.4257j, 0.6659+0.4195j,\n",
       "        0.6408+0.4286j, 0.6449+0.4222j, 0.6552+0.4260j, 0.6590+0.4200j,\n",
       "        0.6483+0.4412j, 0.6531+0.4347j, 0.6610+0.4379j, 0.6661+0.4311j,\n",
       "        0.6415+0.4404j, 0.6455+0.4339j, 0.6544+0.4372j, 0.6589+0.4306j,\n",
       "        0.6418+0.4284j, 0.6462+0.4214j, 0.6553+0.4255j, 0.6596+0.4185j,\n",
       "        0.6350+0.4279j, 0.6388+0.4211j, 0.6488+0.4253j, 0.6526+0.4186j],\n",
       "       grad_fn=<AddBackward0>)"
      ]
     },
     "execution_count": 96,
     "metadata": {},
     "output_type": "execute_result"
    }
   ],
   "source": [
    "model(input)[:, 0] + model(input)[:, 1] * 1.j"
   ]
  },
  {
   "cell_type": "code",
   "execution_count": 97,
   "metadata": {},
   "outputs": [
    {
     "data": {
      "text/plain": [
       "tensor([[3.4341e-02, 2.7660e-04],\n",
       "        [1.0176e-02, 7.8285e-05],\n",
       "        [1.0130e-02, 1.9754e-04],\n",
       "        [6.7948e-03, 8.7817e-05],\n",
       "        [1.0190e-02, 6.7800e-05],\n",
       "        [3.4510e-03, 2.3340e-05],\n",
       "        [6.7863e-03, 9.4109e-05],\n",
       "        [6.9717e-03, 4.5592e-05],\n",
       "        [1.0092e-02, 1.3193e-04],\n",
       "        [3.6130e-03, 4.8037e-05],\n",
       "        [3.7237e-03, 1.1643e-04],\n",
       "        [3.7057e-03, 5.9496e-05],\n",
       "        [6.8787e-03, 6.5236e-05],\n",
       "        [3.7283e-03, 2.8265e-05],\n",
       "        [6.9325e-03, 1.0627e-04],\n",
       "        [1.0146e-02, 5.8142e-05],\n",
       "        [1.0180e-02, 1.9229e-04],\n",
       "        [6.6939e-03, 8.0256e-05],\n",
       "        [3.5097e-03, 1.5604e-04],\n",
       "        [7.0735e-03, 9.8698e-05],\n",
       "        [3.4653e-03, 5.5862e-05],\n",
       "        [3.7707e-03, 3.0434e-05],\n",
       "        [3.7372e-03, 8.7102e-05],\n",
       "        [1.0171e-02, 6.0982e-05],\n",
       "        [6.8540e-03, 1.6878e-04],\n",
       "        [6.9792e-03, 8.4007e-05],\n",
       "        [3.7396e-03, 1.5613e-04],\n",
       "        [1.0132e-02, 1.1178e-04],\n",
       "        [6.9847e-03, 9.8688e-05],\n",
       "        [1.0153e-02, 5.6977e-05],\n",
       "        [1.0155e-02, 1.5965e-04],\n",
       "        [3.4543e-02, 1.2395e-04]], grad_fn=<SigmoidBackward0>)"
      ]
     },
     "execution_count": 97,
     "metadata": {},
     "output_type": "execute_result"
    }
   ],
   "source": [
    "gs_approximator(input)"
   ]
  },
  {
   "cell_type": "code",
   "execution_count": 249,
   "metadata": {},
   "outputs": [],
   "source": [
    "N = 7\n",
    "J = 1\n",
    "Gamma = 1"
   ]
  },
  {
   "cell_type": "code",
   "execution_count": 250,
   "metadata": {},
   "outputs": [],
   "source": [
    "dim = 2 ** N\n",
    "input = np.array([generate_state(state, N) for state in range(dim)])\n",
    "input = torch.tensor(input, dtype = torch.float32)"
   ]
  },
  {
   "cell_type": "code",
   "execution_count": 251,
   "metadata": {},
   "outputs": [],
   "source": [
    "gs_approximator = nn.Sequential(\n",
    "    nn.Linear(N, 2 * N),\n",
    "    nn.Sigmoid(),\n",
    "    nn.Linear(2 * N, 2),\n",
    "    nn.Sigmoid()\n",
    ")"
   ]
  },
  {
   "cell_type": "code",
   "execution_count": 252,
   "metadata": {},
   "outputs": [],
   "source": [
    "vars = (N, J, Gamma)\n",
    "loss_fn = expectation\n",
    "epochs = []\n",
    "loss_data = []\n",
    "optimizer = torch.optim.SGD(gs_approximator.parameters(), lr = 2)\n",
    "for epoch in range(1000):\n",
    "    y_pred = gs_approximator(input)\n",
    "    loss = loss_fn(y_pred, vars)\n",
    "    optimizer.zero_grad()\n",
    "    loss.backward()\n",
    "    optimizer.step()\n",
    "    if epoch % 100 == 0:\n",
    "        loss_data.append(loss.item())\n",
    "        epochs.append(epoch)"
   ]
  },
  {
   "cell_type": "code",
   "execution_count": 253,
   "metadata": {},
   "outputs": [
    {
     "data": {
      "image/png": "[encoded data removed]",
      "text/plain": [
       "<Figure size 640x480 with 1 Axes>"
      ]
     },
     "metadata": {},
     "output_type": "display_data"
    }
   ],
   "source": [
    "plt.plot(epochs, loss_data)\n",
    "plt.show()"
   ]
  },
  {
   "cell_type": "code",
   "execution_count": 254,
   "metadata": {},
   "outputs": [],
   "source": [
    "def TFIM_hamiltonian(n, J, gamma):\n",
    "    # uses ring shape\n",
    "    id = qt.qeye(2)\n",
    "    z = qt.sigmaz()\n",
    "    x = qt.sigmax()\n",
    "    sxi = []\n",
    "    szi = []\n",
    "    for i in range(n):\n",
    "        sxi.append(qt.tensor([id] * i + [x] + [id] * (n - i - 1)))\n",
    "        szi.append(qt.tensor([id] * i + [z] + [id] * (n - i - 1)))\n",
    "    return -J * sum(szi[i] * szi[i + 1] for i in range(n - 1)) - J * szi[n - 1] * szi[0] - gamma * sum(sxi[i] for i in range(n))"
   ]
  },
  {
   "cell_type": "code",
   "execution_count": 255,
   "metadata": {},
   "outputs": [
    {
     "name": "stdout",
     "output_type": "stream",
     "text": [
      "-8.98791841486986\n"
     ]
    }
   ],
   "source": [
    "h = TFIM_hamiltonian(N, J, Gamma)\n",
    "print(h.eigenstates()[0][0])"
   ]
  },
  {
   "cell_type": "code",
   "execution_count": 256,
   "metadata": {},
   "outputs": [
    {
     "data": {
      "text/plain": [
       "-8.875748634338379"
      ]
     },
     "execution_count": 256,
     "metadata": {},
     "output_type": "execute_result"
    }
   ],
   "source": [
    "loss_data[-1]"
   ]
  },
  {
   "cell_type": "code",
   "execution_count": 257,
   "metadata": {},
   "outputs": [
    {
     "data": {
      "text/latex": [
       "Quantum object: dims=[[128], [1]], shape=(128, 1), type='ket', dtype=Dense$$\\left(\\begin{array}{cc}(0.671+0.003j)\\\\(0.199+0.001j)\\\\(0.200+0.001j)\\\\0.117\\\\(0.201+0.002j)\\\\\\vdots\\\\0.024\\\\0.037\\\\0.023\\\\0.024\\\\0.029\\end{array}\\right)$$"
      ],
      "text/plain": [
       "Quantum object: dims=[[128], [1]], shape=(128, 1), type='ket', dtype=Dense\n",
       "Qobj data =\n",
       "[[0.67123318+0.00298368j]\n",
       " [0.19920997+0.0011186j ]\n",
       " [0.20032968+0.00142023j]\n",
       " [0.11686736+0.00090994j]\n",
       " [0.20121813+0.00238479j]\n",
       " [0.06140458+0.00105j   ]\n",
       " [0.11842372+0.00161192j]\n",
       " [0.07303325+0.00116501j]\n",
       " [0.19933963+0.0015114j ]\n",
       " [0.05309977+0.0005639j ]\n",
       " [0.06135928+0.00071524j]\n",
       " [0.0371892 +0.0004767j ]\n",
       " [0.12008648+0.00136309j]\n",
       " [0.03495269+0.00059091j]\n",
       " [0.0733965 +0.0009773j ]\n",
       " [0.04750657+0.00072376j]\n",
       " [0.19985831+0.00173553j]\n",
       " [0.05627258+0.00056929j]\n",
       " [0.05546719+0.00062144j]\n",
       " [0.03621406+0.00036583j]\n",
       " [0.06466608+0.00103562j]\n",
       " [0.02167487+0.00040843j]\n",
       " [0.03655378+0.00061596j]\n",
       " [0.02800982+0.00043457j]\n",
       " [0.1184921 +0.00116937j]\n",
       " [0.0361596 +0.00040455j]\n",
       " [0.03722537+0.00045256j]\n",
       " [0.02686397+0.00028027j]\n",
       " [0.07006875+0.00083547j]\n",
       " [0.023043  +0.00033108j]\n",
       " [0.04118215+0.0004744j ]\n",
       " [0.03123054+0.00032948j]\n",
       " [0.19292895+0.00073042j]\n",
       " [0.05666809+0.00030592j]\n",
       " [0.05370032+0.00038104j]\n",
       " [0.03622845+0.00028334j]\n",
       " [0.04979637+0.00062161j]\n",
       " [0.01837612+0.00032449j]\n",
       " [0.03520881+0.00049579j]\n",
       " [0.02715241+0.00042641j]\n",
       " [0.05736029+0.00048906j]\n",
       " [0.01993996+0.00022503j]\n",
       " [0.02048024+0.00026102j]\n",
       " [0.01516005+0.00020379j]\n",
       " [0.03666327+0.00046461j]\n",
       " [0.01538804+0.0002535j ]\n",
       " [0.02523343+0.0003372j ]\n",
       " [0.0206753 +0.00029553j]\n",
       " [0.11068444+0.00064855j]\n",
       " [0.03657612+0.00025951j]\n",
       " [0.03525262+0.00029596j]\n",
       " [0.02466491+0.00019541j]\n",
       " [0.0385732 +0.00050045j]\n",
       " [0.01449037+0.0002308j ]\n",
       " [0.02717353+0.00031245j]\n",
       " [0.02015736+0.00023387j]\n",
       " [0.06925837+0.00055064j]\n",
       " [0.02474734+0.00022981j]\n",
       " [0.02885222+0.0002759j ]\n",
       " [0.01975752+0.00018215j]\n",
       " [0.05258418+0.00051206j]\n",
       " [0.01962377+0.00023318j]\n",
       " [0.03482114+0.00030529j]\n",
       " [0.02480301+0.00022152j]\n",
       " [0.2119054 +0.00094699j]\n",
       " [0.12030411+0.00057399j]\n",
       " [0.067068  +0.00058768j]\n",
       " [0.07523556+0.00057129j]\n",
       " [0.06018459+0.00091975j]\n",
       " [0.03961836+0.00064892j]\n",
       " [0.04043178+0.0008063j ]\n",
       " [0.05110744+0.00085022j]\n",
       " [0.0578227 +0.00055857j]\n",
       " [0.03590103+0.00035512j]\n",
       " [0.0202613 +0.00033929j]\n",
       " [0.02694909+0.00034842j]\n",
       " [0.03816622+0.00058058j]\n",
       " [0.02576202+0.00041235j]\n",
       " [0.02888971+0.00051783j]\n",
       " [0.03838914+0.00055084j]\n",
       " [0.06655828+0.00060872j]\n",
       " [0.03920269+0.00032697j]\n",
       " [0.02232871+0.00028854j]\n",
       " [0.02603092+0.00026371j]\n",
       " [0.0203995 +0.00044405j]\n",
       " [0.01568756+0.00028757j]\n",
       " [0.01472372+0.00032199j]\n",
       " [0.02072998+0.00033037j]\n",
       " [0.0391386 +0.00048457j]\n",
       " [0.02687557+0.00027427j]\n",
       " [0.01556341+0.00024437j]\n",
       " [0.02182392+0.00023234j]\n",
       " [0.02671088+0.00041764j]\n",
       " [0.01964407+0.00026376j]\n",
       " [0.01878019+0.00027924j]\n",
       " [0.02739772+0.00028085j]\n",
       " [0.11200477+0.00036754j]\n",
       " [0.07822582+0.00026914j]\n",
       " [0.03907411+0.0002437j ]\n",
       " [0.05105451+0.00026883j]\n",
       " [0.03614674+0.00036918j]\n",
       " [0.02638981+0.00030203j]\n",
       " [0.02593068+0.00034211j]\n",
       " [0.03335455+0.00039471j]\n",
       " [0.04027667+0.00029318j]\n",
       " [0.02812069+0.00021736j]\n",
       " [0.0154146 +0.00019023j]\n",
       " [0.01971998+0.00020783j]\n",
       " [0.02670119+0.0003096j ]\n",
       " [0.01993729+0.00024978j]\n",
       " [0.02067004+0.0002609j ]\n",
       " [0.02542671+0.00029086j]\n",
       " [0.08114065+0.00037413j]\n",
       " [0.05295518+0.00023121j]\n",
       " [0.02406901+0.00019373j]\n",
       " [0.03245949+0.00019603j]\n",
       " [0.0272428 +0.00032458j]\n",
       " [0.01863118+0.00022027j]\n",
       " [0.01772584+0.00021747j]\n",
       " [0.0236735 +0.00023081j]\n",
       " [0.04844854+0.0003525j ]\n",
       " [0.03053166+0.00021323j]\n",
       " [0.01870621+0.00019276j]\n",
       " [0.02404157+0.00018909j]\n",
       " [0.03694971+0.00035055j]\n",
       " [0.02326932+0.00022552j]\n",
       " [0.02449248+0.00022805j]\n",
       " [0.0294318 +0.00022742j]]"
      ]
     },
     "execution_count": 257,
     "metadata": {},
     "output_type": "execute_result"
    }
   ],
   "source": [
    "pred = gs_approximator(input)\n",
    "pred_gs = (pred[:, 0] + 1.j * pred[:, 1])\n",
    "mag = sum(abs(n) ** 2 for n in pred_gs)\n",
    "pred_gs = qt.Qobj(pred_gs.data / math.sqrt(mag))\n",
    "pred_gs"
   ]
  },
  {
   "cell_type": "code",
   "execution_count": 258,
   "metadata": {},
   "outputs": [
    {
     "data": {
      "text/latex": [
       "Quantum object: dims=[[2, 2, 2, 2, 2, 2, 2], [1, 1, 1, 1, 1, 1, 1]], shape=(128, 1), type='ket', dtype=Dense$$\\left(\\begin{array}{cc}0.486\\\\0.138\\\\0.138\\\\0.085\\\\0.138\\\\\\vdots\\\\0.138\\\\0.085\\\\0.138\\\\0.138\\\\0.486\\end{array}\\right)$$"
      ],
      "text/plain": [
       "Quantum object: dims=[[2, 2, 2, 2, 2, 2, 2], [1, 1, 1, 1, 1, 1, 1]], shape=(128, 1), type='ket', dtype=Dense\n",
       "Qobj data =\n",
       "[[0.48560198]\n",
       " [0.1379053 ]\n",
       " [0.1379053 ]\n",
       " [0.08462187]\n",
       " [0.1379053 ]\n",
       " [0.0441179 ]\n",
       " [0.08462187]\n",
       " [0.06937171]\n",
       " [0.1379053 ]\n",
       " [0.04134209]\n",
       " [0.0441179 ]\n",
       " [0.03164354]\n",
       " [0.08462187]\n",
       " [0.03164354]\n",
       " [0.06937171]\n",
       " [0.06937171]\n",
       " [0.1379053 ]\n",
       " [0.04134209]\n",
       " [0.04134209]\n",
       " [0.02886774]\n",
       " [0.0441179 ]\n",
       " [0.01608828]\n",
       " [0.03164354]\n",
       " [0.03164354]\n",
       " [0.08462187]\n",
       " [0.02886774]\n",
       " [0.03164354]\n",
       " [0.02886774]\n",
       " [0.06937171]\n",
       " [0.03164354]\n",
       " [0.06937171]\n",
       " [0.08462187]\n",
       " [0.1379053 ]\n",
       " [0.0441179 ]\n",
       " [0.04134209]\n",
       " [0.03164354]\n",
       " [0.04134209]\n",
       " [0.01608828]\n",
       " [0.02886774]\n",
       " [0.03164354]\n",
       " [0.0441179 ]\n",
       " [0.01608828]\n",
       " [0.01608828]\n",
       " [0.01608828]\n",
       " [0.03164354]\n",
       " [0.01608828]\n",
       " [0.03164354]\n",
       " [0.0441179 ]\n",
       " [0.08462187]\n",
       " [0.03164354]\n",
       " [0.02886774]\n",
       " [0.02886774]\n",
       " [0.03164354]\n",
       " [0.01608828]\n",
       " [0.02886774]\n",
       " [0.04134209]\n",
       " [0.06937171]\n",
       " [0.03164354]\n",
       " [0.03164354]\n",
       " [0.04134209]\n",
       " [0.06937171]\n",
       " [0.0441179 ]\n",
       " [0.08462187]\n",
       " [0.1379053 ]\n",
       " [0.1379053 ]\n",
       " [0.08462187]\n",
       " [0.0441179 ]\n",
       " [0.06937171]\n",
       " [0.04134209]\n",
       " [0.03164354]\n",
       " [0.03164354]\n",
       " [0.06937171]\n",
       " [0.04134209]\n",
       " [0.02886774]\n",
       " [0.01608828]\n",
       " [0.03164354]\n",
       " [0.02886774]\n",
       " [0.02886774]\n",
       " [0.03164354]\n",
       " [0.08462187]\n",
       " [0.0441179 ]\n",
       " [0.03164354]\n",
       " [0.01608828]\n",
       " [0.03164354]\n",
       " [0.01608828]\n",
       " [0.01608828]\n",
       " [0.01608828]\n",
       " [0.0441179 ]\n",
       " [0.03164354]\n",
       " [0.02886774]\n",
       " [0.01608828]\n",
       " [0.04134209]\n",
       " [0.03164354]\n",
       " [0.04134209]\n",
       " [0.0441179 ]\n",
       " [0.1379053 ]\n",
       " [0.08462187]\n",
       " [0.06937171]\n",
       " [0.03164354]\n",
       " [0.06937171]\n",
       " [0.02886774]\n",
       " [0.03164354]\n",
       " [0.02886774]\n",
       " [0.08462187]\n",
       " [0.03164354]\n",
       " [0.03164354]\n",
       " [0.01608828]\n",
       " [0.0441179 ]\n",
       " [0.02886774]\n",
       " [0.04134209]\n",
       " [0.04134209]\n",
       " [0.1379053 ]\n",
       " [0.06937171]\n",
       " [0.06937171]\n",
       " [0.03164354]\n",
       " [0.08462187]\n",
       " [0.03164354]\n",
       " [0.0441179 ]\n",
       " [0.04134209]\n",
       " [0.1379053 ]\n",
       " [0.06937171]\n",
       " [0.08462187]\n",
       " [0.0441179 ]\n",
       " [0.1379053 ]\n",
       " [0.08462187]\n",
       " [0.1379053 ]\n",
       " [0.1379053 ]\n",
       " [0.48560198]]"
      ]
     },
     "execution_count": 258,
     "metadata": {},
     "output_type": "execute_result"
    }
   ],
   "source": [
    "true_gs = h.eigenstates()[1][0]\n",
    "true_gs"
   ]
  },
  {
   "cell_type": "code",
   "execution_count": 259,
   "metadata": {},
   "outputs": [
    {
     "data": {
      "text/plain": [
       "np.float64(0.7993225437862304)"
      ]
     },
     "execution_count": 259,
     "metadata": {},
     "output_type": "execute_result"
    }
   ],
   "source": [
    "qt.fidelity(pred_gs, true_gs)"
   ]
  },
  {
   "cell_type": "code",
   "execution_count": null,
   "metadata": {},
   "outputs": [],
   "source": []
  },
  {
   "cell_type": "code",
   "execution_count": null,
   "metadata": {},
   "outputs": [],
   "source": []
  }
 ],
 "metadata": {
  "kernelspec": {
   "display_name": "kans",
   "language": "python",
   "name": "python3"
  },
  "language_info": {
   "codemirror_mode": {
    "name": "ipython",
    "version": 3
   },
   "file_extension": ".py",
   "mimetype": "text/x-python",
   "name": "python",
   "nbconvert_exporter": "python",
   "pygments_lexer": "ipython3",
   "version": "3.12.5"
  }
 },
 "nbformat": 4,
 "nbformat_minor": 2
}
