import qutip as qt
import numpy as np
import math
import torch

def test_function(x):
    return x + 1