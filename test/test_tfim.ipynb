{
 "cells": [
  {
   "cell_type": "code",
   "execution_count": 7,
   "id": "2aa6bd3d",
   "metadata": {},
   "outputs": [],
   "source": [
    "from libraries import tfim_functions\n",
    "from libraries import utils\n",
    "from libraries import lib"
   ]
  },
  {
   "cell_type": "code",
   "execution_count": 3,
   "id": "3827d825",
   "metadata": {},
   "outputs": [],
   "source": [
    "h = tfim_functions.TFIM_hamiltonian(2, 1, 0.1)"
   ]
  },
  {
   "cell_type": "code",
   "execution_count": 6,
   "id": "83c82af4",
   "metadata": {},
   "outputs": [
    {
     "data": {
      "text/latex": [
       "Quantum object: dims=[[2, 2], [1, 1]], shape=(4, 1), type='ket', dtype=Dense$$\\left(\\begin{array}{cc}0.706\\\\0.035\\\\0.035\\\\0.706\\end{array}\\right)$$"
      ],
      "text/plain": [
       "Quantum object: dims=[[2, 2], [1, 1]], shape=(4, 1), type='ket', dtype=Dense\n",
       "Qobj data =\n",
       "[[0.70622893]\n",
       " [0.03522361]\n",
       " [0.03522361]\n",
       " [0.70622893]]"
      ]
     },
     "execution_count": 6,
     "metadata": {},
     "output_type": "execute_result"
    }
   ],
   "source": [
    "gs = h.eigenstates()[1][0]\n",
    "gs"
   ]
  },
  {
   "cell_type": "code",
   "execution_count": 8,
   "id": "0b437c17",
   "metadata": {},
   "outputs": [
    {
     "data": {
      "text/plain": [
       "array([1.99503719])"
      ]
     },
     "execution_count": 8,
     "metadata": {},
     "output_type": "execute_result"
    }
   ],
   "source": [
    "lib.z_magnetization(2, gs, signed = False)"
   ]
  },
  {
   "cell_type": "code",
   "execution_count": 9,
   "id": "e21a6e59",
   "metadata": {},
   "outputs": [
    {
     "data": {
      "text/plain": [
       "array([1.22124533e-15])"
      ]
     },
     "execution_count": 9,
     "metadata": {},
     "output_type": "execute_result"
    }
   ],
   "source": [
    "lib.z_magnetization(2, gs, signed = True)"
   ]
  },
  {
   "cell_type": "code",
   "execution_count": null,
   "id": "c93da6a4",
   "metadata": {},
   "outputs": [],
   "source": []
  }
 ],
 "metadata": {
  "kernelspec": {
   "display_name": "kans",
   "language": "python",
   "name": "python3"
  },
  "language_info": {
   "codemirror_mode": {
    "name": "ipython",
    "version": 3
   },
   "file_extension": ".py",
   "mimetype": "text/x-python",
   "name": "python",
   "nbconvert_exporter": "python",
   "pygments_lexer": "ipython3",
   "version": "3.12.5"
  }
 },
 "nbformat": 4,
 "nbformat_minor": 5
}
