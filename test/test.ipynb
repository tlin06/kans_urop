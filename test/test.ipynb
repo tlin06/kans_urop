{
 "cells": [
  {
   "cell_type": "code",
   "execution_count": null,
   "metadata": {},
   "outputs": [
    {
     "ename": "ImportError",
     "evalue": "cannot import name 'lib' from 'libraries.lib' (C:\\Users\\taoha\\OneDrive\\Documents\\GitHub\\kans_urop\\libraries\\lib.py)",
     "output_type": "error",
     "traceback": [
      "\u001b[1;31m---------------------------------------------------------------------------\u001b[0m",
      "\u001b[1;31mImportError\u001b[0m                               Traceback (most recent call last)",
      "Cell \u001b[1;32mIn[1], line 1\u001b[0m\n\u001b[1;32m----> 1\u001b[0m \u001b[38;5;28;01mfrom\u001b[39;00m \u001b[38;5;21;01mlibraries\u001b[39;00m\u001b[38;5;21;01m.\u001b[39;00m\u001b[38;5;21;01mlib\u001b[39;00m \u001b[38;5;28;01mimport\u001b[39;00m lib\n\u001b[0;32m      2\u001b[0m \u001b[38;5;28;01mfrom\u001b[39;00m \u001b[38;5;21;01mlibraries\u001b[39;00m\u001b[38;5;21;01m.\u001b[39;00m\u001b[38;5;21;01mNeuralStates\u001b[39;00m \u001b[38;5;28;01mimport\u001b[39;00m NeuralStates\n",
      "\u001b[1;31mImportError\u001b[0m: cannot import name 'lib' from 'libraries.lib' (C:\\Users\\taoha\\OneDrive\\Documents\\GitHub\\kans_urop\\libraries\\lib.py)"
     ]
    }
   ],
   "source": [
    "from libraries.lib import lib\n",
    "from libraries.NeuralStates import NeuralStates"
   ]
  },
  {
   "cell_type": "code",
   "execution_count": 2,
   "metadata": {},
   "outputs": [],
   "source": [
    "from libraries import lib, NeuralStates"
   ]
  },
  {
   "cell_type": "code",
   "execution_count": 11,
   "metadata": {},
   "outputs": [
    {
     "data": {
      "text/plain": [
       "1"
      ]
     },
     "execution_count": 11,
     "metadata": {},
     "output_type": "execute_result"
    }
   ],
   "source": [
    "lib.calc_bitdist(1, 5, 10)"
   ]
  },
  {
   "cell_type": "code",
   "execution_count": 5,
   "metadata": {},
   "outputs": [],
   "source": [
    "from libraries import lib as p"
   ]
  },
  {
   "cell_type": "code",
   "execution_count": 6,
   "metadata": {},
   "outputs": [
    {
     "data": {
      "text/plain": [
       "libraries.NeuralStates.SparseStateVector"
      ]
     },
     "execution_count": 6,
     "metadata": {},
     "output_type": "execute_result"
    }
   ],
   "source": [
    "NeuralStates.SparseStateVector"
   ]
  },
  {
   "cell_type": "code",
   "execution_count": 13,
   "metadata": {},
   "outputs": [],
   "source": [
    "from libraries.NeuralStates import *"
   ]
  },
  {
   "cell_type": "code",
   "execution_count": 15,
   "metadata": {},
   "outputs": [
    {
     "data": {
      "text/plain": [
       "{}"
      ]
     },
     "execution_count": 15,
     "metadata": {},
     "output_type": "execute_result"
    }
   ],
   "source": [
    "x = SparseStateVector()\n",
    "x.values"
   ]
  },
  {
   "cell_type": "code",
   "execution_count": 7,
   "metadata": {},
   "outputs": [],
   "source": [
    "from test import test_functions"
   ]
  },
  {
   "cell_type": "code",
   "execution_count": 8,
   "metadata": {},
   "outputs": [],
   "source": [
    "from test import test_functions2"
   ]
  },
  {
   "cell_type": "code",
   "execution_count": 9,
   "metadata": {},
   "outputs": [
    {
     "data": {
      "text/plain": [
       "2"
      ]
     },
     "execution_count": 9,
     "metadata": {},
     "output_type": "execute_result"
    }
   ],
   "source": [
    "test_functions.test_function(1)"
   ]
  },
  {
   "cell_type": "code",
   "execution_count": 10,
   "metadata": {},
   "outputs": [
    {
     "data": {
      "text/plain": [
       "3"
      ]
     },
     "execution_count": 10,
     "metadata": {},
     "output_type": "execute_result"
    }
   ],
   "source": [
    "test_functions2.test_function2(2)"
   ]
  },
  {
   "cell_type": "code",
   "execution_count": 9,
   "metadata": {},
   "outputs": [
    {
     "data": {
      "text/plain": [
       "1"
      ]
     },
     "execution_count": 9,
     "metadata": {},
     "output_type": "execute_result"
    }
   ],
   "source": [
    "calc_bitdist(1, 5, 3)"
   ]
  },
  {
   "cell_type": "code",
   "execution_count": 12,
   "metadata": {},
   "outputs": [
    {
     "ename": "NameError",
     "evalue": "name 'libraries' is not defined",
     "output_type": "error",
     "traceback": [
      "\u001b[1;31m---------------------------------------------------------------------------\u001b[0m",
      "\u001b[1;31mNameError\u001b[0m                                 Traceback (most recent call last)",
      "Cell \u001b[1;32mIn[12], line 1\u001b[0m\n\u001b[1;32m----> 1\u001b[0m \u001b[43mlibraries\u001b[49m\u001b[38;5;241m.\u001b[39mlib\n",
      "\u001b[1;31mNameError\u001b[0m: name 'libraries' is not defined"
     ]
    }
   ],
   "source": [
    "libraries.lib"
   ]
  },
  {
   "cell_type": "code",
   "execution_count": 11,
   "metadata": {},
   "outputs": [
    {
     "ename": "NameError",
     "evalue": "name 'test' is not defined",
     "output_type": "error",
     "traceback": [
      "\u001b[1;31m---------------------------------------------------------------------------\u001b[0m",
      "\u001b[1;31mNameError\u001b[0m                                 Traceback (most recent call last)",
      "Cell \u001b[1;32mIn[11], line 1\u001b[0m\n\u001b[1;32m----> 1\u001b[0m \u001b[43mtest\u001b[49m\n",
      "\u001b[1;31mNameError\u001b[0m: name 'test' is not defined"
     ]
    }
   ],
   "source": [
    "test"
   ]
  },
  {
   "cell_type": "code",
   "execution_count": 10,
   "metadata": {},
   "outputs": [
    {
     "ename": "NameError",
     "evalue": "name 'libraries' is not defined",
     "output_type": "error",
     "traceback": [
      "\u001b[1;31m---------------------------------------------------------------------------\u001b[0m",
      "\u001b[1;31mNameError\u001b[0m                                 Traceback (most recent call last)",
      "Cell \u001b[1;32mIn[10], line 1\u001b[0m\n\u001b[1;32m----> 1\u001b[0m \u001b[43mlibraries\u001b[49m\u001b[38;5;241m.\u001b[39mlib\u001b[38;5;241m.\u001b[39mTFIM_hamiltonian(\u001b[38;5;241m2\u001b[39m, \u001b[38;5;241m1\u001b[39m, \u001b[38;5;241m1\u001b[39m)\n",
      "\u001b[1;31mNameError\u001b[0m: name 'libraries' is not defined"
     ]
    }
   ],
   "source": [
    "libraries.lib.TFIM_hamiltonian(2, 1, 1)"
   ]
  },
  {
   "cell_type": "code",
   "execution_count": 2,
   "metadata": {},
   "outputs": [],
   "source": [
    "import sys; import os; sys.path.insert(0, os.path.abspath('..'))\n",
    "sys.path.insert(0, os.path.abspath('../..'))\n",
    "# import lib\n",
    "# from NeuralStates import *"
   ]
  },
  {
   "cell_type": "code",
   "execution_count": 12,
   "metadata": {},
   "outputs": [
    {
     "ename": "ModuleNotFoundError",
     "evalue": "No module named 'kans-urop'",
     "output_type": "error",
     "traceback": [
      "\u001b[1;31m---------------------------------------------------------------------------\u001b[0m",
      "\u001b[1;31mModuleNotFoundError\u001b[0m                       Traceback (most recent call last)",
      "Cell \u001b[1;32mIn[12], line 1\u001b[0m\n\u001b[1;32m----> 1\u001b[0m x \u001b[38;5;241m=\u001b[39m \u001b[38;5;28;43m__import__\u001b[39;49m\u001b[43m(\u001b[49m\u001b[38;5;124;43m\"\u001b[39;49m\u001b[38;5;124;43mkans-urop\u001b[39;49m\u001b[38;5;124;43m\"\u001b[39;49m\u001b[43m)\u001b[49m\n",
      "\u001b[1;31mModuleNotFoundError\u001b[0m: No module named 'kans-urop'"
     ]
    }
   ],
   "source": [
    "x = __import__(\"kans-urop\")"
   ]
  },
  {
   "cell_type": "code",
   "execution_count": 13,
   "metadata": {},
   "outputs": [
    {
     "data": {
      "text/plain": [
       "'c:\\\\Users\\\\taoha\\\\OneDrive\\\\Documents\\\\GitHub\\\\kans_urop'"
      ]
     },
     "execution_count": 13,
     "metadata": {},
     "output_type": "execute_result"
    }
   ],
   "source": [
    "os.path.abspath('..')"
   ]
  },
  {
   "cell_type": "code",
   "execution_count": 14,
   "metadata": {},
   "outputs": [
    {
     "data": {
      "text/plain": [
       "['c:\\\\Users\\\\taoha\\\\OneDrive\\\\Documents\\\\GitHub',\n",
       " 'c:\\\\Users\\\\taoha\\\\OneDrive\\\\Documents\\\\GitHub\\\\kans_urop',\n",
       " 'c:\\\\Users\\\\taoha\\\\OneDrive\\\\Documents\\\\GitHub',\n",
       " 'c:\\\\Users\\\\taoha\\\\OneDrive\\\\Documents\\\\GitHub\\\\kans_urop',\n",
       " 'c:\\\\Users\\\\taoha\\\\anaconda3\\\\envs\\\\kans\\\\python312.zip',\n",
       " 'c:\\\\Users\\\\taoha\\\\anaconda3\\\\envs\\\\kans\\\\DLLs',\n",
       " 'c:\\\\Users\\\\taoha\\\\anaconda3\\\\envs\\\\kans\\\\Lib',\n",
       " 'c:\\\\Users\\\\taoha\\\\anaconda3\\\\envs\\\\kans',\n",
       " '',\n",
       " 'c:\\\\Users\\\\taoha\\\\anaconda3\\\\envs\\\\kans\\\\Lib\\\\site-packages',\n",
       " 'c:\\\\Users\\\\taoha\\\\anaconda3\\\\envs\\\\kans\\\\Lib\\\\site-packages\\\\win32',\n",
       " 'c:\\\\Users\\\\taoha\\\\anaconda3\\\\envs\\\\kans\\\\Lib\\\\site-packages\\\\win32\\\\lib',\n",
       " 'c:\\\\Users\\\\taoha\\\\anaconda3\\\\envs\\\\kans\\\\Lib\\\\site-packages\\\\Pythonwin']"
      ]
     },
     "execution_count": 14,
     "metadata": {},
     "output_type": "execute_result"
    }
   ],
   "source": [
    "sys.path"
   ]
  },
  {
   "cell_type": "code",
   "execution_count": 15,
   "metadata": {},
   "outputs": [
    {
     "ename": "NameError",
     "evalue": "name 'x' is not defined",
     "output_type": "error",
     "traceback": [
      "\u001b[1;31m---------------------------------------------------------------------------\u001b[0m",
      "\u001b[1;31mNameError\u001b[0m                                 Traceback (most recent call last)",
      "Cell \u001b[1;32mIn[15], line 1\u001b[0m\n\u001b[1;32m----> 1\u001b[0m help(\u001b[43mx\u001b[49m)\n",
      "\u001b[1;31mNameError\u001b[0m: name 'x' is not defined"
     ]
    }
   ],
   "source": [
    "help(x)"
   ]
  },
  {
   "cell_type": "code",
   "execution_count": 16,
   "metadata": {},
   "outputs": [],
   "source": [
    "import kans_urop"
   ]
  },
  {
   "cell_type": "code",
   "execution_count": 17,
   "metadata": {},
   "outputs": [
    {
     "name": "stdout",
     "output_type": "stream",
     "text": [
      "Help on package kans_urop:\n",
      "\n",
      "NAME\n",
      "    kans_urop\n",
      "\n",
      "PACKAGE CONTENTS\n",
      "    NeuralStates\n",
      "    lib\n",
      "    test (package)\n",
      "\n",
      "FILE\n",
      "    c:\\users\\taoha\\onedrive\\documents\\github\\kans_urop\\__init__.py\n",
      "\n",
      "\n"
     ]
    }
   ],
   "source": [
    "help(kans_urop)"
   ]
  },
  {
   "cell_type": "code",
   "execution_count": 9,
   "metadata": {},
   "outputs": [],
   "source": [
    "from kans_urop.NeuralStates import *"
   ]
  },
  {
   "cell_type": "code",
   "execution_count": 10,
   "metadata": {},
   "outputs": [
    {
     "data": {
      "text/latex": [
       "Quantum object: dims=[[2], [2]], shape=(2, 2), type='oper', dtype=CSR, isherm=True$$\\left(\\begin{array}{cc}-1 & -1\\\\-1 & -1\\end{array}\\right)$$"
      ],
      "text/plain": [
       "Quantum object: dims=[[2], [2]], shape=(2, 2), type='oper', dtype=CSR, isherm=True\n",
       "Qobj data =\n",
       "[[-1. -1.]\n",
       " [-1. -1.]]"
      ]
     },
     "execution_count": 10,
     "metadata": {},
     "output_type": "execute_result"
    }
   ],
   "source": [
    "lib.TFIM_hamiltonian(1, 1, 1)"
   ]
  },
  {
   "cell_type": "code",
   "execution_count": 11,
   "metadata": {},
   "outputs": [
    {
     "data": {
      "text/plain": [
       "{}"
      ]
     },
     "execution_count": 11,
     "metadata": {},
     "output_type": "execute_result"
    }
   ],
   "source": [
    "SparseStateVector().values"
   ]
  },
  {
   "cell_type": "code",
   "execution_count": 12,
   "metadata": {},
   "outputs": [
    {
     "name": "stdout",
     "output_type": "stream",
     "text": [
      "<module 'lib' from 'c:\\\\Users\\\\taoha\\\\OneDrive\\\\Documents\\\\GitHub\\\\kans_urop\\\\lib.py'>\n"
     ]
    }
   ],
   "source": [
    "print(lib)"
   ]
  },
  {
   "cell_type": "code",
   "execution_count": 13,
   "metadata": {},
   "outputs": [
    {
     "name": "stdout",
     "output_type": "stream",
     "text": [
      "<class 'module'>\n"
     ]
    }
   ],
   "source": [
    "print(type(lib))"
   ]
  },
  {
   "cell_type": "code",
   "execution_count": 14,
   "metadata": {},
   "outputs": [
    {
     "name": "stdout",
     "output_type": "stream",
     "text": [
      "Help on module lib:\n",
      "\n",
      "NAME\n",
      "    lib\n",
      "\n",
      "FUNCTIONS\n",
      "    TFIM_expectation_from_array(psi, N, J, Gamma)\n",
      "        Calculates <psi|H|psi>/<psi|psi>\n",
      "\n",
      "    TFIM_expectation_from_torch(nn_output, vars, output_to_psi)\n",
      "        Args:\n",
      "            nn_output: torch.tensor of shape (2^N, N) output from torch model\n",
      "            vars: tuple of (N, J, Gamma)\n",
      "            output_to_psi: function converting nn_output to 2^N size\n",
      "            statevector\n",
      "\n",
      "    TFIM_expectation_using_locals(sampled_vector, N, J, Gamma, model, output_to_psi)\n",
      "\n",
      "    TFIM_hamiltonian(N, J, gamma)\n",
      "        Generates sparse Qobj for TFIM system with ring shape\n",
      "\n",
      "    TFIM_multiply(psi, phi, N, J, Gamma)\n",
      "        Outputs H|psi> into vector phi\n",
      "\n",
      "        Args:\n",
      "            psi: 1D array representing statevector\n",
      "            phi: 1D array to output results to\n",
      "            N, J, Gamma: parameters in Hamiltonian\n",
      "\n",
      "    calc_H_elem(N, J, Gamma, i, j)\n",
      "        Calculates <i|H|j>\n",
      "\n",
      "    calc_bitdist(a, b, N)\n",
      "\n",
      "    compute_NN_manual(weights, layers, N, J, Gamma)\n",
      "        Computes TFIM expectation from neural network.\n",
      "        Assumes neural network uses sigmoid at every layer and\n",
      "        outputs two nodes Re[psi[i]] and Im[psi[i]]\n",
      "\n",
      "        Args:\n",
      "            weights: flattened 1D array of all weights and biases ordered\n",
      "            layers: structure of neural network\n",
      "            N, J, Gamma: Hamiltonian parameters\n",
      "\n",
      "        Returns:\n",
      "            Expectation value from forward pass\n",
      "\n",
      "    count_magnetization(state)\n",
      "        Counts number of 1s in binary representation of some integer\n",
      "        With integer encoding of state such that 1 in binary representation\n",
      "        is spin down and 0 is spin up. Returns number of spin downs.\n",
      "\n",
      "    generate_adjacencies(state, N)\n",
      "\n",
      "    generate_input_torch(N)\n",
      "        Generates (2^N, N) shape tensor to feed into torch network\n",
      "\n",
      "    generate_state_1D(state_num, N)\n",
      "        Returns binary representation of integer state as 1D vector\n",
      "\n",
      "    generate_state_array(state_num, N)\n",
      "        Returns binary representation of integer state as 1D list\n",
      "\n",
      "    generate_state_vector(state_num, N)\n",
      "        Returns binary representation of integer state as column vector\n",
      "\n",
      "    model_to_ground_state(model, input, output_to_psi)\n",
      "        Args:\n",
      "            model: trained torch model\n",
      "            input: tensor of all binary states of size (2^N, N) in order\n",
      "            output_to_psi: function that takes a (2^N, 2) tensor output\n",
      "            from a torch network and returns a 2^N size tensor\n",
      "\n",
      "        Returns:\n",
      "            Returns normalized Qobj state derived from model\n",
      "\n",
      "    number_weights(layers)\n",
      "        Calculates number of weights + biases necessary given layer counts\n",
      "        of neural network\n",
      "\n",
      "    sigmoid(x)\n",
      "        Returns cut-off sigmoid of np.array x\n",
      "\n",
      "    train_model_to_gs(model, generate_y_pred, loss_fn, num_epochs, data_rate=50)\n",
      "        Trains model to find the ground state\n",
      "\n",
      "        Args:\n",
      "            model: torch model to be trained\n",
      "            generate_y_pred (func): that takes in model and outputs psi\n",
      "            loss_fn (func): takes in psi and outputs loss\n",
      "            num_epochs (int): steps to train for\n",
      "            data_rate (int): collects loss data every data_rate epochs\n",
      "\n",
      "        Returns:\n",
      "            tuple of epochs at which loss was collected and loss at those epochs\n",
      "\n",
      "    weights_to_ground_state(res, N, layers)\n",
      "        Takes results from optimized neural network weights\n",
      "        and runs forward pass to generate final ground state\n",
      "\n",
      "        Args:\n",
      "            res: results from scipy.optimize.minimize (preferred method = 'Powell')\n",
      "            N: number of qubits\n",
      "            layers: layer counts for neural network\n",
      "\n",
      "        Returns:\n",
      "            (2^N, 1) np.array as final ground state vector\n",
      "\n",
      "    x_magnetization(N, psi, signed=True)\n",
      "        Calculates the amount of spin in the x direction in a z-basis\n",
      "        statevector.\n",
      "\n",
      "    z_magnetization(N, psi, signed=True)\n",
      "        Calculates the amount of spin in a z-basis statevector\n",
      "        Signed is up spins minus down spins\n",
      "        Unsigned is absolute value of up spins minus down spins for every state\n",
      "\n",
      "        We could've also replaced this with expectation value of\n",
      "        sigmaz_i summed over all indexes for signed, and\n",
      "        |0><0|_i summed over all indexes for unsigned\n",
      "\n",
      "    z_to_x(N, psi)\n",
      "        Converts Qobj from z basis to x basis\n",
      "\n",
      "        Args:\n",
      "            N (int): number of qubits\n",
      "            psi (Qobj): quantum state\n",
      "\n",
      "FILE\n",
      "    c:\\users\\taoha\\onedrive\\documents\\github\\kans_urop\\lib.py\n",
      "\n",
      "\n"
     ]
    }
   ],
   "source": [
    "help(lib)"
   ]
  },
  {
   "cell_type": "code",
   "execution_count": 18,
   "metadata": {},
   "outputs": [],
   "source": [
    "import kans_urop.test"
   ]
  },
  {
   "cell_type": "code",
   "execution_count": 20,
   "metadata": {},
   "outputs": [
    {
     "ename": "AttributeError",
     "evalue": "module 'kans_urop.test' has no attribute 'test_function'",
     "output_type": "error",
     "traceback": [
      "\u001b[1;31m---------------------------------------------------------------------------\u001b[0m",
      "\u001b[1;31mAttributeError\u001b[0m                            Traceback (most recent call last)",
      "Cell \u001b[1;32mIn[20], line 1\u001b[0m\n\u001b[1;32m----> 1\u001b[0m \u001b[43mkans_urop\u001b[49m\u001b[38;5;241;43m.\u001b[39;49m\u001b[43mtest\u001b[49m\u001b[38;5;241;43m.\u001b[39;49m\u001b[43mtest_function\u001b[49m(\u001b[38;5;241m1\u001b[39m)\n",
      "\u001b[1;31mAttributeError\u001b[0m: module 'kans_urop.test' has no attribute 'test_function'"
     ]
    }
   ],
   "source": [
    "kans_urop.test.test_function(1)"
   ]
  },
  {
   "cell_type": "code",
   "execution_count": null,
   "metadata": {},
   "outputs": [],
   "source": [
    "from kans_urop import *"
   ]
  },
  {
   "cell_type": "code",
   "execution_count": 4,
   "metadata": {},
   "outputs": [
    {
     "ename": "NameError",
     "evalue": "name 'lib' is not defined",
     "output_type": "error",
     "traceback": [
      "\u001b[1;31m---------------------------------------------------------------------------\u001b[0m",
      "\u001b[1;31mNameError\u001b[0m                                 Traceback (most recent call last)",
      "Cell \u001b[1;32mIn[4], line 1\u001b[0m\n\u001b[1;32m----> 1\u001b[0m \u001b[43mlib\u001b[49m\u001b[38;5;241m.\u001b[39mTFIM_hamiltonian(\u001b[38;5;241m2\u001b[39m, \u001b[38;5;241m1\u001b[39m, \u001b[38;5;241m1\u001b[39m)\n",
      "\u001b[1;31mNameError\u001b[0m: name 'lib' is not defined"
     ]
    }
   ],
   "source": [
    "lib.TFIM_hamiltonian(2, 1, 1)"
   ]
  },
  {
   "cell_type": "code",
   "execution_count": 6,
   "metadata": {},
   "outputs": [
    {
     "ename": "NameError",
     "evalue": "name 'test' is not defined",
     "output_type": "error",
     "traceback": [
      "\u001b[1;31m---------------------------------------------------------------------------\u001b[0m",
      "\u001b[1;31mNameError\u001b[0m                                 Traceback (most recent call last)",
      "Cell \u001b[1;32mIn[6], line 1\u001b[0m\n\u001b[1;32m----> 1\u001b[0m \u001b[43mtest\u001b[49m\u001b[38;5;241m.\u001b[39mtest_functions\n",
      "\u001b[1;31mNameError\u001b[0m: name 'test' is not defined"
     ]
    }
   ],
   "source": [
    "test.test_functions"
   ]
  },
  {
   "cell_type": "code",
   "execution_count": 3,
   "metadata": {},
   "outputs": [],
   "source": [
    "import kans_urop"
   ]
  },
  {
   "cell_type": "code",
   "execution_count": 4,
   "metadata": {},
   "outputs": [
    {
     "name": "stdout",
     "output_type": "stream",
     "text": [
      "Help on package kans_urop:\n",
      "\n",
      "NAME\n",
      "    kans_urop\n",
      "\n",
      "PACKAGE CONTENTS\n",
      "    NeuralStates\n",
      "    lib\n",
      "    test (package)\n",
      "\n",
      "FILE\n",
      "    c:\\users\\taoha\\onedrive\\documents\\github\\kans_urop\\__init__.py\n",
      "\n",
      "\n"
     ]
    }
   ],
   "source": [
    "help(kans_urop)"
   ]
  },
  {
   "cell_type": "code",
   "execution_count": 6,
   "metadata": {},
   "outputs": [
    {
     "ename": "NameError",
     "evalue": "name 'lib' is not defined",
     "output_type": "error",
     "traceback": [
      "\u001b[1;31m---------------------------------------------------------------------------\u001b[0m",
      "\u001b[1;31mNameError\u001b[0m                                 Traceback (most recent call last)",
      "Cell \u001b[1;32mIn[6], line 1\u001b[0m\n\u001b[1;32m----> 1\u001b[0m \u001b[43mlib\u001b[49m\u001b[38;5;241m.\u001b[39mTFIM_hamoltonian(\u001b[38;5;241m2\u001b[39m, \u001b[38;5;241m1\u001b[39m, \u001b[38;5;241m1\u001b[39m)\n",
      "\u001b[1;31mNameError\u001b[0m: name 'lib' is not defined"
     ]
    }
   ],
   "source": [
    "lib.TFIM_hamoltonian(2, 1, 1)"
   ]
  },
  {
   "cell_type": "code",
   "execution_count": 8,
   "metadata": {},
   "outputs": [],
   "source": [
    "import kans_urop.lib"
   ]
  },
  {
   "cell_type": "code",
   "execution_count": 10,
   "metadata": {},
   "outputs": [
    {
     "data": {
      "text/latex": [
       "Quantum object: dims=[[2, 2], [2, 2]], shape=(4, 4), type='oper', dtype=CSR, isherm=True$$\\left(\\begin{array}{cc}-2 & -1 & -1 & 0\\\\-1 & 2 & 0 & -1\\\\-1 & 0 & 2 & -1\\\\0 & -1 & -1 & -2\\end{array}\\right)$$"
      ],
      "text/plain": [
       "Quantum object: dims=[[2, 2], [2, 2]], shape=(4, 4), type='oper', dtype=CSR, isherm=True\n",
       "Qobj data =\n",
       "[[-2. -1. -1.  0.]\n",
       " [-1.  2.  0. -1.]\n",
       " [-1.  0.  2. -1.]\n",
       " [ 0. -1. -1. -2.]]"
      ]
     },
     "execution_count": 10,
     "metadata": {},
     "output_type": "execute_result"
    }
   ],
   "source": [
    "kans_urop.lib.TFIM_hamiltonian(2, 1, 1)"
   ]
  },
  {
   "cell_type": "code",
   "execution_count": null,
   "metadata": {},
   "outputs": [],
   "source": []
  }
 ],
 "metadata": {
  "kernelspec": {
   "display_name": "kans",
   "language": "python",
   "name": "python3"
  },
  "language_info": {
   "codemirror_mode": {
    "name": "ipython",
    "version": 3
   },
   "file_extension": ".py",
   "mimetype": "text/x-python",
   "name": "python",
   "nbconvert_exporter": "python",
   "pygments_lexer": "ipython3",
   "version": "3.12.5"
  }
 },
 "nbformat": 4,
 "nbformat_minor": 2
}
