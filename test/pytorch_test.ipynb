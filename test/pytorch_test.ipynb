{
 "cells": [
  {
   "cell_type": "code",
   "execution_count": 1,
   "id": "dc2d5c63",
   "metadata": {},
   "outputs": [],
   "source": [
    "import torch\n",
    "import torch.nn as nn\n",
    "import libraries.utils as utils"
   ]
  },
  {
   "cell_type": "code",
   "execution_count": 2,
   "id": "6de573ba",
   "metadata": {},
   "outputs": [
    {
     "data": {
      "text/plain": [
       "tensor([0.5091, 0.1381, 0.3728])"
      ]
     },
     "execution_count": 2,
     "metadata": {},
     "output_type": "execute_result"
    }
   ],
   "source": [
    "x = torch.rand(3)\n",
    "x"
   ]
  },
  {
   "cell_type": "code",
   "execution_count": 3,
   "id": "f13e3a29",
   "metadata": {},
   "outputs": [
    {
     "data": {
      "text/plain": [
       "tensor(0.5091)"
      ]
     },
     "execution_count": 3,
     "metadata": {},
     "output_type": "execute_result"
    }
   ],
   "source": [
    "x[0]"
   ]
  },
  {
   "cell_type": "code",
   "execution_count": 4,
   "id": "d5eb68c3",
   "metadata": {},
   "outputs": [],
   "source": [
    "x[0] = 1"
   ]
  },
  {
   "cell_type": "code",
   "execution_count": 5,
   "id": "7bb45f59",
   "metadata": {},
   "outputs": [
    {
     "data": {
      "text/plain": [
       "tensor([1.0000, 0.1381, 0.3728])"
      ]
     },
     "execution_count": 5,
     "metadata": {},
     "output_type": "execute_result"
    }
   ],
   "source": [
    "x"
   ]
  },
  {
   "cell_type": "code",
   "execution_count": 6,
   "id": "d576f287",
   "metadata": {},
   "outputs": [
    {
     "data": {
      "text/plain": [
       "tensor([[0.4747, 0.3035],\n",
       "        [0.5381, 0.5888]])"
      ]
     },
     "execution_count": 6,
     "metadata": {},
     "output_type": "execute_result"
    }
   ],
   "source": [
    "x = torch.rand((2, 2))\n",
    "x"
   ]
  },
  {
   "cell_type": "code",
   "execution_count": 7,
   "id": "a33f9f4a",
   "metadata": {},
   "outputs": [
    {
     "data": {
      "text/plain": [
       "tensor([[0.0000, 0.0000],\n",
       "        [0.5381, 0.5888]])"
      ]
     },
     "execution_count": 7,
     "metadata": {},
     "output_type": "execute_result"
    }
   ],
   "source": [
    "x[0] = torch.tensor([0, 0])\n",
    "x"
   ]
  },
  {
   "cell_type": "code",
   "execution_count": 8,
   "id": "29f04887",
   "metadata": {},
   "outputs": [
    {
     "data": {
      "text/plain": [
       "[1, 0, 0, 0, 0]"
      ]
     },
     "execution_count": 8,
     "metadata": {},
     "output_type": "execute_result"
    }
   ],
   "source": [
    "utils.generate_state_array(1, 5)"
   ]
  },
  {
   "cell_type": "code",
   "execution_count": 9,
   "id": "6319dcfc",
   "metadata": {},
   "outputs": [],
   "source": [
    "def generate_state_array(state_num, N):\n",
    "    \"\"\"\n",
    "    Vectorized PyTorch version: returns binary representation (LSB first)\n",
    "    \"\"\"\n",
    "    state_num = torch.tensor(state_num, dtype=torch.long)\n",
    "    return ((state_num >> torch.arange(N)) & 1).to(torch.float32)"
   ]
  },
  {
   "cell_type": "code",
   "execution_count": 10,
   "id": "08c585fe",
   "metadata": {},
   "outputs": [
    {
     "data": {
      "text/plain": [
       "tensor([1., 0., 0., 0., 0.])"
      ]
     },
     "execution_count": 10,
     "metadata": {},
     "output_type": "execute_result"
    }
   ],
   "source": [
    "generate_state_array(1, 5)"
   ]
  },
  {
   "cell_type": "code",
   "execution_count": 11,
   "id": "6af2b3c5",
   "metadata": {},
   "outputs": [
    {
     "name": "stdout",
     "output_type": "stream",
     "text": [
      "3.56 μs ± 163 ns per loop (mean ± std. dev. of 7 runs, 100,000 loops each)\n"
     ]
    }
   ],
   "source": [
    "%%timeit\n",
    "torch.tensor([utils.generate_state_array(1, 5)], dtype=torch.float32)"
   ]
  },
  {
   "cell_type": "code",
   "execution_count": 12,
   "id": "015bc0f1",
   "metadata": {},
   "outputs": [
    {
     "name": "stdout",
     "output_type": "stream",
     "text": [
      "13.9 μs ± 322 ns per loop (mean ± std. dev. of 7 runs, 100,000 loops each)\n"
     ]
    }
   ],
   "source": [
    "%%timeit\n",
    "generate_state_array(1, 5).unsqueeze(0)"
   ]
  },
  {
   "cell_type": "code",
   "execution_count": 13,
   "id": "1c7e362e",
   "metadata": {},
   "outputs": [
    {
     "data": {
      "text/plain": [
       "tensor([[1., 0., 0., 0., 0.]])"
      ]
     },
     "execution_count": 13,
     "metadata": {},
     "output_type": "execute_result"
    }
   ],
   "source": [
    "generate_state_array(1, 5).unsqueeze(0)"
   ]
  },
  {
   "cell_type": "code",
   "execution_count": null,
   "id": "3b622810",
   "metadata": {},
   "outputs": [],
   "source": [
    "def generate_input_samples(state_nums, N):\n",
    "    state_nums = torch.tensor(state_nums, dtype=torch.long)  # shape: (B,)\n",
    "    powers = torch.arange(N, dtype=torch.long)               # shape: (N,)\n",
    "    bits = (state_nums.unsqueeze(1) >> powers) & 1           # shape: (B, N)\n",
    "    return bits # bits.to(torch.float32)"
   ]
  },
  {
   "cell_type": "code",
   "execution_count": 15,
   "id": "c2529a6d",
   "metadata": {},
   "outputs": [],
   "source": [
    "N = 10"
   ]
  },
  {
   "cell_type": "code",
   "execution_count": 16,
   "id": "27b36d7f",
   "metadata": {},
   "outputs": [
    {
     "name": "stdout",
     "output_type": "stream",
     "text": [
      "2.05 ms ± 51.7 μs per loop (mean ± std. dev. of 7 runs, 100 loops each)\n"
     ]
    }
   ],
   "source": [
    "%%timeit\n",
    "utils.generate_input_samples(N, [n for n in range(2 ** N)])"
   ]
  },
  {
   "cell_type": "code",
   "execution_count": 17,
   "id": "8e4d0258",
   "metadata": {},
   "outputs": [
    {
     "name": "stdout",
     "output_type": "stream",
     "text": [
      "119 μs ± 2.78 μs per loop (mean ± std. dev. of 7 runs, 10,000 loops each)\n"
     ]
    }
   ],
   "source": [
    "%%timeit\n",
    "generate_input_samples([n for n in range(2 ** N)], N)"
   ]
  },
  {
   "cell_type": "code",
   "execution_count": 20,
   "id": "3340e64e",
   "metadata": {},
   "outputs": [
    {
     "name": "stdout",
     "output_type": "stream",
     "text": [
      "tensor([0, 1, 2, 3, 4, 5, 6, 7])\n",
      "tensor([0, 1, 2])\n",
      "tensor([[0],\n",
      "        [1],\n",
      "        [2],\n",
      "        [3],\n",
      "        [4],\n",
      "        [5],\n",
      "        [6],\n",
      "        [7]])\n",
      "tensor([[0, 0, 0],\n",
      "        [1, 0, 0],\n",
      "        [2, 1, 0],\n",
      "        [3, 1, 0],\n",
      "        [4, 2, 1],\n",
      "        [5, 2, 1],\n",
      "        [6, 3, 1],\n",
      "        [7, 3, 1]])\n",
      "tensor([[0, 0, 0],\n",
      "        [1, 0, 0],\n",
      "        [0, 1, 0],\n",
      "        [1, 1, 0],\n",
      "        [0, 0, 1],\n",
      "        [1, 0, 1],\n",
      "        [0, 1, 1],\n",
      "        [1, 1, 1]])\n",
      "tensor([[0., 0., 0.],\n",
      "        [1., 0., 0.],\n",
      "        [0., 1., 0.],\n",
      "        [1., 1., 0.],\n",
      "        [0., 0., 1.],\n",
      "        [1., 0., 1.],\n",
      "        [0., 1., 1.],\n",
      "        [1., 1., 1.]])\n"
     ]
    }
   ],
   "source": [
    "N = 3\n",
    "state_nums = [n for n in range(2 ** N)]\n",
    "state_nums = torch.tensor(state_nums, dtype=torch.long)  # shape: (B,)\n",
    "powers = torch.arange(N, dtype=torch.long)               # shape: (N,)\n",
    "bits = (state_nums.unsqueeze(1) >> powers) & 1           # shape: (B, N)\n",
    "print(state_nums)\n",
    "print(powers)\n",
    "print(state_nums.unsqueeze(1))\n",
    "print(state_nums.unsqueeze(1) >> powers)\n",
    "print(bits)\n",
    "print(bits.to(torch.float32))"
   ]
  },
  {
   "cell_type": "code",
   "execution_count": 26,
   "id": "49c6526f",
   "metadata": {},
   "outputs": [],
   "source": [
    "def bitflip_batch(xs, N, flips):\n",
    "    \"\"\"\n",
    "    Vectorized random bit flips on a batch of integers.\n",
    "\n",
    "    Args:\n",
    "        xs (Tensor): shape (B,), integers\n",
    "        N (int): number of bits\n",
    "        flips (int): number of random bit flips per element\n",
    "\n",
    "    Returns:\n",
    "        Tensor of shape (B,), integers after bit flips\n",
    "    \"\"\"\n",
    "    B = xs.shape[0]\n",
    "    xs = xs.clone()\n",
    "\n",
    "    # Generate random bit indices for each flip and sample\n",
    "    bit_indices = torch.randint(0, N, size=(B, flips))\n",
    "\n",
    "    # Compute bitmasks: 1 << bit index\n",
    "    bitmasks = (1 << bit_indices)  # shape: (B, flips)\n",
    "\n",
    "    flip_masks = bitmasks[:, 0]\n",
    "    for i in range(1, flips):\n",
    "        flip_masks = flip_masks ^ bitmasks[:, i]\n",
    "\n",
    "    return xs ^ flip_masks\n"
   ]
  },
  {
   "cell_type": "code",
   "execution_count": 28,
   "id": "b4d92872",
   "metadata": {},
   "outputs": [
    {
     "data": {
      "text/plain": [
       "tensor([1, 7, 4])"
      ]
     },
     "execution_count": 28,
     "metadata": {},
     "output_type": "execute_result"
    }
   ],
   "source": [
    "xs = torch.tensor([3, 5, 12])  # e.g., 0b0011, 0b0101, 0b1100\n",
    "N = 4\n",
    "flips = 1\n",
    "bitflip_batch(xs, N, flips)"
   ]
  },
  {
   "cell_type": "code",
   "execution_count": 37,
   "id": "e51f82d5",
   "metadata": {},
   "outputs": [],
   "source": [
    "N = 10"
   ]
  },
  {
   "cell_type": "code",
   "execution_count": 38,
   "id": "2680d431",
   "metadata": {},
   "outputs": [
    {
     "name": "stdout",
     "output_type": "stream",
     "text": [
      "1.6 ms ± 129 μs per loop (mean ± std. dev. of 7 runs, 1,000 loops each)\n"
     ]
    }
   ],
   "source": [
    "%%timeit\n",
    "f = lambda x : utils.bitflip_x(x, N, 1)\n",
    "[f(x) for x in range(2 ** N)]"
   ]
  },
  {
   "cell_type": "code",
   "execution_count": 39,
   "id": "3d9f6939",
   "metadata": {},
   "outputs": [
    {
     "name": "stdout",
     "output_type": "stream",
     "text": [
      "25.1 μs ± 1.72 μs per loop (mean ± std. dev. of 7 runs, 10,000 loops each)\n"
     ]
    }
   ],
   "source": [
    "%%timeit\n",
    "bitflip_batch(torch.arange(0, 2 ** N), N, 1)"
   ]
  },
  {
   "cell_type": "code",
   "execution_count": 44,
   "id": "367cb202",
   "metadata": {},
   "outputs": [
    {
     "name": "stdout",
     "output_type": "stream",
     "text": [
      "32 tensor([ 0,  1,  2,  3,  4,  5,  6,  7,  8,  9, 10, 11, 12, 13, 14, 15, 16, 17,\n",
      "        18, 19, 20, 21, 22, 23, 24, 25, 26, 27, 28, 29, 30, 31])\n",
      "tensor([[1, 2],\n",
      "        [3, 2],\n",
      "        [2, 2],\n",
      "        [0, 2],\n",
      "        [1, 1],\n",
      "        [0, 3],\n",
      "        [0, 0],\n",
      "        [2, 1],\n",
      "        [0, 3],\n",
      "        [4, 0],\n",
      "        [3, 1],\n",
      "        [3, 2],\n",
      "        [4, 1],\n",
      "        [3, 0],\n",
      "        [0, 3],\n",
      "        [2, 1],\n",
      "        [0, 2],\n",
      "        [4, 4],\n",
      "        [0, 2],\n",
      "        [3, 1],\n",
      "        [1, 1],\n",
      "        [3, 4],\n",
      "        [1, 1],\n",
      "        [4, 2],\n",
      "        [3, 1],\n",
      "        [2, 3],\n",
      "        [1, 0],\n",
      "        [4, 4],\n",
      "        [0, 4],\n",
      "        [1, 3],\n",
      "        [3, 2],\n",
      "        [0, 4]])\n",
      "b tensor([[ 2,  4],\n",
      "        [ 8,  4],\n",
      "        [ 4,  4],\n",
      "        [ 1,  4],\n",
      "        [ 2,  2],\n",
      "        [ 1,  8],\n",
      "        [ 1,  1],\n",
      "        [ 4,  2],\n",
      "        [ 1,  8],\n",
      "        [16,  1],\n",
      "        [ 8,  2],\n",
      "        [ 8,  4],\n",
      "        [16,  2],\n",
      "        [ 8,  1],\n",
      "        [ 1,  8],\n",
      "        [ 4,  2],\n",
      "        [ 1,  4],\n",
      "        [16, 16],\n",
      "        [ 1,  4],\n",
      "        [ 8,  2],\n",
      "        [ 2,  2],\n",
      "        [ 8, 16],\n",
      "        [ 2,  2],\n",
      "        [16,  4],\n",
      "        [ 8,  2],\n",
      "        [ 4,  8],\n",
      "        [ 2,  1],\n",
      "        [16, 16],\n",
      "        [ 1, 16],\n",
      "        [ 2,  8],\n",
      "        [ 8,  4],\n",
      "        [ 1, 16]])\n",
      "f1 tensor([ 2,  8,  4,  1,  2,  1,  1,  4,  1, 16,  8,  8, 16,  8,  1,  4,  1, 16,\n",
      "         1,  8,  2,  8,  2, 16,  8,  4,  2, 16,  1,  2,  8,  1])\n",
      "f2 tensor([ 6, 12,  0,  5,  0,  9,  0,  6,  9, 17, 10, 12, 18,  9,  9,  6,  5,  0,\n",
      "         5, 10,  0, 24,  0, 20, 10, 12,  3,  0, 17, 10, 12, 17])\n",
      "tensor([ 6, 13,  2,  6,  4, 12,  6,  1,  1, 24,  0,  7, 30,  4,  7,  9, 21, 17,\n",
      "        23, 25, 20, 13, 22,  3, 18, 21, 25, 27, 13, 23, 18, 14])\n"
     ]
    }
   ],
   "source": [
    "N = 5\n",
    "xs = torch.arange(0, 2 ** N)\n",
    "flips = 2\n",
    "B = xs.shape[0]\n",
    "xs = xs.clone()\n",
    "print(B, xs) \n",
    "\n",
    "# Generate random bit indices for each flip and sample\n",
    "bit_indices = torch.randint(0, N, size=(B, flips))\n",
    "print(bit_indices)\n",
    "\n",
    "# Compute bitmasks: 1 << bit index\n",
    "bitmasks = (1 << bit_indices)  # shape: (B, flips)\n",
    "print('b', bitmasks)\n",
    "\n",
    "flip_masks = bitmasks[:, 0]\n",
    "print('f1', flip_masks)\n",
    "for i in range(1, flips):\n",
    "    flip_masks = flip_masks ^ bitmasks[:, i]\n",
    "print('f2', flip_masks)\n",
    "\n",
    "res = xs ^ flip_masks\n",
    "print(res)"
   ]
  },
  {
   "cell_type": "code",
   "execution_count": null,
   "id": "cd48c568",
   "metadata": {},
   "outputs": [],
   "source": []
  }
 ],
 "metadata": {
  "kernelspec": {
   "display_name": "kans",
   "language": "python",
   "name": "python3"
  },
  "language_info": {
   "codemirror_mode": {
    "name": "ipython",
    "version": 3
   },
   "file_extension": ".py",
   "mimetype": "text/x-python",
   "name": "python",
   "nbconvert_exporter": "python",
   "pygments_lexer": "ipython3",
   "version": "3.12.5"
  }
 },
 "nbformat": 4,
 "nbformat_minor": 5
}
