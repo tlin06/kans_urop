{
 "cells": [
  {
   "cell_type": "code",
   "execution_count": 12,
   "metadata": {},
   "outputs": [],
   "source": [
    "import sys; import os; sys.path.insert(-1, os.path.abspath('../..'))\n",
    "import sys; import os; sys.path.insert(0, os.path.abspath('..'))\n",
    "from lib import *\n",
    "from libraries.NeuralStates import *"
   ]
  },
  {
   "cell_type": "code",
   "execution_count": 13,
   "metadata": {},
   "outputs": [
    {
     "ename": "AttributeError",
     "evalue": "module 'lib' has no attribute 'TFIM_hamiltonian'",
     "output_type": "error",
     "traceback": [
      "\u001b[1;31m---------------------------------------------------------------------------\u001b[0m",
      "\u001b[1;31mAttributeError\u001b[0m                            Traceback (most recent call last)",
      "Cell \u001b[1;32mIn[13], line 1\u001b[0m\n\u001b[1;32m----> 1\u001b[0m \u001b[43mlib\u001b[49m\u001b[38;5;241;43m.\u001b[39;49m\u001b[43mTFIM_hamiltonian\u001b[49m(\u001b[38;5;241m2\u001b[39m, \u001b[38;5;241m1\u001b[39m, \u001b[38;5;241m1\u001b[39m)\n",
      "\u001b[1;31mAttributeError\u001b[0m: module 'lib' has no attribute 'TFIM_hamiltonian'"
     ]
    }
   ],
   "source": [
    "lib.TFIM_hamiltonian(2, 1, 1)"
   ]
  },
  {
   "cell_type": "code",
   "execution_count": 7,
   "metadata": {},
   "outputs": [
    {
     "name": "stdout",
     "output_type": "stream",
     "text": [
      "Help on package lib:\n",
      "\n",
      "NAME\n",
      "    lib\n",
      "\n",
      "PACKAGE CONTENTS\n",
      "    afxres\n",
      "    commctrl\n",
      "    dbi\n",
      "    mmsystem\n",
      "    netbios\n",
      "    ntsecuritycon\n",
      "    pywin32_bootstrap\n",
      "    pywin32_testutil\n",
      "    pywintypes\n",
      "    rasutil\n",
      "    regcheck\n",
      "    regutil\n",
      "    sspi\n",
      "    sspicon\n",
      "    win2kras\n",
      "    win32con\n",
      "    win32cryptcon\n",
      "    win32evtlogutil\n",
      "    win32gui_struct\n",
      "    win32inetcon\n",
      "    win32netcon\n",
      "    win32pdhquery\n",
      "    win32pdhutil\n",
      "    win32rcparser\n",
      "    win32serviceutil\n",
      "    win32timezone\n",
      "    win32traceutil\n",
      "    win32verstamp\n",
      "    winerror\n",
      "    winioctlcon\n",
      "    winnt\n",
      "    winperf\n",
      "    winxptheme\n",
      "\n",
      "FILE\n",
      "    (built-in)\n",
      "\n",
      "\n"
     ]
    }
   ],
   "source": [
    "help(lib)"
   ]
  },
  {
   "cell_type": "code",
   "execution_count": 5,
   "metadata": {},
   "outputs": [
    {
     "name": "stdout",
     "output_type": "stream",
     "text": [
      "Help on class SparseStateVector in module NeuralStates:\n",
      "\n",
      "class SparseStateVector(builtins.object)\n",
      " |  Container class for dictionary (self.values) with keys of integer states\n",
      " |  and values being complex amplitude of psi\n",
      " |\n",
      " |  Methods defined here:\n",
      " |\n",
      " |  TFIM_expectation_from_sparse(psi, N, J, Gamma)\n",
      " |      Returns <psi|H|psi>/<psi|psi> for SparseStateVector psi\n",
      " |\n",
      " |  TFIM_multiply(psi, N, J, Gamma)\n",
      " |      Returns new sparse vector representing H|psi>\n",
      " |\n",
      " |  __init__(self)\n",
      " |      Initialize self.  See help(type(self)) for accurate signature.\n",
      " |\n",
      " |  inner_product(v1, v2)\n",
      " |      Returns <v1|v2> for two SparseStateVectors\n",
      " |\n",
      " |  normalize(self)\n",
      " |      Normalizes values\n",
      " |\n",
      " |  to_dense_vector(self, N)\n",
      " |      Returns 1D list of dense representation\n",
      " |\n",
      " |  to_prob_distribution(self, N)\n",
      " |      Returns 1D list representing real probability distribution\n",
      " |\n",
      " |  ----------------------------------------------------------------------\n",
      " |  Data descriptors defined here:\n",
      " |\n",
      " |  __dict__\n",
      " |      dictionary for instance variables\n",
      " |\n",
      " |  __weakref__\n",
      " |      list of weak references to the object\n",
      "\n"
     ]
    }
   ],
   "source": [
    "help(SparseStateVector)"
   ]
  },
  {
   "cell_type": "code",
   "execution_count": null,
   "metadata": {},
   "outputs": [],
   "source": []
  }
 ],
 "metadata": {
  "kernelspec": {
   "display_name": "kans",
   "language": "python",
   "name": "python3"
  },
  "language_info": {
   "codemirror_mode": {
    "name": "ipython",
    "version": 3
   },
   "file_extension": ".py",
   "mimetype": "text/x-python",
   "name": "python",
   "nbconvert_exporter": "python",
   "pygments_lexer": "ipython3",
   "version": "3.12.5"
  }
 },
 "nbformat": 4,
 "nbformat_minor": 2
}
