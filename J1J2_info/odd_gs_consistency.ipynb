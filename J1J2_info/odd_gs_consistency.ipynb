{
 "cells": [
  {
   "cell_type": "code",
   "execution_count": null,
   "id": "6627a6f4",
   "metadata": {},
   "outputs": [],
   "source": [
    "import kan\n",
    "import torch\n",
    "import torch.nn as nn\n",
    "import numpy as np\n",
    "from libraries import utils\n",
    "from libraries import magnetization\n",
    "import numpy.random as npr\n",
    "import qutip as qt"
   ]
  }
 ],
 "metadata": {
  "language_info": {
   "name": "python"
  }
 },
 "nbformat": 4,
 "nbformat_minor": 5
}
