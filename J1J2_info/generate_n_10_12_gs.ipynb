{
 "cells": [
  {
   "cell_type": "code",
   "execution_count": 1,
   "id": "fce9e4e4",
   "metadata": {},
   "outputs": [],
   "source": [
    "import kan\n",
    "import kan.utils as ku\n",
    "import torch\n",
    "import torch.nn as nn\n",
    "import numpy as np\n",
    "from libraries import utils\n",
    "from libraries import magnetization\n",
    "from libraries import j1j2_functions\n",
    "import numpy.random as npr\n",
    "import qutip as qt\n",
    "import sympy\n",
    "import random\n",
    "import pandas as pd"
   ]
  },
  {
   "cell_type": "code",
   "execution_count": 2,
   "id": "34c0e682",
   "metadata": {},
   "outputs": [],
   "source": [
    "N=12\n",
    "J1=1\n",
    "gses = []\n",
    "J2s=[0, 0.1, 0.2, 0.3, 0.4, 0.495]\n",
    "for J2 in J2s:\n",
    "    h = j1j2_functions.J1J2_hamiltonian(N, J1, J2)\n",
    "    eigs = h.eigenstates()\n",
    "    gs = eigs[1][0]\n",
    "    gse = eigs[0][0]\n",
    "    gses.append(gse)\n",
    "    qt.qsave(gs, f'N12/n12gs_J2_{J2}')\n",
    "df = pd.DataFrame({'J2':J2s, 'GSE':gses})\n",
    "df.to_csv('N12/gs_energies.csv')"
   ]
  },
  {
   "cell_type": "code",
   "execution_count": 7,
   "id": "ba60bdc3",
   "metadata": {},
   "outputs": [
    {
     "data": {
      "text/plain": [
       "array([0.   , 0.005, 0.01 , 0.015, 0.02 , 0.025, 0.03 , 0.035, 0.04 ,\n",
       "       0.045, 0.05 , 0.055, 0.06 , 0.065, 0.07 , 0.075, 0.08 , 0.085,\n",
       "       0.09 , 0.095, 0.1  , 0.105, 0.11 , 0.115, 0.12 , 0.125, 0.13 ,\n",
       "       0.135, 0.14 , 0.145, 0.15 , 0.155, 0.16 , 0.165, 0.17 , 0.175,\n",
       "       0.18 , 0.185, 0.19 , 0.195, 0.2  , 0.205, 0.21 , 0.215, 0.22 ,\n",
       "       0.225, 0.23 , 0.235, 0.24 , 0.245, 0.25 , 0.255, 0.26 , 0.265,\n",
       "       0.27 , 0.275, 0.28 , 0.285, 0.29 , 0.295, 0.3  , 0.305, 0.31 ,\n",
       "       0.315, 0.32 , 0.325, 0.33 , 0.335, 0.34 , 0.345, 0.35 , 0.355,\n",
       "       0.36 , 0.365, 0.37 , 0.375, 0.38 , 0.385, 0.39 , 0.395, 0.4  ,\n",
       "       0.405, 0.41 , 0.415, 0.42 , 0.425, 0.43 , 0.435, 0.44 , 0.445,\n",
       "       0.45 , 0.455, 0.46 , 0.465, 0.47 , 0.475, 0.48 , 0.485, 0.49 ,\n",
       "       0.495])"
      ]
     },
     "execution_count": 7,
     "metadata": {},
     "output_type": "execute_result"
    }
   ],
   "source": [
    "np.linspace(0, 0.5-0.005, 100)"
   ]
  },
  {
   "cell_type": "code",
   "execution_count": 8,
   "id": "0058f89b",
   "metadata": {},
   "outputs": [],
   "source": [
    "N=10\n",
    "J1=1\n",
    "gses = []\n",
    "J2s=np.linspace(0, 0.5-0.005, 100)\n",
    "for J2 in J2s:\n",
    "    h = j1j2_functions.J1J2_hamiltonian(N, J1, J2)\n",
    "    eigs = h.eigenstates()\n",
    "    gs = eigs[1][0]\n",
    "    gse = eigs[0][0]\n",
    "    gses.append(gse)\n",
    "    qt.qsave(gs, f'N10/n10gs_J2_{J2}')\n",
    "df = pd.DataFrame({'J2':J2s, 'GSE':gses})\n",
    "df.to_csv('N10/gs_energies.csv')"
   ]
  },
  {
   "cell_type": "code",
   "execution_count": 2,
   "id": "30a30f74",
   "metadata": {},
   "outputs": [],
   "source": [
    "N=12\n",
    "J1=1\n",
    "gses = []\n",
    "J2s=np.linspace(0, 0.5-0.005, 100)\n",
    "for J2 in J2s:\n",
    "    h = j1j2_functions.J1J2_hamiltonian(N, J1, J2)\n",
    "    eigs = h.eigenstates()\n",
    "    gs = eigs[1][0]\n",
    "    gse = eigs[0][0]\n",
    "    gses.append(gse)\n",
    "    qt.qsave(gs, f'N12/n12gs_J2_{J2}')\n",
    "df = pd.DataFrame({'J2':J2s, 'GSE':gses})\n",
    "df.to_csv('N12/gs_energies.csv')"
   ]
  },
  {
   "cell_type": "code",
   "execution_count": null,
   "id": "3d24059d",
   "metadata": {},
   "outputs": [],
   "source": [
    "N=8\n",
    "J1=1\n",
    "gses = []\n",
    "J2s=np.linspace(0, 0.5-0.005, 100)\n",
    "for J2 in J2s:\n",
    "    h = j1j2_functions.J1J2_hamiltonian(N, J1, J2)\n",
    "    eigs = h.eigenstates()\n",
    "    gs = eigs[1][0]\n",
    "    gse = eigs[0][0]\n",
    "    gses.append(gse)\n",
    "    qt.qsave(gs, f'N8/n8gs_J2_{round(J2, 3)}')\n",
    "df = pd.DataFrame({'J2':J2s, 'GSE':gses})\n",
    "df.to_csv('N8/gs_energies.csv')"
   ]
  },
  {
   "cell_type": "code",
   "execution_count": 5,
   "id": "6b50074e",
   "metadata": {},
   "outputs": [],
   "source": [
    "h = j1j2_functions.J1J2_hamiltonian(14, 1, 0)"
   ]
  },
  {
   "cell_type": "code",
   "execution_count": null,
   "id": "e5c37971",
   "metadata": {},
   "outputs": [
    {
     "ename": "MemoryError",
     "evalue": "Unable to allocate 4.00 GiB for an array with shape (16384, 16384) and data type complex128",
     "output_type": "error",
     "traceback": [
      "\u001b[1;31m---------------------------------------------------------------------------\u001b[0m",
      "\u001b[1;31mMemoryError\u001b[0m                               Traceback (most recent call last)",
      "Cell \u001b[1;32mIn[8], line 1\u001b[0m\n\u001b[1;32m----> 1\u001b[0m eigs \u001b[38;5;241m=\u001b[39m \u001b[43mh\u001b[49m\u001b[38;5;241;43m.\u001b[39;49m\u001b[43meigenstates\u001b[49m\u001b[43m(\u001b[49m\u001b[43m)\u001b[49m\n",
      "File \u001b[1;32mc:\\Users\\taoha\\anaconda3\\envs\\kans\\Lib\\site-packages\\qutip\\core\\qobj.py:1517\u001b[0m, in \u001b[0;36mQobj.eigenstates\u001b[1;34m(self, sparse, sort, eigvals, tol, maxiter, phase_fix)\u001b[0m\n\u001b[0;32m   1512\u001b[0m     evals, evecs \u001b[38;5;241m=\u001b[39m _data\u001b[38;5;241m.\u001b[39meigs_csr(\u001b[38;5;28mself\u001b[39m\u001b[38;5;241m.\u001b[39mdata,\n\u001b[0;32m   1513\u001b[0m                                   isherm\u001b[38;5;241m=\u001b[39m\u001b[38;5;28mself\u001b[39m\u001b[38;5;241m.\u001b[39m_isherm,\n\u001b[0;32m   1514\u001b[0m                                   sort\u001b[38;5;241m=\u001b[39msort, eigvals\u001b[38;5;241m=\u001b[39meigvals, tol\u001b[38;5;241m=\u001b[39mtol,\n\u001b[0;32m   1515\u001b[0m                                   maxiter\u001b[38;5;241m=\u001b[39mmaxiter)\n\u001b[0;32m   1516\u001b[0m \u001b[38;5;28;01melif\u001b[39;00m \u001b[38;5;28misinstance\u001b[39m(\u001b[38;5;28mself\u001b[39m\u001b[38;5;241m.\u001b[39mdata, (_data\u001b[38;5;241m.\u001b[39mCSR, _data\u001b[38;5;241m.\u001b[39mDia)):\n\u001b[1;32m-> 1517\u001b[0m     evals, evecs \u001b[38;5;241m=\u001b[39m \u001b[43m_data\u001b[49m\u001b[38;5;241;43m.\u001b[39;49m\u001b[43meigs\u001b[49m\u001b[43m(\u001b[49m\u001b[43m_data\u001b[49m\u001b[38;5;241;43m.\u001b[39;49m\u001b[43mto\u001b[49m\u001b[43m(\u001b[49m\u001b[43m_data\u001b[49m\u001b[38;5;241;43m.\u001b[39;49m\u001b[43mDense\u001b[49m\u001b[43m,\u001b[49m\u001b[43m \u001b[49m\u001b[38;5;28;43mself\u001b[39;49m\u001b[38;5;241;43m.\u001b[39;49m\u001b[43mdata\u001b[49m\u001b[43m)\u001b[49m\u001b[43m,\u001b[49m\n\u001b[0;32m   1518\u001b[0m \u001b[43m                              \u001b[49m\u001b[43misherm\u001b[49m\u001b[38;5;241;43m=\u001b[39;49m\u001b[38;5;28;43mself\u001b[39;49m\u001b[38;5;241;43m.\u001b[39;49m\u001b[43m_isherm\u001b[49m\u001b[43m,\u001b[49m\n\u001b[0;32m   1519\u001b[0m \u001b[43m                              \u001b[49m\u001b[43msort\u001b[49m\u001b[38;5;241;43m=\u001b[39;49m\u001b[43msort\u001b[49m\u001b[43m,\u001b[49m\u001b[43m \u001b[49m\u001b[43meigvals\u001b[49m\u001b[38;5;241;43m=\u001b[39;49m\u001b[43meigvals\u001b[49m\u001b[43m)\u001b[49m\n\u001b[0;32m   1520\u001b[0m \u001b[38;5;28;01melse\u001b[39;00m:\n\u001b[0;32m   1521\u001b[0m     evals, evecs \u001b[38;5;241m=\u001b[39m _data\u001b[38;5;241m.\u001b[39meigs(\u001b[38;5;28mself\u001b[39m\u001b[38;5;241m.\u001b[39mdata, isherm\u001b[38;5;241m=\u001b[39m\u001b[38;5;28mself\u001b[39m\u001b[38;5;241m.\u001b[39m_isherm,\n\u001b[0;32m   1522\u001b[0m                               sort\u001b[38;5;241m=\u001b[39msort, eigvals\u001b[38;5;241m=\u001b[39meigvals)\n",
      "File \u001b[1;32mc:\\Users\\taoha\\anaconda3\\envs\\kans\\Lib\\site-packages\\qutip\\core\\data\\dispatch.pyx:392\u001b[0m, in \u001b[0;36mqutip.core.data.dispatch.Dispatcher.__call__\u001b[1;34m()\u001b[0m\n",
      "File \u001b[1;32mc:\\Users\\taoha\\anaconda3\\envs\\kans\\Lib\\site-packages\\qutip\\core\\data\\eigen.py:271\u001b[0m, in \u001b[0;36meigs_dense\u001b[1;34m(data, isherm, vecs, sort, eigvals)\u001b[0m\n\u001b[0;32m    269\u001b[0m eigvals, num_large, num_small \u001b[38;5;241m=\u001b[39m _eigs_fix_eigvals(data, eigvals, sort)\n\u001b[0;32m    270\u001b[0m isherm \u001b[38;5;241m=\u001b[39m isherm \u001b[38;5;28;01mif\u001b[39;00m isherm \u001b[38;5;129;01mis\u001b[39;00m \u001b[38;5;129;01mnot\u001b[39;00m \u001b[38;5;28;01mNone\u001b[39;00m \u001b[38;5;28;01melse\u001b[39;00m _isherm(data)\n\u001b[1;32m--> 271\u001b[0m evals, evecs \u001b[38;5;241m=\u001b[39m \u001b[43m_eigs_dense\u001b[49m\u001b[43m(\u001b[49m\u001b[43mdata\u001b[49m\u001b[38;5;241;43m.\u001b[39;49m\u001b[43mas_ndarray\u001b[49m\u001b[43m(\u001b[49m\u001b[43m)\u001b[49m\u001b[43m,\u001b[49m\u001b[43m \u001b[49m\u001b[43misherm\u001b[49m\u001b[43m,\u001b[49m\u001b[43m \u001b[49m\u001b[43mvecs\u001b[49m\u001b[43m,\u001b[49m\u001b[43m \u001b[49m\u001b[43meigvals\u001b[49m\u001b[43m,\u001b[49m\n\u001b[0;32m    272\u001b[0m \u001b[43m                           \u001b[49m\u001b[43mnum_large\u001b[49m\u001b[43m,\u001b[49m\u001b[43m \u001b[49m\u001b[43mnum_small\u001b[49m\u001b[43m)\u001b[49m\n\u001b[0;32m    273\u001b[0m \u001b[38;5;28;01mif\u001b[39;00m sort \u001b[38;5;241m==\u001b[39m \u001b[38;5;124m'\u001b[39m\u001b[38;5;124mhigh\u001b[39m\u001b[38;5;124m'\u001b[39m:\n\u001b[0;32m    274\u001b[0m     \u001b[38;5;66;03m# Flip arrays around.\u001b[39;00m\n\u001b[0;32m    275\u001b[0m     \u001b[38;5;28;01mif\u001b[39;00m vecs:\n",
      "File \u001b[1;32mc:\\Users\\taoha\\anaconda3\\envs\\kans\\Lib\\site-packages\\qutip\\core\\data\\eigen.py:69\u001b[0m, in \u001b[0;36m_eigs_dense\u001b[1;34m(data, isherm, vecs, eigvals, num_large, num_small)\u001b[0m\n\u001b[0;32m     67\u001b[0m \u001b[38;5;28;01mif\u001b[39;00m vecs:\n\u001b[0;32m     68\u001b[0m     driver \u001b[38;5;241m=\u001b[39m eigh \u001b[38;5;28;01mif\u001b[39;00m isherm \u001b[38;5;28;01melse\u001b[39;00m scipy\u001b[38;5;241m.\u001b[39mlinalg\u001b[38;5;241m.\u001b[39meig\n\u001b[1;32m---> 69\u001b[0m     evals, evecs \u001b[38;5;241m=\u001b[39m \u001b[43mdriver\u001b[49m\u001b[43m(\u001b[49m\u001b[43mdata\u001b[49m\u001b[43m,\u001b[49m\u001b[43m \u001b[49m\u001b[38;5;241;43m*\u001b[39;49m\u001b[38;5;241;43m*\u001b[39;49m\u001b[43mkwargs\u001b[49m\u001b[43m)\u001b[49m\n\u001b[0;32m     70\u001b[0m \u001b[38;5;28;01melse\u001b[39;00m:\n\u001b[0;32m     71\u001b[0m     driver \u001b[38;5;241m=\u001b[39m eigvalsh \u001b[38;5;28;01mif\u001b[39;00m isherm \u001b[38;5;28;01melse\u001b[39;00m scipy\u001b[38;5;241m.\u001b[39mlinalg\u001b[38;5;241m.\u001b[39meigvals\n",
      "File \u001b[1;32mc:\\Users\\taoha\\anaconda3\\envs\\kans\\Lib\\site-packages\\scipy\\linalg\\_decomp.py:559\u001b[0m, in \u001b[0;36meigh\u001b[1;34m(a, b, lower, eigvals_only, overwrite_a, overwrite_b, type, check_finite, subset_by_index, subset_by_value, driver)\u001b[0m\n\u001b[0;32m    556\u001b[0m         lwork_args \u001b[38;5;241m=\u001b[39m {\u001b[38;5;124m'\u001b[39m\u001b[38;5;124mlwork\u001b[39m\u001b[38;5;124m'\u001b[39m: lw}\n\u001b[0;32m    558\u001b[0m     drv_args\u001b[38;5;241m.\u001b[39mupdate({\u001b[38;5;124m'\u001b[39m\u001b[38;5;124mlower\u001b[39m\u001b[38;5;124m'\u001b[39m: lower, \u001b[38;5;124m'\u001b[39m\u001b[38;5;124mcompute_v\u001b[39m\u001b[38;5;124m'\u001b[39m: \u001b[38;5;241m0\u001b[39m \u001b[38;5;28;01mif\u001b[39;00m _job \u001b[38;5;241m==\u001b[39m \u001b[38;5;124m\"\u001b[39m\u001b[38;5;124mN\u001b[39m\u001b[38;5;124m\"\u001b[39m \u001b[38;5;28;01melse\u001b[39;00m \u001b[38;5;241m1\u001b[39m})\n\u001b[1;32m--> 559\u001b[0m     w, v, \u001b[38;5;241m*\u001b[39mother_args, info \u001b[38;5;241m=\u001b[39m \u001b[43mdrv\u001b[49m\u001b[43m(\u001b[49m\u001b[43ma\u001b[49m\u001b[38;5;241;43m=\u001b[39;49m\u001b[43ma1\u001b[49m\u001b[43m,\u001b[49m\u001b[43m \u001b[49m\u001b[38;5;241;43m*\u001b[39;49m\u001b[38;5;241;43m*\u001b[39;49m\u001b[43mdrv_args\u001b[49m\u001b[43m,\u001b[49m\u001b[43m \u001b[49m\u001b[38;5;241;43m*\u001b[39;49m\u001b[38;5;241;43m*\u001b[39;49m\u001b[43mlwork_args\u001b[49m\u001b[43m)\u001b[49m\n\u001b[0;32m    561\u001b[0m \u001b[38;5;28;01melse\u001b[39;00m:  \u001b[38;5;66;03m# Generalized problem\u001b[39;00m\n\u001b[0;32m    562\u001b[0m     \u001b[38;5;66;03m# 'gvd' doesn't have lwork query\u001b[39;00m\n\u001b[0;32m    563\u001b[0m     \u001b[38;5;28;01mif\u001b[39;00m driver \u001b[38;5;241m==\u001b[39m \u001b[38;5;124m\"\u001b[39m\u001b[38;5;124mgvd\u001b[39m\u001b[38;5;124m\"\u001b[39m:\n",
      "\u001b[1;31mMemoryError\u001b[0m: Unable to allocate 4.00 GiB for an array with shape (16384, 16384) and data type complex128"
     ]
    }
   ],
   "source": [
    "eigs = h.eigenstates(sparse=True)"
   ]
  },
  {
   "cell_type": "code",
   "execution_count": null,
   "id": "28e021a7",
   "metadata": {},
   "outputs": [],
   "source": []
  }
 ],
 "metadata": {
  "kernelspec": {
   "display_name": "kans",
   "language": "python",
   "name": "python3"
  },
  "language_info": {
   "codemirror_mode": {
    "name": "ipython",
    "version": 3
   },
   "file_extension": ".py",
   "mimetype": "text/x-python",
   "name": "python",
   "nbconvert_exporter": "python",
   "pygments_lexer": "ipython3",
   "version": "3.12.5"
  }
 },
 "nbformat": 4,
 "nbformat_minor": 5
}
