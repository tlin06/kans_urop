{
 "cells": [
  {
   "cell_type": "code",
   "execution_count": 1,
   "id": "fce9e4e4",
   "metadata": {},
   "outputs": [],
   "source": [
    "import kan\n",
    "import kan.utils as ku\n",
    "import torch\n",
    "import torch.nn as nn\n",
    "import numpy as np\n",
    "from libraries import utils\n",
    "from libraries import magnetization\n",
    "from libraries import j1j2_functions\n",
    "import numpy.random as npr\n",
    "import qutip as qt\n",
    "import sympy\n",
    "import random\n",
    "import pandas as pd"
   ]
  },
  {
   "cell_type": "code",
   "execution_count": 2,
   "id": "34c0e682",
   "metadata": {},
   "outputs": [],
   "source": [
    "N=12\n",
    "J1=1\n",
    "gses = []\n",
    "J2s=[0, 0.1, 0.2, 0.3, 0.4, 0.495]\n",
    "for J2 in J2s:\n",
    "    h = j1j2_functions.J1J2_hamiltonian(N, J1, J2)\n",
    "    eigs = h.eigenstates()\n",
    "    gs = eigs[1][0]\n",
    "    gse = eigs[0][0]\n",
    "    gses.append(gse)\n",
    "    qt.qsave(gs, f'N12/n12gs_J2_{J2}')\n",
    "df = pd.DataFrame({'J2':J2s, 'GSE':gses})\n",
    "df.to_csv('N12/gs_energies.csv')"
   ]
  },
  {
   "cell_type": "code",
   "execution_count": 7,
   "id": "ba60bdc3",
   "metadata": {},
   "outputs": [
    {
     "data": {
      "text/plain": [
       "array([0.   , 0.005, 0.01 , 0.015, 0.02 , 0.025, 0.03 , 0.035, 0.04 ,\n",
       "       0.045, 0.05 , 0.055, 0.06 , 0.065, 0.07 , 0.075, 0.08 , 0.085,\n",
       "       0.09 , 0.095, 0.1  , 0.105, 0.11 , 0.115, 0.12 , 0.125, 0.13 ,\n",
       "       0.135, 0.14 , 0.145, 0.15 , 0.155, 0.16 , 0.165, 0.17 , 0.175,\n",
       "       0.18 , 0.185, 0.19 , 0.195, 0.2  , 0.205, 0.21 , 0.215, 0.22 ,\n",
       "       0.225, 0.23 , 0.235, 0.24 , 0.245, 0.25 , 0.255, 0.26 , 0.265,\n",
       "       0.27 , 0.275, 0.28 , 0.285, 0.29 , 0.295, 0.3  , 0.305, 0.31 ,\n",
       "       0.315, 0.32 , 0.325, 0.33 , 0.335, 0.34 , 0.345, 0.35 , 0.355,\n",
       "       0.36 , 0.365, 0.37 , 0.375, 0.38 , 0.385, 0.39 , 0.395, 0.4  ,\n",
       "       0.405, 0.41 , 0.415, 0.42 , 0.425, 0.43 , 0.435, 0.44 , 0.445,\n",
       "       0.45 , 0.455, 0.46 , 0.465, 0.47 , 0.475, 0.48 , 0.485, 0.49 ,\n",
       "       0.495])"
      ]
     },
     "execution_count": 7,
     "metadata": {},
     "output_type": "execute_result"
    }
   ],
   "source": [
    "np.linspace(0, 0.5-0.005, 100)"
   ]
  },
  {
   "cell_type": "code",
   "execution_count": 8,
   "id": "0058f89b",
   "metadata": {},
   "outputs": [],
   "source": [
    "N=10\n",
    "J1=1\n",
    "gses = []\n",
    "J2s=np.linspace(0, 0.5-0.005, 100)\n",
    "for J2 in J2s:\n",
    "    h = j1j2_functions.J1J2_hamiltonian(N, J1, J2)\n",
    "    eigs = h.eigenstates()\n",
    "    gs = eigs[1][0]\n",
    "    gse = eigs[0][0]\n",
    "    gses.append(gse)\n",
    "    qt.qsave(gs, f'N10/n10gs_J2_{J2}')\n",
    "df = pd.DataFrame({'J2':J2s, 'GSE':gses})\n",
    "df.to_csv('N10/gs_energies.csv')"
   ]
  },
  {
   "cell_type": "code",
   "execution_count": 2,
   "id": "30a30f74",
   "metadata": {},
   "outputs": [],
   "source": [
    "N=12\n",
    "J1=1\n",
    "gses = []\n",
    "J2s=np.linspace(0, 0.5-0.005, 100)\n",
    "for J2 in J2s:\n",
    "    h = j1j2_functions.J1J2_hamiltonian(N, J1, J2)\n",
    "    eigs = h.eigenstates()\n",
    "    gs = eigs[1][0]\n",
    "    gse = eigs[0][0]\n",
    "    gses.append(gse)\n",
    "    qt.qsave(gs, f'N12/n12gs_J2_{J2}')\n",
    "df = pd.DataFrame({'J2':J2s, 'GSE':gses})\n",
    "df.to_csv('N12/gs_energies.csv')"
   ]
  },
  {
   "cell_type": "code",
   "execution_count": null,
   "id": "3d24059d",
   "metadata": {},
   "outputs": [],
   "source": [
    "N=8\n",
    "J1=1\n",
    "gses = []\n",
    "J2s=np.linspace(0, 0.5-0.005, 100)\n",
    "for J2 in J2s:\n",
    "    h = j1j2_functions.J1J2_hamiltonian(N, J1, J2)\n",
    "    eigs = h.eigenstates()\n",
    "    gs = eigs[1][0]\n",
    "    gse = eigs[0][0]\n",
    "    gses.append(gse)\n",
    "    qt.qsave(gs, f'N8/n8gs_J2_{round(J2, 3)}')\n",
    "df = pd.DataFrame({'J2':J2s, 'GSE':gses})\n",
    "df.to_csv('N8/gs_energies.csv')"
   ]
  },
  {
   "cell_type": "code",
   "execution_count": 5,
   "id": "6b50074e",
   "metadata": {},
   "outputs": [],
   "source": [
    "h = j1j2_functions.J1J2_hamiltonian(14, 1, 0)"
   ]
  },
  {
   "cell_type": "code",
   "execution_count": 9,
   "id": "e5c37971",
   "metadata": {},
   "outputs": [
    {
     "ename": "MemoryError",
     "evalue": "Unable to allocate 12.0 GiB for an array with shape (12886474761,) and data type uint8",
     "output_type": "error",
     "traceback": [
      "\u001b[1;31m---------------------------------------------------------------------------\u001b[0m",
      "\u001b[1;31mMemoryError\u001b[0m                               Traceback (most recent call last)",
      "Cell \u001b[1;32mIn[9], line 1\u001b[0m\n\u001b[1;32m----> 1\u001b[0m eigs \u001b[38;5;241m=\u001b[39m \u001b[43mh\u001b[49m\u001b[38;5;241;43m.\u001b[39;49m\u001b[43meigenstates\u001b[49m\u001b[43m(\u001b[49m\u001b[43msparse\u001b[49m\u001b[38;5;241;43m=\u001b[39;49m\u001b[38;5;28;43;01mTrue\u001b[39;49;00m\u001b[43m)\u001b[49m\n",
      "File \u001b[1;32mc:\\Users\\taoha\\anaconda3\\envs\\kans\\Lib\\site-packages\\qutip\\core\\qobj.py:1512\u001b[0m, in \u001b[0;36mQobj.eigenstates\u001b[1;34m(self, sparse, sort, eigvals, tol, maxiter, phase_fix)\u001b[0m\n\u001b[0;32m   1469\u001b[0m \u001b[38;5;250m\u001b[39m\u001b[38;5;124;03m\"\"\"Eigenstates and eigenenergies.\u001b[39;00m\n\u001b[0;32m   1470\u001b[0m \n\u001b[0;32m   1471\u001b[0m \u001b[38;5;124;03mEigenstates and eigenenergies are defined for operators and\u001b[39;00m\n\u001b[1;32m   (...)\u001b[0m\n\u001b[0;32m   1509\u001b[0m \n\u001b[0;32m   1510\u001b[0m \u001b[38;5;124;03m\"\"\"\u001b[39;00m\n\u001b[0;32m   1511\u001b[0m \u001b[38;5;28;01mif\u001b[39;00m \u001b[38;5;28misinstance\u001b[39m(\u001b[38;5;28mself\u001b[39m\u001b[38;5;241m.\u001b[39mdata, _data\u001b[38;5;241m.\u001b[39mCSR) \u001b[38;5;129;01mand\u001b[39;00m sparse:\n\u001b[1;32m-> 1512\u001b[0m     evals, evecs \u001b[38;5;241m=\u001b[39m \u001b[43m_data\u001b[49m\u001b[38;5;241;43m.\u001b[39;49m\u001b[43meigs_csr\u001b[49m\u001b[43m(\u001b[49m\u001b[38;5;28;43mself\u001b[39;49m\u001b[38;5;241;43m.\u001b[39;49m\u001b[43mdata\u001b[49m\u001b[43m,\u001b[49m\n\u001b[0;32m   1513\u001b[0m \u001b[43m                                  \u001b[49m\u001b[43misherm\u001b[49m\u001b[38;5;241;43m=\u001b[39;49m\u001b[38;5;28;43mself\u001b[39;49m\u001b[38;5;241;43m.\u001b[39;49m\u001b[43m_isherm\u001b[49m\u001b[43m,\u001b[49m\n\u001b[0;32m   1514\u001b[0m \u001b[43m                                  \u001b[49m\u001b[43msort\u001b[49m\u001b[38;5;241;43m=\u001b[39;49m\u001b[43msort\u001b[49m\u001b[43m,\u001b[49m\u001b[43m \u001b[49m\u001b[43meigvals\u001b[49m\u001b[38;5;241;43m=\u001b[39;49m\u001b[43meigvals\u001b[49m\u001b[43m,\u001b[49m\u001b[43m \u001b[49m\u001b[43mtol\u001b[49m\u001b[38;5;241;43m=\u001b[39;49m\u001b[43mtol\u001b[49m\u001b[43m,\u001b[49m\n\u001b[0;32m   1515\u001b[0m \u001b[43m                                  \u001b[49m\u001b[43mmaxiter\u001b[49m\u001b[38;5;241;43m=\u001b[39;49m\u001b[43mmaxiter\u001b[49m\u001b[43m)\u001b[49m\n\u001b[0;32m   1516\u001b[0m \u001b[38;5;28;01melif\u001b[39;00m \u001b[38;5;28misinstance\u001b[39m(\u001b[38;5;28mself\u001b[39m\u001b[38;5;241m.\u001b[39mdata, (_data\u001b[38;5;241m.\u001b[39mCSR, _data\u001b[38;5;241m.\u001b[39mDia)):\n\u001b[0;32m   1517\u001b[0m     evals, evecs \u001b[38;5;241m=\u001b[39m _data\u001b[38;5;241m.\u001b[39meigs(_data\u001b[38;5;241m.\u001b[39mto(_data\u001b[38;5;241m.\u001b[39mDense, \u001b[38;5;28mself\u001b[39m\u001b[38;5;241m.\u001b[39mdata),\n\u001b[0;32m   1518\u001b[0m                               isherm\u001b[38;5;241m=\u001b[39m\u001b[38;5;28mself\u001b[39m\u001b[38;5;241m.\u001b[39m_isherm,\n\u001b[0;32m   1519\u001b[0m                               sort\u001b[38;5;241m=\u001b[39msort, eigvals\u001b[38;5;241m=\u001b[39meigvals)\n",
      "File \u001b[1;32mc:\\Users\\taoha\\anaconda3\\envs\\kans\\Lib\\site-packages\\qutip\\core\\data\\eigen.py:237\u001b[0m, in \u001b[0;36meigs_csr\u001b[1;34m(data, isherm, vecs, sort, eigvals, tol, maxiter)\u001b[0m\n\u001b[0;32m    235\u001b[0m eigvals, num_large, num_small \u001b[38;5;241m=\u001b[39m _eigs_fix_eigvals(data, eigvals, sort)\n\u001b[0;32m    236\u001b[0m isherm \u001b[38;5;241m=\u001b[39m isherm \u001b[38;5;28;01mif\u001b[39;00m isherm \u001b[38;5;129;01mis\u001b[39;00m \u001b[38;5;129;01mnot\u001b[39;00m \u001b[38;5;28;01mNone\u001b[39;00m \u001b[38;5;28;01melse\u001b[39;00m _isherm(data)\n\u001b[1;32m--> 237\u001b[0m evals, evecs \u001b[38;5;241m=\u001b[39m \u001b[43m_eigs_csr\u001b[49m\u001b[43m(\u001b[49m\u001b[43mdata\u001b[49m\u001b[38;5;241;43m.\u001b[39;49m\u001b[43mas_scipy\u001b[49m\u001b[43m(\u001b[49m\u001b[43m)\u001b[49m\u001b[43m,\u001b[49m\u001b[43m \u001b[49m\u001b[43misherm\u001b[49m\u001b[43m,\u001b[49m\u001b[43m \u001b[49m\u001b[43mvecs\u001b[49m\u001b[43m,\u001b[49m\u001b[43m \u001b[49m\u001b[43meigvals\u001b[49m\u001b[43m,\u001b[49m\n\u001b[0;32m    238\u001b[0m \u001b[43m                         \u001b[49m\u001b[43mnum_large\u001b[49m\u001b[43m,\u001b[49m\u001b[43m \u001b[49m\u001b[43mnum_small\u001b[49m\u001b[43m,\u001b[49m\u001b[43m \u001b[49m\u001b[43mtol\u001b[49m\u001b[43m,\u001b[49m\u001b[43m \u001b[49m\u001b[43mmaxiter\u001b[49m\u001b[43m)\u001b[49m\n\u001b[0;32m    240\u001b[0m \u001b[38;5;28;01mif\u001b[39;00m vecs \u001b[38;5;129;01mand\u001b[39;00m isherm:\n\u001b[0;32m    241\u001b[0m     i \u001b[38;5;241m=\u001b[39m \u001b[38;5;241m0\u001b[39m\n",
      "File \u001b[1;32mc:\\Users\\taoha\\anaconda3\\envs\\kans\\Lib\\site-packages\\qutip\\core\\data\\eigen.py:119\u001b[0m, in \u001b[0;36m_eigs_csr\u001b[1;34m(data, isherm, vecs, eigvals, num_large, num_small, tol, maxiter)\u001b[0m\n\u001b[0;32m    117\u001b[0m \u001b[38;5;28;01mif\u001b[39;00m isherm:\n\u001b[0;32m    118\u001b[0m     \u001b[38;5;28;01mif\u001b[39;00m num_large \u001b[38;5;241m>\u001b[39m \u001b[38;5;241m0\u001b[39m:\n\u001b[1;32m--> 119\u001b[0m         big_vals, big_vecs \u001b[38;5;241m=\u001b[39m \u001b[43msp\u001b[49m\u001b[38;5;241;43m.\u001b[39;49m\u001b[43mlinalg\u001b[49m\u001b[38;5;241;43m.\u001b[39;49m\u001b[43meigsh\u001b[49m\u001b[43m(\u001b[49m\u001b[43mdata\u001b[49m\u001b[43m,\u001b[49m\u001b[43m \u001b[49m\u001b[43mk\u001b[49m\u001b[38;5;241;43m=\u001b[39;49m\u001b[43mnum_large\u001b[49m\u001b[43m,\u001b[49m\n\u001b[0;32m    120\u001b[0m \u001b[43m                                             \u001b[49m\u001b[43mwhich\u001b[49m\u001b[38;5;241;43m=\u001b[39;49m\u001b[38;5;124;43m'\u001b[39;49m\u001b[38;5;124;43mLA\u001b[39;49m\u001b[38;5;124;43m'\u001b[39;49m\u001b[43m,\u001b[49m\u001b[43m \u001b[49m\u001b[43mtol\u001b[49m\u001b[38;5;241;43m=\u001b[39;49m\u001b[43mtol\u001b[49m\u001b[43m,\u001b[49m\n\u001b[0;32m    121\u001b[0m \u001b[43m                                             \u001b[49m\u001b[43mmaxiter\u001b[49m\u001b[38;5;241;43m=\u001b[39;49m\u001b[43mmaxiter\u001b[49m\u001b[43m)\u001b[49m\n\u001b[0;32m    122\u001b[0m     \u001b[38;5;28;01mif\u001b[39;00m num_small \u001b[38;5;241m>\u001b[39m \u001b[38;5;241m0\u001b[39m:\n\u001b[0;32m    123\u001b[0m         small_vals, small_vecs \u001b[38;5;241m=\u001b[39m sp\u001b[38;5;241m.\u001b[39mlinalg\u001b[38;5;241m.\u001b[39meigsh(\n\u001b[0;32m    124\u001b[0m             data, k\u001b[38;5;241m=\u001b[39mnum_small, which\u001b[38;5;241m=\u001b[39m\u001b[38;5;124m'\u001b[39m\u001b[38;5;124mSA\u001b[39m\u001b[38;5;124m'\u001b[39m,\n\u001b[0;32m    125\u001b[0m             tol\u001b[38;5;241m=\u001b[39mtol, maxiter\u001b[38;5;241m=\u001b[39mmaxiter)\n",
      "File \u001b[1;32mc:\\Users\\taoha\\anaconda3\\envs\\kans\\Lib\\site-packages\\scipy\\sparse\\linalg\\_eigen\\arpack\\arpack.py:1577\u001b[0m, in \u001b[0;36meigsh\u001b[1;34m(A, k, M, sigma, which, v0, ncv, maxiter, tol, return_eigenvectors, Minv, OPinv, mode)\u001b[0m\n\u001b[0;32m   1575\u001b[0m \u001b[38;5;28;01melif\u001b[39;00m which \u001b[38;5;241m==\u001b[39m \u001b[38;5;124m'\u001b[39m\u001b[38;5;124mSA\u001b[39m\u001b[38;5;124m'\u001b[39m:\n\u001b[0;32m   1576\u001b[0m     which \u001b[38;5;241m=\u001b[39m \u001b[38;5;124m'\u001b[39m\u001b[38;5;124mSR\u001b[39m\u001b[38;5;124m'\u001b[39m\n\u001b[1;32m-> 1577\u001b[0m ret \u001b[38;5;241m=\u001b[39m \u001b[43meigs\u001b[49m\u001b[43m(\u001b[49m\u001b[43mA\u001b[49m\u001b[43m,\u001b[49m\u001b[43m \u001b[49m\u001b[43mk\u001b[49m\u001b[43m,\u001b[49m\u001b[43m \u001b[49m\u001b[43mM\u001b[49m\u001b[38;5;241;43m=\u001b[39;49m\u001b[43mM\u001b[49m\u001b[43m,\u001b[49m\u001b[43m \u001b[49m\u001b[43msigma\u001b[49m\u001b[38;5;241;43m=\u001b[39;49m\u001b[43msigma\u001b[49m\u001b[43m,\u001b[49m\u001b[43m \u001b[49m\u001b[43mwhich\u001b[49m\u001b[38;5;241;43m=\u001b[39;49m\u001b[43mwhich\u001b[49m\u001b[43m,\u001b[49m\u001b[43m \u001b[49m\u001b[43mv0\u001b[49m\u001b[38;5;241;43m=\u001b[39;49m\u001b[43mv0\u001b[49m\u001b[43m,\u001b[49m\n\u001b[0;32m   1578\u001b[0m \u001b[43m           \u001b[49m\u001b[43mncv\u001b[49m\u001b[38;5;241;43m=\u001b[39;49m\u001b[43mncv\u001b[49m\u001b[43m,\u001b[49m\u001b[43m \u001b[49m\u001b[43mmaxiter\u001b[49m\u001b[38;5;241;43m=\u001b[39;49m\u001b[43mmaxiter\u001b[49m\u001b[43m,\u001b[49m\u001b[43m \u001b[49m\u001b[43mtol\u001b[49m\u001b[38;5;241;43m=\u001b[39;49m\u001b[43mtol\u001b[49m\u001b[43m,\u001b[49m\n\u001b[0;32m   1579\u001b[0m \u001b[43m           \u001b[49m\u001b[43mreturn_eigenvectors\u001b[49m\u001b[38;5;241;43m=\u001b[39;49m\u001b[43mreturn_eigenvectors\u001b[49m\u001b[43m,\u001b[49m\u001b[43m \u001b[49m\u001b[43mMinv\u001b[49m\u001b[38;5;241;43m=\u001b[39;49m\u001b[43mMinv\u001b[49m\u001b[43m,\u001b[49m\n\u001b[0;32m   1580\u001b[0m \u001b[43m           \u001b[49m\u001b[43mOPinv\u001b[49m\u001b[38;5;241;43m=\u001b[39;49m\u001b[43mOPinv\u001b[49m\u001b[43m)\u001b[49m\n\u001b[0;32m   1582\u001b[0m \u001b[38;5;28;01mif\u001b[39;00m return_eigenvectors:\n\u001b[0;32m   1583\u001b[0m     \u001b[38;5;28;01mreturn\u001b[39;00m ret[\u001b[38;5;241m0\u001b[39m]\u001b[38;5;241m.\u001b[39mreal, ret[\u001b[38;5;241m1\u001b[39m]\n",
      "File \u001b[1;32mc:\\Users\\taoha\\anaconda3\\envs\\kans\\Lib\\site-packages\\scipy\\sparse\\linalg\\_eigen\\arpack\\arpack.py:1349\u001b[0m, in \u001b[0;36meigs\u001b[1;34m(A, k, M, sigma, which, v0, ncv, maxiter, tol, return_eigenvectors, Minv, OPinv, OPpart)\u001b[0m\n\u001b[0;32m   1346\u001b[0m     \u001b[38;5;28;01melse\u001b[39;00m:\n\u001b[0;32m   1347\u001b[0m         M_matvec \u001b[38;5;241m=\u001b[39m _aslinearoperator_with_dtype(M)\u001b[38;5;241m.\u001b[39mmatvec\n\u001b[1;32m-> 1349\u001b[0m params \u001b[38;5;241m=\u001b[39m \u001b[43m_UnsymmetricArpackParams\u001b[49m\u001b[43m(\u001b[49m\u001b[43mn\u001b[49m\u001b[43m,\u001b[49m\u001b[43m \u001b[49m\u001b[43mk\u001b[49m\u001b[43m,\u001b[49m\u001b[43m \u001b[49m\u001b[43mA\u001b[49m\u001b[38;5;241;43m.\u001b[39;49m\u001b[43mdtype\u001b[49m\u001b[38;5;241;43m.\u001b[39;49m\u001b[43mchar\u001b[49m\u001b[43m,\u001b[49m\u001b[43m \u001b[49m\u001b[43mmatvec\u001b[49m\u001b[43m,\u001b[49m\u001b[43m \u001b[49m\u001b[43mmode\u001b[49m\u001b[43m,\u001b[49m\n\u001b[0;32m   1350\u001b[0m \u001b[43m                                  \u001b[49m\u001b[43mM_matvec\u001b[49m\u001b[43m,\u001b[49m\u001b[43m \u001b[49m\u001b[43mMinv_matvec\u001b[49m\u001b[43m,\u001b[49m\u001b[43m \u001b[49m\u001b[43msigma\u001b[49m\u001b[43m,\u001b[49m\n\u001b[0;32m   1351\u001b[0m \u001b[43m                                  \u001b[49m\u001b[43mncv\u001b[49m\u001b[43m,\u001b[49m\u001b[43m \u001b[49m\u001b[43mv0\u001b[49m\u001b[43m,\u001b[49m\u001b[43m \u001b[49m\u001b[43mmaxiter\u001b[49m\u001b[43m,\u001b[49m\u001b[43m \u001b[49m\u001b[43mwhich\u001b[49m\u001b[43m,\u001b[49m\u001b[43m \u001b[49m\u001b[43mtol\u001b[49m\u001b[43m)\u001b[49m\n\u001b[0;32m   1353\u001b[0m \u001b[38;5;28;01mwith\u001b[39;00m _ARPACK_LOCK:\n\u001b[0;32m   1354\u001b[0m     \u001b[38;5;28;01mwhile\u001b[39;00m \u001b[38;5;129;01mnot\u001b[39;00m params\u001b[38;5;241m.\u001b[39mconverged:\n",
      "File \u001b[1;32mc:\\Users\\taoha\\anaconda3\\envs\\kans\\Lib\\site-packages\\scipy\\sparse\\linalg\\_eigen\\arpack\\arpack.py:704\u001b[0m, in \u001b[0;36m_UnsymmetricArpackParams.__init__\u001b[1;34m(self, n, k, tp, matvec, mode, M_matvec, Minv_matvec, sigma, ncv, v0, maxiter, which, tol)\u001b[0m\n\u001b[0;32m    702\u001b[0m \u001b[38;5;66;03m# Use _aligned_zeros to work around a f2py bug in Numpy 1.9.1\u001b[39;00m\n\u001b[0;32m    703\u001b[0m \u001b[38;5;28mself\u001b[39m\u001b[38;5;241m.\u001b[39mworkd \u001b[38;5;241m=\u001b[39m _aligned_zeros(\u001b[38;5;241m3\u001b[39m \u001b[38;5;241m*\u001b[39m n, \u001b[38;5;28mself\u001b[39m\u001b[38;5;241m.\u001b[39mtp)\n\u001b[1;32m--> 704\u001b[0m \u001b[38;5;28mself\u001b[39m\u001b[38;5;241m.\u001b[39mworkl \u001b[38;5;241m=\u001b[39m \u001b[43m_aligned_zeros\u001b[49m\u001b[43m(\u001b[49m\u001b[38;5;241;43m3\u001b[39;49m\u001b[43m \u001b[49m\u001b[38;5;241;43m*\u001b[39;49m\u001b[43m \u001b[49m\u001b[38;5;28;43mself\u001b[39;49m\u001b[38;5;241;43m.\u001b[39;49m\u001b[43mncv\u001b[49m\u001b[43m \u001b[49m\u001b[38;5;241;43m*\u001b[39;49m\u001b[43m \u001b[49m\u001b[43m(\u001b[49m\u001b[38;5;28;43mself\u001b[39;49m\u001b[38;5;241;43m.\u001b[39;49m\u001b[43mncv\u001b[49m\u001b[43m \u001b[49m\u001b[38;5;241;43m+\u001b[39;49m\u001b[43m \u001b[49m\u001b[38;5;241;43m2\u001b[39;49m\u001b[43m)\u001b[49m\u001b[43m,\u001b[49m\u001b[43m \u001b[49m\u001b[38;5;28;43mself\u001b[39;49m\u001b[38;5;241;43m.\u001b[39;49m\u001b[43mtp\u001b[49m\u001b[43m)\u001b[49m\n\u001b[0;32m    706\u001b[0m ltr \u001b[38;5;241m=\u001b[39m _type_conv[\u001b[38;5;28mself\u001b[39m\u001b[38;5;241m.\u001b[39mtp]\n\u001b[0;32m    707\u001b[0m \u001b[38;5;28mself\u001b[39m\u001b[38;5;241m.\u001b[39m_arpack_solver \u001b[38;5;241m=\u001b[39m _arpack\u001b[38;5;241m.\u001b[39m\u001b[38;5;18m__dict__\u001b[39m[ltr \u001b[38;5;241m+\u001b[39m \u001b[38;5;124m'\u001b[39m\u001b[38;5;124mnaupd\u001b[39m\u001b[38;5;124m'\u001b[39m]\n",
      "File \u001b[1;32mc:\\Users\\taoha\\anaconda3\\envs\\kans\\Lib\\site-packages\\scipy\\_lib\\_util.py:213\u001b[0m, in \u001b[0;36m_aligned_zeros\u001b[1;34m(shape, dtype, order, align)\u001b[0m\n\u001b[0;32m    211\u001b[0m     shape \u001b[38;5;241m=\u001b[39m (shape,)\n\u001b[0;32m    212\u001b[0m size \u001b[38;5;241m=\u001b[39m functools\u001b[38;5;241m.\u001b[39mreduce(operator\u001b[38;5;241m.\u001b[39mmul, shape) \u001b[38;5;241m*\u001b[39m dtype\u001b[38;5;241m.\u001b[39mitemsize\n\u001b[1;32m--> 213\u001b[0m buf \u001b[38;5;241m=\u001b[39m \u001b[43mnp\u001b[49m\u001b[38;5;241;43m.\u001b[39;49m\u001b[43mempty\u001b[49m\u001b[43m(\u001b[49m\u001b[43msize\u001b[49m\u001b[43m \u001b[49m\u001b[38;5;241;43m+\u001b[39;49m\u001b[43m \u001b[49m\u001b[43malign\u001b[49m\u001b[43m \u001b[49m\u001b[38;5;241;43m+\u001b[39;49m\u001b[43m \u001b[49m\u001b[38;5;241;43m1\u001b[39;49m\u001b[43m,\u001b[49m\u001b[43m \u001b[49m\u001b[43mnp\u001b[49m\u001b[38;5;241;43m.\u001b[39;49m\u001b[43muint8\u001b[49m\u001b[43m)\u001b[49m\n\u001b[0;32m    214\u001b[0m offset \u001b[38;5;241m=\u001b[39m buf\u001b[38;5;241m.\u001b[39m__array_interface__[\u001b[38;5;124m'\u001b[39m\u001b[38;5;124mdata\u001b[39m\u001b[38;5;124m'\u001b[39m][\u001b[38;5;241m0\u001b[39m] \u001b[38;5;241m%\u001b[39m align\n\u001b[0;32m    215\u001b[0m \u001b[38;5;28;01mif\u001b[39;00m offset \u001b[38;5;241m!=\u001b[39m \u001b[38;5;241m0\u001b[39m:\n",
      "\u001b[1;31mMemoryError\u001b[0m: Unable to allocate 12.0 GiB for an array with shape (12886474761,) and data type uint8"
     ]
    }
   ],
   "source": [
    "eigs = h.eigenstates(sparse=True)"
   ]
  },
  {
   "cell_type": "code",
   "execution_count": null,
   "id": "28e021a7",
   "metadata": {},
   "outputs": [],
   "source": []
  }
 ],
 "metadata": {
  "kernelspec": {
   "display_name": "kans",
   "language": "python",
   "name": "python3"
  },
  "language_info": {
   "codemirror_mode": {
    "name": "ipython",
    "version": 3
   },
   "file_extension": ".py",
   "mimetype": "text/x-python",
   "name": "python",
   "nbconvert_exporter": "python",
   "pygments_lexer": "ipython3",
   "version": "3.12.5"
  }
 },
 "nbformat": 4,
 "nbformat_minor": 5
}
