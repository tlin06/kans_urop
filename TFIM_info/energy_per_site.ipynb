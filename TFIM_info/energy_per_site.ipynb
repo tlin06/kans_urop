{
 "cells": [
  {
   "cell_type": "code",
   "execution_count": 1,
   "metadata": {},
   "outputs": [],
   "source": [
    "import numpy as np\n",
    "import qutip as qt\n",
    "from libraries import lib\n",
    "from libraries.NeuralStates import *\n",
    "import matplotlib.pyplot as plt"
   ]
  },
  {
   "cell_type": "code",
   "execution_count": 2,
   "metadata": {},
   "outputs": [],
   "source": [
    "def ground_state_energy_per_site(h_t, N):\n",
    "    Ps = 0.5 * np.arange(- (N - 1), N - 1 + 2, 2)\n",
    "    Ps = Ps * 2 * np.pi / N\n",
    "    energies_p_modes = np.array([energy_single_p_mode(h_t, P) for P in Ps])\n",
    "    return - 1 / N * np.sum(energies_p_modes)\n",
    "def energy_single_p_mode(h_t, P):\n",
    "    return np.sqrt(1 + h_t**2 - 2 * h_t * np.cos(P))"
   ]
  },
  {
   "cell_type": "code",
   "execution_count": 3,
   "metadata": {},
   "outputs": [
    {
     "name": "stdout",
     "output_type": "stream",
     "text": [
      "-20.09975124224178\n",
      "-20.09975124224176\n"
     ]
    }
   ],
   "source": [
    "N = 2; h = 10\n",
    "print(ground_state_energy_per_site(h, N) * N)\n",
    "print(lib.TFIM_hamiltonian(N, 1, h).eigenstates()[0][0])"
   ]
  },
  {
   "cell_type": "code",
   "execution_count": 4,
   "metadata": {},
   "outputs": [
    {
     "data": {
      "text/plain": [
       "np.float64(-12.784906442999326)"
      ]
     },
     "execution_count": 4,
     "metadata": {},
     "output_type": "execute_result"
    }
   ],
   "source": [
    "N = 10; h = 1\n",
    "ground_state_energy_per_site(h, N) * N"
   ]
  },
  {
   "cell_type": "code",
   "execution_count": 5,
   "metadata": {},
   "outputs": [
    {
     "data": {
      "text/plain": [
       "np.float64(-12.784906442999324)"
      ]
     },
     "execution_count": 5,
     "metadata": {},
     "output_type": "execute_result"
    }
   ],
   "source": [
    "lib.TFIM_hamiltonian(N, 1, h).eigenstates()[0][0]"
   ]
  },
  {
   "cell_type": "code",
   "execution_count": 6,
   "metadata": {},
   "outputs": [
    {
     "name": "stdout",
     "output_type": "stream",
     "text": [
      "-10.025015664234306\n",
      "-10.025015664234315\n"
     ]
    }
   ],
   "source": [
    "h = 0.1\n",
    "print(ground_state_energy_per_site(h, N) * N)\n",
    "print(lib.TFIM_hamiltonian(N, 1, h).eigenstates()[0][0])"
   ]
  },
  {
   "cell_type": "code",
   "execution_count": 7,
   "metadata": {},
   "outputs": [
    {
     "name": "stdout",
     "output_type": "stream",
     "text": [
      "-100.25015664234306\n",
      "-100.25015664234304\n"
     ]
    }
   ],
   "source": [
    "h = 10\n",
    "print(ground_state_energy_per_site(h, N) * N)\n",
    "print(lib.TFIM_hamiltonian(N, 1, h).eigenstates()[0][0])"
   ]
  },
  {
   "cell_type": "code",
   "execution_count": 8,
   "metadata": {},
   "outputs": [
    {
     "data": {
      "text/plain": [
       "np.float64(-25.49098968636475)"
      ]
     },
     "execution_count": 8,
     "metadata": {},
     "output_type": "execute_result"
    }
   ],
   "source": [
    "ground_state_energy_per_site(1, 20) * 20"
   ]
  },
  {
   "cell_type": "code",
   "execution_count": 9,
   "metadata": {},
   "outputs": [
    {
     "data": {
      "text/plain": [
       "np.float64(-20.05003132843168)"
      ]
     },
     "execution_count": 9,
     "metadata": {},
     "output_type": "execute_result"
    }
   ],
   "source": [
    "ground_state_energy_per_site(0.1, 20) * 20"
   ]
  },
  {
   "cell_type": "code",
   "execution_count": 10,
   "metadata": {},
   "outputs": [
    {
     "data": {
      "text/plain": [
       "np.float64(-200.50031328431683)"
      ]
     },
     "execution_count": 10,
     "metadata": {},
     "output_type": "execute_result"
    }
   ],
   "source": [
    "ground_state_energy_per_site(10, 20) * 20"
   ]
  },
  {
   "cell_type": "code",
   "execution_count": 13,
   "metadata": {},
   "outputs": [
    {
     "name": "stdout",
     "output_type": "stream",
     "text": [
      "actual [ -2.82842712  -4.          -5.22625186  -6.47213595  -7.72740661\n",
      "  -8.98791841 -10.25166179 -11.51754097 -12.78490644]\n",
      "calcs [ -2.82842712  -3.46410162  -5.22625186  -6.15536707  -7.72740661\n",
      "  -8.76257254 -10.25166179 -11.34256364 -12.78490644]\n"
     ]
    },
    {
     "data": {
      "text/plain": [
       "[<matplotlib.lines.Line2D at 0x176246383e0>]"
      ]
     },
     "execution_count": 13,
     "metadata": {},
     "output_type": "execute_result"
    },
    {
     "data": {
      "image/png": "[encoded data removed]",
      "text/plain": [
       "<Figure size 640x480 with 1 Axes>"
      ]
     },
     "metadata": {},
     "output_type": "display_data"
    }
   ],
   "source": [
    "J = 1; Gamma = 1\n",
    "ns = [n for n in range(2, 11)]\n",
    "actuals = []\n",
    "calcs = []\n",
    "for n in ns:\n",
    "    actuals.append(lib.TFIM_hamiltonian(n, J, Gamma).eigenstates()[0][0])\n",
    "    calcs.append(n * ground_state_energy_per_site(Gamma, n))\n",
    "actuals = np.array(actuals)\n",
    "calcs = np.array(calcs)\n",
    "print('actual', actuals)\n",
    "print('calcs', calcs)\n",
    "plt.plot(ns, (actuals - calcs) ** 2)"
   ]
  },
  {
   "cell_type": "code",
   "execution_count": null,
   "metadata": {},
   "outputs": [
    {
     "name": "stdout",
     "output_type": "stream",
     "text": [
      "N=6, h=0.1 has GSE=-10.025015664234306\n",
      "N=6, h=1 has GSE=-12.784906442999326\n",
      "N=6, h=10 has GSE=-100.25015664234306\n",
      "N=10, h=0.1 has GSE=-10.025015664234306\n",
      "N=10, h=1 has GSE=-12.784906442999326\n",
      "N=10, h=10 has GSE=-100.25015664234306\n",
      "N=20, h=0.1 has GSE=-10.025015664234306\n",
      "N=20, h=1 has GSE=-12.784906442999326\n",
      "N=20, h=10 has GSE=-100.25015664234306\n"
     ]
    }
   ],
   "source": [
    "for N in [6, 10, 20]:\n",
    "    for h in [0.1, 1, 10]:\n",
    "        print(f\"N={N}, h={h} has GSE={lib.ground_state_energy(h, N)}\")"
   ]
  },
  {
   "cell_type": "code",
   "execution_count": null,
   "metadata": {},
   "outputs": [],
   "source": []
  }
 ],
 "metadata": {
  "kernelspec": {
   "display_name": "kans",
   "language": "python",
   "name": "python3"
  },
  "language_info": {
   "codemirror_mode": {
    "name": "ipython",
    "version": 3
   },
   "file_extension": ".py",
   "mimetype": "text/x-python",
   "name": "python",
   "nbconvert_exporter": "python",
   "pygments_lexer": "ipython3",
   "version": "3.12.5"
  }
 },
 "nbformat": 4,
 "nbformat_minor": 2
}
