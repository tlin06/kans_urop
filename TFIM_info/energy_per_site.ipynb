{
 "cells": [
  {
   "cell_type": "code",
   "execution_count": 28,
   "metadata": {},
   "outputs": [],
   "source": [
    "import numpy as np\n",
    "import qutip as qt\n",
    "from libraries import lib\n",
    "from libraries.NeuralStates import *"
   ]
  },
  {
   "cell_type": "code",
   "execution_count": 29,
   "metadata": {},
   "outputs": [],
   "source": [
    "def ground_state_energy_per_site(h_t, N):\n",
    "    Ps = 0.5 * np.arange(- (N - 1), N - 1 + 2, 2)\n",
    "    Ps = Ps * 2 * np.pi / N\n",
    "    energies_p_modes = np.array([energy_single_p_mode(h_t, P) for P in Ps])\n",
    "    return - 1 / N * np.sum(energies_p_modes)\n",
    "def energy_single_p_mode(h_t, P):\n",
    "    return np.sqrt(1 + h_t**2 - 2 * h_t * np.cos(P))"
   ]
  },
  {
   "cell_type": "code",
   "execution_count": 33,
   "metadata": {},
   "outputs": [
    {
     "name": "stdout",
     "output_type": "stream",
     "text": [
      "-20.09975124224178\n",
      "-20.09975124224176\n"
     ]
    }
   ],
   "source": [
    "N = 2; h = 10\n",
    "print(ground_state_energy_per_site(h, N) * N)\n",
    "print(lib.TFIM_hamiltonian(N, 1, h).eigenstates()[0][0])"
   ]
  },
  {
   "cell_type": "code",
   "execution_count": 13,
   "metadata": {},
   "outputs": [
    {
     "data": {
      "text/plain": [
       "np.float64(-12.784906442999326)"
      ]
     },
     "execution_count": 13,
     "metadata": {},
     "output_type": "execute_result"
    }
   ],
   "source": [
    "N = 10; h = 1\n",
    "ground_state_energy_per_site(h, N) * N"
   ]
  },
  {
   "cell_type": "code",
   "execution_count": 14,
   "metadata": {},
   "outputs": [
    {
     "data": {
      "text/plain": [
       "np.float64(-12.784906442999324)"
      ]
     },
     "execution_count": 14,
     "metadata": {},
     "output_type": "execute_result"
    }
   ],
   "source": [
    "lib.TFIM_hamiltonian(N, 1, h).eigenstates()[0][0]"
   ]
  },
  {
   "cell_type": "code",
   "execution_count": 15,
   "metadata": {},
   "outputs": [
    {
     "name": "stdout",
     "output_type": "stream",
     "text": [
      "-10.025015664234306\n",
      "-10.025015664234315\n"
     ]
    }
   ],
   "source": [
    "h = 0.1\n",
    "print(ground_state_energy_per_site(h, N) * N)\n",
    "print(lib.TFIM_hamiltonian(N, 1, h).eigenstates()[0][0])"
   ]
  },
  {
   "cell_type": "code",
   "execution_count": 6,
   "metadata": {},
   "outputs": [
    {
     "name": "stdout",
     "output_type": "stream",
     "text": [
      "-100.25015664234306\n",
      "-100.25015664234304\n"
     ]
    }
   ],
   "source": [
    "h = 10\n",
    "print(ground_state_energy_per_site(h, N) * N)\n",
    "print(lib.TFIM_hamiltonian(N, 1, h).eigenstates()[0][0])"
   ]
  },
  {
   "cell_type": "code",
   "execution_count": 8,
   "metadata": {},
   "outputs": [
    {
     "data": {
      "text/plain": [
       "np.float64(-25.49098968636475)"
      ]
     },
     "execution_count": 8,
     "metadata": {},
     "output_type": "execute_result"
    }
   ],
   "source": [
    "ground_state_energy_per_site(1, 20) * 20"
   ]
  },
  {
   "cell_type": "code",
   "execution_count": 9,
   "metadata": {},
   "outputs": [
    {
     "data": {
      "text/plain": [
       "np.float64(-20.05003132843168)"
      ]
     },
     "execution_count": 9,
     "metadata": {},
     "output_type": "execute_result"
    }
   ],
   "source": [
    "ground_state_energy_per_site(0.1, 20) * 20"
   ]
  },
  {
   "cell_type": "code",
   "execution_count": 10,
   "metadata": {},
   "outputs": [
    {
     "data": {
      "text/plain": [
       "np.float64(-200.50031328431683)"
      ]
     },
     "execution_count": 10,
     "metadata": {},
     "output_type": "execute_result"
    }
   ],
   "source": [
    "ground_state_energy_per_site(10, 20) * 20"
   ]
  },
  {
   "cell_type": "code",
   "execution_count": null,
   "metadata": {},
   "outputs": [],
   "source": []
  }
 ],
 "metadata": {
  "kernelspec": {
   "display_name": "kans",
   "language": "python",
   "name": "python3"
  },
  "language_info": {
   "codemirror_mode": {
    "name": "ipython",
    "version": 3
   },
   "file_extension": ".py",
   "mimetype": "text/x-python",
   "name": "python",
   "nbconvert_exporter": "python",
   "pygments_lexer": "ipython3",
   "version": "3.12.5"
  }
 },
 "nbformat": 4,
 "nbformat_minor": 2
}
