{
 "cells": [
  {
   "cell_type": "code",
   "execution_count": 1,
   "metadata": {},
   "outputs": [],
   "source": [
    "from libraries import lib\n",
    "from libraries.NeuralStates import *\n",
    "import numpy as np\n",
    "import matplotlib.pyplot as plt\n",
    "from scipy import stats"
   ]
  },
  {
   "cell_type": "code",
   "execution_count": 2,
   "metadata": {},
   "outputs": [],
   "source": [
    "N=10; J=1; Gamma=1\n",
    "states = [n for n in range(2**N)]"
   ]
  },
  {
   "cell_type": "code",
   "execution_count": 4,
   "metadata": {},
   "outputs": [
    {
     "data": {
      "text/latex": [
       "Quantum object: dims=[[2, 2, 2, 2, 2, 2, 2, 2, 2, 2], [1, 1, 1, 1, 1, 1, 1, 1, 1, 1]], shape=(1024, 1), type='ket', dtype=Dense$$\\left(\\begin{array}{cc}0.411\\\\0.114\\\\0.114\\\\0.067\\\\0.114\\\\\\vdots\\\\0.114\\\\0.067\\\\0.114\\\\0.114\\\\0.411\\end{array}\\right)$$"
      ],
      "text/plain": [
       "Quantum object: dims=[[2, 2, 2, 2, 2, 2, 2, 2, 2, 2], [1, 1, 1, 1, 1, 1, 1, 1, 1, 1]], shape=(1024, 1), type='ket', dtype=Dense\n",
       "Qobj data =\n",
       "[[0.41058428]\n",
       " [0.11434388]\n",
       " [0.11434388]\n",
       " ...\n",
       " [0.11434388]\n",
       " [0.11434388]\n",
       " [0.41058428]]"
      ]
     },
     "execution_count": 4,
     "metadata": {},
     "output_type": "execute_result"
    }
   ],
   "source": [
    "H = lib.TFIM_hamiltonian(N, J, Gamma)\n",
    "eigs = H.eigenstates()\n",
    "gs = eigs[1][0]\n",
    "gs"
   ]
  },
  {
   "cell_type": "code",
   "execution_count": 6,
   "metadata": {},
   "outputs": [],
   "source": [
    "elocs = []\n",
    "for x in states:\n",
    "    eloc = 0\n",
    "    for xprime in lib.generate_adjacencies(x, N):\n",
    "        eloc += lib.calc_H_elem(N, J, Gamma, x, xprime) * gs[xprime][0] / gs[x][0]\n",
    "    elocs.append(eloc)\n",
    "elocs = np.array(elocs)"
   ]
  },
  {
   "cell_type": "code",
   "execution_count": 7,
   "metadata": {},
   "outputs": [
    {
     "name": "stderr",
     "output_type": "stream",
     "text": [
      "c:\\Users\\taoha\\anaconda3\\envs\\kans\\Lib\\site-packages\\matplotlib\\cbook.py:1762: ComplexWarning: Casting complex values to real discards the imaginary part\n",
      "  return math.isfinite(val)\n",
      "c:\\Users\\taoha\\anaconda3\\envs\\kans\\Lib\\site-packages\\matplotlib\\cbook.py:1398: ComplexWarning: Casting complex values to real discards the imaginary part\n",
      "  return np.asarray(x, float)\n"
     ]
    },
    {
     "data": {
      "image/png": "[encoded data removed]",
      "text/plain": [
       "<Figure size 640x480 with 1 Axes>"
      ]
     },
     "metadata": {},
     "output_type": "display_data"
    }
   ],
   "source": [
    "plt.plot(states, elocs)\n",
    "plt.plot(states, abs(gs.full().flatten()))\n",
    "plt.show()"
   ]
  },
  {
   "cell_type": "code",
   "execution_count": 8,
   "metadata": {},
   "outputs": [
    {
     "data": {
      "text/plain": [
       "np.float64(-12.784906442999324)"
      ]
     },
     "execution_count": 8,
     "metadata": {},
     "output_type": "execute_result"
    }
   ],
   "source": [
    "eigs[0][0]"
   ]
  },
  {
   "cell_type": "code",
   "execution_count": 9,
   "metadata": {},
   "outputs": [
    {
     "data": {
      "text/plain": [
       "np.complex128(-12.78490644299932+0j)"
      ]
     },
     "execution_count": 9,
     "metadata": {},
     "output_type": "execute_result"
    }
   ],
   "source": [
    "elocs.mean()"
   ]
  },
  {
   "cell_type": "code",
   "execution_count": 10,
   "metadata": {},
   "outputs": [
    {
     "name": "stdout",
     "output_type": "stream",
     "text": [
      "(-12.784906442999333+0j)\n"
     ]
    }
   ],
   "source": [
    "expect_elocs = 0\n",
    "for x in states:\n",
    "    expect_elocs += elocs[x] * abs(gs[x][0]) ** 2\n",
    "print(expect_elocs)"
   ]
  },
  {
   "cell_type": "code",
   "execution_count": 11,
   "metadata": {},
   "outputs": [
    {
     "data": {
      "text/plain": [
       "np.float64(0.9999999999999997)"
      ]
     },
     "execution_count": 11,
     "metadata": {},
     "output_type": "execute_result"
    }
   ],
   "source": [
    "sum(abs(gs[x][0]) ** 2 for x in states)"
   ]
  },
  {
   "cell_type": "code",
   "execution_count": 12,
   "metadata": {},
   "outputs": [
    {
     "data": {
      "text/plain": [
       "(-12.784906442999333+0j)"
      ]
     },
     "execution_count": 12,
     "metadata": {},
     "output_type": "execute_result"
    }
   ],
   "source": [
    "gs.dag() @ lib.TFIM_hamiltonian(N, J, Gamma) @ gs"
   ]
  },
  {
   "cell_type": "code",
   "execution_count": 13,
   "metadata": {},
   "outputs": [],
   "source": [
    "H_full = H.full()"
   ]
  },
  {
   "cell_type": "code",
   "execution_count": 14,
   "metadata": {},
   "outputs": [
    {
     "name": "stdout",
     "output_type": "stream",
     "text": [
      "(-12.784906442999178+0j)\n"
     ]
    }
   ],
   "source": [
    "psi_h_psi = 0\n",
    "for x in states:\n",
    "    for xprime in lib.generate_adjacencies(x, N):\n",
    "        psi_h_psi += gs[x][0].conj() * H_full[x][xprime]  * gs[xprime][0]\n",
    "print(psi_h_psi)"
   ]
  },
  {
   "cell_type": "code",
   "execution_count": 15,
   "metadata": {},
   "outputs": [
    {
     "name": "stdout",
     "output_type": "stream",
     "text": [
      "(-12.784906442999178+0j)\n"
     ]
    }
   ],
   "source": [
    "psi_h_psi = 0\n",
    "for x in states:\n",
    "    for xprime in lib.generate_adjacencies(x, N):\n",
    "        psi_h_psi += gs[x][0].conj() * lib.calc_H_elem(N, J, Gamma, x, xprime) * gs[xprime][0]\n",
    "print(psi_h_psi)"
   ]
  },
  {
   "cell_type": "code",
   "execution_count": null,
   "metadata": {},
   "outputs": [],
   "source": []
  }
 ],
 "metadata": {
  "kernelspec": {
   "display_name": "kans",
   "language": "python",
   "name": "python3"
  },
  "language_info": {
   "codemirror_mode": {
    "name": "ipython",
    "version": 3
   },
   "file_extension": ".py",
   "mimetype": "text/x-python",
   "name": "python",
   "nbconvert_exporter": "python",
   "pygments_lexer": "ipython3",
   "version": "3.12.5"
  }
 },
 "nbformat": 4,
 "nbformat_minor": 2
}
