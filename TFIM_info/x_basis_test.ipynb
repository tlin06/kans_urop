{
 "cells": [
  {
   "cell_type": "code",
   "execution_count": 1,
   "metadata": {},
   "outputs": [],
   "source": [
    "import qutip as qt\n",
    "import math\n",
    "from libraries import lib\n",
    "import numpy as np"
   ]
  },
  {
   "cell_type": "code",
   "execution_count": 2,
   "metadata": {},
   "outputs": [
    {
     "data": {
      "text/latex": [
       "Quantum object: dims=[[4], [1]], shape=(4, 1), type='ket', dtype=Dense$$\\left(\\begin{array}{cc}1\\\\0\\\\0\\\\0\\end{array}\\right)$$"
      ],
      "text/plain": [
       "Quantum object: dims=[[4], [1]], shape=(4, 1), type='ket', dtype=Dense\n",
       "Qobj data =\n",
       "[[1.]\n",
       " [0.]\n",
       " [0.]\n",
       " [0.]]"
      ]
     },
     "execution_count": 2,
     "metadata": {},
     "output_type": "execute_result"
    }
   ],
   "source": [
    "s00 = qt.basis(4, 0)\n",
    "s00"
   ]
  },
  {
   "cell_type": "code",
   "execution_count": 3,
   "metadata": {},
   "outputs": [
    {
     "data": {
      "text/latex": [
       "Quantum object: dims=[[2, 2], [1, 1]], shape=(4, 1), type='ket', dtype=Dense$$\\left(\\begin{array}{cc}0.707\\\\0\\\\0\\\\0.707\\end{array}\\right)$$"
      ],
      "text/plain": [
       "Quantum object: dims=[[2, 2], [1, 1]], shape=(4, 1), type='ket', dtype=Dense\n",
       "Qobj data =\n",
       "[[0.70710678]\n",
       " [0.        ]\n",
       " [0.        ]\n",
       " [0.70710678]]"
      ]
     },
     "execution_count": 3,
     "metadata": {},
     "output_type": "execute_result"
    }
   ],
   "source": [
    "qt.bell_state()"
   ]
  },
  {
   "cell_type": "code",
   "execution_count": 4,
   "metadata": {},
   "outputs": [],
   "source": [
    "xplus = 1/math.sqrt(2) * (qt.basis(2, 0) + qt.basis(2, 1))\n",
    "xminus = 1/math.sqrt(2) * (qt.basis(2, 0) - qt.basis(2, 1))"
   ]
  },
  {
   "cell_type": "code",
   "execution_count": 5,
   "metadata": {},
   "outputs": [
    {
     "data": {
      "text/latex": [
       "Quantum object: dims=[[4], [1]], shape=(4, 1), type='ket', dtype=Dense$$\\left(\\begin{array}{cc}0.500\\\\0.500\\\\0.500\\\\0.500\\end{array}\\right)$$"
      ],
      "text/plain": [
       "Quantum object: dims=[[4], [1]], shape=(4, 1), type='ket', dtype=Dense\n",
       "Qobj data =\n",
       "[[0.5]\n",
       " [0.5]\n",
       " [0.5]\n",
       " [0.5]]"
      ]
     },
     "execution_count": 5,
     "metadata": {},
     "output_type": "execute_result"
    }
   ],
   "source": [
    "s00.transform([qt.tensor([xplus, xplus]), qt.tensor([xplus, xminus]), qt.tensor([xminus, xplus]), qt.tensor([xminus, xminus])])"
   ]
  },
  {
   "cell_type": "code",
   "execution_count": 6,
   "metadata": {},
   "outputs": [
    {
     "data": {
      "text/plain": [
       "np.complex128(1+0j)"
      ]
     },
     "execution_count": 6,
     "metadata": {},
     "output_type": "execute_result"
    }
   ],
   "source": [
    "s00[0][0]"
   ]
  },
  {
   "cell_type": "code",
   "execution_count": 7,
   "metadata": {},
   "outputs": [],
   "source": [
    "def absolute_z_magnetization(N, psi):\n",
    "    total_mag = 0\n",
    "    dim = 2 ** N\n",
    "    for basis_vec in range(dim):\n",
    "        down_spins = lib.count_magnetization(basis_vec)\n",
    "        total_mag += abs(abs(psi[basis_vec]) ** 2 * ((N - down_spins) - down_spins))\n",
    "    return total_mag\n",
    "\n",
    "def signed_z_magnetization(N, psi):\n",
    "    total_mag = 0\n",
    "    dim = 2 ** N\n",
    "    for basis_vec in range(dim):\n",
    "        down_spins = lib.count_magnetization(basis_vec)\n",
    "        total_mag += abs(psi[basis_vec]) ** 2 * ((N - down_spins) - down_spins)\n",
    "    return total_mag\n",
    "\n",
    "def z_expect(N, psi): # THIS IS WRONG\n",
    "    op = qt.tensor([qt.sigmaz()] * N)\n",
    "    op.dims = [2 ** N, 2 ** N]\n",
    "    return psi.dag() * op * psi# psi.dag().full() @ qt.tensor([qt.sigmax()] * N).full() @ psi.full()"
   ]
  },
  {
   "cell_type": "code",
   "execution_count": 8,
   "metadata": {},
   "outputs": [
    {
     "name": "stdout",
     "output_type": "stream",
     "text": [
      "Quantum object: dims=[[4], [1]], shape=(4, 1), type='ket', dtype=Dense\n",
      "Qobj data =\n",
      "[[ 0.57777759+0.17879549j]\n",
      " [-0.50298006+0.16461559j]\n",
      " [-0.51884306-0.25669347j]\n",
      " [-0.13744837+0.01167426j]]\n",
      "[0.69353285]\n",
      "(-0.23035377562873827+0j)\n"
     ]
    }
   ],
   "source": [
    "N = 2\n",
    "random = qt.rand_ket(2 ** N)\n",
    "print(random)\n",
    "print(signed_z_magnetization(N, random))\n",
    "print(z_expect(N, random))"
   ]
  },
  {
   "cell_type": "code",
   "execution_count": 9,
   "metadata": {},
   "outputs": [
    {
     "name": "stdout",
     "output_type": "stream",
     "text": [
      "[[2.+0.j]]\n",
      "[[0.+0.j]]\n",
      "[[0.+0.j]]\n",
      "[[-2.+0.j]]\n"
     ]
    }
   ],
   "source": [
    "for n in range(0, 4):\n",
    "    print(qt.basis(4, n).dag().full() @ (qt.tensor([qt.sigmaz(), qt.qeye(2)]) + qt.tensor([qt.qeye(2), qt.sigmaz()])).full() @ qt.basis(4, n).full())"
   ]
  },
  {
   "cell_type": "code",
   "execution_count": 10,
   "metadata": {},
   "outputs": [
    {
     "name": "stdout",
     "output_type": "stream",
     "text": [
      "[2.]\n",
      "[0.]\n",
      "[0.]\n",
      "[-2.]\n"
     ]
    }
   ],
   "source": [
    "for n in range(0, 4):\n",
    "    print(signed_z_magnetization(2, qt.basis(4, n)) )"
   ]
  },
  {
   "cell_type": "code",
   "execution_count": 11,
   "metadata": {},
   "outputs": [
    {
     "name": "stdout",
     "output_type": "stream",
     "text": [
      "[2.]\n",
      "[0.]\n",
      "[0.]\n",
      "[2.]\n"
     ]
    }
   ],
   "source": [
    "for n in range(0, 4):\n",
    "    print(absolute_z_magnetization(2, qt.basis(4, n)))"
   ]
  },
  {
   "cell_type": "code",
   "execution_count": 12,
   "metadata": {},
   "outputs": [
    {
     "data": {
      "text/latex": [
       "Quantum object: dims=[[2], [2]], shape=(2, 2), type='oper', dtype=Dense, isherm=True$$\\left(\\begin{array}{cc}1 & 0\\\\0 & 0\\end{array}\\right)$$"
      ],
      "text/plain": [
       "Quantum object: dims=[[2], [2]], shape=(2, 2), type='oper', dtype=Dense, isherm=True\n",
       "Qobj data =\n",
       "[[1. 0.]\n",
       " [0. 0.]]"
      ]
     },
     "execution_count": 12,
     "metadata": {},
     "output_type": "execute_result"
    }
   ],
   "source": [
    "op = qt.Qobj([[1, 0], [0, 0]])\n",
    "op"
   ]
  },
  {
   "cell_type": "code",
   "execution_count": 13,
   "metadata": {},
   "outputs": [
    {
     "name": "stdout",
     "output_type": "stream",
     "text": [
      "[[2.+0.j]]\n",
      "[[1.+0.j]]\n",
      "[[1.+0.j]]\n",
      "[[0.+0.j]]\n"
     ]
    }
   ],
   "source": [
    "for n in range(0, 4):\n",
    "    print(qt.basis(4, n).dag().full() @ (qt.tensor([op, qt.qeye(2)]) + qt.tensor([qt.qeye(2), op])).full() @ qt.basis(4, n).full())"
   ]
  },
  {
   "cell_type": "code",
   "execution_count": 14,
   "metadata": {},
   "outputs": [],
   "source": [
    "# check that for x - expect, transform into x basis and then count magnetization is the same as using operator\n",
    "def z_to_x(N, psi):\n",
    "    dim = 2 ** N\n",
    "    basis = []\n",
    "    for i in range(dim):\n",
    "        basis.append(qt.tensor([[xplus, xminus][(i >> (N - k - 1)) & 1] for k in range(0, N)]))\n",
    "    return psi.transform(basis)"
   ]
  },
  {
   "cell_type": "code",
   "execution_count": 15,
   "metadata": {},
   "outputs": [
    {
     "data": {
      "text/latex": [
       "Quantum object: dims=[[8], [1]], shape=(8, 1), type='ket', dtype=Dense$$\\left(\\begin{array}{cc}0.354\\\\0.354\\\\0.354\\\\0.354\\\\-0.354\\\\-0.354\\\\-0.354\\\\-0.354\\end{array}\\right)$$"
      ],
      "text/plain": [
       "Quantum object: dims=[[8], [1]], shape=(8, 1), type='ket', dtype=Dense\n",
       "Qobj data =\n",
       "[[ 0.35355339]\n",
       " [ 0.35355339]\n",
       " [ 0.35355339]\n",
       " [ 0.35355339]\n",
       " [-0.35355339]\n",
       " [-0.35355339]\n",
       " [-0.35355339]\n",
       " [-0.35355339]]"
      ]
     },
     "execution_count": 15,
     "metadata": {},
     "output_type": "execute_result"
    }
   ],
   "source": [
    "z_to_x(3, qt.basis(8, 4))"
   ]
  },
  {
   "cell_type": "code",
   "execution_count": 16,
   "metadata": {},
   "outputs": [
    {
     "data": {
      "text/latex": [
       "Quantum object: dims=[[4], [1]], shape=(4, 1), type='ket', dtype=Dense$$\\left(\\begin{array}{cc}0.500\\\\0.500\\\\-0.500\\\\-0.500\\end{array}\\right)$$"
      ],
      "text/plain": [
       "Quantum object: dims=[[4], [1]], shape=(4, 1), type='ket', dtype=Dense\n",
       "Qobj data =\n",
       "[[ 0.5]\n",
       " [ 0.5]\n",
       " [-0.5]\n",
       " [-0.5]]"
      ]
     },
     "execution_count": 16,
     "metadata": {},
     "output_type": "execute_result"
    }
   ],
   "source": [
    "qt.basis(4, 2).transform([qt.tensor([xplus, xplus]), qt.tensor([xplus, xminus]), qt.tensor([xminus, xplus]), qt.tensor([xminus, xminus])])"
   ]
  },
  {
   "cell_type": "code",
   "execution_count": 30,
   "metadata": {},
   "outputs": [],
   "source": [
    "def calc_x_1(N, psi):\n",
    "    x_psi = z_to_x(N, psi)\n",
    "    return lib.z_magnetization(N, x_psi, signed = True)\n",
    "def calc_x_2(N, psi):\n",
    "    sxis = []\n",
    "    for i in range(N):\n",
    "        op_list = [qt.qeye(2)] * N\n",
    "        op_list[i] = qt.sigmax()\n",
    "        sxis.append(qt.tensor(op_list))\n",
    "    final_op = sum(sxis)\n",
    "    final_op.dims = [2 ** N, 2 ** N]\n",
    "    return (psi.dag() * final_op * psi).real"
   ]
  },
  {
   "cell_type": "code",
   "execution_count": 31,
   "metadata": {},
   "outputs": [
    {
     "name": "stdout",
     "output_type": "stream",
     "text": [
      "Quantum object: dims=[[np.int64(32)], [1]], shape=(32, 1), type='ket', dtype=Dense\n",
      "Qobj data =\n",
      "[[-0.15241334-0.20150079j]\n",
      " [ 0.03088322-0.19394474j]\n",
      " [-0.00744368+0.00835743j]\n",
      " [-0.13948192+0.14968131j]\n",
      " [-0.03782846+0.02514129j]\n",
      " [ 0.00842107-0.18348726j]\n",
      " [ 0.01795321+0.16603519j]\n",
      " [ 0.06932171+0.15413838j]\n",
      " [ 0.1316942 +0.19106579j]\n",
      " [-0.01541386-0.13246297j]\n",
      " [ 0.17973153-0.0140569j ]\n",
      " [-0.05701454-0.16364619j]\n",
      " [ 0.2842929 +0.05217469j]\n",
      " [ 0.07119234+0.03282612j]\n",
      " [-0.01224094+0.01080121j]\n",
      " [ 0.09490266+0.12045535j]\n",
      " [-0.03053226+0.19614492j]\n",
      " [-0.21205603+0.03413053j]\n",
      " [ 0.01891619-0.31470876j]\n",
      " [-0.07236792-0.02881111j]\n",
      " [-0.18320877-0.07531551j]\n",
      " [ 0.18385117-0.09613738j]\n",
      " [-0.15785521+0.00354079j]\n",
      " [ 0.10961594+0.05975522j]\n",
      " [-0.02313002-0.2140796j ]\n",
      " [ 0.02542404+0.00068535j]\n",
      " [ 0.15179367+0.04407655j]\n",
      " [ 0.07242617+0.13460161j]\n",
      " [ 0.11785194+0.12656268j]\n",
      " [-0.03780954+0.06693053j]\n",
      " [-0.13417914-0.12836565j]\n",
      " [ 0.17894623-0.06510113j]]\n",
      "[-0.41227393]\n",
      "-0.4122739265185646\n"
     ]
    }
   ],
   "source": [
    "N = 5\n",
    "random = qt.rand_ket(2 ** N)\n",
    "print(random)\n",
    "print(calc_x_1(N, random))\n",
    "print(calc_x_2(N, random))"
   ]
  },
  {
   "cell_type": "code",
   "execution_count": null,
   "metadata": {},
   "outputs": [],
   "source": [
    "# did not test absolute operator method here"
   ]
  }
 ],
 "metadata": {
  "kernelspec": {
   "display_name": "kans",
   "language": "python",
   "name": "python3"
  },
  "language_info": {
   "codemirror_mode": {
    "name": "ipython",
    "version": 3
   },
   "file_extension": ".py",
   "mimetype": "text/x-python",
   "name": "python",
   "nbconvert_exporter": "python",
   "pygments_lexer": "ipython3",
   "version": "3.12.5"
  }
 },
 "nbformat": 4,
 "nbformat_minor": 2
}
