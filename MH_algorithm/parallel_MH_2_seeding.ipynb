{
 "cells": [
  {
   "cell_type": "code",
   "execution_count": 1,
   "id": "11163660",
   "metadata": {},
   "outputs": [],
   "source": [
    "import numpy as np\n",
    "import numpy.random as npr\n",
    "import qutip as qt\n",
    "import math\n",
    "import torch\n",
    "import torch.nn as nn\n",
    "import libraries.utils as utils"
   ]
  },
  {
   "cell_type": "code",
   "execution_count": 2,
   "id": "b88eee36",
   "metadata": {},
   "outputs": [],
   "source": [
    "from libraries.NeuralStates import SparseStateVector\n",
    "class MHNeuralState(SparseStateVector):\n",
    "    def __init__(self, N, model, output_to_psi, x_func, x0, num_samples, burnin = 0, lag = 0, chains = 1, new = False):\n",
    "        \"\"\"\n",
    "        Initializes distribution of samples and vector values\n",
    "\n",
    "        Args:\n",
    "            N (int): number of qubits\n",
    "            model: torch model representing psi(x), which returns complex amplitude given integer state\n",
    "            output_to_psi (function): takes in output of model to compute complex amplitude\n",
    "            x_func (function): takes in state x and generates proposal x*\n",
    "            x0 (int): integer state to begin sampling\n",
    "            num_samples (int): number of proposal x* generated\n",
    "            burnin (int): number of samples to throw away before accepting first sample\n",
    "            lag (int): number of samples to throw away in-between accepting samples\n",
    "        \"\"\"\n",
    "        # uses arbitrary x_func for MH sampling\n",
    "        super().__init__()\n",
    "        self.distribution = {}\n",
    "        self.samples = num_samples\n",
    "        self.list = []\n",
    "        self.nn_output = {}\n",
    "\n",
    "        self.N = N\n",
    "        self.model = model\n",
    "        self.output_to_psi = output_to_psi\n",
    "        self.x_func = x_func\n",
    "        self.x0 = x0\n",
    "        self.num_samples = num_samples\n",
    "        self.burnin = burnin\n",
    "        self.lag = lag\n",
    "        self.chains = chains # note any of these could possibly be modified by a client\n",
    "\n",
    "        num_uniform = burnin + num_samples * (lag + 1)\n",
    "        self.rand_uniform = npr.uniform(0, 1, num_uniform)\n",
    "        self.index = 0\n",
    "        if chains == 1 and isinstance(x0, int):\n",
    "            if not new:\n",
    "                self._init_single_chain()\n",
    "            else:\n",
    "                self._init_single_chain_new()\n",
    "        elif len(x0) == chains:\n",
    "            self._init_multi_chain()\n",
    "        else:\n",
    "            raise Exception('invalid initial values or number of chains')\n",
    "    \n",
    "    def _init_single_chain(self):\n",
    "        def psi(x):\n",
    "            tens = torch.tensor([utils.generate_state_array(x, self.N)], dtype = torch.float32)\n",
    "            nn_output = self.model(tens)\n",
    "            return self.output_to_psi(nn_output)[0], nn_output[0]\n",
    "        num_uniform = self.burnin + self.num_samples * (self.lag + 1)\n",
    "        rand_uniform = npr.uniform(0, 1, num_uniform)\n",
    "        index = 0\n",
    "\n",
    "        x = self.x0\n",
    "\n",
    "        psi_val, nn_val = psi(x)\n",
    "        self.values[x] = psi_val\n",
    "        self.nn_output[x] = nn_val\n",
    "\n",
    "        for _ in range(self.burnin):\n",
    "            new_x = self.x_func(x)\n",
    "            new_psi_val = self.values[new_x] if new_x in self.values else psi(new_x)[0]\n",
    "            ratio = abs(new_psi_val) ** 2 / abs(psi_val) ** 2\n",
    "            if ratio > 1 or ratio > rand_uniform[index]:\n",
    "                x = new_x\n",
    "                psi_val = new_psi_val\n",
    "            index += 1\n",
    "        for _ in range(self.num_samples):\n",
    "            for _ in range(self.lag):\n",
    "                new_x = self.x_func(x)\n",
    "                new_psi_val = self.values[new_x] if new_x in self.values else psi(new_x)[0]\n",
    "                ratio = abs(new_psi_val) ** 2 / abs(psi_val) ** 2\n",
    "                if ratio > 1 or ratio > rand_uniform[index]:\n",
    "                    x = new_x\n",
    "                    psi_val = new_psi_val\n",
    "                index += 1\n",
    "            new_x = self.x_func(x)\n",
    "            if new_x in self.values: new_psi_val, new_nn_val = self.values[new_x], self.nn_output[new_x]\n",
    "            else: new_psi_val, new_nn_val = psi(new_x)\n",
    "            ratio = abs(new_psi_val) ** 2 / abs(psi_val) ** 2\n",
    "            if ratio > 1 or ratio > rand_uniform[index]:\n",
    "                self.distribution[new_x] = self.distribution.get(new_x, 0) + 1\n",
    "                self.list.append(new_x)\n",
    "                x = new_x \n",
    "                psi_val = new_psi_val \n",
    "            else: \n",
    "                self.distribution[x] = self.distribution.get(x, 0) + 1\n",
    "                self.list.append(x)\n",
    "            self.values[new_x] = new_psi_val\n",
    "            self.nn_output[new_x] = new_nn_val\n",
    "            index += 1\n",
    "\n",
    "    def _init_single_chain_new(self):\n",
    "        def psi(x):\n",
    "            tens = torch.tensor([utils.generate_state_array(x, self.N)], dtype = torch.float32)\n",
    "            nn_output = self.model(tens)\n",
    "            return self.output_to_psi(nn_output)[0], nn_output[0]\n",
    "\n",
    "        x = self.x0\n",
    "\n",
    "        def run_single_sample(modify = False):\n",
    "            nonlocal x\n",
    "            nonlocal psi_val\n",
    "            new_x = self.x_func(x)\n",
    "            if new_x in self.values: new_psi_val, new_nn_val = self.values[new_x], self.nn_output[new_x]\n",
    "            else: new_psi_val, new_nn_val = psi(new_x)\n",
    "            ratio = abs(new_psi_val) ** 2 / abs(psi_val) ** 2\n",
    "            print(x, self.rand_uniform[self.index])\n",
    "            if ratio > 1 or ratio > self.rand_uniform[self.index]:\n",
    "                if modify:\n",
    "                    self.distribution[new_x] = self.distribution.get(new_x, 0) + 1\n",
    "                    self.list.append(new_x)\n",
    "                x = new_x \n",
    "                psi_val = new_psi_val \n",
    "            elif modify: \n",
    "                self.distribution[x] = self.distribution.get(x, 0) + 1\n",
    "                self.list.append(x)\n",
    "            self.values[new_x] = new_psi_val\n",
    "            self.nn_output[new_x] = new_nn_val\n",
    "            self.index += 1\n",
    "            \n",
    "\n",
    "        psi_val, nn_val = psi(x)\n",
    "        self.values[x] = psi_val\n",
    "        self.nn_output[x] = nn_val\n",
    "        print('here', x)\n",
    "        for _ in range(self.burnin):\n",
    "            run_single_sample(modify = False)\n",
    "        for _ in range(self.num_samples):\n",
    "            for _ in range(self.lag):\n",
    "                run_single_sample(modify = False)\n",
    "            run_single_sample(modify = True)\n",
    "\n",
    "    def _init_multi_chain(self):\n",
    "        def psi(xs):\n",
    "            tens = utils.generate_input_samples(self.N, xs)\n",
    "            nn_output = self.model(tens)\n",
    "            return self.output_to_psi(nn_output), nn_output\n",
    "\n",
    "        xs = self.x0.clone()\n",
    "        psi_vals, nn_vals = psi(xs)\n",
    "        for i, x in enumerate(xs):\n",
    "            self.values[x] = psi_vals[i]\n",
    "            self.nn_output[x] = nn_vals[i]\n",
    "        \n",
    "        for _ in range(self.burnin):\n",
    "            self._run_single_chained_sample(xs, psi_vals, self.x_func, psi, modify = False)\n",
    "        for _ in range(self.num_samples):\n",
    "            for _ in range(self.lag):\n",
    "                self._run_single_chained_sample(xs, psi_vals, self.x_func, psi, modify = False)\n",
    "            self._run_single_chained_sample(xs, psi_vals, self.x_func, psi, modify = True)\n",
    "        \n",
    "        del self.index\n",
    "    \n",
    "    def _run_single_chained_sample(self, xs, psis, x_func, psi_function, modify = False):\n",
    "        new_xs = x_func(xs)\n",
    "        new_psi_vals, new_nn_vals = psi_function(new_xs)[0]\n",
    "        for i, new_psi_val in enumerate(new_psi_vals):\n",
    "            ratio = abs(new_psi_val) ** 2 / abs(psis[i]) ** 2\n",
    "            if ratio > 1 or ratio > self.rand_uniform[self.index]:\n",
    "                if modify:\n",
    "                    self.distribution[new_xs[i]] = self.distribution.get(new_xs[i], 0) + 1\n",
    "                    self.list.append(new_xs[i])\n",
    "                xs[i] = new_xs[i]\n",
    "                psis[i] = new_psi_val\n",
    "            elif modify:\n",
    "                self.distribution[xs[i]] = self.distribution(xs[i], 0) + 1\n",
    "                self.list.append(xs[i])\n",
    "            self.values[new_xs[i]] = new_psi_val\n",
    "            self.nn_output[new_xs[i]] = new_nn_vals[i]\n",
    "            self.index += 1\n",
    "        \n",
    "\n",
    "            "
   ]
  },
  {
   "cell_type": "code",
   "execution_count": 3,
   "id": "6f9d6203",
   "metadata": {},
   "outputs": [],
   "source": [
    "torch.manual_seed(0)\n",
    "npr.seed(0)"
   ]
  },
  {
   "cell_type": "code",
   "execution_count": 4,
   "id": "319a1450",
   "metadata": {},
   "outputs": [],
   "source": [
    "N = 10\n",
    "layers = []\n",
    "layers.append(nn.Linear(N, 32))\n",
    "for _ in range(2):\n",
    "    layers.append(nn.Linear(32, 32))\n",
    "    layers.append(nn.SELU())\n",
    "layers.append(nn.Linear(32, 2))\n",
    "mlp_model = nn.Sequential(*layers)"
   ]
  },
  {
   "cell_type": "code",
   "execution_count": 5,
   "id": "d587a180",
   "metadata": {},
   "outputs": [
    {
     "name": "stdout",
     "output_type": "stream",
     "text": [
      "tensor([[0.6973, 0.1897],\n",
      "        [0.5673, 0.7153]])\n"
     ]
    }
   ],
   "source": [
    "print(torch.rand((2, 2)))"
   ]
  },
  {
   "cell_type": "code",
   "execution_count": 6,
   "id": "e24773f4",
   "metadata": {},
   "outputs": [
    {
     "name": "stdout",
     "output_type": "stream",
     "text": [
      "32\n"
     ]
    }
   ],
   "source": [
    "print(utils.bitflip_x(0, 10, 1))"
   ]
  },
  {
   "cell_type": "code",
   "execution_count": 7,
   "id": "e6d15f63",
   "metadata": {},
   "outputs": [
    {
     "name": "stdout",
     "output_type": "stream",
     "text": [
      "here 0\n",
      "0 0.8442657485810173\n",
      "512 0.8579456176227568\n",
      "520 0.8472517387841254\n",
      "584 0.6235636967859723\n",
      "712 0.3843817072926998\n",
      "716 0.2975346065444723\n",
      "717 0.05671297731744318\n",
      "709 0.2726562945801132\n",
      "741 0.47766511732134986\n",
      "229 0.8121687287754932\n",
      "245 0.4799771723750573\n",
      "229 0.3927847961008297\n",
      "165 0.8360787635373775\n",
      "181 0.3373961604172684\n",
      "165 0.6481718720511972\n",
      "173 0.36824153984054797\n",
      "189 0.9571551589530464\n",
      "173 0.14035078041264515\n",
      "429 0.8700872583584364\n",
      "445 0.4736080452737105\n",
      "437 0.8009107519796442\n",
      "309 0.5204774795512048\n",
      "277 0.6788795301189603\n",
      "309 0.7206326547259168\n",
      "308 0.5820197920751071\n",
      "310 0.5373732294490107\n",
      "278 0.7586156243223572\n",
      "790 0.10590760718779213\n",
      "798 0.4736004193466574\n",
      "799 0.18633234332675996\n",
      "831 0.7369181771289581\n",
      "830 0.21655035442437187\n",
      "828 0.13521817340545206\n",
      "824 0.3241410077932141\n",
      "808 0.14967486718368317\n",
      "812 0.22232138825158765\n",
      "813 0.38648898112586194\n",
      "805 0.9025984755294046\n",
      "801 0.4499499899112276\n",
      "800 0.6130634578841324\n",
      "928 0.9023485831739843\n",
      "896 0.09928035035897387\n"
     ]
    }
   ],
   "source": [
    "state_new = MHNeuralState(N, mlp_model, utils.log_amp_phase, lambda x: utils.bitflip_x(x, N, 1), 0, 20, burnin = 2, lag = 1, chains = 1, new = True)"
   ]
  },
  {
   "cell_type": "code",
   "execution_count": 8,
   "id": "9e5a638e",
   "metadata": {},
   "outputs": [
    {
     "name": "stdout",
     "output_type": "stream",
     "text": [
      "[712, 717, 741, 245, 165, 165, 189, 429, 437, 277, 308, 278, 798, 831, 828, 808, 813, 801, 928, 384]\n"
     ]
    }
   ],
   "source": [
    "print(state_new.list)"
   ]
  },
  {
   "cell_type": "code",
   "execution_count": 9,
   "id": "ca061917",
   "metadata": {},
   "outputs": [
    {
     "name": "stdout",
     "output_type": "stream",
     "text": [
      "[0.84426575 0.85794562 0.84725174 0.6235637  0.38438171 0.29753461\n",
      " 0.05671298 0.27265629 0.47766512 0.81216873 0.47997717 0.3927848\n",
      " 0.83607876 0.33739616 0.64817187 0.36824154 0.95715516 0.14035078\n",
      " 0.87008726 0.47360805 0.80091075 0.52047748 0.67887953 0.72063265\n",
      " 0.58201979 0.53737323 0.75861562 0.10590761 0.47360042 0.18633234\n",
      " 0.73691818 0.21655035 0.13521817 0.32414101 0.14967487 0.22232139\n",
      " 0.38648898 0.90259848 0.44994999 0.61306346 0.90234858 0.09928035]\n"
     ]
    }
   ],
   "source": [
    "print(state_new.rand_uniform)"
   ]
  },
  {
   "cell_type": "code",
   "execution_count": null,
   "id": "b54bac1f",
   "metadata": {},
   "outputs": [],
   "source": []
  }
 ],
 "metadata": {
  "kernelspec": {
   "display_name": "kans",
   "language": "python",
   "name": "python3"
  },
  "language_info": {
   "codemirror_mode": {
    "name": "ipython",
    "version": 3
   },
   "file_extension": ".py",
   "mimetype": "text/x-python",
   "name": "python",
   "nbconvert_exporter": "python",
   "pygments_lexer": "ipython3",
   "version": "3.12.5"
  }
 },
 "nbformat": 4,
 "nbformat_minor": 5
}
