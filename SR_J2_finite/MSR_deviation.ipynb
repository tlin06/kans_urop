{
 "cells": [
  {
   "cell_type": "code",
   "execution_count": 27,
   "id": "1f9b4fb7",
   "metadata": {},
   "outputs": [],
   "source": [
    "import kan\n",
    "import kan.utils as ku\n",
    "import torch\n",
    "import torch.nn as nn\n",
    "import numpy as np\n",
    "from libraries import utils\n",
    "from libraries import magnetization\n",
    "from libraries import j1j2_functions\n",
    "import numpy.random as npr\n",
    "import qutip as qt\n",
    "import sympy\n",
    "import random"
   ]
  },
  {
   "cell_type": "code",
   "execution_count": 28,
   "id": "8b390e7c",
   "metadata": {},
   "outputs": [],
   "source": [
    "N = 10; J1 = 1; J2 = 0.2\n",
    "hf = j1j2_functions.J1J2_hamiltonian(N, J1, J2)\n",
    "eigsf = hf.eigenstates()\n",
    "gsf = eigsf[1][0]"
   ]
  },
  {
   "cell_type": "code",
   "execution_count": 29,
   "id": "ee378c6b",
   "metadata": {},
   "outputs": [],
   "source": [
    "hz = j1j2_functions.J1J2_hamiltonian(N, J1, 0)\n",
    "eigsz = hz.eigenstates()\n",
    "gsz = eigsz[1][0]"
   ]
  },
  {
   "cell_type": "code",
   "execution_count": 30,
   "id": "6ad07f60",
   "metadata": {},
   "outputs": [
    {
     "name": "stdout",
     "output_type": "stream",
     "text": [
      "-16.603853020409492\n",
      "(-16.60385302040954+0j)\n",
      "-18.06178541796817\n",
      "(-18.06178541796818+0j)\n"
     ]
    }
   ],
   "source": [
    "print(eigsf[0][0])\n",
    "print(gsf.dag() @ hf @ gsf)\n",
    "print(eigsz[0][0])\n",
    "print(gsz.dag() @ hz @ gsz)"
   ]
  },
  {
   "cell_type": "code",
   "execution_count": 31,
   "id": "e4700ba3",
   "metadata": {},
   "outputs": [
    {
     "name": "stdout",
     "output_type": "stream",
     "text": [
      "(-16.537385583318414+0j)\n",
      "(-17.981003770587222+0j)\n"
     ]
    }
   ],
   "source": [
    "print(gsz.dag() @ hf @ gsz) # swapping these for N=10, J2=0.4, fid=0.96 isn't actually that close to GSE\n",
    "print(gsf.dag() @ hz @ gsf) # even for like 0.9997 fid there is still 0.01 error in these"
   ]
  },
  {
   "cell_type": "code",
   "execution_count": 32,
   "id": "e864d543",
   "metadata": {},
   "outputs": [
    {
     "data": {
      "text/plain": [
       "array([[ 0.00000000e+00+0.j],\n",
       "       [-1.88810992e-49+0.j],\n",
       "       [ 1.55973534e-17+0.j],\n",
       "       ...,\n",
       "       [-1.08596191e-49-0.j],\n",
       "       [ 1.07996424e-49+0.j],\n",
       "       [ 0.00000000e+00+0.j]])"
      ]
     },
     "execution_count": 32,
     "metadata": {},
     "output_type": "execute_result"
    }
   ],
   "source": [
    "gsf.full()"
   ]
  },
  {
   "cell_type": "code",
   "execution_count": 33,
   "id": "a4d19852",
   "metadata": {},
   "outputs": [
    {
     "data": {
      "text/plain": [
       "array([[ 0.00000000e+00+0.j],\n",
       "       [ 1.26928255e-48+0.j],\n",
       "       [-2.63794454e-18+0.j],\n",
       "       ...,\n",
       "       [ 1.20393997e-48+0.j],\n",
       "       [-2.12190686e-48-0.j],\n",
       "       [ 0.00000000e+00+0.j]])"
      ]
     },
     "execution_count": 33,
     "metadata": {},
     "output_type": "execute_result"
    }
   ],
   "source": [
    "gsz.full()"
   ]
  },
  {
   "cell_type": "code",
   "execution_count": 34,
   "id": "b617e23a",
   "metadata": {},
   "outputs": [
    {
     "data": {
      "text/plain": [
       "array([[0.00000000e+00],\n",
       "       [1.45809355e-48],\n",
       "       [1.82352979e-17],\n",
       "       ...,\n",
       "       [1.31253617e-48],\n",
       "       [2.22990328e-48],\n",
       "       [0.00000000e+00]])"
      ]
     },
     "execution_count": 34,
     "metadata": {},
     "output_type": "execute_result"
    }
   ],
   "source": [
    "abs(gsf.full() - gsz.full())"
   ]
  },
  {
   "cell_type": "code",
   "execution_count": 35,
   "id": "876f90be",
   "metadata": {},
   "outputs": [
    {
     "data": {
      "text/plain": [
       "np.float64(0.9961878323456046)"
      ]
     },
     "execution_count": 35,
     "metadata": {},
     "output_type": "execute_result"
    }
   ],
   "source": [
    "qt.fidelity(gsz, gsf) \n",
    "# seems fidelity is basically 1 for any J2<0.5 N<=10"
   ]
  },
  {
   "cell_type": "code",
   "execution_count": 36,
   "id": "0918b6cd",
   "metadata": {},
   "outputs": [],
   "source": [
    "threshold = 1e-12 # it seems for N=6, the f state is more sensitive, as both fit 1e-14 exactly but f state fails 1e-15\n",
    "# this seems to be due to numerical inaccuracies though?\n",
    "# N=6 and N=8 have everything pass\n",
    "# N=10 seems to actually have things fail (order 1e-5) for J2=0.2\n",
    "# J2=0.4 starts failing at N=8, N=10 fails pretty massively"
   ]
  },
  {
   "cell_type": "code",
   "execution_count": 37,
   "id": "589c3ced",
   "metadata": {},
   "outputs": [],
   "source": [
    "statesz = []\n",
    "signsz = []\n",
    "for i in range(0, 2 ** N):\n",
    "    val = gsz[i][0].real\n",
    "    if abs(val) > threshold:\n",
    "        statesz.append(i)\n",
    "        signsz.append(-1 + 2 * int(val > 0))"
   ]
  },
  {
   "cell_type": "code",
   "execution_count": 38,
   "id": "bf9ad898",
   "metadata": {},
   "outputs": [],
   "source": [
    "pred_signsz =  [-1 + 2 * (magnetization.count_half_magnetization(i) % 2) for i in statesz]"
   ]
  },
  {
   "cell_type": "code",
   "execution_count": 39,
   "id": "929bd986",
   "metadata": {},
   "outputs": [
    {
     "name": "stdout",
     "output_type": "stream",
     "text": [
      "252\n",
      "success\n"
     ]
    }
   ],
   "source": [
    "print(len(statesz))\n",
    "count = 0\n",
    "for state, true, calc in zip(statesz, signsz, pred_signsz):\n",
    "    if true != calc:\n",
    "        print(f'fail {bin(state)}, val {gsz[state][0].real}, pred {calc}')\n",
    "print('success')\n"
   ]
  },
  {
   "cell_type": "code",
   "execution_count": 40,
   "id": "818bc8dc",
   "metadata": {},
   "outputs": [],
   "source": [
    "statesf = []\n",
    "signsf = []\n",
    "for i in range(0, 2 ** N):\n",
    "    val = gsf[i][0].real\n",
    "    if abs(val) > threshold: \n",
    "        statesf.append(i)\n",
    "        signsf.append(-1 + 2 * int(val > 0))"
   ]
  },
  {
   "cell_type": "code",
   "execution_count": 41,
   "id": "f56f9f71",
   "metadata": {},
   "outputs": [],
   "source": [
    "pred_signsf =  [-1 + 2 * (magnetization.count_half_magnetization(i) % 2) for i in statesf]"
   ]
  },
  {
   "cell_type": "code",
   "execution_count": 42,
   "id": "cae74a72",
   "metadata": {},
   "outputs": [
    {
     "data": {
      "text/plain": [
       "np.complex128(-1.1608659035393964e-17+0j)"
      ]
     },
     "execution_count": 42,
     "metadata": {},
     "output_type": "execute_result"
    }
   ],
   "source": [
    "gsz[0b1111][0]"
   ]
  },
  {
   "cell_type": "code",
   "execution_count": 43,
   "id": "00646bae",
   "metadata": {},
   "outputs": [
    {
     "name": "stdout",
     "output_type": "stream",
     "text": [
      "252\n",
      "fail 0b11111, val -5.154362876348855e-05, pred 1\n",
      "fail 0b111110, val 5.15436287634932e-05, pred -1\n",
      "fail 0b1111100, val -5.154362876348732e-05, pred 1\n",
      "fail 0b11111000, val 5.154362876348707e-05, pred -1\n",
      "fail 0b111110000, val -5.154362876348749e-05, pred 1\n",
      "fail 0b1000001111, val 5.1543628763487176e-05, pred -1\n",
      "fail 0b1100000111, val -5.1543628763487244e-05, pred 1\n",
      "fail 0b1110000011, val 5.1543628763487115e-05, pred -1\n",
      "fail 0b1111000001, val -5.154362876348747e-05, pred 1\n",
      "fail 0b1111100000, val 5.15436287634872e-05, pred -1\n",
      "10\n",
      "success\n"
     ]
    }
   ],
   "source": [
    "print(len(statesf))\n",
    "count = 0\n",
    "for state, true, calc in zip(statesf, signsf, pred_signsf):\n",
    "    if true != calc:\n",
    "        count += 1\n",
    "        print(f'fail {bin(state)}, val {gsf[state][0].real}, pred {calc}')\n",
    "print(count)\n",
    "print('success')\n"
   ]
  },
  {
   "cell_type": "code",
   "execution_count": 44,
   "id": "7c2077d2",
   "metadata": {},
   "outputs": [
    {
     "name": "stdout",
     "output_type": "stream",
     "text": [
      "[31, 47, 55, 59, 61, 62, 79, 87, 91, 93, 94, 103, 107, 109, 110, 115, 117, 118, 121, 122, 124, 143, 151, 155, 157, 158, 167, 171, 173, 174, 179, 181, 182, 185, 186, 188, 199, 203, 205, 206, 211, 213, 214, 217, 218, 220, 227, 229, 230, 233, 234, 236, 241, 242, 244, 248, 271, 279, 283, 285, 286, 295, 299, 301, 302, 307, 309, 310, 313, 314, 316, 327, 331, 333, 334, 339, 341, 342, 345, 346, 348, 355, 357, 358, 361, 362, 364, 369, 370, 372, 376, 391, 395, 397, 398, 403, 405, 406, 409, 410, 412, 419, 421, 422, 425, 426, 428, 433, 434, 436, 440, 451, 453, 454, 457, 458, 460, 465, 466, 468, 472, 481, 482, 484, 488, 496, 527, 535, 539, 541, 542, 551, 555, 557, 558, 563, 565, 566, 569, 570, 572, 583, 587, 589, 590, 595, 597, 598, 601, 602, 604, 611, 613, 614, 617, 618, 620, 625, 626, 628, 632, 647, 651, 653, 654, 659, 661, 662, 665, 666, 668, 675, 677, 678, 681, 682, 684, 689, 690, 692, 696, 707, 709, 710, 713, 714, 716, 721, 722, 724, 728, 737, 738, 740, 744, 752, 775, 779, 781, 782, 787, 789, 790, 793, 794, 796, 803, 805, 806, 809, 810, 812, 817, 818, 820, 824, 835, 837, 838, 841, 842, 844, 849, 850, 852, 856, 865, 866, 868, 872, 880, 899, 901, 902, 905, 906, 908, 913, 914, 916, 920, 929, 930, 932, 936, 944, 961, 962, 964, 968, 976, 992]\n",
      "[31, 47, 55, 59, 61, 62, 79, 87, 91, 93, 94, 103, 107, 109, 110, 115, 117, 118, 121, 122, 124, 143, 151, 155, 157, 158, 167, 171, 173, 174, 179, 181, 182, 185, 186, 188, 199, 203, 205, 206, 211, 213, 214, 217, 218, 220, 227, 229, 230, 233, 234, 236, 241, 242, 244, 248, 271, 279, 283, 285, 286, 295, 299, 301, 302, 307, 309, 310, 313, 314, 316, 327, 331, 333, 334, 339, 341, 342, 345, 346, 348, 355, 357, 358, 361, 362, 364, 369, 370, 372, 376, 391, 395, 397, 398, 403, 405, 406, 409, 410, 412, 419, 421, 422, 425, 426, 428, 433, 434, 436, 440, 451, 453, 454, 457, 458, 460, 465, 466, 468, 472, 481, 482, 484, 488, 496, 527, 535, 539, 541, 542, 551, 555, 557, 558, 563, 565, 566, 569, 570, 572, 583, 587, 589, 590, 595, 597, 598, 601, 602, 604, 611, 613, 614, 617, 618, 620, 625, 626, 628, 632, 647, 651, 653, 654, 659, 661, 662, 665, 666, 668, 675, 677, 678, 681, 682, 684, 689, 690, 692, 696, 707, 709, 710, 713, 714, 716, 721, 722, 724, 728, 737, 738, 740, 744, 752, 775, 779, 781, 782, 787, 789, 790, 793, 794, 796, 803, 805, 806, 809, 810, 812, 817, 818, 820, 824, 835, 837, 838, 841, 842, 844, 849, 850, 852, 856, 865, 866, 868, 872, 880, 899, 901, 902, 905, 906, 908, 913, 914, 916, 920, 929, 930, 932, 936, 944, 961, 962, 964, 968, 976, 992]\n"
     ]
    }
   ],
   "source": [
    "print(statesz)\n",
    "print(statesf)"
   ]
  },
  {
   "cell_type": "code",
   "execution_count": 45,
   "id": "7cbe9b26",
   "metadata": {},
   "outputs": [
    {
     "data": {
      "text/plain": [
       "True"
      ]
     },
     "execution_count": 45,
     "metadata": {},
     "output_type": "execute_result"
    }
   ],
   "source": [
    "statesz == statesf # nonzero states up to N=10, J2=0.2 are the same, same for J2=0.4"
   ]
  },
  {
   "cell_type": "code",
   "execution_count": 46,
   "id": "c767b090",
   "metadata": {},
   "outputs": [
    {
     "name": "stdout",
     "output_type": "stream",
     "text": [
      "0b11111\n",
      "0b101111\n",
      "0b110111\n",
      "0b111011\n",
      "0b111101\n",
      "0b111110\n",
      "0b1001111\n",
      "0b1010111\n",
      "0b1011011\n",
      "0b1011101\n",
      "0b1011110\n",
      "0b1100111\n",
      "0b1101011\n",
      "0b1101101\n",
      "0b1101110\n",
      "0b1110011\n",
      "0b1110101\n",
      "0b1110110\n",
      "0b1111001\n",
      "0b1111010\n",
      "0b1111100\n",
      "0b10001111\n",
      "0b10010111\n",
      "0b10011011\n",
      "0b10011101\n",
      "0b10011110\n",
      "0b10100111\n",
      "0b10101011\n",
      "0b10101101\n",
      "0b10101110\n",
      "0b10110011\n",
      "0b10110101\n",
      "0b10110110\n",
      "0b10111001\n",
      "0b10111010\n",
      "0b10111100\n",
      "0b11000111\n",
      "0b11001011\n",
      "0b11001101\n",
      "0b11001110\n",
      "0b11010011\n",
      "0b11010101\n",
      "0b11010110\n",
      "0b11011001\n",
      "0b11011010\n",
      "0b11011100\n",
      "0b11100011\n",
      "0b11100101\n",
      "0b11100110\n",
      "0b11101001\n",
      "0b11101010\n",
      "0b11101100\n",
      "0b11110001\n",
      "0b11110010\n",
      "0b11110100\n",
      "0b11111000\n",
      "0b100001111\n",
      "0b100010111\n",
      "0b100011011\n",
      "0b100011101\n",
      "0b100011110\n",
      "0b100100111\n",
      "0b100101011\n",
      "0b100101101\n",
      "0b100101110\n",
      "0b100110011\n",
      "0b100110101\n",
      "0b100110110\n",
      "0b100111001\n",
      "0b100111010\n",
      "0b100111100\n",
      "0b101000111\n",
      "0b101001011\n",
      "0b101001101\n",
      "0b101001110\n",
      "0b101010011\n",
      "0b101010101\n",
      "0b101010110\n",
      "0b101011001\n",
      "0b101011010\n",
      "0b101011100\n",
      "0b101100011\n",
      "0b101100101\n",
      "0b101100110\n",
      "0b101101001\n",
      "0b101101010\n",
      "0b101101100\n",
      "0b101110001\n",
      "0b101110010\n",
      "0b101110100\n",
      "0b101111000\n",
      "0b110000111\n",
      "0b110001011\n",
      "0b110001101\n",
      "0b110001110\n",
      "0b110010011\n",
      "0b110010101\n",
      "0b110010110\n",
      "0b110011001\n",
      "0b110011010\n",
      "0b110011100\n",
      "0b110100011\n",
      "0b110100101\n",
      "0b110100110\n",
      "0b110101001\n",
      "0b110101010\n",
      "0b110101100\n",
      "0b110110001\n",
      "0b110110010\n",
      "0b110110100\n",
      "0b110111000\n",
      "0b111000011\n",
      "0b111000101\n",
      "0b111000110\n",
      "0b111001001\n",
      "0b111001010\n",
      "0b111001100\n",
      "0b111010001\n",
      "0b111010010\n",
      "0b111010100\n",
      "0b111011000\n",
      "0b111100001\n",
      "0b111100010\n",
      "0b111100100\n",
      "0b111101000\n",
      "0b111110000\n",
      "0b1000001111\n",
      "0b1000010111\n",
      "0b1000011011\n",
      "0b1000011101\n",
      "0b1000011110\n",
      "0b1000100111\n",
      "0b1000101011\n",
      "0b1000101101\n",
      "0b1000101110\n",
      "0b1000110011\n",
      "0b1000110101\n",
      "0b1000110110\n",
      "0b1000111001\n",
      "0b1000111010\n",
      "0b1000111100\n",
      "0b1001000111\n",
      "0b1001001011\n",
      "0b1001001101\n",
      "0b1001001110\n",
      "0b1001010011\n",
      "0b1001010101\n",
      "0b1001010110\n",
      "0b1001011001\n",
      "0b1001011010\n",
      "0b1001011100\n",
      "0b1001100011\n",
      "0b1001100101\n",
      "0b1001100110\n",
      "0b1001101001\n",
      "0b1001101010\n",
      "0b1001101100\n",
      "0b1001110001\n",
      "0b1001110010\n",
      "0b1001110100\n",
      "0b1001111000\n",
      "0b1010000111\n",
      "0b1010001011\n",
      "0b1010001101\n",
      "0b1010001110\n",
      "0b1010010011\n",
      "0b1010010101\n",
      "0b1010010110\n",
      "0b1010011001\n",
      "0b1010011010\n",
      "0b1010011100\n",
      "0b1010100011\n",
      "0b1010100101\n",
      "0b1010100110\n",
      "0b1010101001\n",
      "0b1010101010\n",
      "0b1010101100\n",
      "0b1010110001\n",
      "0b1010110010\n",
      "0b1010110100\n",
      "0b1010111000\n",
      "0b1011000011\n",
      "0b1011000101\n",
      "0b1011000110\n",
      "0b1011001001\n",
      "0b1011001010\n",
      "0b1011001100\n",
      "0b1011010001\n",
      "0b1011010010\n",
      "0b1011010100\n",
      "0b1011011000\n",
      "0b1011100001\n",
      "0b1011100010\n",
      "0b1011100100\n",
      "0b1011101000\n",
      "0b1011110000\n",
      "0b1100000111\n",
      "0b1100001011\n",
      "0b1100001101\n",
      "0b1100001110\n",
      "0b1100010011\n",
      "0b1100010101\n",
      "0b1100010110\n",
      "0b1100011001\n",
      "0b1100011010\n",
      "0b1100011100\n",
      "0b1100100011\n",
      "0b1100100101\n",
      "0b1100100110\n",
      "0b1100101001\n",
      "0b1100101010\n",
      "0b1100101100\n",
      "0b1100110001\n",
      "0b1100110010\n",
      "0b1100110100\n",
      "0b1100111000\n",
      "0b1101000011\n",
      "0b1101000101\n",
      "0b1101000110\n",
      "0b1101001001\n",
      "0b1101001010\n",
      "0b1101001100\n",
      "0b1101010001\n",
      "0b1101010010\n",
      "0b1101010100\n",
      "0b1101011000\n",
      "0b1101100001\n",
      "0b1101100010\n",
      "0b1101100100\n",
      "0b1101101000\n",
      "0b1101110000\n",
      "0b1110000011\n",
      "0b1110000101\n",
      "0b1110000110\n",
      "0b1110001001\n",
      "0b1110001010\n",
      "0b1110001100\n",
      "0b1110010001\n",
      "0b1110010010\n",
      "0b1110010100\n",
      "0b1110011000\n",
      "0b1110100001\n",
      "0b1110100010\n",
      "0b1110100100\n",
      "0b1110101000\n",
      "0b1110110000\n",
      "0b1111000001\n",
      "0b1111000010\n",
      "0b1111000100\n",
      "0b1111001000\n",
      "0b1111010000\n",
      "0b1111100000\n"
     ]
    }
   ],
   "source": [
    "for s in statesz:\n",
    "    print(bin(s))"
   ]
  },
  {
   "cell_type": "code",
   "execution_count": null,
   "id": "ca0dbbce",
   "metadata": {},
   "outputs": [],
   "source": []
  }
 ],
 "metadata": {
  "kernelspec": {
   "display_name": "kans",
   "language": "python",
   "name": "python3"
  },
  "language_info": {
   "codemirror_mode": {
    "name": "ipython",
    "version": 3
   },
   "file_extension": ".py",
   "mimetype": "text/x-python",
   "name": "python",
   "nbconvert_exporter": "python",
   "pygments_lexer": "ipython3",
   "version": "3.12.5"
  }
 },
 "nbformat": 4,
 "nbformat_minor": 5
}
