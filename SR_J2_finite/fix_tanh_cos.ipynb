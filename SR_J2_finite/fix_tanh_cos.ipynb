{
 "cells": [
  {
   "cell_type": "code",
   "execution_count": 1,
   "id": "5a2b459f",
   "metadata": {},
   "outputs": [],
   "source": [
    "import kan\n",
    "import kan.utils as ku\n",
    "import torch\n",
    "import torch.nn as nn\n",
    "import numpy as np\n",
    "from libraries import utils\n",
    "from libraries import magnetization\n",
    "from libraries import j1j2_functions\n",
    "import numpy.random as npr\n",
    "import qutip as qt\n",
    "import sympy\n",
    "import random"
   ]
  },
  {
   "cell_type": "code",
   "execution_count": 2,
   "id": "63e199d0",
   "metadata": {},
   "outputs": [],
   "source": [
    "N=10; J1=1; J2=0.2\n",
    "h = j1j2_functions.J1J2_hamiltonian(N, J1, J2)\n",
    "eigs = h.eigenstates()\n",
    "gs = eigs[1][0]\n",
    "gse = eigs[0][0]"
   ]
  },
  {
   "cell_type": "code",
   "execution_count": 4,
   "id": "cbab634d",
   "metadata": {},
   "outputs": [
    {
     "name": "stdout",
     "output_type": "stream",
     "text": [
      "10\n"
     ]
    }
   ],
   "source": [
    "threshold = 1e-10\n",
    "statesf, signsf = utils.get_nonzero_states(N, gs, threshold)\n",
    "pred_signsf =  [-1 + 2 * (magnetization.count_half_magnetization(i) % 2) for i in statesf]\n",
    "deviations = utils.find_sign_deviations(statesf, signsf, pred_signsf)\n",
    "print(len(deviations))"
   ]
  },
  {
   "cell_type": "code",
   "execution_count": 5,
   "id": "d8dc22aa",
   "metadata": {},
   "outputs": [
    {
     "name": "stdout",
     "output_type": "stream",
     "text": [
      "torch.Size([252, 10]) torch.Size([252, 1])\n"
     ]
    }
   ],
   "source": [
    "input = utils.generate_input_samples(N, statesf)\n",
    "labels = torch.tensor(signsf, dtype=torch.float64).reshape((-1, 1))\n",
    "print(input.shape, labels.shape)\n",
    "dataset = {'train_input': input, 'train_label': labels, 'test_input': input, 'test_label': labels}"
   ]
  },
  {
   "cell_type": "code",
   "execution_count": 102,
   "id": "b9bc2569",
   "metadata": {},
   "outputs": [
    {
     "name": "stdout",
     "output_type": "stream",
     "text": [
      "checkpoint directory created: ./model\n",
      "saving model version 0.0\n",
      "Best value at boundary.\n",
      "r2 is 0.2486896812915802\n",
      "r2 is not very high, please double check if you are choosing the correct symbolic function.\n",
      "saving model version 0.1\n",
      "Best value at boundary.\n",
      "r2 is 0.9950272440910339\n",
      "saving model version 0.2\n"
     ]
    }
   ],
   "source": [
    "model3N = kan.KAN(width = [N, 2, 1, 1, 1]) # this gets to 0 mistakes with no lamb\n",
    "model3N(dataset['train_input'])\n",
    "model3N.fix_symbolic(3, 0, 0, 'tanh')\n",
    "model3N.symbolic_fun[3].affine = nn.Parameter(torch.tensor([[[1, 0, 1, 0]]], dtype=torch.float64), requires_grad=False)\n",
    "model3N.fix_symbolic(2, 0, 0, 'cos')\n",
    "model3N.symbolic_fun[2].affine = nn.Parameter(torch.tensor([[[np.pi, 0, 2, 0]]], dtype=torch.float64), requires_grad=False)"
   ]
  },
  {
   "cell_type": "code",
   "execution_count": 103,
   "id": "4459c41c",
   "metadata": {},
   "outputs": [
    {
     "name": "stderr",
     "output_type": "stream",
     "text": [
      "| train_loss: 1.90e-01 | test_loss: 1.90e-01 | reg: 1.65e+01 | : 100%|█| 20/20 [00:11<00:00,  1.78it"
     ]
    },
    {
     "name": "stdout",
     "output_type": "stream",
     "text": [
      "saving model version 0.3\n"
     ]
    },
    {
     "name": "stderr",
     "output_type": "stream",
     "text": [
      "\n"
     ]
    }
   ],
   "source": [
    "model3N.fit(dataset, steps=20, lamb=2.5e-3); # 3e-2 loss is basically perfect for a=2, 2.5e-3 as lamb seems good for a=2"
   ]
  },
  {
   "cell_type": "code",
   "execution_count": 104,
   "id": "845dd95d",
   "metadata": {},
   "outputs": [
    {
     "name": "stdout",
     "output_type": "stream",
     "text": [
      "0\n"
     ]
    }
   ],
   "source": [
    "pred = model3N(input)\n",
    "pred_dev = []\n",
    "for i in range(labels.shape[0]):\n",
    "    if torch.sgn(pred[i][0])  != torch.sgn(labels[i][0]):\n",
    "        pred_dev.append(i)\n",
    "print(len(pred_dev))"
   ]
  },
  {
   "cell_type": "code",
   "execution_count": 105,
   "id": "f9eb13d9",
   "metadata": {},
   "outputs": [
    {
     "data": {
      "text/plain": [
       "0.0"
      ]
     },
     "execution_count": 105,
     "metadata": {},
     "output_type": "execute_result"
    }
   ],
   "source": [
    "torch.sqrt(torch.mean((torch.sgn(pred) - labels) ** 2)).item() # also measure of num mistakes"
   ]
  },
  {
   "cell_type": "code",
   "execution_count": 106,
   "id": "6547f980",
   "metadata": {},
   "outputs": [
    {
     "data": {
      "text/plain": [
       "0.1904091628037021"
      ]
     },
     "execution_count": 106,
     "metadata": {},
     "output_type": "execute_result"
    }
   ],
   "source": [
    "torch.sqrt(torch.mean((pred - labels) ** 2)).item()"
   ]
  },
  {
   "cell_type": "code",
   "execution_count": 107,
   "id": "305ceaf0",
   "metadata": {},
   "outputs": [
    {
     "name": "stdout",
     "output_type": "stream",
     "text": [
      "saving model version 0.4\n"
     ]
    },
    {
     "data": {
      "text/plain": [
       "[[10, 0], [2, 0], [1, 0], [1, 0], [1, 0]]"
      ]
     },
     "execution_count": 107,
     "metadata": {},
     "output_type": "execute_result"
    }
   ],
   "source": [
    "model3N.prune().width"
   ]
  },
  {
   "cell_type": "code",
   "execution_count": 108,
   "id": "c126e1ea",
   "metadata": {},
   "outputs": [
    {
     "name": "stdout",
     "output_type": "stream",
     "text": [
      "saving model version 0.4\n"
     ]
    }
   ],
   "source": [
    "model3N = model3N.prune()"
   ]
  },
  {
   "cell_type": "code",
   "execution_count": 109,
   "id": "e3a263d8",
   "metadata": {},
   "outputs": [],
   "source": [
    "model3N.symbolic_fun[2].affine = nn.Parameter(model3N.symbolic_fun[2].affine.data, requires_grad=False)\n",
    "model3N.symbolic_fun[3].affine = nn.Parameter(model3N.symbolic_fun[3].affine.data, requires_grad=False)"
   ]
  },
  {
   "cell_type": "code",
   "execution_count": 110,
   "id": "8f999c35",
   "metadata": {},
   "outputs": [
    {
     "name": "stderr",
     "output_type": "stream",
     "text": [
      "| train_loss: 1.80e-01 | test_loss: 1.80e-01 | reg: 1.54e+01 | : 100%|█| 20/20 [00:11<00:00,  1.80it"
     ]
    },
    {
     "name": "stdout",
     "output_type": "stream",
     "text": [
      "saving model version 0.5\n"
     ]
    },
    {
     "name": "stderr",
     "output_type": "stream",
     "text": [
      "\n"
     ]
    }
   ],
   "source": [
    "model3N.fit(dataset, steps=20, lamb=2.5e-3);"
   ]
  },
  {
   "cell_type": "code",
   "execution_count": 111,
   "id": "5ef0fa50",
   "metadata": {},
   "outputs": [
    {
     "name": "stdout",
     "output_type": "stream",
     "text": [
      "0\n",
      "0.0\n"
     ]
    }
   ],
   "source": [
    "pred = model3N(input)\n",
    "pred_dev = []\n",
    "for i in range(labels.shape[0]):\n",
    "    if torch.sgn(pred[i][0])  != torch.sgn(labels[i][0]):\n",
    "        pred_dev.append(i)\n",
    "print(len(pred_dev))\n",
    "print(torch.sqrt(torch.mean((torch.sgn(pred) - labels) ** 2)).item()) # also measure of num mistakes"
   ]
  },
  {
   "cell_type": "code",
   "execution_count": 112,
   "id": "4325cb00",
   "metadata": {},
   "outputs": [
    {
     "name": "stdout",
     "output_type": "stream",
     "text": [
      "saving model version 0.6\n"
     ]
    },
    {
     "data": {
      "text/plain": [
       "[[10, 0], [2, 0], [1, 0], [1, 0], [1, 0]]"
      ]
     },
     "execution_count": 112,
     "metadata": {},
     "output_type": "execute_result"
    }
   ],
   "source": [
    "model3N.prune().width"
   ]
  },
  {
   "cell_type": "code",
   "execution_count": 113,
   "id": "10aae3e5",
   "metadata": {},
   "outputs": [
    {
     "name": "stderr",
     "output_type": "stream",
     "text": [
      "| train_loss: 1.79e-01 | test_loss: 1.79e-01 | reg: 1.53e+01 | : 100%|█| 20/20 [00:06<00:00,  3.26it"
     ]
    },
    {
     "name": "stdout",
     "output_type": "stream",
     "text": [
      "saving model version 0.6\n"
     ]
    },
    {
     "name": "stderr",
     "output_type": "stream",
     "text": [
      "\n"
     ]
    }
   ],
   "source": [
    "model3N.fit(dataset, steps=20, lamb=2.5e-3);"
   ]
  },
  {
   "cell_type": "code",
   "execution_count": 114,
   "id": "6c75881c",
   "metadata": {},
   "outputs": [
    {
     "name": "stdout",
     "output_type": "stream",
     "text": [
      "saving model version 0.7\n"
     ]
    },
    {
     "data": {
      "text/plain": [
       "[[10, 0], [2, 0], [1, 0], [1, 0], [1, 0]]"
      ]
     },
     "execution_count": 114,
     "metadata": {},
     "output_type": "execute_result"
    }
   ],
   "source": [
    "model3N.prune().width"
   ]
  },
  {
   "cell_type": "code",
   "execution_count": 115,
   "id": "d797dce4",
   "metadata": {},
   "outputs": [
    {
     "data": {
      "image/png": "[encoded data removed]",
      "text/plain": [
       "<Figure size 500x800 with 30 Axes>"
      ]
     },
     "metadata": {},
     "output_type": "display_data"
    }
   ],
   "source": [
    "model3N.plot()"
   ]
  },
  {
   "cell_type": "code",
   "execution_count": 116,
   "id": "1b499df8",
   "metadata": {},
   "outputs": [
    {
     "name": "stdout",
     "output_type": "stream",
     "text": [
      "    function  fitting r2   r2 loss  complexity  complexity loss  total loss\n",
      "0        sin    0.542832 -1.129173           2                2   -0.190421\n",
      "1        cos    0.542832 -1.129173           2                2   -0.190421\n",
      "2          0    0.000000  0.000014           0                0    0.000010\n",
      "3        tan    0.477092 -0.935344           3                3    0.245259\n",
      "4      1/x^2    0.290248 -0.494593           2                2    0.253785\n",
      "5        exp    0.289534 -0.493142           2                2    0.254801\n",
      "6          x    0.009552 -0.013832           1                1    0.290318\n",
      "7        1/x    0.247725 -0.410649           2                2    0.312545\n",
      "8  1/sqrt(x)    0.240792 -0.397414           2                2    0.321810\n",
      "9    1/x^0.5    0.240792 -0.397414           2                2    0.321810\n"
     ]
    },
    {
     "data": {
      "image/png": "[encoded data removed]",
      "text/plain": [
       "<Figure size 300x300 with 1 Axes>"
      ]
     },
     "metadata": {},
     "output_type": "display_data"
    }
   ],
   "source": [
    "model3N.get_fun(1, 0, 0);\n",
    "model3N.suggest_symbolic(1, 0, 0, topk=10, weight_simple=0.3);"
   ]
  },
  {
   "cell_type": "code",
   "execution_count": 117,
   "id": "a6175fac",
   "metadata": {},
   "outputs": [
    {
     "name": "stdout",
     "output_type": "stream",
     "text": [
      "    function  fitting r2   r2 loss  complexity  complexity loss  total loss\n",
      "0        cos    0.893703 -3.233686           2                2   -1.663580\n",
      "1        sin    0.893703 -3.233685           2                2   -1.663579\n",
      "2          0    0.000000  0.000014           0                0    0.000010\n",
      "3   gaussian    0.468900 -0.912918           3                3    0.260958\n",
      "4          x    0.017113 -0.024888           1                1    0.282578\n",
      "5        1/x    0.100474 -0.152747           2                2    0.493077\n",
      "6      1/x^2    0.090813 -0.137335           2                2    0.503865\n",
      "7    1/x^0.5    0.090780 -0.137283           2                2    0.503902\n",
      "8  1/sqrt(x)    0.090780 -0.137283           2                2    0.503902\n",
      "9        exp    0.087688 -0.132385           2                2    0.507330\n"
     ]
    },
    {
     "data": {
      "image/png": "[encoded data removed]",
      "text/plain": [
       "<Figure size 300x300 with 1 Axes>"
      ]
     },
     "metadata": {},
     "output_type": "display_data"
    }
   ],
   "source": [
    "model3N.get_fun(1, 1, 0);\n",
    "model3N.suggest_symbolic(1, 1, 0, topk=10, weight_simple=0.3);"
   ]
  },
  {
   "cell_type": "code",
   "execution_count": 118,
   "id": "691f493e",
   "metadata": {},
   "outputs": [
    {
     "name": "stdout",
     "output_type": "stream",
     "text": [
      "r2 is 0.8937025666236877\n",
      "r2 is not very high, please double check if you are choosing the correct symbolic function.\n",
      "saving model version 0.7\n"
     ]
    }
   ],
   "source": [
    "model3N.fix_symbolic(1, 1, 0, 'cos');"
   ]
  },
  {
   "cell_type": "code",
   "execution_count": 119,
   "id": "d07d4a2c",
   "metadata": {},
   "outputs": [
    {
     "name": "stderr",
     "output_type": "stream",
     "text": [
      "| train_loss: 1.70e-01 | test_loss: 1.70e-01 | reg: 1.33e+01 | : 100%|█| 20/20 [00:08<00:00,  2.37it"
     ]
    },
    {
     "name": "stdout",
     "output_type": "stream",
     "text": [
      "saving model version 0.8\n"
     ]
    },
    {
     "name": "stderr",
     "output_type": "stream",
     "text": [
      "\n"
     ]
    }
   ],
   "source": [
    "model3N.fit(dataset, steps=20);"
   ]
  },
  {
   "cell_type": "code",
   "execution_count": 120,
   "id": "49872d99",
   "metadata": {},
   "outputs": [
    {
     "name": "stdout",
     "output_type": "stream",
     "text": [
      "    function  fitting r2   r2 loss  complexity  complexity loss  total loss\n",
      "0        sin    0.624904 -1.414631           2                2   -0.390242\n",
      "1        cos    0.624904 -1.414631           2                2   -0.390242\n",
      "2          0    0.000000  0.000014           0                0    0.000010\n",
      "3          x    0.004271 -0.006160           1                1    0.295688\n",
      "4        exp    0.258763 -0.431973           2                2    0.297619\n",
      "5      1/x^2    0.257105 -0.428751           2                2    0.299875\n",
      "6        1/x    0.211966 -0.343652           2                2    0.359444\n",
      "7  1/sqrt(x)    0.204053 -0.329238           2                2    0.369533\n",
      "8    1/x^0.5    0.204053 -0.329238           2                2    0.369533\n",
      "9        tan    0.401442 -0.740412           3                3    0.381711\n"
     ]
    },
    {
     "data": {
      "image/png": "[encoded data removed]",
      "text/plain": [
       "<Figure size 300x300 with 1 Axes>"
      ]
     },
     "metadata": {},
     "output_type": "display_data"
    }
   ],
   "source": [
    "model3N.get_fun(1, 0, 0);\n",
    "model3N.suggest_symbolic(1, 0, 0, topk=10, weight_simple=0.3);"
   ]
  },
  {
   "cell_type": "code",
   "execution_count": 121,
   "id": "c9d7e7d4",
   "metadata": {},
   "outputs": [
    {
     "name": "stdout",
     "output_type": "stream",
     "text": [
      "r2 is 0.6249042749404907\n",
      "r2 is not very high, please double check if you are choosing the correct symbolic function.\n",
      "saving model version 0.9\n"
     ]
    }
   ],
   "source": [
    "model3N.fix_symbolic(1, 0, 0, 'cos');"
   ]
  },
  {
   "cell_type": "code",
   "execution_count": 122,
   "id": "78fb5f50",
   "metadata": {},
   "outputs": [
    {
     "name": "stderr",
     "output_type": "stream",
     "text": [
      "| train_loss: 1.50e-01 | test_loss: 1.50e-01 | reg: 1.18e+01 | : 100%|█| 20/20 [00:07<00:00,  2.57it"
     ]
    },
    {
     "name": "stdout",
     "output_type": "stream",
     "text": [
      "saving model version 0.10\n"
     ]
    },
    {
     "name": "stderr",
     "output_type": "stream",
     "text": [
      "\n"
     ]
    }
   ],
   "source": [
    "model3N.fit(dataset, steps=20);"
   ]
  },
  {
   "cell_type": "code",
   "execution_count": 123,
   "id": "e86712e3",
   "metadata": {},
   "outputs": [
    {
     "name": "stdout",
     "output_type": "stream",
     "text": [
      "0\n",
      "0.0\n"
     ]
    }
   ],
   "source": [
    "pred = model3N(input)\n",
    "pred_dev = []\n",
    "for i in range(labels.shape[0]):\n",
    "    if torch.sgn(pred[i][0])  != torch.sgn(labels[i][0]):\n",
    "        pred_dev.append(i)\n",
    "print(len(pred_dev))\n",
    "print(torch.sqrt(torch.mean((torch.sgn(pred) - labels) ** 2)).item()) # also measure of num mistakes"
   ]
  },
  {
   "cell_type": "code",
   "execution_count": 126,
   "id": "09aa293a",
   "metadata": {},
   "outputs": [
    {
     "name": "stdout",
     "output_type": "stream",
     "text": [
      "fixing (0,0,0) with x, r2=1.0000011920928955, c=1\n",
      "fixing (0,0,1) with x, r2=1.0000007152557373, c=1\n",
      "fixing (0,1,0) with x, r2=1.0000008344650269, c=1\n",
      "fixing (0,1,1) with x, r2=1.000001311302185, c=1\n",
      "fixing (0,2,0) with x, r2=1.0000007152557373, c=1\n",
      "fixing (0,2,1) with 0\n",
      "fixing (0,3,0) with x, r2=1.000001072883606, c=1\n",
      "fixing (0,3,1) with x, r2=1.000001072883606, c=1\n",
      "fixing (0,4,0) with x, r2=1.0000009536743164, c=1\n",
      "fixing (0,4,1) with x, r2=1.000001072883606, c=1\n",
      "fixing (0,5,0) with x, r2=1.000001072883606, c=1\n",
      "fixing (0,5,1) with x, r2=1.0000011920928955, c=1\n",
      "fixing (0,6,0) with x, r2=1.0000011920928955, c=1\n",
      "fixing (0,6,1) with x, r2=1.0000009536743164, c=1\n",
      "fixing (0,7,0) with x, r2=1.000001072883606, c=1\n",
      "fixing (0,7,1) with x, r2=1.000001072883606, c=1\n",
      "fixing (0,8,0) with x, r2=1.000001072883606, c=1\n",
      "fixing (0,8,1) with x, r2=1.0000009536743164, c=1\n",
      "fixing (0,9,0) with x, r2=1.000001072883606, c=1\n",
      "fixing (0,9,1) with x, r2=1.000001311302185, c=1\n",
      "skipping (1,0,0) since already symbolic\n",
      "skipping (1,1,0) since already symbolic\n",
      "skipping (2,0,0) since already symbolic\n",
      "skipping (3,0,0) since already symbolic\n",
      "saving model version 0.11\n"
     ]
    }
   ],
   "source": [
    "model3N.auto_symbolic(weight_simple=0.3, r2_threshold=0.95);"
   ]
  },
  {
   "cell_type": "code",
   "execution_count": 127,
   "id": "89edccfc",
   "metadata": {},
   "outputs": [
    {
     "name": "stderr",
     "output_type": "stream",
     "text": [
      "| train_loss: 1.50e-01 | test_loss: 1.50e-01 | reg: 0.00e+00 | : 100%|█| 20/20 [00:03<00:00,  5.83it"
     ]
    },
    {
     "name": "stdout",
     "output_type": "stream",
     "text": [
      "saving model version 0.12\n"
     ]
    },
    {
     "name": "stderr",
     "output_type": "stream",
     "text": [
      "\n"
     ]
    }
   ],
   "source": [
    "model3N.fit(dataset, steps=20);"
   ]
  },
  {
   "cell_type": "code",
   "execution_count": 128,
   "id": "4f515aa5",
   "metadata": {},
   "outputs": [
    {
     "data": {
      "text/latex": [
       "$\\displaystyle 1.0 \\tanh{\\left(2.0 \\cos{\\left(3.3475 \\cos{\\left(0.5449 x_{1} - 2.2236 x_{10} - 2.5789 x_{2} - 2.8508 x_{4} + 0.7804 x_{5} - 1.9904 x_{6} + 1.1372 x_{7} - 1.0715 x_{8} + 1.7516 x_{9} + 4.8215 \\right)} - 2.1697 \\cos{\\left(- 2.8262 x_{1} + 0.9016 x_{10} + 0.6178 x_{2} - 3.2304 x_{3} + 0.6129 x_{4} - 1.8385 x_{5} + 1.8922 x_{6} - 1.568 x_{7} + 2.9788 x_{8} - 0.836 x_{9} + 0.0772 \\right)} + 1.5708 \\right)} \\right)}$"
      ],
      "text/plain": [
       "1.0*tanh(2.0*cos(3.3475*cos(0.5449*x_1 - 2.2236*x_10 - 2.5789*x_2 - 2.8508*x_4 + 0.7804*x_5 - 1.9904*x_6 + 1.1372*x_7 - 1.0715*x_8 + 1.7516*x_9 + 4.8215) - 2.1697*cos(-2.8262*x_1 + 0.9016*x_10 + 0.6178*x_2 - 3.2304*x_3 + 0.6129*x_4 - 1.8385*x_5 + 1.8922*x_6 - 1.568*x_7 + 2.9788*x_8 - 0.836*x_9 + 0.0772) + 1.5708))"
      ]
     },
     "execution_count": 128,
     "metadata": {},
     "output_type": "execute_result"
    }
   ],
   "source": [
    "ku.ex_round(utils.symbolic_formula(model3N)[0][0], 4)"
   ]
  },
  {
   "cell_type": "code",
   "execution_count": 204,
   "id": "c76c7e09",
   "metadata": {},
   "outputs": [],
   "source": [
    "model3N.saveckpt('model_files/symb_fix_tanh_cos_10_2_1_1_1')"
   ]
  },
  {
   "cell_type": "code",
   "execution_count": 403,
   "id": "6ec9dd23",
   "metadata": {},
   "outputs": [],
   "source": [
    "first_cos_coef = [0.545, -2.579, 0, -2.85, 0.78, -1.99, 1.13, -1.07, 1.75, -2.22]\n",
    "second_cos_coef = [-2.826, 0.618, -3.23, 0.613, -1.835, 1.89, -1.568, 2.98, -0.836, 0.901]\n",
    "def manual_fun(x):\n",
    "    return torch.tanh(2 * torch.cos(3.34 * torch.cos(sum(first_cos_coef[i] * x[:, i] for i in range(N)) + 4.82) - 2.1697 * torch.cos(sum(second_cos_coef[i] * x[:, i] for i in range(N)) + 0.0772) + 1.57))\n",
    "def modified_fun(x):\n",
    "    return torch.tanh(-2 * torch.sin(3.34 * torch.cos(sum(first_cos_coef[i] * x[:, i] for i in range(N)) + 4.82) - 2.1697 * torch.cos(sum(second_cos_coef[i] * x[:, i] for i in range(N)) )))"
   ]
  },
  {
   "cell_type": "code",
   "execution_count": 404,
   "id": "713c3d29",
   "metadata": {},
   "outputs": [],
   "source": [
    "#torch.abs(model3N(input).reshape(-1) - manual_fun(input)) this is good"
   ]
  },
  {
   "cell_type": "code",
   "execution_count": null,
   "id": "08c919e2",
   "metadata": {},
   "outputs": [
    {
     "name": "stdout",
     "output_type": "stream",
     "text": [
      "loss 0.15028478521691885\n",
      "snap loss 0.0\n",
      "mod loss 0.1677474122748549\n",
      "snap mod loss 0.0\n"
     ]
    },
    {
     "ename": "",
     "evalue": "",
     "output_type": "error",
     "traceback": [
      "\u001b[1;31mThe Kernel crashed while executing code in the current cell or a previous cell. \n",
      "\u001b[1;31mPlease review the code in the cell(s) to identify a possible cause of the failure. \n",
      "\u001b[1;31mClick <a href='https://aka.ms/vscodeJupyterKernelCrash'>here</a> for more info. \n",
      "\u001b[1;31mView Jupyter <a href='command:jupyter.viewOutput'>log</a> for further details."
     ]
    }
   ],
   "source": [
    "print('loss', torch.sqrt(torch.mean((model3N(input) - labels) ** 2)).item() )\n",
    "print('snap loss', torch.sqrt(torch.mean((torch.sgn(model3N(input)) - labels) ** 2)).item()) # also measure of num mistakes\n",
    "print('mod loss', torch.sqrt(torch.mean((modified_fun(input).reshape(-1, 1) - labels) ** 2)).item())\n",
    "print('snap mod loss', torch.sqrt(torch.mean((torch.sgn(modified_fun(input).reshape(-1, 1)) - labels) ** 2)).item())"
   ]
  },
  {
   "cell_type": "code",
   "execution_count": 205,
   "id": "350a8f8d",
   "metadata": {},
   "outputs": [
    {
     "data": {
      "text/plain": [
       "array([-2.281, -1.961, -3.23 , -2.237, -1.055, -0.1  , -0.438,  1.91 ,\n",
       "        0.914, -1.319])"
      ]
     },
     "execution_count": 205,
     "metadata": {},
     "output_type": "execute_result"
    }
   ],
   "source": [
    "np.array(first_cos_coef) + np.array(second_cos_coef)"
   ]
  },
  {
   "cell_type": "code",
   "execution_count": 206,
   "id": "a21741fc",
   "metadata": {},
   "outputs": [
    {
     "data": {
      "text/plain": [
       "array([ 3.371, -3.197,  3.23 , -3.463,  2.615, -3.88 ,  2.698, -4.05 ,\n",
       "        2.586, -3.121])"
      ]
     },
     "execution_count": 206,
     "metadata": {},
     "output_type": "execute_result"
    }
   ],
   "source": [
    "np.array(first_cos_coef) - np.array(second_cos_coef) # seem sorta close to pi??  "
   ]
  },
  {
   "cell_type": "code",
   "execution_count": 141,
   "id": "2e2d2b41",
   "metadata": {},
   "outputs": [
    {
     "data": {
      "text/plain": [
       "([1.0*tanh(2.0*cos(3.34752320774396*cos(0.544946154345259*x_1 - 2.22363982848632*x_10 - 2.57894603938833*x_2 - 2.85082151973769*x_4 + 0.780351054686128*x_5 - 1.99039603359671*x_6 + 1.13720661684774*x_7 - 1.07154768278272*x_8 + 1.75159171375662*x_9 + 4.82145813485576) - 2.16971433305957*cos(-2.82620226455693*x_1 + 0.901648907958341*x_10 + 0.617798712982068*x_2 - 3.23043915004537*x_3 + 0.612881241080531*x_4 - 1.83849518684647*x_5 + 1.8922294571148*x_6 - 1.56799065389684*x_7 + 2.97882079952936*x_8 - 0.836047390712836*x_9 + 0.07715229483621) + 1.57079890153072))],\n",
       " [x_1, x_2, x_3, x_4, x_5, x_6, x_7, x_8, x_9, x_10])"
      ]
     },
     "execution_count": 141,
     "metadata": {},
     "output_type": "execute_result"
    }
   ],
   "source": [
    "utils.symbolic_formula(model3N)"
   ]
  },
  {
   "cell_type": "code",
   "execution_count": 145,
   "id": "26c88530",
   "metadata": {},
   "outputs": [
    {
     "name": "stdout",
     "output_type": "stream",
     "text": [
      "1.0 \\tanh{\\left(2.0 \\cos{\\left(3.3475 \\cos{\\left(0.5449 x_{1} - 2.2236 x_{10} - 2.5789 x_{2} - 2.8508 x_{4} + 0.7804 x_{5} - 1.9904 x_{6} + 1.1372 x_{7} - 1.0715 x_{8} + 1.7516 x_{9} + 4.8215 \\right)} - 2.1697 \\cos{\\left(- 2.8262 x_{1} + 0.9016 x_{10} + 0.6178 x_{2} - 3.2304 x_{3} + 0.6129 x_{4} - 1.8385 x_{5} + 1.8922 x_{6} - 1.568 x_{7} + 2.9788 x_{8} - 0.836 x_{9} + 0.0772 \\right)} + 1.5708 \\right)} \\right)}\n"
     ]
    }
   ],
   "source": [
    "sympy.print_latex(ku.ex_round(utils.symbolic_formula(model3N)[0][0], 4))"
   ]
  },
  {
   "cell_type": "code",
   "execution_count": 138,
   "id": "a5bcf453",
   "metadata": {},
   "outputs": [
    {
     "data": {
      "text/latex": [
       "$\\displaystyle 1.0 \\tanh{\\left(2.0 \\cos{\\left(3.34752320774396 \\cos{\\left(2.22363982848632 x_{10} + 2.57894603938833 x_{2} + 2.85082151973769 x_{4} - 0.780351054686128 x_{5} + 1.99039603359671 x_{6} - 1.13720661684774 x_{7} + 1.07154768278272 x_{8} - 1.75159171375662 x_{9} - 5.36640428920102 \\right)} - 2.16971433305957 \\cos{\\left(0.901648907958341 x_{10} + 0.617798712982068 x_{2} - 3.23043915004537 x_{3} + 0.612881241080531 x_{4} - 1.83849518684647 x_{5} + 1.8922294571148 x_{6} - 1.56799065389684 x_{7} + 2.97882079952936 x_{8} - 0.836047390712836 x_{9} - 2.74904996972072 \\right)} + 1.57079890153072 \\right)} \\right)}$"
      ],
      "text/plain": [
       "1.0*tanh(2.0*cos(3.34752320774396*cos(2.22363982848632*x_10 + 2.57894603938833*x_2 + 2.85082151973769*x_4 - 0.780351054686128*x_5 + 1.99039603359671*x_6 - 1.13720661684774*x_7 + 1.07154768278272*x_8 - 1.75159171375662*x_9 - 5.36640428920102) - 2.16971433305957*cos(0.901648907958341*x_10 + 0.617798712982068*x_2 - 3.23043915004537*x_3 + 0.612881241080531*x_4 - 1.83849518684647*x_5 + 1.8922294571148*x_6 - 1.56799065389684*x_7 + 2.97882079952936*x_8 - 0.836047390712836*x_9 - 2.74904996972072) + 1.57079890153072))"
      ]
     },
     "execution_count": 138,
     "metadata": {},
     "output_type": "execute_result"
    }
   ],
   "source": [
    "utils.symbolic_formula(model3N)[0][0].evalf(2, {'x_1': 1})"
   ]
  },
  {
   "cell_type": "code",
   "execution_count": 337,
   "id": "0f344e6c",
   "metadata": {},
   "outputs": [
    {
     "name": "stdout",
     "output_type": "stream",
     "text": [
      "checkpoint directory created: ./model\n",
      "saving model version 0.0\n",
      "Best value at boundary.\n",
      "r2 is 0.24868926405906677\n",
      "r2 is not very high, please double check if you are choosing the correct symbolic function.\n",
      "saving model version 0.1\n",
      "Best value at boundary.\n",
      "r2 is 0.9950270652770996\n",
      "saving model version 0.2\n"
     ]
    }
   ],
   "source": [
    "model_fix = kan.KAN(width = [N, 2, 1, 1, 1]) # this gets to 0 mistakes with no lamb\n",
    "model_fix(dataset['train_input'])\n",
    "model_fix.fix_symbolic(3, 0, 0, 'tanh')\n",
    "model_fix.symbolic_fun[3].affine = nn.Parameter(torch.tensor([[[1, 0, 1, 0]]], dtype=torch.float64), requires_grad=False)\n",
    "model_fix.fix_symbolic(2, 0, 0, 'cos')\n",
    "model_fix.symbolic_fun[2].affine = nn.Parameter(torch.tensor([[[np.pi, 0, 2, 0]]], dtype=torch.float64), requires_grad=False)"
   ]
  },
  {
   "cell_type": "code",
   "execution_count": 338,
   "id": "dd4f3f91",
   "metadata": {},
   "outputs": [
    {
     "name": "stderr",
     "output_type": "stream",
     "text": [
      "| train_loss: 1.87e-01 | test_loss: 1.87e-01 | reg: 1.59e+01 | : 100%|█| 20/20 [00:10<00:00,  1.91it"
     ]
    },
    {
     "name": "stdout",
     "output_type": "stream",
     "text": [
      "saving model version 0.3\n"
     ]
    },
    {
     "name": "stderr",
     "output_type": "stream",
     "text": [
      "\n"
     ]
    }
   ],
   "source": [
    "model_fix.fit(dataset, steps=20);"
   ]
  },
  {
   "cell_type": "code",
   "execution_count": 339,
   "id": "1801b9a2",
   "metadata": {},
   "outputs": [
    {
     "data": {
      "text/plain": [
       "tensor(0., dtype=torch.float64, grad_fn=<SqrtBackward0>)"
      ]
     },
     "execution_count": 339,
     "metadata": {},
     "output_type": "execute_result"
    }
   ],
   "source": [
    "torch.sqrt(torch.mean((torch.sgn(model_fix(input)) - labels) ** 2))"
   ]
  },
  {
   "cell_type": "code",
   "execution_count": 340,
   "id": "72edb719",
   "metadata": {},
   "outputs": [
    {
     "name": "stdout",
     "output_type": "stream",
     "text": [
      "saving model version 0.4\n"
     ]
    },
    {
     "data": {
      "text/plain": [
       "[[10, 0], [2, 0], [1, 0], [1, 0], [1, 0]]"
      ]
     },
     "execution_count": 340,
     "metadata": {},
     "output_type": "execute_result"
    }
   ],
   "source": [
    "model_fix.prune().width"
   ]
  },
  {
   "cell_type": "code",
   "execution_count": 341,
   "id": "22ad291d",
   "metadata": {},
   "outputs": [
    {
     "data": {
      "image/png": "[encoded data removed]",
      "text/plain": [
       "<Figure size 500x800 with 30 Axes>"
      ]
     },
     "metadata": {},
     "output_type": "display_data"
    }
   ],
   "source": [
    "model_fix.plot()"
   ]
  },
  {
   "cell_type": "code",
   "execution_count": 342,
   "id": "7dba8efa",
   "metadata": {},
   "outputs": [
    {
     "name": "stdout",
     "output_type": "stream",
     "text": [
      "   function  fitting r2   r2 loss  complexity  complexity loss  total loss\n",
      "0       sin    0.941197 -4.087721           2                2   -2.261404\n",
      "1       cos    0.941197 -4.087719           2                2   -2.261403\n",
      "2         0    0.000000  0.000014           0                0    0.000010\n",
      "3  gaussian    0.515699 -1.045995           3                3    0.167804\n",
      "4         x    0.017969 -0.026145           1                1    0.281698\n"
     ]
    },
    {
     "data": {
      "image/png": "[encoded data removed]",
      "text/plain": [
       "<Figure size 300x300 with 1 Axes>"
      ]
     },
     "metadata": {},
     "output_type": "display_data"
    }
   ],
   "source": [
    "model_fix.get_fun(1, 0, 0);\n",
    "model_fix.suggest_symbolic(1, 0, 0, weight_simple=0.3);"
   ]
  },
  {
   "cell_type": "code",
   "execution_count": 343,
   "id": "8faaadc0",
   "metadata": {},
   "outputs": [
    {
     "name": "stdout",
     "output_type": "stream",
     "text": [
      "  function  fitting r2   r2 loss  complexity  complexity loss  total loss\n",
      "0      cos    0.470027 -0.915982           2                2   -0.041187\n",
      "1      sin    0.470027 -0.915982           2                2   -0.041187\n",
      "2        0    0.000000  0.000014           0                0    0.000010\n",
      "3      x^5    0.565743 -1.203347           3                3    0.057657\n",
      "4      tan    0.550895 -1.154843           3                3    0.091610\n"
     ]
    },
    {
     "data": {
      "image/png": "[encoded data removed]",
      "text/plain": [
       "<Figure size 300x300 with 1 Axes>"
      ]
     },
     "metadata": {},
     "output_type": "display_data"
    }
   ],
   "source": [
    "model_fix.get_fun(1, 1, 0);\n",
    "model_fix.suggest_symbolic(1, 1, 0, weight_simple=0.3);"
   ]
  },
  {
   "cell_type": "code",
   "execution_count": 344,
   "id": "8856546a",
   "metadata": {},
   "outputs": [
    {
     "name": "stdout",
     "output_type": "stream",
     "text": [
      "r2 is 0.9411969184875488\n",
      "saving model version 0.4\n"
     ]
    },
    {
     "data": {
      "text/plain": [
       "tensor(0.9412)"
      ]
     },
     "execution_count": 344,
     "metadata": {},
     "output_type": "execute_result"
    }
   ],
   "source": [
    "model_fix.fix_symbolic(1, 0, 0, 'cos')\n",
    "# model_fix.fix_symbolic(1, 0, 0, 'cos')\n",
    "# model_fix.symbolic_fun[1].affine = nn.Parameter(torch.tensor([[[np.pi, 0, 1, 0], [np.pi, 0, 1, 0]]], dtype=torch.float64), requires_grad=False)"
   ]
  },
  {
   "cell_type": "code",
   "execution_count": 345,
   "id": "b2f0df34",
   "metadata": {},
   "outputs": [
    {
     "name": "stderr",
     "output_type": "stream",
     "text": [
      "| train_loss: 1.89e-01 | test_loss: 1.89e-01 | reg: 1.41e+01 | : 100%|█| 20/20 [00:06<00:00,  3.16it"
     ]
    },
    {
     "name": "stdout",
     "output_type": "stream",
     "text": [
      "saving model version 0.5\n"
     ]
    },
    {
     "name": "stderr",
     "output_type": "stream",
     "text": [
      "\n"
     ]
    }
   ],
   "source": [
    "model_fix.fit(dataset, steps=20);"
   ]
  },
  {
   "cell_type": "code",
   "execution_count": 346,
   "id": "59d9e3bd",
   "metadata": {},
   "outputs": [
    {
     "name": "stdout",
     "output_type": "stream",
     "text": [
      "  function  fitting r2   r2 loss  complexity  complexity loss  total loss\n",
      "0      sin    0.484371 -0.955566           2                2   -0.068896\n",
      "1      cos    0.484371 -0.955566           2                2   -0.068896\n",
      "2        0    0.000000  0.000014           0                0    0.000010\n",
      "3      x^5    0.559069 -1.181342           3                3    0.073061\n",
      "4        x    0.118830 -0.182492           1                1    0.172256\n"
     ]
    },
    {
     "data": {
      "image/png": "[encoded data removed]",
      "text/plain": [
       "<Figure size 300x300 with 1 Axes>"
      ]
     },
     "metadata": {},
     "output_type": "display_data"
    }
   ],
   "source": [
    "model_fix.get_fun(1, 1, 0);\n",
    "model_fix.suggest_symbolic(1, 1, 0, weight_simple=0.3);"
   ]
  },
  {
   "cell_type": "code",
   "execution_count": 347,
   "id": "816e3ba4",
   "metadata": {},
   "outputs": [
    {
     "name": "stdout",
     "output_type": "stream",
     "text": [
      "r2 is 0.48437079787254333\n",
      "r2 is not very high, please double check if you are choosing the correct symbolic function.\n",
      "saving model version 0.6\n"
     ]
    }
   ],
   "source": [
    "model_fix.fix_symbolic(1, 1, 0, 'cos');"
   ]
  },
  {
   "cell_type": "code",
   "execution_count": 348,
   "id": "5d37e892",
   "metadata": {},
   "outputs": [
    {
     "name": "stderr",
     "output_type": "stream",
     "text": [
      "| train_loss: 1.50e-01 | test_loss: 1.50e-01 | reg: 1.17e+01 | : 100%|█| 20/20 [00:07<00:00,  2.63it"
     ]
    },
    {
     "name": "stdout",
     "output_type": "stream",
     "text": [
      "saving model version 0.7\n"
     ]
    },
    {
     "name": "stderr",
     "output_type": "stream",
     "text": [
      "\n"
     ]
    }
   ],
   "source": [
    "model_fix.fit(dataset, steps=20);"
   ]
  },
  {
   "cell_type": "code",
   "execution_count": 349,
   "id": "158bc103",
   "metadata": {},
   "outputs": [
    {
     "data": {
      "text/plain": [
       "tensor(0., dtype=torch.float64, grad_fn=<SqrtBackward0>)"
      ]
     },
     "execution_count": 349,
     "metadata": {},
     "output_type": "execute_result"
    }
   ],
   "source": [
    "torch.sqrt(torch.mean((torch.sgn(model_fix(input)) - labels) ** 2))"
   ]
  },
  {
   "cell_type": "code",
   "execution_count": 350,
   "id": "2a31fd6f",
   "metadata": {},
   "outputs": [
    {
     "name": "stdout",
     "output_type": "stream",
     "text": [
      "0\n",
      "0.0\n"
     ]
    }
   ],
   "source": [
    "pred = model_fix(input)\n",
    "pred_dev = []\n",
    "for i in range(labels.shape[0]):\n",
    "    if torch.sgn(pred[i][0])  != torch.sgn(labels[i][0]):\n",
    "        pred_dev.append(i)\n",
    "print(len(pred_dev))\n",
    "print(torch.sqrt(torch.mean((torch.sgn(pred) - labels) ** 2)).item()) # also measure of num mistakes"
   ]
  },
  {
   "cell_type": "code",
   "execution_count": 351,
   "id": "5b81e7b2",
   "metadata": {},
   "outputs": [
    {
     "data": {
      "image/png": "[encoded data removed]",
      "text/plain": [
       "<Figure size 500x800 with 30 Axes>"
      ]
     },
     "metadata": {},
     "output_type": "display_data"
    }
   ],
   "source": [
    "model_fix.plot()"
   ]
  },
  {
   "cell_type": "code",
   "execution_count": 352,
   "id": "dc1f38a6",
   "metadata": {},
   "outputs": [
    {
     "name": "stdout",
     "output_type": "stream",
     "text": [
      "fixing (0,0,0) with x, r2=1.0000009536743164, c=1\n",
      "fixing (0,0,1) with x, r2=1.0000011920928955, c=1\n",
      "fixing (0,1,0) with x, r2=1.000001072883606, c=1\n",
      "fixing (0,1,1) with x, r2=1.0000009536743164, c=1\n",
      "fixing (0,2,0) with x, r2=1.000001072883606, c=1\n",
      "fixing (0,2,1) with x, r2=1.0000009536743164, c=1\n",
      "fixing (0,3,0) with x, r2=1.0000009536743164, c=1\n",
      "fixing (0,3,1) with x, r2=1.0000011920928955, c=1\n",
      "fixing (0,4,0) with x, r2=1.0000009536743164, c=1\n",
      "fixing (0,4,1) with x, r2=1.0000009536743164, c=1\n",
      "fixing (0,5,0) with x, r2=1.0000011920928955, c=1\n",
      "fixing (0,5,1) with x, r2=1.000001072883606, c=1\n",
      "fixing (0,6,0) with x, r2=1.0000011920928955, c=1\n",
      "fixing (0,6,1) with x, r2=1.000001311302185, c=1\n",
      "fixing (0,7,0) with x, r2=1.0000009536743164, c=1\n",
      "fixing (0,7,1) with x, r2=1.0000011920928955, c=1\n",
      "fixing (0,8,0) with x, r2=1.0000007152557373, c=1\n",
      "fixing (0,8,1) with x, r2=1.0000008344650269, c=1\n",
      "fixing (0,9,0) with x, r2=1.0000011920928955, c=1\n",
      "fixing (0,9,1) with x, r2=1.0000009536743164, c=1\n",
      "skipping (1,0,0) since already symbolic\n",
      "skipping (1,1,0) since already symbolic\n",
      "skipping (2,0,0) since already symbolic\n",
      "skipping (3,0,0) since already symbolic\n",
      "saving model version 0.8\n"
     ]
    }
   ],
   "source": [
    "model_fix.auto_symbolic(weight_simple=0.3);"
   ]
  },
  {
   "cell_type": "code",
   "execution_count": 353,
   "id": "984c31ea",
   "metadata": {},
   "outputs": [
    {
     "name": "stderr",
     "output_type": "stream",
     "text": [
      "| train_loss: 1.50e-01 | test_loss: 1.50e-01 | reg: 0.00e+00 | : 100%|█| 20/20 [00:02<00:00,  7.10it"
     ]
    },
    {
     "name": "stdout",
     "output_type": "stream",
     "text": [
      "saving model version 0.9\n"
     ]
    },
    {
     "name": "stderr",
     "output_type": "stream",
     "text": [
      "\n"
     ]
    }
   ],
   "source": [
    "model_fix.fit(dataset, steps=20);"
   ]
  },
  {
   "cell_type": "code",
   "execution_count": 354,
   "id": "92b34867",
   "metadata": {},
   "outputs": [
    {
     "data": {
      "text/latex": [
       "$\\displaystyle 1.0 \\tanh{\\left(2.0 \\cos{\\left(2.1422 \\cos{\\left(- 2.149 x_{1} + 1.5825 x_{10} + 1.3128 x_{2} + 3.0465 x_{3} + 0.5814 x_{4} - 1.1532 x_{5} + 2.5751 x_{6} - 0.8703 x_{7} + 2.9791 x_{8} - 0.8656 x_{9} - 5.0904 \\right)} + 3.3211 \\cos{\\left(- 0.5728 x_{1} + 2.1993 x_{10} + 2.5565 x_{2} + 0.3455 x_{3} - 3.1138 x_{4} - 0.8025 x_{5} + 1.9676 x_{6} - 1.1579 x_{7} + 1.4219 x_{8} - 1.4323 x_{9} + 7.1482 \\right)} + 1.5708 \\right)} \\right)}$"
      ],
      "text/plain": [
       "1.0*tanh(2.0*cos(2.1422*cos(-2.149*x_1 + 1.5825*x_10 + 1.3128*x_2 + 3.0465*x_3 + 0.5814*x_4 - 1.1532*x_5 + 2.5751*x_6 - 0.8703*x_7 + 2.9791*x_8 - 0.8656*x_9 - 5.0904) + 3.3211*cos(-0.5728*x_1 + 2.1993*x_10 + 2.5565*x_2 + 0.3455*x_3 - 3.1138*x_4 - 0.8025*x_5 + 1.9676*x_6 - 1.1579*x_7 + 1.4219*x_8 - 1.4323*x_9 + 7.1482) + 1.5708))"
      ]
     },
     "execution_count": 354,
     "metadata": {},
     "output_type": "execute_result"
    }
   ],
   "source": [
    "ku.ex_round(utils.symbolic_formula(model_fix)[0][0], 4)"
   ]
  },
  {
   "cell_type": "code",
   "execution_count": 360,
   "id": "3ae2ad61",
   "metadata": {},
   "outputs": [
    {
     "data": {
      "text/plain": [
       "['__abs__',\n",
       " '__add__',\n",
       " '__annotations__',\n",
       " '__class__',\n",
       " '__complex__',\n",
       " '__delattr__',\n",
       " '__dir__',\n",
       " '__divmod__',\n",
       " '__doc__',\n",
       " '__eq__',\n",
       " '__float__',\n",
       " '__floordiv__',\n",
       " '__format__',\n",
       " '__ge__',\n",
       " '__getattribute__',\n",
       " '__getnewargs__',\n",
       " '__getstate__',\n",
       " '__gt__',\n",
       " '__hash__',\n",
       " '__init__',\n",
       " '__init_subclass__',\n",
       " '__int__',\n",
       " '__le__',\n",
       " '__lt__',\n",
       " '__mod__',\n",
       " '__module__',\n",
       " '__mul__',\n",
       " '__ne__',\n",
       " '__neg__',\n",
       " '__new__',\n",
       " '__pos__',\n",
       " '__pow__',\n",
       " '__radd__',\n",
       " '__rdivmod__',\n",
       " '__reduce__',\n",
       " '__reduce_ex__',\n",
       " '__repr__',\n",
       " '__rfloordiv__',\n",
       " '__rmod__',\n",
       " '__rmul__',\n",
       " '__round__',\n",
       " '__rpow__',\n",
       " '__rsub__',\n",
       " '__rtruediv__',\n",
       " '__setattr__',\n",
       " '__setstate__',\n",
       " '__sizeof__',\n",
       " '__slots__',\n",
       " '__str__',\n",
       " '__sub__',\n",
       " '__subclasshook__',\n",
       " '__sympy__',\n",
       " '__truediv__',\n",
       " '__trunc__',\n",
       " '_add_handler',\n",
       " '_args',\n",
       " '_args_type',\n",
       " '_assumptions',\n",
       " '_combine_inverse',\n",
       " '_compare_pretty',\n",
       " '_constructor_postprocessor_mapping',\n",
       " '_diff_wrt',\n",
       " '_do_eq_sympify',\n",
       " '_eval_adjoint',\n",
       " '_eval_as_leading_term',\n",
       " '_eval_conjugate',\n",
       " '_eval_derivative',\n",
       " '_eval_derivative_matrix_lines',\n",
       " '_eval_derivative_n_times',\n",
       " '_eval_difference_delta',\n",
       " '_eval_evalf',\n",
       " '_eval_expand_complex',\n",
       " '_eval_expand_mul',\n",
       " '_eval_herm_antiherm',\n",
       " '_eval_interval',\n",
       " '_eval_is_algebraic',\n",
       " '_eval_is_algebraic_expr',\n",
       " '_eval_is_antihermitian',\n",
       " '_eval_is_commutative',\n",
       " '_eval_is_complex',\n",
       " '_eval_is_composite',\n",
       " '_eval_is_even',\n",
       " '_eval_is_extended_negative',\n",
       " '_eval_is_extended_positive',\n",
       " '_eval_is_extended_positive_negative',\n",
       " '_eval_is_extended_real',\n",
       " '_eval_is_hermitian',\n",
       " '_eval_is_imaginary',\n",
       " '_eval_is_infinite',\n",
       " '_eval_is_integer',\n",
       " '_eval_is_irrational',\n",
       " '_eval_is_meromorphic',\n",
       " '_eval_is_odd',\n",
       " '_eval_is_polar',\n",
       " '_eval_is_polynomial',\n",
       " '_eval_is_rational',\n",
       " '_eval_is_rational_function',\n",
       " '_eval_is_zero',\n",
       " '_eval_is_zero_infinite_helper',\n",
       " '_eval_lseries',\n",
       " '_eval_nseries',\n",
       " '_eval_pos_neg',\n",
       " '_eval_power',\n",
       " '_eval_real_imag',\n",
       " '_eval_rewrite',\n",
       " '_eval_subs',\n",
       " '_eval_transpose',\n",
       " '_evalf',\n",
       " '_exec_constructor_postprocessors',\n",
       " '_expand_hint',\n",
       " '_expandsums',\n",
       " '_explicit_class_assumptions',\n",
       " '_from_args',\n",
       " '_from_mpmath',\n",
       " '_has',\n",
       " '_has_matcher',\n",
       " '_hashable_content',\n",
       " '_kind_dispatcher',\n",
       " '_matches_add_wildcard',\n",
       " '_matches_commutative',\n",
       " '_matches_expand_pows',\n",
       " '_matches_get_other_nodes',\n",
       " '_matches_match_wilds',\n",
       " '_matches_new_states',\n",
       " '_matches_noncomm',\n",
       " '_matches_simple',\n",
       " '_mhash',\n",
       " '_mpc_',\n",
       " '_mul_handler',\n",
       " '_new_rawargs',\n",
       " '_op_priority',\n",
       " '_parse_order',\n",
       " '_pow',\n",
       " '_prop_handler',\n",
       " '_random',\n",
       " '_recursive_call',\n",
       " '_repr_disabled',\n",
       " '_repr_latex_',\n",
       " '_repr_png_',\n",
       " '_repr_svg_',\n",
       " '_rewrite',\n",
       " '_sage_',\n",
       " '_sorted_args',\n",
       " '_subs',\n",
       " '_to_mpmath',\n",
       " '_xreplace',\n",
       " 'adjoint',\n",
       " 'apart',\n",
       " 'args',\n",
       " 'args_cnc',\n",
       " 'as_base_exp',\n",
       " 'as_coeff_Add',\n",
       " 'as_coeff_Mul',\n",
       " 'as_coeff_add',\n",
       " 'as_coeff_exponent',\n",
       " 'as_coeff_mul',\n",
       " 'as_coefficient',\n",
       " 'as_coefficients_dict',\n",
       " 'as_content_primitive',\n",
       " 'as_dummy',\n",
       " 'as_expr',\n",
       " 'as_independent',\n",
       " 'as_leading_term',\n",
       " 'as_numer_denom',\n",
       " 'as_ordered_factors',\n",
       " 'as_ordered_terms',\n",
       " 'as_poly',\n",
       " 'as_powers_dict',\n",
       " 'as_real_imag',\n",
       " 'as_terms',\n",
       " 'as_two_terms',\n",
       " 'aseries',\n",
       " 'assumptions0',\n",
       " 'atoms',\n",
       " 'cancel',\n",
       " 'canonical_variables',\n",
       " 'class_key',\n",
       " 'coeff',\n",
       " 'collect',\n",
       " 'combsimp',\n",
       " 'compare',\n",
       " 'compute_leading_term',\n",
       " 'conjugate',\n",
       " 'copy',\n",
       " 'could_extract_minus_sign',\n",
       " 'count',\n",
       " 'count_ops',\n",
       " 'default_assumptions',\n",
       " 'diff',\n",
       " 'dir',\n",
       " 'doit',\n",
       " 'dummy_eq',\n",
       " 'equals',\n",
       " 'evalf',\n",
       " 'expand',\n",
       " 'expr_free_symbols',\n",
       " 'extract_additively',\n",
       " 'extract_branch_factor',\n",
       " 'extract_multiplicatively',\n",
       " 'factor',\n",
       " 'find',\n",
       " 'flatten',\n",
       " 'fourier_series',\n",
       " 'fps',\n",
       " 'free_symbols',\n",
       " 'fromiter',\n",
       " 'func',\n",
       " 'gammasimp',\n",
       " 'getO',\n",
       " 'getn',\n",
       " 'has',\n",
       " 'has_free',\n",
       " 'has_xfree',\n",
       " 'identity',\n",
       " 'integrate',\n",
       " 'invert',\n",
       " 'is_Add',\n",
       " 'is_AlgebraicNumber',\n",
       " 'is_Atom',\n",
       " 'is_Boolean',\n",
       " 'is_Derivative',\n",
       " 'is_Dummy',\n",
       " 'is_Equality',\n",
       " 'is_Float',\n",
       " 'is_Function',\n",
       " 'is_Indexed',\n",
       " 'is_Integer',\n",
       " 'is_MatAdd',\n",
       " 'is_MatMul',\n",
       " 'is_Matrix',\n",
       " 'is_Mul',\n",
       " 'is_Not',\n",
       " 'is_Number',\n",
       " 'is_NumberSymbol',\n",
       " 'is_Order',\n",
       " 'is_Piecewise',\n",
       " 'is_Point',\n",
       " 'is_Poly',\n",
       " 'is_Pow',\n",
       " 'is_Rational',\n",
       " 'is_Relational',\n",
       " 'is_Symbol',\n",
       " 'is_Vector',\n",
       " 'is_Wild',\n",
       " 'is_algebraic',\n",
       " 'is_algebraic_expr',\n",
       " 'is_antihermitian',\n",
       " 'is_commutative',\n",
       " 'is_comparable',\n",
       " 'is_complex',\n",
       " 'is_composite',\n",
       " 'is_constant',\n",
       " 'is_even',\n",
       " 'is_extended_negative',\n",
       " 'is_extended_nonnegative',\n",
       " 'is_extended_nonpositive',\n",
       " 'is_extended_nonzero',\n",
       " 'is_extended_positive',\n",
       " 'is_extended_real',\n",
       " 'is_finite',\n",
       " 'is_hermitian',\n",
       " 'is_hypergeometric',\n",
       " 'is_imaginary',\n",
       " 'is_infinite',\n",
       " 'is_integer',\n",
       " 'is_irrational',\n",
       " 'is_meromorphic',\n",
       " 'is_negative',\n",
       " 'is_noninteger',\n",
       " 'is_nonnegative',\n",
       " 'is_nonpositive',\n",
       " 'is_nonzero',\n",
       " 'is_number',\n",
       " 'is_odd',\n",
       " 'is_polar',\n",
       " 'is_polynomial',\n",
       " 'is_positive',\n",
       " 'is_prime',\n",
       " 'is_rational',\n",
       " 'is_rational_function',\n",
       " 'is_real',\n",
       " 'is_same',\n",
       " 'is_scalar',\n",
       " 'is_symbol',\n",
       " 'is_transcendental',\n",
       " 'is_zero',\n",
       " 'kind',\n",
       " 'leadterm',\n",
       " 'limit',\n",
       " 'lseries',\n",
       " 'make_args',\n",
       " 'match',\n",
       " 'matches',\n",
       " 'n',\n",
       " 'normal',\n",
       " 'nseries',\n",
       " 'nsimplify',\n",
       " 'powsimp',\n",
       " 'primitive',\n",
       " 'radsimp',\n",
       " 'ratsimp',\n",
       " 'rcall',\n",
       " 'refine',\n",
       " 'removeO',\n",
       " 'replace',\n",
       " 'rewrite',\n",
       " 'round',\n",
       " 'separate',\n",
       " 'series',\n",
       " 'simplify',\n",
       " 'sort_key',\n",
       " 'subs',\n",
       " 'taylor_term',\n",
       " 'together',\n",
       " 'transpose',\n",
       " 'trigsimp',\n",
       " 'xreplace']"
      ]
     },
     "execution_count": 360,
     "metadata": {},
     "output_type": "execute_result"
    }
   ],
   "source": [
    "dir(utils.symbolic_formula(model_fix)[0][0])"
   ]
  },
  {
   "cell_type": "code",
   "execution_count": 262,
   "id": "0d2e381e",
   "metadata": {},
   "outputs": [
    {
     "data": {
      "text/plain": [
       "Parameter containing:\n",
       "tensor([[[3.1416, 0.0000, 1.0000, 0.0000],\n",
       "         [3.1416, 0.0000, 1.0000, 0.0000]]], dtype=torch.float64)"
      ]
     },
     "execution_count": 262,
     "metadata": {},
     "output_type": "execute_result"
    }
   ],
   "source": [
    "model_fix.symbolic_fun[1].affine"
   ]
  },
  {
   "cell_type": "code",
   "execution_count": 246,
   "id": "b39a2bc0",
   "metadata": {},
   "outputs": [
    {
     "data": {
      "text/plain": [
       "Parameter containing:\n",
       "tensor([[[ 3.1416,  3.9297,  1.0000, -0.0881],\n",
       "         [ 3.1416,  3.9913,  1.0000, -0.4119]]])"
      ]
     },
     "execution_count": 246,
     "metadata": {},
     "output_type": "execute_result"
    }
   ],
   "source": [
    "# c*f(a*x+b)+d\n",
    "model_fix.symbolic_fun[1].affine = nn.Parameter(model_fix.symbolic_fun[1].affine.detach(), requires_grad=False)\n",
    "model_fix.symbolic_fun[1].affine[0][0][0] = np.pi\n",
    "model_fix.symbolic_fun[1].affine[0][1][0] = np.pi\n",
    "model_fix.symbolic_fun[1].affine[0][0][2] = 1\n",
    "model_fix.symbolic_fun[1].affine[0][1][2] = 1\n",
    "model_fix.symbolic_fun[1].affine"
   ]
  },
  {
   "cell_type": "code",
   "execution_count": 247,
   "id": "6df3d28c",
   "metadata": {},
   "outputs": [],
   "source": [
    "model_fix.symbolic_fun[1].affine = nn.Parameter(model_fix.symbolic_fun[1].affine, requires_grad=True)"
   ]
  },
  {
   "cell_type": "code",
   "execution_count": 249,
   "id": "6977ee16",
   "metadata": {},
   "outputs": [
    {
     "data": {
      "text/plain": [
       "Parameter containing:\n",
       "tensor([[[ 3.0930,  3.8829,  0.8825, -0.0531],\n",
       "         [ 3.1641,  3.9658,  1.1450, -0.3768]]], requires_grad=True)"
      ]
     },
     "execution_count": 249,
     "metadata": {},
     "output_type": "execute_result"
    }
   ],
   "source": [
    "model_fix.symbolic_fun[1].affine"
   ]
  },
  {
   "cell_type": "code",
   "execution_count": 248,
   "id": "4a8e686d",
   "metadata": {},
   "outputs": [
    {
     "name": "stderr",
     "output_type": "stream",
     "text": [
      "| train_loss: 3.46e-01 | test_loss: 3.46e-01 | reg: 1.15e+01 | : 100%|█| 20/20 [00:05<00:00,  3.78it"
     ]
    },
    {
     "name": "stdout",
     "output_type": "stream",
     "text": [
      "saving model version 0.7\n"
     ]
    },
    {
     "name": "stderr",
     "output_type": "stream",
     "text": [
      "\n"
     ]
    }
   ],
   "source": [
    "model_fix.fit(dataset, steps=20);"
   ]
  },
  {
   "cell_type": "code",
   "execution_count": null,
   "id": "35a546ad",
   "metadata": {},
   "outputs": [],
   "source": []
  }
 ],
 "metadata": {
  "kernelspec": {
   "display_name": "kans",
   "language": "python",
   "name": "python3"
  },
  "language_info": {
   "codemirror_mode": {
    "name": "ipython",
    "version": 3
   },
   "file_extension": ".py",
   "mimetype": "text/x-python",
   "name": "python",
   "nbconvert_exporter": "python",
   "pygments_lexer": "ipython3",
   "version": "3.12.5"
  }
 },
 "nbformat": 4,
 "nbformat_minor": 5
}
