{
 "cells": [
  {
   "cell_type": "code",
   "execution_count": 1,
   "id": "54d13187",
   "metadata": {},
   "outputs": [],
   "source": [
    "import kan\n",
    "import kan.utils as ku\n",
    "import torch\n",
    "import torch.nn as nn\n",
    "import numpy as np\n",
    "from libraries import utils\n",
    "from libraries import magnetization\n",
    "from libraries import j1j2_functions\n",
    "import numpy.random as npr\n",
    "import qutip as qt\n",
    "import sympy\n",
    "import random"
   ]
  },
  {
   "cell_type": "code",
   "execution_count": 2,
   "id": "1b6a2904",
   "metadata": {},
   "outputs": [],
   "source": [
    "N=10; J1=1; J2=0.2\n",
    "h = j1j2_functions.J1J2_hamiltonian(N, J1, J2)\n",
    "eigs = h.eigenstates()\n",
    "gs = eigs[1][0]\n",
    "gse = eigs[0][0]"
   ]
  },
  {
   "cell_type": "code",
   "execution_count": 4,
   "id": "a6812c31",
   "metadata": {},
   "outputs": [],
   "source": [
    "def get_nonzero_states(N, gs, threshold):\n",
    "    states = []\n",
    "    signs = []\n",
    "    for i in range(0, 2**N):\n",
    "        val = gs[i][0].real\n",
    "        if abs(val) > threshold:\n",
    "            states.append(i)\n",
    "            signs.append(-1 + 2 * int(val > 0))\n",
    "    return states, signs\n",
    "\n",
    "def find_deviations(states, signs, pred_signs):\n",
    "    dev_forward = []\n",
    "    for state, true, calc in zip(states, signs, pred_signs):\n",
    "        if true != calc:\n",
    "            dev_forward.append(state)\n",
    "    \n",
    "    dev_rev = []\n",
    "    for state, true, calc in zip(states, signs, pred_signs):\n",
    "        if true != -calc:\n",
    "            dev_rev.append(state)\n",
    "    if len(dev_rev) > len(dev_forward):\n",
    "        print('forward')\n",
    "        return dev_forward\n",
    "    print('rev')\n",
    "    return dev_rev"
   ]
  },
  {
   "cell_type": "code",
   "execution_count": 5,
   "id": "8810e4ef",
   "metadata": {},
   "outputs": [
    {
     "name": "stdout",
     "output_type": "stream",
     "text": [
      "252\n",
      "forward\n",
      "10\n"
     ]
    }
   ],
   "source": [
    "threshold = 1e-10\n",
    "statesf, signsf = get_nonzero_states(N, gs, threshold)\n",
    "pred_signsf =  [-1 + 2 * (magnetization.count_half_magnetization(i) % 2) for i in statesf]\n",
    "\n",
    "print(len(statesf))\n",
    "deviations = find_deviations(statesf, signsf, pred_signsf)\n",
    "print(len(deviations))\n"
   ]
  },
  {
   "cell_type": "code",
   "execution_count": 6,
   "id": "be1471de",
   "metadata": {},
   "outputs": [
    {
     "name": "stdout",
     "output_type": "stream",
     "text": [
      "torch.Size([252, 10]) torch.Size([252, 1])\n"
     ]
    }
   ],
   "source": [
    "input = utils.generate_input_samples(N, statesf)\n",
    "labels = torch.tensor(signsf, dtype=torch.float64).reshape((-1, 1))\n",
    "dataset = {'train_input': input, 'train_label': labels, 'test_input': input, 'test_label': labels}\n",
    "print(input.shape, labels.shape)"
   ]
  },
  {
   "cell_type": "code",
   "execution_count": 88,
   "id": "6debd32a",
   "metadata": {},
   "outputs": [],
   "source": [
    "def MSR(bin_state, N):\n",
    "    return (-torch.tanh(10 * torch.cos(np.pi * sum(bin_state[:, i] for i in range(0, N, 2))))).reshape((-1, 1))"
   ]
  },
  {
   "cell_type": "code",
   "execution_count": 89,
   "id": "938f717d",
   "metadata": {},
   "outputs": [
    {
     "data": {
      "text/plain": [
       "62"
      ]
     },
     "execution_count": 89,
     "metadata": {},
     "output_type": "execute_result"
    }
   ],
   "source": [
    "statesf[5]"
   ]
  },
  {
   "cell_type": "code",
   "execution_count": 90,
   "id": "c835100a",
   "metadata": {},
   "outputs": [
    {
     "name": "stdout",
     "output_type": "stream",
     "text": [
      "tensor([0., 0., 1., 1., 1., 1., 1., 0., 0., 0.])\n",
      "tensor([[1.]])\n",
      "tensor([-1.], dtype=torch.float64)\n"
     ]
    }
   ],
   "source": [
    "num = 20\n",
    "print(dataset['train_input'][num])\n",
    "print(MSR(dataset['train_input'][np.array([num])], N))\n",
    "print(labels[num])\n"
   ]
  },
  {
   "cell_type": "code",
   "execution_count": null,
   "id": "a4593f69",
   "metadata": {},
   "outputs": [],
   "source": []
  },
  {
   "cell_type": "code",
   "execution_count": 91,
   "id": "78ac9725",
   "metadata": {},
   "outputs": [],
   "source": [
    "from tqdm import tqdm\n",
    "def fit(self, dataset, opt=\"LBFGS\", steps=100, log=1, lamb=0., lamb_l1=1., lamb_entropy=2., lamb_coef=0., lamb_coefdiff=0., update_grid=True, grid_update_num=10, loss_fn=None, lr=1.,start_grid_update_step=-1, stop_grid_update_step=50, batch=-1,\n",
    "              metrics=None, save_fig=False, in_vars=None, out_vars=None, beta=3, save_fig_freq=1, img_folder='./video', singularity_avoiding=False, y_th=1000., reg_metric='edge_forward_spline_n', display_metrics=None):\n",
    "\n",
    "        if lamb > 0. and not self.save_act:\n",
    "            print('setting lamb=0. If you want to set lamb > 0, set self.save_act=True')\n",
    "            \n",
    "        old_save_act, old_symbolic_enabled = self.disable_symbolic_in_fit(lamb)\n",
    "\n",
    "        pbar = tqdm(range(steps), desc='description', ncols=100)\n",
    "\n",
    "        if loss_fn == None:\n",
    "            loss_fn = loss_fn_eval = lambda x, y: torch.mean((x - y) ** 2)\n",
    "        else:\n",
    "            loss_fn = loss_fn_eval = loss_fn\n",
    "\n",
    "        grid_update_freq = int(stop_grid_update_step / grid_update_num)\n",
    "\n",
    "        if opt == \"Adam\":\n",
    "            optimizer = torch.optim.Adam(self.get_params(), lr=lr)\n",
    "        elif opt == \"LBFGS\":\n",
    "            optimizer = kan.LBFGS(self.get_params(), lr=lr, history_size=10, line_search_fn=\"strong_wolfe\", tolerance_grad=1e-32, tolerance_change=1e-32, tolerance_ys=1e-32)\n",
    "\n",
    "        results = {}\n",
    "        results['train_loss'] = []\n",
    "        results['test_loss'] = []\n",
    "        results['reg'] = []\n",
    "        if metrics != None:\n",
    "            for i in range(len(metrics)):\n",
    "                results[metrics[i].__name__] = []\n",
    "\n",
    "        if batch == -1 or batch > dataset['train_input'].shape[0]:\n",
    "            batch_size = dataset['train_input'].shape[0]\n",
    "            batch_size_test = dataset['test_input'].shape[0]\n",
    "        else:\n",
    "            batch_size = batch\n",
    "            batch_size_test = batch\n",
    "\n",
    "        global train_loss, reg_\n",
    "\n",
    "        def closure():\n",
    "            global train_loss, reg_\n",
    "            optimizer.zero_grad()\n",
    "            pred = (MSR(dataset['train_input'][train_id], N)) * (self.forward(dataset['train_input'][train_id], singularity_avoiding=singularity_avoiding, y_th=y_th))\n",
    "            train_loss = loss_fn(pred, dataset['train_label'][train_id])\n",
    "            if self.save_act:\n",
    "                if reg_metric == 'edge_backward':\n",
    "                    self.attribute()\n",
    "                if reg_metric == 'node_backward':\n",
    "                    self.node_attribute()\n",
    "                reg_ = self.get_reg(reg_metric, lamb_l1, lamb_entropy, lamb_coef, lamb_coefdiff)\n",
    "            else:\n",
    "                reg_ = torch.tensor(0.)\n",
    "            objective = train_loss + lamb * reg_\n",
    "            objective.backward()\n",
    "            return objective\n",
    "\n",
    "        for _ in pbar:\n",
    "            \n",
    "            if _ == steps-1 and old_save_act:\n",
    "                self.save_act = True\n",
    "                \n",
    "            if save_fig and _ % save_fig_freq == 0:\n",
    "                save_act = self.save_act\n",
    "                self.save_act = True\n",
    "            \n",
    "            train_id = np.random.choice(dataset['train_input'].shape[0], batch_size, replace=False)\n",
    "            test_id = np.random.choice(dataset['test_input'].shape[0], batch_size_test, replace=False)\n",
    "\n",
    "            if _ % grid_update_freq == 0 and _ < stop_grid_update_step and update_grid and _ >= start_grid_update_step:\n",
    "                self.update_grid(dataset['train_input'][train_id])\n",
    "\n",
    "            if opt == \"LBFGS\":\n",
    "                optimizer.step(closure)\n",
    "\n",
    "            if opt == \"Adam\":\n",
    "                pred = self.forward(dataset['train_input'][train_id], singularity_avoiding=singularity_avoiding, y_th=y_th)\n",
    "                train_loss = loss_fn(pred, dataset['train_label'][train_id])\n",
    "                if self.save_act:\n",
    "                    if reg_metric == 'edge_backward':\n",
    "                        self.attribute()\n",
    "                    if reg_metric == 'node_backward':\n",
    "                        self.node_attribute()\n",
    "                    reg_ = self.get_reg(reg_metric, lamb_l1, lamb_entropy, lamb_coef, lamb_coefdiff)\n",
    "                else:\n",
    "                    reg_ = torch.tensor(0.)\n",
    "                loss = train_loss + lamb * reg_\n",
    "                optimizer.zero_grad()\n",
    "                loss.backward()\n",
    "                optimizer.step()\n",
    "\n",
    "            test_loss = loss_fn_eval((MSR(dataset['test_input'][test_id], N)) * (self.forward(dataset['test_input'][test_id], singularity_avoiding=singularity_avoiding, y_th=y_th)), dataset['test_label'][test_id])\n",
    "            \n",
    "            \n",
    "            if metrics != None:\n",
    "                for i in range(len(metrics)):\n",
    "                    results[metrics[i].__name__].append(metrics[i]().item())\n",
    "\n",
    "            results['train_loss'].append(torch.sqrt(train_loss).cpu().detach().numpy())\n",
    "            results['test_loss'].append(torch.sqrt(test_loss).cpu().detach().numpy())\n",
    "            results['reg'].append(reg_.cpu().detach().numpy())\n",
    "\n",
    "            if _ % log == 0:\n",
    "                if display_metrics == None:\n",
    "                    pbar.set_description(\"| train_loss: %.2e | test_loss: %.2e | reg: %.2e | \" % (torch.sqrt(train_loss).cpu().detach().numpy(), torch.sqrt(test_loss).cpu().detach().numpy(), reg_.cpu().detach().numpy()))\n",
    "                else:\n",
    "                    string = ''\n",
    "                    data = ()\n",
    "                    for metric in display_metrics:\n",
    "                        string += f' {metric}: %.2e |'\n",
    "                        try:\n",
    "                            results[metric]\n",
    "                        except:\n",
    "                            raise Exception(f'{metric} not recognized')\n",
    "                        data += (results[metric][-1],)\n",
    "                    pbar.set_description(string % data)\n",
    "                    \n",
    "\n",
    "        self.log_history('fit')\n",
    "        # revert back to original state\n",
    "        self.symbolic_enabled = old_symbolic_enabled\n",
    "        return results"
   ]
  },
  {
   "cell_type": "code",
   "execution_count": 152,
   "id": "87c8e801",
   "metadata": {},
   "outputs": [
    {
     "name": "stdout",
     "output_type": "stream",
     "text": [
      "checkpoint directory created: ./model\n",
      "saving model version 0.0\n",
      "r2 is 0.9978489875793457\n",
      "saving model version 0.1\n"
     ]
    }
   ],
   "source": [
    "dev_model2N = kan.KAN(width = [N, N, 1, 1])\n",
    "dev_model2N(dataset['train_input'])\n",
    "dev_model2N.fix_symbolic(2, 0, 0, 'tanh')\n",
    "dev_model2N.symbolic_fun[2].affine = nn.Parameter(torch.tensor([[[1, 0, 1, 0]]], dtype=torch.float64), requires_grad=False)"
   ]
  },
  {
   "cell_type": "code",
   "execution_count": 153,
   "id": "8ea96e09",
   "metadata": {},
   "outputs": [
    {
     "name": "stderr",
     "output_type": "stream",
     "text": [
      "| train_loss: 3.75e-09 | test_loss: 3.75e-09 | reg: 9.87e+01 | : 100%|█| 5/5 [00:02<00:00,  1.92it/s"
     ]
    },
    {
     "name": "stdout",
     "output_type": "stream",
     "text": [
      "saving model version 0.2\n"
     ]
    },
    {
     "name": "stderr",
     "output_type": "stream",
     "text": [
      "\n"
     ]
    }
   ],
   "source": [
    "fit(dev_model2N, dataset, steps=5, lamb=0); # this seems to work very well but then sometimes we get much higher loss if we train too much"
   ]
  },
  {
   "cell_type": "code",
   "execution_count": 154,
   "id": "1b8048e3",
   "metadata": {},
   "outputs": [
    {
     "name": "stderr",
     "output_type": "stream",
     "text": [
      "| train_loss: 9.06e-02 | test_loss: 9.06e-02 | reg: 2.21e+01 | : 100%|█| 25/25 [00:17<00:00,  1.45it"
     ]
    },
    {
     "name": "stdout",
     "output_type": "stream",
     "text": [
      "saving model version 0.3\n"
     ]
    },
    {
     "name": "stderr",
     "output_type": "stream",
     "text": [
      "\n"
     ]
    }
   ],
   "source": [
    "fit(dev_model2N, dataset, steps=25, lamb=5e-3);"
   ]
  },
  {
   "cell_type": "code",
   "execution_count": 155,
   "id": "4c8d1c96",
   "metadata": {},
   "outputs": [
    {
     "name": "stdout",
     "output_type": "stream",
     "text": [
      "saving model version 0.4\n"
     ]
    },
    {
     "data": {
      "text/plain": [
       "[[10, 0], [6, 0], [1, 0], [1, 0]]"
      ]
     },
     "execution_count": 155,
     "metadata": {},
     "output_type": "execute_result"
    }
   ],
   "source": [
    "dev_model2N.prune().width"
   ]
  },
  {
   "cell_type": "code",
   "execution_count": 161,
   "id": "888667eb",
   "metadata": {},
   "outputs": [
    {
     "data": {
      "text/plain": [
       "tensor(1.7594, dtype=torch.float64, grad_fn=<SqrtBackward0>)"
      ]
     },
     "execution_count": 161,
     "metadata": {},
     "output_type": "execute_result"
    }
   ],
   "source": [
    "torch.sqrt(torch.mean(((MSR(input, N) * dev_model2N(input, y_th=1000)) - labels) ** 2))"
   ]
  },
  {
   "cell_type": "code",
   "execution_count": 158,
   "id": "96288b3b",
   "metadata": {},
   "outputs": [
    {
     "name": "stdout",
     "output_type": "stream",
     "text": [
      "223\n"
     ]
    }
   ],
   "source": [
    "pred = MSR(input, N) * dev_model2N(input)\n",
    "pred_dev = []\n",
    "for i in range(labels.shape[0]):\n",
    "    if torch.sgn(pred[i][0])  != torch.sgn(labels[i][0]):\n",
    "        pred_dev.append(i)\n",
    "print(len(pred_dev))"
   ]
  },
  {
   "cell_type": "code",
   "execution_count": 143,
   "id": "5c006af3",
   "metadata": {},
   "outputs": [
    {
     "name": "stdout",
     "output_type": "stream",
     "text": [
      "saving model version 0.4\n"
     ]
    }
   ],
   "source": [
    "dev_model2N = dev_model2N.prune()"
   ]
  },
  {
   "cell_type": "code",
   "execution_count": 144,
   "id": "b2351d8f",
   "metadata": {},
   "outputs": [
    {
     "name": "stderr",
     "output_type": "stream",
     "text": [
      "| train_loss: 2.57e-01 | test_loss: 2.57e-01 | reg: 5.39e+00 | : 100%|█| 25/25 [00:10<00:00,  2.44it"
     ]
    },
    {
     "name": "stdout",
     "output_type": "stream",
     "text": [
      "saving model version 0.5\n"
     ]
    },
    {
     "name": "stderr",
     "output_type": "stream",
     "text": [
      "\n"
     ]
    }
   ],
   "source": [
    "fit(dev_model2N, dataset, steps=25, lamb=1e-2, update_grid=False);"
   ]
  },
  {
   "cell_type": "code",
   "execution_count": 145,
   "id": "3b02a923",
   "metadata": {},
   "outputs": [
    {
     "name": "stdout",
     "output_type": "stream",
     "text": [
      "6\n"
     ]
    }
   ],
   "source": [
    "pred = MSR(input, N) * dev_model2N(input)\n",
    "pred_dev = []\n",
    "for i in range(labels.shape[0]):\n",
    "    if torch.sgn(pred[i][0])  != torch.sgn(labels[i][0]):\n",
    "        pred_dev.append(i)\n",
    "print(len(pred_dev))"
   ]
  },
  {
   "cell_type": "code",
   "execution_count": 146,
   "id": "f85962c0",
   "metadata": {},
   "outputs": [
    {
     "name": "stdout",
     "output_type": "stream",
     "text": [
      "saving model version 0.6\n"
     ]
    },
    {
     "data": {
      "text/plain": [
       "[[10, 0], [3, 0], [1, 0], [1, 0]]"
      ]
     },
     "execution_count": 146,
     "metadata": {},
     "output_type": "execute_result"
    }
   ],
   "source": [
    "dev_model2N.prune().width"
   ]
  },
  {
   "cell_type": "code",
   "execution_count": null,
   "id": "e5e87695",
   "metadata": {},
   "outputs": [],
   "source": [
    "dev_model2N = dev_model2N.prune()"
   ]
  },
  {
   "cell_type": "code",
   "execution_count": 147,
   "id": "8a3027a0",
   "metadata": {},
   "outputs": [
    {
     "name": "stderr",
     "output_type": "stream",
     "text": [
      "| train_loss: 2.51e-01 | test_loss: 2.51e-01 | reg: 5.69e+00 | : 100%|█| 25/25 [00:04<00:00,  5.35it"
     ]
    },
    {
     "name": "stdout",
     "output_type": "stream",
     "text": [
      "saving model version 0.6\n"
     ]
    },
    {
     "name": "stderr",
     "output_type": "stream",
     "text": [
      "\n"
     ]
    }
   ],
   "source": [
    "fit(dev_model2N, dataset, steps=25, lamb=5e-3, update_grid=False);"
   ]
  },
  {
   "cell_type": "code",
   "execution_count": 148,
   "id": "1a94d617",
   "metadata": {},
   "outputs": [
    {
     "name": "stdout",
     "output_type": "stream",
     "text": [
      "6\n"
     ]
    }
   ],
   "source": [
    "pred = MSR(input, N) * dev_model2N(input)\n",
    "pred_dev = []\n",
    "for i in range(labels.shape[0]):\n",
    "    if torch.sgn(pred[i][0])  != torch.sgn(labels[i][0]):\n",
    "        pred_dev.append(i)\n",
    "print(len(pred_dev))"
   ]
  },
  {
   "cell_type": "code",
   "execution_count": null,
   "id": "b9f47f95",
   "metadata": {},
   "outputs": [],
   "source": []
  }
 ],
 "metadata": {
  "kernelspec": {
   "display_name": "kans",
   "language": "python",
   "name": "python3"
  },
  "language_info": {
   "codemirror_mode": {
    "name": "ipython",
    "version": 3
   },
   "file_extension": ".py",
   "mimetype": "text/x-python",
   "name": "python",
   "nbconvert_exporter": "python",
   "pygments_lexer": "ipython3",
   "version": "3.12.5"
  }
 },
 "nbformat": 4,
 "nbformat_minor": 5
}
