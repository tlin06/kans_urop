{
 "cells": [
  {
   "cell_type": "code",
   "execution_count": 1,
   "id": "ebbc4003",
   "metadata": {},
   "outputs": [],
   "source": [
    "import kan\n",
    "import kan.utils as ku\n",
    "import torch\n",
    "import torch.nn as nn\n",
    "import numpy as np\n",
    "from libraries import utils\n",
    "from libraries import magnetization as mag\n",
    "from libraries import j1j2_functions\n",
    "import numpy.random as npr\n",
    "import qutip as qt\n",
    "import sympy\n",
    "import random"
   ]
  },
  {
   "cell_type": "code",
   "execution_count": 2,
   "id": "e3ae35cd",
   "metadata": {},
   "outputs": [],
   "source": [
    "N=8; J1=0; J2=1 # 0 mod 4 case"
   ]
  },
  {
   "cell_type": "code",
   "execution_count": 3,
   "id": "b5ad637e",
   "metadata": {},
   "outputs": [],
   "source": [
    "h8 = j1j2_functions.J1J2_hamiltonian(N, J1, J2)\n",
    "eigs8 = h8.eigenstates()\n",
    "gs8 = eigs8[1][0]"
   ]
  },
  {
   "cell_type": "code",
   "execution_count": null,
   "id": "16cb1657",
   "metadata": {},
   "outputs": [],
   "source": []
  },
  {
   "cell_type": "code",
   "execution_count": 4,
   "id": "7b01e0a2",
   "metadata": {},
   "outputs": [
    {
     "name": "stdout",
     "output_type": "stream",
     "text": [
      "36\n"
     ]
    }
   ],
   "source": [
    "states8, signs8 = utils.get_nonzero_states(N, gs8, 1e-10)\n",
    "print(len(states8))"
   ]
  },
  {
   "cell_type": "code",
   "execution_count": null,
   "id": "eb4ef5ca",
   "metadata": {},
   "outputs": [],
   "source": [
    "for i in states8:\n",
    "    if mag.count_half_magnetization(i) != N//2:\n",
    "        print(i, bin(i))"
   ]
  },
  {
   "cell_type": "code",
   "execution_count": 6,
   "id": "b6daa85f",
   "metadata": {},
   "outputs": [
    {
     "name": "stdout",
     "output_type": "stream",
     "text": [
      "torch.Size([36, 8]) torch.Size([36, 1])\n"
     ]
    }
   ],
   "source": [
    "bin_input = utils.generate_input_samples(N, states8)\n",
    "sign_labels = torch.tensor(signs8, dtype=torch.float32).reshape(-1, 1)\n",
    "print(bin_input.shape, sign_labels.shape)"
   ]
  },
  {
   "cell_type": "code",
   "execution_count": 7,
   "id": "c7d8b2b5",
   "metadata": {},
   "outputs": [
    {
     "name": "stdout",
     "output_type": "stream",
     "text": [
      "tensor([196.])\n",
      "tensor([164.])\n"
     ]
    }
   ],
   "source": [
    "msr_pred = torch.tensor([mag.count_half_magnetization(i) for i in states8], dtype=torch.float32).reshape(-1, 1)\n",
    "print(sum((msr_pred - sign_labels) ** 2))\n",
    "print(sum((msr_pred + sign_labels) ** 2))\n",
    "# not very good MSR prediction"
   ]
  },
  {
   "cell_type": "code",
   "execution_count": 10,
   "id": "df90bda2",
   "metadata": {},
   "outputs": [
    {
     "name": "stdout",
     "output_type": "stream",
     "text": [
      "checkpoint directory created: ./model\n",
      "saving model version 0.0\n"
     ]
    },
    {
     "name": "stderr",
     "output_type": "stream",
     "text": [
      "| train_loss: 2.32e-02 | test_loss: 2.32e-02 | reg: 1.03e+01 | : 100%|█| 20/20 [00:03<00:00,  6.46it"
     ]
    },
    {
     "name": "stdout",
     "output_type": "stream",
     "text": [
      "saving model version 0.1\n"
     ]
    },
    {
     "name": "stderr",
     "output_type": "stream",
     "text": [
      "\n"
     ]
    }
   ],
   "source": [
    "k8 = kan.KAN(width=[N, N, 1])\n",
    "dataset8 = {'train_input':bin_input, 'train_label':sign_labels, 'test_input':bin_input, 'test_label':sign_labels}\n",
    "k8(bin_input)\n",
    "k8.fit(dataset8, steps=20, lamb=1e-2);"
   ]
  },
  {
   "cell_type": "code",
   "execution_count": 11,
   "id": "6523fdff",
   "metadata": {},
   "outputs": [
    {
     "name": "stdout",
     "output_type": "stream",
     "text": [
      "saving model version 0.2\n"
     ]
    },
    {
     "data": {
      "text/plain": [
       "[[8, 0], [2, 0], [1, 0]]"
      ]
     },
     "execution_count": 11,
     "metadata": {},
     "output_type": "execute_result"
    }
   ],
   "source": [
    "k8.prune().width"
   ]
  },
  {
   "cell_type": "code",
   "execution_count": 12,
   "id": "6a50aeae",
   "metadata": {},
   "outputs": [
    {
     "data": {
      "image/png": "[encoded data removed]",
      "text/plain": [
       "<Figure size 500x400 with 82 Axes>"
      ]
     },
     "metadata": {},
     "output_type": "display_data"
    }
   ],
   "source": [
    "k8.plot()"
   ]
  },
  {
   "cell_type": "code",
   "execution_count": 13,
   "id": "0daca88b",
   "metadata": {},
   "outputs": [
    {
     "name": "stdout",
     "output_type": "stream",
     "text": [
      "saving model version 0.2\n"
     ]
    },
    {
     "name": "stderr",
     "output_type": "stream",
     "text": [
      "| train_loss: 1.61e-03 | test_loss: 1.61e-03 | reg: 8.50e+00 | : 100%|█| 100/100 [00:08<00:00, 11.91"
     ]
    },
    {
     "name": "stdout",
     "output_type": "stream",
     "text": [
      "saving model version 0.3\n"
     ]
    },
    {
     "name": "stderr",
     "output_type": "stream",
     "text": [
      "\n"
     ]
    }
   ],
   "source": [
    "k8 = k8.prune()\n",
    "k8.fit(dataset8, lamb=1e-3);"
   ]
  },
  {
   "cell_type": "code",
   "execution_count": 14,
   "id": "069b1489",
   "metadata": {},
   "outputs": [
    {
     "name": "stdout",
     "output_type": "stream",
     "text": [
      "saving model version 0.4\n"
     ]
    },
    {
     "data": {
      "text/plain": [
       "[[8, 0], [1, 0], [1, 0]]"
      ]
     },
     "execution_count": 14,
     "metadata": {},
     "output_type": "execute_result"
    }
   ],
   "source": [
    "k8.prune().width"
   ]
  },
  {
   "cell_type": "code",
   "execution_count": 15,
   "id": "70aa7588",
   "metadata": {},
   "outputs": [
    {
     "name": "stdout",
     "output_type": "stream",
     "text": [
      "saving model version 0.4\n"
     ]
    },
    {
     "name": "stderr",
     "output_type": "stream",
     "text": [
      "| train_loss: 7.01e-04 | test_loss: 7.01e-04 | reg: 9.31e+00 | : 100%|█| 20/20 [00:02<00:00,  7.94it"
     ]
    },
    {
     "name": "stdout",
     "output_type": "stream",
     "text": [
      "saving model version 0.5\n"
     ]
    },
    {
     "name": "stderr",
     "output_type": "stream",
     "text": [
      "\n"
     ]
    }
   ],
   "source": [
    "k8 = k8.prune()\n",
    "k8.fit(dataset8, lamb=1e-3, steps=20);"
   ]
  },
  {
   "cell_type": "code",
   "execution_count": 16,
   "id": "ee652837",
   "metadata": {},
   "outputs": [
    {
     "data": {
      "image/png": "[encoded data removed]",
      "text/plain": [
       "<Figure size 500x400 with 12 Axes>"
      ]
     },
     "metadata": {},
     "output_type": "display_data"
    }
   ],
   "source": [
    "k8.plot()"
   ]
  },
  {
   "cell_type": "code",
   "execution_count": 17,
   "id": "ceb6545d",
   "metadata": {},
   "outputs": [
    {
     "name": "stdout",
     "output_type": "stream",
     "text": [
      "   function  fitting r2    r2 loss  complexity  complexity loss  total loss\n",
      "0       cos    1.000000 -16.609640           2                2  -11.026748\n",
      "1       sin    1.000000 -16.592544           2                2  -11.014781\n",
      "2       tan    0.999981 -15.090790           3                3   -9.663553\n",
      "3     1/x^2    0.798605  -2.311826           2                2   -1.018278\n",
      "4       1/x    0.798551  -2.311439           2                2   -1.018008\n",
      "5     1/x^3    0.812756  -2.416929           3                3   -0.791850\n",
      "6  gaussian    0.800019  -2.321993           3                3   -0.725395\n",
      "7     1/x^4    0.799488  -2.318165           4                4   -0.422715\n",
      "8     1/x^5    0.819116  -2.466783           5                5   -0.226748\n",
      "9         0    0.000000   0.000014           0                0    0.000010\n"
     ]
    },
    {
     "data": {
      "image/png": "[encoded data removed]",
      "text/plain": [
       "<Figure size 300x300 with 1 Axes>"
      ]
     },
     "metadata": {},
     "output_type": "display_data"
    }
   ],
   "source": [
    "k8.get_fun(1, 0, 0);\n",
    "k8.suggest_symbolic(1, 0, 0, topk=10, weight_simple=0.3);"
   ]
  },
  {
   "cell_type": "code",
   "execution_count": 18,
   "id": "e6b85f12",
   "metadata": {},
   "outputs": [
    {
     "name": "stdout",
     "output_type": "stream",
     "text": [
      "fixing (0,0,0) with 0\n",
      "fixing (0,1,0) with x, r2=1.0000005960464478, c=1\n",
      "fixing (0,2,0) with x, r2=1.0000004768371582, c=1\n",
      "fixing (0,3,0) with exp, r2=1.0000004768371582, c=2\n",
      "fixing (0,4,0) with 0\n",
      "fixing (0,5,0) with x, r2=1.0000003576278687, c=1\n",
      "fixing (0,6,0) with x, r2=1.0000005960464478, c=1\n",
      "fixing (0,7,0) with exp, r2=1.0000007152557373, c=2\n",
      "fixing (1,0,0) with cos, r2=1.0, c=2\n",
      "saving model version 0.6\n"
     ]
    }
   ],
   "source": [
    "k8.auto_symbolic(weight_simple=0.3, r2_threshold=0.95);"
   ]
  },
  {
   "cell_type": "code",
   "execution_count": 19,
   "id": "13ee0ed9",
   "metadata": {},
   "outputs": [
    {
     "name": "stderr",
     "output_type": "stream",
     "text": [
      "| train_loss: 4.01e-04 | test_loss: 4.01e-04 | reg: 0.00e+00 | : 100%|█| 20/20 [00:00<00:00, 29.87it"
     ]
    },
    {
     "name": "stdout",
     "output_type": "stream",
     "text": [
      "saving model version 0.7\n"
     ]
    },
    {
     "name": "stderr",
     "output_type": "stream",
     "text": [
      "\n"
     ]
    }
   ],
   "source": [
    "k8.fit(dataset8, steps=20);"
   ]
  },
  {
   "cell_type": "code",
   "execution_count": 22,
   "id": "b24af2c9",
   "metadata": {},
   "outputs": [
    {
     "data": {
      "text/latex": [
       "$\\displaystyle - 1.001 \\cos{\\left(3.151 x_{2} - 3.149 x_{3} + 3.149 x_{6} - 3.152 x_{7} + 0.042 \\right)}$"
      ],
      "text/plain": [
       "-1.001*cos(3.151*x_2 - 3.149*x_3 + 3.149*x_6 - 3.152*x_7 + 0.042)"
      ]
     },
     "execution_count": 22,
     "metadata": {},
     "output_type": "execute_result"
    }
   ],
   "source": [
    "ku.ex_round(k8.symbolic_formula()[0][0], 3)"
   ]
  },
  {
   "cell_type": "code",
   "execution_count": 24,
   "id": "db54ea4c",
   "metadata": {},
   "outputs": [
    {
     "name": "stdout",
     "output_type": "stream",
     "text": [
      "{15: 8, 27: 8, 39: 8, 45: 8, 51: 4}\n",
      "0b1111\n",
      "0b11011\n",
      "0b100111\n",
      "0b101101\n",
      "0b110011\n"
     ]
    }
   ],
   "source": [
    "u8 = utils.find_uniques(states8, N)\n",
    "print(u8)\n",
    "for x in u8:\n",
    "    print(bin(x))"
   ]
  },
  {
   "cell_type": "code",
   "execution_count": 75,
   "id": "10698996",
   "metadata": {},
   "outputs": [],
   "source": [
    "N=10\n",
    "h10 = j1j2_functions.J1J2_hamiltonian(N, J1, J2)\n",
    "eigs10 = h10.eigenstates()\n",
    "gs10 = eigs10[1][0]"
   ]
  },
  {
   "cell_type": "code",
   "execution_count": 76,
   "id": "10c14b6b",
   "metadata": {},
   "outputs": [
    {
     "data": {
      "text/latex": [
       "Quantum object: dims=[[2, 2, 2, 2, 2, 2, 2, 2, 2, 2], [1, 1, 1, 1, 1, 1, 1, 1, 1, 1]], shape=(1024, 1), type='ket', dtype=Dense$$\\left(\\begin{array}{cc}0\\\\1.468\\times10^{ -49 }\\\\-1.768\\times10^{ -17 }\\\\2.950\\times10^{ -18 }\\\\8.215\\times10^{ -18 }\\\\\\vdots\\\\4.535\\times10^{ -50 }\\\\2.440\\times10^{ -49 }\\\\1.458\\times10^{ -49 }\\\\-1.940\\times10^{ -49 }\\\\0\\end{array}\\right)$$"
      ],
      "text/plain": [
       "Quantum object: dims=[[2, 2, 2, 2, 2, 2, 2, 2, 2, 2], [1, 1, 1, 1, 1, 1, 1, 1, 1, 1]], shape=(1024, 1), type='ket', dtype=Dense\n",
       "Qobj data =\n",
       "[[ 0.00000000e+00]\n",
       " [ 1.46791582e-49]\n",
       " [-1.76804111e-17]\n",
       " ...\n",
       " [ 1.45818689e-49]\n",
       " [-1.94047169e-49]\n",
       " [ 0.00000000e+00]]"
      ]
     },
     "execution_count": 76,
     "metadata": {},
     "output_type": "execute_result"
    }
   ],
   "source": [
    "gs10"
   ]
  },
  {
   "cell_type": "code",
   "execution_count": 77,
   "id": "7aecf59e",
   "metadata": {},
   "outputs": [
    {
     "name": "stdout",
     "output_type": "stream",
     "text": [
      "15 0b1111\n",
      "27 0b11011\n",
      "30 0b11110\n",
      "39 0b100111\n",
      "45 0b101101\n",
      "51 0b110011\n",
      "54 0b110110\n",
      "57 0b111001\n",
      "60 0b111100\n",
      "63 0b111111\n",
      "75 0b1001011\n",
      "78 0b1001110\n",
      "90 0b1011010\n",
      "99 0b1100011\n",
      "102 0b1100110\n",
      "105 0b1101001\n",
      "108 0b1101100\n",
      "111 0b1101111\n",
      "114 0b1110010\n",
      "120 0b1111000\n",
      "123 0b1111011\n",
      "126 0b1111110\n",
      "135 0b10000111\n",
      "141 0b10001101\n",
      "147 0b10010011\n",
      "150 0b10010110\n",
      "153 0b10011001\n",
      "156 0b10011100\n",
      "159 0b10011111\n",
      "165 0b10100101\n",
      "177 0b10110001\n",
      "180 0b10110100\n",
      "183 0b10110111\n",
      "189 0b10111101\n",
      "195 0b11000011\n",
      "198 0b11000110\n",
      "201 0b11001001\n",
      "204 0b11001100\n",
      "207 0b11001111\n",
      "210 0b11010010\n",
      "216 0b11011000\n",
      "219 0b11011011\n",
      "222 0b11011110\n",
      "225 0b11100001\n",
      "228 0b11100100\n",
      "231 0b11100111\n",
      "237 0b11101101\n",
      "240 0b11110000\n",
      "243 0b11110011\n",
      "246 0b11110110\n",
      "249 0b11111001\n",
      "252 0b11111100\n",
      "267 0b100001011\n",
      "270 0b100001110\n",
      "282 0b100011010\n",
      "291 0b100100011\n",
      "294 0b100100110\n",
      "297 0b100101001\n",
      "300 0b100101100\n",
      "303 0b100101111\n",
      "306 0b100110010\n",
      "312 0b100111000\n",
      "315 0b100111011\n",
      "318 0b100111110\n",
      "330 0b101001010\n",
      "354 0b101100010\n",
      "360 0b101101000\n",
      "363 0b101101011\n",
      "366 0b101101110\n",
      "378 0b101111010\n",
      "387 0b110000011\n",
      "390 0b110000110\n",
      "393 0b110001001\n",
      "396 0b110001100\n",
      "399 0b110001111\n",
      "402 0b110010010\n",
      "408 0b110011000\n",
      "411 0b110011011\n",
      "414 0b110011110\n",
      "417 0b110100001\n",
      "420 0b110100100\n",
      "423 0b110100111\n",
      "429 0b110101101\n",
      "432 0b110110000\n",
      "435 0b110110011\n",
      "438 0b110110110\n",
      "441 0b110111001\n",
      "444 0b110111100\n",
      "450 0b111000010\n",
      "456 0b111001000\n",
      "459 0b111001011\n",
      "462 0b111001110\n",
      "474 0b111011010\n",
      "480 0b111100000\n",
      "483 0b111100011\n",
      "486 0b111100110\n",
      "489 0b111101001\n",
      "492 0b111101100\n",
      "498 0b111110010\n",
      "504 0b111111000\n",
      "519 0b1000000111\n",
      "525 0b1000001101\n",
      "531 0b1000010011\n",
      "534 0b1000010110\n",
      "537 0b1000011001\n",
      "540 0b1000011100\n",
      "543 0b1000011111\n",
      "549 0b1000100101\n",
      "561 0b1000110001\n",
      "564 0b1000110100\n",
      "567 0b1000110111\n",
      "573 0b1000111101\n",
      "579 0b1001000011\n",
      "582 0b1001000110\n",
      "585 0b1001001001\n",
      "588 0b1001001100\n",
      "591 0b1001001111\n",
      "594 0b1001010010\n",
      "600 0b1001011000\n",
      "603 0b1001011011\n",
      "606 0b1001011110\n",
      "609 0b1001100001\n",
      "612 0b1001100100\n",
      "615 0b1001100111\n",
      "621 0b1001101101\n",
      "624 0b1001110000\n",
      "627 0b1001110011\n",
      "630 0b1001110110\n",
      "633 0b1001111001\n",
      "636 0b1001111100\n",
      "645 0b1010000101\n",
      "657 0b1010010001\n",
      "660 0b1010010100\n",
      "663 0b1010010111\n",
      "669 0b1010011101\n",
      "693 0b1010110101\n",
      "705 0b1011000001\n",
      "708 0b1011000100\n",
      "711 0b1011000111\n",
      "717 0b1011001101\n",
      "720 0b1011010000\n",
      "723 0b1011010011\n",
      "726 0b1011010110\n",
      "729 0b1011011001\n",
      "732 0b1011011100\n",
      "741 0b1011100101\n",
      "753 0b1011110001\n",
      "756 0b1011110100\n",
      "771 0b1100000011\n",
      "774 0b1100000110\n",
      "777 0b1100001001\n",
      "780 0b1100001100\n",
      "783 0b1100001111\n",
      "786 0b1100010010\n",
      "792 0b1100011000\n",
      "795 0b1100011011\n",
      "798 0b1100011110\n",
      "801 0b1100100001\n",
      "804 0b1100100100\n",
      "807 0b1100100111\n",
      "813 0b1100101101\n",
      "816 0b1100110000\n",
      "819 0b1100110011\n",
      "822 0b1100110110\n",
      "825 0b1100111001\n",
      "828 0b1100111100\n",
      "834 0b1101000010\n",
      "840 0b1101001000\n",
      "843 0b1101001011\n",
      "846 0b1101001110\n",
      "858 0b1101011010\n",
      "864 0b1101100000\n",
      "867 0b1101100011\n",
      "870 0b1101100110\n",
      "873 0b1101101001\n",
      "876 0b1101101100\n",
      "882 0b1101110010\n",
      "888 0b1101111000\n",
      "897 0b1110000001\n",
      "900 0b1110000100\n",
      "903 0b1110000111\n",
      "909 0b1110001101\n",
      "912 0b1110010000\n",
      "915 0b1110010011\n",
      "918 0b1110010110\n",
      "921 0b1110011001\n",
      "924 0b1110011100\n",
      "933 0b1110100101\n",
      "945 0b1110110001\n",
      "948 0b1110110100\n",
      "960 0b1111000000\n",
      "963 0b1111000011\n",
      "966 0b1111000110\n",
      "969 0b1111001001\n",
      "972 0b1111001100\n",
      "978 0b1111010010\n",
      "984 0b1111011000\n",
      "993 0b1111100001\n",
      "996 0b1111100100\n",
      "1008 0b1111110000\n",
      "200\n",
      "torch.Size([400, 10]) torch.Size([400, 1])\n"
     ]
    }
   ],
   "source": [
    "states10, signs10 = utils.get_nonzero_states(N, gs10, 1e-10)\n",
    "devs = []\n",
    "for i in states10:\n",
    "    if mag.count_magnetization(i) != N//2:\n",
    "        devs.append(i)\n",
    "        print(i, bin(i))\n",
    "print(len(devs))\n",
    "# it seems that N=8 satisfies this but N=10 doesn't??\n",
    "# half the states have either 4 or 6 spins??\n",
    "bin_input = utils.generate_input_samples(N, states10)\n",
    "sign_labels = torch.tensor(signs10, dtype=torch.float32).reshape(-1, 1)\n",
    "print(bin_input.shape, sign_labels.shape)"
   ]
  },
  {
   "cell_type": "code",
   "execution_count": 85,
   "id": "4ffaf1d3",
   "metadata": {},
   "outputs": [
    {
     "name": "stdout",
     "output_type": "stream",
     "text": [
      "{15: 10, 27: 10, 31: 10, 39: 10, 45: 10, 47: 10, 51: 10, 55: 10, 57: 10, 59: 10, 61: 10, 63: 10, 75: 10, 79: 10, 91: 10, 99: 5, 103: 10, 105: 10, 107: 10, 109: 10, 111: 10, 115: 10, 121: 10, 123: 10, 147: 10, 151: 10, 155: 10, 157: 10, 159: 10, 165: 5, 167: 10, 173: 10, 179: 10, 181: 10, 183: 10, 189: 10, 205: 10, 207: 10, 219: 10, 231: 5, 237: 10, 363: 5}\n",
      "0b1111\n",
      "0b11011\n",
      "0b11111\n",
      "0b100111\n",
      "0b101101\n",
      "0b101111\n",
      "0b110011\n",
      "0b110111\n",
      "0b111001\n",
      "0b111011\n",
      "0b111101\n",
      "0b111111\n",
      "0b1001011\n",
      "0b1001111\n",
      "0b1011011\n",
      "0b1100011\n",
      "0b1100111\n",
      "0b1101001\n",
      "0b1101011\n",
      "0b1101101\n",
      "0b1101111\n",
      "0b1110011\n",
      "0b1111001\n",
      "0b1111011\n",
      "0b10010011\n",
      "0b10010111\n",
      "0b10011011\n",
      "0b10011101\n",
      "0b10011111\n",
      "0b10100101\n",
      "0b10100111\n",
      "0b10101101\n",
      "0b10110011\n",
      "0b10110101\n",
      "0b10110111\n",
      "0b10111101\n",
      "0b11001101\n",
      "0b11001111\n",
      "0b11011011\n",
      "0b11100111\n",
      "0b11101101\n",
      "0b101101011\n"
     ]
    }
   ],
   "source": [
    "u10 = utils.find_uniques(states10, 10)\n",
    "print(u10)\n",
    "for x in u10:\n",
    "    print(bin(x))"
   ]
  },
  {
   "cell_type": "code",
   "execution_count": null,
   "id": "cde807ca",
   "metadata": {},
   "outputs": [],
   "source": [
    "def man10()"
   ]
  },
  {
   "cell_type": "code",
   "execution_count": 45,
   "id": "00e88ced",
   "metadata": {},
   "outputs": [
    {
     "name": "stdout",
     "output_type": "stream",
     "text": [
      "checkpoint directory created: ./model\n",
      "saving model version 0.0\n"
     ]
    },
    {
     "name": "stderr",
     "output_type": "stream",
     "text": [
      "| train_loss: 1.03e-01 | test_loss: 1.03e-01 | reg: 6.59e+01 | : 100%|█| 20/20 [00:07<00:00,  2.52it"
     ]
    },
    {
     "name": "stdout",
     "output_type": "stream",
     "text": [
      "saving model version 0.1\n"
     ]
    },
    {
     "name": "stderr",
     "output_type": "stream",
     "text": [
      "\n"
     ]
    }
   ],
   "source": [
    "k10 = kan.KAN(width=[N, N, N, 1])\n",
    "dataset10 = {'train_input':bin_input, 'train_label':sign_labels, 'test_input':bin_input, 'test_label':sign_labels}\n",
    "k10(bin_input)\n",
    "k10.fit(dataset10, steps=20, lamb=0);"
   ]
  },
  {
   "cell_type": "code",
   "execution_count": 78,
   "id": "0d45e771",
   "metadata": {},
   "outputs": [],
   "source": [
    "N=12\n",
    "#h12 = j1j2_functions.J1J2_hamiltonian(N, J1, J2)\n",
    "#eigs12 = h12.eigenstates()\n",
    "#gs12 = eigs12[1][0]\n",
    "#qt.qsave(gs12, f'n{N}gs_J2_inf')\n",
    "gs12 = qt.qload('n12gs_j2_inf')"
   ]
  },
  {
   "cell_type": "code",
   "execution_count": 79,
   "id": "7448d2d7",
   "metadata": {},
   "outputs": [
    {
     "name": "stdout",
     "output_type": "stream",
     "text": [
      "0\n",
      "torch.Size([400, 12]) torch.Size([400, 1])\n"
     ]
    }
   ],
   "source": [
    "states12, signs12 = utils.get_nonzero_states(N, gs12, 1e-10)\n",
    "devs = []\n",
    "for i in states12:\n",
    "    if mag.count_magnetization(i) != N//2:\n",
    "        devs.append(i)\n",
    "        print(i, bin(i))\n",
    "print(len(devs))\n",
    "bin_input = utils.generate_input_samples(N, states12)\n",
    "sign_labels = torch.tensor(signs12, dtype=torch.float32).reshape(-1, 1)\n",
    "print(bin_input.shape, sign_labels.shape)"
   ]
  },
  {
   "cell_type": "code",
   "execution_count": 67,
   "id": "6198e52f",
   "metadata": {},
   "outputs": [
    {
     "name": "stdout",
     "output_type": "stream",
     "text": [
      "checkpoint directory created: ./model\n",
      "saving model version 0.0\n"
     ]
    },
    {
     "name": "stderr",
     "output_type": "stream",
     "text": [
      "| train_loss: 3.59e-02 | test_loss: 3.59e-02 | reg: 5.05e+01 | : 100%|█| 20/20 [00:07<00:00,  2.59it"
     ]
    },
    {
     "name": "stdout",
     "output_type": "stream",
     "text": [
      "saving model version 0.1\n"
     ]
    },
    {
     "name": "stderr",
     "output_type": "stream",
     "text": [
      "\n"
     ]
    }
   ],
   "source": [
    "torch.manual_seed(2)\n",
    "k12 = kan.KAN(width=[N, N, 1])\n",
    "dataset12 = {'train_input':bin_input, 'train_label':sign_labels, 'test_input':bin_input, 'test_label':sign_labels}\n",
    "# k12(bin_input)\n",
    "k12.fit(dataset12, steps=20, lamb=1e-3);"
   ]
  },
  {
   "cell_type": "code",
   "execution_count": 68,
   "id": "ae764691",
   "metadata": {},
   "outputs": [
    {
     "name": "stdout",
     "output_type": "stream",
     "text": [
      "saving model version 0.2\n"
     ]
    },
    {
     "data": {
      "text/plain": [
       "[[12, 0], [9, 0], [1, 0]]"
      ]
     },
     "execution_count": 68,
     "metadata": {},
     "output_type": "execute_result"
    }
   ],
   "source": [
    "k12.prune().width"
   ]
  },
  {
   "cell_type": "code",
   "execution_count": 69,
   "id": "80ca803b",
   "metadata": {},
   "outputs": [
    {
     "name": "stdout",
     "output_type": "stream",
     "text": [
      "saving model version 0.2\n"
     ]
    },
    {
     "name": "stderr",
     "output_type": "stream",
     "text": [
      "| train_loss: nan | test_loss: nan | reg: nan | :  25%|███▌          | 5/20 [00:01<00:05,  2.61it/s]"
     ]
    },
    {
     "name": "stdout",
     "output_type": "stream",
     "text": [
      "lstsq failed\n"
     ]
    },
    {
     "name": "stderr",
     "output_type": "stream",
     "text": [
      "\n"
     ]
    },
    {
     "ename": "UnboundLocalError",
     "evalue": "cannot access local variable 'coef' where it is not associated with a value",
     "output_type": "error",
     "traceback": [
      "\u001b[1;31m---------------------------------------------------------------------------\u001b[0m",
      "\u001b[1;31mUnboundLocalError\u001b[0m                         Traceback (most recent call last)",
      "Cell \u001b[1;32mIn[69], line 2\u001b[0m\n\u001b[0;32m      1\u001b[0m k12 \u001b[38;5;241m=\u001b[39m k12\u001b[38;5;241m.\u001b[39mprune()\n\u001b[1;32m----> 2\u001b[0m \u001b[43mk12\u001b[49m\u001b[38;5;241;43m.\u001b[39;49m\u001b[43mfit\u001b[49m\u001b[43m(\u001b[49m\u001b[43mdataset12\u001b[49m\u001b[43m,\u001b[49m\u001b[43m \u001b[49m\u001b[43msteps\u001b[49m\u001b[38;5;241;43m=\u001b[39;49m\u001b[38;5;241;43m20\u001b[39;49m\u001b[43m,\u001b[49m\u001b[43m \u001b[49m\u001b[43mlamb\u001b[49m\u001b[38;5;241;43m=\u001b[39;49m\u001b[38;5;241;43m1e-3\u001b[39;49m\u001b[43m)\u001b[49m;\n",
      "File \u001b[1;32mc:\\Users\\taoha\\anaconda3\\envs\\kans\\Lib\\site-packages\\kan\\MultKAN.py:1549\u001b[0m, in \u001b[0;36mMultKAN.fit\u001b[1;34m(self, dataset, opt, steps, log, lamb, lamb_l1, lamb_entropy, lamb_coef, lamb_coefdiff, update_grid, grid_update_num, loss_fn, lr, start_grid_update_step, stop_grid_update_step, batch, metrics, save_fig, in_vars, out_vars, beta, save_fig_freq, img_folder, singularity_avoiding, y_th, reg_metric, display_metrics)\u001b[0m\n\u001b[0;32m   1546\u001b[0m test_id \u001b[38;5;241m=\u001b[39m np\u001b[38;5;241m.\u001b[39mrandom\u001b[38;5;241m.\u001b[39mchoice(dataset[\u001b[38;5;124m'\u001b[39m\u001b[38;5;124mtest_input\u001b[39m\u001b[38;5;124m'\u001b[39m]\u001b[38;5;241m.\u001b[39mshape[\u001b[38;5;241m0\u001b[39m], batch_size_test, replace\u001b[38;5;241m=\u001b[39m\u001b[38;5;28;01mFalse\u001b[39;00m)\n\u001b[0;32m   1548\u001b[0m \u001b[38;5;28;01mif\u001b[39;00m _ \u001b[38;5;241m%\u001b[39m grid_update_freq \u001b[38;5;241m==\u001b[39m \u001b[38;5;241m0\u001b[39m \u001b[38;5;129;01mand\u001b[39;00m _ \u001b[38;5;241m<\u001b[39m stop_grid_update_step \u001b[38;5;129;01mand\u001b[39;00m update_grid \u001b[38;5;129;01mand\u001b[39;00m _ \u001b[38;5;241m>\u001b[39m\u001b[38;5;241m=\u001b[39m start_grid_update_step:\n\u001b[1;32m-> 1549\u001b[0m     \u001b[38;5;28;43mself\u001b[39;49m\u001b[38;5;241;43m.\u001b[39;49m\u001b[43mupdate_grid\u001b[49m\u001b[43m(\u001b[49m\u001b[43mdataset\u001b[49m\u001b[43m[\u001b[49m\u001b[38;5;124;43m'\u001b[39;49m\u001b[38;5;124;43mtrain_input\u001b[39;49m\u001b[38;5;124;43m'\u001b[39;49m\u001b[43m]\u001b[49m\u001b[43m[\u001b[49m\u001b[43mtrain_id\u001b[49m\u001b[43m]\u001b[49m\u001b[43m)\u001b[49m\n\u001b[0;32m   1551\u001b[0m \u001b[38;5;28;01mif\u001b[39;00m opt \u001b[38;5;241m==\u001b[39m \u001b[38;5;124m\"\u001b[39m\u001b[38;5;124mLBFGS\u001b[39m\u001b[38;5;124m\"\u001b[39m:\n\u001b[0;32m   1552\u001b[0m     optimizer\u001b[38;5;241m.\u001b[39mstep(closure)\n",
      "File \u001b[1;32mc:\\Users\\taoha\\anaconda3\\envs\\kans\\Lib\\site-packages\\kan\\MultKAN.py:714\u001b[0m, in \u001b[0;36mMultKAN.update_grid\u001b[1;34m(self, x)\u001b[0m\n\u001b[0;32m    710\u001b[0m \u001b[38;5;28;01mdef\u001b[39;00m \u001b[38;5;21mupdate_grid\u001b[39m(\u001b[38;5;28mself\u001b[39m, x):\n\u001b[0;32m    711\u001b[0m \u001b[38;5;250m    \u001b[39m\u001b[38;5;124;03m'''\u001b[39;00m\n\u001b[0;32m    712\u001b[0m \u001b[38;5;124;03m    call update_grid_from_samples. This seems unnecessary but we retain it for the sake of classes that might inherit from MultKAN\u001b[39;00m\n\u001b[0;32m    713\u001b[0m \u001b[38;5;124;03m    '''\u001b[39;00m\n\u001b[1;32m--> 714\u001b[0m     \u001b[38;5;28;43mself\u001b[39;49m\u001b[38;5;241;43m.\u001b[39;49m\u001b[43mupdate_grid_from_samples\u001b[49m\u001b[43m(\u001b[49m\u001b[43mx\u001b[49m\u001b[43m)\u001b[49m\n",
      "File \u001b[1;32mc:\\Users\\taoha\\anaconda3\\envs\\kans\\Lib\\site-packages\\kan\\MultKAN.py:708\u001b[0m, in \u001b[0;36mMultKAN.update_grid_from_samples\u001b[1;34m(self, x)\u001b[0m\n\u001b[0;32m    706\u001b[0m \u001b[38;5;28;01mfor\u001b[39;00m l \u001b[38;5;129;01min\u001b[39;00m \u001b[38;5;28mrange\u001b[39m(\u001b[38;5;28mself\u001b[39m\u001b[38;5;241m.\u001b[39mdepth):\n\u001b[0;32m    707\u001b[0m     \u001b[38;5;28mself\u001b[39m\u001b[38;5;241m.\u001b[39mget_act(x)\n\u001b[1;32m--> 708\u001b[0m     \u001b[38;5;28;43mself\u001b[39;49m\u001b[38;5;241;43m.\u001b[39;49m\u001b[43mact_fun\u001b[49m\u001b[43m[\u001b[49m\u001b[43ml\u001b[49m\u001b[43m]\u001b[49m\u001b[38;5;241;43m.\u001b[39;49m\u001b[43mupdate_grid_from_samples\u001b[49m\u001b[43m(\u001b[49m\u001b[38;5;28;43mself\u001b[39;49m\u001b[38;5;241;43m.\u001b[39;49m\u001b[43macts\u001b[49m\u001b[43m[\u001b[49m\u001b[43ml\u001b[49m\u001b[43m]\u001b[49m\u001b[43m)\u001b[49m\n",
      "File \u001b[1;32mc:\\Users\\taoha\\anaconda3\\envs\\kans\\Lib\\site-packages\\kan\\KANLayer.py:217\u001b[0m, in \u001b[0;36mKANLayer.update_grid_from_samples\u001b[1;34m(self, x, mode)\u001b[0m\n\u001b[0;32m    214\u001b[0m \u001b[38;5;28mself\u001b[39m\u001b[38;5;241m.\u001b[39mgrid\u001b[38;5;241m.\u001b[39mdata \u001b[38;5;241m=\u001b[39m extend_grid(grid, k_extend\u001b[38;5;241m=\u001b[39m\u001b[38;5;28mself\u001b[39m\u001b[38;5;241m.\u001b[39mk)\n\u001b[0;32m    215\u001b[0m \u001b[38;5;66;03m#print('x_pos 2', x_pos.shape)\u001b[39;00m\n\u001b[0;32m    216\u001b[0m \u001b[38;5;66;03m#print('y_eval 2', y_eval.shape)\u001b[39;00m\n\u001b[1;32m--> 217\u001b[0m \u001b[38;5;28mself\u001b[39m\u001b[38;5;241m.\u001b[39mcoef\u001b[38;5;241m.\u001b[39mdata \u001b[38;5;241m=\u001b[39m \u001b[43mcurve2coef\u001b[49m\u001b[43m(\u001b[49m\u001b[43mx_pos\u001b[49m\u001b[43m,\u001b[49m\u001b[43m \u001b[49m\u001b[43my_eval\u001b[49m\u001b[43m,\u001b[49m\u001b[43m \u001b[49m\u001b[38;5;28;43mself\u001b[39;49m\u001b[38;5;241;43m.\u001b[39;49m\u001b[43mgrid\u001b[49m\u001b[43m,\u001b[49m\u001b[43m \u001b[49m\u001b[38;5;28;43mself\u001b[39;49m\u001b[38;5;241;43m.\u001b[39;49m\u001b[43mk\u001b[49m\u001b[43m)\u001b[49m\n",
      "File \u001b[1;32mc:\\Users\\taoha\\anaconda3\\envs\\kans\\Lib\\site-packages\\kan\\spline.py:131\u001b[0m, in \u001b[0;36mcurve2coef\u001b[1;34m(x_eval, y_eval, grid, k)\u001b[0m\n\u001b[0;32m    121\u001b[0m \u001b[38;5;66;03m# manual psuedo-inverse\u001b[39;00m\n\u001b[0;32m    122\u001b[0m \u001b[38;5;250m\u001b[39m\u001b[38;5;124;03m'''lamb=1e-8\u001b[39;00m\n\u001b[0;32m    123\u001b[0m \u001b[38;5;124;03mXtX = torch.einsum('ijmn,ijnp->ijmp', mat.permute(0,1,3,2), mat)\u001b[39;00m\n\u001b[0;32m    124\u001b[0m \u001b[38;5;124;03mXty = torch.einsum('ijmn,ijnp->ijmp', mat.permute(0,1,3,2), y_eval)\u001b[39;00m\n\u001b[1;32m   (...)\u001b[0m\n\u001b[0;32m    128\u001b[0m \u001b[38;5;124;03mB = Xty\u001b[39;00m\n\u001b[0;32m    129\u001b[0m \u001b[38;5;124;03mcoef = (A.pinverse() @ B)[:,:,:,0]'''\u001b[39;00m\n\u001b[1;32m--> 131\u001b[0m \u001b[38;5;28;01mreturn\u001b[39;00m \u001b[43mcoef\u001b[49m\n",
      "\u001b[1;31mUnboundLocalError\u001b[0m: cannot access local variable 'coef' where it is not associated with a value"
     ]
    }
   ],
   "source": [
    "k12 = k12.prune()\n",
    "k12.fit(dataset12, steps=20, lamb=1e-3);"
   ]
  },
  {
   "cell_type": "code",
   "execution_count": 80,
   "id": "e30fedda",
   "metadata": {},
   "outputs": [
    {
     "data": {
      "text/plain": [
       "tensor([[1., 1., 1.,  ..., 0., 0., 0.],\n",
       "        [1., 1., 1.,  ..., 0., 0., 0.],\n",
       "        [1., 1., 0.,  ..., 0., 0., 0.],\n",
       "        ...,\n",
       "        [0., 0., 1.,  ..., 1., 1., 1.],\n",
       "        [0., 0., 0.,  ..., 1., 1., 1.],\n",
       "        [0., 0., 0.,  ..., 1., 1., 1.]])"
      ]
     },
     "execution_count": 80,
     "metadata": {},
     "output_type": "execute_result"
    }
   ],
   "source": [
    "bin_input"
   ]
  },
  {
   "cell_type": "code",
   "execution_count": 86,
   "id": "d8575cec",
   "metadata": {},
   "outputs": [],
   "source": [
    "def manual_sr(x, N, shift=0):\n",
    "    return sum(x[:, (i + shift) % N] + x[:, (i + 1 + shift) % N] for i in range(0, N, 4))"
   ]
  },
  {
   "cell_type": "code",
   "execution_count": 87,
   "id": "94f6e21f",
   "metadata": {},
   "outputs": [
    {
     "data": {
      "text/plain": [
       "tensor(0.)"
      ]
     },
     "execution_count": 87,
     "metadata": {},
     "output_type": "execute_result"
    }
   ],
   "source": [
    "(torch.cos(torch.pi * manual_sr(bin_input, N)) - sign_labels).mean()"
   ]
  },
  {
   "cell_type": "code",
   "execution_count": 88,
   "id": "1f802f22",
   "metadata": {},
   "outputs": [
    {
     "name": "stdout",
     "output_type": "stream",
     "text": [
      "tensor(0.)\n",
      "tensor(0.)\n",
      "tensor(0.)\n",
      "tensor(0.)\n"
     ]
    }
   ],
   "source": [
    "for shift in range(4):\n",
    "    print((torch.cos(torch.pi * manual_sr(bin_input, N, shift=shift)) - sign_labels).mean())"
   ]
  },
  {
   "cell_type": "code",
   "execution_count": 89,
   "id": "c6e627e5",
   "metadata": {},
   "outputs": [
    {
     "data": {
      "text/plain": [
       "(array([-3., -3., -3., -3.,  3.,  3.,  3.,  3.]),\n",
       " array([Quantum object: dims=[[2, 2, 2], [1, 1, 1]], shape=(8, 1), type='ket', dtype=Dense\n",
       "        Qobj data =\n",
       "        [[ 0.        ]\n",
       "         [ 0.        ]\n",
       "         [ 0.70710678]\n",
       "         [ 0.        ]\n",
       "         [-0.70710678]\n",
       "         [ 0.        ]\n",
       "         [ 0.        ]\n",
       "         [ 0.        ]]                                                                   ,\n",
       "        Quantum object: dims=[[2, 2, 2], [1, 1, 1]], shape=(8, 1), type='ket', dtype=Dense\n",
       "        Qobj data =\n",
       "        [[ 0.        ]\n",
       "         [ 0.        ]\n",
       "         [ 0.        ]\n",
       "         [ 0.        ]\n",
       "         [ 0.        ]\n",
       "         [-0.70710678]\n",
       "         [ 0.70710678]\n",
       "         [ 0.        ]]                                                                   ,\n",
       "        Quantum object: dims=[[2, 2, 2], [1, 1, 1]], shape=(8, 1), type='ket', dtype=Dense\n",
       "        Qobj data =\n",
       "        [[ 0.        ]\n",
       "         [ 0.        ]\n",
       "         [ 0.        ]\n",
       "         [-0.81649658]\n",
       "         [ 0.        ]\n",
       "         [ 0.40824829]\n",
       "         [ 0.40824829]\n",
       "         [ 0.        ]]                                                                   ,\n",
       "        Quantum object: dims=[[2, 2, 2], [1, 1, 1]], shape=(8, 1), type='ket', dtype=Dense\n",
       "        Qobj data =\n",
       "        [[ 0.        ]\n",
       "         [ 0.81649658]\n",
       "         [-0.40824829]\n",
       "         [ 0.        ]\n",
       "         [-0.40824829]\n",
       "         [ 0.        ]\n",
       "         [ 0.        ]\n",
       "         [ 0.        ]]                                                                   ,\n",
       "        Quantum object: dims=[[2, 2, 2], [1, 1, 1]], shape=(8, 1), type='ket', dtype=Dense\n",
       "        Qobj data =\n",
       "        [[ 0.        ]\n",
       "         [-0.57735027]\n",
       "         [-0.57735027]\n",
       "         [ 0.        ]\n",
       "         [-0.57735027]\n",
       "         [ 0.        ]\n",
       "         [ 0.        ]\n",
       "         [ 0.        ]]                                                                   ,\n",
       "        Quantum object: dims=[[2, 2, 2], [1, 1, 1]], shape=(8, 1), type='ket', dtype=Dense\n",
       "        Qobj data =\n",
       "        [[ 0.        ]\n",
       "         [ 0.        ]\n",
       "         [ 0.        ]\n",
       "         [-0.57735027]\n",
       "         [ 0.        ]\n",
       "         [-0.57735027]\n",
       "         [-0.57735027]\n",
       "         [ 0.        ]]                                                                   ,\n",
       "        Quantum object: dims=[[2, 2, 2], [1, 1, 1]], shape=(8, 1), type='ket', dtype=Dense\n",
       "        Qobj data =\n",
       "        [[1.]\n",
       "         [0.]\n",
       "         [0.]\n",
       "         [0.]\n",
       "         [0.]\n",
       "         [0.]\n",
       "         [0.]\n",
       "         [0.]]                                                                            ,\n",
       "        Quantum object: dims=[[2, 2, 2], [1, 1, 1]], shape=(8, 1), type='ket', dtype=Dense\n",
       "        Qobj data =\n",
       "        [[0.]\n",
       "         [0.]\n",
       "         [0.]\n",
       "         [0.]\n",
       "         [0.]\n",
       "         [0.]\n",
       "         [0.]\n",
       "         [1.]]                                                                            ],\n",
       "       dtype=object))"
      ]
     },
     "execution_count": 89,
     "metadata": {},
     "output_type": "execute_result"
    }
   ],
   "source": [
    "j1j2_functions.J1J2_hamiltonian(3, 1, 0).eigenstates()"
   ]
  },
  {
   "cell_type": "code",
   "execution_count": null,
   "id": "4c17742b",
   "metadata": {},
   "outputs": [],
   "source": []
  }
 ],
 "metadata": {
  "kernelspec": {
   "display_name": "kans",
   "language": "python",
   "name": "python3"
  },
  "language_info": {
   "codemirror_mode": {
    "name": "ipython",
    "version": 3
   },
   "file_extension": ".py",
   "mimetype": "text/x-python",
   "name": "python",
   "nbconvert_exporter": "python",
   "pygments_lexer": "ipython3",
   "version": "3.12.5"
  }
 },
 "nbformat": 4,
 "nbformat_minor": 5
}
