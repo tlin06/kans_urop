{
 "cells": [
  {
   "cell_type": "code",
   "execution_count": 90,
   "id": "7478a8bc",
   "metadata": {},
   "outputs": [],
   "source": [
    "import kan\n",
    "import kan.utils as ku\n",
    "import torch\n",
    "import torch.nn as nn\n",
    "import numpy as np\n",
    "from libraries import utils\n",
    "from libraries import magnetization\n",
    "from libraries import j1j2_functions\n",
    "import numpy.random as npr\n",
    "import qutip as qt\n",
    "import sympy\n",
    "import random"
   ]
  },
  {
   "cell_type": "code",
   "execution_count": 99,
   "id": "8c56271c",
   "metadata": {},
   "outputs": [],
   "source": [
    "# seems N=10, J2=0.2 has only fail for 5 1s in a row\n",
    "# N=10, J2=0.4 fails for 5 1s, but not necessarily in a row\n",
    "# seems N=8, J2=0.4 has only fail for 4 1s in a row\n",
    "N=10; J1=1; J2=0.2\n",
    "h = j1j2_functions.J1J2_hamiltonian(N, J1, J2)\n",
    "eigs = h.eigenstates()\n",
    "gs = eigs[1][0]\n",
    "gse = eigs[0][0]"
   ]
  },
  {
   "cell_type": "code",
   "execution_count": 112,
   "id": "0407cde8",
   "metadata": {},
   "outputs": [
    {
     "name": "stdout",
     "output_type": "stream",
     "text": [
      "252\n",
      "fail 0b11111, val -5.154362876348855e-05, pred 1\n",
      "fail 0b111110, val 5.15436287634932e-05, pred -1\n",
      "fail 0b1111100, val -5.154362876348732e-05, pred 1\n",
      "fail 0b11111000, val 5.154362876348707e-05, pred -1\n",
      "fail 0b111110000, val -5.154362876348749e-05, pred 1\n",
      "fail 0b1000001111, val 5.1543628763487176e-05, pred -1\n",
      "fail 0b1100000111, val -5.1543628763487244e-05, pred 1\n",
      "fail 0b1110000011, val 5.1543628763487115e-05, pred -1\n",
      "fail 0b1111000001, val -5.154362876348747e-05, pred 1\n",
      "fail 0b1111100000, val 5.15436287634872e-05, pred -1\n",
      "10\n"
     ]
    }
   ],
   "source": [
    "threshold = 1e-10\n",
    "statesf = []\n",
    "signsf = []\n",
    "for i in range(0, 2 ** N):\n",
    "    val = gs[i][0].real\n",
    "    if abs(val) > threshold: \n",
    "        statesf.append(i)\n",
    "        signsf.append(-1 + 2 * int(val > 0))\n",
    "pred_signsf =  [-1 + 2 * (magnetization.count_half_magnetization(i) % 2) for i in statesf]\n",
    "\n",
    "print(len(statesf))\n",
    "deviations = []\n",
    "for state, true, calc in zip(statesf, signsf, pred_signsf):\n",
    "    if true != calc:\n",
    "        deviations.append(state)\n",
    "        print(f'fail {bin(state)}, val {gs[state][0].real}, pred {calc}')\n",
    "print(len(deviations))\n"
   ]
  },
  {
   "cell_type": "code",
   "execution_count": 101,
   "id": "121b2b95",
   "metadata": {},
   "outputs": [
    {
     "name": "stdout",
     "output_type": "stream",
     "text": [
      "torch.Size([252, 10]) torch.Size([252, 1])\n"
     ]
    }
   ],
   "source": [
    "input = utils.generate_input_samples(N, statesf)\n",
    "labels = torch.tensor(signsf, dtype=torch.float64).reshape((-1, 1))\n",
    "print(input.shape, labels.shape)"
   ]
  },
  {
   "cell_type": "code",
   "execution_count": 102,
   "id": "01b6fb5e",
   "metadata": {},
   "outputs": [
    {
     "name": "stdout",
     "output_type": "stream",
     "text": [
      "checkpoint directory created: ./model\n",
      "saving model version 0.0\n",
      "saving model version 0.1\n"
     ]
    }
   ],
   "source": [
    "dataset = {'train_input': input, 'train_label': labels, 'test_input': input, 'test_label': labels}\n",
    "bash_model2N = kan.KAN(width = [N, N, 1, 1])\n",
    "bash_model2N(dataset['train_input'])\n",
    "tanh = lambda x : torch.tanh(x)\n",
    "bash_model2N.fix_symbolic(2, 0, 0, tanh)\n",
    "bash_model2N.symbolic_fun[2].affine = nn.Parameter(torch.tensor([[[1, 0, 1, 0]]], dtype=torch.float64), requires_grad=False)"
   ]
  },
  {
   "cell_type": "code",
   "execution_count": null,
   "id": "d10e7bd9",
   "metadata": {},
   "outputs": [
    {
     "name": "stderr",
     "output_type": "stream",
     "text": [
      "| train_loss: 2.82e-01 | test_loss: 2.82e-01 | reg: 8.42e+01 | : 100%|█| 20/20 [00:13<00:00,  1.50it"
     ]
    },
    {
     "name": "stdout",
     "output_type": "stream",
     "text": [
      "saving model version 0.2\n"
     ]
    },
    {
     "name": "stderr",
     "output_type": "stream",
     "text": [
      "\n"
     ]
    }
   ],
   "source": [
    "bash_model2N.fit(dataset, steps=20, lamb=0); # this seems to stay at loss = 0.28, (5 mistakes)"
   ]
  },
  {
   "cell_type": "code",
   "execution_count": 104,
   "id": "8535bb97",
   "metadata": {},
   "outputs": [
    {
     "data": {
      "text/plain": [
       "tensor([[-0.9879],\n",
       "        [-1.0000],\n",
       "        [ 1.0000],\n",
       "        [-1.0000],\n",
       "        [-1.0000],\n",
       "        [ 0.9997],\n",
       "        [ 1.0000],\n",
       "        [-1.0000],\n",
       "        [ 1.0000],\n",
       "        [-1.0000],\n",
       "        [ 0.9994],\n",
       "        [ 1.0000],\n",
       "        [-1.0000],\n",
       "        [ 0.9999],\n",
       "        [-1.0000],\n",
       "        [ 1.0000],\n",
       "        [-1.0000],\n",
       "        [ 0.9997],\n",
       "        [ 1.0000],\n",
       "        [-0.9999],\n",
       "        [-0.9972],\n",
       "        [-1.0000],\n",
       "        [ 1.0000],\n",
       "        [-1.0000],\n",
       "        [ 1.0000],\n",
       "        [-1.0000],\n",
       "        [-1.0000],\n",
       "        [ 1.0000],\n",
       "        [-1.0000],\n",
       "        [ 1.0000],\n",
       "        [-1.0000],\n",
       "        [ 1.0000],\n",
       "        [-1.0000],\n",
       "        [-1.0000],\n",
       "        [ 1.0000],\n",
       "        [-1.0000],\n",
       "        [ 1.0000],\n",
       "        [-1.0000],\n",
       "        [ 1.0000],\n",
       "        [-1.0000],\n",
       "        [ 1.0000],\n",
       "        [-1.0000],\n",
       "        [ 1.0000],\n",
       "        [ 0.9999],\n",
       "        [-0.9997],\n",
       "        [ 1.0000],\n",
       "        [-1.0000],\n",
       "        [ 1.0000],\n",
       "        [-1.0000],\n",
       "        [-1.0000],\n",
       "        [ 0.9992],\n",
       "        [-1.0000],\n",
       "        [ 1.0000],\n",
       "        [-1.0000],\n",
       "        [ 1.0000],\n",
       "        [ 0.9990],\n",
       "        [ 1.0000],\n",
       "        [-1.0000],\n",
       "        [ 1.0000],\n",
       "        [-1.0000],\n",
       "        [ 0.9999],\n",
       "        [ 1.0000],\n",
       "        [-1.0000],\n",
       "        [ 1.0000],\n",
       "        [-1.0000],\n",
       "        [ 1.0000],\n",
       "        [-1.0000],\n",
       "        [ 1.0000],\n",
       "        [ 1.0000],\n",
       "        [-1.0000],\n",
       "        [ 0.9997],\n",
       "        [-1.0000],\n",
       "        [ 1.0000],\n",
       "        [-1.0000],\n",
       "        [ 1.0000],\n",
       "        [-1.0000],\n",
       "        [ 1.0000],\n",
       "        [-1.0000],\n",
       "        [-1.0000],\n",
       "        [ 1.0000],\n",
       "        [-1.0000],\n",
       "        [ 1.0000],\n",
       "        [-1.0000],\n",
       "        [ 1.0000],\n",
       "        [ 1.0000],\n",
       "        [-1.0000],\n",
       "        [ 1.0000],\n",
       "        [-1.0000],\n",
       "        [ 1.0000],\n",
       "        [-1.0000],\n",
       "        [ 1.0000],\n",
       "        [ 1.0000],\n",
       "        [-1.0000],\n",
       "        [ 1.0000],\n",
       "        [-1.0000],\n",
       "        [ 1.0000],\n",
       "        [-1.0000],\n",
       "        [ 1.0000],\n",
       "        [ 1.0000],\n",
       "        [-1.0000],\n",
       "        [ 1.0000],\n",
       "        [-1.0000],\n",
       "        [ 1.0000],\n",
       "        [-1.0000],\n",
       "        [-1.0000],\n",
       "        [ 1.0000],\n",
       "        [-1.0000],\n",
       "        [ 1.0000],\n",
       "        [-1.0000],\n",
       "        [ 1.0000],\n",
       "        [-1.0000],\n",
       "        [ 0.9459],\n",
       "        [-1.0000],\n",
       "        [ 1.0000],\n",
       "        [ 1.0000],\n",
       "        [-1.0000],\n",
       "        [ 1.0000],\n",
       "        [-1.0000],\n",
       "        [ 1.0000],\n",
       "        [-1.0000],\n",
       "        [ 1.0000],\n",
       "        [ 1.0000],\n",
       "        [-1.0000],\n",
       "        [ 1.0000],\n",
       "        [-1.0000],\n",
       "        [ 1.0000],\n",
       "        [-1.0000],\n",
       "        [ 1.0000],\n",
       "        [-1.0000],\n",
       "        [ 1.0000],\n",
       "        [-1.0000],\n",
       "        [-1.0000],\n",
       "        [ 1.0000],\n",
       "        [-1.0000],\n",
       "        [ 1.0000],\n",
       "        [-1.0000],\n",
       "        [ 1.0000],\n",
       "        [-1.0000],\n",
       "        [-1.0000],\n",
       "        [ 1.0000],\n",
       "        [-0.9999],\n",
       "        [ 1.0000],\n",
       "        [-1.0000],\n",
       "        [ 1.0000],\n",
       "        [-1.0000],\n",
       "        [ 1.0000],\n",
       "        [-1.0000],\n",
       "        [ 1.0000],\n",
       "        [ 1.0000],\n",
       "        [-1.0000],\n",
       "        [ 1.0000],\n",
       "        [-1.0000],\n",
       "        [ 1.0000],\n",
       "        [-1.0000],\n",
       "        [-1.0000],\n",
       "        [ 1.0000],\n",
       "        [-1.0000],\n",
       "        [ 1.0000],\n",
       "        [-1.0000],\n",
       "        [ 1.0000],\n",
       "        [-1.0000],\n",
       "        [-1.0000],\n",
       "        [ 1.0000],\n",
       "        [-1.0000],\n",
       "        [ 1.0000],\n",
       "        [-1.0000],\n",
       "        [ 1.0000],\n",
       "        [-1.0000],\n",
       "        [-1.0000],\n",
       "        [ 1.0000],\n",
       "        [-1.0000],\n",
       "        [ 1.0000],\n",
       "        [-1.0000],\n",
       "        [ 1.0000],\n",
       "        [ 1.0000],\n",
       "        [-1.0000],\n",
       "        [ 1.0000],\n",
       "        [-1.0000],\n",
       "        [ 1.0000],\n",
       "        [-1.0000],\n",
       "        [ 1.0000],\n",
       "        [-1.0000],\n",
       "        [ 1.0000],\n",
       "        [-1.0000],\n",
       "        [-1.0000],\n",
       "        [ 1.0000],\n",
       "        [-1.0000],\n",
       "        [ 1.0000],\n",
       "        [-1.0000],\n",
       "        [ 1.0000],\n",
       "        [-1.0000],\n",
       "        [-1.0000],\n",
       "        [ 1.0000],\n",
       "        [-1.0000],\n",
       "        [ 1.0000],\n",
       "        [-1.0000],\n",
       "        [-0.9993],\n",
       "        [-1.0000],\n",
       "        [ 0.9995],\n",
       "        [-1.0000],\n",
       "        [ 1.0000],\n",
       "        [-1.0000],\n",
       "        [ 1.0000],\n",
       "        [ 1.0000],\n",
       "        [-1.0000],\n",
       "        [ 1.0000],\n",
       "        [-1.0000],\n",
       "        [ 0.9991],\n",
       "        [-1.0000],\n",
       "        [-1.0000],\n",
       "        [ 1.0000],\n",
       "        [-1.0000],\n",
       "        [ 1.0000],\n",
       "        [-1.0000],\n",
       "        [ 1.0000],\n",
       "        [-1.0000],\n",
       "        [ 0.9986],\n",
       "        [-1.0000],\n",
       "        [ 1.0000],\n",
       "        [ 1.0000],\n",
       "        [-1.0000],\n",
       "        [ 1.0000],\n",
       "        [-1.0000],\n",
       "        [ 1.0000],\n",
       "        [-1.0000],\n",
       "        [ 1.0000],\n",
       "        [ 1.0000],\n",
       "        [-1.0000],\n",
       "        [ 1.0000],\n",
       "        [-1.0000],\n",
       "        [ 1.0000],\n",
       "        [-0.9992],\n",
       "        [ 0.9989],\n",
       "        [-1.0000],\n",
       "        [-1.0000],\n",
       "        [ 1.0000],\n",
       "        [-1.0000],\n",
       "        [ 0.9973],\n",
       "        [-1.0000],\n",
       "        [ 1.0000],\n",
       "        [-1.0000],\n",
       "        [-1.0000],\n",
       "        [ 0.9999],\n",
       "        [-1.0000],\n",
       "        [ 1.0000],\n",
       "        [-1.0000],\n",
       "        [-1.0000],\n",
       "        [-0.9985],\n",
       "        [ 1.0000],\n",
       "        [-1.0000],\n",
       "        [ 1.0000],\n",
       "        [-1.0000]], grad_fn=<AddBackward0>)"
      ]
     },
     "execution_count": 104,
     "metadata": {},
     "output_type": "execute_result"
    }
   ],
   "source": [
    "bash_model2N(input)"
   ]
  },
  {
   "cell_type": "code",
   "execution_count": 105,
   "id": "9af6d8ac",
   "metadata": {},
   "outputs": [
    {
     "data": {
      "text/plain": [
       "tensor([[-1.],\n",
       "        [-1.],\n",
       "        [ 1.],\n",
       "        [-1.],\n",
       "        [ 1.],\n",
       "        [ 1.],\n",
       "        [ 1.],\n",
       "        [-1.],\n",
       "        [ 1.],\n",
       "        [-1.],\n",
       "        [ 1.],\n",
       "        [ 1.],\n",
       "        [-1.],\n",
       "        [ 1.],\n",
       "        [-1.],\n",
       "        [ 1.],\n",
       "        [-1.],\n",
       "        [ 1.],\n",
       "        [ 1.],\n",
       "        [-1.],\n",
       "        [-1.],\n",
       "        [-1.],\n",
       "        [ 1.],\n",
       "        [-1.],\n",
       "        [ 1.],\n",
       "        [-1.],\n",
       "        [-1.],\n",
       "        [ 1.],\n",
       "        [-1.],\n",
       "        [ 1.],\n",
       "        [-1.],\n",
       "        [ 1.],\n",
       "        [-1.],\n",
       "        [-1.],\n",
       "        [ 1.],\n",
       "        [-1.],\n",
       "        [ 1.],\n",
       "        [-1.],\n",
       "        [ 1.],\n",
       "        [-1.],\n",
       "        [ 1.],\n",
       "        [-1.],\n",
       "        [ 1.],\n",
       "        [ 1.],\n",
       "        [-1.],\n",
       "        [ 1.],\n",
       "        [-1.],\n",
       "        [ 1.],\n",
       "        [-1.],\n",
       "        [-1.],\n",
       "        [ 1.],\n",
       "        [-1.],\n",
       "        [ 1.],\n",
       "        [-1.],\n",
       "        [ 1.],\n",
       "        [ 1.],\n",
       "        [ 1.],\n",
       "        [-1.],\n",
       "        [ 1.],\n",
       "        [-1.],\n",
       "        [ 1.],\n",
       "        [ 1.],\n",
       "        [-1.],\n",
       "        [ 1.],\n",
       "        [-1.],\n",
       "        [ 1.],\n",
       "        [-1.],\n",
       "        [ 1.],\n",
       "        [ 1.],\n",
       "        [-1.],\n",
       "        [ 1.],\n",
       "        [-1.],\n",
       "        [ 1.],\n",
       "        [-1.],\n",
       "        [ 1.],\n",
       "        [-1.],\n",
       "        [ 1.],\n",
       "        [-1.],\n",
       "        [-1.],\n",
       "        [ 1.],\n",
       "        [-1.],\n",
       "        [ 1.],\n",
       "        [-1.],\n",
       "        [ 1.],\n",
       "        [ 1.],\n",
       "        [-1.],\n",
       "        [ 1.],\n",
       "        [-1.],\n",
       "        [ 1.],\n",
       "        [-1.],\n",
       "        [ 1.],\n",
       "        [ 1.],\n",
       "        [-1.],\n",
       "        [ 1.],\n",
       "        [-1.],\n",
       "        [ 1.],\n",
       "        [-1.],\n",
       "        [ 1.],\n",
       "        [ 1.],\n",
       "        [-1.],\n",
       "        [ 1.],\n",
       "        [-1.],\n",
       "        [ 1.],\n",
       "        [-1.],\n",
       "        [-1.],\n",
       "        [ 1.],\n",
       "        [-1.],\n",
       "        [ 1.],\n",
       "        [-1.],\n",
       "        [ 1.],\n",
       "        [-1.],\n",
       "        [ 1.],\n",
       "        [-1.],\n",
       "        [ 1.],\n",
       "        [ 1.],\n",
       "        [-1.],\n",
       "        [ 1.],\n",
       "        [-1.],\n",
       "        [ 1.],\n",
       "        [-1.],\n",
       "        [ 1.],\n",
       "        [ 1.],\n",
       "        [-1.],\n",
       "        [ 1.],\n",
       "        [-1.],\n",
       "        [-1.],\n",
       "        [ 1.],\n",
       "        [ 1.],\n",
       "        [-1.],\n",
       "        [ 1.],\n",
       "        [-1.],\n",
       "        [-1.],\n",
       "        [ 1.],\n",
       "        [-1.],\n",
       "        [ 1.],\n",
       "        [-1.],\n",
       "        [ 1.],\n",
       "        [-1.],\n",
       "        [-1.],\n",
       "        [ 1.],\n",
       "        [-1.],\n",
       "        [ 1.],\n",
       "        [-1.],\n",
       "        [ 1.],\n",
       "        [-1.],\n",
       "        [ 1.],\n",
       "        [-1.],\n",
       "        [ 1.],\n",
       "        [ 1.],\n",
       "        [-1.],\n",
       "        [ 1.],\n",
       "        [-1.],\n",
       "        [ 1.],\n",
       "        [-1.],\n",
       "        [-1.],\n",
       "        [ 1.],\n",
       "        [-1.],\n",
       "        [ 1.],\n",
       "        [-1.],\n",
       "        [ 1.],\n",
       "        [-1.],\n",
       "        [-1.],\n",
       "        [ 1.],\n",
       "        [-1.],\n",
       "        [ 1.],\n",
       "        [-1.],\n",
       "        [ 1.],\n",
       "        [-1.],\n",
       "        [-1.],\n",
       "        [ 1.],\n",
       "        [-1.],\n",
       "        [ 1.],\n",
       "        [-1.],\n",
       "        [ 1.],\n",
       "        [ 1.],\n",
       "        [-1.],\n",
       "        [ 1.],\n",
       "        [-1.],\n",
       "        [ 1.],\n",
       "        [-1.],\n",
       "        [ 1.],\n",
       "        [-1.],\n",
       "        [ 1.],\n",
       "        [-1.],\n",
       "        [-1.],\n",
       "        [ 1.],\n",
       "        [-1.],\n",
       "        [ 1.],\n",
       "        [-1.],\n",
       "        [ 1.],\n",
       "        [-1.],\n",
       "        [-1.],\n",
       "        [ 1.],\n",
       "        [-1.],\n",
       "        [ 1.],\n",
       "        [-1.],\n",
       "        [-1.],\n",
       "        [-1.],\n",
       "        [ 1.],\n",
       "        [-1.],\n",
       "        [ 1.],\n",
       "        [-1.],\n",
       "        [ 1.],\n",
       "        [ 1.],\n",
       "        [-1.],\n",
       "        [ 1.],\n",
       "        [-1.],\n",
       "        [ 1.],\n",
       "        [-1.],\n",
       "        [-1.],\n",
       "        [ 1.],\n",
       "        [-1.],\n",
       "        [ 1.],\n",
       "        [-1.],\n",
       "        [ 1.],\n",
       "        [-1.],\n",
       "        [ 1.],\n",
       "        [-1.],\n",
       "        [ 1.],\n",
       "        [ 1.],\n",
       "        [-1.],\n",
       "        [ 1.],\n",
       "        [-1.],\n",
       "        [ 1.],\n",
       "        [-1.],\n",
       "        [ 1.],\n",
       "        [ 1.],\n",
       "        [-1.],\n",
       "        [ 1.],\n",
       "        [-1.],\n",
       "        [ 1.],\n",
       "        [ 1.],\n",
       "        [ 1.],\n",
       "        [-1.],\n",
       "        [-1.],\n",
       "        [ 1.],\n",
       "        [-1.],\n",
       "        [ 1.],\n",
       "        [-1.],\n",
       "        [ 1.],\n",
       "        [-1.],\n",
       "        [-1.],\n",
       "        [ 1.],\n",
       "        [-1.],\n",
       "        [ 1.],\n",
       "        [-1.],\n",
       "        [-1.],\n",
       "        [-1.],\n",
       "        [ 1.],\n",
       "        [-1.],\n",
       "        [ 1.],\n",
       "        [ 1.]], dtype=torch.float64)"
      ]
     },
     "execution_count": 105,
     "metadata": {},
     "output_type": "execute_result"
    }
   ],
   "source": [
    "labels"
   ]
  },
  {
   "cell_type": "code",
   "execution_count": 118,
   "id": "f37c8225",
   "metadata": {},
   "outputs": [
    {
     "name": "stdout",
     "output_type": "stream",
     "text": [
      "5\n"
     ]
    }
   ],
   "source": [
    "pred = bash_model2N(input)\n",
    "pred_dev = []\n",
    "for i in range(labels.shape[0]):\n",
    "    if torch.sgn(pred[i][0])  != torch.sgn(labels[i][0]):\n",
    "        pred_dev.append(i)\n",
    "print(len(pred_dev))"
   ]
  },
  {
   "cell_type": "code",
   "execution_count": 123,
   "id": "d84702cd",
   "metadata": {},
   "outputs": [
    {
     "data": {
      "text/plain": [
       "0.2817169850082281"
      ]
     },
     "execution_count": 123,
     "metadata": {},
     "output_type": "execute_result"
    }
   ],
   "source": [
    "torch.sqrt(torch.mean((pred - labels) ** 2)).item()"
   ]
  },
  {
   "cell_type": "code",
   "execution_count": 122,
   "id": "65bc5c16",
   "metadata": {},
   "outputs": [
    {
     "data": {
      "text/plain": [
       "0.2817180849095055"
      ]
     },
     "execution_count": 122,
     "metadata": {},
     "output_type": "execute_result"
    }
   ],
   "source": [
    "torch.sqrt(torch.mean((torch.sgn(pred) - labels) ** 2)).item()"
   ]
  },
  {
   "cell_type": "code",
   "execution_count": 117,
   "id": "4120efd0",
   "metadata": {},
   "outputs": [
    {
     "data": {
      "text/plain": [
       "tensor(True)"
      ]
     },
     "execution_count": 117,
     "metadata": {},
     "output_type": "execute_result"
    }
   ],
   "source": [
    "torch.sgn(labels[0][0]) == torch.sgn(torch.tensor(-1))"
   ]
  },
  {
   "cell_type": "code",
   "execution_count": 124,
   "id": "01d0369d",
   "metadata": {},
   "outputs": [
    {
     "name": "stdout",
     "output_type": "stream",
     "text": [
      "checkpoint directory created: ./model\n",
      "saving model version 0.0\n",
      "saving model version 0.1\n"
     ]
    }
   ],
   "source": [
    "nlayer = 3\n",
    "bash_model3N = kan.KAN(width = [N] * nlayer + [1, 1])\n",
    "bash_model3N(dataset['train_input'])\n",
    "tanh = lambda x : torch.tanh(x)\n",
    "bash_model3N.fix_symbolic(nlayer, 0, 0, tanh)\n",
    "bash_model3N.symbolic_fun[nlayer].affine = nn.Parameter(torch.tensor([[[1, 0, 1, 0]]], dtype=torch.float64), requires_grad=False)"
   ]
  },
  {
   "cell_type": "code",
   "execution_count": null,
   "id": "d72e6693",
   "metadata": {},
   "outputs": [
    {
     "name": "stderr",
     "output_type": "stream",
     "text": [
      "| train_loss: 1.04e-05 | test_loss: 1.04e-05 | reg: 1.39e+02 | : 100%|█| 20/20 [00:18<00:00,  1.10it"
     ]
    },
    {
     "name": "stdout",
     "output_type": "stream",
     "text": [
      "saving model version 0.2\n"
     ]
    },
    {
     "name": "stderr",
     "output_type": "stream",
     "text": [
      "\n"
     ]
    }
   ],
   "source": [
    "bash_model3N.fit(dataset, steps=20, lamb=0); # omg this got to 1e-5, 0 mistakes"
   ]
  },
  {
   "cell_type": "code",
   "execution_count": 128,
   "id": "d14f3d9b",
   "metadata": {},
   "outputs": [
    {
     "name": "stdout",
     "output_type": "stream",
     "text": [
      "0\n"
     ]
    }
   ],
   "source": [
    "pred3N = bash_model3N(input)\n",
    "pred_dev3N = []\n",
    "for i in range(labels.shape[0]):\n",
    "    if torch.sgn(pred3N[i][0])  != torch.sgn(labels[i][0]):\n",
    "        pred_dev3N.append(i)\n",
    "print(len(pred_dev3N))"
   ]
  },
  {
   "cell_type": "code",
   "execution_count": null,
   "id": "c8355966",
   "metadata": {},
   "outputs": [
    {
     "name": "stderr",
     "output_type": "stream",
     "text": [
      "| train_loss: 2.80e-03 | test_loss: 2.80e-03 | reg: 3.36e+01 | : 100%|█| 20/20 [00:34<00:00,  1.73s/"
     ]
    },
    {
     "name": "stdout",
     "output_type": "stream",
     "text": [
      "saving model version 0.3\n"
     ]
    },
    {
     "name": "stderr",
     "output_type": "stream",
     "text": [
      "\n"
     ]
    }
   ],
   "source": [
    "bash_model3N.fit(dataset, steps=20, lamb=1e-5); # still no mistakes (2.8e-3 loss!)"
   ]
  },
  {
   "cell_type": "code",
   "execution_count": 130,
   "id": "71a3c20b",
   "metadata": {},
   "outputs": [
    {
     "name": "stdout",
     "output_type": "stream",
     "text": [
      "0\n"
     ]
    }
   ],
   "source": [
    "pred3N = bash_model3N(input)\n",
    "pred_dev3N = []\n",
    "for i in range(labels.shape[0]):\n",
    "    if torch.sgn(pred3N[i][0])  != torch.sgn(labels[i][0]):\n",
    "        pred_dev3N.append(i)\n",
    "print(len(pred_dev3N))"
   ]
  },
  {
   "cell_type": "code",
   "execution_count": 131,
   "id": "46caf3c9",
   "metadata": {},
   "outputs": [
    {
     "name": "stdout",
     "output_type": "stream",
     "text": [
      "saving model version 0.4\n"
     ]
    },
    {
     "data": {
      "text/plain": [
       "[[10, 0], [8, 0], [2, 0], [1, 0], [1, 0]]"
      ]
     },
     "execution_count": 131,
     "metadata": {},
     "output_type": "execute_result"
    }
   ],
   "source": [
    "bash_model3N.prune().width"
   ]
  },
  {
   "cell_type": "code",
   "execution_count": 132,
   "id": "a990f436",
   "metadata": {},
   "outputs": [
    {
     "name": "stdout",
     "output_type": "stream",
     "text": [
      "saving model version 0.4\n"
     ]
    },
    {
     "data": {
      "image/png": "[encoded data removed]",
      "text/plain": [
       "<Figure size 500x800 with 112 Axes>"
      ]
     },
     "metadata": {},
     "output_type": "display_data"
    }
   ],
   "source": [
    "bash_model3N.prune().plot()"
   ]
  },
  {
   "cell_type": "code",
   "execution_count": 133,
   "id": "3de78f63",
   "metadata": {},
   "outputs": [
    {
     "name": "stdout",
     "output_type": "stream",
     "text": [
      "saving model version 0.4\n"
     ]
    },
    {
     "data": {
      "text/plain": [
       "tensor(1.2908, dtype=torch.float64, grad_fn=<SqrtBackward0>)"
      ]
     },
     "execution_count": 133,
     "metadata": {},
     "output_type": "execute_result"
    }
   ],
   "source": [
    "bash_model3N = bash_model3N.prune()\n",
    "torch.sqrt(torch.mean((bash_model3N(input) - labels) ** 2))"
   ]
  },
  {
   "cell_type": "code",
   "execution_count": null,
   "id": "6dc41a87",
   "metadata": {},
   "outputs": [
    {
     "name": "stderr",
     "output_type": "stream",
     "text": [
      "| train_loss: 1.77e-01 | test_loss: 1.77e-01 | reg: 1.01e+02 | : 100%|█| 20/20 [00:11<00:00,  1.72it"
     ]
    },
    {
     "name": "stdout",
     "output_type": "stream",
     "text": [
      "saving model version 0.7\n"
     ]
    },
    {
     "name": "stderr",
     "output_type": "stream",
     "text": [
      "\n"
     ]
    }
   ],
   "source": [
    "bash_model3N.fit(dataset, steps=20); # after pruning gets stuck at 2 mistakes"
   ]
  },
  {
   "cell_type": "code",
   "execution_count": 136,
   "id": "4feb0730",
   "metadata": {},
   "outputs": [
    {
     "name": "stdout",
     "output_type": "stream",
     "text": [
      "2\n"
     ]
    }
   ],
   "source": [
    "pred3N = bash_model3N(input)\n",
    "pred_dev3N = []\n",
    "for i in range(labels.shape[0]):\n",
    "    if torch.sgn(pred3N[i][0])  != torch.sgn(labels[i][0]):\n",
    "        pred_dev3N.append(i)\n",
    "print(len(pred_dev3N))"
   ]
  },
  {
   "cell_type": "code",
   "execution_count": 227,
   "id": "4791eb1d",
   "metadata": {},
   "outputs": [
    {
     "name": "stdout",
     "output_type": "stream",
     "text": [
      "checkpoint directory created: ./model\n",
      "saving model version 0.0\n",
      "saving model version 0.1\n"
     ]
    }
   ],
   "source": [
    "nlayer = 3\n",
    "rebash_model3N = kan.KAN(width = [N] * nlayer + [1, 1])\n",
    "rebash_model3N(dataset['train_input'])\n",
    "tanh = lambda x : torch.tanh(x)\n",
    "rebash_model3N.fix_symbolic(nlayer, 0, 0, tanh)\n",
    "rebash_model3N.symbolic_fun[nlayer].affine = nn.Parameter(torch.tensor([[[1, 0, 1, 0]]], dtype=torch.float64), requires_grad=False)"
   ]
  },
  {
   "cell_type": "code",
   "execution_count": null,
   "id": "88edb9fc",
   "metadata": {},
   "outputs": [
    {
     "name": "stderr",
     "output_type": "stream",
     "text": [
      "| train_loss: 8.59e-03 | test_loss: 8.59e-03 | reg: 2.43e+01 | : 100%|█| 25/25 [00:31<00:00,  1.27s/"
     ]
    },
    {
     "name": "stdout",
     "output_type": "stream",
     "text": [
      "saving model version 0.2\n"
     ]
    },
    {
     "name": "stderr",
     "output_type": "stream",
     "text": [
      "\n"
     ]
    }
   ],
   "source": [
    "rebash_model3N.fit(dataset, steps=25, lamb=1e-4); # can get to 0 mistakes here (3e-3 loss) with 1e-5 lamb\n",
    "# 0 mistakes 6e-3 loss with 5e-5 lamb\n",
    "# 0 mistakes 9e-3 loss with 1e-4 lamb, took 2 tries though --> [[10, 0], [6, 0], [2, 0], [1, 0], [1, 0]] so far smallest structure"
   ]
  },
  {
   "cell_type": "code",
   "execution_count": 229,
   "id": "5344e63d",
   "metadata": {},
   "outputs": [
    {
     "name": "stdout",
     "output_type": "stream",
     "text": [
      "0\n"
     ]
    }
   ],
   "source": [
    "pred3N = rebash_model3N(input)\n",
    "pred_dev3N = []\n",
    "for i in range(labels.shape[0]):\n",
    "    if torch.sgn(pred3N[i][0])  != torch.sgn(labels[i][0]):\n",
    "        pred_dev3N.append(i)\n",
    "print(len(pred_dev3N))"
   ]
  },
  {
   "cell_type": "code",
   "execution_count": null,
   "id": "aa5a4ded",
   "metadata": {},
   "outputs": [
    {
     "name": "stdout",
     "output_type": "stream",
     "text": [
      "saving model version 0.3\n"
     ]
    },
    {
     "data": {
      "text/plain": [
       "[[10, 0], [6, 0], [2, 0], [1, 0], [1, 0]]"
      ]
     },
     "execution_count": 230,
     "metadata": {},
     "output_type": "execute_result"
    }
   ],
   "source": [
    "rebash_model3N.prune().width"
   ]
  },
  {
   "cell_type": "code",
   "execution_count": 231,
   "id": "e67ddc90",
   "metadata": {},
   "outputs": [
    {
     "name": "stdout",
     "output_type": "stream",
     "text": [
      "saving model version 0.3\n"
     ]
    },
    {
     "data": {
      "text/plain": [
       "tensor(0.8608, dtype=torch.float64, grad_fn=<SqrtBackward0>)"
      ]
     },
     "execution_count": 231,
     "metadata": {},
     "output_type": "execute_result"
    }
   ],
   "source": [
    "rebash_model3N = rebash_model3N.prune()\n",
    "# rebash_model3N.symbolic_fun[nlayer].affine = nn.Parameter(rebash_model3N.symbolic_fun[nlayer].affine.data, requires_grad=False)\n",
    "torch.sqrt(torch.mean((rebash_model3N(input) - labels) ** 2))"
   ]
  },
  {
   "cell_type": "code",
   "execution_count": 232,
   "id": "64548c92",
   "metadata": {},
   "outputs": [
    {
     "name": "stdout",
     "output_type": "stream",
     "text": [
      "52\n"
     ]
    }
   ],
   "source": [
    "pred3N = rebash_model3N(input)\n",
    "pred_dev3N = []\n",
    "for i in range(labels.shape[0]):\n",
    "    if torch.sgn(pred3N[i][0]) != torch.sgn(labels[i][0]):\n",
    "        pred_dev3N.append(i)\n",
    "print(len(pred_dev3N))"
   ]
  },
  {
   "cell_type": "code",
   "execution_count": 233,
   "id": "71bf1e7b",
   "metadata": {},
   "outputs": [
    {
     "name": "stderr",
     "output_type": "stream",
     "text": [
      "| train_loss: 1.99e-03 | test_loss: 1.99e-03 | reg: 1.86e+01 | : 100%|█| 30/30 [00:19<00:00,  1.58it"
     ]
    },
    {
     "name": "stdout",
     "output_type": "stream",
     "text": [
      "saving model version 0.4\n"
     ]
    },
    {
     "name": "stderr",
     "output_type": "stream",
     "text": [
      "\n"
     ]
    }
   ],
   "source": [
    "rebash_model3N.fit(dataset, steps=30, lamb=2e-5, update_grid=False); # can train to 0 mistakes here, but often must say update grid false to prevent naning"
   ]
  },
  {
   "cell_type": "code",
   "execution_count": 234,
   "id": "0111a01e",
   "metadata": {},
   "outputs": [
    {
     "name": "stdout",
     "output_type": "stream",
     "text": [
      "saving model version 0.5\n"
     ]
    },
    {
     "data": {
      "text/plain": [
       "[[10, 0], [3, 0], [1, 0], [1, 0], [1, 0]]"
      ]
     },
     "execution_count": 234,
     "metadata": {},
     "output_type": "execute_result"
    }
   ],
   "source": [
    "rebash_model3N.prune().width"
   ]
  },
  {
   "cell_type": "code",
   "execution_count": 235,
   "id": "1ced345b",
   "metadata": {},
   "outputs": [
    {
     "name": "stdout",
     "output_type": "stream",
     "text": [
      "saving model version 0.5\n"
     ]
    }
   ],
   "source": [
    "rebash_model3N = rebash_model3N.prune()"
   ]
  },
  {
   "cell_type": "code",
   "execution_count": 236,
   "id": "99ad3fb3",
   "metadata": {},
   "outputs": [
    {
     "data": {
      "text/plain": [
       "tensor(0.3398, dtype=torch.float64, grad_fn=<SqrtBackward0>)"
      ]
     },
     "execution_count": 236,
     "metadata": {},
     "output_type": "execute_result"
    }
   ],
   "source": [
    "torch.sqrt(torch.mean((rebash_model3N(input) - labels) ** 2))"
   ]
  },
  {
   "cell_type": "code",
   "execution_count": null,
   "id": "433e8ac4",
   "metadata": {},
   "outputs": [
    {
     "name": "stderr",
     "output_type": "stream",
     "text": [
      "| train_loss: 1.52e-03 | test_loss: 1.52e-03 | reg: 1.40e+01 | : 100%|█| 30/30 [00:11<00:00,  2.56it"
     ]
    },
    {
     "name": "stdout",
     "output_type": "stream",
     "text": [
      "saving model version 0.6\n"
     ]
    },
    {
     "name": "stderr",
     "output_type": "stream",
     "text": [
      "\n"
     ]
    }
   ],
   "source": [
    "rebash_model3N.fit(dataset, steps=30, lamb=1e-5, update_grid=False); "
   ]
  },
  {
   "cell_type": "code",
   "execution_count": 240,
   "id": "a9f4ce0e",
   "metadata": {},
   "outputs": [
    {
     "name": "stdout",
     "output_type": "stream",
     "text": [
      "0\n"
     ]
    }
   ],
   "source": [
    "pred3N = rebash_model3N(input)\n",
    "pred_dev3N = []\n",
    "for i in range(labels.shape[0]):\n",
    "    if torch.sgn(pred3N[i][0]) != torch.sgn(labels[i][0]):\n",
    "        pred_dev3N.append(i)\n",
    "print(len(pred_dev3N))"
   ]
  },
  {
   "cell_type": "code",
   "execution_count": 238,
   "id": "53b2d3a1",
   "metadata": {},
   "outputs": [
    {
     "data": {
      "text/plain": [
       "[[10, 0], [3, 0], [1, 0], [1, 0], [1, 0]]"
      ]
     },
     "execution_count": 238,
     "metadata": {},
     "output_type": "execute_result"
    }
   ],
   "source": [
    "rebash_model3N.width"
   ]
  },
  {
   "cell_type": "code",
   "execution_count": 245,
   "id": "a63616de",
   "metadata": {},
   "outputs": [],
   "source": [
    "rebash_model3N.saveckpt('model_files/best_bash_model_10_3_1_1_1')"
   ]
  },
  {
   "cell_type": "code",
   "execution_count": 241,
   "id": "3b09655d",
   "metadata": {},
   "outputs": [
    {
     "data": {
      "image/png": "[encoded data removed]",
      "text/plain": [
       "<Figure size 500x800 with 42 Axes>"
      ]
     },
     "metadata": {},
     "output_type": "display_data"
    }
   ],
   "source": [
    "rebash_model3N.plot()"
   ]
  },
  {
   "cell_type": "code",
   "execution_count": 247,
   "id": "320df4ad",
   "metadata": {},
   "outputs": [
    {
     "name": "stdout",
     "output_type": "stream",
     "text": [
      "saving model version 0.7\n"
     ]
    },
    {
     "data": {
      "text/plain": [
       "[[10, 0], [3, 0], [1, 0], [1, 0], [1, 0]]"
      ]
     },
     "execution_count": 247,
     "metadata": {},
     "output_type": "execute_result"
    }
   ],
   "source": [
    "rebash_model3N.prune().width"
   ]
  },
  {
   "cell_type": "code",
   "execution_count": 248,
   "id": "873d2d29",
   "metadata": {},
   "outputs": [
    {
     "name": "stderr",
     "output_type": "stream",
     "text": [
      "| train_loss: 1.87e-03 | test_loss: 1.87e-03 | reg: 1.35e+01 | : 100%|█| 30/30 [00:12<00:00,  2.46it"
     ]
    },
    {
     "name": "stdout",
     "output_type": "stream",
     "text": [
      "saving model version 0.7\n"
     ]
    },
    {
     "name": "stderr",
     "output_type": "stream",
     "text": [
      "\n"
     ]
    }
   ],
   "source": [
    "rebash_model3N.fit(dataset, steps=30, lamb=2e-5, update_grid=False); "
   ]
  },
  {
   "cell_type": "code",
   "execution_count": 249,
   "id": "ec04e5f5",
   "metadata": {},
   "outputs": [
    {
     "name": "stdout",
     "output_type": "stream",
     "text": [
      "saving model version 0.8\n"
     ]
    },
    {
     "data": {
      "text/plain": [
       "[[10, 0], [3, 0], [1, 0], [1, 0], [1, 0]]"
      ]
     },
     "execution_count": 249,
     "metadata": {},
     "output_type": "execute_result"
    }
   ],
   "source": [
    "rebash_model3N.prune().width"
   ]
  },
  {
   "cell_type": "code",
   "execution_count": 250,
   "id": "8a0d6ac8",
   "metadata": {},
   "outputs": [
    {
     "name": "stderr",
     "output_type": "stream",
     "text": [
      "| train_loss: 3.44e-03 | test_loss: 3.44e-03 | reg: 1.29e+01 | : 100%|█| 30/30 [00:11<00:00,  2.60it"
     ]
    },
    {
     "name": "stdout",
     "output_type": "stream",
     "text": [
      "saving model version 0.8\n"
     ]
    },
    {
     "name": "stderr",
     "output_type": "stream",
     "text": [
      "\n"
     ]
    }
   ],
   "source": [
    "rebash_model3N.fit(dataset, steps=30, lamb=5e-5, update_grid=False); "
   ]
  },
  {
   "cell_type": "code",
   "execution_count": 251,
   "id": "b9995afe",
   "metadata": {},
   "outputs": [
    {
     "name": "stdout",
     "output_type": "stream",
     "text": [
      "saving model version 0.9\n"
     ]
    },
    {
     "data": {
      "text/plain": [
       "[[10, 0], [3, 0], [1, 0], [1, 0], [1, 0]]"
      ]
     },
     "execution_count": 251,
     "metadata": {},
     "output_type": "execute_result"
    }
   ],
   "source": [
    "rebash_model3N.prune().width"
   ]
  },
  {
   "cell_type": "code",
   "execution_count": 252,
   "id": "61df6e26",
   "metadata": {},
   "outputs": [
    {
     "name": "stderr",
     "output_type": "stream",
     "text": [
      "| train_loss: 3.75e-03 | test_loss: 3.75e-03 | reg: 1.24e+01 | : 100%|█| 30/30 [00:11<00:00,  2.51it"
     ]
    },
    {
     "name": "stdout",
     "output_type": "stream",
     "text": [
      "saving model version 0.9\n"
     ]
    },
    {
     "name": "stderr",
     "output_type": "stream",
     "text": [
      "\n"
     ]
    }
   ],
   "source": [
    "rebash_model3N.fit(dataset, steps=30, lamb=7.5e-5, update_grid=False); "
   ]
  },
  {
   "cell_type": "code",
   "execution_count": 253,
   "id": "dacee9ec",
   "metadata": {},
   "outputs": [
    {
     "name": "stdout",
     "output_type": "stream",
     "text": [
      "saving model version 0.10\n"
     ]
    },
    {
     "data": {
      "text/plain": [
       "[[10, 0], [3, 0], [1, 0], [1, 0], [1, 0]]"
      ]
     },
     "execution_count": 253,
     "metadata": {},
     "output_type": "execute_result"
    }
   ],
   "source": [
    "rebash_model3N.prune().width"
   ]
  },
  {
   "cell_type": "code",
   "execution_count": 254,
   "id": "b450a0bc",
   "metadata": {},
   "outputs": [
    {
     "name": "stderr",
     "output_type": "stream",
     "text": [
      "| train_loss: 6.20e-03 | test_loss: 6.20e-03 | reg: 1.19e+01 | : 100%|█| 30/30 [00:12<00:00,  2.49it"
     ]
    },
    {
     "name": "stdout",
     "output_type": "stream",
     "text": [
      "saving model version 0.10\n"
     ]
    },
    {
     "name": "stderr",
     "output_type": "stream",
     "text": [
      "\n"
     ]
    }
   ],
   "source": [
    "rebash_model3N.fit(dataset, steps=30, lamb=1e-4, update_grid=False); "
   ]
  },
  {
   "cell_type": "code",
   "execution_count": 255,
   "id": "aec07454",
   "metadata": {},
   "outputs": [
    {
     "name": "stdout",
     "output_type": "stream",
     "text": [
      "saving model version 0.11\n"
     ]
    },
    {
     "data": {
      "text/plain": [
       "[[10, 0], [2, 0], [1, 0], [1, 0], [1, 0]]"
      ]
     },
     "execution_count": 255,
     "metadata": {},
     "output_type": "execute_result"
    }
   ],
   "source": [
    "rebash_model3N.prune().width"
   ]
  },
  {
   "cell_type": "code",
   "execution_count": 256,
   "id": "d91dcc08",
   "metadata": {},
   "outputs": [
    {
     "name": "stdout",
     "output_type": "stream",
     "text": [
      "saving model version 0.11\n"
     ]
    }
   ],
   "source": [
    "rebash_model3N = rebash_model3N.prune()"
   ]
  },
  {
   "cell_type": "code",
   "execution_count": 257,
   "id": "f83a73a8",
   "metadata": {},
   "outputs": [
    {
     "name": "stderr",
     "output_type": "stream",
     "text": [
      "| train_loss: 1.48e-03 | test_loss: 1.48e-03 | reg: 1.34e+01 | : 100%|█| 30/30 [00:10<00:00,  2.94it"
     ]
    },
    {
     "name": "stdout",
     "output_type": "stream",
     "text": [
      "saving model version 0.12\n"
     ]
    },
    {
     "name": "stderr",
     "output_type": "stream",
     "text": [
      "\n"
     ]
    }
   ],
   "source": [
    "rebash_model3N.fit(dataset, steps=30, lamb=1e-5, update_grid=False); "
   ]
  },
  {
   "cell_type": "code",
   "execution_count": 258,
   "id": "c8684861",
   "metadata": {},
   "outputs": [
    {
     "name": "stdout",
     "output_type": "stream",
     "text": [
      "saving model version 0.13\n"
     ]
    },
    {
     "data": {
      "text/plain": [
       "[[10, 0], [2, 0], [1, 0], [1, 0], [1, 0]]"
      ]
     },
     "execution_count": 258,
     "metadata": {},
     "output_type": "execute_result"
    }
   ],
   "source": [
    "rebash_model3N.prune().width"
   ]
  },
  {
   "cell_type": "code",
   "execution_count": 259,
   "id": "0a5d2963",
   "metadata": {},
   "outputs": [],
   "source": [
    "rebash_model3N.saveckpt('model_files/bash_model_10_2_1_1_1')"
   ]
  },
  {
   "cell_type": "code",
   "execution_count": 260,
   "id": "c018cee8",
   "metadata": {},
   "outputs": [
    {
     "name": "stderr",
     "output_type": "stream",
     "text": [
      "| train_loss: 4.55e-03 | test_loss: 4.55e-03 | reg: 1.27e+01 | : 100%|█| 30/30 [00:09<00:00,  3.05it"
     ]
    },
    {
     "name": "stdout",
     "output_type": "stream",
     "text": [
      "saving model version 0.13\n"
     ]
    },
    {
     "name": "stderr",
     "output_type": "stream",
     "text": [
      "\n"
     ]
    }
   ],
   "source": [
    "rebash_model3N.fit(dataset, steps=30, lamb=1e-4, update_grid=False); "
   ]
  },
  {
   "cell_type": "code",
   "execution_count": 261,
   "id": "46ec8cee",
   "metadata": {},
   "outputs": [
    {
     "name": "stdout",
     "output_type": "stream",
     "text": [
      "saving model version 0.14\n"
     ]
    },
    {
     "data": {
      "text/plain": [
       "[[10, 0], [2, 0], [1, 0], [1, 0], [1, 0]]"
      ]
     },
     "execution_count": 261,
     "metadata": {},
     "output_type": "execute_result"
    }
   ],
   "source": [
    "rebash_model3N.prune().width"
   ]
  },
  {
   "cell_type": "code",
   "execution_count": 262,
   "id": "c33422dc",
   "metadata": {},
   "outputs": [
    {
     "name": "stderr",
     "output_type": "stream",
     "text": [
      "| train_loss: 7.53e-03 | test_loss: 7.53e-03 | reg: 1.21e+01 | : 100%|█| 30/30 [00:10<00:00,  2.96it"
     ]
    },
    {
     "name": "stdout",
     "output_type": "stream",
     "text": [
      "saving model version 0.14\n"
     ]
    },
    {
     "name": "stderr",
     "output_type": "stream",
     "text": [
      "\n"
     ]
    }
   ],
   "source": [
    "rebash_model3N.fit(dataset, steps=30, lamb=2e-4, update_grid=False); "
   ]
  },
  {
   "cell_type": "code",
   "execution_count": 263,
   "id": "9228fe80",
   "metadata": {},
   "outputs": [
    {
     "name": "stdout",
     "output_type": "stream",
     "text": [
      "saving model version 0.15\n"
     ]
    },
    {
     "data": {
      "text/plain": [
       "[[10, 0], [2, 0], [1, 0], [1, 0], [1, 0]]"
      ]
     },
     "execution_count": 263,
     "metadata": {},
     "output_type": "execute_result"
    }
   ],
   "source": [
    "rebash_model3N.prune().width"
   ]
  },
  {
   "cell_type": "code",
   "execution_count": 264,
   "id": "173c9aaf",
   "metadata": {},
   "outputs": [
    {
     "name": "stderr",
     "output_type": "stream",
     "text": [
      "| train_loss: 7.89e-03 | test_loss: 7.89e-03 | reg: 1.20e+01 | : 100%|█| 30/30 [00:10<00:00,  2.91it"
     ]
    },
    {
     "name": "stdout",
     "output_type": "stream",
     "text": [
      "saving model version 0.15\n"
     ]
    },
    {
     "name": "stderr",
     "output_type": "stream",
     "text": [
      "\n"
     ]
    }
   ],
   "source": [
    "rebash_model3N.fit(dataset, steps=30, lamb=4e-4, update_grid=False); "
   ]
  },
  {
   "cell_type": "code",
   "execution_count": 265,
   "id": "23409847",
   "metadata": {},
   "outputs": [
    {
     "name": "stderr",
     "output_type": "stream",
     "text": [
      "| train_loss: 1.07e-02 | test_loss: 1.07e-02 | reg: 1.18e+01 | : 100%|█| 30/30 [00:10<00:00,  2.82it"
     ]
    },
    {
     "name": "stdout",
     "output_type": "stream",
     "text": [
      "saving model version 0.16\n"
     ]
    },
    {
     "name": "stderr",
     "output_type": "stream",
     "text": [
      "\n"
     ]
    }
   ],
   "source": [
    "rebash_model3N.fit(dataset, steps=30, lamb=8e-4, update_grid=False); "
   ]
  },
  {
   "cell_type": "code",
   "execution_count": 266,
   "id": "cee15658",
   "metadata": {},
   "outputs": [
    {
     "name": "stdout",
     "output_type": "stream",
     "text": [
      "saving model version 0.17\n"
     ]
    },
    {
     "data": {
      "text/plain": [
       "[[10, 0], [2, 0], [1, 0], [1, 0], [1, 0]]"
      ]
     },
     "execution_count": 266,
     "metadata": {},
     "output_type": "execute_result"
    }
   ],
   "source": [
    "rebash_model3N.prune().width"
   ]
  },
  {
   "cell_type": "code",
   "execution_count": 267,
   "id": "b439320e",
   "metadata": {},
   "outputs": [
    {
     "name": "stderr",
     "output_type": "stream",
     "text": [
      "| train_loss: 9.91e-03 | test_loss: 9.91e-03 | reg: 1.15e+01 | : 100%|█| 30/30 [00:09<00:00,  3.03it"
     ]
    },
    {
     "name": "stdout",
     "output_type": "stream",
     "text": [
      "saving model version 0.17\n"
     ]
    },
    {
     "name": "stderr",
     "output_type": "stream",
     "text": [
      "\n"
     ]
    }
   ],
   "source": [
    "rebash_model3N.fit(dataset, steps=30, lamb=1e-3, update_grid=False); "
   ]
  },
  {
   "cell_type": "code",
   "execution_count": 268,
   "id": "0419f4cb",
   "metadata": {},
   "outputs": [
    {
     "name": "stdout",
     "output_type": "stream",
     "text": [
      "saving model version 0.18\n"
     ]
    },
    {
     "data": {
      "text/plain": [
       "[[10, 0], [2, 0], [1, 0], [1, 0], [1, 0]]"
      ]
     },
     "execution_count": 268,
     "metadata": {},
     "output_type": "execute_result"
    }
   ],
   "source": [
    "rebash_model3N.prune().width"
   ]
  },
  {
   "cell_type": "code",
   "execution_count": 269,
   "id": "248f52b0",
   "metadata": {},
   "outputs": [
    {
     "name": "stderr",
     "output_type": "stream",
     "text": [
      "| train_loss: 1.72e-02 | test_loss: 1.72e-02 | reg: 1.12e+01 | : 100%|█| 30/30 [00:10<00:00,  2.92it"
     ]
    },
    {
     "name": "stdout",
     "output_type": "stream",
     "text": [
      "saving model version 0.18\n"
     ]
    },
    {
     "name": "stderr",
     "output_type": "stream",
     "text": [
      "\n"
     ]
    }
   ],
   "source": [
    "rebash_model3N.fit(dataset, steps=30, lamb=2e-3, update_grid=False); "
   ]
  },
  {
   "cell_type": "code",
   "execution_count": 270,
   "id": "ca91567e",
   "metadata": {},
   "outputs": [
    {
     "name": "stdout",
     "output_type": "stream",
     "text": [
      "saving model version 0.19\n"
     ]
    },
    {
     "data": {
      "text/plain": [
       "[[10, 0], [2, 0], [1, 0], [1, 0], [1, 0]]"
      ]
     },
     "execution_count": 270,
     "metadata": {},
     "output_type": "execute_result"
    }
   ],
   "source": [
    "rebash_model3N.prune().width"
   ]
  },
  {
   "cell_type": "code",
   "execution_count": 271,
   "id": "b6211e1a",
   "metadata": {},
   "outputs": [
    {
     "name": "stderr",
     "output_type": "stream",
     "text": [
      "| train_loss: 2.29e-02 | test_loss: 2.29e-02 | reg: 1.11e+01 | : 100%|█| 30/30 [00:05<00:00,  5.45it"
     ]
    },
    {
     "name": "stdout",
     "output_type": "stream",
     "text": [
      "saving model version 0.19\n"
     ]
    },
    {
     "name": "stderr",
     "output_type": "stream",
     "text": [
      "\n"
     ]
    }
   ],
   "source": [
    "rebash_model3N.fit(dataset, steps=30, lamb=4e-3, update_grid=False); "
   ]
  },
  {
   "cell_type": "code",
   "execution_count": 272,
   "id": "65d435b1",
   "metadata": {},
   "outputs": [
    {
     "name": "stdout",
     "output_type": "stream",
     "text": [
      "saving model version 0.20\n"
     ]
    },
    {
     "data": {
      "text/plain": [
       "[[10, 0], [2, 0], [1, 0], [1, 0], [1, 0]]"
      ]
     },
     "execution_count": 272,
     "metadata": {},
     "output_type": "execute_result"
    }
   ],
   "source": [
    "rebash_model3N.prune().width"
   ]
  },
  {
   "cell_type": "code",
   "execution_count": null,
   "id": "eb206d5e",
   "metadata": {},
   "outputs": [],
   "source": []
  }
 ],
 "metadata": {
  "kernelspec": {
   "display_name": "kans",
   "language": "python",
   "name": "python3"
  },
  "language_info": {
   "name": "python",
   "version": "3.12.5"
  }
 },
 "nbformat": 4,
 "nbformat_minor": 5
}
